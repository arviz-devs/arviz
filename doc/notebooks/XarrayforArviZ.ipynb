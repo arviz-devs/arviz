{
 "cells": [
  {
   "cell_type": "markdown",
   "metadata": {},
   "source": [
    "# Introduction to xarray, InferenceData, and NetCDF for ArviZ"
   ]
  },
  {
   "cell_type": "markdown",
   "metadata": {},
   "source": [
    "While ArviZ supports plotting from familiar datatypes, such as dictionaries and numpy arrays, there are a couple data structures central to ArviZ that are useful to know when using the library. \n",
    "\n",
    "They are  \n",
    "\n",
    "<ul>\n",
    "  <!-- HTML Table to allow proper rendering in sphinx -->\n",
    "  <li>xarray.Dataset</li>\n",
    "  <li>arviz.InferenceData</li>\n",
    "  <li>netCDF</li>\n",
    "</ul> \n",
    "\n",
    "\n",
    "## Why more than one data structure?\n",
    "Bayesian Inference generates numerous datasets that represent different aspects of the model. For example in a single analysis a Bayesian practioner could end up with any of the following data.\n",
    "\n",
    "\n",
    "\n",
    "<ul>\n",
    "  <!-- HTML Table to allow proper rendering in sphinx -->\n",
    "  <li>Prior Distribution for N number of variables</li>\n",
    "  <li>Posterior Distribution for N number of variables</li>\n",
    "  <li>Prior Predictive Distribution</li>\n",
    "  <li>Posterior Predictive Distribution</li>\n",
    "  <li>Trace data for each of the above</li>\n",
    "  <li>Sample statistics for each inference run</li>\n",
    "  <li>Any other array like data source</li>\n",
    "\n",
    "</ul> \n",
    "\n",
    "\n",
    "## Why not Pandas Dataframes or Numpy Arrays?\n",
    "Data from probabilistic programming is naturally high dimensional. To add to the complexity ArviZ must handle the data generated from multiple Bayesian Modeling libraries, such as PyMC3 and PyStan. This is an application that the *xarray* package handles quite well. The xarray package lets users manage high dimensional data with human readable dimensions and coordinates quite easily.\n",
    "\n",
    "![InferenceData Structure](InferenceDataStructure.png)  \n",
    "\n",
    "Above is a visual representation of the data structures and their relationships. Although seemingly more complex at a glance the ArviZ devs believe that the usage of *xarray*, *InferenceData*, and *NetCDF* will simplify the handling, referencing, and serialization of data generated during Bayesian analysis.  \n",
    "\n"
   ]
  },
  {
   "cell_type": "markdown",
   "metadata": {},
   "source": [
    "## An introduction to each\n",
    "To help get familiar with each, ArviZ includes some toy datasets. To start an `az.InferenceData` sample can be loaded from disk."
   ]
  },
  {
   "cell_type": "code",
   "execution_count": 1,
   "metadata": {},
   "outputs": [
    {
     "data": {
      "text/plain": [
       "Inference data with groups:\n",
       "\t> posterior\n",
       "\t> sample_stats\n",
       "\t> posterior_predictive\n",
       "\t> prior\n",
       "\t> observed_data"
      ]
     },
     "execution_count": 1,
     "metadata": {},
     "output_type": "execute_result"
    }
   ],
   "source": [
    "# Load the centered eight schools model\n",
    "import arviz as az\n",
    "data = az.load_arviz_data('centered_eight')\n",
    "data"
   ]
  },
  {
   "cell_type": "markdown",
   "metadata": {},
   "source": [
    "In this case the `az.InferenceData` object contains both a posterior predictive distribution and the observed data, among other datasets. Each group in InferenceData is both an attribute on `InferenceData` and itself a `xarray.Dataset` object. "
   ]
  },
  {
   "cell_type": "code",
   "execution_count": 2,
   "metadata": {},
   "outputs": [
    {
     "data": {
      "text/plain": [
       "<xarray.Dataset>\n",
       "Dimensions:  (chain: 4, draw: 500, school: 8)\n",
       "Coordinates:\n",
       "  * chain    (chain) int64 0 1 2 3\n",
       "  * draw     (draw) int64 0 1 2 3 4 5 6 7 8 ... 492 493 494 495 496 497 498 499\n",
       "  * school   (school) object 'Choate' 'Deerfield' ... \"St. Paul's\" 'Mt. Hermon'\n",
       "Data variables:\n",
       "    mu       (chain, draw) float64 ...\n",
       "    theta    (chain, draw, school) float64 ...\n",
       "    tau      (chain, draw) float64 ...\n",
       "Attributes:\n",
       "    created_at:                 2018-10-03T14:26:54.822913\n",
       "    inference_library:          pymc3\n",
       "    inference_library_version:  3.5"
      ]
     },
     "execution_count": 2,
     "metadata": {},
     "output_type": "execute_result"
    }
   ],
   "source": [
    "# Get the posterior Dataset\n",
    "posterior = data.posterior\n",
    "posterior"
   ]
  },
  {
   "cell_type": "markdown",
   "metadata": {},
   "source": [
    "In our eight schools example the posterior trace consists of 3 variables, estimated over 4 chains. In addition this model is a hierachial modes where values for the variable `theta` are associated with a particular school. \n",
    "\n",
    "In xarray's terminology, data variables are the actual values generated from the MCMC draws, Dimensions are the axes on which refer to the data variables and coordinates which are pointers to specific slices or points in the `xarray.Dataset`\n",
    "\n",
    "Observed data from the Eight Schools model can be accessed through the same method."
   ]
  },
  {
   "cell_type": "code",
   "execution_count": 3,
   "metadata": {},
   "outputs": [
    {
     "data": {
      "text/plain": [
       "<xarray.Dataset>\n",
       "Dimensions:  (school: 8)\n",
       "Coordinates:\n",
       "  * school   (school) object 'Choate' 'Deerfield' ... \"St. Paul's\" 'Mt. Hermon'\n",
       "Data variables:\n",
       "    obs      (school) float64 ...\n",
       "Attributes:\n",
       "    created_at:                 2018-10-03T14:26:54.989406\n",
       "    inference_library:          pymc3\n",
       "    inference_library_version:  3.5"
      ]
     },
     "execution_count": 3,
     "metadata": {},
     "output_type": "execute_result"
    }
   ],
   "source": [
    "# Get the observed xarray\n",
    "observed_data = data.observed_data\n",
    "observed_data"
   ]
  },
  {
   "cell_type": "markdown",
   "metadata": {},
   "source": [
    "It should be noted that the observed dataset contains only 8 data variables and doesn't have a chain and draw dimension or coordinates unlike posterior. This difference in sizes is the motivating reason behind *InferenceData*. Rather than force multiple different sized arrays into one array, or have users to manage multiple objects corresponding to different datasets, it is easier to hold references to each *xarray.Dataset* in an *InferenceData* object."
   ]
  },
  {
   "cell_type": "markdown",
   "metadata": {},
   "source": [
    "## NetCDF\n",
    "[NetCDF](https://www.unidata.ucar.edu/software/netcdf/) is a standard for referencing array oriented files. In other words while, *xarray.Dataset*s, and by extension *InferenceData*, are convenient for accessing arrays in Python memory, *NetCDF* provides a convenient mechanism for persistence of model data on disk. In fact the NetCDF dataset was the inspiration for *InferenceData* as NetCDF4 supports the concept of groups. *InferenceData* merely wraps xarray.Dataset with the same functionality,\n",
    "\n",
    "Most users will not have to concern themselves with the *NetCDF* standard but for completeness it is good to make its usage transparent. It is also worth noting that the NetCDF4 file standard is interoperable with HDF5 which may be familiar from other contexts.\n",
    "\n",
    "Earlier in this tutorial *InferenceData* was loaded from a *NetCDF* file"
   ]
  },
  {
   "cell_type": "code",
   "execution_count": 4,
   "metadata": {},
   "outputs": [],
   "source": [
    "data = az.load_arviz_data('centered_eight')"
   ]
  },
  {
   "cell_type": "markdown",
   "metadata": {},
   "source": [
    "Similarly the *InferenceData* objects can be persisted tp disk in the NetCDF format"
   ]
  },
  {
   "cell_type": "code",
   "execution_count": 5,
   "metadata": {},
   "outputs": [
    {
     "data": {
      "text/plain": [
       "'eight_schools_model.nc'"
      ]
     },
     "execution_count": 5,
     "metadata": {},
     "output_type": "execute_result"
    }
   ],
   "source": [
    "data.to_netcdf(\"eight_schools_model.nc\")"
   ]
  },
  {
   "cell_type": "markdown",
   "metadata": {},
   "source": [
    "# Additional Reading\n",
    "Additional documentation and tutorials exist for xarray and netcdf4.\n",
    "\n",
    "## xarray\n",
    "* [xarray documentation](http://xarray.pydata.org/en/stable/why-xarray.html)\n",
    "* [xarray lightning talk at scipy 2015](https://www.youtube.com/watch?v=X0pAhJgySxk&t=949s)\n",
    "\n",
    "## NetCDF\n",
    "* [NetCDF documentation](http://unidata.github.io/netcdf4-python/)\n",
    "* [NetCDF usage in xarray](http://xarray.pydata.org/en/stable/io.html#netcdf)\n",
    "* [NetCDF interoperability with HDF5](https://www.unidata.ucar.edu/software/netcdf/docs/interoperability_hdf5.html)\n"
   ]
  }
 ],
 "metadata": {
  "kernelspec": {
   "display_name": "Python 3",
   "language": "python",
   "name": "python3"
  },
  "language_info": {
   "codemirror_mode": {
    "name": "ipython",
    "version": 3
   },
   "file_extension": ".py",
   "mimetype": "text/x-python",
   "name": "python",
   "nbconvert_exporter": "python",
   "pygments_lexer": "ipython3",
   "version": "3.5.6"
  }
 },
 "nbformat": 4,
 "nbformat_minor": 2
}
