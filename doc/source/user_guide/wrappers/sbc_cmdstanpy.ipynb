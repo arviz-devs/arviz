{
 "cells": [
  {
   "cell_type": "markdown",
   "id": "9aa3457b",
   "metadata": {},
   "source": [
    "(sbd_cmdstanpy)=\n",
    "# Simulated Bayes Calibration with CmdStanPy\n",
    "\n",
    "Uses toy model from {ref}`pystan_schema`."
   ]
  },
  {
   "cell_type": "code",
   "execution_count": 1,
   "id": "9fcd294a",
   "metadata": {},
   "outputs": [],
   "source": [
    "from cmdstanpy import CmdStanModel, write_stan_json\n",
    "\n",
    "import arviz as az\n",
    "import pandas as pd\n",
    "import numpy as np\n",
    "import xarray as xr"
   ]
  },
  {
   "cell_type": "code",
   "execution_count": 2,
   "id": "8eabcb3a",
   "metadata": {},
   "outputs": [],
   "source": [
    "# read data\n",
    "data = pd.read_csv(\"../../schema/linear_regression_data.csv\", index_col=0)\n",
    "time_since_joined = data.time.values\n",
    "slack_comments = data.comments.values\n",
    "github_commits = data.commits.values\n",
    "names = data.index.values\n",
    "N = len(names)"
   ]
  },
  {
   "cell_type": "code",
   "execution_count": 3,
   "id": "77f8fe93",
   "metadata": {},
   "outputs": [],
   "source": [
    "prior_model = CmdStanModel(stan_file=\"linreg_prior.stan\")"
   ]
  },
  {
   "cell_type": "code",
   "execution_count": 4,
   "id": "9f03ac1c",
   "metadata": {},
   "outputs": [
    {
     "name": "stderr",
     "output_type": "stream",
     "text": [
      "03:19:07 - cmdstanpy - INFO - CmdStan start processing\n"
     ]
    },
    {
     "data": {
      "application/vnd.jupyter.widget-view+json": {
       "model_id": "a088626d826d498687b5c9291161c6ec",
       "version_major": 2,
       "version_minor": 0
      },
      "text/plain": [
       "chain 1 |          | 00:00 Status"
      ]
     },
     "metadata": {},
     "output_type": "display_data"
    },
    {
     "data": {
      "application/vnd.jupyter.widget-view+json": {
       "model_id": "5900124ea1e849c6851e6d1b8c41fd63",
       "version_major": 2,
       "version_minor": 0
      },
      "text/plain": [
       "chain 2 |          | 00:00 Status"
      ]
     },
     "metadata": {},
     "output_type": "display_data"
    },
    {
     "name": "stdout",
     "output_type": "stream",
     "text": [
      "                                                                                                                                                                "
     ]
    },
    {
     "name": "stderr",
     "output_type": "stream",
     "text": [
      "03:19:07 - cmdstanpy - INFO - CmdStan done processing.\n"
     ]
    },
    {
     "name": "stdout",
     "output_type": "stream",
     "text": [
      "\n"
     ]
    }
   ],
   "source": [
    "linreg_prior_data_dict = {\"N\": N, \"time_since_joined\": time_since_joined}\n",
    "write_stan_json(\"linreg_prior.data.json\", linreg_prior_data_dict)\n",
    "prior_fit = prior_model.sample(data=\"linreg_prior.data.json\", chains=2, iter_sampling=100)"
   ]
  },
  {
   "cell_type": "code",
   "execution_count": 5,
   "id": "f71c41dc",
   "metadata": {},
   "outputs": [
    {
     "data": {
      "text/html": [
       "\n",
       "            <div>\n",
       "              <div class='xr-header'>\n",
       "                <div class=\"xr-obj-type\">arviz.InferenceData</div>\n",
       "              </div>\n",
       "              <ul class=\"xr-sections group-sections\">\n",
       "              \n",
       "            <li class = \"xr-section-item\">\n",
       "                  <input id=\"idata_prior45c3814d-c97c-43a8-9d19-c7b846072606\" class=\"xr-section-summary-in\" type=\"checkbox\">\n",
       "                  <label for=\"idata_prior45c3814d-c97c-43a8-9d19-c7b846072606\" class = \"xr-section-summary\">prior</label>\n",
       "                  <div class=\"xr-section-inline-details\"></div>\n",
       "                  <div class=\"xr-section-details\">\n",
       "                      <ul id=\"xr-dataset-coord-list\" class=\"xr-var-list\">\n",
       "                          <div style=\"padding-left:2rem;\"><div><svg style=\"position: absolute; width: 0; height: 0; overflow: hidden\">\n",
       "<defs>\n",
       "<symbol id=\"icon-database\" viewBox=\"0 0 32 32\">\n",
       "<path d=\"M16 0c-8.837 0-16 2.239-16 5v4c0 2.761 7.163 5 16 5s16-2.239 16-5v-4c0-2.761-7.163-5-16-5z\"></path>\n",
       "<path d=\"M16 17c-8.837 0-16-2.239-16-5v6c0 2.761 7.163 5 16 5s16-2.239 16-5v-6c0 2.761-7.163 5-16 5z\"></path>\n",
       "<path d=\"M16 26c-8.837 0-16-2.239-16-5v6c0 2.761 7.163 5 16 5s16-2.239 16-5v-6c0 2.761-7.163 5-16 5z\"></path>\n",
       "</symbol>\n",
       "<symbol id=\"icon-file-text2\" viewBox=\"0 0 32 32\">\n",
       "<path d=\"M28.681 7.159c-0.694-0.947-1.662-2.053-2.724-3.116s-2.169-2.030-3.116-2.724c-1.612-1.182-2.393-1.319-2.841-1.319h-15.5c-1.378 0-2.5 1.121-2.5 2.5v27c0 1.378 1.122 2.5 2.5 2.5h23c1.378 0 2.5-1.122 2.5-2.5v-19.5c0-0.448-0.137-1.23-1.319-2.841zM24.543 5.457c0.959 0.959 1.712 1.825 2.268 2.543h-4.811v-4.811c0.718 0.556 1.584 1.309 2.543 2.268zM28 29.5c0 0.271-0.229 0.5-0.5 0.5h-23c-0.271 0-0.5-0.229-0.5-0.5v-27c0-0.271 0.229-0.5 0.5-0.5 0 0 15.499-0 15.5 0v7c0 0.552 0.448 1 1 1h7v19.5z\"></path>\n",
       "<path d=\"M23 26h-14c-0.552 0-1-0.448-1-1s0.448-1 1-1h14c0.552 0 1 0.448 1 1s-0.448 1-1 1z\"></path>\n",
       "<path d=\"M23 22h-14c-0.552 0-1-0.448-1-1s0.448-1 1-1h14c0.552 0 1 0.448 1 1s-0.448 1-1 1z\"></path>\n",
       "<path d=\"M23 18h-14c-0.552 0-1-0.448-1-1s0.448-1 1-1h14c0.552 0 1 0.448 1 1s-0.448 1-1 1z\"></path>\n",
       "</symbol>\n",
       "</defs>\n",
       "</svg>\n",
       "<style>/* CSS stylesheet for displaying xarray objects in jupyterlab.\n",
       " *\n",
       " */\n",
       "\n",
       ":root {\n",
       "  --xr-font-color0: var(--jp-content-font-color0, rgba(0, 0, 0, 1));\n",
       "  --xr-font-color2: var(--jp-content-font-color2, rgba(0, 0, 0, 0.54));\n",
       "  --xr-font-color3: var(--jp-content-font-color3, rgba(0, 0, 0, 0.38));\n",
       "  --xr-border-color: var(--jp-border-color2, #e0e0e0);\n",
       "  --xr-disabled-color: var(--jp-layout-color3, #bdbdbd);\n",
       "  --xr-background-color: var(--jp-layout-color0, white);\n",
       "  --xr-background-color-row-even: var(--jp-layout-color1, white);\n",
       "  --xr-background-color-row-odd: var(--jp-layout-color2, #eeeeee);\n",
       "}\n",
       "\n",
       "html[theme=dark],\n",
       "body[data-theme=dark],\n",
       "body.vscode-dark {\n",
       "  --xr-font-color0: rgba(255, 255, 255, 1);\n",
       "  --xr-font-color2: rgba(255, 255, 255, 0.54);\n",
       "  --xr-font-color3: rgba(255, 255, 255, 0.38);\n",
       "  --xr-border-color: #1F1F1F;\n",
       "  --xr-disabled-color: #515151;\n",
       "  --xr-background-color: #111111;\n",
       "  --xr-background-color-row-even: #111111;\n",
       "  --xr-background-color-row-odd: #313131;\n",
       "}\n",
       "\n",
       ".xr-wrap {\n",
       "  display: block !important;\n",
       "  min-width: 300px;\n",
       "  max-width: 700px;\n",
       "}\n",
       "\n",
       ".xr-text-repr-fallback {\n",
       "  /* fallback to plain text repr when CSS is not injected (untrusted notebook) */\n",
       "  display: none;\n",
       "}\n",
       "\n",
       ".xr-header {\n",
       "  padding-top: 6px;\n",
       "  padding-bottom: 6px;\n",
       "  margin-bottom: 4px;\n",
       "  border-bottom: solid 1px var(--xr-border-color);\n",
       "}\n",
       "\n",
       ".xr-header > div,\n",
       ".xr-header > ul {\n",
       "  display: inline;\n",
       "  margin-top: 0;\n",
       "  margin-bottom: 0;\n",
       "}\n",
       "\n",
       ".xr-obj-type,\n",
       ".xr-array-name {\n",
       "  margin-left: 2px;\n",
       "  margin-right: 10px;\n",
       "}\n",
       "\n",
       ".xr-obj-type {\n",
       "  color: var(--xr-font-color2);\n",
       "}\n",
       "\n",
       ".xr-sections {\n",
       "  padding-left: 0 !important;\n",
       "  display: grid;\n",
       "  grid-template-columns: 150px auto auto 1fr 20px 20px;\n",
       "}\n",
       "\n",
       ".xr-section-item {\n",
       "  display: contents;\n",
       "}\n",
       "\n",
       ".xr-section-item input {\n",
       "  display: none;\n",
       "}\n",
       "\n",
       ".xr-section-item input + label {\n",
       "  color: var(--xr-disabled-color);\n",
       "}\n",
       "\n",
       ".xr-section-item input:enabled + label {\n",
       "  cursor: pointer;\n",
       "  color: var(--xr-font-color2);\n",
       "}\n",
       "\n",
       ".xr-section-item input:enabled + label:hover {\n",
       "  color: var(--xr-font-color0);\n",
       "}\n",
       "\n",
       ".xr-section-summary {\n",
       "  grid-column: 1;\n",
       "  color: var(--xr-font-color2);\n",
       "  font-weight: 500;\n",
       "}\n",
       "\n",
       ".xr-section-summary > span {\n",
       "  display: inline-block;\n",
       "  padding-left: 0.5em;\n",
       "}\n",
       "\n",
       ".xr-section-summary-in:disabled + label {\n",
       "  color: var(--xr-font-color2);\n",
       "}\n",
       "\n",
       ".xr-section-summary-in + label:before {\n",
       "  display: inline-block;\n",
       "  content: '►';\n",
       "  font-size: 11px;\n",
       "  width: 15px;\n",
       "  text-align: center;\n",
       "}\n",
       "\n",
       ".xr-section-summary-in:disabled + label:before {\n",
       "  color: var(--xr-disabled-color);\n",
       "}\n",
       "\n",
       ".xr-section-summary-in:checked + label:before {\n",
       "  content: '▼';\n",
       "}\n",
       "\n",
       ".xr-section-summary-in:checked + label > span {\n",
       "  display: none;\n",
       "}\n",
       "\n",
       ".xr-section-summary,\n",
       ".xr-section-inline-details {\n",
       "  padding-top: 4px;\n",
       "  padding-bottom: 4px;\n",
       "}\n",
       "\n",
       ".xr-section-inline-details {\n",
       "  grid-column: 2 / -1;\n",
       "}\n",
       "\n",
       ".xr-section-details {\n",
       "  display: none;\n",
       "  grid-column: 1 / -1;\n",
       "  margin-bottom: 5px;\n",
       "}\n",
       "\n",
       ".xr-section-summary-in:checked ~ .xr-section-details {\n",
       "  display: contents;\n",
       "}\n",
       "\n",
       ".xr-array-wrap {\n",
       "  grid-column: 1 / -1;\n",
       "  display: grid;\n",
       "  grid-template-columns: 20px auto;\n",
       "}\n",
       "\n",
       ".xr-array-wrap > label {\n",
       "  grid-column: 1;\n",
       "  vertical-align: top;\n",
       "}\n",
       "\n",
       ".xr-preview {\n",
       "  color: var(--xr-font-color3);\n",
       "}\n",
       "\n",
       ".xr-array-preview,\n",
       ".xr-array-data {\n",
       "  padding: 0 5px !important;\n",
       "  grid-column: 2;\n",
       "}\n",
       "\n",
       ".xr-array-data,\n",
       ".xr-array-in:checked ~ .xr-array-preview {\n",
       "  display: none;\n",
       "}\n",
       "\n",
       ".xr-array-in:checked ~ .xr-array-data,\n",
       ".xr-array-preview {\n",
       "  display: inline-block;\n",
       "}\n",
       "\n",
       ".xr-dim-list {\n",
       "  display: inline-block !important;\n",
       "  list-style: none;\n",
       "  padding: 0 !important;\n",
       "  margin: 0;\n",
       "}\n",
       "\n",
       ".xr-dim-list li {\n",
       "  display: inline-block;\n",
       "  padding: 0;\n",
       "  margin: 0;\n",
       "}\n",
       "\n",
       ".xr-dim-list:before {\n",
       "  content: '(';\n",
       "}\n",
       "\n",
       ".xr-dim-list:after {\n",
       "  content: ')';\n",
       "}\n",
       "\n",
       ".xr-dim-list li:not(:last-child):after {\n",
       "  content: ',';\n",
       "  padding-right: 5px;\n",
       "}\n",
       "\n",
       ".xr-has-index {\n",
       "  font-weight: bold;\n",
       "}\n",
       "\n",
       ".xr-var-list,\n",
       ".xr-var-item {\n",
       "  display: contents;\n",
       "}\n",
       "\n",
       ".xr-var-item > div,\n",
       ".xr-var-item label,\n",
       ".xr-var-item > .xr-var-name span {\n",
       "  background-color: var(--xr-background-color-row-even);\n",
       "  margin-bottom: 0;\n",
       "}\n",
       "\n",
       ".xr-var-item > .xr-var-name:hover span {\n",
       "  padding-right: 5px;\n",
       "}\n",
       "\n",
       ".xr-var-list > li:nth-child(odd) > div,\n",
       ".xr-var-list > li:nth-child(odd) > label,\n",
       ".xr-var-list > li:nth-child(odd) > .xr-var-name span {\n",
       "  background-color: var(--xr-background-color-row-odd);\n",
       "}\n",
       "\n",
       ".xr-var-name {\n",
       "  grid-column: 1;\n",
       "}\n",
       "\n",
       ".xr-var-dims {\n",
       "  grid-column: 2;\n",
       "}\n",
       "\n",
       ".xr-var-dtype {\n",
       "  grid-column: 3;\n",
       "  text-align: right;\n",
       "  color: var(--xr-font-color2);\n",
       "}\n",
       "\n",
       ".xr-var-preview {\n",
       "  grid-column: 4;\n",
       "}\n",
       "\n",
       ".xr-index-preview {\n",
       "  grid-column: 2 / 5;\n",
       "  color: var(--xr-font-color2);\n",
       "}\n",
       "\n",
       ".xr-var-name,\n",
       ".xr-var-dims,\n",
       ".xr-var-dtype,\n",
       ".xr-preview,\n",
       ".xr-attrs dt {\n",
       "  white-space: nowrap;\n",
       "  overflow: hidden;\n",
       "  text-overflow: ellipsis;\n",
       "  padding-right: 10px;\n",
       "}\n",
       "\n",
       ".xr-var-name:hover,\n",
       ".xr-var-dims:hover,\n",
       ".xr-var-dtype:hover,\n",
       ".xr-attrs dt:hover {\n",
       "  overflow: visible;\n",
       "  width: auto;\n",
       "  z-index: 1;\n",
       "}\n",
       "\n",
       ".xr-var-attrs,\n",
       ".xr-var-data,\n",
       ".xr-index-data {\n",
       "  display: none;\n",
       "  background-color: var(--xr-background-color) !important;\n",
       "  padding-bottom: 5px !important;\n",
       "}\n",
       "\n",
       ".xr-var-attrs-in:checked ~ .xr-var-attrs,\n",
       ".xr-var-data-in:checked ~ .xr-var-data,\n",
       ".xr-index-data-in:checked ~ .xr-index-data {\n",
       "  display: block;\n",
       "}\n",
       "\n",
       ".xr-var-data > table {\n",
       "  float: right;\n",
       "}\n",
       "\n",
       ".xr-var-name span,\n",
       ".xr-var-data,\n",
       ".xr-index-name div,\n",
       ".xr-index-data,\n",
       ".xr-attrs {\n",
       "  padding-left: 25px !important;\n",
       "}\n",
       "\n",
       ".xr-attrs,\n",
       ".xr-var-attrs,\n",
       ".xr-var-data,\n",
       ".xr-index-data {\n",
       "  grid-column: 1 / -1;\n",
       "}\n",
       "\n",
       "dl.xr-attrs {\n",
       "  padding: 0;\n",
       "  margin: 0;\n",
       "  display: grid;\n",
       "  grid-template-columns: 125px auto;\n",
       "}\n",
       "\n",
       ".xr-attrs dt,\n",
       ".xr-attrs dd {\n",
       "  padding: 0;\n",
       "  margin: 0;\n",
       "  float: left;\n",
       "  padding-right: 10px;\n",
       "  width: auto;\n",
       "}\n",
       "\n",
       ".xr-attrs dt {\n",
       "  font-weight: normal;\n",
       "  grid-column: 1;\n",
       "}\n",
       "\n",
       ".xr-attrs dt:hover span {\n",
       "  display: inline-block;\n",
       "  background: var(--xr-background-color);\n",
       "  padding-right: 10px;\n",
       "}\n",
       "\n",
       ".xr-attrs dd {\n",
       "  grid-column: 2;\n",
       "  white-space: pre-wrap;\n",
       "  word-break: break-all;\n",
       "}\n",
       "\n",
       ".xr-icon-database,\n",
       ".xr-icon-file-text2,\n",
       ".xr-no-icon {\n",
       "  display: inline-block;\n",
       "  vertical-align: middle;\n",
       "  width: 1em;\n",
       "  height: 1.5em !important;\n",
       "  stroke-width: 0;\n",
       "  stroke: currentColor;\n",
       "  fill: currentColor;\n",
       "}\n",
       "</style><pre class='xr-text-repr-fallback'>&lt;xarray.Dataset&gt;\n",
       "Dimensions:      (prior_draw: 200)\n",
       "Coordinates:\n",
       "  * prior_draw   (prior_draw) object MultiIndex\n",
       "  * chain        (prior_draw) int64 0 0 0 0 0 0 0 0 0 0 ... 1 1 1 1 1 1 1 1 1 1\n",
       "  * draw         (prior_draw) int64 0 1 2 3 4 5 6 7 ... 92 93 94 95 96 97 98 99\n",
       "Data variables:\n",
       "    b0           (prior_draw) float64 104.4 -239.1 -249.9 ... 222.8 -46.17\n",
       "    b1           (prior_draw) float64 116.8 -175.4 -71.92 ... -162.4 7.715 274.3\n",
       "    log_b_sigma  (prior_draw) float64 6.163 6.122 5.205 ... 3.633 6.172 6.076\n",
       "    b_sigma      (prior_draw) float64 474.6 455.6 182.3 ... 37.84 479.3 435.3\n",
       "    c0           (prior_draw) float64 -2.87 -6.738 11.82 ... -10.68 -11.76\n",
       "    c1           (prior_draw) float64 18.08 -7.793 4.934 ... -2.836 -14.52\n",
       "    log_c_sigma  (prior_draw) float64 6.163 6.122 5.205 ... 3.633 6.172 6.076\n",
       "    c_sigma      (prior_draw) float64 9.529 6.93 6.605 ... 1.642 4.487 3.449\n",
       "Attributes:\n",
       "    created_at:                 2022-11-10T02:19:07.951878\n",
       "    arviz_version:              0.13.0\n",
       "    inference_library:          cmdstanpy\n",
       "    inference_library_version:  1.0.8</pre><div class='xr-wrap' style='display:none'><div class='xr-header'><div class='xr-obj-type'>xarray.Dataset</div></div><ul class='xr-sections'><li class='xr-section-item'><input id='section-c39b7395-3733-4169-8e6e-5006a937ffef' class='xr-section-summary-in' type='checkbox' disabled ><label for='section-c39b7395-3733-4169-8e6e-5006a937ffef' class='xr-section-summary'  title='Expand/collapse section'>Dimensions:</label><div class='xr-section-inline-details'><ul class='xr-dim-list'><li><span class='xr-has-index'>prior_draw</span>: 200</li></ul></div><div class='xr-section-details'></div></li><li class='xr-section-item'><input id='section-b987ba6c-b0ad-4201-97fc-e2e307f330bf' class='xr-section-summary-in' type='checkbox'  checked><label for='section-b987ba6c-b0ad-4201-97fc-e2e307f330bf' class='xr-section-summary' >Coordinates: <span>(3)</span></label><div class='xr-section-inline-details'></div><div class='xr-section-details'><ul class='xr-var-list'><li class='xr-var-item'><div class='xr-var-name'><span class='xr-has-index'>prior_draw</span></div><div class='xr-var-dims'>(prior_draw)</div><div class='xr-var-dtype'>object</div><div class='xr-var-preview xr-preview'>MultiIndex</div><input id='attrs-6507813a-9ad8-4ac0-ba09-51f0ec1cb4a3' class='xr-var-attrs-in' type='checkbox' disabled><label for='attrs-6507813a-9ad8-4ac0-ba09-51f0ec1cb4a3' title='Show/Hide attributes'><svg class='icon xr-icon-file-text2'><use xlink:href='#icon-file-text2'></use></svg></label><input id='data-d49f8c11-0952-4171-b35c-8bbbdd808630' class='xr-var-data-in' type='checkbox'><label for='data-d49f8c11-0952-4171-b35c-8bbbdd808630' title='Show/Hide data repr'><svg class='icon xr-icon-database'><use xlink:href='#icon-database'></use></svg></label><div class='xr-var-attrs'><dl class='xr-attrs'></dl></div><div class='xr-var-data'><pre>array([(0, 0), (0, 1), (0, 2), (0, 3), (0, 4), (0, 5), (0, 6), (0, 7), (0, 8),\n",
       "       (0, 9), (0, 10), (0, 11), (0, 12), (0, 13), (0, 14), (0, 15), (0, 16),\n",
       "       (0, 17), (0, 18), (0, 19), (0, 20), (0, 21), (0, 22), (0, 23), (0, 24),\n",
       "       (0, 25), (0, 26), (0, 27), (0, 28), (0, 29), (0, 30), (0, 31), (0, 32),\n",
       "       (0, 33), (0, 34), (0, 35), (0, 36), (0, 37), (0, 38), (0, 39), (0, 40),\n",
       "       (0, 41), (0, 42), (0, 43), (0, 44), (0, 45), (0, 46), (0, 47), (0, 48),\n",
       "       (0, 49), (0, 50), (0, 51), (0, 52), (0, 53), (0, 54), (0, 55), (0, 56),\n",
       "       (0, 57), (0, 58), (0, 59), (0, 60), (0, 61), (0, 62), (0, 63), (0, 64),\n",
       "       (0, 65), (0, 66), (0, 67), (0, 68), (0, 69), (0, 70), (0, 71), (0, 72),\n",
       "       (0, 73), (0, 74), (0, 75), (0, 76), (0, 77), (0, 78), (0, 79), (0, 80),\n",
       "       (0, 81), (0, 82), (0, 83), (0, 84), (0, 85), (0, 86), (0, 87), (0, 88),\n",
       "       (0, 89), (0, 90), (0, 91), (0, 92), (0, 93), (0, 94), (0, 95), (0, 96),\n",
       "       (0, 97), (0, 98), (0, 99), (1, 0), (1, 1), (1, 2), (1, 3), (1, 4),\n",
       "       (1, 5), (1, 6), (1, 7), (1, 8), (1, 9), (1, 10), (1, 11), (1, 12),\n",
       "       (1, 13), (1, 14), (1, 15), (1, 16), (1, 17), (1, 18), (1, 19), (1, 20),\n",
       "       (1, 21), (1, 22), (1, 23), (1, 24), (1, 25), (1, 26), (1, 27), (1, 28),\n",
       "       (1, 29), (1, 30), (1, 31), (1, 32), (1, 33), (1, 34), (1, 35), (1, 36),\n",
       "       (1, 37), (1, 38), (1, 39), (1, 40), (1, 41), (1, 42), (1, 43), (1, 44),\n",
       "       (1, 45), (1, 46), (1, 47), (1, 48), (1, 49), (1, 50), (1, 51), (1, 52),\n",
       "       (1, 53), (1, 54), (1, 55), (1, 56), (1, 57), (1, 58), (1, 59), (1, 60),\n",
       "       (1, 61), (1, 62), (1, 63), (1, 64), (1, 65), (1, 66), (1, 67), (1, 68),\n",
       "       (1, 69), (1, 70), (1, 71), (1, 72), (1, 73), (1, 74), (1, 75), (1, 76),\n",
       "       (1, 77), (1, 78), (1, 79), (1, 80), (1, 81), (1, 82), (1, 83), (1, 84),\n",
       "       (1, 85), (1, 86), (1, 87), (1, 88), (1, 89), (1, 90), (1, 91), (1, 92),\n",
       "       (1, 93), (1, 94), (1, 95), (1, 96), (1, 97), (1, 98), (1, 99)],\n",
       "      dtype=object)</pre></div></li><li class='xr-var-item'><div class='xr-var-name'><span class='xr-has-index'>chain</span></div><div class='xr-var-dims'>(prior_draw)</div><div class='xr-var-dtype'>int64</div><div class='xr-var-preview xr-preview'>0 0 0 0 0 0 0 0 ... 1 1 1 1 1 1 1 1</div><input id='attrs-3a35ec1e-6962-4302-a4f7-c83714aa5161' class='xr-var-attrs-in' type='checkbox' disabled><label for='attrs-3a35ec1e-6962-4302-a4f7-c83714aa5161' title='Show/Hide attributes'><svg class='icon xr-icon-file-text2'><use xlink:href='#icon-file-text2'></use></svg></label><input id='data-52b705c1-18d9-433f-ae5b-cf38e967e8bb' class='xr-var-data-in' type='checkbox'><label for='data-52b705c1-18d9-433f-ae5b-cf38e967e8bb' title='Show/Hide data repr'><svg class='icon xr-icon-database'><use xlink:href='#icon-database'></use></svg></label><div class='xr-var-attrs'><dl class='xr-attrs'></dl></div><div class='xr-var-data'><pre>array([0, 0, 0, 0, 0, 0, 0, 0, 0, 0, 0, 0, 0, 0, 0, 0, 0, 0, 0, 0, 0, 0, 0, 0,\n",
       "       0, 0, 0, 0, 0, 0, 0, 0, 0, 0, 0, 0, 0, 0, 0, 0, 0, 0, 0, 0, 0, 0, 0, 0,\n",
       "       0, 0, 0, 0, 0, 0, 0, 0, 0, 0, 0, 0, 0, 0, 0, 0, 0, 0, 0, 0, 0, 0, 0, 0,\n",
       "       0, 0, 0, 0, 0, 0, 0, 0, 0, 0, 0, 0, 0, 0, 0, 0, 0, 0, 0, 0, 0, 0, 0, 0,\n",
       "       0, 0, 0, 0, 1, 1, 1, 1, 1, 1, 1, 1, 1, 1, 1, 1, 1, 1, 1, 1, 1, 1, 1, 1,\n",
       "       1, 1, 1, 1, 1, 1, 1, 1, 1, 1, 1, 1, 1, 1, 1, 1, 1, 1, 1, 1, 1, 1, 1, 1,\n",
       "       1, 1, 1, 1, 1, 1, 1, 1, 1, 1, 1, 1, 1, 1, 1, 1, 1, 1, 1, 1, 1, 1, 1, 1,\n",
       "       1, 1, 1, 1, 1, 1, 1, 1, 1, 1, 1, 1, 1, 1, 1, 1, 1, 1, 1, 1, 1, 1, 1, 1,\n",
       "       1, 1, 1, 1, 1, 1, 1, 1])</pre></div></li><li class='xr-var-item'><div class='xr-var-name'><span class='xr-has-index'>draw</span></div><div class='xr-var-dims'>(prior_draw)</div><div class='xr-var-dtype'>int64</div><div class='xr-var-preview xr-preview'>0 1 2 3 4 5 6 ... 94 95 96 97 98 99</div><input id='attrs-fafc13ff-90bc-4218-ad17-2af16bda1a96' class='xr-var-attrs-in' type='checkbox' disabled><label for='attrs-fafc13ff-90bc-4218-ad17-2af16bda1a96' title='Show/Hide attributes'><svg class='icon xr-icon-file-text2'><use xlink:href='#icon-file-text2'></use></svg></label><input id='data-f9c402e5-b297-4242-9572-7e0d57cb5d9d' class='xr-var-data-in' type='checkbox'><label for='data-f9c402e5-b297-4242-9572-7e0d57cb5d9d' title='Show/Hide data repr'><svg class='icon xr-icon-database'><use xlink:href='#icon-database'></use></svg></label><div class='xr-var-attrs'><dl class='xr-attrs'></dl></div><div class='xr-var-data'><pre>array([ 0,  1,  2,  3,  4,  5,  6,  7,  8,  9, 10, 11, 12, 13, 14, 15, 16, 17,\n",
       "       18, 19, 20, 21, 22, 23, 24, 25, 26, 27, 28, 29, 30, 31, 32, 33, 34, 35,\n",
       "       36, 37, 38, 39, 40, 41, 42, 43, 44, 45, 46, 47, 48, 49, 50, 51, 52, 53,\n",
       "       54, 55, 56, 57, 58, 59, 60, 61, 62, 63, 64, 65, 66, 67, 68, 69, 70, 71,\n",
       "       72, 73, 74, 75, 76, 77, 78, 79, 80, 81, 82, 83, 84, 85, 86, 87, 88, 89,\n",
       "       90, 91, 92, 93, 94, 95, 96, 97, 98, 99,  0,  1,  2,  3,  4,  5,  6,  7,\n",
       "        8,  9, 10, 11, 12, 13, 14, 15, 16, 17, 18, 19, 20, 21, 22, 23, 24, 25,\n",
       "       26, 27, 28, 29, 30, 31, 32, 33, 34, 35, 36, 37, 38, 39, 40, 41, 42, 43,\n",
       "       44, 45, 46, 47, 48, 49, 50, 51, 52, 53, 54, 55, 56, 57, 58, 59, 60, 61,\n",
       "       62, 63, 64, 65, 66, 67, 68, 69, 70, 71, 72, 73, 74, 75, 76, 77, 78, 79,\n",
       "       80, 81, 82, 83, 84, 85, 86, 87, 88, 89, 90, 91, 92, 93, 94, 95, 96, 97,\n",
       "       98, 99])</pre></div></li></ul></div></li><li class='xr-section-item'><input id='section-f1455620-7f81-4af6-9441-3ca325a63ee6' class='xr-section-summary-in' type='checkbox'  checked><label for='section-f1455620-7f81-4af6-9441-3ca325a63ee6' class='xr-section-summary' >Data variables: <span>(8)</span></label><div class='xr-section-inline-details'></div><div class='xr-section-details'><ul class='xr-var-list'><li class='xr-var-item'><div class='xr-var-name'><span>b0</span></div><div class='xr-var-dims'>(prior_draw)</div><div class='xr-var-dtype'>float64</div><div class='xr-var-preview xr-preview'>104.4 -239.1 ... 222.8 -46.17</div><input id='attrs-d8ba8a51-7b8f-47cb-b058-bdcd925dd6a6' class='xr-var-attrs-in' type='checkbox' disabled><label for='attrs-d8ba8a51-7b8f-47cb-b058-bdcd925dd6a6' title='Show/Hide attributes'><svg class='icon xr-icon-file-text2'><use xlink:href='#icon-file-text2'></use></svg></label><input id='data-3aade347-5cf6-46b2-a22c-c6384542c7bf' class='xr-var-data-in' type='checkbox'><label for='data-3aade347-5cf6-46b2-a22c-c6384542c7bf' title='Show/Hide data repr'><svg class='icon xr-icon-database'><use xlink:href='#icon-database'></use></svg></label><div class='xr-var-attrs'><dl class='xr-attrs'></dl></div><div class='xr-var-data'><pre>array([ 104.449  , -239.142  , -249.938  , -144.776  ,  -89.8059 ,\n",
       "       -198.598  ,  156.338  ,  101.803  , -441.558  ,  111.486  ,\n",
       "         74.15   ,   21.6611 ,   79.0451 , -141.266  , -123.09   ,\n",
       "       -174.545  ,   59.2408 , -271.218  ,  160.854  ,  -63.2174 ,\n",
       "         87.4952 , -116.524  ,  205.681  ,  -99.1218 ,  105.913  ,\n",
       "          1.49544, -186.95   ,  391.206  , -370.174  , -102.948  ,\n",
       "         -8.18319,  160.106  ,  -21.5442 ,  202.143  , -366.861  ,\n",
       "        249.218  , -184.405  , -210.006  ,  266.832  , -339.218  ,\n",
       "        114.392  , -139.995  ,  -16.1775 ,  -19.3943 ,  -37.1429 ,\n",
       "       -179.463  ,   74.8811 , -187.578  , -319.52   ,  107.388  ,\n",
       "       -279.874  , -245.97   ,  139.506  , -303.897  , -131.877  ,\n",
       "         72.0854 , -251.342  ,  226.952  ,  -67.3386 ,   62.921  ,\n",
       "         25.8607 ,  -65.0866 ,  -91.8718 ,  223.802  ,   -2.12068,\n",
       "        153.509  ,   76.8709 , -231.673  , -106.541  , -216.961  ,\n",
       "       -186.602  , -190.432  ,  167.253  ,   17.1411 ,  123.817  ,\n",
       "         84.2162 , -250.461  ,  141.193  , -175.381  ,  -46.1045 ,\n",
       "       -240.113  , -175.436  , -204.257  ,  150.765  ,  194.507  ,\n",
       "        -64.2149 ,  352.416  ,   30.5298 ,   -3.28985,  -98.7423 ,\n",
       "        129.165  , -108.591  ,  -56.0632 , -268.257  ,  139.593  ,\n",
       "         -8.66882,  -89.3812 ,  314.312  , -254.01   ,   76.6701 ,\n",
       "        321.858  ,  178.949  ,   72.6185 , -182.935  ,   -2.2755 ,\n",
       "        -43.1122 ,  -16.4895 ,  -76.4237 ,   89.0712 ,   19.1942 ,\n",
       "        143.09   ,  -73.0453 ,   61.4078 , -102.549  , -346.067  ,\n",
       "         58.8091 ,  -98.0634 , -278.279  ,  -75.7922 , -126.785  ,\n",
       "       -121.564  ,   24.8817 ,   24.6439 ,  364.313  , -148.417  ,\n",
       "        257.082  ,  272.976  ,  -97.1381 , -337.763  ,  166.753  ,\n",
       "        106.669  ,  374.059  ,  -59.4104 ,  301.735  , -288.006  ,\n",
       "        -59.4327 ,  171.586  ,  -13.4728 ,  231.42   ,  -99.5771 ,\n",
       "        -17.2482 , -276.337  ,  -39.6695 ,   44.3198 ,  220.484  ,\n",
       "         30.7576 , -303.504  ,  -73.2369 , -224.188  ,  -48.6494 ,\n",
       "        269.996  ,    3.09807,  -99.9058 , -151.788  , -186.849  ,\n",
       "         79.5116 ,  258.591  , -151.221  ,   26.0092 , -285.73   ,\n",
       "        162.148  ,  -45.8361 , -119.718  ,   26.2347 ,  215.824  ,\n",
       "        132.408  , -210.268  ,   86.3692 ,  339.079  ,  146.766  ,\n",
       "        248.947  , -452.76   ,  451.965  , -215.817  ,  396.73   ,\n",
       "       -179.056  ,   30.7824 ,  -40.8429 ,  -87.7183 ,  125.16   ,\n",
       "        100.91   , -285.742  ,  273.976  ,  310.5    , -107.976  ,\n",
       "        328.889  ,  -83.6901 ,  162.636  , -104.645  ,  -38.5143 ,\n",
       "         95.8604 ,  132.598  ,    2.43422, -174.365  , -100.007  ,\n",
       "        148.652  ,   33.3739 , -227.483  ,  222.762  ,  -46.1711 ])</pre></div></li><li class='xr-var-item'><div class='xr-var-name'><span>b1</span></div><div class='xr-var-dims'>(prior_draw)</div><div class='xr-var-dtype'>float64</div><div class='xr-var-preview xr-preview'>116.8 -175.4 -71.92 ... 7.715 274.3</div><input id='attrs-8578a79b-6efa-455d-9f9c-378ac7587f5d' class='xr-var-attrs-in' type='checkbox' disabled><label for='attrs-8578a79b-6efa-455d-9f9c-378ac7587f5d' title='Show/Hide attributes'><svg class='icon xr-icon-file-text2'><use xlink:href='#icon-file-text2'></use></svg></label><input id='data-d1103a7c-dd94-4841-902e-8f6eb5929775' class='xr-var-data-in' type='checkbox'><label for='data-d1103a7c-dd94-4841-902e-8f6eb5929775' title='Show/Hide data repr'><svg class='icon xr-icon-database'><use xlink:href='#icon-database'></use></svg></label><div class='xr-var-attrs'><dl class='xr-attrs'></dl></div><div class='xr-var-data'><pre>array([ 116.759  , -175.384  ,  -71.9195 , -124.143  ,  -51.3987 ,\n",
       "        101.514  ,  110.348  , -467.939  , -134.2    ,  -47.8152 ,\n",
       "        125.952  ,  244.956  ,  116.921  ,  -75.2891 , -286.671  ,\n",
       "        330.11   , -161.676  , -163.099  ,  133.761  ,   36.1317 ,\n",
       "       -112.674  , -106.403  ,   72.7378 ,  -75.5724 ,  137.864  ,\n",
       "       -147.962  , -142.232  ,    6.15631, -158.633  , -234.004  ,\n",
       "        242.013  ,  261.281  ,  -23.9263 , -241.488  , -435.373  ,\n",
       "        -66.5842 ,  425.168  ,  299.099  , -171.677  ,  -11.6946 ,\n",
       "       -262.965  ,  -69.0125 ,   61.2677 ,  102.703  ,  138.577  ,\n",
       "        -50.6765 ,  -53.2775 ,   24.915  ,  -15.1711 ,  293.585  ,\n",
       "         45.8117 ,  117.719  ,  157.232  , -310.307  ,   17.0818 ,\n",
       "        -57.0787 ,   41.9671 ,  -22.7299 ,  -47.654  ,  213.081  ,\n",
       "         50.586  ,   47.8481 ,   63.6697 ,  184.726  ,  -63.6645 ,\n",
       "          1.25006, -293.005  ,   52.5259 , -154.163  ,   66.0363 ,\n",
       "         87.6189 , -260.974  ,   98.2043 ,  247.729  , -226.759  ,\n",
       "        123.545  ,  201.341  ,  -43.9713 , -302.102  ,  183.232  ,\n",
       "        179.294  , -145.134  ,  291.726  ,  -87.964  ,  144.477  ,\n",
       "       -181.749  , -224.132  , -136.288  , -437.564  ,  514.333  ,\n",
       "        307.921  ,  295.067  ,   30.3558 ,  356.971  , -408.375  ,\n",
       "        -52.5685 , -100.166  ,   67.1994 ,   90.4952 , -295.573  ,\n",
       "         51.3869 ,  312.199  ,  109.264  ,   78.2479 , -262.332  ,\n",
       "        169.658  ,  188.424  ,   76.8888 , -164.942  , -410.757  ,\n",
       "       -114.244  ,    3.84821, -146.967  , -138.821  , -167.258  ,\n",
       "        168.493  , -177.436  ,  230.877  ,   -8.97078, -238.346  ,\n",
       "        162.262  ,  350.85   ,   75.3655 ,  202.61   ,  127.281  ,\n",
       "        191.816  , -108.455  ,   54.9355 ,   36.6677 , -100.227  ,\n",
       "        392.99   ,  -27.4376 ,  259.705  ,  -36.5504 ,   44.3605 ,\n",
       "       -265.232  , -156.201  ,  362.368  ,  107.208  ,  235.602  ,\n",
       "       -290.952  ,  199.006  , -283.934  ,   53.1338 , -454.145  ,\n",
       "       -503.83   ,  125.946  , -232.285  ,  -25.6992 , -134.192  ,\n",
       "        -34.3288 ,  213.494  ,  213.892  ,    4.71683, -284.668  ,\n",
       "        122.47   , -265.681  , -414.529  ,  176.057  ,   -1.55652,\n",
       "        -37.9004 , -284.011  ,  -36.9957 , -239.052  ,  -72.852  ,\n",
       "        -12.4258 ,  -72.0827 ,  206.989  , -191.063  ,  155.451  ,\n",
       "         12.6175 ,  -75.7117 ,  198.138  ,  -58.9123 ,   77.4251 ,\n",
       "        -66.4862 ,  -18.0489 , -193.569  , -174.145  ,  133.499  ,\n",
       "       -131.864  ,  172.989  ,   82.3077 ,  139.635  ,   62.5459 ,\n",
       "        -35.8922 ,   72.1321 , -353.567  ,  241.764  ,   78.9056 ,\n",
       "         30.358  , -198.684  ,  -97.3729 , -115.746  , -201.482  ,\n",
       "         93.1769 , -148.259  , -162.441  ,    7.71492,  274.251  ])</pre></div></li><li class='xr-var-item'><div class='xr-var-name'><span>log_b_sigma</span></div><div class='xr-var-dims'>(prior_draw)</div><div class='xr-var-dtype'>float64</div><div class='xr-var-preview xr-preview'>6.163 6.122 5.205 ... 6.172 6.076</div><input id='attrs-b6371d2e-7004-41f6-9d03-346d3e396707' class='xr-var-attrs-in' type='checkbox' disabled><label for='attrs-b6371d2e-7004-41f6-9d03-346d3e396707' title='Show/Hide attributes'><svg class='icon xr-icon-file-text2'><use xlink:href='#icon-file-text2'></use></svg></label><input id='data-64df3f80-1ef5-4618-b0b4-f72b35d56335' class='xr-var-data-in' type='checkbox'><label for='data-64df3f80-1ef5-4618-b0b4-f72b35d56335' title='Show/Hide data repr'><svg class='icon xr-icon-database'><use xlink:href='#icon-database'></use></svg></label><div class='xr-var-attrs'><dl class='xr-attrs'></dl></div><div class='xr-var-data'><pre>array([6.16251 , 6.12161 , 5.20545 , 5.8796  , 6.26567 , 5.33726 ,\n",
       "       5.24282 , 5.13438 , 5.16088 , 5.9386  , 5.24658 , 3.47914 ,\n",
       "       3.03562 , 6.02971 , 2.8532  , 5.69388 , 5.75087 , 2.84915 ,\n",
       "       5.80047 , 6.53003 , 5.00438 , 1.89495 , 4.87108 , 4.41706 ,\n",
       "       6.42854 , 2.7686  , 4.60929 , 5.41848 , 5.50506 , 4.94148 ,\n",
       "       5.11017 , 6.6244  , 4.53113 , 6.46315 , 6.02305 , 5.71383 ,\n",
       "       6.12964 , 4.47266 , 5.49956 , 5.79206 , 6.54979 , 2.53248 ,\n",
       "       3.61014 , 5.41962 , 5.28777 , 6.16757 , 5.83671 , 6.24525 ,\n",
       "       5.39082 , 5.20708 , 5.86372 , 4.47876 , 5.0659  , 6.04023 ,\n",
       "       3.91866 , 5.92033 , 5.62557 , 5.78511 , 3.40452 , 6.21375 ,\n",
       "       4.30511 , 3.92648 , 6.09879 , 4.5524  , 5.78408 , 3.76853 ,\n",
       "       5.43148 , 5.41359 , 2.78091 , 4.41079 , 1.86954 , 5.66324 ,\n",
       "       6.2329  , 5.46841 , 3.67495 , 6.23385 , 5.5045  , 4.85142 ,\n",
       "       6.14706 , 5.47347 , 5.75973 , 5.05354 , 4.95941 , 6.36908 ,\n",
       "       3.28242 , 5.76423 , 4.95449 , 5.10479 , 5.6215  , 5.7499  ,\n",
       "       4.72753 , 5.23349 , 5.41023 , 5.23    , 4.83928 , 5.58169 ,\n",
       "       3.72294 , 5.99299 , 5.84826 , 5.03937 , 4.45008 , 4.92274 ,\n",
       "       3.30509 , 4.84601 , 5.17564 , 3.98243 , 4.62482 , 6.92221 ,\n",
       "       4.79588 , 4.96637 , 3.67929 , 5.11786 , 6.60128 , 5.54578 ,\n",
       "       5.01658 , 3.13299 , 5.68345 , 5.65232 , 6.15498 , 5.43553 ,\n",
       "       4.24305 , 5.41658 , 6.1183  , 4.43988 , 6.56755 , 6.25642 ,\n",
       "       6.51932 , 1.69729 , 6.15151 , 3.24294 , 5.12654 , 5.69878 ,\n",
       "       5.75253 , 5.93718 , 2.75091 , 5.67534 , 5.22332 , 3.48751 ,\n",
       "       6.79855 , 2.76541 , 3.37934 , 5.37119 , 6.27095 , 3.70289 ,\n",
       "       4.99368 , 5.02296 , 6.2549  , 5.27709 , 5.33685 , 2.26325 ,\n",
       "       5.75192 , 4.81084 , 5.09811 , 4.12775 , 5.61867 , 3.64285 ,\n",
       "       3.89675 , 5.68378 , 4.9121  , 6.58444 , 5.69464 , 6.2367  ,\n",
       "       4.72322 , 5.70953 , 2.8124  , 5.83538 , 5.38811 , 5.78379 ,\n",
       "       6.26469 , 5.10635 , 5.0366  , 5.21441 , 5.21616 , 4.90264 ,\n",
       "       6.245   , 5.73561 , 5.72917 , 4.30807 , 4.72199 , 5.49091 ,\n",
       "       5.72939 , 4.76031 , 5.97445 , 6.13811 , 5.97652 , 6.11403 ,\n",
       "       6.39789 , 2.95088 , 5.01029 , 6.98165 , 5.9732  , 5.71602 ,\n",
       "       5.71279 , 5.60497 , 6.07331 , 4.93575 , 0.532915, 3.63324 ,\n",
       "       6.17229 , 6.076   ])</pre></div></li><li class='xr-var-item'><div class='xr-var-name'><span>b_sigma</span></div><div class='xr-var-dims'>(prior_draw)</div><div class='xr-var-dtype'>float64</div><div class='xr-var-preview xr-preview'>474.6 455.6 182.3 ... 479.3 435.3</div><input id='attrs-cdfc5674-7314-4b28-8824-50631f75bb84' class='xr-var-attrs-in' type='checkbox' disabled><label for='attrs-cdfc5674-7314-4b28-8824-50631f75bb84' title='Show/Hide attributes'><svg class='icon xr-icon-file-text2'><use xlink:href='#icon-file-text2'></use></svg></label><input id='data-72d0fd5f-0734-45ec-ab58-b7a594375e6e' class='xr-var-data-in' type='checkbox'><label for='data-72d0fd5f-0734-45ec-ab58-b7a594375e6e' title='Show/Hide data repr'><svg class='icon xr-icon-database'><use xlink:href='#icon-database'></use></svg></label><div class='xr-var-attrs'><dl class='xr-attrs'></dl></div><div class='xr-var-data'><pre>array([ 474.616  ,  455.6    ,  182.263  ,  357.665  ,  526.195  ,\n",
       "        207.942  ,  189.202  ,  169.759  ,  174.318  ,  379.402  ,\n",
       "        189.915  ,   32.4319 ,   20.8139 ,  415.593  ,   17.3432 ,\n",
       "        297.044  ,  314.464  ,   17.2731 ,  330.453  ,  685.417  ,\n",
       "        149.065  ,    6.65222,  130.462  ,   82.8524 ,  619.271  ,\n",
       "         15.9363 ,  100.413  ,  225.537  ,  245.934  ,  139.978  ,\n",
       "        165.698  ,  753.248  ,   92.863  ,  641.075  ,  412.836  ,\n",
       "        303.03   ,  459.27   ,   87.5897 ,  244.584  ,  327.688  ,\n",
       "        699.098  ,   12.5846 ,   36.9714 ,  225.793  ,  197.902  ,\n",
       "        477.025  ,  342.651  ,  515.557  ,  219.383  ,  182.56   ,\n",
       "        352.031  ,   88.1252 ,  158.523  ,  419.99   ,   50.3329 ,\n",
       "        372.535  ,  277.43   ,  325.417  ,   30.0997 ,  499.573  ,\n",
       "         74.077  ,   50.7279 ,  445.319  ,   94.8597 ,  325.081  ,\n",
       "         43.3164 ,  228.488  ,  224.436  ,   16.1337 ,   82.3341 ,\n",
       "          6.48531,  288.08   ,  509.232  ,  237.083  ,   39.4468 ,\n",
       "        509.716  ,  245.796  ,  127.922  ,  467.342  ,  238.286  ,\n",
       "        317.261  ,  156.576  ,  142.51   ,  583.519  ,   26.6401 ,\n",
       "        318.692  ,  141.81   ,  164.81   ,  276.303  ,  314.159  ,\n",
       "        113.016  ,  187.447  ,  223.682  ,  186.794  ,  126.379  ,\n",
       "        265.52   ,   41.3857 ,  400.611  ,  346.629  ,  154.372  ,\n",
       "         85.6334 ,  137.378  ,   27.2511 ,  127.232  ,  176.909  ,\n",
       "         53.6471 ,  101.984  , 1014.56   ,  121.01   ,  143.505  ,\n",
       "         39.6181 ,  166.977  ,  736.038  ,  256.156  ,  150.894  ,\n",
       "         22.9424 ,  293.962  ,  284.951  ,  471.058  ,  229.414  ,\n",
       "         69.6197 ,  225.107  ,  454.091  ,   84.7648 ,  711.623  ,\n",
       "        521.349  ,  678.117  ,    5.45912,  469.427  ,   25.609  ,\n",
       "        168.434  ,  298.503  ,  314.986  ,  378.865  ,   15.6569 ,\n",
       "        291.586  ,  185.55   ,   32.7045 ,  896.544  ,   15.8855 ,\n",
       "         29.3513 ,  215.118  ,  528.981  ,   40.5642 ,  147.478  ,\n",
       "        151.861  ,  520.559  ,  195.799  ,  207.857  ,    9.61425,\n",
       "        314.795  ,  122.834  ,  163.713  ,   62.0384 ,  275.523  ,\n",
       "         38.2007 ,   49.2419 ,  294.059  ,  135.925  ,  723.749  ,\n",
       "        297.27   ,  511.168  ,  112.53   ,  301.73   ,   16.6498 ,\n",
       "        342.194  ,  218.79   ,  324.989  ,  525.678  ,  165.066  ,\n",
       "        153.946  ,  183.904  ,  184.226  ,  134.644  ,  515.43   ,\n",
       "        309.701  ,  307.714  ,   74.2972 ,  112.392  ,  242.477  ,\n",
       "        307.783  ,  116.782  ,  393.254  ,  463.179  ,  394.068  ,\n",
       "        452.157  ,  600.577  ,   19.1228 ,  149.948  , 1076.69   ,\n",
       "        392.761  ,  303.693  ,  302.714  ,  271.773  ,  434.116  ,\n",
       "        139.178  ,    1.70389,   37.8351 ,  479.281  ,  435.285  ])</pre></div></li><li class='xr-var-item'><div class='xr-var-name'><span>c0</span></div><div class='xr-var-dims'>(prior_draw)</div><div class='xr-var-dtype'>float64</div><div class='xr-var-preview xr-preview'>-2.87 -6.738 ... -10.68 -11.76</div><input id='attrs-c29a4605-419d-4988-9c76-72b065ed4cbd' class='xr-var-attrs-in' type='checkbox' disabled><label for='attrs-c29a4605-419d-4988-9c76-72b065ed4cbd' title='Show/Hide attributes'><svg class='icon xr-icon-file-text2'><use xlink:href='#icon-file-text2'></use></svg></label><input id='data-16d9a201-ceb1-4534-bf45-c8084ac004bc' class='xr-var-data-in' type='checkbox'><label for='data-16d9a201-ceb1-4534-bf45-c8084ac004bc' title='Show/Hide data repr'><svg class='icon xr-icon-database'><use xlink:href='#icon-database'></use></svg></label><div class='xr-var-attrs'><dl class='xr-attrs'></dl></div><div class='xr-var-data'><pre>array([-2.86982e+00, -6.73762e+00,  1.18233e+01, -1.03202e+01,\n",
       "       -1.20621e+01,  1.11536e+01,  1.74200e+00, -7.80785e+00,\n",
       "        1.35291e+00, -1.39262e+00, -8.57964e+00, -8.95690e+00,\n",
       "       -7.93322e+00, -6.04166e+00, -1.26309e+01, -5.77417e+00,\n",
       "        1.01696e-01,  1.50923e+00, -3.99392e+00,  2.48940e+00,\n",
       "       -3.10468e+00, -1.01008e+01, -1.33609e+01, -2.72499e+00,\n",
       "       -9.36190e+00,  9.56670e+00,  2.59573e+00, -8.76528e+00,\n",
       "       -3.23591e+00, -3.34711e+00, -6.57663e+00, -2.06917e+01,\n",
       "        2.50867e+00,  2.97168e+00,  7.72401e+00, -1.08840e+01,\n",
       "       -5.36809e-01,  2.10290e+01, -2.97654e+01,  8.36104e+00,\n",
       "       -7.14505e+00,  6.78773e-01,  9.80485e+00,  3.36503e+00,\n",
       "        1.53329e+01, -1.09632e+00, -5.52977e+00, -2.18281e+00,\n",
       "        1.66469e+01, -1.11022e+00,  9.29691e-01, -1.29710e+01,\n",
       "       -9.25044e+00, -6.99874e+00,  4.36621e+00, -8.26687e+00,\n",
       "       -4.76029e+00, -3.77857e-01, -6.98972e+00, -1.90945e+00,\n",
       "       -1.40794e+01, -6.92018e+00,  4.11015e+00,  5.24599e+00,\n",
       "        7.03980e-01, -2.31568e+01, -2.36494e-01, -3.75510e+00,\n",
       "        2.31900e+01, -2.92470e+00, -1.35105e+01, -4.31753e+00,\n",
       "        6.36357e+00, -7.82484e+00, -1.35355e+00,  1.23205e+01,\n",
       "        1.35916e+01,  1.45189e+01, -2.64095e+01,  9.21846e+00,\n",
       "...\n",
       "       -1.08868e+01, -1.92116e+01, -1.28598e+01, -1.65702e+00,\n",
       "        2.38459e-02,  7.82087e+00,  5.85071e+00, -6.43666e-03,\n",
       "       -8.44666e+00, -2.99060e+00, -3.10729e+00, -1.04922e+01,\n",
       "        1.49767e+01, -7.51247e+00, -1.48040e+01,  1.79288e+01,\n",
       "        1.06943e+01, -1.34517e+01,  4.16292e+00,  1.62740e+00,\n",
       "       -9.34714e+00,  3.98839e+00, -4.33158e+00,  1.13027e+01,\n",
       "       -1.32588e+01, -7.02131e+00,  3.32868e-01,  9.49147e+00,\n",
       "        1.97599e+00,  2.12128e+00,  3.80616e+00, -4.90187e+00,\n",
       "        8.92739e+00,  6.13083e+00, -3.47353e+00,  7.15935e+00,\n",
       "        1.31161e+01,  7.10430e+00,  6.22464e+00,  1.49260e+01,\n",
       "        6.83693e-01, -3.73448e+00,  2.00412e+00, -3.06533e+00,\n",
       "       -2.30787e+00,  2.17685e+00, -8.68039e+00,  1.01125e+01,\n",
       "        4.41749e-01,  5.83485e+00, -9.50461e+00,  1.35829e+01,\n",
       "       -7.45943e+00, -2.45711e-01, -9.11961e+00, -6.09380e+00,\n",
       "       -6.58782e+00,  4.58646e+00,  7.27186e+00,  1.85116e+01,\n",
       "       -2.41044e+00,  5.95049e+00,  1.56834e+01,  1.44726e+01,\n",
       "       -8.10354e+00, -6.64681e+00, -1.24200e+01,  6.83161e+00,\n",
       "       -2.43400e+00, -1.91517e-01, -1.07254e+01, -1.39389e+01,\n",
       "        3.26602e+00,  4.62550e+00, -4.57258e+00,  1.81353e+00,\n",
       "       -7.58042e+00, -1.70688e+01, -1.06760e+01, -1.17645e+01])</pre></div></li><li class='xr-var-item'><div class='xr-var-name'><span>c1</span></div><div class='xr-var-dims'>(prior_draw)</div><div class='xr-var-dtype'>float64</div><div class='xr-var-preview xr-preview'>18.08 -7.793 ... -2.836 -14.52</div><input id='attrs-a837b8b3-7c45-4e0d-b792-ee4f7618d438' class='xr-var-attrs-in' type='checkbox' disabled><label for='attrs-a837b8b3-7c45-4e0d-b792-ee4f7618d438' title='Show/Hide attributes'><svg class='icon xr-icon-file-text2'><use xlink:href='#icon-file-text2'></use></svg></label><input id='data-f887e045-d2ce-40f5-abc4-851b3f408b1c' class='xr-var-data-in' type='checkbox'><label for='data-f887e045-d2ce-40f5-abc4-851b3f408b1c' title='Show/Hide data repr'><svg class='icon xr-icon-database'><use xlink:href='#icon-database'></use></svg></label><div class='xr-var-attrs'><dl class='xr-attrs'></dl></div><div class='xr-var-data'><pre>array([ 1.80815e+01, -7.79264e+00,  4.93357e+00, -8.19465e+00,\n",
       "        3.93600e+00, -4.05704e+00,  1.59454e+01, -1.11462e+01,\n",
       "        6.06004e+00,  1.02061e+01,  1.49947e+01, -8.29452e+00,\n",
       "        1.49342e+01, -1.87562e+00,  1.06651e+01, -5.11231e+00,\n",
       "        5.23043e+00,  6.05463e+00, -1.66146e+01, -3.72400e+00,\n",
       "        9.27794e+00, -5.71812e+00, -7.97794e+00,  5.94147e+00,\n",
       "       -1.10405e+01, -1.09599e+01, -1.04437e+01,  3.32002e+00,\n",
       "        1.42266e+00, -4.47356e+00, -3.04880e+00,  1.02942e+01,\n",
       "       -8.12296e+00,  2.72898e+00, -9.46484e+00,  2.45047e+00,\n",
       "       -1.48931e+01,  2.40556e+00, -5.31203e+00,  8.70149e+00,\n",
       "       -3.68394e-01,  1.13041e+01, -1.07951e+01, -7.19627e+00,\n",
       "       -2.05994e+00,  1.03326e+00, -9.35907e+00,  7.10402e+00,\n",
       "        1.48369e-01, -4.81407e+00,  5.61344e+00,  4.79851e+00,\n",
       "       -9.49947e+00,  1.92452e+00,  1.89929e+01, -4.29927e+00,\n",
       "        8.82422e-01, -6.55964e+00, -1.21525e+01, -4.02163e+00,\n",
       "       -5.02692e+00, -1.51993e+01, -5.15327e-01, -8.03561e+00,\n",
       "       -1.46803e+00, -2.52926e+00,  6.54330e+00,  1.12049e+00,\n",
       "       -7.71612e+00, -7.08548e+00, -2.02311e+00, -4.42284e+00,\n",
       "        9.89155e+00,  1.02074e+01, -8.39847e+00, -1.80829e+00,\n",
       "        6.78553e+00,  1.59982e+01,  9.75544e+00,  1.57144e+01,\n",
       "...\n",
       "       -9.13576e+00,  1.39074e+01,  1.78250e+01, -2.81273e+00,\n",
       "        1.37311e+01,  5.18012e+00, -1.49257e+01,  4.97799e+00,\n",
       "       -9.77885e+00,  6.55012e+00, -1.04542e+00,  1.22516e+01,\n",
       "        1.13123e+00,  1.08700e+01,  5.86363e+00,  3.08827e-01,\n",
       "        7.07039e+00,  5.91936e+00, -4.42523e+00,  2.20919e+00,\n",
       "        1.71331e+01,  5.81059e+00,  1.62571e+01,  1.38658e+01,\n",
       "       -1.02486e+01, -1.92817e-01, -6.00110e+00, -6.98205e+00,\n",
       "       -3.87288e+00, -1.03571e+01,  1.29879e+01,  2.96532e+01,\n",
       "        6.65592e+00,  3.78494e+01,  7.98422e+00,  1.60609e+01,\n",
       "       -1.58437e+00, -1.16671e+01,  7.78558e+00,  4.37705e+00,\n",
       "        5.74923e+00,  8.89234e+00, -1.16192e+01, -3.97066e+00,\n",
       "       -1.25609e+01,  2.39883e+01, -1.03632e+01, -7.01773e-01,\n",
       "       -8.93678e+00,  6.82820e+00,  4.62032e-01,  1.17817e+01,\n",
       "       -2.27283e+00, -2.35009e-01, -4.86749e+00,  5.88353e+00,\n",
       "        1.95303e+01, -2.09480e+00, -5.55451e-01, -1.46922e+00,\n",
       "       -2.93894e+00,  2.22874e+01, -9.22129e-01, -6.30883e-01,\n",
       "       -8.83074e+00, -1.72443e+01, -6.98475e+00, -1.13127e-01,\n",
       "       -1.46276e+00,  5.06499e+00, -2.10553e-01,  2.34206e+00,\n",
       "       -1.16593e+01,  4.08613e+00,  1.69493e+01, -7.64093e+00,\n",
       "       -4.82644e+00, -5.09576e+00, -2.83636e+00, -1.45234e+01])</pre></div></li><li class='xr-var-item'><div class='xr-var-name'><span>log_c_sigma</span></div><div class='xr-var-dims'>(prior_draw)</div><div class='xr-var-dtype'>float64</div><div class='xr-var-preview xr-preview'>6.163 6.122 5.205 ... 6.172 6.076</div><input id='attrs-41584a91-0960-4eef-ace6-fd62ca578d42' class='xr-var-attrs-in' type='checkbox' disabled><label for='attrs-41584a91-0960-4eef-ace6-fd62ca578d42' title='Show/Hide attributes'><svg class='icon xr-icon-file-text2'><use xlink:href='#icon-file-text2'></use></svg></label><input id='data-3c5bb943-37e4-4788-ad0f-31fe29b905cf' class='xr-var-data-in' type='checkbox'><label for='data-3c5bb943-37e4-4788-ad0f-31fe29b905cf' title='Show/Hide data repr'><svg class='icon xr-icon-database'><use xlink:href='#icon-database'></use></svg></label><div class='xr-var-attrs'><dl class='xr-attrs'></dl></div><div class='xr-var-data'><pre>array([6.16251 , 6.12161 , 5.20545 , 5.8796  , 6.26567 , 5.33726 ,\n",
       "       5.24282 , 5.13438 , 5.16088 , 5.9386  , 5.24658 , 3.47914 ,\n",
       "       3.03562 , 6.02971 , 2.8532  , 5.69388 , 5.75087 , 2.84915 ,\n",
       "       5.80047 , 6.53003 , 5.00438 , 1.89495 , 4.87108 , 4.41706 ,\n",
       "       6.42854 , 2.7686  , 4.60929 , 5.41848 , 5.50506 , 4.94148 ,\n",
       "       5.11017 , 6.6244  , 4.53113 , 6.46315 , 6.02305 , 5.71383 ,\n",
       "       6.12964 , 4.47266 , 5.49956 , 5.79206 , 6.54979 , 2.53248 ,\n",
       "       3.61014 , 5.41962 , 5.28777 , 6.16757 , 5.83671 , 6.24525 ,\n",
       "       5.39082 , 5.20708 , 5.86372 , 4.47876 , 5.0659  , 6.04023 ,\n",
       "       3.91866 , 5.92033 , 5.62557 , 5.78511 , 3.40452 , 6.21375 ,\n",
       "       4.30511 , 3.92648 , 6.09879 , 4.5524  , 5.78408 , 3.76853 ,\n",
       "       5.43148 , 5.41359 , 2.78091 , 4.41079 , 1.86954 , 5.66324 ,\n",
       "       6.2329  , 5.46841 , 3.67495 , 6.23385 , 5.5045  , 4.85142 ,\n",
       "       6.14706 , 5.47347 , 5.75973 , 5.05354 , 4.95941 , 6.36908 ,\n",
       "       3.28242 , 5.76423 , 4.95449 , 5.10479 , 5.6215  , 5.7499  ,\n",
       "       4.72753 , 5.23349 , 5.41023 , 5.23    , 4.83928 , 5.58169 ,\n",
       "       3.72294 , 5.99299 , 5.84826 , 5.03937 , 4.45008 , 4.92274 ,\n",
       "       3.30509 , 4.84601 , 5.17564 , 3.98243 , 4.62482 , 6.92221 ,\n",
       "       4.79588 , 4.96637 , 3.67929 , 5.11786 , 6.60128 , 5.54578 ,\n",
       "       5.01658 , 3.13299 , 5.68345 , 5.65232 , 6.15498 , 5.43553 ,\n",
       "       4.24305 , 5.41658 , 6.1183  , 4.43988 , 6.56755 , 6.25642 ,\n",
       "       6.51932 , 1.69729 , 6.15151 , 3.24294 , 5.12654 , 5.69878 ,\n",
       "       5.75253 , 5.93718 , 2.75091 , 5.67534 , 5.22332 , 3.48751 ,\n",
       "       6.79855 , 2.76541 , 3.37934 , 5.37119 , 6.27095 , 3.70289 ,\n",
       "       4.99368 , 5.02296 , 6.2549  , 5.27709 , 5.33685 , 2.26325 ,\n",
       "       5.75192 , 4.81084 , 5.09811 , 4.12775 , 5.61867 , 3.64285 ,\n",
       "       3.89675 , 5.68378 , 4.9121  , 6.58444 , 5.69464 , 6.2367  ,\n",
       "       4.72322 , 5.70953 , 2.8124  , 5.83538 , 5.38811 , 5.78379 ,\n",
       "       6.26469 , 5.10635 , 5.0366  , 5.21441 , 5.21616 , 4.90264 ,\n",
       "       6.245   , 5.73561 , 5.72917 , 4.30807 , 4.72199 , 5.49091 ,\n",
       "       5.72939 , 4.76031 , 5.97445 , 6.13811 , 5.97652 , 6.11403 ,\n",
       "       6.39789 , 2.95088 , 5.01029 , 6.98165 , 5.9732  , 5.71602 ,\n",
       "       5.71279 , 5.60497 , 6.07331 , 4.93575 , 0.532915, 3.63324 ,\n",
       "       6.17229 , 6.076   ])</pre></div></li><li class='xr-var-item'><div class='xr-var-name'><span>c_sigma</span></div><div class='xr-var-dims'>(prior_draw)</div><div class='xr-var-dtype'>float64</div><div class='xr-var-preview xr-preview'>9.529 6.93 6.605 ... 4.487 3.449</div><input id='attrs-0d0e26c5-3bca-414f-b6ae-2fe540619d83' class='xr-var-attrs-in' type='checkbox' disabled><label for='attrs-0d0e26c5-3bca-414f-b6ae-2fe540619d83' title='Show/Hide attributes'><svg class='icon xr-icon-file-text2'><use xlink:href='#icon-file-text2'></use></svg></label><input id='data-951a9010-cfd1-4fd1-8883-4ea67e43bf1b' class='xr-var-data-in' type='checkbox'><label for='data-951a9010-cfd1-4fd1-8883-4ea67e43bf1b' title='Show/Hide data repr'><svg class='icon xr-icon-database'><use xlink:href='#icon-database'></use></svg></label><div class='xr-var-attrs'><dl class='xr-attrs'></dl></div><div class='xr-var-data'><pre>array([ 9.52949  ,  6.92951  ,  6.60464  ,  6.88718  ,  1.87808  ,\n",
       "        1.88457  ,  4.08385  ,  1.44933  ,  5.30695  ,  4.52967  ,\n",
       "        5.1369   , 14.9229   ,  2.17264  ,  0.976826 ,  0.793682 ,\n",
       "       10.0448   ,  0.221712 ,  0.121729 ,  9.00733  ,  9.63749  ,\n",
       "        2.82963  ,  0.458064 ,  5.86039  ,  3.04048  ,  4.7421   ,\n",
       "        9.20891  ,  3.22314  ,  2.65801  ,  5.86612  ,  3.03369  ,\n",
       "        5.07705  ,  9.69499  ,  4.95405  ,  2.91012  , 10.3506   ,\n",
       "        3.00394  ,  5.72022  ,  1.66405  ,  2.86318  ,  2.30465  ,\n",
       "        1.04943  ,  1.80411  , 13.1043   ,  5.6526   ,  4.81401  ,\n",
       "       13.651    ,  4.87461  ,  5.34477  ,  2.23183  ,  2.49836  ,\n",
       "        1.77469  ,  4.10041  ,  7.00341  ,  0.859978 ,  8.57468  ,\n",
       "        0.721304 ,  6.68709  ,  6.0728   ,  8.01753  ,  7.10898  ,\n",
       "        4.80778  ,  2.01489  ,  0.808263 ,  3.02824  ,  2.9792   ,\n",
       "        1.00385  ,  8.9432   , 11.4585   , 13.8773   ,  4.58094  ,\n",
       "        3.9001   ,  1.00052  ,  3.96944  ,  3.51149  ,  5.44945  ,\n",
       "        1.53568  ,  4.6268   ,  0.975423 ,  2.65038  ,  5.12435  ,\n",
       "       16.5699   ,  4.95492  ,  2.6296   ,  1.44789  ,  2.29885  ,\n",
       "        2.61922  ,  3.95757  ,  4.99786  ,  4.07704  , 13.2452   ,\n",
       "        0.312586 ,  3.48216  ,  2.82387  ,  0.562404 ,  1.82925  ,\n",
       "        2.97877  ,  6.09416  ,  6.76599  ,  0.694401 ,  5.16078  ,\n",
       "       14.7983   ,  7.72295  ,  3.97078  ,  1.58115  ,  4.01462  ,\n",
       "        5.16475  ,  3.18727  ,  7.64583  ,  6.02249  ,  9.54477  ,\n",
       "        9.63399  ,  1.05945  ,  1.38548  ,  2.1334   ,  2.7744   ,\n",
       "        0.70883  ,  6.56587  ,  2.00303  ,  3.69617  ,  2.64454  ,\n",
       "        7.38238  ,  1.87952  , 13.1818   ,  3.06999  ,  1.15772  ,\n",
       "        3.67939  , 11.174    ,  7.27686  ,  2.15482  ,  4.48106  ,\n",
       "        4.17847  ,  0.894056 ,  6.12749  ,  4.80776  ,  5.6482   ,\n",
       "        5.72576  ,  0.300222 ,  9.5026   ,  3.90216  ,  2.92819  ,\n",
       "        0.264353 ,  6.20492  ,  1.88904  ,  5.61037  ,  2.78774  ,\n",
       "        9.58191  ,  7.0631   ,  3.95884  ,  1.06754  ,  7.67813  ,\n",
       "        1.24179  ,  5.70288  ,  0.664476 ,  7.84565  ,  1.66456  ,\n",
       "        2.23931  ,  0.327708 ,  7.93989  ,  0.0701354,  6.4479   ,\n",
       "        4.53389  ,  1.01361  ,  3.31398  ,  4.66004  ,  4.90806  ,\n",
       "        1.78528  ,  4.92218  ,  3.43281  ,  2.91524  ,  0.502811 ,\n",
       "        1.17953  , 14.3377   ,  3.51344  ,  2.69551  ,  1.83364  ,\n",
       "        1.13439  ,  8.79837  ,  5.41502  ,  5.24677  ,  5.89344  ,\n",
       "        7.36751  ,  2.74006  ,  2.79786  ,  0.141662 ,  6.30983  ,\n",
       "       10.269    ,  3.68222  ,  4.82643  ,  0.799354 ,  5.40018  ,\n",
       "        2.2161   ,  4.42327  ,  2.48687  ,  4.39932  ,  3.35688  ,\n",
       "        1.77231  ,  6.29745  ,  1.64217  ,  4.48668  ,  3.44945  ])</pre></div></li></ul></div></li><li class='xr-section-item'><input id='section-7f18545e-ddac-4839-94e4-ece3b3b5d2bd' class='xr-section-summary-in' type='checkbox'  ><label for='section-7f18545e-ddac-4839-94e4-ece3b3b5d2bd' class='xr-section-summary' >Indexes: <span>(1)</span></label><div class='xr-section-inline-details'></div><div class='xr-section-details'><ul class='xr-var-list'><li class='xr-var-item'><div class='xr-index-name'><div>prior_draw<br>chain<br>draw</div></div><div class='xr-index-preview'>PandasMultiIndex</div><div></div><input id='index-8867cdc4-7e64-4450-ba4a-b1074a7f61ac' class='xr-index-data-in' type='checkbox'/><label for='index-8867cdc4-7e64-4450-ba4a-b1074a7f61ac' title='Show/Hide index repr'><svg class='icon xr-icon-database'><use xlink:href='#icon-database'></use></svg></label><div class='xr-index-data'><pre>PandasIndex(MultiIndex([(0,  0),\n",
       "            (0,  1),\n",
       "            (0,  2),\n",
       "            (0,  3),\n",
       "            (0,  4),\n",
       "            (0,  5),\n",
       "            (0,  6),\n",
       "            (0,  7),\n",
       "            (0,  8),\n",
       "            (0,  9),\n",
       "            ...\n",
       "            (1, 90),\n",
       "            (1, 91),\n",
       "            (1, 92),\n",
       "            (1, 93),\n",
       "            (1, 94),\n",
       "            (1, 95),\n",
       "            (1, 96),\n",
       "            (1, 97),\n",
       "            (1, 98),\n",
       "            (1, 99)],\n",
       "           name=&#x27;prior_draw&#x27;, length=200))</pre></div></li></ul></div></li><li class='xr-section-item'><input id='section-0a6c22dd-da44-4fe0-b32b-713c0d0360f2' class='xr-section-summary-in' type='checkbox'  checked><label for='section-0a6c22dd-da44-4fe0-b32b-713c0d0360f2' class='xr-section-summary' >Attributes: <span>(4)</span></label><div class='xr-section-inline-details'></div><div class='xr-section-details'><dl class='xr-attrs'><dt><span>created_at :</span></dt><dd>2022-11-10T02:19:07.951878</dd><dt><span>arviz_version :</span></dt><dd>0.13.0</dd><dt><span>inference_library :</span></dt><dd>cmdstanpy</dd><dt><span>inference_library_version :</span></dt><dd>1.0.8</dd></dl></div></li></ul></div></div><br></div>\n",
       "                      </ul>\n",
       "                  </div>\n",
       "            </li>\n",
       "            \n",
       "            <li class = \"xr-section-item\">\n",
       "                  <input id=\"idata_prior_predictive30a35bc3-4b2e-43b6-a701-36411e3bb6db\" class=\"xr-section-summary-in\" type=\"checkbox\">\n",
       "                  <label for=\"idata_prior_predictive30a35bc3-4b2e-43b6-a701-36411e3bb6db\" class = \"xr-section-summary\">prior_predictive</label>\n",
       "                  <div class=\"xr-section-inline-details\"></div>\n",
       "                  <div class=\"xr-section-details\">\n",
       "                      <ul id=\"xr-dataset-coord-list\" class=\"xr-var-list\">\n",
       "                          <div style=\"padding-left:2rem;\"><div><svg style=\"position: absolute; width: 0; height: 0; overflow: hidden\">\n",
       "<defs>\n",
       "<symbol id=\"icon-database\" viewBox=\"0 0 32 32\">\n",
       "<path d=\"M16 0c-8.837 0-16 2.239-16 5v4c0 2.761 7.163 5 16 5s16-2.239 16-5v-4c0-2.761-7.163-5-16-5z\"></path>\n",
       "<path d=\"M16 17c-8.837 0-16-2.239-16-5v6c0 2.761 7.163 5 16 5s16-2.239 16-5v-6c0 2.761-7.163 5-16 5z\"></path>\n",
       "<path d=\"M16 26c-8.837 0-16-2.239-16-5v6c0 2.761 7.163 5 16 5s16-2.239 16-5v-6c0 2.761-7.163 5-16 5z\"></path>\n",
       "</symbol>\n",
       "<symbol id=\"icon-file-text2\" viewBox=\"0 0 32 32\">\n",
       "<path d=\"M28.681 7.159c-0.694-0.947-1.662-2.053-2.724-3.116s-2.169-2.030-3.116-2.724c-1.612-1.182-2.393-1.319-2.841-1.319h-15.5c-1.378 0-2.5 1.121-2.5 2.5v27c0 1.378 1.122 2.5 2.5 2.5h23c1.378 0 2.5-1.122 2.5-2.5v-19.5c0-0.448-0.137-1.23-1.319-2.841zM24.543 5.457c0.959 0.959 1.712 1.825 2.268 2.543h-4.811v-4.811c0.718 0.556 1.584 1.309 2.543 2.268zM28 29.5c0 0.271-0.229 0.5-0.5 0.5h-23c-0.271 0-0.5-0.229-0.5-0.5v-27c0-0.271 0.229-0.5 0.5-0.5 0 0 15.499-0 15.5 0v7c0 0.552 0.448 1 1 1h7v19.5z\"></path>\n",
       "<path d=\"M23 26h-14c-0.552 0-1-0.448-1-1s0.448-1 1-1h14c0.552 0 1 0.448 1 1s-0.448 1-1 1z\"></path>\n",
       "<path d=\"M23 22h-14c-0.552 0-1-0.448-1-1s0.448-1 1-1h14c0.552 0 1 0.448 1 1s-0.448 1-1 1z\"></path>\n",
       "<path d=\"M23 18h-14c-0.552 0-1-0.448-1-1s0.448-1 1-1h14c0.552 0 1 0.448 1 1s-0.448 1-1 1z\"></path>\n",
       "</symbol>\n",
       "</defs>\n",
       "</svg>\n",
       "<style>/* CSS stylesheet for displaying xarray objects in jupyterlab.\n",
       " *\n",
       " */\n",
       "\n",
       ":root {\n",
       "  --xr-font-color0: var(--jp-content-font-color0, rgba(0, 0, 0, 1));\n",
       "  --xr-font-color2: var(--jp-content-font-color2, rgba(0, 0, 0, 0.54));\n",
       "  --xr-font-color3: var(--jp-content-font-color3, rgba(0, 0, 0, 0.38));\n",
       "  --xr-border-color: var(--jp-border-color2, #e0e0e0);\n",
       "  --xr-disabled-color: var(--jp-layout-color3, #bdbdbd);\n",
       "  --xr-background-color: var(--jp-layout-color0, white);\n",
       "  --xr-background-color-row-even: var(--jp-layout-color1, white);\n",
       "  --xr-background-color-row-odd: var(--jp-layout-color2, #eeeeee);\n",
       "}\n",
       "\n",
       "html[theme=dark],\n",
       "body[data-theme=dark],\n",
       "body.vscode-dark {\n",
       "  --xr-font-color0: rgba(255, 255, 255, 1);\n",
       "  --xr-font-color2: rgba(255, 255, 255, 0.54);\n",
       "  --xr-font-color3: rgba(255, 255, 255, 0.38);\n",
       "  --xr-border-color: #1F1F1F;\n",
       "  --xr-disabled-color: #515151;\n",
       "  --xr-background-color: #111111;\n",
       "  --xr-background-color-row-even: #111111;\n",
       "  --xr-background-color-row-odd: #313131;\n",
       "}\n",
       "\n",
       ".xr-wrap {\n",
       "  display: block !important;\n",
       "  min-width: 300px;\n",
       "  max-width: 700px;\n",
       "}\n",
       "\n",
       ".xr-text-repr-fallback {\n",
       "  /* fallback to plain text repr when CSS is not injected (untrusted notebook) */\n",
       "  display: none;\n",
       "}\n",
       "\n",
       ".xr-header {\n",
       "  padding-top: 6px;\n",
       "  padding-bottom: 6px;\n",
       "  margin-bottom: 4px;\n",
       "  border-bottom: solid 1px var(--xr-border-color);\n",
       "}\n",
       "\n",
       ".xr-header > div,\n",
       ".xr-header > ul {\n",
       "  display: inline;\n",
       "  margin-top: 0;\n",
       "  margin-bottom: 0;\n",
       "}\n",
       "\n",
       ".xr-obj-type,\n",
       ".xr-array-name {\n",
       "  margin-left: 2px;\n",
       "  margin-right: 10px;\n",
       "}\n",
       "\n",
       ".xr-obj-type {\n",
       "  color: var(--xr-font-color2);\n",
       "}\n",
       "\n",
       ".xr-sections {\n",
       "  padding-left: 0 !important;\n",
       "  display: grid;\n",
       "  grid-template-columns: 150px auto auto 1fr 20px 20px;\n",
       "}\n",
       "\n",
       ".xr-section-item {\n",
       "  display: contents;\n",
       "}\n",
       "\n",
       ".xr-section-item input {\n",
       "  display: none;\n",
       "}\n",
       "\n",
       ".xr-section-item input + label {\n",
       "  color: var(--xr-disabled-color);\n",
       "}\n",
       "\n",
       ".xr-section-item input:enabled + label {\n",
       "  cursor: pointer;\n",
       "  color: var(--xr-font-color2);\n",
       "}\n",
       "\n",
       ".xr-section-item input:enabled + label:hover {\n",
       "  color: var(--xr-font-color0);\n",
       "}\n",
       "\n",
       ".xr-section-summary {\n",
       "  grid-column: 1;\n",
       "  color: var(--xr-font-color2);\n",
       "  font-weight: 500;\n",
       "}\n",
       "\n",
       ".xr-section-summary > span {\n",
       "  display: inline-block;\n",
       "  padding-left: 0.5em;\n",
       "}\n",
       "\n",
       ".xr-section-summary-in:disabled + label {\n",
       "  color: var(--xr-font-color2);\n",
       "}\n",
       "\n",
       ".xr-section-summary-in + label:before {\n",
       "  display: inline-block;\n",
       "  content: '►';\n",
       "  font-size: 11px;\n",
       "  width: 15px;\n",
       "  text-align: center;\n",
       "}\n",
       "\n",
       ".xr-section-summary-in:disabled + label:before {\n",
       "  color: var(--xr-disabled-color);\n",
       "}\n",
       "\n",
       ".xr-section-summary-in:checked + label:before {\n",
       "  content: '▼';\n",
       "}\n",
       "\n",
       ".xr-section-summary-in:checked + label > span {\n",
       "  display: none;\n",
       "}\n",
       "\n",
       ".xr-section-summary,\n",
       ".xr-section-inline-details {\n",
       "  padding-top: 4px;\n",
       "  padding-bottom: 4px;\n",
       "}\n",
       "\n",
       ".xr-section-inline-details {\n",
       "  grid-column: 2 / -1;\n",
       "}\n",
       "\n",
       ".xr-section-details {\n",
       "  display: none;\n",
       "  grid-column: 1 / -1;\n",
       "  margin-bottom: 5px;\n",
       "}\n",
       "\n",
       ".xr-section-summary-in:checked ~ .xr-section-details {\n",
       "  display: contents;\n",
       "}\n",
       "\n",
       ".xr-array-wrap {\n",
       "  grid-column: 1 / -1;\n",
       "  display: grid;\n",
       "  grid-template-columns: 20px auto;\n",
       "}\n",
       "\n",
       ".xr-array-wrap > label {\n",
       "  grid-column: 1;\n",
       "  vertical-align: top;\n",
       "}\n",
       "\n",
       ".xr-preview {\n",
       "  color: var(--xr-font-color3);\n",
       "}\n",
       "\n",
       ".xr-array-preview,\n",
       ".xr-array-data {\n",
       "  padding: 0 5px !important;\n",
       "  grid-column: 2;\n",
       "}\n",
       "\n",
       ".xr-array-data,\n",
       ".xr-array-in:checked ~ .xr-array-preview {\n",
       "  display: none;\n",
       "}\n",
       "\n",
       ".xr-array-in:checked ~ .xr-array-data,\n",
       ".xr-array-preview {\n",
       "  display: inline-block;\n",
       "}\n",
       "\n",
       ".xr-dim-list {\n",
       "  display: inline-block !important;\n",
       "  list-style: none;\n",
       "  padding: 0 !important;\n",
       "  margin: 0;\n",
       "}\n",
       "\n",
       ".xr-dim-list li {\n",
       "  display: inline-block;\n",
       "  padding: 0;\n",
       "  margin: 0;\n",
       "}\n",
       "\n",
       ".xr-dim-list:before {\n",
       "  content: '(';\n",
       "}\n",
       "\n",
       ".xr-dim-list:after {\n",
       "  content: ')';\n",
       "}\n",
       "\n",
       ".xr-dim-list li:not(:last-child):after {\n",
       "  content: ',';\n",
       "  padding-right: 5px;\n",
       "}\n",
       "\n",
       ".xr-has-index {\n",
       "  font-weight: bold;\n",
       "}\n",
       "\n",
       ".xr-var-list,\n",
       ".xr-var-item {\n",
       "  display: contents;\n",
       "}\n",
       "\n",
       ".xr-var-item > div,\n",
       ".xr-var-item label,\n",
       ".xr-var-item > .xr-var-name span {\n",
       "  background-color: var(--xr-background-color-row-even);\n",
       "  margin-bottom: 0;\n",
       "}\n",
       "\n",
       ".xr-var-item > .xr-var-name:hover span {\n",
       "  padding-right: 5px;\n",
       "}\n",
       "\n",
       ".xr-var-list > li:nth-child(odd) > div,\n",
       ".xr-var-list > li:nth-child(odd) > label,\n",
       ".xr-var-list > li:nth-child(odd) > .xr-var-name span {\n",
       "  background-color: var(--xr-background-color-row-odd);\n",
       "}\n",
       "\n",
       ".xr-var-name {\n",
       "  grid-column: 1;\n",
       "}\n",
       "\n",
       ".xr-var-dims {\n",
       "  grid-column: 2;\n",
       "}\n",
       "\n",
       ".xr-var-dtype {\n",
       "  grid-column: 3;\n",
       "  text-align: right;\n",
       "  color: var(--xr-font-color2);\n",
       "}\n",
       "\n",
       ".xr-var-preview {\n",
       "  grid-column: 4;\n",
       "}\n",
       "\n",
       ".xr-index-preview {\n",
       "  grid-column: 2 / 5;\n",
       "  color: var(--xr-font-color2);\n",
       "}\n",
       "\n",
       ".xr-var-name,\n",
       ".xr-var-dims,\n",
       ".xr-var-dtype,\n",
       ".xr-preview,\n",
       ".xr-attrs dt {\n",
       "  white-space: nowrap;\n",
       "  overflow: hidden;\n",
       "  text-overflow: ellipsis;\n",
       "  padding-right: 10px;\n",
       "}\n",
       "\n",
       ".xr-var-name:hover,\n",
       ".xr-var-dims:hover,\n",
       ".xr-var-dtype:hover,\n",
       ".xr-attrs dt:hover {\n",
       "  overflow: visible;\n",
       "  width: auto;\n",
       "  z-index: 1;\n",
       "}\n",
       "\n",
       ".xr-var-attrs,\n",
       ".xr-var-data,\n",
       ".xr-index-data {\n",
       "  display: none;\n",
       "  background-color: var(--xr-background-color) !important;\n",
       "  padding-bottom: 5px !important;\n",
       "}\n",
       "\n",
       ".xr-var-attrs-in:checked ~ .xr-var-attrs,\n",
       ".xr-var-data-in:checked ~ .xr-var-data,\n",
       ".xr-index-data-in:checked ~ .xr-index-data {\n",
       "  display: block;\n",
       "}\n",
       "\n",
       ".xr-var-data > table {\n",
       "  float: right;\n",
       "}\n",
       "\n",
       ".xr-var-name span,\n",
       ".xr-var-data,\n",
       ".xr-index-name div,\n",
       ".xr-index-data,\n",
       ".xr-attrs {\n",
       "  padding-left: 25px !important;\n",
       "}\n",
       "\n",
       ".xr-attrs,\n",
       ".xr-var-attrs,\n",
       ".xr-var-data,\n",
       ".xr-index-data {\n",
       "  grid-column: 1 / -1;\n",
       "}\n",
       "\n",
       "dl.xr-attrs {\n",
       "  padding: 0;\n",
       "  margin: 0;\n",
       "  display: grid;\n",
       "  grid-template-columns: 125px auto;\n",
       "}\n",
       "\n",
       ".xr-attrs dt,\n",
       ".xr-attrs dd {\n",
       "  padding: 0;\n",
       "  margin: 0;\n",
       "  float: left;\n",
       "  padding-right: 10px;\n",
       "  width: auto;\n",
       "}\n",
       "\n",
       ".xr-attrs dt {\n",
       "  font-weight: normal;\n",
       "  grid-column: 1;\n",
       "}\n",
       "\n",
       ".xr-attrs dt:hover span {\n",
       "  display: inline-block;\n",
       "  background: var(--xr-background-color);\n",
       "  padding-right: 10px;\n",
       "}\n",
       "\n",
       ".xr-attrs dd {\n",
       "  grid-column: 2;\n",
       "  white-space: pre-wrap;\n",
       "  word-break: break-all;\n",
       "}\n",
       "\n",
       ".xr-icon-database,\n",
       ".xr-icon-file-text2,\n",
       ".xr-no-icon {\n",
       "  display: inline-block;\n",
       "  vertical-align: middle;\n",
       "  width: 1em;\n",
       "  height: 1.5em !important;\n",
       "  stroke-width: 0;\n",
       "  stroke: currentColor;\n",
       "  fill: currentColor;\n",
       "}\n",
       "</style><pre class='xr-text-repr-fallback'>&lt;xarray.Dataset&gt;\n",
       "Dimensions:             (developer: 5, prior_draw: 200)\n",
       "Coordinates:\n",
       "  * developer           (developer) object &#x27;Alice&#x27; &#x27;Bob&#x27; ... &#x27;Danielle&#x27; &#x27;Erika&#x27;\n",
       "  * prior_draw          (prior_draw) object MultiIndex\n",
       "  * chain               (prior_draw) int64 0 0 0 0 0 0 0 0 0 ... 1 1 1 1 1 1 1 1\n",
       "  * draw                (prior_draw) int64 0 1 2 3 4 5 6 ... 94 95 96 97 98 99\n",
       "Data variables:\n",
       "    slack_comments_hat  (developer, prior_draw) float64 701.6 ... 4.755e+03\n",
       "    github_commits_hat  (developer, prior_draw) float64 82.57 -39.29 ... -270.4\n",
       "Attributes:\n",
       "    created_at:                 2022-11-10T02:19:07.963278\n",
       "    arviz_version:              0.13.0\n",
       "    inference_library:          cmdstanpy\n",
       "    inference_library_version:  1.0.8</pre><div class='xr-wrap' style='display:none'><div class='xr-header'><div class='xr-obj-type'>xarray.Dataset</div></div><ul class='xr-sections'><li class='xr-section-item'><input id='section-380f42aa-413e-448e-8767-44ef061962d1' class='xr-section-summary-in' type='checkbox' disabled ><label for='section-380f42aa-413e-448e-8767-44ef061962d1' class='xr-section-summary'  title='Expand/collapse section'>Dimensions:</label><div class='xr-section-inline-details'><ul class='xr-dim-list'><li><span class='xr-has-index'>developer</span>: 5</li><li><span class='xr-has-index'>prior_draw</span>: 200</li></ul></div><div class='xr-section-details'></div></li><li class='xr-section-item'><input id='section-22fbe694-ecf7-4c23-a377-43ac98050791' class='xr-section-summary-in' type='checkbox'  checked><label for='section-22fbe694-ecf7-4c23-a377-43ac98050791' class='xr-section-summary' >Coordinates: <span>(4)</span></label><div class='xr-section-inline-details'></div><div class='xr-section-details'><ul class='xr-var-list'><li class='xr-var-item'><div class='xr-var-name'><span class='xr-has-index'>developer</span></div><div class='xr-var-dims'>(developer)</div><div class='xr-var-dtype'>object</div><div class='xr-var-preview xr-preview'>&#x27;Alice&#x27; &#x27;Bob&#x27; ... &#x27;Erika&#x27;</div><input id='attrs-bc99ffc0-767a-4b77-add6-826d9ac8d93b' class='xr-var-attrs-in' type='checkbox' disabled><label for='attrs-bc99ffc0-767a-4b77-add6-826d9ac8d93b' title='Show/Hide attributes'><svg class='icon xr-icon-file-text2'><use xlink:href='#icon-file-text2'></use></svg></label><input id='data-784bc18c-9254-41e2-a0a5-0c08c32932b3' class='xr-var-data-in' type='checkbox'><label for='data-784bc18c-9254-41e2-a0a5-0c08c32932b3' title='Show/Hide data repr'><svg class='icon xr-icon-database'><use xlink:href='#icon-database'></use></svg></label><div class='xr-var-attrs'><dl class='xr-attrs'></dl></div><div class='xr-var-data'><pre>array([&#x27;Alice&#x27;, &#x27;Bob&#x27;, &#x27;Cole&#x27;, &#x27;Danielle&#x27;, &#x27;Erika&#x27;], dtype=object)</pre></div></li><li class='xr-var-item'><div class='xr-var-name'><span class='xr-has-index'>prior_draw</span></div><div class='xr-var-dims'>(prior_draw)</div><div class='xr-var-dtype'>object</div><div class='xr-var-preview xr-preview'>MultiIndex</div><input id='attrs-9abc899b-becd-4edc-896b-95d78a74983d' class='xr-var-attrs-in' type='checkbox' disabled><label for='attrs-9abc899b-becd-4edc-896b-95d78a74983d' title='Show/Hide attributes'><svg class='icon xr-icon-file-text2'><use xlink:href='#icon-file-text2'></use></svg></label><input id='data-8dc4a6a7-41ea-44d2-829e-f2b4ccdf5322' class='xr-var-data-in' type='checkbox'><label for='data-8dc4a6a7-41ea-44d2-829e-f2b4ccdf5322' title='Show/Hide data repr'><svg class='icon xr-icon-database'><use xlink:href='#icon-database'></use></svg></label><div class='xr-var-attrs'><dl class='xr-attrs'></dl></div><div class='xr-var-data'><pre>array([(0, 0), (0, 1), (0, 2), (0, 3), (0, 4), (0, 5), (0, 6), (0, 7), (0, 8),\n",
       "       (0, 9), (0, 10), (0, 11), (0, 12), (0, 13), (0, 14), (0, 15), (0, 16),\n",
       "       (0, 17), (0, 18), (0, 19), (0, 20), (0, 21), (0, 22), (0, 23), (0, 24),\n",
       "       (0, 25), (0, 26), (0, 27), (0, 28), (0, 29), (0, 30), (0, 31), (0, 32),\n",
       "       (0, 33), (0, 34), (0, 35), (0, 36), (0, 37), (0, 38), (0, 39), (0, 40),\n",
       "       (0, 41), (0, 42), (0, 43), (0, 44), (0, 45), (0, 46), (0, 47), (0, 48),\n",
       "       (0, 49), (0, 50), (0, 51), (0, 52), (0, 53), (0, 54), (0, 55), (0, 56),\n",
       "       (0, 57), (0, 58), (0, 59), (0, 60), (0, 61), (0, 62), (0, 63), (0, 64),\n",
       "       (0, 65), (0, 66), (0, 67), (0, 68), (0, 69), (0, 70), (0, 71), (0, 72),\n",
       "       (0, 73), (0, 74), (0, 75), (0, 76), (0, 77), (0, 78), (0, 79), (0, 80),\n",
       "       (0, 81), (0, 82), (0, 83), (0, 84), (0, 85), (0, 86), (0, 87), (0, 88),\n",
       "       (0, 89), (0, 90), (0, 91), (0, 92), (0, 93), (0, 94), (0, 95), (0, 96),\n",
       "       (0, 97), (0, 98), (0, 99), (1, 0), (1, 1), (1, 2), (1, 3), (1, 4),\n",
       "       (1, 5), (1, 6), (1, 7), (1, 8), (1, 9), (1, 10), (1, 11), (1, 12),\n",
       "       (1, 13), (1, 14), (1, 15), (1, 16), (1, 17), (1, 18), (1, 19), (1, 20),\n",
       "       (1, 21), (1, 22), (1, 23), (1, 24), (1, 25), (1, 26), (1, 27), (1, 28),\n",
       "       (1, 29), (1, 30), (1, 31), (1, 32), (1, 33), (1, 34), (1, 35), (1, 36),\n",
       "       (1, 37), (1, 38), (1, 39), (1, 40), (1, 41), (1, 42), (1, 43), (1, 44),\n",
       "       (1, 45), (1, 46), (1, 47), (1, 48), (1, 49), (1, 50), (1, 51), (1, 52),\n",
       "       (1, 53), (1, 54), (1, 55), (1, 56), (1, 57), (1, 58), (1, 59), (1, 60),\n",
       "       (1, 61), (1, 62), (1, 63), (1, 64), (1, 65), (1, 66), (1, 67), (1, 68),\n",
       "       (1, 69), (1, 70), (1, 71), (1, 72), (1, 73), (1, 74), (1, 75), (1, 76),\n",
       "       (1, 77), (1, 78), (1, 79), (1, 80), (1, 81), (1, 82), (1, 83), (1, 84),\n",
       "       (1, 85), (1, 86), (1, 87), (1, 88), (1, 89), (1, 90), (1, 91), (1, 92),\n",
       "       (1, 93), (1, 94), (1, 95), (1, 96), (1, 97), (1, 98), (1, 99)],\n",
       "      dtype=object)</pre></div></li><li class='xr-var-item'><div class='xr-var-name'><span class='xr-has-index'>chain</span></div><div class='xr-var-dims'>(prior_draw)</div><div class='xr-var-dtype'>int64</div><div class='xr-var-preview xr-preview'>0 0 0 0 0 0 0 0 ... 1 1 1 1 1 1 1 1</div><input id='attrs-bf508582-a0c6-41ed-9cf5-10a8cc66c8ed' class='xr-var-attrs-in' type='checkbox' disabled><label for='attrs-bf508582-a0c6-41ed-9cf5-10a8cc66c8ed' title='Show/Hide attributes'><svg class='icon xr-icon-file-text2'><use xlink:href='#icon-file-text2'></use></svg></label><input id='data-9a3eadda-c61c-4d09-ad83-b16e2b0c1e58' class='xr-var-data-in' type='checkbox'><label for='data-9a3eadda-c61c-4d09-ad83-b16e2b0c1e58' title='Show/Hide data repr'><svg class='icon xr-icon-database'><use xlink:href='#icon-database'></use></svg></label><div class='xr-var-attrs'><dl class='xr-attrs'></dl></div><div class='xr-var-data'><pre>array([0, 0, 0, 0, 0, 0, 0, 0, 0, 0, 0, 0, 0, 0, 0, 0, 0, 0, 0, 0, 0, 0, 0, 0,\n",
       "       0, 0, 0, 0, 0, 0, 0, 0, 0, 0, 0, 0, 0, 0, 0, 0, 0, 0, 0, 0, 0, 0, 0, 0,\n",
       "       0, 0, 0, 0, 0, 0, 0, 0, 0, 0, 0, 0, 0, 0, 0, 0, 0, 0, 0, 0, 0, 0, 0, 0,\n",
       "       0, 0, 0, 0, 0, 0, 0, 0, 0, 0, 0, 0, 0, 0, 0, 0, 0, 0, 0, 0, 0, 0, 0, 0,\n",
       "       0, 0, 0, 0, 1, 1, 1, 1, 1, 1, 1, 1, 1, 1, 1, 1, 1, 1, 1, 1, 1, 1, 1, 1,\n",
       "       1, 1, 1, 1, 1, 1, 1, 1, 1, 1, 1, 1, 1, 1, 1, 1, 1, 1, 1, 1, 1, 1, 1, 1,\n",
       "       1, 1, 1, 1, 1, 1, 1, 1, 1, 1, 1, 1, 1, 1, 1, 1, 1, 1, 1, 1, 1, 1, 1, 1,\n",
       "       1, 1, 1, 1, 1, 1, 1, 1, 1, 1, 1, 1, 1, 1, 1, 1, 1, 1, 1, 1, 1, 1, 1, 1,\n",
       "       1, 1, 1, 1, 1, 1, 1, 1])</pre></div></li><li class='xr-var-item'><div class='xr-var-name'><span class='xr-has-index'>draw</span></div><div class='xr-var-dims'>(prior_draw)</div><div class='xr-var-dtype'>int64</div><div class='xr-var-preview xr-preview'>0 1 2 3 4 5 6 ... 94 95 96 97 98 99</div><input id='attrs-2bf4d5eb-9b38-4f6e-8996-880f667c2bee' class='xr-var-attrs-in' type='checkbox' disabled><label for='attrs-2bf4d5eb-9b38-4f6e-8996-880f667c2bee' title='Show/Hide attributes'><svg class='icon xr-icon-file-text2'><use xlink:href='#icon-file-text2'></use></svg></label><input id='data-164da148-cd87-4889-b326-5fd63b78fa69' class='xr-var-data-in' type='checkbox'><label for='data-164da148-cd87-4889-b326-5fd63b78fa69' title='Show/Hide data repr'><svg class='icon xr-icon-database'><use xlink:href='#icon-database'></use></svg></label><div class='xr-var-attrs'><dl class='xr-attrs'></dl></div><div class='xr-var-data'><pre>array([ 0,  1,  2,  3,  4,  5,  6,  7,  8,  9, 10, 11, 12, 13, 14, 15, 16, 17,\n",
       "       18, 19, 20, 21, 22, 23, 24, 25, 26, 27, 28, 29, 30, 31, 32, 33, 34, 35,\n",
       "       36, 37, 38, 39, 40, 41, 42, 43, 44, 45, 46, 47, 48, 49, 50, 51, 52, 53,\n",
       "       54, 55, 56, 57, 58, 59, 60, 61, 62, 63, 64, 65, 66, 67, 68, 69, 70, 71,\n",
       "       72, 73, 74, 75, 76, 77, 78, 79, 80, 81, 82, 83, 84, 85, 86, 87, 88, 89,\n",
       "       90, 91, 92, 93, 94, 95, 96, 97, 98, 99,  0,  1,  2,  3,  4,  5,  6,  7,\n",
       "        8,  9, 10, 11, 12, 13, 14, 15, 16, 17, 18, 19, 20, 21, 22, 23, 24, 25,\n",
       "       26, 27, 28, 29, 30, 31, 32, 33, 34, 35, 36, 37, 38, 39, 40, 41, 42, 43,\n",
       "       44, 45, 46, 47, 48, 49, 50, 51, 52, 53, 54, 55, 56, 57, 58, 59, 60, 61,\n",
       "       62, 63, 64, 65, 66, 67, 68, 69, 70, 71, 72, 73, 74, 75, 76, 77, 78, 79,\n",
       "       80, 81, 82, 83, 84, 85, 86, 87, 88, 89, 90, 91, 92, 93, 94, 95, 96, 97,\n",
       "       98, 99])</pre></div></li></ul></div></li><li class='xr-section-item'><input id='section-90bcc55e-1c52-4e17-869b-63d644df7f7e' class='xr-section-summary-in' type='checkbox'  checked><label for='section-90bcc55e-1c52-4e17-869b-63d644df7f7e' class='xr-section-summary' >Data variables: <span>(2)</span></label><div class='xr-section-inline-details'></div><div class='xr-section-details'><ul class='xr-var-list'><li class='xr-var-item'><div class='xr-var-name'><span>slack_comments_hat</span></div><div class='xr-var-dims'>(developer, prior_draw)</div><div class='xr-var-dtype'>float64</div><div class='xr-var-preview xr-preview'>701.6 -1.71e+03 ... 278.3 4.755e+03</div><input id='attrs-c8cfca34-fc24-4204-9fff-b2520bcd447b' class='xr-var-attrs-in' type='checkbox' disabled><label for='attrs-c8cfca34-fc24-4204-9fff-b2520bcd447b' title='Show/Hide attributes'><svg class='icon xr-icon-file-text2'><use xlink:href='#icon-file-text2'></use></svg></label><input id='data-c50d3e69-408e-45ae-930f-5294b048f635' class='xr-var-data-in' type='checkbox'><label for='data-c50d3e69-408e-45ae-930f-5294b048f635' title='Show/Hide data repr'><svg class='icon xr-icon-database'><use xlink:href='#icon-database'></use></svg></label><div class='xr-var-attrs'><dl class='xr-attrs'></dl></div><div class='xr-var-data'><pre>array([[ 7.01635e+02, -1.71015e+03, -7.46569e+02, -4.75820e+02,\n",
       "        -9.70344e+02,  2.75622e+02,  7.48176e+02, -1.93081e+03,\n",
       "        -9.03209e+02,  1.21503e+02,  8.06802e+02,  1.18798e+03,\n",
       "         6.13121e+02, -5.04051e+02, -1.41135e+03,  1.23777e+03,\n",
       "        -3.13568e+01, -1.02363e+03,  1.16850e+03,  9.45851e+02,\n",
       "        -4.11883e+02, -6.03147e+02,  6.18558e+02, -4.51823e+02,\n",
       "         6.40562e+02, -6.78520e+02, -8.31949e+02,  4.12803e+02,\n",
       "        -1.19898e+03, -1.06694e+03,  1.12120e+03,  2.37494e+03,\n",
       "        -1.06157e+02, -9.49454e+02, -2.95483e+03, -6.87644e+01,\n",
       "         9.05534e+02,  1.23511e+03, -7.44337e+02, -9.20171e+02,\n",
       "        -5.27698e+02, -4.63435e+02,  2.68999e+02,  6.31111e+02,\n",
       "         5.24441e+02,  4.19679e+00, -2.09532e+02, -4.80293e+01,\n",
       "        -3.53783e+02,  1.46597e+03,  1.38868e+02,  2.28999e+02,\n",
       "         8.80858e+02, -1.98248e+03, -5.40983e+00, -2.70231e+02,\n",
       "        -5.15153e+02,  5.71568e+02, -2.96654e+02,  6.52206e+01,\n",
       "         2.38107e+02,  1.26462e+02,  8.24363e+02,  9.20888e+02,\n",
       "        -1.50495e+02,  1.98798e+02, -7.74605e+02, -1.49594e+02,\n",
       "        -8.05360e+02, -2.96565e+00,  2.11889e+02, -1.95526e+03,\n",
       "         8.42636e+02,  1.48352e+03, -9.25890e+02,  6.94723e+02,\n",
       "         7.03014e+02, -4.89636e+01, -1.37193e+03,  3.85384e+02,\n",
       "...\n",
       "         2.81017e+03,  6.48229e+03,  1.87692e+03,  3.84253e+03,\n",
       "         1.35220e+03,  3.39848e+03, -7.35452e+02,  8.99312e+02,\n",
       "         5.69943e+02, -1.60696e+03,  7.11493e+03,  3.08565e+02,\n",
       "         4.36992e+03, -4.51010e+02,  4.93667e+02, -4.92458e+03,\n",
       "        -2.63299e+03,  6.48931e+03,  1.30432e+03,  4.17090e+03,\n",
       "        -5.29319e+03,  3.70678e+03, -4.93416e+03,  9.97230e+02,\n",
       "        -8.04396e+03, -9.03846e+03,  2.24420e+03, -4.23989e+03,\n",
       "        -7.87408e+02, -2.47597e+03, -2.15519e+02,  3.85781e+03,\n",
       "         3.45968e+03, -1.44633e+02, -5.87800e+03,  2.38952e+03,\n",
       "        -4.48326e+03, -7.20604e+03,  3.15643e+03,  8.75025e+02,\n",
       "        -5.91197e+02, -4.99378e+03, -8.25026e+02, -3.88282e+03,\n",
       "        -1.10449e+03, -1.32122e+02, -1.78410e+03,  4.20796e+03,\n",
       "        -3.87119e+03,  3.10392e+03,  3.40599e+02, -1.87587e+03,\n",
       "         3.86961e+03, -1.41653e+03,  1.34985e+03, -1.44692e+03,\n",
       "         4.21309e+02, -3.61131e+03, -3.16072e+03,  2.39139e+03,\n",
       "        -2.45680e+03,  2.83553e+03,  1.73646e+03,  2.82875e+03,\n",
       "         1.20681e+03, -6.84534e+01,  4.17452e+01, -6.22357e+03,\n",
       "         4.12570e+03,  7.93060e+02,  4.18629e+00, -3.58677e+03,\n",
       "        -1.60933e+03, -2.13523e+03, -3.75807e+03,  1.97718e+03,\n",
       "        -2.63607e+03, -3.10590e+03,  2.78268e+02,  4.75451e+03]])</pre></div></li><li class='xr-var-item'><div class='xr-var-name'><span>github_commits_hat</span></div><div class='xr-var-dims'>(developer, prior_draw)</div><div class='xr-var-dtype'>float64</div><div class='xr-var-preview xr-preview'>82.57 -39.29 ... -63.32 -270.4</div><input id='attrs-ac20cd3b-b9a8-4749-9d41-38b1c0cba31e' class='xr-var-attrs-in' type='checkbox' disabled><label for='attrs-ac20cd3b-b9a8-4749-9d41-38b1c0cba31e' title='Show/Hide attributes'><svg class='icon xr-icon-file-text2'><use xlink:href='#icon-file-text2'></use></svg></label><input id='data-a487e80a-a11e-4894-a6bd-65f37997c679' class='xr-var-data-in' type='checkbox'><label for='data-a487e80a-a11e-4894-a6bd-65f37997c679' title='Show/Hide data repr'><svg class='icon xr-icon-database'><use xlink:href='#icon-database'></use></svg></label><div class='xr-var-attrs'><dl class='xr-attrs'></dl></div><div class='xr-var-data'><pre>array([[ 8.25695e+01, -3.92913e+01,  1.00773e+01, -4.44562e+01,\n",
       "         7.58158e+00, -8.11464e+00,  7.37081e+01, -5.72467e+01,\n",
       "         2.56323e+01,  4.57231e+01,  5.83738e+01, -5.03532e+01,\n",
       "         6.04268e+01, -1.48036e+01,  3.55997e+01, -3.22851e+01,\n",
       "         2.37702e+01,  2.90624e+01, -8.88786e+01, -1.63060e+01,\n",
       "         3.74905e+01, -3.52113e+01, -4.47423e+01,  2.21732e+01,\n",
       "        -6.28020e+01, -3.68073e+01, -4.24768e+01,  7.06124e+00,\n",
       "         8.38063e+00, -2.67877e+01, -2.15220e+01,  3.29233e+01,\n",
       "        -4.00096e+01,  1.08829e+01, -3.00923e+01,  1.90398e-01,\n",
       "        -7.06085e+01,  3.00012e+01, -5.36419e+01,  4.45719e+01,\n",
       "        -1.08354e+01,  5.39344e+01, -4.33978e+01, -4.16413e+01,\n",
       "        -1.18388e-02,  3.14357e+00, -4.85542e+01,  3.27790e+01,\n",
       "         2.13703e+01, -2.21075e+01,  2.61564e+01,  1.02869e+01,\n",
       "        -5.20052e+01,  2.09780e+00,  8.30661e+01, -2.80479e+01,\n",
       "         7.67271e+00, -3.19963e+01, -5.20148e+01, -1.95383e+01,\n",
       "        -4.12209e+01, -7.39397e+01,  2.34290e+00, -3.26835e+01,\n",
       "        -5.89732e+00, -3.54093e+01,  3.38878e+01, -9.15137e+00,\n",
       "        -1.32597e+01, -2.99856e+01, -3.22435e+01, -2.34254e+01,\n",
       "         5.31293e+01,  3.77257e+01, -4.77884e+01,  4.69359e+00,\n",
       "         4.41820e+01,  8.58957e+01,  1.70320e+01,  8.08340e+01,\n",
       "...\n",
       "        -1.72110e+02,  2.32140e+02,  2.98143e+02, -4.59528e+01,\n",
       "         2.46246e+02,  1.08290e+02, -2.48056e+02,  1.05902e+02,\n",
       "        -1.82878e+02,  1.14478e+02, -2.38707e+01,  2.09251e+02,\n",
       "         3.56337e+01,  1.81686e+02,  9.38758e+01,  1.79392e+01,\n",
       "         1.37728e+02,  9.46345e+01, -7.44769e+01,  4.26616e+01,\n",
       "         2.98954e+02,  1.07828e+02,  2.88079e+02,  2.52551e+02,\n",
       "        -1.97154e+02, -1.53620e+01, -1.08125e+02, -1.17013e+02,\n",
       "        -6.93480e+01, -1.89030e+02,  2.38371e+02,  5.25148e+02,\n",
       "         1.27658e+02,  6.81473e+02,  1.37807e+02,  2.93876e+02,\n",
       "        -1.53361e+01, -1.86821e+02,  1.46288e+02,  9.56346e+01,\n",
       "         1.02542e+02,  1.56525e+02, -2.09157e+02, -7.18501e+01,\n",
       "        -2.31262e+02,  4.34460e+02, -1.96055e+02, -5.14229e+00,\n",
       "        -1.53026e+02,  1.28617e+02, -1.51460e+00,  2.40610e+02,\n",
       "        -4.57542e+01, -6.55952e+00, -9.47417e+01,  9.90240e+01,\n",
       "         3.42897e+02, -3.89837e+01,  1.56344e+00, -1.57353e+01,\n",
       "        -4.91605e+01,  4.06864e+02,  1.34723e-01,  2.98563e+00,\n",
       "        -1.68782e+02, -3.38462e+02, -1.36884e+02,  6.33912e+00,\n",
       "        -2.95171e+01,  8.39892e+01, -1.60082e+01,  2.25701e+01,\n",
       "        -2.06323e+02,  7.20501e+01,  3.06984e+02, -1.34986e+02,\n",
       "        -9.06172e+01, -1.10477e+02, -6.33216e+01, -2.70435e+02]])</pre></div></li></ul></div></li><li class='xr-section-item'><input id='section-86371679-ba91-4fd1-8222-e989d0180d0b' class='xr-section-summary-in' type='checkbox'  ><label for='section-86371679-ba91-4fd1-8222-e989d0180d0b' class='xr-section-summary' >Indexes: <span>(2)</span></label><div class='xr-section-inline-details'></div><div class='xr-section-details'><ul class='xr-var-list'><li class='xr-var-item'><div class='xr-index-name'><div>developer</div></div><div class='xr-index-preview'>PandasIndex</div><div></div><input id='index-2d7ee362-c2ec-40d0-a4c8-b8243bbce1ea' class='xr-index-data-in' type='checkbox'/><label for='index-2d7ee362-c2ec-40d0-a4c8-b8243bbce1ea' title='Show/Hide index repr'><svg class='icon xr-icon-database'><use xlink:href='#icon-database'></use></svg></label><div class='xr-index-data'><pre>PandasIndex(Index([&#x27;Alice&#x27;, &#x27;Bob&#x27;, &#x27;Cole&#x27;, &#x27;Danielle&#x27;, &#x27;Erika&#x27;], dtype=&#x27;object&#x27;, name=&#x27;developer&#x27;))</pre></div></li><li class='xr-var-item'><div class='xr-index-name'><div>prior_draw<br>chain<br>draw</div></div><div class='xr-index-preview'>PandasMultiIndex</div><div></div><input id='index-f521ab0d-1585-4ac9-a98f-fbc92b545a42' class='xr-index-data-in' type='checkbox'/><label for='index-f521ab0d-1585-4ac9-a98f-fbc92b545a42' title='Show/Hide index repr'><svg class='icon xr-icon-database'><use xlink:href='#icon-database'></use></svg></label><div class='xr-index-data'><pre>PandasIndex(MultiIndex([(0,  0),\n",
       "            (0,  1),\n",
       "            (0,  2),\n",
       "            (0,  3),\n",
       "            (0,  4),\n",
       "            (0,  5),\n",
       "            (0,  6),\n",
       "            (0,  7),\n",
       "            (0,  8),\n",
       "            (0,  9),\n",
       "            ...\n",
       "            (1, 90),\n",
       "            (1, 91),\n",
       "            (1, 92),\n",
       "            (1, 93),\n",
       "            (1, 94),\n",
       "            (1, 95),\n",
       "            (1, 96),\n",
       "            (1, 97),\n",
       "            (1, 98),\n",
       "            (1, 99)],\n",
       "           name=&#x27;prior_draw&#x27;, length=200))</pre></div></li></ul></div></li><li class='xr-section-item'><input id='section-42bf383e-9abe-4598-8db9-2e40ed307468' class='xr-section-summary-in' type='checkbox'  checked><label for='section-42bf383e-9abe-4598-8db9-2e40ed307468' class='xr-section-summary' >Attributes: <span>(4)</span></label><div class='xr-section-inline-details'></div><div class='xr-section-details'><dl class='xr-attrs'><dt><span>created_at :</span></dt><dd>2022-11-10T02:19:07.963278</dd><dt><span>arviz_version :</span></dt><dd>0.13.0</dd><dt><span>inference_library :</span></dt><dd>cmdstanpy</dd><dt><span>inference_library_version :</span></dt><dd>1.0.8</dd></dl></div></li></ul></div></div><br></div>\n",
       "                      </ul>\n",
       "                  </div>\n",
       "            </li>\n",
       "            \n",
       "            <li class = \"xr-section-item\">\n",
       "                  <input id=\"idata_sample_stats_prior804d6bf4-71b1-4229-9ed0-9b852483b4c7\" class=\"xr-section-summary-in\" type=\"checkbox\">\n",
       "                  <label for=\"idata_sample_stats_prior804d6bf4-71b1-4229-9ed0-9b852483b4c7\" class = \"xr-section-summary\">sample_stats_prior</label>\n",
       "                  <div class=\"xr-section-inline-details\"></div>\n",
       "                  <div class=\"xr-section-details\">\n",
       "                      <ul id=\"xr-dataset-coord-list\" class=\"xr-var-list\">\n",
       "                          <div style=\"padding-left:2rem;\"><div><svg style=\"position: absolute; width: 0; height: 0; overflow: hidden\">\n",
       "<defs>\n",
       "<symbol id=\"icon-database\" viewBox=\"0 0 32 32\">\n",
       "<path d=\"M16 0c-8.837 0-16 2.239-16 5v4c0 2.761 7.163 5 16 5s16-2.239 16-5v-4c0-2.761-7.163-5-16-5z\"></path>\n",
       "<path d=\"M16 17c-8.837 0-16-2.239-16-5v6c0 2.761 7.163 5 16 5s16-2.239 16-5v-6c0 2.761-7.163 5-16 5z\"></path>\n",
       "<path d=\"M16 26c-8.837 0-16-2.239-16-5v6c0 2.761 7.163 5 16 5s16-2.239 16-5v-6c0 2.761-7.163 5-16 5z\"></path>\n",
       "</symbol>\n",
       "<symbol id=\"icon-file-text2\" viewBox=\"0 0 32 32\">\n",
       "<path d=\"M28.681 7.159c-0.694-0.947-1.662-2.053-2.724-3.116s-2.169-2.030-3.116-2.724c-1.612-1.182-2.393-1.319-2.841-1.319h-15.5c-1.378 0-2.5 1.121-2.5 2.5v27c0 1.378 1.122 2.5 2.5 2.5h23c1.378 0 2.5-1.122 2.5-2.5v-19.5c0-0.448-0.137-1.23-1.319-2.841zM24.543 5.457c0.959 0.959 1.712 1.825 2.268 2.543h-4.811v-4.811c0.718 0.556 1.584 1.309 2.543 2.268zM28 29.5c0 0.271-0.229 0.5-0.5 0.5h-23c-0.271 0-0.5-0.229-0.5-0.5v-27c0-0.271 0.229-0.5 0.5-0.5 0 0 15.499-0 15.5 0v7c0 0.552 0.448 1 1 1h7v19.5z\"></path>\n",
       "<path d=\"M23 26h-14c-0.552 0-1-0.448-1-1s0.448-1 1-1h14c0.552 0 1 0.448 1 1s-0.448 1-1 1z\"></path>\n",
       "<path d=\"M23 22h-14c-0.552 0-1-0.448-1-1s0.448-1 1-1h14c0.552 0 1 0.448 1 1s-0.448 1-1 1z\"></path>\n",
       "<path d=\"M23 18h-14c-0.552 0-1-0.448-1-1s0.448-1 1-1h14c0.552 0 1 0.448 1 1s-0.448 1-1 1z\"></path>\n",
       "</symbol>\n",
       "</defs>\n",
       "</svg>\n",
       "<style>/* CSS stylesheet for displaying xarray objects in jupyterlab.\n",
       " *\n",
       " */\n",
       "\n",
       ":root {\n",
       "  --xr-font-color0: var(--jp-content-font-color0, rgba(0, 0, 0, 1));\n",
       "  --xr-font-color2: var(--jp-content-font-color2, rgba(0, 0, 0, 0.54));\n",
       "  --xr-font-color3: var(--jp-content-font-color3, rgba(0, 0, 0, 0.38));\n",
       "  --xr-border-color: var(--jp-border-color2, #e0e0e0);\n",
       "  --xr-disabled-color: var(--jp-layout-color3, #bdbdbd);\n",
       "  --xr-background-color: var(--jp-layout-color0, white);\n",
       "  --xr-background-color-row-even: var(--jp-layout-color1, white);\n",
       "  --xr-background-color-row-odd: var(--jp-layout-color2, #eeeeee);\n",
       "}\n",
       "\n",
       "html[theme=dark],\n",
       "body[data-theme=dark],\n",
       "body.vscode-dark {\n",
       "  --xr-font-color0: rgba(255, 255, 255, 1);\n",
       "  --xr-font-color2: rgba(255, 255, 255, 0.54);\n",
       "  --xr-font-color3: rgba(255, 255, 255, 0.38);\n",
       "  --xr-border-color: #1F1F1F;\n",
       "  --xr-disabled-color: #515151;\n",
       "  --xr-background-color: #111111;\n",
       "  --xr-background-color-row-even: #111111;\n",
       "  --xr-background-color-row-odd: #313131;\n",
       "}\n",
       "\n",
       ".xr-wrap {\n",
       "  display: block !important;\n",
       "  min-width: 300px;\n",
       "  max-width: 700px;\n",
       "}\n",
       "\n",
       ".xr-text-repr-fallback {\n",
       "  /* fallback to plain text repr when CSS is not injected (untrusted notebook) */\n",
       "  display: none;\n",
       "}\n",
       "\n",
       ".xr-header {\n",
       "  padding-top: 6px;\n",
       "  padding-bottom: 6px;\n",
       "  margin-bottom: 4px;\n",
       "  border-bottom: solid 1px var(--xr-border-color);\n",
       "}\n",
       "\n",
       ".xr-header > div,\n",
       ".xr-header > ul {\n",
       "  display: inline;\n",
       "  margin-top: 0;\n",
       "  margin-bottom: 0;\n",
       "}\n",
       "\n",
       ".xr-obj-type,\n",
       ".xr-array-name {\n",
       "  margin-left: 2px;\n",
       "  margin-right: 10px;\n",
       "}\n",
       "\n",
       ".xr-obj-type {\n",
       "  color: var(--xr-font-color2);\n",
       "}\n",
       "\n",
       ".xr-sections {\n",
       "  padding-left: 0 !important;\n",
       "  display: grid;\n",
       "  grid-template-columns: 150px auto auto 1fr 20px 20px;\n",
       "}\n",
       "\n",
       ".xr-section-item {\n",
       "  display: contents;\n",
       "}\n",
       "\n",
       ".xr-section-item input {\n",
       "  display: none;\n",
       "}\n",
       "\n",
       ".xr-section-item input + label {\n",
       "  color: var(--xr-disabled-color);\n",
       "}\n",
       "\n",
       ".xr-section-item input:enabled + label {\n",
       "  cursor: pointer;\n",
       "  color: var(--xr-font-color2);\n",
       "}\n",
       "\n",
       ".xr-section-item input:enabled + label:hover {\n",
       "  color: var(--xr-font-color0);\n",
       "}\n",
       "\n",
       ".xr-section-summary {\n",
       "  grid-column: 1;\n",
       "  color: var(--xr-font-color2);\n",
       "  font-weight: 500;\n",
       "}\n",
       "\n",
       ".xr-section-summary > span {\n",
       "  display: inline-block;\n",
       "  padding-left: 0.5em;\n",
       "}\n",
       "\n",
       ".xr-section-summary-in:disabled + label {\n",
       "  color: var(--xr-font-color2);\n",
       "}\n",
       "\n",
       ".xr-section-summary-in + label:before {\n",
       "  display: inline-block;\n",
       "  content: '►';\n",
       "  font-size: 11px;\n",
       "  width: 15px;\n",
       "  text-align: center;\n",
       "}\n",
       "\n",
       ".xr-section-summary-in:disabled + label:before {\n",
       "  color: var(--xr-disabled-color);\n",
       "}\n",
       "\n",
       ".xr-section-summary-in:checked + label:before {\n",
       "  content: '▼';\n",
       "}\n",
       "\n",
       ".xr-section-summary-in:checked + label > span {\n",
       "  display: none;\n",
       "}\n",
       "\n",
       ".xr-section-summary,\n",
       ".xr-section-inline-details {\n",
       "  padding-top: 4px;\n",
       "  padding-bottom: 4px;\n",
       "}\n",
       "\n",
       ".xr-section-inline-details {\n",
       "  grid-column: 2 / -1;\n",
       "}\n",
       "\n",
       ".xr-section-details {\n",
       "  display: none;\n",
       "  grid-column: 1 / -1;\n",
       "  margin-bottom: 5px;\n",
       "}\n",
       "\n",
       ".xr-section-summary-in:checked ~ .xr-section-details {\n",
       "  display: contents;\n",
       "}\n",
       "\n",
       ".xr-array-wrap {\n",
       "  grid-column: 1 / -1;\n",
       "  display: grid;\n",
       "  grid-template-columns: 20px auto;\n",
       "}\n",
       "\n",
       ".xr-array-wrap > label {\n",
       "  grid-column: 1;\n",
       "  vertical-align: top;\n",
       "}\n",
       "\n",
       ".xr-preview {\n",
       "  color: var(--xr-font-color3);\n",
       "}\n",
       "\n",
       ".xr-array-preview,\n",
       ".xr-array-data {\n",
       "  padding: 0 5px !important;\n",
       "  grid-column: 2;\n",
       "}\n",
       "\n",
       ".xr-array-data,\n",
       ".xr-array-in:checked ~ .xr-array-preview {\n",
       "  display: none;\n",
       "}\n",
       "\n",
       ".xr-array-in:checked ~ .xr-array-data,\n",
       ".xr-array-preview {\n",
       "  display: inline-block;\n",
       "}\n",
       "\n",
       ".xr-dim-list {\n",
       "  display: inline-block !important;\n",
       "  list-style: none;\n",
       "  padding: 0 !important;\n",
       "  margin: 0;\n",
       "}\n",
       "\n",
       ".xr-dim-list li {\n",
       "  display: inline-block;\n",
       "  padding: 0;\n",
       "  margin: 0;\n",
       "}\n",
       "\n",
       ".xr-dim-list:before {\n",
       "  content: '(';\n",
       "}\n",
       "\n",
       ".xr-dim-list:after {\n",
       "  content: ')';\n",
       "}\n",
       "\n",
       ".xr-dim-list li:not(:last-child):after {\n",
       "  content: ',';\n",
       "  padding-right: 5px;\n",
       "}\n",
       "\n",
       ".xr-has-index {\n",
       "  font-weight: bold;\n",
       "}\n",
       "\n",
       ".xr-var-list,\n",
       ".xr-var-item {\n",
       "  display: contents;\n",
       "}\n",
       "\n",
       ".xr-var-item > div,\n",
       ".xr-var-item label,\n",
       ".xr-var-item > .xr-var-name span {\n",
       "  background-color: var(--xr-background-color-row-even);\n",
       "  margin-bottom: 0;\n",
       "}\n",
       "\n",
       ".xr-var-item > .xr-var-name:hover span {\n",
       "  padding-right: 5px;\n",
       "}\n",
       "\n",
       ".xr-var-list > li:nth-child(odd) > div,\n",
       ".xr-var-list > li:nth-child(odd) > label,\n",
       ".xr-var-list > li:nth-child(odd) > .xr-var-name span {\n",
       "  background-color: var(--xr-background-color-row-odd);\n",
       "}\n",
       "\n",
       ".xr-var-name {\n",
       "  grid-column: 1;\n",
       "}\n",
       "\n",
       ".xr-var-dims {\n",
       "  grid-column: 2;\n",
       "}\n",
       "\n",
       ".xr-var-dtype {\n",
       "  grid-column: 3;\n",
       "  text-align: right;\n",
       "  color: var(--xr-font-color2);\n",
       "}\n",
       "\n",
       ".xr-var-preview {\n",
       "  grid-column: 4;\n",
       "}\n",
       "\n",
       ".xr-index-preview {\n",
       "  grid-column: 2 / 5;\n",
       "  color: var(--xr-font-color2);\n",
       "}\n",
       "\n",
       ".xr-var-name,\n",
       ".xr-var-dims,\n",
       ".xr-var-dtype,\n",
       ".xr-preview,\n",
       ".xr-attrs dt {\n",
       "  white-space: nowrap;\n",
       "  overflow: hidden;\n",
       "  text-overflow: ellipsis;\n",
       "  padding-right: 10px;\n",
       "}\n",
       "\n",
       ".xr-var-name:hover,\n",
       ".xr-var-dims:hover,\n",
       ".xr-var-dtype:hover,\n",
       ".xr-attrs dt:hover {\n",
       "  overflow: visible;\n",
       "  width: auto;\n",
       "  z-index: 1;\n",
       "}\n",
       "\n",
       ".xr-var-attrs,\n",
       ".xr-var-data,\n",
       ".xr-index-data {\n",
       "  display: none;\n",
       "  background-color: var(--xr-background-color) !important;\n",
       "  padding-bottom: 5px !important;\n",
       "}\n",
       "\n",
       ".xr-var-attrs-in:checked ~ .xr-var-attrs,\n",
       ".xr-var-data-in:checked ~ .xr-var-data,\n",
       ".xr-index-data-in:checked ~ .xr-index-data {\n",
       "  display: block;\n",
       "}\n",
       "\n",
       ".xr-var-data > table {\n",
       "  float: right;\n",
       "}\n",
       "\n",
       ".xr-var-name span,\n",
       ".xr-var-data,\n",
       ".xr-index-name div,\n",
       ".xr-index-data,\n",
       ".xr-attrs {\n",
       "  padding-left: 25px !important;\n",
       "}\n",
       "\n",
       ".xr-attrs,\n",
       ".xr-var-attrs,\n",
       ".xr-var-data,\n",
       ".xr-index-data {\n",
       "  grid-column: 1 / -1;\n",
       "}\n",
       "\n",
       "dl.xr-attrs {\n",
       "  padding: 0;\n",
       "  margin: 0;\n",
       "  display: grid;\n",
       "  grid-template-columns: 125px auto;\n",
       "}\n",
       "\n",
       ".xr-attrs dt,\n",
       ".xr-attrs dd {\n",
       "  padding: 0;\n",
       "  margin: 0;\n",
       "  float: left;\n",
       "  padding-right: 10px;\n",
       "  width: auto;\n",
       "}\n",
       "\n",
       ".xr-attrs dt {\n",
       "  font-weight: normal;\n",
       "  grid-column: 1;\n",
       "}\n",
       "\n",
       ".xr-attrs dt:hover span {\n",
       "  display: inline-block;\n",
       "  background: var(--xr-background-color);\n",
       "  padding-right: 10px;\n",
       "}\n",
       "\n",
       ".xr-attrs dd {\n",
       "  grid-column: 2;\n",
       "  white-space: pre-wrap;\n",
       "  word-break: break-all;\n",
       "}\n",
       "\n",
       ".xr-icon-database,\n",
       ".xr-icon-file-text2,\n",
       ".xr-no-icon {\n",
       "  display: inline-block;\n",
       "  vertical-align: middle;\n",
       "  width: 1em;\n",
       "  height: 1.5em !important;\n",
       "  stroke-width: 0;\n",
       "  stroke: currentColor;\n",
       "  fill: currentColor;\n",
       "}\n",
       "</style><pre class='xr-text-repr-fallback'>&lt;xarray.Dataset&gt;\n",
       "Dimensions:          (prior_draw: 200)\n",
       "Coordinates:\n",
       "  * prior_draw       (prior_draw) object MultiIndex\n",
       "  * chain            (prior_draw) int64 0 0 0 0 0 0 0 0 0 ... 1 1 1 1 1 1 1 1 1\n",
       "  * draw             (prior_draw) int64 0 1 2 3 4 5 6 7 ... 93 94 95 96 97 98 99\n",
       "Data variables:\n",
       "    lp               (prior_draw) float64 0.0 0.0 0.0 0.0 ... 0.0 0.0 0.0 0.0\n",
       "    acceptance_rate  (prior_draw) float64 0.0 0.0 0.0 0.0 ... 0.0 0.0 0.0 0.0\n",
       "Attributes:\n",
       "    created_at:                 2022-11-10T02:19:07.958479\n",
       "    arviz_version:              0.13.0\n",
       "    inference_library:          cmdstanpy\n",
       "    inference_library_version:  1.0.8</pre><div class='xr-wrap' style='display:none'><div class='xr-header'><div class='xr-obj-type'>xarray.Dataset</div></div><ul class='xr-sections'><li class='xr-section-item'><input id='section-d457249e-f877-41a3-b2c2-5cabc1ef4229' class='xr-section-summary-in' type='checkbox' disabled ><label for='section-d457249e-f877-41a3-b2c2-5cabc1ef4229' class='xr-section-summary'  title='Expand/collapse section'>Dimensions:</label><div class='xr-section-inline-details'><ul class='xr-dim-list'><li><span class='xr-has-index'>prior_draw</span>: 200</li></ul></div><div class='xr-section-details'></div></li><li class='xr-section-item'><input id='section-4cbbd6ab-115d-45b5-982b-946831835a01' class='xr-section-summary-in' type='checkbox'  checked><label for='section-4cbbd6ab-115d-45b5-982b-946831835a01' class='xr-section-summary' >Coordinates: <span>(3)</span></label><div class='xr-section-inline-details'></div><div class='xr-section-details'><ul class='xr-var-list'><li class='xr-var-item'><div class='xr-var-name'><span class='xr-has-index'>prior_draw</span></div><div class='xr-var-dims'>(prior_draw)</div><div class='xr-var-dtype'>object</div><div class='xr-var-preview xr-preview'>MultiIndex</div><input id='attrs-226dd82d-02b9-4faa-9fc0-0f7d3a920344' class='xr-var-attrs-in' type='checkbox' disabled><label for='attrs-226dd82d-02b9-4faa-9fc0-0f7d3a920344' title='Show/Hide attributes'><svg class='icon xr-icon-file-text2'><use xlink:href='#icon-file-text2'></use></svg></label><input id='data-a9ae5edc-bbee-4ef5-bffa-4d5c41e510ce' class='xr-var-data-in' type='checkbox'><label for='data-a9ae5edc-bbee-4ef5-bffa-4d5c41e510ce' title='Show/Hide data repr'><svg class='icon xr-icon-database'><use xlink:href='#icon-database'></use></svg></label><div class='xr-var-attrs'><dl class='xr-attrs'></dl></div><div class='xr-var-data'><pre>array([(0, 0), (0, 1), (0, 2), (0, 3), (0, 4), (0, 5), (0, 6), (0, 7), (0, 8),\n",
       "       (0, 9), (0, 10), (0, 11), (0, 12), (0, 13), (0, 14), (0, 15), (0, 16),\n",
       "       (0, 17), (0, 18), (0, 19), (0, 20), (0, 21), (0, 22), (0, 23), (0, 24),\n",
       "       (0, 25), (0, 26), (0, 27), (0, 28), (0, 29), (0, 30), (0, 31), (0, 32),\n",
       "       (0, 33), (0, 34), (0, 35), (0, 36), (0, 37), (0, 38), (0, 39), (0, 40),\n",
       "       (0, 41), (0, 42), (0, 43), (0, 44), (0, 45), (0, 46), (0, 47), (0, 48),\n",
       "       (0, 49), (0, 50), (0, 51), (0, 52), (0, 53), (0, 54), (0, 55), (0, 56),\n",
       "       (0, 57), (0, 58), (0, 59), (0, 60), (0, 61), (0, 62), (0, 63), (0, 64),\n",
       "       (0, 65), (0, 66), (0, 67), (0, 68), (0, 69), (0, 70), (0, 71), (0, 72),\n",
       "       (0, 73), (0, 74), (0, 75), (0, 76), (0, 77), (0, 78), (0, 79), (0, 80),\n",
       "       (0, 81), (0, 82), (0, 83), (0, 84), (0, 85), (0, 86), (0, 87), (0, 88),\n",
       "       (0, 89), (0, 90), (0, 91), (0, 92), (0, 93), (0, 94), (0, 95), (0, 96),\n",
       "       (0, 97), (0, 98), (0, 99), (1, 0), (1, 1), (1, 2), (1, 3), (1, 4),\n",
       "       (1, 5), (1, 6), (1, 7), (1, 8), (1, 9), (1, 10), (1, 11), (1, 12),\n",
       "       (1, 13), (1, 14), (1, 15), (1, 16), (1, 17), (1, 18), (1, 19), (1, 20),\n",
       "       (1, 21), (1, 22), (1, 23), (1, 24), (1, 25), (1, 26), (1, 27), (1, 28),\n",
       "       (1, 29), (1, 30), (1, 31), (1, 32), (1, 33), (1, 34), (1, 35), (1, 36),\n",
       "       (1, 37), (1, 38), (1, 39), (1, 40), (1, 41), (1, 42), (1, 43), (1, 44),\n",
       "       (1, 45), (1, 46), (1, 47), (1, 48), (1, 49), (1, 50), (1, 51), (1, 52),\n",
       "       (1, 53), (1, 54), (1, 55), (1, 56), (1, 57), (1, 58), (1, 59), (1, 60),\n",
       "       (1, 61), (1, 62), (1, 63), (1, 64), (1, 65), (1, 66), (1, 67), (1, 68),\n",
       "       (1, 69), (1, 70), (1, 71), (1, 72), (1, 73), (1, 74), (1, 75), (1, 76),\n",
       "       (1, 77), (1, 78), (1, 79), (1, 80), (1, 81), (1, 82), (1, 83), (1, 84),\n",
       "       (1, 85), (1, 86), (1, 87), (1, 88), (1, 89), (1, 90), (1, 91), (1, 92),\n",
       "       (1, 93), (1, 94), (1, 95), (1, 96), (1, 97), (1, 98), (1, 99)],\n",
       "      dtype=object)</pre></div></li><li class='xr-var-item'><div class='xr-var-name'><span class='xr-has-index'>chain</span></div><div class='xr-var-dims'>(prior_draw)</div><div class='xr-var-dtype'>int64</div><div class='xr-var-preview xr-preview'>0 0 0 0 0 0 0 0 ... 1 1 1 1 1 1 1 1</div><input id='attrs-45288969-18b7-4b73-a254-3ce0b7325495' class='xr-var-attrs-in' type='checkbox' disabled><label for='attrs-45288969-18b7-4b73-a254-3ce0b7325495' title='Show/Hide attributes'><svg class='icon xr-icon-file-text2'><use xlink:href='#icon-file-text2'></use></svg></label><input id='data-a7e5bb9d-c32f-4a44-a15a-e35c3a63e72f' class='xr-var-data-in' type='checkbox'><label for='data-a7e5bb9d-c32f-4a44-a15a-e35c3a63e72f' title='Show/Hide data repr'><svg class='icon xr-icon-database'><use xlink:href='#icon-database'></use></svg></label><div class='xr-var-attrs'><dl class='xr-attrs'></dl></div><div class='xr-var-data'><pre>array([0, 0, 0, 0, 0, 0, 0, 0, 0, 0, 0, 0, 0, 0, 0, 0, 0, 0, 0, 0, 0, 0, 0, 0,\n",
       "       0, 0, 0, 0, 0, 0, 0, 0, 0, 0, 0, 0, 0, 0, 0, 0, 0, 0, 0, 0, 0, 0, 0, 0,\n",
       "       0, 0, 0, 0, 0, 0, 0, 0, 0, 0, 0, 0, 0, 0, 0, 0, 0, 0, 0, 0, 0, 0, 0, 0,\n",
       "       0, 0, 0, 0, 0, 0, 0, 0, 0, 0, 0, 0, 0, 0, 0, 0, 0, 0, 0, 0, 0, 0, 0, 0,\n",
       "       0, 0, 0, 0, 1, 1, 1, 1, 1, 1, 1, 1, 1, 1, 1, 1, 1, 1, 1, 1, 1, 1, 1, 1,\n",
       "       1, 1, 1, 1, 1, 1, 1, 1, 1, 1, 1, 1, 1, 1, 1, 1, 1, 1, 1, 1, 1, 1, 1, 1,\n",
       "       1, 1, 1, 1, 1, 1, 1, 1, 1, 1, 1, 1, 1, 1, 1, 1, 1, 1, 1, 1, 1, 1, 1, 1,\n",
       "       1, 1, 1, 1, 1, 1, 1, 1, 1, 1, 1, 1, 1, 1, 1, 1, 1, 1, 1, 1, 1, 1, 1, 1,\n",
       "       1, 1, 1, 1, 1, 1, 1, 1])</pre></div></li><li class='xr-var-item'><div class='xr-var-name'><span class='xr-has-index'>draw</span></div><div class='xr-var-dims'>(prior_draw)</div><div class='xr-var-dtype'>int64</div><div class='xr-var-preview xr-preview'>0 1 2 3 4 5 6 ... 94 95 96 97 98 99</div><input id='attrs-9b16861b-068d-4f51-aa61-94157670b278' class='xr-var-attrs-in' type='checkbox' disabled><label for='attrs-9b16861b-068d-4f51-aa61-94157670b278' title='Show/Hide attributes'><svg class='icon xr-icon-file-text2'><use xlink:href='#icon-file-text2'></use></svg></label><input id='data-4669b2e0-f098-4b91-9372-2ed327e3b941' class='xr-var-data-in' type='checkbox'><label for='data-4669b2e0-f098-4b91-9372-2ed327e3b941' title='Show/Hide data repr'><svg class='icon xr-icon-database'><use xlink:href='#icon-database'></use></svg></label><div class='xr-var-attrs'><dl class='xr-attrs'></dl></div><div class='xr-var-data'><pre>array([ 0,  1,  2,  3,  4,  5,  6,  7,  8,  9, 10, 11, 12, 13, 14, 15, 16, 17,\n",
       "       18, 19, 20, 21, 22, 23, 24, 25, 26, 27, 28, 29, 30, 31, 32, 33, 34, 35,\n",
       "       36, 37, 38, 39, 40, 41, 42, 43, 44, 45, 46, 47, 48, 49, 50, 51, 52, 53,\n",
       "       54, 55, 56, 57, 58, 59, 60, 61, 62, 63, 64, 65, 66, 67, 68, 69, 70, 71,\n",
       "       72, 73, 74, 75, 76, 77, 78, 79, 80, 81, 82, 83, 84, 85, 86, 87, 88, 89,\n",
       "       90, 91, 92, 93, 94, 95, 96, 97, 98, 99,  0,  1,  2,  3,  4,  5,  6,  7,\n",
       "        8,  9, 10, 11, 12, 13, 14, 15, 16, 17, 18, 19, 20, 21, 22, 23, 24, 25,\n",
       "       26, 27, 28, 29, 30, 31, 32, 33, 34, 35, 36, 37, 38, 39, 40, 41, 42, 43,\n",
       "       44, 45, 46, 47, 48, 49, 50, 51, 52, 53, 54, 55, 56, 57, 58, 59, 60, 61,\n",
       "       62, 63, 64, 65, 66, 67, 68, 69, 70, 71, 72, 73, 74, 75, 76, 77, 78, 79,\n",
       "       80, 81, 82, 83, 84, 85, 86, 87, 88, 89, 90, 91, 92, 93, 94, 95, 96, 97,\n",
       "       98, 99])</pre></div></li></ul></div></li><li class='xr-section-item'><input id='section-34a6bfde-5bde-49d0-abc1-cfa53e38c0e1' class='xr-section-summary-in' type='checkbox'  checked><label for='section-34a6bfde-5bde-49d0-abc1-cfa53e38c0e1' class='xr-section-summary' >Data variables: <span>(2)</span></label><div class='xr-section-inline-details'></div><div class='xr-section-details'><ul class='xr-var-list'><li class='xr-var-item'><div class='xr-var-name'><span>lp</span></div><div class='xr-var-dims'>(prior_draw)</div><div class='xr-var-dtype'>float64</div><div class='xr-var-preview xr-preview'>0.0 0.0 0.0 0.0 ... 0.0 0.0 0.0 0.0</div><input id='attrs-6c93120a-5a30-4587-a680-4e97392d6d88' class='xr-var-attrs-in' type='checkbox' disabled><label for='attrs-6c93120a-5a30-4587-a680-4e97392d6d88' title='Show/Hide attributes'><svg class='icon xr-icon-file-text2'><use xlink:href='#icon-file-text2'></use></svg></label><input id='data-856d8cb2-02c7-4eb3-876e-7308a727570f' class='xr-var-data-in' type='checkbox'><label for='data-856d8cb2-02c7-4eb3-876e-7308a727570f' title='Show/Hide data repr'><svg class='icon xr-icon-database'><use xlink:href='#icon-database'></use></svg></label><div class='xr-var-attrs'><dl class='xr-attrs'></dl></div><div class='xr-var-data'><pre>array([0., 0., 0., 0., 0., 0., 0., 0., 0., 0., 0., 0., 0., 0., 0., 0., 0.,\n",
       "       0., 0., 0., 0., 0., 0., 0., 0., 0., 0., 0., 0., 0., 0., 0., 0., 0.,\n",
       "       0., 0., 0., 0., 0., 0., 0., 0., 0., 0., 0., 0., 0., 0., 0., 0., 0.,\n",
       "       0., 0., 0., 0., 0., 0., 0., 0., 0., 0., 0., 0., 0., 0., 0., 0., 0.,\n",
       "       0., 0., 0., 0., 0., 0., 0., 0., 0., 0., 0., 0., 0., 0., 0., 0., 0.,\n",
       "       0., 0., 0., 0., 0., 0., 0., 0., 0., 0., 0., 0., 0., 0., 0., 0., 0.,\n",
       "       0., 0., 0., 0., 0., 0., 0., 0., 0., 0., 0., 0., 0., 0., 0., 0., 0.,\n",
       "       0., 0., 0., 0., 0., 0., 0., 0., 0., 0., 0., 0., 0., 0., 0., 0., 0.,\n",
       "       0., 0., 0., 0., 0., 0., 0., 0., 0., 0., 0., 0., 0., 0., 0., 0., 0.,\n",
       "       0., 0., 0., 0., 0., 0., 0., 0., 0., 0., 0., 0., 0., 0., 0., 0., 0.,\n",
       "       0., 0., 0., 0., 0., 0., 0., 0., 0., 0., 0., 0., 0., 0., 0., 0., 0.,\n",
       "       0., 0., 0., 0., 0., 0., 0., 0., 0., 0., 0., 0., 0.])</pre></div></li><li class='xr-var-item'><div class='xr-var-name'><span>acceptance_rate</span></div><div class='xr-var-dims'>(prior_draw)</div><div class='xr-var-dtype'>float64</div><div class='xr-var-preview xr-preview'>0.0 0.0 0.0 0.0 ... 0.0 0.0 0.0 0.0</div><input id='attrs-35d6f9db-750e-40e8-9a7c-2f5434e91fb8' class='xr-var-attrs-in' type='checkbox' disabled><label for='attrs-35d6f9db-750e-40e8-9a7c-2f5434e91fb8' title='Show/Hide attributes'><svg class='icon xr-icon-file-text2'><use xlink:href='#icon-file-text2'></use></svg></label><input id='data-fa964997-ca87-43b2-9ade-b2d50c70e825' class='xr-var-data-in' type='checkbox'><label for='data-fa964997-ca87-43b2-9ade-b2d50c70e825' title='Show/Hide data repr'><svg class='icon xr-icon-database'><use xlink:href='#icon-database'></use></svg></label><div class='xr-var-attrs'><dl class='xr-attrs'></dl></div><div class='xr-var-data'><pre>array([0., 0., 0., 0., 0., 0., 0., 0., 0., 0., 0., 0., 0., 0., 0., 0., 0.,\n",
       "       0., 0., 0., 0., 0., 0., 0., 0., 0., 0., 0., 0., 0., 0., 0., 0., 0.,\n",
       "       0., 0., 0., 0., 0., 0., 0., 0., 0., 0., 0., 0., 0., 0., 0., 0., 0.,\n",
       "       0., 0., 0., 0., 0., 0., 0., 0., 0., 0., 0., 0., 0., 0., 0., 0., 0.,\n",
       "       0., 0., 0., 0., 0., 0., 0., 0., 0., 0., 0., 0., 0., 0., 0., 0., 0.,\n",
       "       0., 0., 0., 0., 0., 0., 0., 0., 0., 0., 0., 0., 0., 0., 0., 0., 0.,\n",
       "       0., 0., 0., 0., 0., 0., 0., 0., 0., 0., 0., 0., 0., 0., 0., 0., 0.,\n",
       "       0., 0., 0., 0., 0., 0., 0., 0., 0., 0., 0., 0., 0., 0., 0., 0., 0.,\n",
       "       0., 0., 0., 0., 0., 0., 0., 0., 0., 0., 0., 0., 0., 0., 0., 0., 0.,\n",
       "       0., 0., 0., 0., 0., 0., 0., 0., 0., 0., 0., 0., 0., 0., 0., 0., 0.,\n",
       "       0., 0., 0., 0., 0., 0., 0., 0., 0., 0., 0., 0., 0., 0., 0., 0., 0.,\n",
       "       0., 0., 0., 0., 0., 0., 0., 0., 0., 0., 0., 0., 0.])</pre></div></li></ul></div></li><li class='xr-section-item'><input id='section-de41f957-b5e5-4f54-92ab-984f130fc09e' class='xr-section-summary-in' type='checkbox'  ><label for='section-de41f957-b5e5-4f54-92ab-984f130fc09e' class='xr-section-summary' >Indexes: <span>(1)</span></label><div class='xr-section-inline-details'></div><div class='xr-section-details'><ul class='xr-var-list'><li class='xr-var-item'><div class='xr-index-name'><div>prior_draw<br>chain<br>draw</div></div><div class='xr-index-preview'>PandasMultiIndex</div><div></div><input id='index-b9918266-988f-4271-b9f0-5ac926c20eb0' class='xr-index-data-in' type='checkbox'/><label for='index-b9918266-988f-4271-b9f0-5ac926c20eb0' title='Show/Hide index repr'><svg class='icon xr-icon-database'><use xlink:href='#icon-database'></use></svg></label><div class='xr-index-data'><pre>PandasIndex(MultiIndex([(0,  0),\n",
       "            (0,  1),\n",
       "            (0,  2),\n",
       "            (0,  3),\n",
       "            (0,  4),\n",
       "            (0,  5),\n",
       "            (0,  6),\n",
       "            (0,  7),\n",
       "            (0,  8),\n",
       "            (0,  9),\n",
       "            ...\n",
       "            (1, 90),\n",
       "            (1, 91),\n",
       "            (1, 92),\n",
       "            (1, 93),\n",
       "            (1, 94),\n",
       "            (1, 95),\n",
       "            (1, 96),\n",
       "            (1, 97),\n",
       "            (1, 98),\n",
       "            (1, 99)],\n",
       "           name=&#x27;prior_draw&#x27;, length=200))</pre></div></li></ul></div></li><li class='xr-section-item'><input id='section-2b27c16e-d6b6-4dc8-a353-8b91a64974ff' class='xr-section-summary-in' type='checkbox'  checked><label for='section-2b27c16e-d6b6-4dc8-a353-8b91a64974ff' class='xr-section-summary' >Attributes: <span>(4)</span></label><div class='xr-section-inline-details'></div><div class='xr-section-details'><dl class='xr-attrs'><dt><span>created_at :</span></dt><dd>2022-11-10T02:19:07.958479</dd><dt><span>arviz_version :</span></dt><dd>0.13.0</dd><dt><span>inference_library :</span></dt><dd>cmdstanpy</dd><dt><span>inference_library_version :</span></dt><dd>1.0.8</dd></dl></div></li></ul></div></div><br></div>\n",
       "                      </ul>\n",
       "                  </div>\n",
       "            </li>\n",
       "            \n",
       "              </ul>\n",
       "            </div>\n",
       "            <style> /* CSS stylesheet for displaying InferenceData objects in jupyterlab.\n",
       " *\n",
       " */\n",
       "\n",
       ":root {\n",
       "  --xr-font-color0: var(--jp-content-font-color0, rgba(0, 0, 0, 1));\n",
       "  --xr-font-color2: var(--jp-content-font-color2, rgba(0, 0, 0, 0.54));\n",
       "  --xr-font-color3: var(--jp-content-font-color3, rgba(0, 0, 0, 0.38));\n",
       "  --xr-border-color: var(--jp-border-color2, #e0e0e0);\n",
       "  --xr-disabled-color: var(--jp-layout-color3, #bdbdbd);\n",
       "  --xr-background-color: var(--jp-layout-color0, white);\n",
       "  --xr-background-color-row-even: var(--jp-layout-color1, white);\n",
       "  --xr-background-color-row-odd: var(--jp-layout-color2, #eeeeee);\n",
       "}\n",
       "\n",
       "html[theme=dark],\n",
       "body.vscode-dark {\n",
       "  --xr-font-color0: rgba(255, 255, 255, 1);\n",
       "  --xr-font-color2: rgba(255, 255, 255, 0.54);\n",
       "  --xr-font-color3: rgba(255, 255, 255, 0.38);\n",
       "  --xr-border-color: #1F1F1F;\n",
       "  --xr-disabled-color: #515151;\n",
       "  --xr-background-color: #111111;\n",
       "  --xr-background-color-row-even: #111111;\n",
       "  --xr-background-color-row-odd: #313131;\n",
       "}\n",
       "\n",
       ".xr-wrap {\n",
       "  display: block;\n",
       "  min-width: 300px;\n",
       "  max-width: 700px;\n",
       "}\n",
       "\n",
       ".xr-text-repr-fallback {\n",
       "  /* fallback to plain text repr when CSS is not injected (untrusted notebook) */\n",
       "  display: none;\n",
       "}\n",
       "\n",
       ".xr-header {\n",
       "  padding-top: 6px;\n",
       "  padding-bottom: 6px;\n",
       "  margin-bottom: 4px;\n",
       "  border-bottom: solid 1px var(--xr-border-color);\n",
       "}\n",
       "\n",
       ".xr-header > div,\n",
       ".xr-header > ul {\n",
       "  display: inline;\n",
       "  margin-top: 0;\n",
       "  margin-bottom: 0;\n",
       "}\n",
       "\n",
       ".xr-obj-type,\n",
       ".xr-array-name {\n",
       "  margin-left: 2px;\n",
       "  margin-right: 10px;\n",
       "}\n",
       "\n",
       ".xr-obj-type {\n",
       "  color: var(--xr-font-color2);\n",
       "}\n",
       "\n",
       ".xr-sections {\n",
       "  padding-left: 0 !important;\n",
       "  display: grid;\n",
       "  grid-template-columns: 150px auto auto 1fr 20px 20px;\n",
       "}\n",
       "\n",
       ".xr-sections.group-sections {\n",
       "  grid-template-columns: auto;\n",
       "}\n",
       "\n",
       ".xr-section-item {\n",
       "  display: contents;\n",
       "}\n",
       "\n",
       ".xr-section-item input {\n",
       "  display: none;\n",
       "}\n",
       "\n",
       ".xr-section-item input + label {\n",
       "  color: var(--xr-disabled-color);\n",
       "}\n",
       "\n",
       ".xr-section-item input:enabled + label {\n",
       "  cursor: pointer;\n",
       "  color: var(--xr-font-color2);\n",
       "}\n",
       "\n",
       ".xr-section-item input:enabled + label:hover {\n",
       "  color: var(--xr-font-color0);\n",
       "}\n",
       "\n",
       ".xr-section-summary {\n",
       "  grid-column: 1;\n",
       "  color: var(--xr-font-color2);\n",
       "  font-weight: 500;\n",
       "}\n",
       "\n",
       ".xr-section-summary > span {\n",
       "  display: inline-block;\n",
       "  padding-left: 0.5em;\n",
       "}\n",
       "\n",
       ".xr-section-summary-in:disabled + label {\n",
       "  color: var(--xr-font-color2);\n",
       "}\n",
       "\n",
       ".xr-section-summary-in + label:before {\n",
       "  display: inline-block;\n",
       "  content: '►';\n",
       "  font-size: 11px;\n",
       "  width: 15px;\n",
       "  text-align: center;\n",
       "}\n",
       "\n",
       ".xr-section-summary-in:disabled + label:before {\n",
       "  color: var(--xr-disabled-color);\n",
       "}\n",
       "\n",
       ".xr-section-summary-in:checked + label:before {\n",
       "  content: '▼';\n",
       "}\n",
       "\n",
       ".xr-section-summary-in:checked + label > span {\n",
       "  display: none;\n",
       "}\n",
       "\n",
       ".xr-section-summary,\n",
       ".xr-section-inline-details {\n",
       "  padding-top: 4px;\n",
       "  padding-bottom: 4px;\n",
       "}\n",
       "\n",
       ".xr-section-inline-details {\n",
       "  grid-column: 2 / -1;\n",
       "}\n",
       "\n",
       ".xr-section-details {\n",
       "  display: none;\n",
       "  grid-column: 1 / -1;\n",
       "  margin-bottom: 5px;\n",
       "}\n",
       "\n",
       ".xr-section-summary-in:checked ~ .xr-section-details {\n",
       "  display: contents;\n",
       "}\n",
       "\n",
       ".xr-array-wrap {\n",
       "  grid-column: 1 / -1;\n",
       "  display: grid;\n",
       "  grid-template-columns: 20px auto;\n",
       "}\n",
       "\n",
       ".xr-array-wrap > label {\n",
       "  grid-column: 1;\n",
       "  vertical-align: top;\n",
       "}\n",
       "\n",
       ".xr-preview {\n",
       "  color: var(--xr-font-color3);\n",
       "}\n",
       "\n",
       ".xr-array-preview,\n",
       ".xr-array-data {\n",
       "  padding: 0 5px !important;\n",
       "  grid-column: 2;\n",
       "}\n",
       "\n",
       ".xr-array-data,\n",
       ".xr-array-in:checked ~ .xr-array-preview {\n",
       "  display: none;\n",
       "}\n",
       "\n",
       ".xr-array-in:checked ~ .xr-array-data,\n",
       ".xr-array-preview {\n",
       "  display: inline-block;\n",
       "}\n",
       "\n",
       ".xr-dim-list {\n",
       "  display: inline-block !important;\n",
       "  list-style: none;\n",
       "  padding: 0 !important;\n",
       "  margin: 0;\n",
       "}\n",
       "\n",
       ".xr-dim-list li {\n",
       "  display: inline-block;\n",
       "  padding: 0;\n",
       "  margin: 0;\n",
       "}\n",
       "\n",
       ".xr-dim-list:before {\n",
       "  content: '(';\n",
       "}\n",
       "\n",
       ".xr-dim-list:after {\n",
       "  content: ')';\n",
       "}\n",
       "\n",
       ".xr-dim-list li:not(:last-child):after {\n",
       "  content: ',';\n",
       "  padding-right: 5px;\n",
       "}\n",
       "\n",
       ".xr-has-index {\n",
       "  font-weight: bold;\n",
       "}\n",
       "\n",
       ".xr-var-list,\n",
       ".xr-var-item {\n",
       "  display: contents;\n",
       "}\n",
       "\n",
       ".xr-var-item > div,\n",
       ".xr-var-item label,\n",
       ".xr-var-item > .xr-var-name span {\n",
       "  background-color: var(--xr-background-color-row-even);\n",
       "  margin-bottom: 0;\n",
       "}\n",
       "\n",
       ".xr-var-item > .xr-var-name:hover span {\n",
       "  padding-right: 5px;\n",
       "}\n",
       "\n",
       ".xr-var-list > li:nth-child(odd) > div,\n",
       ".xr-var-list > li:nth-child(odd) > label,\n",
       ".xr-var-list > li:nth-child(odd) > .xr-var-name span {\n",
       "  background-color: var(--xr-background-color-row-odd);\n",
       "}\n",
       "\n",
       ".xr-var-name {\n",
       "  grid-column: 1;\n",
       "}\n",
       "\n",
       ".xr-var-dims {\n",
       "  grid-column: 2;\n",
       "}\n",
       "\n",
       ".xr-var-dtype {\n",
       "  grid-column: 3;\n",
       "  text-align: right;\n",
       "  color: var(--xr-font-color2);\n",
       "}\n",
       "\n",
       ".xr-var-preview {\n",
       "  grid-column: 4;\n",
       "}\n",
       "\n",
       ".xr-var-name,\n",
       ".xr-var-dims,\n",
       ".xr-var-dtype,\n",
       ".xr-preview,\n",
       ".xr-attrs dt {\n",
       "  white-space: nowrap;\n",
       "  overflow: hidden;\n",
       "  text-overflow: ellipsis;\n",
       "  padding-right: 10px;\n",
       "}\n",
       "\n",
       ".xr-var-name:hover,\n",
       ".xr-var-dims:hover,\n",
       ".xr-var-dtype:hover,\n",
       ".xr-attrs dt:hover {\n",
       "  overflow: visible;\n",
       "  width: auto;\n",
       "  z-index: 1;\n",
       "}\n",
       "\n",
       ".xr-var-attrs,\n",
       ".xr-var-data {\n",
       "  display: none;\n",
       "  background-color: var(--xr-background-color) !important;\n",
       "  padding-bottom: 5px !important;\n",
       "}\n",
       "\n",
       ".xr-var-attrs-in:checked ~ .xr-var-attrs,\n",
       ".xr-var-data-in:checked ~ .xr-var-data {\n",
       "  display: block;\n",
       "}\n",
       "\n",
       ".xr-var-data > table {\n",
       "  float: right;\n",
       "}\n",
       "\n",
       ".xr-var-name span,\n",
       ".xr-var-data,\n",
       ".xr-attrs {\n",
       "  padding-left: 25px !important;\n",
       "}\n",
       "\n",
       ".xr-attrs,\n",
       ".xr-var-attrs,\n",
       ".xr-var-data {\n",
       "  grid-column: 1 / -1;\n",
       "}\n",
       "\n",
       "dl.xr-attrs {\n",
       "  padding: 0;\n",
       "  margin: 0;\n",
       "  display: grid;\n",
       "  grid-template-columns: 125px auto;\n",
       "}\n",
       "\n",
       ".xr-attrs dt, dd {\n",
       "  padding: 0;\n",
       "  margin: 0;\n",
       "  float: left;\n",
       "  padding-right: 10px;\n",
       "  width: auto;\n",
       "}\n",
       "\n",
       ".xr-attrs dt {\n",
       "  font-weight: normal;\n",
       "  grid-column: 1;\n",
       "}\n",
       "\n",
       ".xr-attrs dt:hover span {\n",
       "  display: inline-block;\n",
       "  background: var(--xr-background-color);\n",
       "  padding-right: 10px;\n",
       "}\n",
       "\n",
       ".xr-attrs dd {\n",
       "  grid-column: 2;\n",
       "  white-space: pre-wrap;\n",
       "  word-break: break-all;\n",
       "}\n",
       "\n",
       ".xr-icon-database,\n",
       ".xr-icon-file-text2 {\n",
       "  display: inline-block;\n",
       "  vertical-align: middle;\n",
       "  width: 1em;\n",
       "  height: 1.5em !important;\n",
       "  stroke-width: 0;\n",
       "  stroke: currentColor;\n",
       "  fill: currentColor;\n",
       "}\n",
       ".xr-wrap{width:700px!important;} </style>"
      ],
      "text/plain": [
       "Inference data with groups:\n",
       "\t> prior\n",
       "\t> prior_predictive\n",
       "\t> sample_stats_prior"
      ]
     },
     "execution_count": 5,
     "metadata": {},
     "output_type": "execute_result"
    }
   ],
   "source": [
    "idata_kwargs = dict(\n",
    "    prior_predictive=[\"slack_comments_hat\", \"github_commits_hat\"],\n",
    "    posterior_predictive=[\"slack_comments_hat\", \"github_commits_hat\"],\n",
    "    log_likelihood={\n",
    "        \"slack_comments\": \"log_likelihood_slack_comments\",\n",
    "        \"github_commits\": \"log_likelihood_github_commits\",\n",
    "    },\n",
    "    coords={\"developer\": names},\n",
    "    dims={\n",
    "        \"slack_comments\": [\"developer\"],\n",
    "        \"github_commits\": [\"developer\"],\n",
    "        \"slack_comments_hat\": [\"developer\"],\n",
    "        \"github_commits_hat\": [\"developer\"],\n",
    "        \"time_since_joined\": [\"developer\"],\n",
    "    },\n",
    ")\n",
    "idata_orig = az.from_cmdstanpy(prior=prior_fit, **idata_kwargs).stack(\n",
    "    prior_draw=[\"chain\", \"draw\"], groups=\"prior_groups\"\n",
    ")\n",
    "idata_orig"
   ]
  },
  {
   "cell_type": "code",
   "execution_count": 6,
   "id": "b67bf018",
   "metadata": {},
   "outputs": [],
   "source": [
    "model = CmdStanModel(stan_file=\"linreg_model.stan\")"
   ]
  },
  {
   "cell_type": "code",
   "execution_count": 7,
   "id": "5ba4d298",
   "metadata": {},
   "outputs": [],
   "source": [
    "linreg_base_data = {\n",
    "    \"N\": N,\n",
    "    \"time_since_joined\": time_since_joined,\n",
    "}"
   ]
  },
  {
   "cell_type": "code",
   "execution_count": 8,
   "id": "25e3af2e",
   "metadata": {
    "scrolled": true
   },
   "outputs": [
    {
     "name": "stderr",
     "output_type": "stream",
     "text": [
      "03:19:08 - cmdstanpy - INFO - CmdStan start processing\n"
     ]
    },
    {
     "data": {
      "application/vnd.jupyter.widget-view+json": {
       "model_id": "00ea7b92941d4ea286effda726c34acf",
       "version_major": 2,
       "version_minor": 0
      },
      "text/plain": [
       "chain 1 |          | 00:00 Status"
      ]
     },
     "metadata": {},
     "output_type": "display_data"
    },
    {
     "data": {
      "application/vnd.jupyter.widget-view+json": {
       "model_id": "02e8ef1e3ff1478caeb412c7233f2a76",
       "version_major": 2,
       "version_minor": 0
      },
      "text/plain": [
       "chain 2 |          | 00:00 Status"
      ]
     },
     "metadata": {},
     "output_type": "display_data"
    },
    {
     "data": {
      "application/vnd.jupyter.widget-view+json": {
       "model_id": "ad5056dde4544de584d4dfbef062da63",
       "version_major": 2,
       "version_minor": 0
      },
      "text/plain": [
       "chain 3 |          | 00:00 Status"
      ]
     },
     "metadata": {},
     "output_type": "display_data"
    },
    {
     "data": {
      "application/vnd.jupyter.widget-view+json": {
       "model_id": "44653ff840c64d2ca4979f52fa782984",
       "version_major": 2,
       "version_minor": 0
      },
      "text/plain": [
       "chain 4 |          | 00:00 Status"
      ]
     },
     "metadata": {},
     "output_type": "display_data"
    },
    {
     "name": "stdout",
     "output_type": "stream",
     "text": [
      "                                                                                                                                                                                                                                                                                                                                "
     ]
    },
    {
     "name": "stderr",
     "output_type": "stream",
     "text": [
      "03:19:08 - cmdstanpy - INFO - CmdStan done processing.\n",
      "03:19:08 - cmdstanpy - WARNING - Some chains may have failed to converge.\n",
      "\tChain 1 had 1 divergent transitions (0.1%)\n",
      "\tChain 2 had 1 divergent transitions (0.1%)\n",
      "\tUse function \"diagnose()\" to see further information.\n",
      "03:19:08 - cmdstanpy - INFO - CmdStan start processing\n"
     ]
    },
    {
     "name": "stdout",
     "output_type": "stream",
     "text": [
      "\n"
     ]
    },
    {
     "data": {
      "application/vnd.jupyter.widget-view+json": {
       "model_id": "814a8bf203f146d98f7351ceb5f2c17c",
       "version_major": 2,
       "version_minor": 0
      },
      "text/plain": [
       "chain 1 |          | 00:00 Status"
      ]
     },
     "metadata": {},
     "output_type": "display_data"
    },
    {
     "data": {
      "application/vnd.jupyter.widget-view+json": {
       "model_id": "a371de9e3c3848ee95c15b6413f02bba",
       "version_major": 2,
       "version_minor": 0
      },
      "text/plain": [
       "chain 2 |          | 00:00 Status"
      ]
     },
     "metadata": {},
     "output_type": "display_data"
    },
    {
     "data": {
      "application/vnd.jupyter.widget-view+json": {
       "model_id": "f0e9f4b771e947ef92aa1d1eb700f31b",
       "version_major": 2,
       "version_minor": 0
      },
      "text/plain": [
       "chain 3 |          | 00:00 Status"
      ]
     },
     "metadata": {},
     "output_type": "display_data"
    },
    {
     "data": {
      "application/vnd.jupyter.widget-view+json": {
       "model_id": "7ffb3f4134dc4a79acdcd797c96be42f",
       "version_major": 2,
       "version_minor": 0
      },
      "text/plain": [
       "chain 4 |          | 00:00 Status"
      ]
     },
     "metadata": {},
     "output_type": "display_data"
    },
    {
     "name": "stdout",
     "output_type": "stream",
     "text": [
      "                                                                                                                                                                                                                                                                                                                                "
     ]
    },
    {
     "name": "stderr",
     "output_type": "stream",
     "text": [
      "03:19:08 - cmdstanpy - INFO - CmdStan done processing.\n",
      "03:19:09 - cmdstanpy - WARNING - Some chains may have failed to converge.\n",
      "\tChain 3 had 1 divergent transitions (0.1%)\n",
      "\tUse function \"diagnose()\" to see further information.\n",
      "03:19:09 - cmdstanpy - INFO - CmdStan start processing\n"
     ]
    },
    {
     "name": "stdout",
     "output_type": "stream",
     "text": [
      "\n"
     ]
    },
    {
     "data": {
      "application/vnd.jupyter.widget-view+json": {
       "model_id": "9ebb5458c4a546bfbe7d1bcf06776fab",
       "version_major": 2,
       "version_minor": 0
      },
      "text/plain": [
       "chain 1 |          | 00:00 Status"
      ]
     },
     "metadata": {},
     "output_type": "display_data"
    },
    {
     "data": {
      "application/vnd.jupyter.widget-view+json": {
       "model_id": "847ef228add34a7d8e8b52f8af2c2374",
       "version_major": 2,
       "version_minor": 0
      },
      "text/plain": [
       "chain 2 |          | 00:00 Status"
      ]
     },
     "metadata": {},
     "output_type": "display_data"
    },
    {
     "data": {
      "application/vnd.jupyter.widget-view+json": {
       "model_id": "99e9521ff7fd4fb88597365deae4ea37",
       "version_major": 2,
       "version_minor": 0
      },
      "text/plain": [
       "chain 3 |          | 00:00 Status"
      ]
     },
     "metadata": {},
     "output_type": "display_data"
    },
    {
     "data": {
      "application/vnd.jupyter.widget-view+json": {
       "model_id": "7a0a42c184524ebd9873c11dd0f2c695",
       "version_major": 2,
       "version_minor": 0
      },
      "text/plain": [
       "chain 4 |          | 00:00 Status"
      ]
     },
     "metadata": {},
     "output_type": "display_data"
    },
    {
     "name": "stdout",
     "output_type": "stream",
     "text": [
      "                                                                                                                                                                                                                                                                                                                                "
     ]
    },
    {
     "name": "stderr",
     "output_type": "stream",
     "text": [
      "03:19:09 - cmdstanpy - INFO - CmdStan done processing.\n",
      "03:19:09 - cmdstanpy - WARNING - Some chains may have failed to converge.\n",
      "\tChain 4 had 2 divergent transitions (0.2%)\n",
      "\tUse function \"diagnose()\" to see further information.\n",
      "03:19:09 - cmdstanpy - INFO - CmdStan start processing\n"
     ]
    },
    {
     "name": "stdout",
     "output_type": "stream",
     "text": [
      "\n"
     ]
    },
    {
     "data": {
      "application/vnd.jupyter.widget-view+json": {
       "model_id": "fe3e10c49b4042138560dd0f0d8a2643",
       "version_major": 2,
       "version_minor": 0
      },
      "text/plain": [
       "chain 1 |          | 00:00 Status"
      ]
     },
     "metadata": {},
     "output_type": "display_data"
    },
    {
     "data": {
      "application/vnd.jupyter.widget-view+json": {
       "model_id": "028c0709cef442a8bf0369cf7be569a2",
       "version_major": 2,
       "version_minor": 0
      },
      "text/plain": [
       "chain 2 |          | 00:00 Status"
      ]
     },
     "metadata": {},
     "output_type": "display_data"
    },
    {
     "data": {
      "application/vnd.jupyter.widget-view+json": {
       "model_id": "2ac8098672dc4cd892d5c4752ab4ffdc",
       "version_major": 2,
       "version_minor": 0
      },
      "text/plain": [
       "chain 3 |          | 00:00 Status"
      ]
     },
     "metadata": {},
     "output_type": "display_data"
    },
    {
     "data": {
      "application/vnd.jupyter.widget-view+json": {
       "model_id": "81b8a8d87f9043a2a975fb1c88a6d91a",
       "version_major": 2,
       "version_minor": 0
      },
      "text/plain": [
       "chain 4 |          | 00:00 Status"
      ]
     },
     "metadata": {},
     "output_type": "display_data"
    },
    {
     "name": "stdout",
     "output_type": "stream",
     "text": [
      "                                                                                                                                                                                                                                                                                                                                "
     ]
    },
    {
     "name": "stderr",
     "output_type": "stream",
     "text": [
      "03:19:09 - cmdstanpy - INFO - CmdStan done processing.\n",
      "03:19:10 - cmdstanpy - INFO - CmdStan start processing\n"
     ]
    },
    {
     "name": "stdout",
     "output_type": "stream",
     "text": [
      "\n"
     ]
    },
    {
     "data": {
      "application/vnd.jupyter.widget-view+json": {
       "model_id": "d91885751fd64d42927fbd3fb6556135",
       "version_major": 2,
       "version_minor": 0
      },
      "text/plain": [
       "chain 1 |          | 00:00 Status"
      ]
     },
     "metadata": {},
     "output_type": "display_data"
    },
    {
     "data": {
      "application/vnd.jupyter.widget-view+json": {
       "model_id": "013b6e4ff2de413fb2767071455d2ef6",
       "version_major": 2,
       "version_minor": 0
      },
      "text/plain": [
       "chain 2 |          | 00:00 Status"
      ]
     },
     "metadata": {},
     "output_type": "display_data"
    },
    {
     "data": {
      "application/vnd.jupyter.widget-view+json": {
       "model_id": "0a44d02d91de4104b152a8a7e6bd1012",
       "version_major": 2,
       "version_minor": 0
      },
      "text/plain": [
       "chain 3 |          | 00:00 Status"
      ]
     },
     "metadata": {},
     "output_type": "display_data"
    },
    {
     "data": {
      "application/vnd.jupyter.widget-view+json": {
       "model_id": "58d685abc83f4161b5db01ace26e54b4",
       "version_major": 2,
       "version_minor": 0
      },
      "text/plain": [
       "chain 4 |          | 00:00 Status"
      ]
     },
     "metadata": {},
     "output_type": "display_data"
    },
    {
     "name": "stdout",
     "output_type": "stream",
     "text": [
      "                                                                                                                                                                                                                                                                                                                                "
     ]
    },
    {
     "name": "stderr",
     "output_type": "stream",
     "text": [
      "03:19:10 - cmdstanpy - INFO - CmdStan done processing.\n",
      "03:19:10 - cmdstanpy - WARNING - Some chains may have failed to converge.\n",
      "\tChain 2 had 1 divergent transitions (0.1%)\n",
      "\tUse function \"diagnose()\" to see further information.\n",
      "03:19:10 - cmdstanpy - INFO - CmdStan start processing\n"
     ]
    },
    {
     "name": "stdout",
     "output_type": "stream",
     "text": [
      "\n"
     ]
    },
    {
     "data": {
      "application/vnd.jupyter.widget-view+json": {
       "model_id": "0092407253fe4332892db7d2af547c21",
       "version_major": 2,
       "version_minor": 0
      },
      "text/plain": [
       "chain 1 |          | 00:00 Status"
      ]
     },
     "metadata": {},
     "output_type": "display_data"
    },
    {
     "data": {
      "application/vnd.jupyter.widget-view+json": {
       "model_id": "0e62b54cb47b4e4095ec68cc6b7c24f5",
       "version_major": 2,
       "version_minor": 0
      },
      "text/plain": [
       "chain 2 |          | 00:00 Status"
      ]
     },
     "metadata": {},
     "output_type": "display_data"
    },
    {
     "data": {
      "application/vnd.jupyter.widget-view+json": {
       "model_id": "405e97e8cb124381a3250235218567b2",
       "version_major": 2,
       "version_minor": 0
      },
      "text/plain": [
       "chain 3 |          | 00:00 Status"
      ]
     },
     "metadata": {},
     "output_type": "display_data"
    },
    {
     "data": {
      "application/vnd.jupyter.widget-view+json": {
       "model_id": "62973db59fdf47a39ad86d78ca08a312",
       "version_major": 2,
       "version_minor": 0
      },
      "text/plain": [
       "chain 4 |          | 00:00 Status"
      ]
     },
     "metadata": {},
     "output_type": "display_data"
    },
    {
     "name": "stdout",
     "output_type": "stream",
     "text": [
      "                                                                                                                                                                                                                                                                                                                                "
     ]
    },
    {
     "name": "stderr",
     "output_type": "stream",
     "text": [
      "03:19:10 - cmdstanpy - INFO - CmdStan done processing.\n",
      "03:19:10 - cmdstanpy - INFO - CmdStan start processing\n"
     ]
    },
    {
     "name": "stdout",
     "output_type": "stream",
     "text": [
      "\n"
     ]
    },
    {
     "data": {
      "application/vnd.jupyter.widget-view+json": {
       "model_id": "a1691cb663cb44719bc954cf64041da5",
       "version_major": 2,
       "version_minor": 0
      },
      "text/plain": [
       "chain 1 |          | 00:00 Status"
      ]
     },
     "metadata": {},
     "output_type": "display_data"
    },
    {
     "data": {
      "application/vnd.jupyter.widget-view+json": {
       "model_id": "45d4ea6f717c41438dad0fa52f6b5083",
       "version_major": 2,
       "version_minor": 0
      },
      "text/plain": [
       "chain 2 |          | 00:00 Status"
      ]
     },
     "metadata": {},
     "output_type": "display_data"
    },
    {
     "data": {
      "application/vnd.jupyter.widget-view+json": {
       "model_id": "5cc85cd7b7024e7a8ff3e0478e01f4f8",
       "version_major": 2,
       "version_minor": 0
      },
      "text/plain": [
       "chain 3 |          | 00:00 Status"
      ]
     },
     "metadata": {},
     "output_type": "display_data"
    },
    {
     "data": {
      "application/vnd.jupyter.widget-view+json": {
       "model_id": "7d560643fc5846b8987ed044848e9ffa",
       "version_major": 2,
       "version_minor": 0
      },
      "text/plain": [
       "chain 4 |          | 00:00 Status"
      ]
     },
     "metadata": {},
     "output_type": "display_data"
    },
    {
     "name": "stdout",
     "output_type": "stream",
     "text": [
      "                                                                                                                                                                                                                                                                                                                                "
     ]
    },
    {
     "name": "stderr",
     "output_type": "stream",
     "text": [
      "03:19:11 - cmdstanpy - INFO - CmdStan done processing.\n",
      "03:19:11 - cmdstanpy - WARNING - Non-fatal error during sampling:\n",
      "Exception: normal_lpdf: Scale parameter is 0, but must be positive! (in '/home/oriol/Public/arviz/doc/source/user_guide/wrappers/linreg_model.stan', line 27, column 2 to column 64)\n",
      "\tException: normal_lpdf: Scale parameter is 0, but must be positive! (in '/home/oriol/Public/arviz/doc/source/user_guide/wrappers/linreg_model.stan', line 27, column 2 to column 64)\n",
      "\tException: normal_lpdf: Scale parameter is 0, but must be positive! (in '/home/oriol/Public/arviz/doc/source/user_guide/wrappers/linreg_model.stan', line 27, column 2 to column 64)\n",
      "\tException: normal_lpdf: Scale parameter is 0, but must be positive! (in '/home/oriol/Public/arviz/doc/source/user_guide/wrappers/linreg_model.stan', line 27, column 2 to column 64)\n",
      "Consider re-running with show_console=True if the above output is unclear!\n",
      "03:19:11 - cmdstanpy - INFO - CmdStan start processing\n"
     ]
    },
    {
     "name": "stdout",
     "output_type": "stream",
     "text": [
      "\n"
     ]
    },
    {
     "data": {
      "application/vnd.jupyter.widget-view+json": {
       "model_id": "ffa85be9a5594837af635f2eeed3fe72",
       "version_major": 2,
       "version_minor": 0
      },
      "text/plain": [
       "chain 1 |          | 00:00 Status"
      ]
     },
     "metadata": {},
     "output_type": "display_data"
    },
    {
     "data": {
      "application/vnd.jupyter.widget-view+json": {
       "model_id": "cb971ae951db4e25be440ba80b9b99d7",
       "version_major": 2,
       "version_minor": 0
      },
      "text/plain": [
       "chain 2 |          | 00:00 Status"
      ]
     },
     "metadata": {},
     "output_type": "display_data"
    },
    {
     "data": {
      "application/vnd.jupyter.widget-view+json": {
       "model_id": "4811f3de9b9f44db97ed5b8b71c1ec37",
       "version_major": 2,
       "version_minor": 0
      },
      "text/plain": [
       "chain 3 |          | 00:00 Status"
      ]
     },
     "metadata": {},
     "output_type": "display_data"
    },
    {
     "data": {
      "application/vnd.jupyter.widget-view+json": {
       "model_id": "ab0cd272b7a741faa9334658e6c52b02",
       "version_major": 2,
       "version_minor": 0
      },
      "text/plain": [
       "chain 4 |          | 00:00 Status"
      ]
     },
     "metadata": {},
     "output_type": "display_data"
    },
    {
     "name": "stdout",
     "output_type": "stream",
     "text": [
      "                                                                                                                                                                                                                                                                                                                                "
     ]
    },
    {
     "name": "stderr",
     "output_type": "stream",
     "text": [
      "03:19:11 - cmdstanpy - INFO - CmdStan done processing.\n",
      "03:19:11 - cmdstanpy - INFO - CmdStan start processing\n"
     ]
    },
    {
     "name": "stdout",
     "output_type": "stream",
     "text": [
      "\n"
     ]
    },
    {
     "data": {
      "application/vnd.jupyter.widget-view+json": {
       "model_id": "b9f471f13e5747d7b14b336128b3afca",
       "version_major": 2,
       "version_minor": 0
      },
      "text/plain": [
       "chain 1 |          | 00:00 Status"
      ]
     },
     "metadata": {},
     "output_type": "display_data"
    },
    {
     "data": {
      "application/vnd.jupyter.widget-view+json": {
       "model_id": "4ad7cdc4b79343c4946f0104e1a72a17",
       "version_major": 2,
       "version_minor": 0
      },
      "text/plain": [
       "chain 2 |          | 00:00 Status"
      ]
     },
     "metadata": {},
     "output_type": "display_data"
    },
    {
     "data": {
      "application/vnd.jupyter.widget-view+json": {
       "model_id": "d35e33d1232b430facf758266518146c",
       "version_major": 2,
       "version_minor": 0
      },
      "text/plain": [
       "chain 3 |          | 00:00 Status"
      ]
     },
     "metadata": {},
     "output_type": "display_data"
    },
    {
     "data": {
      "application/vnd.jupyter.widget-view+json": {
       "model_id": "61a60fd4314f47df8d0642b52d059280",
       "version_major": 2,
       "version_minor": 0
      },
      "text/plain": [
       "chain 4 |          | 00:00 Status"
      ]
     },
     "metadata": {},
     "output_type": "display_data"
    },
    {
     "name": "stdout",
     "output_type": "stream",
     "text": [
      "                                                                                                                                                                                                                                                                                                                                "
     ]
    },
    {
     "name": "stderr",
     "output_type": "stream",
     "text": [
      "03:19:12 - cmdstanpy - INFO - CmdStan done processing.\n",
      "03:19:12 - cmdstanpy - WARNING - Some chains may have failed to converge.\n",
      "\tChain 4 had 3 divergent transitions (0.3%)\n",
      "\tUse function \"diagnose()\" to see further information.\n",
      "03:19:12 - cmdstanpy - INFO - CmdStan start processing\n"
     ]
    },
    {
     "name": "stdout",
     "output_type": "stream",
     "text": [
      "\n"
     ]
    },
    {
     "data": {
      "application/vnd.jupyter.widget-view+json": {
       "model_id": "0ca2ff9cc1424226bac6210f01fddb36",
       "version_major": 2,
       "version_minor": 0
      },
      "text/plain": [
       "chain 1 |          | 00:00 Status"
      ]
     },
     "metadata": {},
     "output_type": "display_data"
    },
    {
     "data": {
      "application/vnd.jupyter.widget-view+json": {
       "model_id": "c6fbb4b29573443784a4c58054de6a61",
       "version_major": 2,
       "version_minor": 0
      },
      "text/plain": [
       "chain 2 |          | 00:00 Status"
      ]
     },
     "metadata": {},
     "output_type": "display_data"
    },
    {
     "data": {
      "application/vnd.jupyter.widget-view+json": {
       "model_id": "4684511ce5e447b3bd39ee23b9575942",
       "version_major": 2,
       "version_minor": 0
      },
      "text/plain": [
       "chain 3 |          | 00:00 Status"
      ]
     },
     "metadata": {},
     "output_type": "display_data"
    },
    {
     "data": {
      "application/vnd.jupyter.widget-view+json": {
       "model_id": "7feea8905ea946e3aad5bb57aedb2735",
       "version_major": 2,
       "version_minor": 0
      },
      "text/plain": [
       "chain 4 |          | 00:00 Status"
      ]
     },
     "metadata": {},
     "output_type": "display_data"
    },
    {
     "name": "stdout",
     "output_type": "stream",
     "text": [
      "                                                                                                                                                                                                                                                                                                                                "
     ]
    },
    {
     "name": "stderr",
     "output_type": "stream",
     "text": [
      "03:19:12 - cmdstanpy - INFO - CmdStan done processing.\n",
      "03:19:12 - cmdstanpy - INFO - CmdStan start processing\n"
     ]
    },
    {
     "name": "stdout",
     "output_type": "stream",
     "text": [
      "\n"
     ]
    },
    {
     "data": {
      "application/vnd.jupyter.widget-view+json": {
       "model_id": "e27a37f30df24ac8af89ee070f287ddc",
       "version_major": 2,
       "version_minor": 0
      },
      "text/plain": [
       "chain 1 |          | 00:00 Status"
      ]
     },
     "metadata": {},
     "output_type": "display_data"
    },
    {
     "data": {
      "application/vnd.jupyter.widget-view+json": {
       "model_id": "ab08983b1db44076b87f80820cfee20c",
       "version_major": 2,
       "version_minor": 0
      },
      "text/plain": [
       "chain 2 |          | 00:00 Status"
      ]
     },
     "metadata": {},
     "output_type": "display_data"
    },
    {
     "data": {
      "application/vnd.jupyter.widget-view+json": {
       "model_id": "5e822ed6cc8b46369be479e2bdc53168",
       "version_major": 2,
       "version_minor": 0
      },
      "text/plain": [
       "chain 3 |          | 00:00 Status"
      ]
     },
     "metadata": {},
     "output_type": "display_data"
    },
    {
     "data": {
      "application/vnd.jupyter.widget-view+json": {
       "model_id": "b9e579cf722c431c8f68a0cbccd901a4",
       "version_major": 2,
       "version_minor": 0
      },
      "text/plain": [
       "chain 4 |          | 00:00 Status"
      ]
     },
     "metadata": {},
     "output_type": "display_data"
    },
    {
     "name": "stdout",
     "output_type": "stream",
     "text": [
      "                                                                                                                                                                                                                                                                                                                                "
     ]
    },
    {
     "name": "stderr",
     "output_type": "stream",
     "text": [
      "03:19:12 - cmdstanpy - INFO - CmdStan done processing.\n",
      "03:19:13 - cmdstanpy - INFO - CmdStan start processing\n"
     ]
    },
    {
     "name": "stdout",
     "output_type": "stream",
     "text": [
      "\n"
     ]
    },
    {
     "data": {
      "application/vnd.jupyter.widget-view+json": {
       "model_id": "e73ae4936da748d7bf42174b42d8ab98",
       "version_major": 2,
       "version_minor": 0
      },
      "text/plain": [
       "chain 1 |          | 00:00 Status"
      ]
     },
     "metadata": {},
     "output_type": "display_data"
    },
    {
     "data": {
      "application/vnd.jupyter.widget-view+json": {
       "model_id": "876d43bd52da4aabac0ed6d8fe78455d",
       "version_major": 2,
       "version_minor": 0
      },
      "text/plain": [
       "chain 2 |          | 00:00 Status"
      ]
     },
     "metadata": {},
     "output_type": "display_data"
    },
    {
     "data": {
      "application/vnd.jupyter.widget-view+json": {
       "model_id": "2755a01067784a559fe70bbc030474ed",
       "version_major": 2,
       "version_minor": 0
      },
      "text/plain": [
       "chain 3 |          | 00:00 Status"
      ]
     },
     "metadata": {},
     "output_type": "display_data"
    },
    {
     "data": {
      "application/vnd.jupyter.widget-view+json": {
       "model_id": "923c71ffa0af4ca6a5f631f9e62a2910",
       "version_major": 2,
       "version_minor": 0
      },
      "text/plain": [
       "chain 4 |          | 00:00 Status"
      ]
     },
     "metadata": {},
     "output_type": "display_data"
    },
    {
     "name": "stdout",
     "output_type": "stream",
     "text": [
      "                                                                                                                                                                                                                                                                                                                                "
     ]
    },
    {
     "name": "stderr",
     "output_type": "stream",
     "text": [
      "03:19:13 - cmdstanpy - INFO - CmdStan done processing.\n",
      "03:19:13 - cmdstanpy - WARNING - Some chains may have failed to converge.\n",
      "\tChain 3 had 9 divergent transitions (0.9%)\n",
      "\tUse function \"diagnose()\" to see further information.\n",
      "03:19:13 - cmdstanpy - INFO - CmdStan start processing\n"
     ]
    },
    {
     "name": "stdout",
     "output_type": "stream",
     "text": [
      "\n"
     ]
    },
    {
     "data": {
      "application/vnd.jupyter.widget-view+json": {
       "model_id": "730a3a340a844c4c9fd65a188cd57f65",
       "version_major": 2,
       "version_minor": 0
      },
      "text/plain": [
       "chain 1 |          | 00:00 Status"
      ]
     },
     "metadata": {},
     "output_type": "display_data"
    },
    {
     "data": {
      "application/vnd.jupyter.widget-view+json": {
       "model_id": "4da2d57d2315461cadfe70ae7056fdd7",
       "version_major": 2,
       "version_minor": 0
      },
      "text/plain": [
       "chain 2 |          | 00:00 Status"
      ]
     },
     "metadata": {},
     "output_type": "display_data"
    },
    {
     "data": {
      "application/vnd.jupyter.widget-view+json": {
       "model_id": "fc9fbde8164a4a96bf54fb6559d4d70c",
       "version_major": 2,
       "version_minor": 0
      },
      "text/plain": [
       "chain 3 |          | 00:00 Status"
      ]
     },
     "metadata": {},
     "output_type": "display_data"
    },
    {
     "data": {
      "application/vnd.jupyter.widget-view+json": {
       "model_id": "b507ee90350b4e61b51fb5a16b2de6ac",
       "version_major": 2,
       "version_minor": 0
      },
      "text/plain": [
       "chain 4 |          | 00:00 Status"
      ]
     },
     "metadata": {},
     "output_type": "display_data"
    },
    {
     "name": "stdout",
     "output_type": "stream",
     "text": [
      "                                                                                                                                                                                                                                                                                                                                "
     ]
    },
    {
     "name": "stderr",
     "output_type": "stream",
     "text": [
      "03:19:13 - cmdstanpy - INFO - CmdStan done processing.\n",
      "03:19:14 - cmdstanpy - INFO - CmdStan start processing\n"
     ]
    },
    {
     "name": "stdout",
     "output_type": "stream",
     "text": [
      "\n"
     ]
    },
    {
     "data": {
      "application/vnd.jupyter.widget-view+json": {
       "model_id": "e558cc94697c4d2ba45076281ab9cda9",
       "version_major": 2,
       "version_minor": 0
      },
      "text/plain": [
       "chain 1 |          | 00:00 Status"
      ]
     },
     "metadata": {},
     "output_type": "display_data"
    },
    {
     "data": {
      "application/vnd.jupyter.widget-view+json": {
       "model_id": "c6fa29b92ba849f4a74c19ee2f26ab93",
       "version_major": 2,
       "version_minor": 0
      },
      "text/plain": [
       "chain 2 |          | 00:00 Status"
      ]
     },
     "metadata": {},
     "output_type": "display_data"
    },
    {
     "data": {
      "application/vnd.jupyter.widget-view+json": {
       "model_id": "26d86e24cdeb4e6cb0af4e3f1d392d59",
       "version_major": 2,
       "version_minor": 0
      },
      "text/plain": [
       "chain 3 |          | 00:00 Status"
      ]
     },
     "metadata": {},
     "output_type": "display_data"
    },
    {
     "data": {
      "application/vnd.jupyter.widget-view+json": {
       "model_id": "36aa04aef0304dc2b8e4c40e8697c365",
       "version_major": 2,
       "version_minor": 0
      },
      "text/plain": [
       "chain 4 |          | 00:00 Status"
      ]
     },
     "metadata": {},
     "output_type": "display_data"
    },
    {
     "name": "stdout",
     "output_type": "stream",
     "text": [
      "                                                                                                                                                                                                                                                                                                                                "
     ]
    },
    {
     "name": "stderr",
     "output_type": "stream",
     "text": [
      "03:19:14 - cmdstanpy - INFO - CmdStan done processing.\n",
      "03:19:14 - cmdstanpy - WARNING - Some chains may have failed to converge.\n",
      "\tChain 3 had 1 divergent transitions (0.1%)\n",
      "\tUse function \"diagnose()\" to see further information.\n",
      "03:19:14 - cmdstanpy - INFO - CmdStan start processing\n"
     ]
    },
    {
     "name": "stdout",
     "output_type": "stream",
     "text": [
      "\n"
     ]
    },
    {
     "data": {
      "application/vnd.jupyter.widget-view+json": {
       "model_id": "af18449cb2ab49d4aaf7fa46b60cb918",
       "version_major": 2,
       "version_minor": 0
      },
      "text/plain": [
       "chain 1 |          | 00:00 Status"
      ]
     },
     "metadata": {},
     "output_type": "display_data"
    },
    {
     "data": {
      "application/vnd.jupyter.widget-view+json": {
       "model_id": "a7b1a35e5b3b4469af4a636519c0980c",
       "version_major": 2,
       "version_minor": 0
      },
      "text/plain": [
       "chain 2 |          | 00:00 Status"
      ]
     },
     "metadata": {},
     "output_type": "display_data"
    },
    {
     "data": {
      "application/vnd.jupyter.widget-view+json": {
       "model_id": "720b1efccb6841e4b244ad835ebfbca0",
       "version_major": 2,
       "version_minor": 0
      },
      "text/plain": [
       "chain 3 |          | 00:00 Status"
      ]
     },
     "metadata": {},
     "output_type": "display_data"
    },
    {
     "data": {
      "application/vnd.jupyter.widget-view+json": {
       "model_id": "7f14478232b641d5b3c9b7de8b871d5f",
       "version_major": 2,
       "version_minor": 0
      },
      "text/plain": [
       "chain 4 |          | 00:00 Status"
      ]
     },
     "metadata": {},
     "output_type": "display_data"
    },
    {
     "name": "stdout",
     "output_type": "stream",
     "text": [
      "                                                                                                                                                                                                                                                                                                                                "
     ]
    },
    {
     "name": "stderr",
     "output_type": "stream",
     "text": [
      "03:19:14 - cmdstanpy - INFO - CmdStan done processing.\n",
      "03:19:15 - cmdstanpy - INFO - CmdStan start processing\n"
     ]
    },
    {
     "name": "stdout",
     "output_type": "stream",
     "text": [
      "\n"
     ]
    },
    {
     "data": {
      "application/vnd.jupyter.widget-view+json": {
       "model_id": "4357b06e35544b80a6d5267054e2dce6",
       "version_major": 2,
       "version_minor": 0
      },
      "text/plain": [
       "chain 1 |          | 00:00 Status"
      ]
     },
     "metadata": {},
     "output_type": "display_data"
    },
    {
     "data": {
      "application/vnd.jupyter.widget-view+json": {
       "model_id": "f6a10ba703bc4ceaabc06a75f3eddc53",
       "version_major": 2,
       "version_minor": 0
      },
      "text/plain": [
       "chain 2 |          | 00:00 Status"
      ]
     },
     "metadata": {},
     "output_type": "display_data"
    },
    {
     "data": {
      "application/vnd.jupyter.widget-view+json": {
       "model_id": "cc2de15e2a004e9088683a874934954b",
       "version_major": 2,
       "version_minor": 0
      },
      "text/plain": [
       "chain 3 |          | 00:00 Status"
      ]
     },
     "metadata": {},
     "output_type": "display_data"
    },
    {
     "data": {
      "application/vnd.jupyter.widget-view+json": {
       "model_id": "fa70aa799c7b44f2b97a28b97ac0fa42",
       "version_major": 2,
       "version_minor": 0
      },
      "text/plain": [
       "chain 4 |          | 00:00 Status"
      ]
     },
     "metadata": {},
     "output_type": "display_data"
    },
    {
     "name": "stdout",
     "output_type": "stream",
     "text": [
      "                                                                                                                                                                                                                                                                                                                                "
     ]
    },
    {
     "name": "stderr",
     "output_type": "stream",
     "text": [
      "03:19:15 - cmdstanpy - INFO - CmdStan done processing.\n",
      "03:19:15 - cmdstanpy - INFO - CmdStan start processing\n"
     ]
    },
    {
     "name": "stdout",
     "output_type": "stream",
     "text": [
      "\n"
     ]
    },
    {
     "data": {
      "application/vnd.jupyter.widget-view+json": {
       "model_id": "c880c8d8f6d641308c318bb582e260bf",
       "version_major": 2,
       "version_minor": 0
      },
      "text/plain": [
       "chain 1 |          | 00:00 Status"
      ]
     },
     "metadata": {},
     "output_type": "display_data"
    },
    {
     "data": {
      "application/vnd.jupyter.widget-view+json": {
       "model_id": "1c3dfb68f2084b669f3ee68843e9b70f",
       "version_major": 2,
       "version_minor": 0
      },
      "text/plain": [
       "chain 2 |          | 00:00 Status"
      ]
     },
     "metadata": {},
     "output_type": "display_data"
    },
    {
     "data": {
      "application/vnd.jupyter.widget-view+json": {
       "model_id": "d92c3d7e18f6414da3fda61036de3878",
       "version_major": 2,
       "version_minor": 0
      },
      "text/plain": [
       "chain 3 |          | 00:00 Status"
      ]
     },
     "metadata": {},
     "output_type": "display_data"
    },
    {
     "data": {
      "application/vnd.jupyter.widget-view+json": {
       "model_id": "86595f6060784dbfb50bd37f6d2574f9",
       "version_major": 2,
       "version_minor": 0
      },
      "text/plain": [
       "chain 4 |          | 00:00 Status"
      ]
     },
     "metadata": {},
     "output_type": "display_data"
    },
    {
     "name": "stdout",
     "output_type": "stream",
     "text": [
      "                                                                                                                                                                                                                                                                                                                                "
     ]
    },
    {
     "name": "stderr",
     "output_type": "stream",
     "text": [
      "03:19:15 - cmdstanpy - INFO - CmdStan done processing.\n",
      "03:19:15 - cmdstanpy - WARNING - Some chains may have failed to converge.\n",
      "\tChain 2 had 3 divergent transitions (0.3%)\n",
      "\tUse function \"diagnose()\" to see further information.\n",
      "03:19:15 - cmdstanpy - INFO - CmdStan start processing\n"
     ]
    },
    {
     "name": "stdout",
     "output_type": "stream",
     "text": [
      "\n"
     ]
    },
    {
     "data": {
      "application/vnd.jupyter.widget-view+json": {
       "model_id": "04b83908d985435f8ae62fd0a1654416",
       "version_major": 2,
       "version_minor": 0
      },
      "text/plain": [
       "chain 1 |          | 00:00 Status"
      ]
     },
     "metadata": {},
     "output_type": "display_data"
    },
    {
     "data": {
      "application/vnd.jupyter.widget-view+json": {
       "model_id": "9fdc843993454e1b9192df2dc2e660f9",
       "version_major": 2,
       "version_minor": 0
      },
      "text/plain": [
       "chain 2 |          | 00:00 Status"
      ]
     },
     "metadata": {},
     "output_type": "display_data"
    },
    {
     "data": {
      "application/vnd.jupyter.widget-view+json": {
       "model_id": "dd84cda9e7f645d1aa37fdc28c26ea38",
       "version_major": 2,
       "version_minor": 0
      },
      "text/plain": [
       "chain 3 |          | 00:00 Status"
      ]
     },
     "metadata": {},
     "output_type": "display_data"
    },
    {
     "data": {
      "application/vnd.jupyter.widget-view+json": {
       "model_id": "8391f68c813542cf91960c574f967c88",
       "version_major": 2,
       "version_minor": 0
      },
      "text/plain": [
       "chain 4 |          | 00:00 Status"
      ]
     },
     "metadata": {},
     "output_type": "display_data"
    },
    {
     "name": "stdout",
     "output_type": "stream",
     "text": [
      "                                                                                                                                                                                                                                                                                                                                "
     ]
    },
    {
     "name": "stderr",
     "output_type": "stream",
     "text": [
      "03:19:16 - cmdstanpy - INFO - CmdStan done processing.\n",
      "03:19:16 - cmdstanpy - INFO - CmdStan start processing\n"
     ]
    },
    {
     "name": "stdout",
     "output_type": "stream",
     "text": [
      "\n"
     ]
    },
    {
     "data": {
      "application/vnd.jupyter.widget-view+json": {
       "model_id": "ad0ae796b86640228616b7ffde20636b",
       "version_major": 2,
       "version_minor": 0
      },
      "text/plain": [
       "chain 1 |          | 00:00 Status"
      ]
     },
     "metadata": {},
     "output_type": "display_data"
    },
    {
     "data": {
      "application/vnd.jupyter.widget-view+json": {
       "model_id": "371849fc3b4c4ea2b7b2a3e0031999b7",
       "version_major": 2,
       "version_minor": 0
      },
      "text/plain": [
       "chain 2 |          | 00:00 Status"
      ]
     },
     "metadata": {},
     "output_type": "display_data"
    },
    {
     "data": {
      "application/vnd.jupyter.widget-view+json": {
       "model_id": "08744bdd4383434ead052c6df98ca6c9",
       "version_major": 2,
       "version_minor": 0
      },
      "text/plain": [
       "chain 3 |          | 00:00 Status"
      ]
     },
     "metadata": {},
     "output_type": "display_data"
    },
    {
     "data": {
      "application/vnd.jupyter.widget-view+json": {
       "model_id": "a57a694299de4008b371df5cbba5dfcb",
       "version_major": 2,
       "version_minor": 0
      },
      "text/plain": [
       "chain 4 |          | 00:00 Status"
      ]
     },
     "metadata": {},
     "output_type": "display_data"
    },
    {
     "name": "stdout",
     "output_type": "stream",
     "text": [
      "                                                                                                                                                                                                                                                                                                                                "
     ]
    },
    {
     "name": "stderr",
     "output_type": "stream",
     "text": [
      "03:19:17 - cmdstanpy - INFO - CmdStan done processing.\n",
      "03:19:17 - cmdstanpy - WARNING - Some chains may have failed to converge.\n",
      "\tChain 3 had 1 divergent transitions (0.1%)\n",
      "\tChain 4 had 1 divergent transitions (0.1%)\n",
      "\tUse function \"diagnose()\" to see further information.\n",
      "03:19:17 - cmdstanpy - INFO - CmdStan start processing\n"
     ]
    },
    {
     "name": "stdout",
     "output_type": "stream",
     "text": [
      "\n"
     ]
    },
    {
     "data": {
      "application/vnd.jupyter.widget-view+json": {
       "model_id": "55d8a307e8d84af888c54403a0178d2e",
       "version_major": 2,
       "version_minor": 0
      },
      "text/plain": [
       "chain 1 |          | 00:00 Status"
      ]
     },
     "metadata": {},
     "output_type": "display_data"
    },
    {
     "data": {
      "application/vnd.jupyter.widget-view+json": {
       "model_id": "568745f4e94f4b27b929cbfb2337723a",
       "version_major": 2,
       "version_minor": 0
      },
      "text/plain": [
       "chain 2 |          | 00:00 Status"
      ]
     },
     "metadata": {},
     "output_type": "display_data"
    },
    {
     "data": {
      "application/vnd.jupyter.widget-view+json": {
       "model_id": "caf215a585534d6d895432856c1780bb",
       "version_major": 2,
       "version_minor": 0
      },
      "text/plain": [
       "chain 3 |          | 00:00 Status"
      ]
     },
     "metadata": {},
     "output_type": "display_data"
    },
    {
     "data": {
      "application/vnd.jupyter.widget-view+json": {
       "model_id": "fb5c8ef316b54538a098d820b25323c1",
       "version_major": 2,
       "version_minor": 0
      },
      "text/plain": [
       "chain 4 |          | 00:00 Status"
      ]
     },
     "metadata": {},
     "output_type": "display_data"
    },
    {
     "name": "stdout",
     "output_type": "stream",
     "text": [
      "                                                                                                                                                                                                                                                                                                                                "
     ]
    },
    {
     "name": "stderr",
     "output_type": "stream",
     "text": [
      "03:19:17 - cmdstanpy - INFO - CmdStan done processing.\n",
      "03:19:17 - cmdstanpy - INFO - CmdStan start processing\n"
     ]
    },
    {
     "name": "stdout",
     "output_type": "stream",
     "text": [
      "\n"
     ]
    },
    {
     "data": {
      "application/vnd.jupyter.widget-view+json": {
       "model_id": "e118fb3e9aad49fd878fa0c587f8a536",
       "version_major": 2,
       "version_minor": 0
      },
      "text/plain": [
       "chain 1 |          | 00:00 Status"
      ]
     },
     "metadata": {},
     "output_type": "display_data"
    },
    {
     "data": {
      "application/vnd.jupyter.widget-view+json": {
       "model_id": "2e5f4db7b7b4463da1936a1802df3f3a",
       "version_major": 2,
       "version_minor": 0
      },
      "text/plain": [
       "chain 2 |          | 00:00 Status"
      ]
     },
     "metadata": {},
     "output_type": "display_data"
    },
    {
     "data": {
      "application/vnd.jupyter.widget-view+json": {
       "model_id": "038bd05e163746d394bf34a3206756f6",
       "version_major": 2,
       "version_minor": 0
      },
      "text/plain": [
       "chain 3 |          | 00:00 Status"
      ]
     },
     "metadata": {},
     "output_type": "display_data"
    },
    {
     "data": {
      "application/vnd.jupyter.widget-view+json": {
       "model_id": "1d3ebddda21f49aa86e17722cd9254d2",
       "version_major": 2,
       "version_minor": 0
      },
      "text/plain": [
       "chain 4 |          | 00:00 Status"
      ]
     },
     "metadata": {},
     "output_type": "display_data"
    },
    {
     "name": "stdout",
     "output_type": "stream",
     "text": [
      "                                                                                                                                                                                                                                                                                                                                "
     ]
    },
    {
     "name": "stderr",
     "output_type": "stream",
     "text": [
      "03:19:18 - cmdstanpy - INFO - CmdStan done processing.\n",
      "03:19:18 - cmdstanpy - INFO - CmdStan start processing\n"
     ]
    },
    {
     "name": "stdout",
     "output_type": "stream",
     "text": [
      "\n"
     ]
    },
    {
     "data": {
      "application/vnd.jupyter.widget-view+json": {
       "model_id": "d03545303abe4b4eab067582717b0410",
       "version_major": 2,
       "version_minor": 0
      },
      "text/plain": [
       "chain 1 |          | 00:00 Status"
      ]
     },
     "metadata": {},
     "output_type": "display_data"
    },
    {
     "data": {
      "application/vnd.jupyter.widget-view+json": {
       "model_id": "f2eb2190509d46d0802f67bfad30a93a",
       "version_major": 2,
       "version_minor": 0
      },
      "text/plain": [
       "chain 2 |          | 00:00 Status"
      ]
     },
     "metadata": {},
     "output_type": "display_data"
    },
    {
     "data": {
      "application/vnd.jupyter.widget-view+json": {
       "model_id": "871710bffae0416c948ed036c8c73f3a",
       "version_major": 2,
       "version_minor": 0
      },
      "text/plain": [
       "chain 3 |          | 00:00 Status"
      ]
     },
     "metadata": {},
     "output_type": "display_data"
    },
    {
     "data": {
      "application/vnd.jupyter.widget-view+json": {
       "model_id": "8994236110b64c2d881a06cafb1808aa",
       "version_major": 2,
       "version_minor": 0
      },
      "text/plain": [
       "chain 4 |          | 00:00 Status"
      ]
     },
     "metadata": {},
     "output_type": "display_data"
    },
    {
     "name": "stdout",
     "output_type": "stream",
     "text": [
      "                                                                                                                                                                                                                                                                                                                                "
     ]
    },
    {
     "name": "stderr",
     "output_type": "stream",
     "text": [
      "03:19:18 - cmdstanpy - INFO - CmdStan done processing.\n",
      "03:19:18 - cmdstanpy - WARNING - Some chains may have failed to converge.\n",
      "\tChain 1 had 3 divergent transitions (0.3%)\n",
      "\tChain 2 had 4 divergent transitions (0.4%)\n",
      "\tUse function \"diagnose()\" to see further information.\n",
      "03:19:18 - cmdstanpy - INFO - CmdStan start processing\n"
     ]
    },
    {
     "name": "stdout",
     "output_type": "stream",
     "text": [
      "\n"
     ]
    },
    {
     "data": {
      "application/vnd.jupyter.widget-view+json": {
       "model_id": "4e04f334556243ba9733d964b41c2814",
       "version_major": 2,
       "version_minor": 0
      },
      "text/plain": [
       "chain 1 |          | 00:00 Status"
      ]
     },
     "metadata": {},
     "output_type": "display_data"
    },
    {
     "data": {
      "application/vnd.jupyter.widget-view+json": {
       "model_id": "8101ee2b26e54a9dbebabbe722840d41",
       "version_major": 2,
       "version_minor": 0
      },
      "text/plain": [
       "chain 2 |          | 00:00 Status"
      ]
     },
     "metadata": {},
     "output_type": "display_data"
    },
    {
     "data": {
      "application/vnd.jupyter.widget-view+json": {
       "model_id": "de52f0d35ef4481a8872addd6c6df69e",
       "version_major": 2,
       "version_minor": 0
      },
      "text/plain": [
       "chain 3 |          | 00:00 Status"
      ]
     },
     "metadata": {},
     "output_type": "display_data"
    },
    {
     "data": {
      "application/vnd.jupyter.widget-view+json": {
       "model_id": "e5cb8851c4814cc6bcd21038e7b5cd1b",
       "version_major": 2,
       "version_minor": 0
      },
      "text/plain": [
       "chain 4 |          | 00:00 Status"
      ]
     },
     "metadata": {},
     "output_type": "display_data"
    },
    {
     "name": "stdout",
     "output_type": "stream",
     "text": [
      "                                                                                                                                                                                                                                                                                                                                "
     ]
    },
    {
     "name": "stderr",
     "output_type": "stream",
     "text": [
      "03:19:19 - cmdstanpy - INFO - CmdStan done processing.\n",
      "03:19:19 - cmdstanpy - WARNING - Some chains may have failed to converge.\n",
      "\tChain 1 had 1 divergent transitions (0.1%)\n",
      "\tUse function \"diagnose()\" to see further information.\n",
      "03:19:19 - cmdstanpy - INFO - CmdStan start processing\n"
     ]
    },
    {
     "name": "stdout",
     "output_type": "stream",
     "text": [
      "\n"
     ]
    },
    {
     "data": {
      "application/vnd.jupyter.widget-view+json": {
       "model_id": "e7a6118a715f4852a795364abc5717b6",
       "version_major": 2,
       "version_minor": 0
      },
      "text/plain": [
       "chain 1 |          | 00:00 Status"
      ]
     },
     "metadata": {},
     "output_type": "display_data"
    },
    {
     "data": {
      "application/vnd.jupyter.widget-view+json": {
       "model_id": "5333559f79ab4bacbfdfa778bf059b62",
       "version_major": 2,
       "version_minor": 0
      },
      "text/plain": [
       "chain 2 |          | 00:00 Status"
      ]
     },
     "metadata": {},
     "output_type": "display_data"
    },
    {
     "data": {
      "application/vnd.jupyter.widget-view+json": {
       "model_id": "a9db91aec7b843c585048b34a09f19c7",
       "version_major": 2,
       "version_minor": 0
      },
      "text/plain": [
       "chain 3 |          | 00:00 Status"
      ]
     },
     "metadata": {},
     "output_type": "display_data"
    },
    {
     "data": {
      "application/vnd.jupyter.widget-view+json": {
       "model_id": "e145eb020a0e44ddbcb02722cb0f19eb",
       "version_major": 2,
       "version_minor": 0
      },
      "text/plain": [
       "chain 4 |          | 00:00 Status"
      ]
     },
     "metadata": {},
     "output_type": "display_data"
    },
    {
     "name": "stdout",
     "output_type": "stream",
     "text": [
      "                                                                                                                                                                                                                                                                                                                                "
     ]
    },
    {
     "name": "stderr",
     "output_type": "stream",
     "text": [
      "03:19:19 - cmdstanpy - INFO - CmdStan done processing.\n",
      "03:19:19 - cmdstanpy - INFO - CmdStan start processing\n"
     ]
    },
    {
     "name": "stdout",
     "output_type": "stream",
     "text": [
      "\n"
     ]
    },
    {
     "data": {
      "application/vnd.jupyter.widget-view+json": {
       "model_id": "b783f6f62e724800bf997ee658029c22",
       "version_major": 2,
       "version_minor": 0
      },
      "text/plain": [
       "chain 1 |          | 00:00 Status"
      ]
     },
     "metadata": {},
     "output_type": "display_data"
    },
    {
     "data": {
      "application/vnd.jupyter.widget-view+json": {
       "model_id": "d495a86efae14ddc86e9e2837184a625",
       "version_major": 2,
       "version_minor": 0
      },
      "text/plain": [
       "chain 2 |          | 00:00 Status"
      ]
     },
     "metadata": {},
     "output_type": "display_data"
    },
    {
     "data": {
      "application/vnd.jupyter.widget-view+json": {
       "model_id": "a32d78fa822443f1b6ecd3a56264d3fe",
       "version_major": 2,
       "version_minor": 0
      },
      "text/plain": [
       "chain 3 |          | 00:00 Status"
      ]
     },
     "metadata": {},
     "output_type": "display_data"
    },
    {
     "data": {
      "application/vnd.jupyter.widget-view+json": {
       "model_id": "4feb0d00c4334a4381fed6b120c229d9",
       "version_major": 2,
       "version_minor": 0
      },
      "text/plain": [
       "chain 4 |          | 00:00 Status"
      ]
     },
     "metadata": {},
     "output_type": "display_data"
    },
    {
     "name": "stdout",
     "output_type": "stream",
     "text": [
      "                                                                                                                                                                                                                                                                                                                                "
     ]
    },
    {
     "name": "stderr",
     "output_type": "stream",
     "text": [
      "03:19:19 - cmdstanpy - INFO - CmdStan done processing.\n",
      "03:19:20 - cmdstanpy - INFO - CmdStan start processing\n"
     ]
    },
    {
     "name": "stdout",
     "output_type": "stream",
     "text": [
      "\n"
     ]
    },
    {
     "data": {
      "application/vnd.jupyter.widget-view+json": {
       "model_id": "42d88becd0124ea6a1f2fdeb7f1387a5",
       "version_major": 2,
       "version_minor": 0
      },
      "text/plain": [
       "chain 1 |          | 00:00 Status"
      ]
     },
     "metadata": {},
     "output_type": "display_data"
    },
    {
     "data": {
      "application/vnd.jupyter.widget-view+json": {
       "model_id": "c722f351996843d6859cf97e99f0ff14",
       "version_major": 2,
       "version_minor": 0
      },
      "text/plain": [
       "chain 2 |          | 00:00 Status"
      ]
     },
     "metadata": {},
     "output_type": "display_data"
    },
    {
     "data": {
      "application/vnd.jupyter.widget-view+json": {
       "model_id": "5023069186124a438be7c6c0b29b4909",
       "version_major": 2,
       "version_minor": 0
      },
      "text/plain": [
       "chain 3 |          | 00:00 Status"
      ]
     },
     "metadata": {},
     "output_type": "display_data"
    },
    {
     "data": {
      "application/vnd.jupyter.widget-view+json": {
       "model_id": "8542c08601424cf5beb8d6d4c4b7b39d",
       "version_major": 2,
       "version_minor": 0
      },
      "text/plain": [
       "chain 4 |          | 00:00 Status"
      ]
     },
     "metadata": {},
     "output_type": "display_data"
    },
    {
     "name": "stdout",
     "output_type": "stream",
     "text": [
      "                                                                                                                                                                                                                                                                                                                                "
     ]
    },
    {
     "name": "stderr",
     "output_type": "stream",
     "text": [
      "03:19:20 - cmdstanpy - INFO - CmdStan done processing.\n",
      "03:19:20 - cmdstanpy - WARNING - Some chains may have failed to converge.\n",
      "\tChain 2 had 4 divergent transitions (0.4%)\n",
      "\tUse function \"diagnose()\" to see further information.\n",
      "03:19:20 - cmdstanpy - INFO - CmdStan start processing\n"
     ]
    },
    {
     "name": "stdout",
     "output_type": "stream",
     "text": [
      "\n"
     ]
    },
    {
     "data": {
      "application/vnd.jupyter.widget-view+json": {
       "model_id": "7fac5c1ebbaa426d8200c9596b1ab1fe",
       "version_major": 2,
       "version_minor": 0
      },
      "text/plain": [
       "chain 1 |          | 00:00 Status"
      ]
     },
     "metadata": {},
     "output_type": "display_data"
    },
    {
     "data": {
      "application/vnd.jupyter.widget-view+json": {
       "model_id": "94c293cacf434f4ea08d79c8a7e61544",
       "version_major": 2,
       "version_minor": 0
      },
      "text/plain": [
       "chain 2 |          | 00:00 Status"
      ]
     },
     "metadata": {},
     "output_type": "display_data"
    },
    {
     "data": {
      "application/vnd.jupyter.widget-view+json": {
       "model_id": "88f5899ddf4844e182fcfdca301813b3",
       "version_major": 2,
       "version_minor": 0
      },
      "text/plain": [
       "chain 3 |          | 00:00 Status"
      ]
     },
     "metadata": {},
     "output_type": "display_data"
    },
    {
     "data": {
      "application/vnd.jupyter.widget-view+json": {
       "model_id": "2132522c50ad442c884f8643c6135b73",
       "version_major": 2,
       "version_minor": 0
      },
      "text/plain": [
       "chain 4 |          | 00:00 Status"
      ]
     },
     "metadata": {},
     "output_type": "display_data"
    },
    {
     "name": "stdout",
     "output_type": "stream",
     "text": [
      "                                                                                                                                                                                                                                                                                                                                "
     ]
    },
    {
     "name": "stderr",
     "output_type": "stream",
     "text": [
      "03:19:20 - cmdstanpy - INFO - CmdStan done processing.\n",
      "03:19:20 - cmdstanpy - INFO - CmdStan start processing\n"
     ]
    },
    {
     "name": "stdout",
     "output_type": "stream",
     "text": [
      "\n"
     ]
    },
    {
     "data": {
      "application/vnd.jupyter.widget-view+json": {
       "model_id": "1bebccf0380c4ef9817497b74018f39b",
       "version_major": 2,
       "version_minor": 0
      },
      "text/plain": [
       "chain 1 |          | 00:00 Status"
      ]
     },
     "metadata": {},
     "output_type": "display_data"
    },
    {
     "data": {
      "application/vnd.jupyter.widget-view+json": {
       "model_id": "f5ff708b2b014a1b8d1701bd6bc543b7",
       "version_major": 2,
       "version_minor": 0
      },
      "text/plain": [
       "chain 2 |          | 00:00 Status"
      ]
     },
     "metadata": {},
     "output_type": "display_data"
    },
    {
     "data": {
      "application/vnd.jupyter.widget-view+json": {
       "model_id": "a604eb39ac534e8eb725d9d8349c6967",
       "version_major": 2,
       "version_minor": 0
      },
      "text/plain": [
       "chain 3 |          | 00:00 Status"
      ]
     },
     "metadata": {},
     "output_type": "display_data"
    },
    {
     "data": {
      "application/vnd.jupyter.widget-view+json": {
       "model_id": "74fb4b4dd6fe4afea8d2cbbc5e4c388d",
       "version_major": 2,
       "version_minor": 0
      },
      "text/plain": [
       "chain 4 |          | 00:00 Status"
      ]
     },
     "metadata": {},
     "output_type": "display_data"
    },
    {
     "name": "stdout",
     "output_type": "stream",
     "text": [
      "                                                                                                                                                                                                                                                                                                                                "
     ]
    },
    {
     "name": "stderr",
     "output_type": "stream",
     "text": [
      "03:19:21 - cmdstanpy - INFO - CmdStan done processing.\n",
      "03:19:21 - cmdstanpy - INFO - CmdStan start processing\n"
     ]
    },
    {
     "name": "stdout",
     "output_type": "stream",
     "text": [
      "\n"
     ]
    },
    {
     "data": {
      "application/vnd.jupyter.widget-view+json": {
       "model_id": "cde2dd10c157480389973bd1af6b7869",
       "version_major": 2,
       "version_minor": 0
      },
      "text/plain": [
       "chain 1 |          | 00:00 Status"
      ]
     },
     "metadata": {},
     "output_type": "display_data"
    },
    {
     "data": {
      "application/vnd.jupyter.widget-view+json": {
       "model_id": "c4d90389ddc24369ba9794f02b546d4d",
       "version_major": 2,
       "version_minor": 0
      },
      "text/plain": [
       "chain 2 |          | 00:00 Status"
      ]
     },
     "metadata": {},
     "output_type": "display_data"
    },
    {
     "data": {
      "application/vnd.jupyter.widget-view+json": {
       "model_id": "fede9b1a62c542cfa46f1c796f51aa94",
       "version_major": 2,
       "version_minor": 0
      },
      "text/plain": [
       "chain 3 |          | 00:00 Status"
      ]
     },
     "metadata": {},
     "output_type": "display_data"
    },
    {
     "data": {
      "application/vnd.jupyter.widget-view+json": {
       "model_id": "3af69f7f169b4936b86aa0f721371dc6",
       "version_major": 2,
       "version_minor": 0
      },
      "text/plain": [
       "chain 4 |          | 00:00 Status"
      ]
     },
     "metadata": {},
     "output_type": "display_data"
    },
    {
     "name": "stdout",
     "output_type": "stream",
     "text": [
      "                                                                                                                                                                                                                                                                                                                                "
     ]
    },
    {
     "name": "stderr",
     "output_type": "stream",
     "text": [
      "03:19:21 - cmdstanpy - INFO - CmdStan done processing.\n",
      "03:19:21 - cmdstanpy - WARNING - Some chains may have failed to converge.\n",
      "\tChain 1 had 3 divergent transitions (0.3%)\n",
      "\tChain 3 had 3 divergent transitions (0.3%)\n",
      "\tChain 4 had 1 divergent transitions (0.1%)\n",
      "\tUse function \"diagnose()\" to see further information.\n",
      "03:19:21 - cmdstanpy - INFO - CmdStan start processing\n"
     ]
    },
    {
     "name": "stdout",
     "output_type": "stream",
     "text": [
      "\n"
     ]
    },
    {
     "data": {
      "application/vnd.jupyter.widget-view+json": {
       "model_id": "d5a942d35cfb4fc0af9202a56a85b170",
       "version_major": 2,
       "version_minor": 0
      },
      "text/plain": [
       "chain 1 |          | 00:00 Status"
      ]
     },
     "metadata": {},
     "output_type": "display_data"
    },
    {
     "data": {
      "application/vnd.jupyter.widget-view+json": {
       "model_id": "1de17a5289d548c1b4f3b8970d9e0376",
       "version_major": 2,
       "version_minor": 0
      },
      "text/plain": [
       "chain 2 |          | 00:00 Status"
      ]
     },
     "metadata": {},
     "output_type": "display_data"
    },
    {
     "data": {
      "application/vnd.jupyter.widget-view+json": {
       "model_id": "da4d8c153a5c4248bd5e6291dd7a5bb9",
       "version_major": 2,
       "version_minor": 0
      },
      "text/plain": [
       "chain 3 |          | 00:00 Status"
      ]
     },
     "metadata": {},
     "output_type": "display_data"
    },
    {
     "data": {
      "application/vnd.jupyter.widget-view+json": {
       "model_id": "9b878a851e8c4d34b77e27e9adf2c7ec",
       "version_major": 2,
       "version_minor": 0
      },
      "text/plain": [
       "chain 4 |          | 00:00 Status"
      ]
     },
     "metadata": {},
     "output_type": "display_data"
    },
    {
     "name": "stdout",
     "output_type": "stream",
     "text": [
      "                                                                                                                                                                                                                                                                                                                                "
     ]
    },
    {
     "name": "stderr",
     "output_type": "stream",
     "text": [
      "03:19:22 - cmdstanpy - INFO - CmdStan done processing.\n",
      "03:19:22 - cmdstanpy - INFO - CmdStan start processing\n"
     ]
    },
    {
     "name": "stdout",
     "output_type": "stream",
     "text": [
      "\n"
     ]
    },
    {
     "data": {
      "application/vnd.jupyter.widget-view+json": {
       "model_id": "afccecb217524c77bd458dbfb6f9f6b8",
       "version_major": 2,
       "version_minor": 0
      },
      "text/plain": [
       "chain 1 |          | 00:00 Status"
      ]
     },
     "metadata": {},
     "output_type": "display_data"
    },
    {
     "data": {
      "application/vnd.jupyter.widget-view+json": {
       "model_id": "723992d1ed2249479af49e9159dcd57a",
       "version_major": 2,
       "version_minor": 0
      },
      "text/plain": [
       "chain 2 |          | 00:00 Status"
      ]
     },
     "metadata": {},
     "output_type": "display_data"
    },
    {
     "data": {
      "application/vnd.jupyter.widget-view+json": {
       "model_id": "132c46010f184f85890833790f2e7df7",
       "version_major": 2,
       "version_minor": 0
      },
      "text/plain": [
       "chain 3 |          | 00:00 Status"
      ]
     },
     "metadata": {},
     "output_type": "display_data"
    },
    {
     "data": {
      "application/vnd.jupyter.widget-view+json": {
       "model_id": "b350ce9da42f41dcaee29452db430e5f",
       "version_major": 2,
       "version_minor": 0
      },
      "text/plain": [
       "chain 4 |          | 00:00 Status"
      ]
     },
     "metadata": {},
     "output_type": "display_data"
    },
    {
     "name": "stdout",
     "output_type": "stream",
     "text": [
      "                                                                                                                                                                                                                                                                                                                                "
     ]
    },
    {
     "name": "stderr",
     "output_type": "stream",
     "text": [
      "03:19:22 - cmdstanpy - INFO - CmdStan done processing.\n",
      "03:19:22 - cmdstanpy - WARNING - Some chains may have failed to converge.\n",
      "\tChain 4 had 1 divergent transitions (0.1%)\n",
      "\tUse function \"diagnose()\" to see further information.\n",
      "03:19:22 - cmdstanpy - INFO - CmdStan start processing\n"
     ]
    },
    {
     "name": "stdout",
     "output_type": "stream",
     "text": [
      "\n"
     ]
    },
    {
     "data": {
      "application/vnd.jupyter.widget-view+json": {
       "model_id": "7da50f7bf334441c902e514e104e1388",
       "version_major": 2,
       "version_minor": 0
      },
      "text/plain": [
       "chain 1 |          | 00:00 Status"
      ]
     },
     "metadata": {},
     "output_type": "display_data"
    },
    {
     "data": {
      "application/vnd.jupyter.widget-view+json": {
       "model_id": "de68358511c540c8967dcc8fd78824eb",
       "version_major": 2,
       "version_minor": 0
      },
      "text/plain": [
       "chain 2 |          | 00:00 Status"
      ]
     },
     "metadata": {},
     "output_type": "display_data"
    },
    {
     "data": {
      "application/vnd.jupyter.widget-view+json": {
       "model_id": "bde8bf54aa064b10a4701bb9657b6a5e",
       "version_major": 2,
       "version_minor": 0
      },
      "text/plain": [
       "chain 3 |          | 00:00 Status"
      ]
     },
     "metadata": {},
     "output_type": "display_data"
    },
    {
     "data": {
      "application/vnd.jupyter.widget-view+json": {
       "model_id": "b571721b49bf4eb9ac6258a63123a4d3",
       "version_major": 2,
       "version_minor": 0
      },
      "text/plain": [
       "chain 4 |          | 00:00 Status"
      ]
     },
     "metadata": {},
     "output_type": "display_data"
    },
    {
     "name": "stdout",
     "output_type": "stream",
     "text": [
      "                                                                                                                                                                                                                                                                                                                                "
     ]
    },
    {
     "name": "stderr",
     "output_type": "stream",
     "text": [
      "03:19:23 - cmdstanpy - INFO - CmdStan done processing.\n",
      "03:19:23 - cmdstanpy - WARNING - Some chains may have failed to converge.\n",
      "\tChain 3 had 1 divergent transitions (0.1%)\n",
      "\tUse function \"diagnose()\" to see further information.\n",
      "03:19:23 - cmdstanpy - INFO - CmdStan start processing\n"
     ]
    },
    {
     "name": "stdout",
     "output_type": "stream",
     "text": [
      "\n"
     ]
    },
    {
     "data": {
      "application/vnd.jupyter.widget-view+json": {
       "model_id": "768c23daf14848358ae6b54b218fb346",
       "version_major": 2,
       "version_minor": 0
      },
      "text/plain": [
       "chain 1 |          | 00:00 Status"
      ]
     },
     "metadata": {},
     "output_type": "display_data"
    },
    {
     "data": {
      "application/vnd.jupyter.widget-view+json": {
       "model_id": "22155087312748d58325b15e9b3c0357",
       "version_major": 2,
       "version_minor": 0
      },
      "text/plain": [
       "chain 2 |          | 00:00 Status"
      ]
     },
     "metadata": {},
     "output_type": "display_data"
    },
    {
     "data": {
      "application/vnd.jupyter.widget-view+json": {
       "model_id": "5dde33f4c34d44dfa894cb5a0d8f61fb",
       "version_major": 2,
       "version_minor": 0
      },
      "text/plain": [
       "chain 3 |          | 00:00 Status"
      ]
     },
     "metadata": {},
     "output_type": "display_data"
    },
    {
     "data": {
      "application/vnd.jupyter.widget-view+json": {
       "model_id": "fc8170439fa845c3ad225f56565421de",
       "version_major": 2,
       "version_minor": 0
      },
      "text/plain": [
       "chain 4 |          | 00:00 Status"
      ]
     },
     "metadata": {},
     "output_type": "display_data"
    },
    {
     "name": "stdout",
     "output_type": "stream",
     "text": [
      "                                                                                                                                                                                                                                                                                                                                "
     ]
    },
    {
     "name": "stderr",
     "output_type": "stream",
     "text": [
      "03:19:23 - cmdstanpy - INFO - CmdStan done processing.\n",
      "03:19:23 - cmdstanpy - INFO - CmdStan start processing\n"
     ]
    },
    {
     "name": "stdout",
     "output_type": "stream",
     "text": [
      "\n"
     ]
    },
    {
     "data": {
      "application/vnd.jupyter.widget-view+json": {
       "model_id": "b348a6cc727f47f7851506688f7515c3",
       "version_major": 2,
       "version_minor": 0
      },
      "text/plain": [
       "chain 1 |          | 00:00 Status"
      ]
     },
     "metadata": {},
     "output_type": "display_data"
    },
    {
     "data": {
      "application/vnd.jupyter.widget-view+json": {
       "model_id": "8bf1887c2285443bb967696eaa02e297",
       "version_major": 2,
       "version_minor": 0
      },
      "text/plain": [
       "chain 2 |          | 00:00 Status"
      ]
     },
     "metadata": {},
     "output_type": "display_data"
    },
    {
     "data": {
      "application/vnd.jupyter.widget-view+json": {
       "model_id": "139c97586a764cf1af5ac08540347e28",
       "version_major": 2,
       "version_minor": 0
      },
      "text/plain": [
       "chain 3 |          | 00:00 Status"
      ]
     },
     "metadata": {},
     "output_type": "display_data"
    },
    {
     "data": {
      "application/vnd.jupyter.widget-view+json": {
       "model_id": "4b116ef5d4d749a48e68d9fd4086c1b7",
       "version_major": 2,
       "version_minor": 0
      },
      "text/plain": [
       "chain 4 |          | 00:00 Status"
      ]
     },
     "metadata": {},
     "output_type": "display_data"
    },
    {
     "name": "stdout",
     "output_type": "stream",
     "text": [
      "                                                                                                                                                                                                                                                                                                                                "
     ]
    },
    {
     "name": "stderr",
     "output_type": "stream",
     "text": [
      "03:19:24 - cmdstanpy - INFO - CmdStan done processing.\n",
      "03:19:24 - cmdstanpy - INFO - CmdStan start processing\n"
     ]
    },
    {
     "name": "stdout",
     "output_type": "stream",
     "text": [
      "\n"
     ]
    },
    {
     "data": {
      "application/vnd.jupyter.widget-view+json": {
       "model_id": "4a8c7ff5072f43c6a7cef4e4e3101b29",
       "version_major": 2,
       "version_minor": 0
      },
      "text/plain": [
       "chain 1 |          | 00:00 Status"
      ]
     },
     "metadata": {},
     "output_type": "display_data"
    },
    {
     "data": {
      "application/vnd.jupyter.widget-view+json": {
       "model_id": "bfd6937969fa42e7a7ba508533287dd7",
       "version_major": 2,
       "version_minor": 0
      },
      "text/plain": [
       "chain 2 |          | 00:00 Status"
      ]
     },
     "metadata": {},
     "output_type": "display_data"
    },
    {
     "data": {
      "application/vnd.jupyter.widget-view+json": {
       "model_id": "700dbbd01c7548e4a6fa8072e061713a",
       "version_major": 2,
       "version_minor": 0
      },
      "text/plain": [
       "chain 3 |          | 00:00 Status"
      ]
     },
     "metadata": {},
     "output_type": "display_data"
    },
    {
     "data": {
      "application/vnd.jupyter.widget-view+json": {
       "model_id": "21903fc11a1445508e09bf50995d2028",
       "version_major": 2,
       "version_minor": 0
      },
      "text/plain": [
       "chain 4 |          | 00:00 Status"
      ]
     },
     "metadata": {},
     "output_type": "display_data"
    },
    {
     "name": "stdout",
     "output_type": "stream",
     "text": [
      "                                                                                                                                                                                                                                                                                                                                "
     ]
    },
    {
     "name": "stderr",
     "output_type": "stream",
     "text": [
      "03:19:24 - cmdstanpy - INFO - CmdStan done processing.\n",
      "03:19:24 - cmdstanpy - INFO - CmdStan start processing\n"
     ]
    },
    {
     "name": "stdout",
     "output_type": "stream",
     "text": [
      "\n"
     ]
    },
    {
     "data": {
      "application/vnd.jupyter.widget-view+json": {
       "model_id": "9c5ac44b516a435db2297abbe49b5cf7",
       "version_major": 2,
       "version_minor": 0
      },
      "text/plain": [
       "chain 1 |          | 00:00 Status"
      ]
     },
     "metadata": {},
     "output_type": "display_data"
    },
    {
     "data": {
      "application/vnd.jupyter.widget-view+json": {
       "model_id": "ffd983024a974fdbb95a084c63afefa9",
       "version_major": 2,
       "version_minor": 0
      },
      "text/plain": [
       "chain 2 |          | 00:00 Status"
      ]
     },
     "metadata": {},
     "output_type": "display_data"
    },
    {
     "data": {
      "application/vnd.jupyter.widget-view+json": {
       "model_id": "7a561afb6eab42179a5aa2dfd6ce0e92",
       "version_major": 2,
       "version_minor": 0
      },
      "text/plain": [
       "chain 3 |          | 00:00 Status"
      ]
     },
     "metadata": {},
     "output_type": "display_data"
    },
    {
     "data": {
      "application/vnd.jupyter.widget-view+json": {
       "model_id": "5411207ec352480a89a5dc0afb0bce23",
       "version_major": 2,
       "version_minor": 0
      },
      "text/plain": [
       "chain 4 |          | 00:00 Status"
      ]
     },
     "metadata": {},
     "output_type": "display_data"
    },
    {
     "name": "stdout",
     "output_type": "stream",
     "text": [
      "                                                                                                                                                                                                                                                                                                                                "
     ]
    },
    {
     "name": "stderr",
     "output_type": "stream",
     "text": [
      "03:19:25 - cmdstanpy - INFO - CmdStan done processing.\n",
      "03:19:25 - cmdstanpy - WARNING - Some chains may have failed to converge.\n",
      "\tChain 3 had 1 divergent transitions (0.1%)\n",
      "\tUse function \"diagnose()\" to see further information.\n",
      "03:19:25 - cmdstanpy - INFO - CmdStan start processing\n"
     ]
    },
    {
     "name": "stdout",
     "output_type": "stream",
     "text": [
      "\n"
     ]
    },
    {
     "data": {
      "application/vnd.jupyter.widget-view+json": {
       "model_id": "49b8455c575b40cfb9b3880179229b40",
       "version_major": 2,
       "version_minor": 0
      },
      "text/plain": [
       "chain 1 |          | 00:00 Status"
      ]
     },
     "metadata": {},
     "output_type": "display_data"
    },
    {
     "data": {
      "application/vnd.jupyter.widget-view+json": {
       "model_id": "a4a88118640644e89aa5b8909e3c9ac9",
       "version_major": 2,
       "version_minor": 0
      },
      "text/plain": [
       "chain 2 |          | 00:00 Status"
      ]
     },
     "metadata": {},
     "output_type": "display_data"
    },
    {
     "data": {
      "application/vnd.jupyter.widget-view+json": {
       "model_id": "6ea145a5d4e34aa086134acd168ad37a",
       "version_major": 2,
       "version_minor": 0
      },
      "text/plain": [
       "chain 3 |          | 00:00 Status"
      ]
     },
     "metadata": {},
     "output_type": "display_data"
    },
    {
     "data": {
      "application/vnd.jupyter.widget-view+json": {
       "model_id": "6e0ccee4179c4bd887466f0ae1d05f66",
       "version_major": 2,
       "version_minor": 0
      },
      "text/plain": [
       "chain 4 |          | 00:00 Status"
      ]
     },
     "metadata": {},
     "output_type": "display_data"
    },
    {
     "name": "stdout",
     "output_type": "stream",
     "text": [
      "                                                                                                                                                                                                                                                                                                                                "
     ]
    },
    {
     "name": "stderr",
     "output_type": "stream",
     "text": [
      "03:19:25 - cmdstanpy - INFO - CmdStan done processing.\n",
      "03:19:25 - cmdstanpy - INFO - CmdStan start processing\n"
     ]
    },
    {
     "name": "stdout",
     "output_type": "stream",
     "text": [
      "\n"
     ]
    },
    {
     "data": {
      "application/vnd.jupyter.widget-view+json": {
       "model_id": "83b0bf39d5f3462899f7b11265f142b3",
       "version_major": 2,
       "version_minor": 0
      },
      "text/plain": [
       "chain 1 |          | 00:00 Status"
      ]
     },
     "metadata": {},
     "output_type": "display_data"
    },
    {
     "data": {
      "application/vnd.jupyter.widget-view+json": {
       "model_id": "98d98e45510b4fcbb462d9a2b1cc48ed",
       "version_major": 2,
       "version_minor": 0
      },
      "text/plain": [
       "chain 2 |          | 00:00 Status"
      ]
     },
     "metadata": {},
     "output_type": "display_data"
    },
    {
     "data": {
      "application/vnd.jupyter.widget-view+json": {
       "model_id": "935d2c4a0bc44061b5d81ed5cbb28d5f",
       "version_major": 2,
       "version_minor": 0
      },
      "text/plain": [
       "chain 3 |          | 00:00 Status"
      ]
     },
     "metadata": {},
     "output_type": "display_data"
    },
    {
     "data": {
      "application/vnd.jupyter.widget-view+json": {
       "model_id": "2ae98fed04ff492f84006a8599205557",
       "version_major": 2,
       "version_minor": 0
      },
      "text/plain": [
       "chain 4 |          | 00:00 Status"
      ]
     },
     "metadata": {},
     "output_type": "display_data"
    },
    {
     "name": "stdout",
     "output_type": "stream",
     "text": [
      "                                                                                                                                                                                                                                                                                                                                "
     ]
    },
    {
     "name": "stderr",
     "output_type": "stream",
     "text": [
      "03:19:26 - cmdstanpy - INFO - CmdStan done processing.\n",
      "03:19:26 - cmdstanpy - INFO - CmdStan start processing\n"
     ]
    },
    {
     "name": "stdout",
     "output_type": "stream",
     "text": [
      "\n"
     ]
    },
    {
     "data": {
      "application/vnd.jupyter.widget-view+json": {
       "model_id": "ad7ca0f69c444d9b8908dd7fe6fd6128",
       "version_major": 2,
       "version_minor": 0
      },
      "text/plain": [
       "chain 1 |          | 00:00 Status"
      ]
     },
     "metadata": {},
     "output_type": "display_data"
    },
    {
     "data": {
      "application/vnd.jupyter.widget-view+json": {
       "model_id": "18fb50efd3e3425aa80c16688e423583",
       "version_major": 2,
       "version_minor": 0
      },
      "text/plain": [
       "chain 2 |          | 00:00 Status"
      ]
     },
     "metadata": {},
     "output_type": "display_data"
    },
    {
     "data": {
      "application/vnd.jupyter.widget-view+json": {
       "model_id": "ac0542e4e59843c98546aa453d6c003d",
       "version_major": 2,
       "version_minor": 0
      },
      "text/plain": [
       "chain 3 |          | 00:00 Status"
      ]
     },
     "metadata": {},
     "output_type": "display_data"
    },
    {
     "data": {
      "application/vnd.jupyter.widget-view+json": {
       "model_id": "f05293eb2e2d44ef9506bddd0d29a9ac",
       "version_major": 2,
       "version_minor": 0
      },
      "text/plain": [
       "chain 4 |          | 00:00 Status"
      ]
     },
     "metadata": {},
     "output_type": "display_data"
    },
    {
     "name": "stdout",
     "output_type": "stream",
     "text": [
      "                                                                                                                                                                                                                                                                                                                                "
     ]
    },
    {
     "name": "stderr",
     "output_type": "stream",
     "text": [
      "03:19:26 - cmdstanpy - INFO - CmdStan done processing.\n",
      "03:19:26 - cmdstanpy - INFO - CmdStan start processing\n"
     ]
    },
    {
     "name": "stdout",
     "output_type": "stream",
     "text": [
      "\n"
     ]
    },
    {
     "data": {
      "application/vnd.jupyter.widget-view+json": {
       "model_id": "d4b226afc085482392b742c661525c85",
       "version_major": 2,
       "version_minor": 0
      },
      "text/plain": [
       "chain 1 |          | 00:00 Status"
      ]
     },
     "metadata": {},
     "output_type": "display_data"
    },
    {
     "data": {
      "application/vnd.jupyter.widget-view+json": {
       "model_id": "c3f945e145ec422e97c5ae33e0208e44",
       "version_major": 2,
       "version_minor": 0
      },
      "text/plain": [
       "chain 2 |          | 00:00 Status"
      ]
     },
     "metadata": {},
     "output_type": "display_data"
    },
    {
     "data": {
      "application/vnd.jupyter.widget-view+json": {
       "model_id": "6291248cdf544ea6a64bf1e7ffd123a6",
       "version_major": 2,
       "version_minor": 0
      },
      "text/plain": [
       "chain 3 |          | 00:00 Status"
      ]
     },
     "metadata": {},
     "output_type": "display_data"
    },
    {
     "data": {
      "application/vnd.jupyter.widget-view+json": {
       "model_id": "3d2ec88d7b584341a995a038b008936f",
       "version_major": 2,
       "version_minor": 0
      },
      "text/plain": [
       "chain 4 |          | 00:00 Status"
      ]
     },
     "metadata": {},
     "output_type": "display_data"
    },
    {
     "name": "stdout",
     "output_type": "stream",
     "text": [
      "                                                                                                                                                                                                                                                                                                                                "
     ]
    },
    {
     "name": "stderr",
     "output_type": "stream",
     "text": [
      "03:19:27 - cmdstanpy - INFO - CmdStan done processing.\n",
      "03:19:27 - cmdstanpy - INFO - CmdStan start processing\n"
     ]
    },
    {
     "name": "stdout",
     "output_type": "stream",
     "text": [
      "\n"
     ]
    },
    {
     "data": {
      "application/vnd.jupyter.widget-view+json": {
       "model_id": "e399e9bff6824d6b970d8eae1e901f5c",
       "version_major": 2,
       "version_minor": 0
      },
      "text/plain": [
       "chain 1 |          | 00:00 Status"
      ]
     },
     "metadata": {},
     "output_type": "display_data"
    },
    {
     "data": {
      "application/vnd.jupyter.widget-view+json": {
       "model_id": "e751b258d3e844bfad783a75e50db58d",
       "version_major": 2,
       "version_minor": 0
      },
      "text/plain": [
       "chain 2 |          | 00:00 Status"
      ]
     },
     "metadata": {},
     "output_type": "display_data"
    },
    {
     "data": {
      "application/vnd.jupyter.widget-view+json": {
       "model_id": "6ec1f66d94304a58bc3b5b6692822bd0",
       "version_major": 2,
       "version_minor": 0
      },
      "text/plain": [
       "chain 3 |          | 00:00 Status"
      ]
     },
     "metadata": {},
     "output_type": "display_data"
    },
    {
     "data": {
      "application/vnd.jupyter.widget-view+json": {
       "model_id": "c043b9f677e242b481f9dd32e65c4355",
       "version_major": 2,
       "version_minor": 0
      },
      "text/plain": [
       "chain 4 |          | 00:00 Status"
      ]
     },
     "metadata": {},
     "output_type": "display_data"
    },
    {
     "name": "stdout",
     "output_type": "stream",
     "text": [
      "                                                                                                                                                                                                                                                                                                                                "
     ]
    },
    {
     "name": "stderr",
     "output_type": "stream",
     "text": [
      "03:19:27 - cmdstanpy - INFO - CmdStan done processing.\n",
      "03:19:27 - cmdstanpy - INFO - CmdStan start processing\n"
     ]
    },
    {
     "name": "stdout",
     "output_type": "stream",
     "text": [
      "\n"
     ]
    },
    {
     "data": {
      "application/vnd.jupyter.widget-view+json": {
       "model_id": "a6236d8f59af4f2b91ed391f0f0be4b1",
       "version_major": 2,
       "version_minor": 0
      },
      "text/plain": [
       "chain 1 |          | 00:00 Status"
      ]
     },
     "metadata": {},
     "output_type": "display_data"
    },
    {
     "data": {
      "application/vnd.jupyter.widget-view+json": {
       "model_id": "c230810144ce4ad99a710ca72e4d7a5a",
       "version_major": 2,
       "version_minor": 0
      },
      "text/plain": [
       "chain 2 |          | 00:00 Status"
      ]
     },
     "metadata": {},
     "output_type": "display_data"
    },
    {
     "data": {
      "application/vnd.jupyter.widget-view+json": {
       "model_id": "36766909f6d84842a05ca3cad1e412bb",
       "version_major": 2,
       "version_minor": 0
      },
      "text/plain": [
       "chain 3 |          | 00:00 Status"
      ]
     },
     "metadata": {},
     "output_type": "display_data"
    },
    {
     "data": {
      "application/vnd.jupyter.widget-view+json": {
       "model_id": "e59319cbb05b408390fad75548e638ff",
       "version_major": 2,
       "version_minor": 0
      },
      "text/plain": [
       "chain 4 |          | 00:00 Status"
      ]
     },
     "metadata": {},
     "output_type": "display_data"
    },
    {
     "name": "stdout",
     "output_type": "stream",
     "text": [
      "                                                                                                                                                                                                                                                                                                                                "
     ]
    },
    {
     "name": "stderr",
     "output_type": "stream",
     "text": [
      "03:19:28 - cmdstanpy - INFO - CmdStan done processing.\n",
      "03:19:28 - cmdstanpy - WARNING - Some chains may have failed to converge.\n",
      "\tChain 4 had 1 divergent transitions (0.1%)\n",
      "\tUse function \"diagnose()\" to see further information.\n",
      "03:19:28 - cmdstanpy - INFO - CmdStan start processing\n"
     ]
    },
    {
     "name": "stdout",
     "output_type": "stream",
     "text": [
      "\n"
     ]
    },
    {
     "data": {
      "application/vnd.jupyter.widget-view+json": {
       "model_id": "5d93613ebaf84130b313bde5bde4005a",
       "version_major": 2,
       "version_minor": 0
      },
      "text/plain": [
       "chain 1 |          | 00:00 Status"
      ]
     },
     "metadata": {},
     "output_type": "display_data"
    },
    {
     "data": {
      "application/vnd.jupyter.widget-view+json": {
       "model_id": "3331a7fa613b4741a428ba5ae5679320",
       "version_major": 2,
       "version_minor": 0
      },
      "text/plain": [
       "chain 2 |          | 00:00 Status"
      ]
     },
     "metadata": {},
     "output_type": "display_data"
    },
    {
     "data": {
      "application/vnd.jupyter.widget-view+json": {
       "model_id": "0619eb38226949bf8576ef6eb6b2c97a",
       "version_major": 2,
       "version_minor": 0
      },
      "text/plain": [
       "chain 3 |          | 00:00 Status"
      ]
     },
     "metadata": {},
     "output_type": "display_data"
    },
    {
     "data": {
      "application/vnd.jupyter.widget-view+json": {
       "model_id": "5da8335ad03c4dea9e75451a3b80ec76",
       "version_major": 2,
       "version_minor": 0
      },
      "text/plain": [
       "chain 4 |          | 00:00 Status"
      ]
     },
     "metadata": {},
     "output_type": "display_data"
    },
    {
     "name": "stdout",
     "output_type": "stream",
     "text": [
      "                                                                                                                                                                                                                                                                                                                                "
     ]
    },
    {
     "name": "stderr",
     "output_type": "stream",
     "text": [
      "03:19:28 - cmdstanpy - INFO - CmdStan done processing.\n",
      "03:19:28 - cmdstanpy - INFO - CmdStan start processing\n"
     ]
    },
    {
     "name": "stdout",
     "output_type": "stream",
     "text": [
      "\n"
     ]
    },
    {
     "data": {
      "application/vnd.jupyter.widget-view+json": {
       "model_id": "63a06901b1f943fb9ec73cc067ad1985",
       "version_major": 2,
       "version_minor": 0
      },
      "text/plain": [
       "chain 1 |          | 00:00 Status"
      ]
     },
     "metadata": {},
     "output_type": "display_data"
    },
    {
     "data": {
      "application/vnd.jupyter.widget-view+json": {
       "model_id": "76520ba694d7487ea7b860def66da059",
       "version_major": 2,
       "version_minor": 0
      },
      "text/plain": [
       "chain 2 |          | 00:00 Status"
      ]
     },
     "metadata": {},
     "output_type": "display_data"
    },
    {
     "data": {
      "application/vnd.jupyter.widget-view+json": {
       "model_id": "5574372477b8460887e41c7bdf22daa9",
       "version_major": 2,
       "version_minor": 0
      },
      "text/plain": [
       "chain 3 |          | 00:00 Status"
      ]
     },
     "metadata": {},
     "output_type": "display_data"
    },
    {
     "data": {
      "application/vnd.jupyter.widget-view+json": {
       "model_id": "8e52c4fcbda84d768bc6dc08e9033ac0",
       "version_major": 2,
       "version_minor": 0
      },
      "text/plain": [
       "chain 4 |          | 00:00 Status"
      ]
     },
     "metadata": {},
     "output_type": "display_data"
    },
    {
     "name": "stdout",
     "output_type": "stream",
     "text": [
      "                                                                                                                                                                                                                                                                                                                                "
     ]
    },
    {
     "name": "stderr",
     "output_type": "stream",
     "text": [
      "03:19:28 - cmdstanpy - INFO - CmdStan done processing.\n",
      "03:19:29 - cmdstanpy - INFO - CmdStan start processing\n"
     ]
    },
    {
     "name": "stdout",
     "output_type": "stream",
     "text": [
      "\n"
     ]
    },
    {
     "data": {
      "application/vnd.jupyter.widget-view+json": {
       "model_id": "d16e9478f07a4d2d8f9b934aa1937a79",
       "version_major": 2,
       "version_minor": 0
      },
      "text/plain": [
       "chain 1 |          | 00:00 Status"
      ]
     },
     "metadata": {},
     "output_type": "display_data"
    },
    {
     "data": {
      "application/vnd.jupyter.widget-view+json": {
       "model_id": "e36243f47ee54f88bc3105eba787eb62",
       "version_major": 2,
       "version_minor": 0
      },
      "text/plain": [
       "chain 2 |          | 00:00 Status"
      ]
     },
     "metadata": {},
     "output_type": "display_data"
    },
    {
     "data": {
      "application/vnd.jupyter.widget-view+json": {
       "model_id": "4b74bd431193412abcdd15bc4aead61c",
       "version_major": 2,
       "version_minor": 0
      },
      "text/plain": [
       "chain 3 |          | 00:00 Status"
      ]
     },
     "metadata": {},
     "output_type": "display_data"
    },
    {
     "data": {
      "application/vnd.jupyter.widget-view+json": {
       "model_id": "c9e9a3fbce0347649347788c97484c0f",
       "version_major": 2,
       "version_minor": 0
      },
      "text/plain": [
       "chain 4 |          | 00:00 Status"
      ]
     },
     "metadata": {},
     "output_type": "display_data"
    },
    {
     "name": "stdout",
     "output_type": "stream",
     "text": [
      "                                                                                                                                                                                                                                                                                                                                "
     ]
    },
    {
     "name": "stderr",
     "output_type": "stream",
     "text": [
      "03:19:29 - cmdstanpy - INFO - CmdStan done processing.\n",
      "03:19:29 - cmdstanpy - WARNING - Some chains may have failed to converge.\n",
      "\tChain 4 had 1 divergent transitions (0.1%)\n",
      "\tUse function \"diagnose()\" to see further information.\n",
      "03:19:29 - cmdstanpy - INFO - CmdStan start processing\n"
     ]
    },
    {
     "name": "stdout",
     "output_type": "stream",
     "text": [
      "\n"
     ]
    },
    {
     "data": {
      "application/vnd.jupyter.widget-view+json": {
       "model_id": "90ebaf7ffbf74650aa960a3c82800b77",
       "version_major": 2,
       "version_minor": 0
      },
      "text/plain": [
       "chain 1 |          | 00:00 Status"
      ]
     },
     "metadata": {},
     "output_type": "display_data"
    },
    {
     "data": {
      "application/vnd.jupyter.widget-view+json": {
       "model_id": "ed50b5971ccb4b9ab473c360d04ec1c9",
       "version_major": 2,
       "version_minor": 0
      },
      "text/plain": [
       "chain 2 |          | 00:00 Status"
      ]
     },
     "metadata": {},
     "output_type": "display_data"
    },
    {
     "data": {
      "application/vnd.jupyter.widget-view+json": {
       "model_id": "a6a2800ef7e4499ba0cc649629ef31da",
       "version_major": 2,
       "version_minor": 0
      },
      "text/plain": [
       "chain 3 |          | 00:00 Status"
      ]
     },
     "metadata": {},
     "output_type": "display_data"
    },
    {
     "data": {
      "application/vnd.jupyter.widget-view+json": {
       "model_id": "a26fb86f8d1e482eb98df2abc8cf605a",
       "version_major": 2,
       "version_minor": 0
      },
      "text/plain": [
       "chain 4 |          | 00:00 Status"
      ]
     },
     "metadata": {},
     "output_type": "display_data"
    },
    {
     "name": "stdout",
     "output_type": "stream",
     "text": [
      "                                                                                                                                                                                                                                                                                                                                "
     ]
    },
    {
     "name": "stderr",
     "output_type": "stream",
     "text": [
      "03:19:29 - cmdstanpy - INFO - CmdStan done processing.\n",
      "03:19:29 - cmdstanpy - INFO - CmdStan start processing\n"
     ]
    },
    {
     "name": "stdout",
     "output_type": "stream",
     "text": [
      "\n"
     ]
    },
    {
     "data": {
      "application/vnd.jupyter.widget-view+json": {
       "model_id": "09221d7f7784424498b28881cfeb1b83",
       "version_major": 2,
       "version_minor": 0
      },
      "text/plain": [
       "chain 1 |          | 00:00 Status"
      ]
     },
     "metadata": {},
     "output_type": "display_data"
    },
    {
     "data": {
      "application/vnd.jupyter.widget-view+json": {
       "model_id": "de87bb17042e4a7d83d509f01c0b8ae6",
       "version_major": 2,
       "version_minor": 0
      },
      "text/plain": [
       "chain 2 |          | 00:00 Status"
      ]
     },
     "metadata": {},
     "output_type": "display_data"
    },
    {
     "data": {
      "application/vnd.jupyter.widget-view+json": {
       "model_id": "d2f1a3ea79934389bfba693173c8c80a",
       "version_major": 2,
       "version_minor": 0
      },
      "text/plain": [
       "chain 3 |          | 00:00 Status"
      ]
     },
     "metadata": {},
     "output_type": "display_data"
    },
    {
     "data": {
      "application/vnd.jupyter.widget-view+json": {
       "model_id": "231d400cd65d4247be1fc6ad8f9c3261",
       "version_major": 2,
       "version_minor": 0
      },
      "text/plain": [
       "chain 4 |          | 00:00 Status"
      ]
     },
     "metadata": {},
     "output_type": "display_data"
    },
    {
     "name": "stdout",
     "output_type": "stream",
     "text": [
      "                                                                                                                                                                                                                                                                                                                                "
     ]
    },
    {
     "name": "stderr",
     "output_type": "stream",
     "text": [
      "03:19:30 - cmdstanpy - INFO - CmdStan done processing.\n",
      "03:19:30 - cmdstanpy - WARNING - Some chains may have failed to converge.\n",
      "\tChain 1 had 1 divergent transitions (0.1%)\n",
      "\tUse function \"diagnose()\" to see further information.\n",
      "03:19:30 - cmdstanpy - INFO - CmdStan start processing\n"
     ]
    },
    {
     "name": "stdout",
     "output_type": "stream",
     "text": [
      "\n"
     ]
    },
    {
     "data": {
      "application/vnd.jupyter.widget-view+json": {
       "model_id": "8de56ce97d094fa7af669ec9b1d72a12",
       "version_major": 2,
       "version_minor": 0
      },
      "text/plain": [
       "chain 1 |          | 00:00 Status"
      ]
     },
     "metadata": {},
     "output_type": "display_data"
    },
    {
     "data": {
      "application/vnd.jupyter.widget-view+json": {
       "model_id": "2ae5d354f806478aa5b25a78cf3e2821",
       "version_major": 2,
       "version_minor": 0
      },
      "text/plain": [
       "chain 2 |          | 00:00 Status"
      ]
     },
     "metadata": {},
     "output_type": "display_data"
    },
    {
     "data": {
      "application/vnd.jupyter.widget-view+json": {
       "model_id": "0f95ab3a0b2d4959afc883165126c3c6",
       "version_major": 2,
       "version_minor": 0
      },
      "text/plain": [
       "chain 3 |          | 00:00 Status"
      ]
     },
     "metadata": {},
     "output_type": "display_data"
    },
    {
     "data": {
      "application/vnd.jupyter.widget-view+json": {
       "model_id": "b4d9359ba0784b628db22b63a1bf92ab",
       "version_major": 2,
       "version_minor": 0
      },
      "text/plain": [
       "chain 4 |          | 00:00 Status"
      ]
     },
     "metadata": {},
     "output_type": "display_data"
    },
    {
     "name": "stdout",
     "output_type": "stream",
     "text": [
      "                                                                                                                                                                                                                                                                                                                                "
     ]
    },
    {
     "name": "stderr",
     "output_type": "stream",
     "text": [
      "03:19:30 - cmdstanpy - INFO - CmdStan done processing.\n",
      "03:19:30 - cmdstanpy - WARNING - Some chains may have failed to converge.\n",
      "\tChain 2 had 9 divergent transitions (0.9%)\n",
      "\tUse function \"diagnose()\" to see further information.\n",
      "03:19:30 - cmdstanpy - INFO - CmdStan start processing\n"
     ]
    },
    {
     "name": "stdout",
     "output_type": "stream",
     "text": [
      "\n"
     ]
    },
    {
     "data": {
      "application/vnd.jupyter.widget-view+json": {
       "model_id": "1a025566fef54c919b9850ecfa9c9fb6",
       "version_major": 2,
       "version_minor": 0
      },
      "text/plain": [
       "chain 1 |          | 00:00 Status"
      ]
     },
     "metadata": {},
     "output_type": "display_data"
    },
    {
     "data": {
      "application/vnd.jupyter.widget-view+json": {
       "model_id": "8fec2739e8e74097831cffdaba1f0fd7",
       "version_major": 2,
       "version_minor": 0
      },
      "text/plain": [
       "chain 2 |          | 00:00 Status"
      ]
     },
     "metadata": {},
     "output_type": "display_data"
    },
    {
     "data": {
      "application/vnd.jupyter.widget-view+json": {
       "model_id": "d64bd5c4ee654cc9b4afd73b091028c3",
       "version_major": 2,
       "version_minor": 0
      },
      "text/plain": [
       "chain 3 |          | 00:00 Status"
      ]
     },
     "metadata": {},
     "output_type": "display_data"
    },
    {
     "data": {
      "application/vnd.jupyter.widget-view+json": {
       "model_id": "c917a956901445b586082afeef716c56",
       "version_major": 2,
       "version_minor": 0
      },
      "text/plain": [
       "chain 4 |          | 00:00 Status"
      ]
     },
     "metadata": {},
     "output_type": "display_data"
    },
    {
     "name": "stdout",
     "output_type": "stream",
     "text": [
      "                                                                                                                                                                                                                                                                                                                                "
     ]
    },
    {
     "name": "stderr",
     "output_type": "stream",
     "text": [
      "03:19:31 - cmdstanpy - INFO - CmdStan done processing.\n",
      "03:19:31 - cmdstanpy - INFO - CmdStan start processing\n"
     ]
    },
    {
     "name": "stdout",
     "output_type": "stream",
     "text": [
      "\n"
     ]
    },
    {
     "data": {
      "application/vnd.jupyter.widget-view+json": {
       "model_id": "64924918835443b9b9313a8fcdb8ceab",
       "version_major": 2,
       "version_minor": 0
      },
      "text/plain": [
       "chain 1 |          | 00:00 Status"
      ]
     },
     "metadata": {},
     "output_type": "display_data"
    },
    {
     "data": {
      "application/vnd.jupyter.widget-view+json": {
       "model_id": "60e9cf80d7d54db2a466945f249539f0",
       "version_major": 2,
       "version_minor": 0
      },
      "text/plain": [
       "chain 2 |          | 00:00 Status"
      ]
     },
     "metadata": {},
     "output_type": "display_data"
    },
    {
     "data": {
      "application/vnd.jupyter.widget-view+json": {
       "model_id": "8777519b28264b52bfb7b8a4d9bba576",
       "version_major": 2,
       "version_minor": 0
      },
      "text/plain": [
       "chain 3 |          | 00:00 Status"
      ]
     },
     "metadata": {},
     "output_type": "display_data"
    },
    {
     "data": {
      "application/vnd.jupyter.widget-view+json": {
       "model_id": "0e3a059c181c4ed2a2d4f9797000eb65",
       "version_major": 2,
       "version_minor": 0
      },
      "text/plain": [
       "chain 4 |          | 00:00 Status"
      ]
     },
     "metadata": {},
     "output_type": "display_data"
    },
    {
     "name": "stdout",
     "output_type": "stream",
     "text": [
      "                                                                                                                                                                                                                                                                                                                                "
     ]
    },
    {
     "name": "stderr",
     "output_type": "stream",
     "text": [
      "03:19:31 - cmdstanpy - INFO - CmdStan done processing.\n",
      "03:19:31 - cmdstanpy - INFO - CmdStan start processing\n"
     ]
    },
    {
     "name": "stdout",
     "output_type": "stream",
     "text": [
      "\n"
     ]
    },
    {
     "data": {
      "application/vnd.jupyter.widget-view+json": {
       "model_id": "5f561cd6ed234b85933bf8f7c23419f6",
       "version_major": 2,
       "version_minor": 0
      },
      "text/plain": [
       "chain 1 |          | 00:00 Status"
      ]
     },
     "metadata": {},
     "output_type": "display_data"
    },
    {
     "data": {
      "application/vnd.jupyter.widget-view+json": {
       "model_id": "ac4681611f734657999838f6f834d923",
       "version_major": 2,
       "version_minor": 0
      },
      "text/plain": [
       "chain 2 |          | 00:00 Status"
      ]
     },
     "metadata": {},
     "output_type": "display_data"
    },
    {
     "data": {
      "application/vnd.jupyter.widget-view+json": {
       "model_id": "2567540215444f8daa617625084b4f0b",
       "version_major": 2,
       "version_minor": 0
      },
      "text/plain": [
       "chain 3 |          | 00:00 Status"
      ]
     },
     "metadata": {},
     "output_type": "display_data"
    },
    {
     "data": {
      "application/vnd.jupyter.widget-view+json": {
       "model_id": "ef5549e417e94990b4c24939462ac040",
       "version_major": 2,
       "version_minor": 0
      },
      "text/plain": [
       "chain 4 |          | 00:00 Status"
      ]
     },
     "metadata": {},
     "output_type": "display_data"
    },
    {
     "name": "stdout",
     "output_type": "stream",
     "text": [
      "                                                                                                                                                                                                                                                                                                                                "
     ]
    },
    {
     "name": "stderr",
     "output_type": "stream",
     "text": [
      "03:19:31 - cmdstanpy - INFO - CmdStan done processing.\n",
      "03:19:32 - cmdstanpy - INFO - CmdStan start processing\n"
     ]
    },
    {
     "name": "stdout",
     "output_type": "stream",
     "text": [
      "\n"
     ]
    },
    {
     "data": {
      "application/vnd.jupyter.widget-view+json": {
       "model_id": "8a0140cd823749e6973b916964840d44",
       "version_major": 2,
       "version_minor": 0
      },
      "text/plain": [
       "chain 1 |          | 00:00 Status"
      ]
     },
     "metadata": {},
     "output_type": "display_data"
    },
    {
     "data": {
      "application/vnd.jupyter.widget-view+json": {
       "model_id": "39adb1e844b5432da8a35a448b5be5b2",
       "version_major": 2,
       "version_minor": 0
      },
      "text/plain": [
       "chain 2 |          | 00:00 Status"
      ]
     },
     "metadata": {},
     "output_type": "display_data"
    },
    {
     "data": {
      "application/vnd.jupyter.widget-view+json": {
       "model_id": "672d0c1147144ece9397f111e87c1d31",
       "version_major": 2,
       "version_minor": 0
      },
      "text/plain": [
       "chain 3 |          | 00:00 Status"
      ]
     },
     "metadata": {},
     "output_type": "display_data"
    },
    {
     "data": {
      "application/vnd.jupyter.widget-view+json": {
       "model_id": "bd032a9578d142d082297f8b63e38712",
       "version_major": 2,
       "version_minor": 0
      },
      "text/plain": [
       "chain 4 |          | 00:00 Status"
      ]
     },
     "metadata": {},
     "output_type": "display_data"
    },
    {
     "name": "stdout",
     "output_type": "stream",
     "text": [
      "                                                                                                                                                                                                                                                                                                                                "
     ]
    },
    {
     "name": "stderr",
     "output_type": "stream",
     "text": [
      "03:19:32 - cmdstanpy - INFO - CmdStan done processing.\n",
      "03:19:32 - cmdstanpy - INFO - CmdStan start processing\n"
     ]
    },
    {
     "name": "stdout",
     "output_type": "stream",
     "text": [
      "\n"
     ]
    },
    {
     "data": {
      "application/vnd.jupyter.widget-view+json": {
       "model_id": "818ecdece0fb4593a2f919f77b4a9bf2",
       "version_major": 2,
       "version_minor": 0
      },
      "text/plain": [
       "chain 1 |          | 00:00 Status"
      ]
     },
     "metadata": {},
     "output_type": "display_data"
    },
    {
     "data": {
      "application/vnd.jupyter.widget-view+json": {
       "model_id": "31e396d28fe044c89a20a6c44145a905",
       "version_major": 2,
       "version_minor": 0
      },
      "text/plain": [
       "chain 2 |          | 00:00 Status"
      ]
     },
     "metadata": {},
     "output_type": "display_data"
    },
    {
     "data": {
      "application/vnd.jupyter.widget-view+json": {
       "model_id": "8c0fe8b766dd469ead72a1564c17046a",
       "version_major": 2,
       "version_minor": 0
      },
      "text/plain": [
       "chain 3 |          | 00:00 Status"
      ]
     },
     "metadata": {},
     "output_type": "display_data"
    },
    {
     "data": {
      "application/vnd.jupyter.widget-view+json": {
       "model_id": "3eeb897e170d4f43a4cd931741b0a792",
       "version_major": 2,
       "version_minor": 0
      },
      "text/plain": [
       "chain 4 |          | 00:00 Status"
      ]
     },
     "metadata": {},
     "output_type": "display_data"
    },
    {
     "name": "stdout",
     "output_type": "stream",
     "text": [
      "                                                                                                                                                                                                                                                                                                                                "
     ]
    },
    {
     "name": "stderr",
     "output_type": "stream",
     "text": [
      "03:19:32 - cmdstanpy - INFO - CmdStan done processing.\n",
      "03:19:33 - cmdstanpy - INFO - CmdStan start processing\n"
     ]
    },
    {
     "name": "stdout",
     "output_type": "stream",
     "text": [
      "\n"
     ]
    },
    {
     "data": {
      "application/vnd.jupyter.widget-view+json": {
       "model_id": "6ed51818d3d34a099bbadbb77f9a51b3",
       "version_major": 2,
       "version_minor": 0
      },
      "text/plain": [
       "chain 1 |          | 00:00 Status"
      ]
     },
     "metadata": {},
     "output_type": "display_data"
    },
    {
     "data": {
      "application/vnd.jupyter.widget-view+json": {
       "model_id": "103f3152f53646f7b1d976df38659e4a",
       "version_major": 2,
       "version_minor": 0
      },
      "text/plain": [
       "chain 2 |          | 00:00 Status"
      ]
     },
     "metadata": {},
     "output_type": "display_data"
    },
    {
     "data": {
      "application/vnd.jupyter.widget-view+json": {
       "model_id": "bca7c40bb701426dab988ae17e6e04dd",
       "version_major": 2,
       "version_minor": 0
      },
      "text/plain": [
       "chain 3 |          | 00:00 Status"
      ]
     },
     "metadata": {},
     "output_type": "display_data"
    },
    {
     "data": {
      "application/vnd.jupyter.widget-view+json": {
       "model_id": "b58f7369c928482e971edcfb50a4988d",
       "version_major": 2,
       "version_minor": 0
      },
      "text/plain": [
       "chain 4 |          | 00:00 Status"
      ]
     },
     "metadata": {},
     "output_type": "display_data"
    },
    {
     "name": "stdout",
     "output_type": "stream",
     "text": [
      "                                                                                                                                                                                                                                                                                                                                "
     ]
    },
    {
     "name": "stderr",
     "output_type": "stream",
     "text": [
      "03:19:33 - cmdstanpy - INFO - CmdStan done processing.\n",
      "03:19:33 - cmdstanpy - WARNING - Some chains may have failed to converge.\n",
      "\tChain 4 had 1 divergent transitions (0.1%)\n",
      "\tUse function \"diagnose()\" to see further information.\n",
      "03:19:33 - cmdstanpy - INFO - CmdStan start processing\n"
     ]
    },
    {
     "name": "stdout",
     "output_type": "stream",
     "text": [
      "\n"
     ]
    },
    {
     "data": {
      "application/vnd.jupyter.widget-view+json": {
       "model_id": "25d13a221c794717b17026f737cb28eb",
       "version_major": 2,
       "version_minor": 0
      },
      "text/plain": [
       "chain 1 |          | 00:00 Status"
      ]
     },
     "metadata": {},
     "output_type": "display_data"
    },
    {
     "data": {
      "application/vnd.jupyter.widget-view+json": {
       "model_id": "94db8564c4494e4e8d6b037d93b65734",
       "version_major": 2,
       "version_minor": 0
      },
      "text/plain": [
       "chain 2 |          | 00:00 Status"
      ]
     },
     "metadata": {},
     "output_type": "display_data"
    },
    {
     "data": {
      "application/vnd.jupyter.widget-view+json": {
       "model_id": "aabb9d9d73df48deb7209bd9cb2b0da3",
       "version_major": 2,
       "version_minor": 0
      },
      "text/plain": [
       "chain 3 |          | 00:00 Status"
      ]
     },
     "metadata": {},
     "output_type": "display_data"
    },
    {
     "data": {
      "application/vnd.jupyter.widget-view+json": {
       "model_id": "2934c7d9aabb4da48057fad08777f0b5",
       "version_major": 2,
       "version_minor": 0
      },
      "text/plain": [
       "chain 4 |          | 00:00 Status"
      ]
     },
     "metadata": {},
     "output_type": "display_data"
    },
    {
     "name": "stdout",
     "output_type": "stream",
     "text": [
      "                                                                                                                                                                                                                                                                                                                                "
     ]
    },
    {
     "name": "stderr",
     "output_type": "stream",
     "text": [
      "03:19:33 - cmdstanpy - INFO - CmdStan done processing.\n",
      "03:19:33 - cmdstanpy - INFO - CmdStan start processing\n"
     ]
    },
    {
     "name": "stdout",
     "output_type": "stream",
     "text": [
      "\n"
     ]
    },
    {
     "data": {
      "application/vnd.jupyter.widget-view+json": {
       "model_id": "168712b7fa7b44109bede597c81000e9",
       "version_major": 2,
       "version_minor": 0
      },
      "text/plain": [
       "chain 1 |          | 00:00 Status"
      ]
     },
     "metadata": {},
     "output_type": "display_data"
    },
    {
     "data": {
      "application/vnd.jupyter.widget-view+json": {
       "model_id": "d80e93f0888648e28c4a4637d601149d",
       "version_major": 2,
       "version_minor": 0
      },
      "text/plain": [
       "chain 2 |          | 00:00 Status"
      ]
     },
     "metadata": {},
     "output_type": "display_data"
    },
    {
     "data": {
      "application/vnd.jupyter.widget-view+json": {
       "model_id": "3abd753a1a5f47009081a6f7fcb487d5",
       "version_major": 2,
       "version_minor": 0
      },
      "text/plain": [
       "chain 3 |          | 00:00 Status"
      ]
     },
     "metadata": {},
     "output_type": "display_data"
    },
    {
     "data": {
      "application/vnd.jupyter.widget-view+json": {
       "model_id": "15469b8ffe804b869fff2a7b09e135e3",
       "version_major": 2,
       "version_minor": 0
      },
      "text/plain": [
       "chain 4 |          | 00:00 Status"
      ]
     },
     "metadata": {},
     "output_type": "display_data"
    },
    {
     "name": "stdout",
     "output_type": "stream",
     "text": [
      "                                                                                                                                                                                                                                                                                                                                "
     ]
    },
    {
     "name": "stderr",
     "output_type": "stream",
     "text": [
      "03:19:34 - cmdstanpy - INFO - CmdStan done processing.\n",
      "03:19:34 - cmdstanpy - INFO - CmdStan start processing\n"
     ]
    },
    {
     "name": "stdout",
     "output_type": "stream",
     "text": [
      "\n"
     ]
    },
    {
     "data": {
      "application/vnd.jupyter.widget-view+json": {
       "model_id": "968f7eb950b947c59a5b5cbd9ae87e33",
       "version_major": 2,
       "version_minor": 0
      },
      "text/plain": [
       "chain 1 |          | 00:00 Status"
      ]
     },
     "metadata": {},
     "output_type": "display_data"
    },
    {
     "data": {
      "application/vnd.jupyter.widget-view+json": {
       "model_id": "74ed273c69624da691d66aa3f40ae3d0",
       "version_major": 2,
       "version_minor": 0
      },
      "text/plain": [
       "chain 2 |          | 00:00 Status"
      ]
     },
     "metadata": {},
     "output_type": "display_data"
    },
    {
     "data": {
      "application/vnd.jupyter.widget-view+json": {
       "model_id": "5e0daf23b76545d9b3d50557f5467b92",
       "version_major": 2,
       "version_minor": 0
      },
      "text/plain": [
       "chain 3 |          | 00:00 Status"
      ]
     },
     "metadata": {},
     "output_type": "display_data"
    },
    {
     "data": {
      "application/vnd.jupyter.widget-view+json": {
       "model_id": "2d0e830b74184ca6b9c46c03b9051cd5",
       "version_major": 2,
       "version_minor": 0
      },
      "text/plain": [
       "chain 4 |          | 00:00 Status"
      ]
     },
     "metadata": {},
     "output_type": "display_data"
    },
    {
     "name": "stdout",
     "output_type": "stream",
     "text": [
      "                                                                                                                                                                                                                                                                                                                                "
     ]
    },
    {
     "name": "stderr",
     "output_type": "stream",
     "text": [
      "03:19:34 - cmdstanpy - INFO - CmdStan done processing.\n",
      "03:19:34 - cmdstanpy - WARNING - Non-fatal error during sampling:\n",
      "Exception: normal_lpdf: Scale parameter is 0, but must be positive! (in '/home/oriol/Public/arviz/doc/source/user_guide/wrappers/linreg_model.stan', line 27, column 2 to column 64)\n",
      "\tException: normal_lpdf: Scale parameter is 0, but must be positive! (in '/home/oriol/Public/arviz/doc/source/user_guide/wrappers/linreg_model.stan', line 27, column 2 to column 64)\n",
      "\tException: normal_lpdf: Scale parameter is 0, but must be positive! (in '/home/oriol/Public/arviz/doc/source/user_guide/wrappers/linreg_model.stan', line 27, column 2 to column 64)\n",
      "\tException: normal_lpdf: Scale parameter is 0, but must be positive! (in '/home/oriol/Public/arviz/doc/source/user_guide/wrappers/linreg_model.stan', line 27, column 2 to column 64)\n",
      "Consider re-running with show_console=True if the above output is unclear!\n",
      "03:19:34 - cmdstanpy - WARNING - Some chains may have failed to converge.\n",
      "\tChain 2 had 1 divergent transitions (0.1%)\n",
      "\tUse function \"diagnose()\" to see further information.\n",
      "03:19:34 - cmdstanpy - INFO - CmdStan start processing\n"
     ]
    },
    {
     "name": "stdout",
     "output_type": "stream",
     "text": [
      "\n"
     ]
    },
    {
     "data": {
      "application/vnd.jupyter.widget-view+json": {
       "model_id": "3e36f56c825f447597dab5dcf94f1425",
       "version_major": 2,
       "version_minor": 0
      },
      "text/plain": [
       "chain 1 |          | 00:00 Status"
      ]
     },
     "metadata": {},
     "output_type": "display_data"
    },
    {
     "data": {
      "application/vnd.jupyter.widget-view+json": {
       "model_id": "fae4e6d5b7ae404e89651c6788828f46",
       "version_major": 2,
       "version_minor": 0
      },
      "text/plain": [
       "chain 2 |          | 00:00 Status"
      ]
     },
     "metadata": {},
     "output_type": "display_data"
    },
    {
     "data": {
      "application/vnd.jupyter.widget-view+json": {
       "model_id": "ff42b50f6abd42bfbcccf9481b02320d",
       "version_major": 2,
       "version_minor": 0
      },
      "text/plain": [
       "chain 3 |          | 00:00 Status"
      ]
     },
     "metadata": {},
     "output_type": "display_data"
    },
    {
     "data": {
      "application/vnd.jupyter.widget-view+json": {
       "model_id": "4a2d0c220734466297404de30c0d85d2",
       "version_major": 2,
       "version_minor": 0
      },
      "text/plain": [
       "chain 4 |          | 00:00 Status"
      ]
     },
     "metadata": {},
     "output_type": "display_data"
    },
    {
     "name": "stdout",
     "output_type": "stream",
     "text": [
      "                                                                                                                                                                                                                                                                                                                                "
     ]
    },
    {
     "name": "stderr",
     "output_type": "stream",
     "text": [
      "03:19:35 - cmdstanpy - INFO - CmdStan done processing.\n",
      "03:19:35 - cmdstanpy - WARNING - Some chains may have failed to converge.\n",
      "\tChain 2 had 1 divergent transitions (0.1%)\n",
      "\tChain 4 had 1 divergent transitions (0.1%)\n",
      "\tUse function \"diagnose()\" to see further information.\n",
      "03:19:35 - cmdstanpy - INFO - CmdStan start processing\n"
     ]
    },
    {
     "name": "stdout",
     "output_type": "stream",
     "text": [
      "\n"
     ]
    },
    {
     "data": {
      "application/vnd.jupyter.widget-view+json": {
       "model_id": "2eac4da1ecf9481bb2806979b0a085bd",
       "version_major": 2,
       "version_minor": 0
      },
      "text/plain": [
       "chain 1 |          | 00:00 Status"
      ]
     },
     "metadata": {},
     "output_type": "display_data"
    },
    {
     "data": {
      "application/vnd.jupyter.widget-view+json": {
       "model_id": "0ff25e49c5f74b62a46acd850efb2aa8",
       "version_major": 2,
       "version_minor": 0
      },
      "text/plain": [
       "chain 2 |          | 00:00 Status"
      ]
     },
     "metadata": {},
     "output_type": "display_data"
    },
    {
     "data": {
      "application/vnd.jupyter.widget-view+json": {
       "model_id": "562c5d207b8845c5951059d5867e5694",
       "version_major": 2,
       "version_minor": 0
      },
      "text/plain": [
       "chain 3 |          | 00:00 Status"
      ]
     },
     "metadata": {},
     "output_type": "display_data"
    },
    {
     "data": {
      "application/vnd.jupyter.widget-view+json": {
       "model_id": "9d207a23d4ca48f2adc101f6d32f6231",
       "version_major": 2,
       "version_minor": 0
      },
      "text/plain": [
       "chain 4 |          | 00:00 Status"
      ]
     },
     "metadata": {},
     "output_type": "display_data"
    },
    {
     "name": "stdout",
     "output_type": "stream",
     "text": [
      "                                                                                                                                                                                                                                                                                                                                "
     ]
    },
    {
     "name": "stderr",
     "output_type": "stream",
     "text": [
      "03:19:35 - cmdstanpy - INFO - CmdStan done processing.\n",
      "03:19:35 - cmdstanpy - WARNING - Some chains may have failed to converge.\n",
      "\tChain 3 had 2 divergent transitions (0.2%)\n",
      "\tUse function \"diagnose()\" to see further information.\n",
      "03:19:35 - cmdstanpy - INFO - CmdStan start processing\n"
     ]
    },
    {
     "name": "stdout",
     "output_type": "stream",
     "text": [
      "\n"
     ]
    },
    {
     "data": {
      "application/vnd.jupyter.widget-view+json": {
       "model_id": "c3a01c1ce223482d8c6143f23f8df804",
       "version_major": 2,
       "version_minor": 0
      },
      "text/plain": [
       "chain 1 |          | 00:00 Status"
      ]
     },
     "metadata": {},
     "output_type": "display_data"
    },
    {
     "data": {
      "application/vnd.jupyter.widget-view+json": {
       "model_id": "4a98f082504c4dd89c519eaf5a8b4982",
       "version_major": 2,
       "version_minor": 0
      },
      "text/plain": [
       "chain 2 |          | 00:00 Status"
      ]
     },
     "metadata": {},
     "output_type": "display_data"
    },
    {
     "data": {
      "application/vnd.jupyter.widget-view+json": {
       "model_id": "c902635235f649948557508f9f73fe55",
       "version_major": 2,
       "version_minor": 0
      },
      "text/plain": [
       "chain 3 |          | 00:00 Status"
      ]
     },
     "metadata": {},
     "output_type": "display_data"
    },
    {
     "data": {
      "application/vnd.jupyter.widget-view+json": {
       "model_id": "44945185008741f7a672079a875d2a58",
       "version_major": 2,
       "version_minor": 0
      },
      "text/plain": [
       "chain 4 |          | 00:00 Status"
      ]
     },
     "metadata": {},
     "output_type": "display_data"
    },
    {
     "name": "stdout",
     "output_type": "stream",
     "text": [
      "                                                                                                                                                                                                                                                                                                                                "
     ]
    },
    {
     "name": "stderr",
     "output_type": "stream",
     "text": [
      "03:19:35 - cmdstanpy - INFO - CmdStan done processing.\n",
      "03:19:35 - cmdstanpy - WARNING - Some chains may have failed to converge.\n",
      "\tChain 2 had 18 divergent transitions (1.8%)\n",
      "\tChain 4 had 1 divergent transitions (0.1%)\n",
      "\tUse function \"diagnose()\" to see further information.\n",
      "03:19:36 - cmdstanpy - INFO - CmdStan start processing\n"
     ]
    },
    {
     "name": "stdout",
     "output_type": "stream",
     "text": [
      "\n"
     ]
    },
    {
     "data": {
      "application/vnd.jupyter.widget-view+json": {
       "model_id": "a560a403edd1479c8038c6d5f6fc745d",
       "version_major": 2,
       "version_minor": 0
      },
      "text/plain": [
       "chain 1 |          | 00:00 Status"
      ]
     },
     "metadata": {},
     "output_type": "display_data"
    },
    {
     "data": {
      "application/vnd.jupyter.widget-view+json": {
       "model_id": "9fdcf283ddfd42cd807d31f7e159738b",
       "version_major": 2,
       "version_minor": 0
      },
      "text/plain": [
       "chain 2 |          | 00:00 Status"
      ]
     },
     "metadata": {},
     "output_type": "display_data"
    },
    {
     "data": {
      "application/vnd.jupyter.widget-view+json": {
       "model_id": "25aeac97c9f445acb47f16fe3a94ba8a",
       "version_major": 2,
       "version_minor": 0
      },
      "text/plain": [
       "chain 3 |          | 00:00 Status"
      ]
     },
     "metadata": {},
     "output_type": "display_data"
    },
    {
     "data": {
      "application/vnd.jupyter.widget-view+json": {
       "model_id": "db9e0ddb18424e6fa22333a905859671",
       "version_major": 2,
       "version_minor": 0
      },
      "text/plain": [
       "chain 4 |          | 00:00 Status"
      ]
     },
     "metadata": {},
     "output_type": "display_data"
    },
    {
     "name": "stdout",
     "output_type": "stream",
     "text": [
      "                                                                                                                                                                                                                                                                                                                                "
     ]
    },
    {
     "name": "stderr",
     "output_type": "stream",
     "text": [
      "03:19:36 - cmdstanpy - INFO - CmdStan done processing.\n",
      "03:19:36 - cmdstanpy - INFO - CmdStan start processing\n"
     ]
    },
    {
     "name": "stdout",
     "output_type": "stream",
     "text": [
      "\n"
     ]
    },
    {
     "data": {
      "application/vnd.jupyter.widget-view+json": {
       "model_id": "c4872cbe761e4780b45227a28a8f82d1",
       "version_major": 2,
       "version_minor": 0
      },
      "text/plain": [
       "chain 1 |          | 00:00 Status"
      ]
     },
     "metadata": {},
     "output_type": "display_data"
    },
    {
     "data": {
      "application/vnd.jupyter.widget-view+json": {
       "model_id": "f9c232f99b1f4deca187c562d86e17a8",
       "version_major": 2,
       "version_minor": 0
      },
      "text/plain": [
       "chain 2 |          | 00:00 Status"
      ]
     },
     "metadata": {},
     "output_type": "display_data"
    },
    {
     "data": {
      "application/vnd.jupyter.widget-view+json": {
       "model_id": "059048a97d63449bbc627d784fcd8132",
       "version_major": 2,
       "version_minor": 0
      },
      "text/plain": [
       "chain 3 |          | 00:00 Status"
      ]
     },
     "metadata": {},
     "output_type": "display_data"
    },
    {
     "data": {
      "application/vnd.jupyter.widget-view+json": {
       "model_id": "f84e86f1b7ee439fb2fd6755788106c9",
       "version_major": 2,
       "version_minor": 0
      },
      "text/plain": [
       "chain 4 |          | 00:00 Status"
      ]
     },
     "metadata": {},
     "output_type": "display_data"
    },
    {
     "name": "stdout",
     "output_type": "stream",
     "text": [
      "                                                                                                                                                                                                                                                                                                                                "
     ]
    },
    {
     "name": "stderr",
     "output_type": "stream",
     "text": [
      "03:19:36 - cmdstanpy - INFO - CmdStan done processing.\n",
      "03:19:36 - cmdstanpy - WARNING - Some chains may have failed to converge.\n",
      "\tChain 1 had 1 divergent transitions (0.1%)\n",
      "\tChain 3 had 1 divergent transitions (0.1%)\n",
      "\tUse function \"diagnose()\" to see further information.\n",
      "03:19:36 - cmdstanpy - INFO - CmdStan start processing\n"
     ]
    },
    {
     "name": "stdout",
     "output_type": "stream",
     "text": [
      "\n"
     ]
    },
    {
     "data": {
      "application/vnd.jupyter.widget-view+json": {
       "model_id": "1fa71ddb6e57431f89fa6fb579843b4c",
       "version_major": 2,
       "version_minor": 0
      },
      "text/plain": [
       "chain 1 |          | 00:00 Status"
      ]
     },
     "metadata": {},
     "output_type": "display_data"
    },
    {
     "data": {
      "application/vnd.jupyter.widget-view+json": {
       "model_id": "9250ae030352402b8a7db26f31daa2a4",
       "version_major": 2,
       "version_minor": 0
      },
      "text/plain": [
       "chain 2 |          | 00:00 Status"
      ]
     },
     "metadata": {},
     "output_type": "display_data"
    },
    {
     "data": {
      "application/vnd.jupyter.widget-view+json": {
       "model_id": "fb5aeee5cf9545909dd5057058039a40",
       "version_major": 2,
       "version_minor": 0
      },
      "text/plain": [
       "chain 3 |          | 00:00 Status"
      ]
     },
     "metadata": {},
     "output_type": "display_data"
    },
    {
     "data": {
      "application/vnd.jupyter.widget-view+json": {
       "model_id": "dd565fc087f5498fa6a19e596822792b",
       "version_major": 2,
       "version_minor": 0
      },
      "text/plain": [
       "chain 4 |          | 00:00 Status"
      ]
     },
     "metadata": {},
     "output_type": "display_data"
    },
    {
     "name": "stdout",
     "output_type": "stream",
     "text": [
      "                                                                                                                                                                                                                                                                                                                                "
     ]
    },
    {
     "name": "stderr",
     "output_type": "stream",
     "text": [
      "03:19:37 - cmdstanpy - INFO - CmdStan done processing.\n",
      "03:19:37 - cmdstanpy - INFO - CmdStan start processing\n"
     ]
    },
    {
     "name": "stdout",
     "output_type": "stream",
     "text": [
      "\n"
     ]
    },
    {
     "data": {
      "application/vnd.jupyter.widget-view+json": {
       "model_id": "169aec2540b743c0b71cbdf6448d0243",
       "version_major": 2,
       "version_minor": 0
      },
      "text/plain": [
       "chain 1 |          | 00:00 Status"
      ]
     },
     "metadata": {},
     "output_type": "display_data"
    },
    {
     "data": {
      "application/vnd.jupyter.widget-view+json": {
       "model_id": "c8baa656aab446a7abbc291faa417c41",
       "version_major": 2,
       "version_minor": 0
      },
      "text/plain": [
       "chain 2 |          | 00:00 Status"
      ]
     },
     "metadata": {},
     "output_type": "display_data"
    },
    {
     "data": {
      "application/vnd.jupyter.widget-view+json": {
       "model_id": "70d30b549a9e4c8ba3bdde6e1b80ad92",
       "version_major": 2,
       "version_minor": 0
      },
      "text/plain": [
       "chain 3 |          | 00:00 Status"
      ]
     },
     "metadata": {},
     "output_type": "display_data"
    },
    {
     "data": {
      "application/vnd.jupyter.widget-view+json": {
       "model_id": "9bd64e15460948d982d14b0e2eb837bb",
       "version_major": 2,
       "version_minor": 0
      },
      "text/plain": [
       "chain 4 |          | 00:00 Status"
      ]
     },
     "metadata": {},
     "output_type": "display_data"
    },
    {
     "name": "stdout",
     "output_type": "stream",
     "text": [
      "                                                                                                                                                                                                                                                                                                                                "
     ]
    },
    {
     "name": "stderr",
     "output_type": "stream",
     "text": [
      "03:19:37 - cmdstanpy - INFO - CmdStan done processing.\n",
      "03:19:37 - cmdstanpy - INFO - CmdStan start processing\n"
     ]
    },
    {
     "name": "stdout",
     "output_type": "stream",
     "text": [
      "\n"
     ]
    },
    {
     "data": {
      "application/vnd.jupyter.widget-view+json": {
       "model_id": "76880a6ae3c34c74b02d954d8fb79caf",
       "version_major": 2,
       "version_minor": 0
      },
      "text/plain": [
       "chain 1 |          | 00:00 Status"
      ]
     },
     "metadata": {},
     "output_type": "display_data"
    },
    {
     "data": {
      "application/vnd.jupyter.widget-view+json": {
       "model_id": "97918fcab7c44f57bb8f504fd200be0c",
       "version_major": 2,
       "version_minor": 0
      },
      "text/plain": [
       "chain 2 |          | 00:00 Status"
      ]
     },
     "metadata": {},
     "output_type": "display_data"
    },
    {
     "data": {
      "application/vnd.jupyter.widget-view+json": {
       "model_id": "548e3e10feb14d9498b3768f548e0bc7",
       "version_major": 2,
       "version_minor": 0
      },
      "text/plain": [
       "chain 3 |          | 00:00 Status"
      ]
     },
     "metadata": {},
     "output_type": "display_data"
    },
    {
     "data": {
      "application/vnd.jupyter.widget-view+json": {
       "model_id": "c9f4a85badd243a7980f3d26c8ac64d4",
       "version_major": 2,
       "version_minor": 0
      },
      "text/plain": [
       "chain 4 |          | 00:00 Status"
      ]
     },
     "metadata": {},
     "output_type": "display_data"
    },
    {
     "name": "stdout",
     "output_type": "stream",
     "text": [
      "                                                                                                                                                                                                                                                                                                                                "
     ]
    },
    {
     "name": "stderr",
     "output_type": "stream",
     "text": [
      "03:19:38 - cmdstanpy - INFO - CmdStan done processing.\n",
      "03:19:38 - cmdstanpy - WARNING - Some chains may have failed to converge.\n",
      "\tChain 3 had 1 divergent transitions (0.1%)\n",
      "\tChain 4 had 3 divergent transitions (0.3%)\n",
      "\tUse function \"diagnose()\" to see further information.\n",
      "03:19:38 - cmdstanpy - INFO - CmdStan start processing\n"
     ]
    },
    {
     "name": "stdout",
     "output_type": "stream",
     "text": [
      "\n"
     ]
    },
    {
     "data": {
      "application/vnd.jupyter.widget-view+json": {
       "model_id": "9a8d44204ac747e3a251d1db7988e210",
       "version_major": 2,
       "version_minor": 0
      },
      "text/plain": [
       "chain 1 |          | 00:00 Status"
      ]
     },
     "metadata": {},
     "output_type": "display_data"
    },
    {
     "data": {
      "application/vnd.jupyter.widget-view+json": {
       "model_id": "d98a0814a99046a08c271081442a8fdb",
       "version_major": 2,
       "version_minor": 0
      },
      "text/plain": [
       "chain 2 |          | 00:00 Status"
      ]
     },
     "metadata": {},
     "output_type": "display_data"
    },
    {
     "data": {
      "application/vnd.jupyter.widget-view+json": {
       "model_id": "7fe02117d856449aa85f20600b1e48ea",
       "version_major": 2,
       "version_minor": 0
      },
      "text/plain": [
       "chain 3 |          | 00:00 Status"
      ]
     },
     "metadata": {},
     "output_type": "display_data"
    },
    {
     "data": {
      "application/vnd.jupyter.widget-view+json": {
       "model_id": "eca3cf843457454596df57b5ad929bfd",
       "version_major": 2,
       "version_minor": 0
      },
      "text/plain": [
       "chain 4 |          | 00:00 Status"
      ]
     },
     "metadata": {},
     "output_type": "display_data"
    },
    {
     "name": "stdout",
     "output_type": "stream",
     "text": [
      "                                                                                                                                                                                                                                                                                                                                "
     ]
    },
    {
     "name": "stderr",
     "output_type": "stream",
     "text": [
      "03:19:38 - cmdstanpy - INFO - CmdStan done processing.\n",
      "03:19:38 - cmdstanpy - INFO - CmdStan start processing\n"
     ]
    },
    {
     "name": "stdout",
     "output_type": "stream",
     "text": [
      "\n"
     ]
    },
    {
     "data": {
      "application/vnd.jupyter.widget-view+json": {
       "model_id": "d49b3ae6baa042bfa1f0f99b6d571aaa",
       "version_major": 2,
       "version_minor": 0
      },
      "text/plain": [
       "chain 1 |          | 00:00 Status"
      ]
     },
     "metadata": {},
     "output_type": "display_data"
    },
    {
     "data": {
      "application/vnd.jupyter.widget-view+json": {
       "model_id": "0a3e59f2fba144ff9ae4a877a9f4d882",
       "version_major": 2,
       "version_minor": 0
      },
      "text/plain": [
       "chain 2 |          | 00:00 Status"
      ]
     },
     "metadata": {},
     "output_type": "display_data"
    },
    {
     "data": {
      "application/vnd.jupyter.widget-view+json": {
       "model_id": "6c011056c6ae4b4aa420557952f3b918",
       "version_major": 2,
       "version_minor": 0
      },
      "text/plain": [
       "chain 3 |          | 00:00 Status"
      ]
     },
     "metadata": {},
     "output_type": "display_data"
    },
    {
     "data": {
      "application/vnd.jupyter.widget-view+json": {
       "model_id": "a2066d0aaceb45f98a4b1d509c1fff50",
       "version_major": 2,
       "version_minor": 0
      },
      "text/plain": [
       "chain 4 |          | 00:00 Status"
      ]
     },
     "metadata": {},
     "output_type": "display_data"
    },
    {
     "name": "stdout",
     "output_type": "stream",
     "text": [
      "                                                                                                                                                                                                                                                                                                                                "
     ]
    },
    {
     "name": "stderr",
     "output_type": "stream",
     "text": [
      "03:19:38 - cmdstanpy - INFO - CmdStan done processing.\n",
      "03:19:39 - cmdstanpy - WARNING - Some chains may have failed to converge.\n",
      "\tChain 2 had 2 divergent transitions (0.2%)\n",
      "\tChain 3 had 1 divergent transitions (0.1%)\n",
      "\tUse function \"diagnose()\" to see further information.\n",
      "03:19:39 - cmdstanpy - INFO - CmdStan start processing\n"
     ]
    },
    {
     "name": "stdout",
     "output_type": "stream",
     "text": [
      "\n"
     ]
    },
    {
     "data": {
      "application/vnd.jupyter.widget-view+json": {
       "model_id": "ee1b996193e74efa83b7b351102b2b64",
       "version_major": 2,
       "version_minor": 0
      },
      "text/plain": [
       "chain 1 |          | 00:00 Status"
      ]
     },
     "metadata": {},
     "output_type": "display_data"
    },
    {
     "data": {
      "application/vnd.jupyter.widget-view+json": {
       "model_id": "8030d16a87aa44d89eb56d2f4484bfd5",
       "version_major": 2,
       "version_minor": 0
      },
      "text/plain": [
       "chain 2 |          | 00:00 Status"
      ]
     },
     "metadata": {},
     "output_type": "display_data"
    },
    {
     "data": {
      "application/vnd.jupyter.widget-view+json": {
       "model_id": "a934df415fb64a13a0c3f406bc3f815a",
       "version_major": 2,
       "version_minor": 0
      },
      "text/plain": [
       "chain 3 |          | 00:00 Status"
      ]
     },
     "metadata": {},
     "output_type": "display_data"
    },
    {
     "data": {
      "application/vnd.jupyter.widget-view+json": {
       "model_id": "28e7a4eee63143d38e3aced7f6eafa25",
       "version_major": 2,
       "version_minor": 0
      },
      "text/plain": [
       "chain 4 |          | 00:00 Status"
      ]
     },
     "metadata": {},
     "output_type": "display_data"
    },
    {
     "name": "stdout",
     "output_type": "stream",
     "text": [
      "                                                                                                                                                                                                                                                                                                                                "
     ]
    },
    {
     "name": "stderr",
     "output_type": "stream",
     "text": [
      "03:19:39 - cmdstanpy - INFO - CmdStan done processing.\n",
      "03:19:39 - cmdstanpy - INFO - CmdStan start processing\n"
     ]
    },
    {
     "name": "stdout",
     "output_type": "stream",
     "text": [
      "\n"
     ]
    },
    {
     "data": {
      "application/vnd.jupyter.widget-view+json": {
       "model_id": "2983fb7c182f4e01b187a34689d8b38a",
       "version_major": 2,
       "version_minor": 0
      },
      "text/plain": [
       "chain 1 |          | 00:00 Status"
      ]
     },
     "metadata": {},
     "output_type": "display_data"
    },
    {
     "data": {
      "application/vnd.jupyter.widget-view+json": {
       "model_id": "8bce46f9dbbc4103b2a1c4da71e09d7c",
       "version_major": 2,
       "version_minor": 0
      },
      "text/plain": [
       "chain 2 |          | 00:00 Status"
      ]
     },
     "metadata": {},
     "output_type": "display_data"
    },
    {
     "data": {
      "application/vnd.jupyter.widget-view+json": {
       "model_id": "c1026ae138904e23a48267a39fcd368d",
       "version_major": 2,
       "version_minor": 0
      },
      "text/plain": [
       "chain 3 |          | 00:00 Status"
      ]
     },
     "metadata": {},
     "output_type": "display_data"
    },
    {
     "data": {
      "application/vnd.jupyter.widget-view+json": {
       "model_id": "e9bca2cd187d4ecc8819305fb6978b43",
       "version_major": 2,
       "version_minor": 0
      },
      "text/plain": [
       "chain 4 |          | 00:00 Status"
      ]
     },
     "metadata": {},
     "output_type": "display_data"
    },
    {
     "name": "stdout",
     "output_type": "stream",
     "text": [
      "                                                                                                                                                                                                                                                                                                                                "
     ]
    },
    {
     "name": "stderr",
     "output_type": "stream",
     "text": [
      "03:19:40 - cmdstanpy - INFO - CmdStan done processing.\n",
      "03:19:40 - cmdstanpy - INFO - CmdStan start processing\n"
     ]
    },
    {
     "name": "stdout",
     "output_type": "stream",
     "text": [
      "\n"
     ]
    },
    {
     "data": {
      "application/vnd.jupyter.widget-view+json": {
       "model_id": "a78b9c415d4f499f9866c7f2983b6d8c",
       "version_major": 2,
       "version_minor": 0
      },
      "text/plain": [
       "chain 1 |          | 00:00 Status"
      ]
     },
     "metadata": {},
     "output_type": "display_data"
    },
    {
     "data": {
      "application/vnd.jupyter.widget-view+json": {
       "model_id": "78e2b5e3a7534b958a859a680ce695f3",
       "version_major": 2,
       "version_minor": 0
      },
      "text/plain": [
       "chain 2 |          | 00:00 Status"
      ]
     },
     "metadata": {},
     "output_type": "display_data"
    },
    {
     "data": {
      "application/vnd.jupyter.widget-view+json": {
       "model_id": "3e51415227e54fda973e04c6548a7404",
       "version_major": 2,
       "version_minor": 0
      },
      "text/plain": [
       "chain 3 |          | 00:00 Status"
      ]
     },
     "metadata": {},
     "output_type": "display_data"
    },
    {
     "data": {
      "application/vnd.jupyter.widget-view+json": {
       "model_id": "6eede3a3958e4d07b6e836cc48a6ed82",
       "version_major": 2,
       "version_minor": 0
      },
      "text/plain": [
       "chain 4 |          | 00:00 Status"
      ]
     },
     "metadata": {},
     "output_type": "display_data"
    },
    {
     "name": "stdout",
     "output_type": "stream",
     "text": [
      "                                                                                                                                                                                                                                                                                                                                "
     ]
    },
    {
     "name": "stderr",
     "output_type": "stream",
     "text": [
      "03:19:40 - cmdstanpy - INFO - CmdStan done processing.\n",
      "03:19:40 - cmdstanpy - WARNING - Some chains may have failed to converge.\n",
      "\tChain 1 had 1 divergent transitions (0.1%)\n",
      "\tUse function \"diagnose()\" to see further information.\n",
      "03:19:40 - cmdstanpy - INFO - CmdStan start processing\n"
     ]
    },
    {
     "name": "stdout",
     "output_type": "stream",
     "text": [
      "\n"
     ]
    },
    {
     "data": {
      "application/vnd.jupyter.widget-view+json": {
       "model_id": "bc454e84312642dc9d9f02a648d2ac23",
       "version_major": 2,
       "version_minor": 0
      },
      "text/plain": [
       "chain 1 |          | 00:00 Status"
      ]
     },
     "metadata": {},
     "output_type": "display_data"
    },
    {
     "data": {
      "application/vnd.jupyter.widget-view+json": {
       "model_id": "673d10456e2c49f980405443b5d70142",
       "version_major": 2,
       "version_minor": 0
      },
      "text/plain": [
       "chain 2 |          | 00:00 Status"
      ]
     },
     "metadata": {},
     "output_type": "display_data"
    },
    {
     "data": {
      "application/vnd.jupyter.widget-view+json": {
       "model_id": "f5bee446c41b4f12ad5689212e5b571a",
       "version_major": 2,
       "version_minor": 0
      },
      "text/plain": [
       "chain 3 |          | 00:00 Status"
      ]
     },
     "metadata": {},
     "output_type": "display_data"
    },
    {
     "data": {
      "application/vnd.jupyter.widget-view+json": {
       "model_id": "3c269d2900a34b438458bb698e355d74",
       "version_major": 2,
       "version_minor": 0
      },
      "text/plain": [
       "chain 4 |          | 00:00 Status"
      ]
     },
     "metadata": {},
     "output_type": "display_data"
    },
    {
     "name": "stdout",
     "output_type": "stream",
     "text": [
      "                                                                                                                                                                                                                                                                                                                                "
     ]
    },
    {
     "name": "stderr",
     "output_type": "stream",
     "text": [
      "03:19:40 - cmdstanpy - INFO - CmdStan done processing.\n",
      "03:19:41 - cmdstanpy - WARNING - Some chains may have failed to converge.\n",
      "\tChain 2 had 1 divergent transitions (0.1%)\n",
      "\tUse function \"diagnose()\" to see further information.\n",
      "03:19:41 - cmdstanpy - INFO - CmdStan start processing\n"
     ]
    },
    {
     "name": "stdout",
     "output_type": "stream",
     "text": [
      "\n"
     ]
    },
    {
     "data": {
      "application/vnd.jupyter.widget-view+json": {
       "model_id": "4419c689e3664e8db263471223137b9c",
       "version_major": 2,
       "version_minor": 0
      },
      "text/plain": [
       "chain 1 |          | 00:00 Status"
      ]
     },
     "metadata": {},
     "output_type": "display_data"
    },
    {
     "data": {
      "application/vnd.jupyter.widget-view+json": {
       "model_id": "83a992388dcb4de7ae3bf95087825e4e",
       "version_major": 2,
       "version_minor": 0
      },
      "text/plain": [
       "chain 2 |          | 00:00 Status"
      ]
     },
     "metadata": {},
     "output_type": "display_data"
    },
    {
     "data": {
      "application/vnd.jupyter.widget-view+json": {
       "model_id": "4f4a2197d9bd4c99b3ba403f674c03c3",
       "version_major": 2,
       "version_minor": 0
      },
      "text/plain": [
       "chain 3 |          | 00:00 Status"
      ]
     },
     "metadata": {},
     "output_type": "display_data"
    },
    {
     "data": {
      "application/vnd.jupyter.widget-view+json": {
       "model_id": "88cd2c98208c4aea82d4e5f86e7c4fdb",
       "version_major": 2,
       "version_minor": 0
      },
      "text/plain": [
       "chain 4 |          | 00:00 Status"
      ]
     },
     "metadata": {},
     "output_type": "display_data"
    },
    {
     "name": "stdout",
     "output_type": "stream",
     "text": [
      "                                                                                                                                                                                                                                                                                                                                "
     ]
    },
    {
     "name": "stderr",
     "output_type": "stream",
     "text": [
      "03:19:41 - cmdstanpy - INFO - CmdStan done processing.\n",
      "03:19:41 - cmdstanpy - WARNING - Some chains may have failed to converge.\n",
      "\tChain 4 had 1 divergent transitions (0.1%)\n",
      "\tUse function \"diagnose()\" to see further information.\n",
      "03:19:41 - cmdstanpy - INFO - CmdStan start processing\n"
     ]
    },
    {
     "name": "stdout",
     "output_type": "stream",
     "text": [
      "\n"
     ]
    },
    {
     "data": {
      "application/vnd.jupyter.widget-view+json": {
       "model_id": "45074e420a1f4c5e8ff4b6dfa3b1440f",
       "version_major": 2,
       "version_minor": 0
      },
      "text/plain": [
       "chain 1 |          | 00:00 Status"
      ]
     },
     "metadata": {},
     "output_type": "display_data"
    },
    {
     "data": {
      "application/vnd.jupyter.widget-view+json": {
       "model_id": "cd56174b6bc241969810ffda17b57d1d",
       "version_major": 2,
       "version_minor": 0
      },
      "text/plain": [
       "chain 2 |          | 00:00 Status"
      ]
     },
     "metadata": {},
     "output_type": "display_data"
    },
    {
     "data": {
      "application/vnd.jupyter.widget-view+json": {
       "model_id": "2f05afdd9a994cadad547c965f40b080",
       "version_major": 2,
       "version_minor": 0
      },
      "text/plain": [
       "chain 3 |          | 00:00 Status"
      ]
     },
     "metadata": {},
     "output_type": "display_data"
    },
    {
     "data": {
      "application/vnd.jupyter.widget-view+json": {
       "model_id": "2899a804534d43c5a2f9e1078584f096",
       "version_major": 2,
       "version_minor": 0
      },
      "text/plain": [
       "chain 4 |          | 00:00 Status"
      ]
     },
     "metadata": {},
     "output_type": "display_data"
    },
    {
     "name": "stdout",
     "output_type": "stream",
     "text": [
      "                                                                                                                                                                                                                                                                                                                                "
     ]
    },
    {
     "name": "stderr",
     "output_type": "stream",
     "text": [
      "03:19:41 - cmdstanpy - INFO - CmdStan done processing.\n",
      "03:19:42 - cmdstanpy - WARNING - Some chains may have failed to converge.\n",
      "\tChain 1 had 3 divergent transitions (0.3%)\n",
      "\tChain 4 had 46 divergent transitions (4.6%)\n",
      "\tUse function \"diagnose()\" to see further information.\n",
      "03:19:42 - cmdstanpy - INFO - CmdStan start processing\n"
     ]
    },
    {
     "name": "stdout",
     "output_type": "stream",
     "text": [
      "\n"
     ]
    },
    {
     "data": {
      "application/vnd.jupyter.widget-view+json": {
       "model_id": "67231eaaa13e4cdcb3f34e8815776394",
       "version_major": 2,
       "version_minor": 0
      },
      "text/plain": [
       "chain 1 |          | 00:00 Status"
      ]
     },
     "metadata": {},
     "output_type": "display_data"
    },
    {
     "data": {
      "application/vnd.jupyter.widget-view+json": {
       "model_id": "74ec6a976843426b8f4bc511ae2d28cb",
       "version_major": 2,
       "version_minor": 0
      },
      "text/plain": [
       "chain 2 |          | 00:00 Status"
      ]
     },
     "metadata": {},
     "output_type": "display_data"
    },
    {
     "data": {
      "application/vnd.jupyter.widget-view+json": {
       "model_id": "7591d69778e44460be79d6aec3719789",
       "version_major": 2,
       "version_minor": 0
      },
      "text/plain": [
       "chain 3 |          | 00:00 Status"
      ]
     },
     "metadata": {},
     "output_type": "display_data"
    },
    {
     "data": {
      "application/vnd.jupyter.widget-view+json": {
       "model_id": "6ffcdc85edce4d868219714b42d84bab",
       "version_major": 2,
       "version_minor": 0
      },
      "text/plain": [
       "chain 4 |          | 00:00 Status"
      ]
     },
     "metadata": {},
     "output_type": "display_data"
    },
    {
     "name": "stdout",
     "output_type": "stream",
     "text": [
      "                                                                                                                                                                                                                                                                                                                                "
     ]
    },
    {
     "name": "stderr",
     "output_type": "stream",
     "text": [
      "03:19:42 - cmdstanpy - INFO - CmdStan done processing.\n",
      "03:19:42 - cmdstanpy - INFO - CmdStan start processing\n"
     ]
    },
    {
     "name": "stdout",
     "output_type": "stream",
     "text": [
      "\n"
     ]
    },
    {
     "data": {
      "application/vnd.jupyter.widget-view+json": {
       "model_id": "270fb759d0a64b10bb43ceeacd1c924f",
       "version_major": 2,
       "version_minor": 0
      },
      "text/plain": [
       "chain 1 |          | 00:00 Status"
      ]
     },
     "metadata": {},
     "output_type": "display_data"
    },
    {
     "data": {
      "application/vnd.jupyter.widget-view+json": {
       "model_id": "2ca85ed6622d4b6aa74df24c88a0bc13",
       "version_major": 2,
       "version_minor": 0
      },
      "text/plain": [
       "chain 2 |          | 00:00 Status"
      ]
     },
     "metadata": {},
     "output_type": "display_data"
    },
    {
     "data": {
      "application/vnd.jupyter.widget-view+json": {
       "model_id": "725d8d3cfda848abb919582a299da31a",
       "version_major": 2,
       "version_minor": 0
      },
      "text/plain": [
       "chain 3 |          | 00:00 Status"
      ]
     },
     "metadata": {},
     "output_type": "display_data"
    },
    {
     "data": {
      "application/vnd.jupyter.widget-view+json": {
       "model_id": "95eee6f608304780834bc502a553707b",
       "version_major": 2,
       "version_minor": 0
      },
      "text/plain": [
       "chain 4 |          | 00:00 Status"
      ]
     },
     "metadata": {},
     "output_type": "display_data"
    },
    {
     "name": "stdout",
     "output_type": "stream",
     "text": [
      "                                                                                                                                                                                                                                                                                                                                "
     ]
    },
    {
     "name": "stderr",
     "output_type": "stream",
     "text": [
      "03:19:42 - cmdstanpy - INFO - CmdStan done processing.\n",
      "03:19:42 - cmdstanpy - INFO - CmdStan start processing\n"
     ]
    },
    {
     "name": "stdout",
     "output_type": "stream",
     "text": [
      "\n"
     ]
    },
    {
     "data": {
      "application/vnd.jupyter.widget-view+json": {
       "model_id": "0ef5f49b27024d8cb7de5e069ca6271f",
       "version_major": 2,
       "version_minor": 0
      },
      "text/plain": [
       "chain 1 |          | 00:00 Status"
      ]
     },
     "metadata": {},
     "output_type": "display_data"
    },
    {
     "data": {
      "application/vnd.jupyter.widget-view+json": {
       "model_id": "f8c8d5dda76941aa8d3e9d505404c1f7",
       "version_major": 2,
       "version_minor": 0
      },
      "text/plain": [
       "chain 2 |          | 00:00 Status"
      ]
     },
     "metadata": {},
     "output_type": "display_data"
    },
    {
     "data": {
      "application/vnd.jupyter.widget-view+json": {
       "model_id": "b9ec0b2a98214fd4968a3398c9ce9db0",
       "version_major": 2,
       "version_minor": 0
      },
      "text/plain": [
       "chain 3 |          | 00:00 Status"
      ]
     },
     "metadata": {},
     "output_type": "display_data"
    },
    {
     "data": {
      "application/vnd.jupyter.widget-view+json": {
       "model_id": "53e89c06b7274e4d8003ecf5e58d11a9",
       "version_major": 2,
       "version_minor": 0
      },
      "text/plain": [
       "chain 4 |          | 00:00 Status"
      ]
     },
     "metadata": {},
     "output_type": "display_data"
    },
    {
     "name": "stdout",
     "output_type": "stream",
     "text": [
      "                                                                                                                                                                                                                                                                                                                                "
     ]
    },
    {
     "name": "stderr",
     "output_type": "stream",
     "text": [
      "03:19:43 - cmdstanpy - INFO - CmdStan done processing.\n",
      "03:19:43 - cmdstanpy - WARNING - Some chains may have failed to converge.\n",
      "\tChain 3 had 1 divergent transitions (0.1%)\n",
      "\tUse function \"diagnose()\" to see further information.\n",
      "03:19:43 - cmdstanpy - INFO - CmdStan start processing\n"
     ]
    },
    {
     "name": "stdout",
     "output_type": "stream",
     "text": [
      "\n"
     ]
    },
    {
     "data": {
      "application/vnd.jupyter.widget-view+json": {
       "model_id": "3df455328db14f59bef80112c9356e66",
       "version_major": 2,
       "version_minor": 0
      },
      "text/plain": [
       "chain 1 |          | 00:00 Status"
      ]
     },
     "metadata": {},
     "output_type": "display_data"
    },
    {
     "data": {
      "application/vnd.jupyter.widget-view+json": {
       "model_id": "23470f42d23c42f49bc78e61882c6cbc",
       "version_major": 2,
       "version_minor": 0
      },
      "text/plain": [
       "chain 2 |          | 00:00 Status"
      ]
     },
     "metadata": {},
     "output_type": "display_data"
    },
    {
     "data": {
      "application/vnd.jupyter.widget-view+json": {
       "model_id": "1c1957b66ab9451495272232ec7a1291",
       "version_major": 2,
       "version_minor": 0
      },
      "text/plain": [
       "chain 3 |          | 00:00 Status"
      ]
     },
     "metadata": {},
     "output_type": "display_data"
    },
    {
     "data": {
      "application/vnd.jupyter.widget-view+json": {
       "model_id": "f0d180c6599542b598e210d1a4a09c1c",
       "version_major": 2,
       "version_minor": 0
      },
      "text/plain": [
       "chain 4 |          | 00:00 Status"
      ]
     },
     "metadata": {},
     "output_type": "display_data"
    },
    {
     "name": "stdout",
     "output_type": "stream",
     "text": [
      "                                                                                                                                                                                                                                                                                                                                "
     ]
    },
    {
     "name": "stderr",
     "output_type": "stream",
     "text": [
      "03:19:43 - cmdstanpy - INFO - CmdStan done processing.\n",
      "03:19:43 - cmdstanpy - INFO - CmdStan start processing\n"
     ]
    },
    {
     "name": "stdout",
     "output_type": "stream",
     "text": [
      "\n"
     ]
    },
    {
     "data": {
      "application/vnd.jupyter.widget-view+json": {
       "model_id": "a17d53f6c2a747878c6d7120318c0e7b",
       "version_major": 2,
       "version_minor": 0
      },
      "text/plain": [
       "chain 1 |          | 00:00 Status"
      ]
     },
     "metadata": {},
     "output_type": "display_data"
    },
    {
     "data": {
      "application/vnd.jupyter.widget-view+json": {
       "model_id": "460326d790de490d85f2fe9f97d09b5b",
       "version_major": 2,
       "version_minor": 0
      },
      "text/plain": [
       "chain 2 |          | 00:00 Status"
      ]
     },
     "metadata": {},
     "output_type": "display_data"
    },
    {
     "data": {
      "application/vnd.jupyter.widget-view+json": {
       "model_id": "1138c380af87418caa87349ebd59dcc9",
       "version_major": 2,
       "version_minor": 0
      },
      "text/plain": [
       "chain 3 |          | 00:00 Status"
      ]
     },
     "metadata": {},
     "output_type": "display_data"
    },
    {
     "data": {
      "application/vnd.jupyter.widget-view+json": {
       "model_id": "fd74b2d64f28426b81565adf7fa8a901",
       "version_major": 2,
       "version_minor": 0
      },
      "text/plain": [
       "chain 4 |          | 00:00 Status"
      ]
     },
     "metadata": {},
     "output_type": "display_data"
    },
    {
     "name": "stdout",
     "output_type": "stream",
     "text": [
      "                                                                                                                                                                                                                                                                                                                                "
     ]
    },
    {
     "name": "stderr",
     "output_type": "stream",
     "text": [
      "03:19:44 - cmdstanpy - INFO - CmdStan done processing.\n",
      "03:19:44 - cmdstanpy - WARNING - Some chains may have failed to converge.\n",
      "\tChain 3 had 2 divergent transitions (0.2%)\n",
      "\tUse function \"diagnose()\" to see further information.\n",
      "03:19:44 - cmdstanpy - INFO - CmdStan start processing\n"
     ]
    },
    {
     "name": "stdout",
     "output_type": "stream",
     "text": [
      "\n"
     ]
    },
    {
     "data": {
      "application/vnd.jupyter.widget-view+json": {
       "model_id": "3faf863865fc464fa8ea4746cb0f2da5",
       "version_major": 2,
       "version_minor": 0
      },
      "text/plain": [
       "chain 1 |          | 00:00 Status"
      ]
     },
     "metadata": {},
     "output_type": "display_data"
    },
    {
     "data": {
      "application/vnd.jupyter.widget-view+json": {
       "model_id": "2f6a1935a43547c39edd9b9ed3799bcf",
       "version_major": 2,
       "version_minor": 0
      },
      "text/plain": [
       "chain 2 |          | 00:00 Status"
      ]
     },
     "metadata": {},
     "output_type": "display_data"
    },
    {
     "data": {
      "application/vnd.jupyter.widget-view+json": {
       "model_id": "23df878bc8b84eb4ab9770e924817405",
       "version_major": 2,
       "version_minor": 0
      },
      "text/plain": [
       "chain 3 |          | 00:00 Status"
      ]
     },
     "metadata": {},
     "output_type": "display_data"
    },
    {
     "data": {
      "application/vnd.jupyter.widget-view+json": {
       "model_id": "e546123beb1f4f53a10258cce69c5017",
       "version_major": 2,
       "version_minor": 0
      },
      "text/plain": [
       "chain 4 |          | 00:00 Status"
      ]
     },
     "metadata": {},
     "output_type": "display_data"
    },
    {
     "name": "stdout",
     "output_type": "stream",
     "text": [
      "                                                                                                                                                                                                                                                                                                                                "
     ]
    },
    {
     "name": "stderr",
     "output_type": "stream",
     "text": [
      "03:19:44 - cmdstanpy - INFO - CmdStan done processing.\n",
      "03:19:44 - cmdstanpy - WARNING - Some chains may have failed to converge.\n",
      "\tChain 2 had 13 divergent transitions (1.3%)\n",
      "\tUse function \"diagnose()\" to see further information.\n",
      "03:19:44 - cmdstanpy - INFO - CmdStan start processing\n"
     ]
    },
    {
     "name": "stdout",
     "output_type": "stream",
     "text": [
      "\n"
     ]
    },
    {
     "data": {
      "application/vnd.jupyter.widget-view+json": {
       "model_id": "7a3c4231428741bea58228542ba232b6",
       "version_major": 2,
       "version_minor": 0
      },
      "text/plain": [
       "chain 1 |          | 00:00 Status"
      ]
     },
     "metadata": {},
     "output_type": "display_data"
    },
    {
     "data": {
      "application/vnd.jupyter.widget-view+json": {
       "model_id": "c5496db86e8f45a8bfe50a231184525d",
       "version_major": 2,
       "version_minor": 0
      },
      "text/plain": [
       "chain 2 |          | 00:00 Status"
      ]
     },
     "metadata": {},
     "output_type": "display_data"
    },
    {
     "data": {
      "application/vnd.jupyter.widget-view+json": {
       "model_id": "c954921884314a40850dedd48b7af7ef",
       "version_major": 2,
       "version_minor": 0
      },
      "text/plain": [
       "chain 3 |          | 00:00 Status"
      ]
     },
     "metadata": {},
     "output_type": "display_data"
    },
    {
     "data": {
      "application/vnd.jupyter.widget-view+json": {
       "model_id": "6f7d9a42c5ea4f5a94c1b38e7e4ad4c5",
       "version_major": 2,
       "version_minor": 0
      },
      "text/plain": [
       "chain 4 |          | 00:00 Status"
      ]
     },
     "metadata": {},
     "output_type": "display_data"
    },
    {
     "name": "stdout",
     "output_type": "stream",
     "text": [
      "                                                                                                                                                                                                                                                                                                                                "
     ]
    },
    {
     "name": "stderr",
     "output_type": "stream",
     "text": [
      "03:19:45 - cmdstanpy - INFO - CmdStan done processing.\n",
      "03:19:45 - cmdstanpy - INFO - CmdStan start processing\n"
     ]
    },
    {
     "name": "stdout",
     "output_type": "stream",
     "text": [
      "\n"
     ]
    },
    {
     "data": {
      "application/vnd.jupyter.widget-view+json": {
       "model_id": "2fcbf1a7ac8c429fb44b99ab4235c959",
       "version_major": 2,
       "version_minor": 0
      },
      "text/plain": [
       "chain 1 |          | 00:00 Status"
      ]
     },
     "metadata": {},
     "output_type": "display_data"
    },
    {
     "data": {
      "application/vnd.jupyter.widget-view+json": {
       "model_id": "0337d0e42a0346ec80e75ac6f998fe27",
       "version_major": 2,
       "version_minor": 0
      },
      "text/plain": [
       "chain 2 |          | 00:00 Status"
      ]
     },
     "metadata": {},
     "output_type": "display_data"
    },
    {
     "data": {
      "application/vnd.jupyter.widget-view+json": {
       "model_id": "30209cc37eb84fcaa0754d5c9f2dab05",
       "version_major": 2,
       "version_minor": 0
      },
      "text/plain": [
       "chain 3 |          | 00:00 Status"
      ]
     },
     "metadata": {},
     "output_type": "display_data"
    },
    {
     "data": {
      "application/vnd.jupyter.widget-view+json": {
       "model_id": "b643fd34ebcc4c26a19242155e2c3c0a",
       "version_major": 2,
       "version_minor": 0
      },
      "text/plain": [
       "chain 4 |          | 00:00 Status"
      ]
     },
     "metadata": {},
     "output_type": "display_data"
    },
    {
     "name": "stdout",
     "output_type": "stream",
     "text": [
      "                                                                                                                                                                                                                                                                                                                                "
     ]
    },
    {
     "name": "stderr",
     "output_type": "stream",
     "text": [
      "03:19:45 - cmdstanpy - INFO - CmdStan done processing.\n",
      "03:19:45 - cmdstanpy - WARNING - Non-fatal error during sampling:\n",
      "Exception: normal_lpdf: Scale parameter is 0, but must be positive! (in '/home/oriol/Public/arviz/doc/source/user_guide/wrappers/linreg_model.stan', line 27, column 2 to column 64)\n",
      "\tException: normal_lpdf: Scale parameter is 0, but must be positive! (in '/home/oriol/Public/arviz/doc/source/user_guide/wrappers/linreg_model.stan', line 27, column 2 to column 64)\n",
      "\tException: normal_lpdf: Scale parameter is 0, but must be positive! (in '/home/oriol/Public/arviz/doc/source/user_guide/wrappers/linreg_model.stan', line 27, column 2 to column 64)\n",
      "Consider re-running with show_console=True if the above output is unclear!\n",
      "03:19:45 - cmdstanpy - WARNING - Some chains may have failed to converge.\n",
      "\tChain 2 had 3 divergent transitions (0.3%)\n",
      "\tUse function \"diagnose()\" to see further information.\n",
      "03:19:45 - cmdstanpy - INFO - CmdStan start processing\n"
     ]
    },
    {
     "name": "stdout",
     "output_type": "stream",
     "text": [
      "\n"
     ]
    },
    {
     "data": {
      "application/vnd.jupyter.widget-view+json": {
       "model_id": "c3386c5d3a864890a8454751bd32e303",
       "version_major": 2,
       "version_minor": 0
      },
      "text/plain": [
       "chain 1 |          | 00:00 Status"
      ]
     },
     "metadata": {},
     "output_type": "display_data"
    },
    {
     "data": {
      "application/vnd.jupyter.widget-view+json": {
       "model_id": "4691e9a016964a0683c751aede624f27",
       "version_major": 2,
       "version_minor": 0
      },
      "text/plain": [
       "chain 2 |          | 00:00 Status"
      ]
     },
     "metadata": {},
     "output_type": "display_data"
    },
    {
     "data": {
      "application/vnd.jupyter.widget-view+json": {
       "model_id": "58e13932c5ad4d31bee402ef3b721cdc",
       "version_major": 2,
       "version_minor": 0
      },
      "text/plain": [
       "chain 3 |          | 00:00 Status"
      ]
     },
     "metadata": {},
     "output_type": "display_data"
    },
    {
     "data": {
      "application/vnd.jupyter.widget-view+json": {
       "model_id": "d3a25a05b4c3427e8eb72524701a91b1",
       "version_major": 2,
       "version_minor": 0
      },
      "text/plain": [
       "chain 4 |          | 00:00 Status"
      ]
     },
     "metadata": {},
     "output_type": "display_data"
    },
    {
     "name": "stdout",
     "output_type": "stream",
     "text": [
      "                                                                                                                                                                                                                                                                                                                                "
     ]
    },
    {
     "name": "stderr",
     "output_type": "stream",
     "text": [
      "03:19:46 - cmdstanpy - INFO - CmdStan done processing.\n",
      "03:19:46 - cmdstanpy - WARNING - Non-fatal error during sampling:\n",
      "Exception: normal_lpdf: Scale parameter is 0, but must be positive! (in '/home/oriol/Public/arviz/doc/source/user_guide/wrappers/linreg_model.stan', line 27, column 2 to column 64)\n",
      "\tException: normal_lpdf: Scale parameter is 0, but must be positive! (in '/home/oriol/Public/arviz/doc/source/user_guide/wrappers/linreg_model.stan', line 27, column 2 to column 64)\n",
      "\tException: normal_lpdf: Scale parameter is 0, but must be positive! (in '/home/oriol/Public/arviz/doc/source/user_guide/wrappers/linreg_model.stan', line 27, column 2 to column 64)\n",
      "Consider re-running with show_console=True if the above output is unclear!\n",
      "03:19:46 - cmdstanpy - INFO - CmdStan start processing\n"
     ]
    },
    {
     "name": "stdout",
     "output_type": "stream",
     "text": [
      "\n"
     ]
    },
    {
     "data": {
      "application/vnd.jupyter.widget-view+json": {
       "model_id": "07771b4b149b4871ac2d0b794c98dd03",
       "version_major": 2,
       "version_minor": 0
      },
      "text/plain": [
       "chain 1 |          | 00:00 Status"
      ]
     },
     "metadata": {},
     "output_type": "display_data"
    },
    {
     "data": {
      "application/vnd.jupyter.widget-view+json": {
       "model_id": "39d146587afe46c8b9f18d437b86fe70",
       "version_major": 2,
       "version_minor": 0
      },
      "text/plain": [
       "chain 2 |          | 00:00 Status"
      ]
     },
     "metadata": {},
     "output_type": "display_data"
    },
    {
     "data": {
      "application/vnd.jupyter.widget-view+json": {
       "model_id": "f8a626e943404d828e398ac3c5e1dc54",
       "version_major": 2,
       "version_minor": 0
      },
      "text/plain": [
       "chain 3 |          | 00:00 Status"
      ]
     },
     "metadata": {},
     "output_type": "display_data"
    },
    {
     "data": {
      "application/vnd.jupyter.widget-view+json": {
       "model_id": "882222f4ee574372a513183f4cd1fba5",
       "version_major": 2,
       "version_minor": 0
      },
      "text/plain": [
       "chain 4 |          | 00:00 Status"
      ]
     },
     "metadata": {},
     "output_type": "display_data"
    },
    {
     "name": "stdout",
     "output_type": "stream",
     "text": [
      "                                                                                                                                                                                                                                                                                                                                "
     ]
    },
    {
     "name": "stderr",
     "output_type": "stream",
     "text": [
      "03:19:46 - cmdstanpy - INFO - CmdStan done processing.\n",
      "03:19:46 - cmdstanpy - INFO - CmdStan start processing\n"
     ]
    },
    {
     "name": "stdout",
     "output_type": "stream",
     "text": [
      "\n"
     ]
    },
    {
     "data": {
      "application/vnd.jupyter.widget-view+json": {
       "model_id": "41a2ff931bf542f49f159aa03140bcd9",
       "version_major": 2,
       "version_minor": 0
      },
      "text/plain": [
       "chain 1 |          | 00:00 Status"
      ]
     },
     "metadata": {},
     "output_type": "display_data"
    },
    {
     "data": {
      "application/vnd.jupyter.widget-view+json": {
       "model_id": "0330f495f6ed49e69c20d09cf68c7c96",
       "version_major": 2,
       "version_minor": 0
      },
      "text/plain": [
       "chain 2 |          | 00:00 Status"
      ]
     },
     "metadata": {},
     "output_type": "display_data"
    },
    {
     "data": {
      "application/vnd.jupyter.widget-view+json": {
       "model_id": "f174501435d44468a77fc1877b822d24",
       "version_major": 2,
       "version_minor": 0
      },
      "text/plain": [
       "chain 3 |          | 00:00 Status"
      ]
     },
     "metadata": {},
     "output_type": "display_data"
    },
    {
     "data": {
      "application/vnd.jupyter.widget-view+json": {
       "model_id": "b1817a38ba944bd1b4579f517972d73d",
       "version_major": 2,
       "version_minor": 0
      },
      "text/plain": [
       "chain 4 |          | 00:00 Status"
      ]
     },
     "metadata": {},
     "output_type": "display_data"
    },
    {
     "name": "stdout",
     "output_type": "stream",
     "text": [
      "                                                                                                                                                                                                                                                                                                                                "
     ]
    },
    {
     "name": "stderr",
     "output_type": "stream",
     "text": [
      "03:19:47 - cmdstanpy - INFO - CmdStan done processing.\n",
      "03:19:47 - cmdstanpy - WARNING - Some chains may have failed to converge.\n",
      "\tChain 1 had 6 divergent transitions (0.6%)\n",
      "\tChain 3 had 1 divergent transitions (0.1%)\n",
      "\tChain 4 had 3 divergent transitions (0.3%)\n",
      "\tUse function \"diagnose()\" to see further information.\n",
      "03:19:47 - cmdstanpy - INFO - CmdStan start processing\n"
     ]
    },
    {
     "name": "stdout",
     "output_type": "stream",
     "text": [
      "\n"
     ]
    },
    {
     "data": {
      "application/vnd.jupyter.widget-view+json": {
       "model_id": "181666881ab846a0ae5993964baa0914",
       "version_major": 2,
       "version_minor": 0
      },
      "text/plain": [
       "chain 1 |          | 00:00 Status"
      ]
     },
     "metadata": {},
     "output_type": "display_data"
    },
    {
     "data": {
      "application/vnd.jupyter.widget-view+json": {
       "model_id": "b727f2f8b9874d7d86718d2cc6529f65",
       "version_major": 2,
       "version_minor": 0
      },
      "text/plain": [
       "chain 2 |          | 00:00 Status"
      ]
     },
     "metadata": {},
     "output_type": "display_data"
    },
    {
     "data": {
      "application/vnd.jupyter.widget-view+json": {
       "model_id": "83df991e47ac41af8e26f106843191b0",
       "version_major": 2,
       "version_minor": 0
      },
      "text/plain": [
       "chain 3 |          | 00:00 Status"
      ]
     },
     "metadata": {},
     "output_type": "display_data"
    },
    {
     "data": {
      "application/vnd.jupyter.widget-view+json": {
       "model_id": "6275d2f8b2bd452783cbd42745a26dcc",
       "version_major": 2,
       "version_minor": 0
      },
      "text/plain": [
       "chain 4 |          | 00:00 Status"
      ]
     },
     "metadata": {},
     "output_type": "display_data"
    },
    {
     "name": "stdout",
     "output_type": "stream",
     "text": [
      "                                                                                                                                                                                                                                                                                                                                "
     ]
    },
    {
     "name": "stderr",
     "output_type": "stream",
     "text": [
      "03:19:47 - cmdstanpy - INFO - CmdStan done processing.\n",
      "03:19:47 - cmdstanpy - WARNING - Some chains may have failed to converge.\n",
      "\tChain 1 had 1 divergent transitions (0.1%)\n",
      "\tUse function \"diagnose()\" to see further information.\n",
      "03:19:47 - cmdstanpy - INFO - CmdStan start processing\n"
     ]
    },
    {
     "name": "stdout",
     "output_type": "stream",
     "text": [
      "\n"
     ]
    },
    {
     "data": {
      "application/vnd.jupyter.widget-view+json": {
       "model_id": "3eed97712b9843b089a64c49a7cd462f",
       "version_major": 2,
       "version_minor": 0
      },
      "text/plain": [
       "chain 1 |          | 00:00 Status"
      ]
     },
     "metadata": {},
     "output_type": "display_data"
    },
    {
     "data": {
      "application/vnd.jupyter.widget-view+json": {
       "model_id": "d5304aab17e343e7827dcf17b9cca2d4",
       "version_major": 2,
       "version_minor": 0
      },
      "text/plain": [
       "chain 2 |          | 00:00 Status"
      ]
     },
     "metadata": {},
     "output_type": "display_data"
    },
    {
     "data": {
      "application/vnd.jupyter.widget-view+json": {
       "model_id": "8aa86e4bfd7e4ced9086845d41608d83",
       "version_major": 2,
       "version_minor": 0
      },
      "text/plain": [
       "chain 3 |          | 00:00 Status"
      ]
     },
     "metadata": {},
     "output_type": "display_data"
    },
    {
     "data": {
      "application/vnd.jupyter.widget-view+json": {
       "model_id": "84878ab62449464ca82ed5eb27b857b9",
       "version_major": 2,
       "version_minor": 0
      },
      "text/plain": [
       "chain 4 |          | 00:00 Status"
      ]
     },
     "metadata": {},
     "output_type": "display_data"
    },
    {
     "name": "stdout",
     "output_type": "stream",
     "text": [
      "                                                                                                                                                                                                                                                                                                                                "
     ]
    },
    {
     "name": "stderr",
     "output_type": "stream",
     "text": [
      "03:19:48 - cmdstanpy - INFO - CmdStan done processing.\n",
      "03:19:48 - cmdstanpy - WARNING - Some chains may have failed to converge.\n",
      "\tChain 3 had 3 divergent transitions (0.3%)\n",
      "\tUse function \"diagnose()\" to see further information.\n",
      "03:19:48 - cmdstanpy - INFO - CmdStan start processing\n"
     ]
    },
    {
     "name": "stdout",
     "output_type": "stream",
     "text": [
      "\n"
     ]
    },
    {
     "data": {
      "application/vnd.jupyter.widget-view+json": {
       "model_id": "c50106d316e940db8ad4cb3caa4cc592",
       "version_major": 2,
       "version_minor": 0
      },
      "text/plain": [
       "chain 1 |          | 00:00 Status"
      ]
     },
     "metadata": {},
     "output_type": "display_data"
    },
    {
     "data": {
      "application/vnd.jupyter.widget-view+json": {
       "model_id": "4ea93ecd21884738b593915e518127c0",
       "version_major": 2,
       "version_minor": 0
      },
      "text/plain": [
       "chain 2 |          | 00:00 Status"
      ]
     },
     "metadata": {},
     "output_type": "display_data"
    },
    {
     "data": {
      "application/vnd.jupyter.widget-view+json": {
       "model_id": "af6176dcaf6d40108f502b42dfd0cddc",
       "version_major": 2,
       "version_minor": 0
      },
      "text/plain": [
       "chain 3 |          | 00:00 Status"
      ]
     },
     "metadata": {},
     "output_type": "display_data"
    },
    {
     "data": {
      "application/vnd.jupyter.widget-view+json": {
       "model_id": "cb34f0c8c2c342ff8df5358f93cfec80",
       "version_major": 2,
       "version_minor": 0
      },
      "text/plain": [
       "chain 4 |          | 00:00 Status"
      ]
     },
     "metadata": {},
     "output_type": "display_data"
    },
    {
     "name": "stdout",
     "output_type": "stream",
     "text": [
      "                                                                                                                                                                                                                                                                                                                                "
     ]
    },
    {
     "name": "stderr",
     "output_type": "stream",
     "text": [
      "03:19:48 - cmdstanpy - INFO - CmdStan done processing.\n",
      "03:19:48 - cmdstanpy - WARNING - Some chains may have failed to converge.\n",
      "\tChain 3 had 3 divergent transitions (0.3%)\n",
      "\tUse function \"diagnose()\" to see further information.\n",
      "03:19:49 - cmdstanpy - INFO - CmdStan start processing\n"
     ]
    },
    {
     "name": "stdout",
     "output_type": "stream",
     "text": [
      "\n"
     ]
    },
    {
     "data": {
      "application/vnd.jupyter.widget-view+json": {
       "model_id": "908aa942b8bf473d9188ccb1416da4a8",
       "version_major": 2,
       "version_minor": 0
      },
      "text/plain": [
       "chain 1 |          | 00:00 Status"
      ]
     },
     "metadata": {},
     "output_type": "display_data"
    },
    {
     "data": {
      "application/vnd.jupyter.widget-view+json": {
       "model_id": "e1ed5c5779794f9e9c55c5531080ea2d",
       "version_major": 2,
       "version_minor": 0
      },
      "text/plain": [
       "chain 2 |          | 00:00 Status"
      ]
     },
     "metadata": {},
     "output_type": "display_data"
    },
    {
     "data": {
      "application/vnd.jupyter.widget-view+json": {
       "model_id": "c35f70f5359646e1a04888fac1f40b36",
       "version_major": 2,
       "version_minor": 0
      },
      "text/plain": [
       "chain 3 |          | 00:00 Status"
      ]
     },
     "metadata": {},
     "output_type": "display_data"
    },
    {
     "data": {
      "application/vnd.jupyter.widget-view+json": {
       "model_id": "271e49d1a5ba45308938dcb7da4362ee",
       "version_major": 2,
       "version_minor": 0
      },
      "text/plain": [
       "chain 4 |          | 00:00 Status"
      ]
     },
     "metadata": {},
     "output_type": "display_data"
    },
    {
     "name": "stdout",
     "output_type": "stream",
     "text": [
      "                                                                                                                                                                                                                                                                                                                                "
     ]
    },
    {
     "name": "stderr",
     "output_type": "stream",
     "text": [
      "03:19:49 - cmdstanpy - INFO - CmdStan done processing.\n",
      "03:19:49 - cmdstanpy - INFO - CmdStan start processing\n"
     ]
    },
    {
     "name": "stdout",
     "output_type": "stream",
     "text": [
      "\n"
     ]
    },
    {
     "data": {
      "application/vnd.jupyter.widget-view+json": {
       "model_id": "ebb1e325f1114b7aa618ac9d6f513e6c",
       "version_major": 2,
       "version_minor": 0
      },
      "text/plain": [
       "chain 1 |          | 00:00 Status"
      ]
     },
     "metadata": {},
     "output_type": "display_data"
    },
    {
     "data": {
      "application/vnd.jupyter.widget-view+json": {
       "model_id": "f4f761e357ef4c82a96db3ac45b2562c",
       "version_major": 2,
       "version_minor": 0
      },
      "text/plain": [
       "chain 2 |          | 00:00 Status"
      ]
     },
     "metadata": {},
     "output_type": "display_data"
    },
    {
     "data": {
      "application/vnd.jupyter.widget-view+json": {
       "model_id": "d910fc9622224fccb5fc42f488e21e2b",
       "version_major": 2,
       "version_minor": 0
      },
      "text/plain": [
       "chain 3 |          | 00:00 Status"
      ]
     },
     "metadata": {},
     "output_type": "display_data"
    },
    {
     "data": {
      "application/vnd.jupyter.widget-view+json": {
       "model_id": "6e2f857e6d5f41e891d3955798f9558c",
       "version_major": 2,
       "version_minor": 0
      },
      "text/plain": [
       "chain 4 |          | 00:00 Status"
      ]
     },
     "metadata": {},
     "output_type": "display_data"
    },
    {
     "name": "stdout",
     "output_type": "stream",
     "text": [
      "                                                                                                                                                                                                                                                                                                                                "
     ]
    },
    {
     "name": "stderr",
     "output_type": "stream",
     "text": [
      "03:19:49 - cmdstanpy - INFO - CmdStan done processing.\n",
      "03:19:49 - cmdstanpy - WARNING - Some chains may have failed to converge.\n",
      "\tChain 1 had 1 divergent transitions (0.1%)\n",
      "\tChain 3 had 5 divergent transitions (0.5%)\n",
      "\tUse function \"diagnose()\" to see further information.\n",
      "03:19:49 - cmdstanpy - INFO - CmdStan start processing\n"
     ]
    },
    {
     "name": "stdout",
     "output_type": "stream",
     "text": [
      "\n"
     ]
    },
    {
     "data": {
      "application/vnd.jupyter.widget-view+json": {
       "model_id": "b18dd269088345d5971fbf7d62933a8a",
       "version_major": 2,
       "version_minor": 0
      },
      "text/plain": [
       "chain 1 |          | 00:00 Status"
      ]
     },
     "metadata": {},
     "output_type": "display_data"
    },
    {
     "data": {
      "application/vnd.jupyter.widget-view+json": {
       "model_id": "2f59535a7d4f47cd88abde348a380ccb",
       "version_major": 2,
       "version_minor": 0
      },
      "text/plain": [
       "chain 2 |          | 00:00 Status"
      ]
     },
     "metadata": {},
     "output_type": "display_data"
    },
    {
     "data": {
      "application/vnd.jupyter.widget-view+json": {
       "model_id": "29ec01ab98c34fb38f42c481609e5a9c",
       "version_major": 2,
       "version_minor": 0
      },
      "text/plain": [
       "chain 3 |          | 00:00 Status"
      ]
     },
     "metadata": {},
     "output_type": "display_data"
    },
    {
     "data": {
      "application/vnd.jupyter.widget-view+json": {
       "model_id": "9ac5c557008a47bbac1c916751fbc7cb",
       "version_major": 2,
       "version_minor": 0
      },
      "text/plain": [
       "chain 4 |          | 00:00 Status"
      ]
     },
     "metadata": {},
     "output_type": "display_data"
    },
    {
     "name": "stdout",
     "output_type": "stream",
     "text": [
      "                                                                                                                                                                                                                                                                                                                                "
     ]
    },
    {
     "name": "stderr",
     "output_type": "stream",
     "text": [
      "03:19:50 - cmdstanpy - INFO - CmdStan done processing.\n",
      "03:19:50 - cmdstanpy - WARNING - Some chains may have failed to converge.\n",
      "\tChain 1 had 4 divergent transitions (0.4%)\n",
      "\tUse function \"diagnose()\" to see further information.\n",
      "03:19:50 - cmdstanpy - INFO - CmdStan start processing\n"
     ]
    },
    {
     "name": "stdout",
     "output_type": "stream",
     "text": [
      "\n"
     ]
    },
    {
     "data": {
      "application/vnd.jupyter.widget-view+json": {
       "model_id": "3872ed94a8234f3e8ff36ad940f11143",
       "version_major": 2,
       "version_minor": 0
      },
      "text/plain": [
       "chain 1 |          | 00:00 Status"
      ]
     },
     "metadata": {},
     "output_type": "display_data"
    },
    {
     "data": {
      "application/vnd.jupyter.widget-view+json": {
       "model_id": "0b2bc2d9fa634c59af632965409b7414",
       "version_major": 2,
       "version_minor": 0
      },
      "text/plain": [
       "chain 2 |          | 00:00 Status"
      ]
     },
     "metadata": {},
     "output_type": "display_data"
    },
    {
     "data": {
      "application/vnd.jupyter.widget-view+json": {
       "model_id": "2dd4cacf083a48c8914855f75c15ac7e",
       "version_major": 2,
       "version_minor": 0
      },
      "text/plain": [
       "chain 3 |          | 00:00 Status"
      ]
     },
     "metadata": {},
     "output_type": "display_data"
    },
    {
     "data": {
      "application/vnd.jupyter.widget-view+json": {
       "model_id": "ec85368601f144af8815469e856d802a",
       "version_major": 2,
       "version_minor": 0
      },
      "text/plain": [
       "chain 4 |          | 00:00 Status"
      ]
     },
     "metadata": {},
     "output_type": "display_data"
    },
    {
     "name": "stdout",
     "output_type": "stream",
     "text": [
      "                                                                                                                                                                                                                                                                                                                                "
     ]
    },
    {
     "name": "stderr",
     "output_type": "stream",
     "text": [
      "03:19:50 - cmdstanpy - INFO - CmdStan done processing.\n",
      "03:19:50 - cmdstanpy - WARNING - Some chains may have failed to converge.\n",
      "\tChain 4 had 1 divergent transitions (0.1%)\n",
      "\tUse function \"diagnose()\" to see further information.\n",
      "03:19:50 - cmdstanpy - INFO - CmdStan start processing\n"
     ]
    },
    {
     "name": "stdout",
     "output_type": "stream",
     "text": [
      "\n"
     ]
    },
    {
     "data": {
      "application/vnd.jupyter.widget-view+json": {
       "model_id": "757e70194c9944f6b6e81756c4d5ef0c",
       "version_major": 2,
       "version_minor": 0
      },
      "text/plain": [
       "chain 1 |          | 00:00 Status"
      ]
     },
     "metadata": {},
     "output_type": "display_data"
    },
    {
     "data": {
      "application/vnd.jupyter.widget-view+json": {
       "model_id": "a2a6a05d9ecf44008a2e8907cd6b1be4",
       "version_major": 2,
       "version_minor": 0
      },
      "text/plain": [
       "chain 2 |          | 00:00 Status"
      ]
     },
     "metadata": {},
     "output_type": "display_data"
    },
    {
     "data": {
      "application/vnd.jupyter.widget-view+json": {
       "model_id": "e1cae7468b8b42aaa8587c2d3cc62c3f",
       "version_major": 2,
       "version_minor": 0
      },
      "text/plain": [
       "chain 3 |          | 00:00 Status"
      ]
     },
     "metadata": {},
     "output_type": "display_data"
    },
    {
     "data": {
      "application/vnd.jupyter.widget-view+json": {
       "model_id": "0acf4ab7b68c4771ae0008d772f598d6",
       "version_major": 2,
       "version_minor": 0
      },
      "text/plain": [
       "chain 4 |          | 00:00 Status"
      ]
     },
     "metadata": {},
     "output_type": "display_data"
    },
    {
     "name": "stdout",
     "output_type": "stream",
     "text": [
      "                                                                                                                                                                                                                                                                                                                                "
     ]
    },
    {
     "name": "stderr",
     "output_type": "stream",
     "text": [
      "03:19:51 - cmdstanpy - INFO - CmdStan done processing.\n",
      "03:19:51 - cmdstanpy - WARNING - Some chains may have failed to converge.\n",
      "\tChain 2 had 2 divergent transitions (0.2%)\n",
      "\tUse function \"diagnose()\" to see further information.\n",
      "03:19:51 - cmdstanpy - INFO - CmdStan start processing\n"
     ]
    },
    {
     "name": "stdout",
     "output_type": "stream",
     "text": [
      "\n"
     ]
    },
    {
     "data": {
      "application/vnd.jupyter.widget-view+json": {
       "model_id": "c2c06445f3a344629810acb524f51bb1",
       "version_major": 2,
       "version_minor": 0
      },
      "text/plain": [
       "chain 1 |          | 00:00 Status"
      ]
     },
     "metadata": {},
     "output_type": "display_data"
    },
    {
     "data": {
      "application/vnd.jupyter.widget-view+json": {
       "model_id": "4df1e710c2b24427907091f625807dc2",
       "version_major": 2,
       "version_minor": 0
      },
      "text/plain": [
       "chain 2 |          | 00:00 Status"
      ]
     },
     "metadata": {},
     "output_type": "display_data"
    },
    {
     "data": {
      "application/vnd.jupyter.widget-view+json": {
       "model_id": "d7fd975c3f894ea2b8beb4e961d73b9a",
       "version_major": 2,
       "version_minor": 0
      },
      "text/plain": [
       "chain 3 |          | 00:00 Status"
      ]
     },
     "metadata": {},
     "output_type": "display_data"
    },
    {
     "data": {
      "application/vnd.jupyter.widget-view+json": {
       "model_id": "c8e29bcedeb14447b671f511b85a7db1",
       "version_major": 2,
       "version_minor": 0
      },
      "text/plain": [
       "chain 4 |          | 00:00 Status"
      ]
     },
     "metadata": {},
     "output_type": "display_data"
    },
    {
     "name": "stdout",
     "output_type": "stream",
     "text": [
      "                                                                                                                                                                                                                                                                                                                                "
     ]
    },
    {
     "name": "stderr",
     "output_type": "stream",
     "text": [
      "03:19:51 - cmdstanpy - INFO - CmdStan done processing.\n",
      "03:19:51 - cmdstanpy - WARNING - Some chains may have failed to converge.\n",
      "\tChain 4 had 8 divergent transitions (0.8%)\n",
      "\tUse function \"diagnose()\" to see further information.\n",
      "03:19:51 - cmdstanpy - INFO - CmdStan start processing\n"
     ]
    },
    {
     "name": "stdout",
     "output_type": "stream",
     "text": [
      "\n"
     ]
    },
    {
     "data": {
      "application/vnd.jupyter.widget-view+json": {
       "model_id": "a5d43bda088343488ac03bf0beae6467",
       "version_major": 2,
       "version_minor": 0
      },
      "text/plain": [
       "chain 1 |          | 00:00 Status"
      ]
     },
     "metadata": {},
     "output_type": "display_data"
    },
    {
     "data": {
      "application/vnd.jupyter.widget-view+json": {
       "model_id": "58fcab1522284b53904ebfe2958a3756",
       "version_major": 2,
       "version_minor": 0
      },
      "text/plain": [
       "chain 2 |          | 00:00 Status"
      ]
     },
     "metadata": {},
     "output_type": "display_data"
    },
    {
     "data": {
      "application/vnd.jupyter.widget-view+json": {
       "model_id": "99440eeaae39475dbd59db424c37306f",
       "version_major": 2,
       "version_minor": 0
      },
      "text/plain": [
       "chain 3 |          | 00:00 Status"
      ]
     },
     "metadata": {},
     "output_type": "display_data"
    },
    {
     "data": {
      "application/vnd.jupyter.widget-view+json": {
       "model_id": "f558a1891f4848848950f5a9323e1ba0",
       "version_major": 2,
       "version_minor": 0
      },
      "text/plain": [
       "chain 4 |          | 00:00 Status"
      ]
     },
     "metadata": {},
     "output_type": "display_data"
    },
    {
     "name": "stdout",
     "output_type": "stream",
     "text": [
      "                                                                                                                                                                                                                                                                                                                                "
     ]
    },
    {
     "name": "stderr",
     "output_type": "stream",
     "text": [
      "03:19:52 - cmdstanpy - INFO - CmdStan done processing.\n",
      "03:19:52 - cmdstanpy - INFO - CmdStan start processing\n"
     ]
    },
    {
     "name": "stdout",
     "output_type": "stream",
     "text": [
      "\n"
     ]
    },
    {
     "data": {
      "application/vnd.jupyter.widget-view+json": {
       "model_id": "9d4cefee8bec4004b011f16cc92a6014",
       "version_major": 2,
       "version_minor": 0
      },
      "text/plain": [
       "chain 1 |          | 00:00 Status"
      ]
     },
     "metadata": {},
     "output_type": "display_data"
    },
    {
     "data": {
      "application/vnd.jupyter.widget-view+json": {
       "model_id": "2528e3c4c0a84ee1816352ac77faf9b5",
       "version_major": 2,
       "version_minor": 0
      },
      "text/plain": [
       "chain 2 |          | 00:00 Status"
      ]
     },
     "metadata": {},
     "output_type": "display_data"
    },
    {
     "data": {
      "application/vnd.jupyter.widget-view+json": {
       "model_id": "f7ed2ff4219144e5b8c1944aece6ea28",
       "version_major": 2,
       "version_minor": 0
      },
      "text/plain": [
       "chain 3 |          | 00:00 Status"
      ]
     },
     "metadata": {},
     "output_type": "display_data"
    },
    {
     "data": {
      "application/vnd.jupyter.widget-view+json": {
       "model_id": "edebedaf57a846edba072733363d6c3a",
       "version_major": 2,
       "version_minor": 0
      },
      "text/plain": [
       "chain 4 |          | 00:00 Status"
      ]
     },
     "metadata": {},
     "output_type": "display_data"
    },
    {
     "name": "stdout",
     "output_type": "stream",
     "text": [
      "                                                                                                                                                                                                                                                                                                                                "
     ]
    },
    {
     "name": "stderr",
     "output_type": "stream",
     "text": [
      "03:19:52 - cmdstanpy - INFO - CmdStan done processing.\n",
      "03:19:53 - cmdstanpy - INFO - CmdStan start processing\n"
     ]
    },
    {
     "name": "stdout",
     "output_type": "stream",
     "text": [
      "\n"
     ]
    },
    {
     "data": {
      "application/vnd.jupyter.widget-view+json": {
       "model_id": "157df7e1bc924ce8aa7b5fc0d67fe656",
       "version_major": 2,
       "version_minor": 0
      },
      "text/plain": [
       "chain 1 |          | 00:00 Status"
      ]
     },
     "metadata": {},
     "output_type": "display_data"
    },
    {
     "data": {
      "application/vnd.jupyter.widget-view+json": {
       "model_id": "07207528e81641a18d056b5167aefc07",
       "version_major": 2,
       "version_minor": 0
      },
      "text/plain": [
       "chain 2 |          | 00:00 Status"
      ]
     },
     "metadata": {},
     "output_type": "display_data"
    },
    {
     "data": {
      "application/vnd.jupyter.widget-view+json": {
       "model_id": "89e5a06650844506b657519bb61e92a8",
       "version_major": 2,
       "version_minor": 0
      },
      "text/plain": [
       "chain 3 |          | 00:00 Status"
      ]
     },
     "metadata": {},
     "output_type": "display_data"
    },
    {
     "data": {
      "application/vnd.jupyter.widget-view+json": {
       "model_id": "3be47a5080fe4255bb378279a1732836",
       "version_major": 2,
       "version_minor": 0
      },
      "text/plain": [
       "chain 4 |          | 00:00 Status"
      ]
     },
     "metadata": {},
     "output_type": "display_data"
    },
    {
     "name": "stdout",
     "output_type": "stream",
     "text": [
      "                                                                                                                                                                                                                                                                                                                                "
     ]
    },
    {
     "name": "stderr",
     "output_type": "stream",
     "text": [
      "03:19:53 - cmdstanpy - INFO - CmdStan done processing.\n",
      "03:19:53 - cmdstanpy - INFO - CmdStan start processing\n"
     ]
    },
    {
     "name": "stdout",
     "output_type": "stream",
     "text": [
      "\n"
     ]
    },
    {
     "data": {
      "application/vnd.jupyter.widget-view+json": {
       "model_id": "f9862bc3bb75469a933a83cde6794629",
       "version_major": 2,
       "version_minor": 0
      },
      "text/plain": [
       "chain 1 |          | 00:00 Status"
      ]
     },
     "metadata": {},
     "output_type": "display_data"
    },
    {
     "data": {
      "application/vnd.jupyter.widget-view+json": {
       "model_id": "82bbc3c810b44516b6cc5577049581f8",
       "version_major": 2,
       "version_minor": 0
      },
      "text/plain": [
       "chain 2 |          | 00:00 Status"
      ]
     },
     "metadata": {},
     "output_type": "display_data"
    },
    {
     "data": {
      "application/vnd.jupyter.widget-view+json": {
       "model_id": "a46268e1ab95472dac2af0e9f7305f32",
       "version_major": 2,
       "version_minor": 0
      },
      "text/plain": [
       "chain 3 |          | 00:00 Status"
      ]
     },
     "metadata": {},
     "output_type": "display_data"
    },
    {
     "data": {
      "application/vnd.jupyter.widget-view+json": {
       "model_id": "4e698f72e09c421fa6889cf4a334a64e",
       "version_major": 2,
       "version_minor": 0
      },
      "text/plain": [
       "chain 4 |          | 00:00 Status"
      ]
     },
     "metadata": {},
     "output_type": "display_data"
    },
    {
     "name": "stdout",
     "output_type": "stream",
     "text": [
      "                                                                                                                                                                                                                                                                                                                                "
     ]
    },
    {
     "name": "stderr",
     "output_type": "stream",
     "text": [
      "03:19:53 - cmdstanpy - INFO - CmdStan done processing.\n",
      "03:19:54 - cmdstanpy - INFO - CmdStan start processing\n"
     ]
    },
    {
     "name": "stdout",
     "output_type": "stream",
     "text": [
      "\n"
     ]
    },
    {
     "data": {
      "application/vnd.jupyter.widget-view+json": {
       "model_id": "c71e0c5f88fb447d9fa647b90c3e0733",
       "version_major": 2,
       "version_minor": 0
      },
      "text/plain": [
       "chain 1 |          | 00:00 Status"
      ]
     },
     "metadata": {},
     "output_type": "display_data"
    },
    {
     "data": {
      "application/vnd.jupyter.widget-view+json": {
       "model_id": "d73f63e68b8f42388f459b60a563281f",
       "version_major": 2,
       "version_minor": 0
      },
      "text/plain": [
       "chain 2 |          | 00:00 Status"
      ]
     },
     "metadata": {},
     "output_type": "display_data"
    },
    {
     "data": {
      "application/vnd.jupyter.widget-view+json": {
       "model_id": "24c87ea05adf4a159dc0644a21cd9aff",
       "version_major": 2,
       "version_minor": 0
      },
      "text/plain": [
       "chain 3 |          | 00:00 Status"
      ]
     },
     "metadata": {},
     "output_type": "display_data"
    },
    {
     "data": {
      "application/vnd.jupyter.widget-view+json": {
       "model_id": "dd113684c1354ac18b47d67c90ab4cc6",
       "version_major": 2,
       "version_minor": 0
      },
      "text/plain": [
       "chain 4 |          | 00:00 Status"
      ]
     },
     "metadata": {},
     "output_type": "display_data"
    },
    {
     "name": "stdout",
     "output_type": "stream",
     "text": [
      "                                                                                                                                                                                                                                                                                                                                "
     ]
    },
    {
     "name": "stderr",
     "output_type": "stream",
     "text": [
      "03:19:54 - cmdstanpy - INFO - CmdStan done processing.\n",
      "03:19:54 - cmdstanpy - INFO - CmdStan start processing\n"
     ]
    },
    {
     "name": "stdout",
     "output_type": "stream",
     "text": [
      "\n"
     ]
    },
    {
     "data": {
      "application/vnd.jupyter.widget-view+json": {
       "model_id": "580e309426224ebead70a225fb1c2dcc",
       "version_major": 2,
       "version_minor": 0
      },
      "text/plain": [
       "chain 1 |          | 00:00 Status"
      ]
     },
     "metadata": {},
     "output_type": "display_data"
    },
    {
     "data": {
      "application/vnd.jupyter.widget-view+json": {
       "model_id": "e0e14f5ed94f4bb583a2d939458ba810",
       "version_major": 2,
       "version_minor": 0
      },
      "text/plain": [
       "chain 2 |          | 00:00 Status"
      ]
     },
     "metadata": {},
     "output_type": "display_data"
    },
    {
     "data": {
      "application/vnd.jupyter.widget-view+json": {
       "model_id": "be2b4cc368d648689a1a20a1195feea4",
       "version_major": 2,
       "version_minor": 0
      },
      "text/plain": [
       "chain 3 |          | 00:00 Status"
      ]
     },
     "metadata": {},
     "output_type": "display_data"
    },
    {
     "data": {
      "application/vnd.jupyter.widget-view+json": {
       "model_id": "dd872e84681d4b938376929fea383566",
       "version_major": 2,
       "version_minor": 0
      },
      "text/plain": [
       "chain 4 |          | 00:00 Status"
      ]
     },
     "metadata": {},
     "output_type": "display_data"
    },
    {
     "name": "stdout",
     "output_type": "stream",
     "text": [
      "                                                                                                                                                                                                                                                                                                                                "
     ]
    },
    {
     "name": "stderr",
     "output_type": "stream",
     "text": [
      "03:19:54 - cmdstanpy - INFO - CmdStan done processing.\n",
      "03:19:54 - cmdstanpy - WARNING - Some chains may have failed to converge.\n",
      "\tChain 4 had 1 divergent transitions (0.1%)\n",
      "\tUse function \"diagnose()\" to see further information.\n",
      "03:19:55 - cmdstanpy - INFO - CmdStan start processing\n"
     ]
    },
    {
     "name": "stdout",
     "output_type": "stream",
     "text": [
      "\n"
     ]
    },
    {
     "data": {
      "application/vnd.jupyter.widget-view+json": {
       "model_id": "f05d427e695946138960f7e7c8ac35d2",
       "version_major": 2,
       "version_minor": 0
      },
      "text/plain": [
       "chain 1 |          | 00:00 Status"
      ]
     },
     "metadata": {},
     "output_type": "display_data"
    },
    {
     "data": {
      "application/vnd.jupyter.widget-view+json": {
       "model_id": "f489b6da0e364ea9b002b4f269f1af3a",
       "version_major": 2,
       "version_minor": 0
      },
      "text/plain": [
       "chain 2 |          | 00:00 Status"
      ]
     },
     "metadata": {},
     "output_type": "display_data"
    },
    {
     "data": {
      "application/vnd.jupyter.widget-view+json": {
       "model_id": "36a449d03cd343b2a3cfc20e05cb90b4",
       "version_major": 2,
       "version_minor": 0
      },
      "text/plain": [
       "chain 3 |          | 00:00 Status"
      ]
     },
     "metadata": {},
     "output_type": "display_data"
    },
    {
     "data": {
      "application/vnd.jupyter.widget-view+json": {
       "model_id": "10fa1f9110dc4b4293bc8241a94edcd1",
       "version_major": 2,
       "version_minor": 0
      },
      "text/plain": [
       "chain 4 |          | 00:00 Status"
      ]
     },
     "metadata": {},
     "output_type": "display_data"
    },
    {
     "name": "stdout",
     "output_type": "stream",
     "text": [
      "                                                                                                                                                                                                                                                                                                                                "
     ]
    },
    {
     "name": "stderr",
     "output_type": "stream",
     "text": [
      "03:19:55 - cmdstanpy - INFO - CmdStan done processing.\n",
      "03:19:55 - cmdstanpy - INFO - CmdStan start processing\n"
     ]
    },
    {
     "name": "stdout",
     "output_type": "stream",
     "text": [
      "\n"
     ]
    },
    {
     "data": {
      "application/vnd.jupyter.widget-view+json": {
       "model_id": "eff83eef7c2647ce9f2a27782815cf65",
       "version_major": 2,
       "version_minor": 0
      },
      "text/plain": [
       "chain 1 |          | 00:00 Status"
      ]
     },
     "metadata": {},
     "output_type": "display_data"
    },
    {
     "data": {
      "application/vnd.jupyter.widget-view+json": {
       "model_id": "48b3ad13c3124a908d30a4bd2c98e142",
       "version_major": 2,
       "version_minor": 0
      },
      "text/plain": [
       "chain 2 |          | 00:00 Status"
      ]
     },
     "metadata": {},
     "output_type": "display_data"
    },
    {
     "data": {
      "application/vnd.jupyter.widget-view+json": {
       "model_id": "ac80b1c8ab934c24a31deea4a24b0f55",
       "version_major": 2,
       "version_minor": 0
      },
      "text/plain": [
       "chain 3 |          | 00:00 Status"
      ]
     },
     "metadata": {},
     "output_type": "display_data"
    },
    {
     "data": {
      "application/vnd.jupyter.widget-view+json": {
       "model_id": "b18d3e58d9f2414792dfd0b2d08d21c4",
       "version_major": 2,
       "version_minor": 0
      },
      "text/plain": [
       "chain 4 |          | 00:00 Status"
      ]
     },
     "metadata": {},
     "output_type": "display_data"
    },
    {
     "name": "stdout",
     "output_type": "stream",
     "text": [
      "                                                                                                                                                                                                                                                                                                                                "
     ]
    },
    {
     "name": "stderr",
     "output_type": "stream",
     "text": [
      "03:19:55 - cmdstanpy - INFO - CmdStan done processing.\n",
      "03:19:55 - cmdstanpy - WARNING - Some chains may have failed to converge.\n",
      "\tChain 1 had 2 divergent transitions (0.2%)\n",
      "\tUse function \"diagnose()\" to see further information.\n",
      "03:19:55 - cmdstanpy - INFO - CmdStan start processing\n"
     ]
    },
    {
     "name": "stdout",
     "output_type": "stream",
     "text": [
      "\n"
     ]
    },
    {
     "data": {
      "application/vnd.jupyter.widget-view+json": {
       "model_id": "cc9fcbefe59244e2a9c91813009973e4",
       "version_major": 2,
       "version_minor": 0
      },
      "text/plain": [
       "chain 1 |          | 00:00 Status"
      ]
     },
     "metadata": {},
     "output_type": "display_data"
    },
    {
     "data": {
      "application/vnd.jupyter.widget-view+json": {
       "model_id": "6f2615e862ff471192f468888ea09ff3",
       "version_major": 2,
       "version_minor": 0
      },
      "text/plain": [
       "chain 2 |          | 00:00 Status"
      ]
     },
     "metadata": {},
     "output_type": "display_data"
    },
    {
     "data": {
      "application/vnd.jupyter.widget-view+json": {
       "model_id": "682d9c6199874519953b981bb4e9fc02",
       "version_major": 2,
       "version_minor": 0
      },
      "text/plain": [
       "chain 3 |          | 00:00 Status"
      ]
     },
     "metadata": {},
     "output_type": "display_data"
    },
    {
     "data": {
      "application/vnd.jupyter.widget-view+json": {
       "model_id": "f5cefb675d9542a983b08e7e2a53cc03",
       "version_major": 2,
       "version_minor": 0
      },
      "text/plain": [
       "chain 4 |          | 00:00 Status"
      ]
     },
     "metadata": {},
     "output_type": "display_data"
    },
    {
     "name": "stdout",
     "output_type": "stream",
     "text": [
      "                                                                                                                                                                                                                                                                                                                                "
     ]
    },
    {
     "name": "stderr",
     "output_type": "stream",
     "text": [
      "03:19:56 - cmdstanpy - INFO - CmdStan done processing.\n",
      "03:19:56 - cmdstanpy - INFO - CmdStan start processing\n"
     ]
    },
    {
     "name": "stdout",
     "output_type": "stream",
     "text": [
      "\n"
     ]
    },
    {
     "data": {
      "application/vnd.jupyter.widget-view+json": {
       "model_id": "d5178704ba39455fa5615bb151b6a4ac",
       "version_major": 2,
       "version_minor": 0
      },
      "text/plain": [
       "chain 1 |          | 00:00 Status"
      ]
     },
     "metadata": {},
     "output_type": "display_data"
    },
    {
     "data": {
      "application/vnd.jupyter.widget-view+json": {
       "model_id": "672b71db1cd149cca37ebbdd15cedd25",
       "version_major": 2,
       "version_minor": 0
      },
      "text/plain": [
       "chain 2 |          | 00:00 Status"
      ]
     },
     "metadata": {},
     "output_type": "display_data"
    },
    {
     "data": {
      "application/vnd.jupyter.widget-view+json": {
       "model_id": "eab50d5606224f53b4364f2380803228",
       "version_major": 2,
       "version_minor": 0
      },
      "text/plain": [
       "chain 3 |          | 00:00 Status"
      ]
     },
     "metadata": {},
     "output_type": "display_data"
    },
    {
     "data": {
      "application/vnd.jupyter.widget-view+json": {
       "model_id": "f9e5f11271974bd2ba43fa397f7d00a0",
       "version_major": 2,
       "version_minor": 0
      },
      "text/plain": [
       "chain 4 |          | 00:00 Status"
      ]
     },
     "metadata": {},
     "output_type": "display_data"
    },
    {
     "name": "stdout",
     "output_type": "stream",
     "text": [
      "                                                                                                                                                                                                                                                                                                                                "
     ]
    },
    {
     "name": "stderr",
     "output_type": "stream",
     "text": [
      "03:19:56 - cmdstanpy - INFO - CmdStan done processing.\n",
      "03:19:56 - cmdstanpy - INFO - CmdStan start processing\n"
     ]
    },
    {
     "name": "stdout",
     "output_type": "stream",
     "text": [
      "\n"
     ]
    },
    {
     "data": {
      "application/vnd.jupyter.widget-view+json": {
       "model_id": "935dee34bb1e48e6b7a614d7f9e71e07",
       "version_major": 2,
       "version_minor": 0
      },
      "text/plain": [
       "chain 1 |          | 00:00 Status"
      ]
     },
     "metadata": {},
     "output_type": "display_data"
    },
    {
     "data": {
      "application/vnd.jupyter.widget-view+json": {
       "model_id": "1560389bbefc440e8a16ed32b8550adc",
       "version_major": 2,
       "version_minor": 0
      },
      "text/plain": [
       "chain 2 |          | 00:00 Status"
      ]
     },
     "metadata": {},
     "output_type": "display_data"
    },
    {
     "data": {
      "application/vnd.jupyter.widget-view+json": {
       "model_id": "202aee9f21594f1f92b88e47a9cbdfae",
       "version_major": 2,
       "version_minor": 0
      },
      "text/plain": [
       "chain 3 |          | 00:00 Status"
      ]
     },
     "metadata": {},
     "output_type": "display_data"
    },
    {
     "data": {
      "application/vnd.jupyter.widget-view+json": {
       "model_id": "98a951a38b46476ca1d83f43d2391e3e",
       "version_major": 2,
       "version_minor": 0
      },
      "text/plain": [
       "chain 4 |          | 00:00 Status"
      ]
     },
     "metadata": {},
     "output_type": "display_data"
    },
    {
     "name": "stdout",
     "output_type": "stream",
     "text": [
      "                                                                                                                                                                                                                                                                                                                                "
     ]
    },
    {
     "name": "stderr",
     "output_type": "stream",
     "text": [
      "03:19:57 - cmdstanpy - INFO - CmdStan done processing.\n",
      "03:19:57 - cmdstanpy - INFO - CmdStan start processing\n"
     ]
    },
    {
     "name": "stdout",
     "output_type": "stream",
     "text": [
      "\n"
     ]
    },
    {
     "data": {
      "application/vnd.jupyter.widget-view+json": {
       "model_id": "3cb45639e6a945528a613ec7f689d98e",
       "version_major": 2,
       "version_minor": 0
      },
      "text/plain": [
       "chain 1 |          | 00:00 Status"
      ]
     },
     "metadata": {},
     "output_type": "display_data"
    },
    {
     "data": {
      "application/vnd.jupyter.widget-view+json": {
       "model_id": "dc21102c3b0142d5af7e49227643a156",
       "version_major": 2,
       "version_minor": 0
      },
      "text/plain": [
       "chain 2 |          | 00:00 Status"
      ]
     },
     "metadata": {},
     "output_type": "display_data"
    },
    {
     "data": {
      "application/vnd.jupyter.widget-view+json": {
       "model_id": "e8243fcee64a45b6bc910d8994286281",
       "version_major": 2,
       "version_minor": 0
      },
      "text/plain": [
       "chain 3 |          | 00:00 Status"
      ]
     },
     "metadata": {},
     "output_type": "display_data"
    },
    {
     "data": {
      "application/vnd.jupyter.widget-view+json": {
       "model_id": "e94b14ddf6334e139270de4ffa7a06fe",
       "version_major": 2,
       "version_minor": 0
      },
      "text/plain": [
       "chain 4 |          | 00:00 Status"
      ]
     },
     "metadata": {},
     "output_type": "display_data"
    },
    {
     "name": "stdout",
     "output_type": "stream",
     "text": [
      "                                                                                                                                                                                                                                                                                                                                "
     ]
    },
    {
     "name": "stderr",
     "output_type": "stream",
     "text": [
      "03:19:57 - cmdstanpy - INFO - CmdStan done processing.\n",
      "03:19:57 - cmdstanpy - WARNING - Some chains may have failed to converge.\n",
      "\tChain 4 had 1 divergent transitions (0.1%)\n",
      "\tUse function \"diagnose()\" to see further information.\n",
      "03:19:57 - cmdstanpy - INFO - CmdStan start processing\n"
     ]
    },
    {
     "name": "stdout",
     "output_type": "stream",
     "text": [
      "\n"
     ]
    },
    {
     "data": {
      "application/vnd.jupyter.widget-view+json": {
       "model_id": "c6d91a8bc567457f8471a2bcaf7302b5",
       "version_major": 2,
       "version_minor": 0
      },
      "text/plain": [
       "chain 1 |          | 00:00 Status"
      ]
     },
     "metadata": {},
     "output_type": "display_data"
    },
    {
     "data": {
      "application/vnd.jupyter.widget-view+json": {
       "model_id": "fc72bf8346aa4397aa4460c22f12e8bf",
       "version_major": 2,
       "version_minor": 0
      },
      "text/plain": [
       "chain 2 |          | 00:00 Status"
      ]
     },
     "metadata": {},
     "output_type": "display_data"
    },
    {
     "data": {
      "application/vnd.jupyter.widget-view+json": {
       "model_id": "587a740bea2a45bf9a0f7b0adb7549cf",
       "version_major": 2,
       "version_minor": 0
      },
      "text/plain": [
       "chain 3 |          | 00:00 Status"
      ]
     },
     "metadata": {},
     "output_type": "display_data"
    },
    {
     "data": {
      "application/vnd.jupyter.widget-view+json": {
       "model_id": "1b788d5704e44196b1ff969a6f52818b",
       "version_major": 2,
       "version_minor": 0
      },
      "text/plain": [
       "chain 4 |          | 00:00 Status"
      ]
     },
     "metadata": {},
     "output_type": "display_data"
    },
    {
     "name": "stdout",
     "output_type": "stream",
     "text": [
      "                                                                                                                                                                                                                                                                                                                                "
     ]
    },
    {
     "name": "stderr",
     "output_type": "stream",
     "text": [
      "03:19:58 - cmdstanpy - INFO - CmdStan done processing.\n",
      "03:19:58 - cmdstanpy - INFO - CmdStan start processing\n"
     ]
    },
    {
     "name": "stdout",
     "output_type": "stream",
     "text": [
      "\n"
     ]
    },
    {
     "data": {
      "application/vnd.jupyter.widget-view+json": {
       "model_id": "ff37893a1ea54f63838fc1a1aaa9f79c",
       "version_major": 2,
       "version_minor": 0
      },
      "text/plain": [
       "chain 1 |          | 00:00 Status"
      ]
     },
     "metadata": {},
     "output_type": "display_data"
    },
    {
     "data": {
      "application/vnd.jupyter.widget-view+json": {
       "model_id": "042329d37ad74e60828872d5f71dc5d5",
       "version_major": 2,
       "version_minor": 0
      },
      "text/plain": [
       "chain 2 |          | 00:00 Status"
      ]
     },
     "metadata": {},
     "output_type": "display_data"
    },
    {
     "data": {
      "application/vnd.jupyter.widget-view+json": {
       "model_id": "fadeafb596fb44d886b734dc9f394a90",
       "version_major": 2,
       "version_minor": 0
      },
      "text/plain": [
       "chain 3 |          | 00:00 Status"
      ]
     },
     "metadata": {},
     "output_type": "display_data"
    },
    {
     "data": {
      "application/vnd.jupyter.widget-view+json": {
       "model_id": "655403dc8b454d498f699224cba5f850",
       "version_major": 2,
       "version_minor": 0
      },
      "text/plain": [
       "chain 4 |          | 00:00 Status"
      ]
     },
     "metadata": {},
     "output_type": "display_data"
    },
    {
     "name": "stdout",
     "output_type": "stream",
     "text": [
      "                                                                                                                                                                                                                                                                                                                                "
     ]
    },
    {
     "name": "stderr",
     "output_type": "stream",
     "text": [
      "03:19:58 - cmdstanpy - INFO - CmdStan done processing.\n",
      "03:19:58 - cmdstanpy - WARNING - Some chains may have failed to converge.\n",
      "\tChain 2 had 2 divergent transitions (0.2%)\n",
      "\tUse function \"diagnose()\" to see further information.\n",
      "03:19:58 - cmdstanpy - INFO - CmdStan start processing\n"
     ]
    },
    {
     "name": "stdout",
     "output_type": "stream",
     "text": [
      "\n"
     ]
    },
    {
     "data": {
      "application/vnd.jupyter.widget-view+json": {
       "model_id": "434935c8f11b4d0682272ade2eec548d",
       "version_major": 2,
       "version_minor": 0
      },
      "text/plain": [
       "chain 1 |          | 00:00 Status"
      ]
     },
     "metadata": {},
     "output_type": "display_data"
    },
    {
     "data": {
      "application/vnd.jupyter.widget-view+json": {
       "model_id": "4d27401af01142a498964fac22f3ab0c",
       "version_major": 2,
       "version_minor": 0
      },
      "text/plain": [
       "chain 2 |          | 00:00 Status"
      ]
     },
     "metadata": {},
     "output_type": "display_data"
    },
    {
     "data": {
      "application/vnd.jupyter.widget-view+json": {
       "model_id": "7d2eaad5a2e442f9a00a9d45b20c6b62",
       "version_major": 2,
       "version_minor": 0
      },
      "text/plain": [
       "chain 3 |          | 00:00 Status"
      ]
     },
     "metadata": {},
     "output_type": "display_data"
    },
    {
     "data": {
      "application/vnd.jupyter.widget-view+json": {
       "model_id": "9d2bfd4a19f7433cbd60637e7ea6af50",
       "version_major": 2,
       "version_minor": 0
      },
      "text/plain": [
       "chain 4 |          | 00:00 Status"
      ]
     },
     "metadata": {},
     "output_type": "display_data"
    },
    {
     "name": "stdout",
     "output_type": "stream",
     "text": [
      "                                                                                                                                                                                                                                                                                                                                "
     ]
    },
    {
     "name": "stderr",
     "output_type": "stream",
     "text": [
      "03:19:59 - cmdstanpy - INFO - CmdStan done processing.\n",
      "03:19:59 - cmdstanpy - WARNING - Non-fatal error during sampling:\n",
      "Exception: normal_lpdf: Scale parameter is 0, but must be positive! (in '/home/oriol/Public/arviz/doc/source/user_guide/wrappers/linreg_model.stan', line 27, column 2 to column 64)\n",
      "\tException: normal_lpdf: Scale parameter is 0, but must be positive! (in '/home/oriol/Public/arviz/doc/source/user_guide/wrappers/linreg_model.stan', line 27, column 2 to column 64)\n",
      "\tException: normal_lpdf: Scale parameter is 0, but must be positive! (in '/home/oriol/Public/arviz/doc/source/user_guide/wrappers/linreg_model.stan', line 27, column 2 to column 64)\n",
      "Consider re-running with show_console=True if the above output is unclear!\n",
      "03:19:59 - cmdstanpy - WARNING - Some chains may have failed to converge.\n",
      "\tChain 1 had 1 divergent transitions (0.1%)\n",
      "\tUse function \"diagnose()\" to see further information.\n",
      "03:19:59 - cmdstanpy - INFO - CmdStan start processing\n"
     ]
    },
    {
     "name": "stdout",
     "output_type": "stream",
     "text": [
      "\n"
     ]
    },
    {
     "data": {
      "application/vnd.jupyter.widget-view+json": {
       "model_id": "7ba57eb937d14da39b495c9d43155f8d",
       "version_major": 2,
       "version_minor": 0
      },
      "text/plain": [
       "chain 1 |          | 00:00 Status"
      ]
     },
     "metadata": {},
     "output_type": "display_data"
    },
    {
     "data": {
      "application/vnd.jupyter.widget-view+json": {
       "model_id": "c88947d1dfe64be692d0407b7f66e465",
       "version_major": 2,
       "version_minor": 0
      },
      "text/plain": [
       "chain 2 |          | 00:00 Status"
      ]
     },
     "metadata": {},
     "output_type": "display_data"
    },
    {
     "data": {
      "application/vnd.jupyter.widget-view+json": {
       "model_id": "4dadbbfa79644c9fb577cea7ea1ffba2",
       "version_major": 2,
       "version_minor": 0
      },
      "text/plain": [
       "chain 3 |          | 00:00 Status"
      ]
     },
     "metadata": {},
     "output_type": "display_data"
    },
    {
     "data": {
      "application/vnd.jupyter.widget-view+json": {
       "model_id": "1ac3db0f532443e49efa5797c2672c3e",
       "version_major": 2,
       "version_minor": 0
      },
      "text/plain": [
       "chain 4 |          | 00:00 Status"
      ]
     },
     "metadata": {},
     "output_type": "display_data"
    },
    {
     "name": "stdout",
     "output_type": "stream",
     "text": [
      "                                                                                                                                                                                                                                                                                                                                "
     ]
    },
    {
     "name": "stderr",
     "output_type": "stream",
     "text": [
      "03:19:59 - cmdstanpy - INFO - CmdStan done processing.\n",
      "03:19:59 - cmdstanpy - WARNING - Non-fatal error during sampling:\n",
      "Exception: normal_lpdf: Scale parameter is 0, but must be positive! (in '/home/oriol/Public/arviz/doc/source/user_guide/wrappers/linreg_model.stan', line 27, column 2 to column 64)\n",
      "\tException: normal_lpdf: Scale parameter is 0, but must be positive! (in '/home/oriol/Public/arviz/doc/source/user_guide/wrappers/linreg_model.stan', line 27, column 2 to column 64)\n",
      "\tException: normal_lpdf: Scale parameter is 0, but must be positive! (in '/home/oriol/Public/arviz/doc/source/user_guide/wrappers/linreg_model.stan', line 27, column 2 to column 64)\n",
      "Consider re-running with show_console=True if the above output is unclear!\n",
      "03:20:00 - cmdstanpy - INFO - CmdStan start processing\n"
     ]
    },
    {
     "name": "stdout",
     "output_type": "stream",
     "text": [
      "\n"
     ]
    },
    {
     "data": {
      "application/vnd.jupyter.widget-view+json": {
       "model_id": "4024d910374240e6bc69ffab4b67c4cd",
       "version_major": 2,
       "version_minor": 0
      },
      "text/plain": [
       "chain 1 |          | 00:00 Status"
      ]
     },
     "metadata": {},
     "output_type": "display_data"
    },
    {
     "data": {
      "application/vnd.jupyter.widget-view+json": {
       "model_id": "20fe8b57bf3940a8921764e60995bfcb",
       "version_major": 2,
       "version_minor": 0
      },
      "text/plain": [
       "chain 2 |          | 00:00 Status"
      ]
     },
     "metadata": {},
     "output_type": "display_data"
    },
    {
     "data": {
      "application/vnd.jupyter.widget-view+json": {
       "model_id": "072ac15544f14f479f97c406e05e12de",
       "version_major": 2,
       "version_minor": 0
      },
      "text/plain": [
       "chain 3 |          | 00:00 Status"
      ]
     },
     "metadata": {},
     "output_type": "display_data"
    },
    {
     "data": {
      "application/vnd.jupyter.widget-view+json": {
       "model_id": "b2264fce7c914a3f987d25a66770dc41",
       "version_major": 2,
       "version_minor": 0
      },
      "text/plain": [
       "chain 4 |          | 00:00 Status"
      ]
     },
     "metadata": {},
     "output_type": "display_data"
    },
    {
     "name": "stdout",
     "output_type": "stream",
     "text": [
      "                                                                                                                                                                                                                                                                                                                                "
     ]
    },
    {
     "name": "stderr",
     "output_type": "stream",
     "text": [
      "03:20:00 - cmdstanpy - INFO - CmdStan done processing.\n",
      "03:20:00 - cmdstanpy - INFO - CmdStan start processing\n"
     ]
    },
    {
     "name": "stdout",
     "output_type": "stream",
     "text": [
      "\n"
     ]
    },
    {
     "data": {
      "application/vnd.jupyter.widget-view+json": {
       "model_id": "5e432f5707734ec2bc937c21e11528d6",
       "version_major": 2,
       "version_minor": 0
      },
      "text/plain": [
       "chain 1 |          | 00:00 Status"
      ]
     },
     "metadata": {},
     "output_type": "display_data"
    },
    {
     "data": {
      "application/vnd.jupyter.widget-view+json": {
       "model_id": "a84f58b62e994b8cae2e8ba658da89e1",
       "version_major": 2,
       "version_minor": 0
      },
      "text/plain": [
       "chain 2 |          | 00:00 Status"
      ]
     },
     "metadata": {},
     "output_type": "display_data"
    },
    {
     "data": {
      "application/vnd.jupyter.widget-view+json": {
       "model_id": "3a14a116cad9483bb5b01a6f4994f024",
       "version_major": 2,
       "version_minor": 0
      },
      "text/plain": [
       "chain 3 |          | 00:00 Status"
      ]
     },
     "metadata": {},
     "output_type": "display_data"
    },
    {
     "data": {
      "application/vnd.jupyter.widget-view+json": {
       "model_id": "603aedbaa99a441ea88b0c2282d413dc",
       "version_major": 2,
       "version_minor": 0
      },
      "text/plain": [
       "chain 4 |          | 00:00 Status"
      ]
     },
     "metadata": {},
     "output_type": "display_data"
    },
    {
     "name": "stdout",
     "output_type": "stream",
     "text": [
      "                                                                                                                                                                                                                                                                                                                                "
     ]
    },
    {
     "name": "stderr",
     "output_type": "stream",
     "text": [
      "03:20:00 - cmdstanpy - INFO - CmdStan done processing.\n",
      "03:20:00 - cmdstanpy - WARNING - Some chains may have failed to converge.\n",
      "\tChain 2 had 1 divergent transitions (0.1%)\n",
      "\tUse function \"diagnose()\" to see further information.\n",
      "03:20:00 - cmdstanpy - INFO - CmdStan start processing\n"
     ]
    },
    {
     "name": "stdout",
     "output_type": "stream",
     "text": [
      "\n"
     ]
    },
    {
     "data": {
      "application/vnd.jupyter.widget-view+json": {
       "model_id": "876da10b66a74a98973cf46f9fa03b4b",
       "version_major": 2,
       "version_minor": 0
      },
      "text/plain": [
       "chain 1 |          | 00:00 Status"
      ]
     },
     "metadata": {},
     "output_type": "display_data"
    },
    {
     "data": {
      "application/vnd.jupyter.widget-view+json": {
       "model_id": "22d9354d5c0f43cb92811954ff64fdb9",
       "version_major": 2,
       "version_minor": 0
      },
      "text/plain": [
       "chain 2 |          | 00:00 Status"
      ]
     },
     "metadata": {},
     "output_type": "display_data"
    },
    {
     "data": {
      "application/vnd.jupyter.widget-view+json": {
       "model_id": "cb397f7d4a8c462795db90ee3a814028",
       "version_major": 2,
       "version_minor": 0
      },
      "text/plain": [
       "chain 3 |          | 00:00 Status"
      ]
     },
     "metadata": {},
     "output_type": "display_data"
    },
    {
     "data": {
      "application/vnd.jupyter.widget-view+json": {
       "model_id": "6c49681ca94f49339a08f60511ec50d0",
       "version_major": 2,
       "version_minor": 0
      },
      "text/plain": [
       "chain 4 |          | 00:00 Status"
      ]
     },
     "metadata": {},
     "output_type": "display_data"
    },
    {
     "name": "stdout",
     "output_type": "stream",
     "text": [
      "                                                                                                                                                                                                                                                                                                                                "
     ]
    },
    {
     "name": "stderr",
     "output_type": "stream",
     "text": [
      "03:20:01 - cmdstanpy - INFO - CmdStan done processing.\n",
      "03:20:01 - cmdstanpy - WARNING - Some chains may have failed to converge.\n",
      "\tChain 3 had 1 divergent transitions (0.1%)\n",
      "\tUse function \"diagnose()\" to see further information.\n",
      "03:20:01 - cmdstanpy - INFO - CmdStan start processing\n"
     ]
    },
    {
     "name": "stdout",
     "output_type": "stream",
     "text": [
      "\n"
     ]
    },
    {
     "data": {
      "application/vnd.jupyter.widget-view+json": {
       "model_id": "149aab2a304a452fb351b1d514e8e64d",
       "version_major": 2,
       "version_minor": 0
      },
      "text/plain": [
       "chain 1 |          | 00:00 Status"
      ]
     },
     "metadata": {},
     "output_type": "display_data"
    },
    {
     "data": {
      "application/vnd.jupyter.widget-view+json": {
       "model_id": "d9e3ce8bf3314f3d9fd89a2dd744d6b5",
       "version_major": 2,
       "version_minor": 0
      },
      "text/plain": [
       "chain 2 |          | 00:00 Status"
      ]
     },
     "metadata": {},
     "output_type": "display_data"
    },
    {
     "data": {
      "application/vnd.jupyter.widget-view+json": {
       "model_id": "74690f94297e4038bca9e3f1acc9f4aa",
       "version_major": 2,
       "version_minor": 0
      },
      "text/plain": [
       "chain 3 |          | 00:00 Status"
      ]
     },
     "metadata": {},
     "output_type": "display_data"
    },
    {
     "data": {
      "application/vnd.jupyter.widget-view+json": {
       "model_id": "d594ff13115a48718fd700b7c7e71070",
       "version_major": 2,
       "version_minor": 0
      },
      "text/plain": [
       "chain 4 |          | 00:00 Status"
      ]
     },
     "metadata": {},
     "output_type": "display_data"
    },
    {
     "name": "stdout",
     "output_type": "stream",
     "text": [
      "                                                                                                                                                                                                                                                                                                                                "
     ]
    },
    {
     "name": "stderr",
     "output_type": "stream",
     "text": [
      "03:20:01 - cmdstanpy - INFO - CmdStan done processing.\n",
      "03:20:01 - cmdstanpy - INFO - CmdStan start processing\n"
     ]
    },
    {
     "name": "stdout",
     "output_type": "stream",
     "text": [
      "\n"
     ]
    },
    {
     "data": {
      "application/vnd.jupyter.widget-view+json": {
       "model_id": "eeb62e04e29443d4a6d555b19238b992",
       "version_major": 2,
       "version_minor": 0
      },
      "text/plain": [
       "chain 1 |          | 00:00 Status"
      ]
     },
     "metadata": {},
     "output_type": "display_data"
    },
    {
     "data": {
      "application/vnd.jupyter.widget-view+json": {
       "model_id": "f35c8dc00d154975a202d481c1f5c01a",
       "version_major": 2,
       "version_minor": 0
      },
      "text/plain": [
       "chain 2 |          | 00:00 Status"
      ]
     },
     "metadata": {},
     "output_type": "display_data"
    },
    {
     "data": {
      "application/vnd.jupyter.widget-view+json": {
       "model_id": "38ab226c8ee747be974d7ef5e1440da8",
       "version_major": 2,
       "version_minor": 0
      },
      "text/plain": [
       "chain 3 |          | 00:00 Status"
      ]
     },
     "metadata": {},
     "output_type": "display_data"
    },
    {
     "data": {
      "application/vnd.jupyter.widget-view+json": {
       "model_id": "91c3f165b2f34dd9a51b6efe3cde1c49",
       "version_major": 2,
       "version_minor": 0
      },
      "text/plain": [
       "chain 4 |          | 00:00 Status"
      ]
     },
     "metadata": {},
     "output_type": "display_data"
    },
    {
     "name": "stdout",
     "output_type": "stream",
     "text": [
      "                                                                                                                                                                                                                                                                                                                                "
     ]
    },
    {
     "name": "stderr",
     "output_type": "stream",
     "text": [
      "03:20:02 - cmdstanpy - INFO - CmdStan done processing.\n",
      "03:20:02 - cmdstanpy - WARNING - Some chains may have failed to converge.\n",
      "\tChain 4 had 7 divergent transitions (0.7%)\n",
      "\tUse function \"diagnose()\" to see further information.\n",
      "03:20:02 - cmdstanpy - INFO - CmdStan start processing\n"
     ]
    },
    {
     "name": "stdout",
     "output_type": "stream",
     "text": [
      "\n"
     ]
    },
    {
     "data": {
      "application/vnd.jupyter.widget-view+json": {
       "model_id": "403e45559bdb4c2484d5c7f364a18583",
       "version_major": 2,
       "version_minor": 0
      },
      "text/plain": [
       "chain 1 |          | 00:00 Status"
      ]
     },
     "metadata": {},
     "output_type": "display_data"
    },
    {
     "data": {
      "application/vnd.jupyter.widget-view+json": {
       "model_id": "944e767871ae412781d38bcd8ad55a00",
       "version_major": 2,
       "version_minor": 0
      },
      "text/plain": [
       "chain 2 |          | 00:00 Status"
      ]
     },
     "metadata": {},
     "output_type": "display_data"
    },
    {
     "data": {
      "application/vnd.jupyter.widget-view+json": {
       "model_id": "fe52cb9a01a9485698f814681c7fc24f",
       "version_major": 2,
       "version_minor": 0
      },
      "text/plain": [
       "chain 3 |          | 00:00 Status"
      ]
     },
     "metadata": {},
     "output_type": "display_data"
    },
    {
     "data": {
      "application/vnd.jupyter.widget-view+json": {
       "model_id": "1c52814438db405f88bbe8cc97bb3e3f",
       "version_major": 2,
       "version_minor": 0
      },
      "text/plain": [
       "chain 4 |          | 00:00 Status"
      ]
     },
     "metadata": {},
     "output_type": "display_data"
    },
    {
     "name": "stdout",
     "output_type": "stream",
     "text": [
      "                                                                                                                                                                                                                                                                                                                                "
     ]
    },
    {
     "name": "stderr",
     "output_type": "stream",
     "text": [
      "03:20:02 - cmdstanpy - INFO - CmdStan done processing.\n",
      "03:20:02 - cmdstanpy - INFO - CmdStan start processing\n"
     ]
    },
    {
     "name": "stdout",
     "output_type": "stream",
     "text": [
      "\n"
     ]
    },
    {
     "data": {
      "application/vnd.jupyter.widget-view+json": {
       "model_id": "7c8e0f9693a5448f9e7c770942dd1897",
       "version_major": 2,
       "version_minor": 0
      },
      "text/plain": [
       "chain 1 |          | 00:00 Status"
      ]
     },
     "metadata": {},
     "output_type": "display_data"
    },
    {
     "data": {
      "application/vnd.jupyter.widget-view+json": {
       "model_id": "189eb47960f64de9b927ba16deaf0c71",
       "version_major": 2,
       "version_minor": 0
      },
      "text/plain": [
       "chain 2 |          | 00:00 Status"
      ]
     },
     "metadata": {},
     "output_type": "display_data"
    },
    {
     "data": {
      "application/vnd.jupyter.widget-view+json": {
       "model_id": "292fe4809a1c430e868593e2bbccdd92",
       "version_major": 2,
       "version_minor": 0
      },
      "text/plain": [
       "chain 3 |          | 00:00 Status"
      ]
     },
     "metadata": {},
     "output_type": "display_data"
    },
    {
     "data": {
      "application/vnd.jupyter.widget-view+json": {
       "model_id": "ce8324da9d2849d5b1622d2dc78f6ed3",
       "version_major": 2,
       "version_minor": 0
      },
      "text/plain": [
       "chain 4 |          | 00:00 Status"
      ]
     },
     "metadata": {},
     "output_type": "display_data"
    },
    {
     "name": "stdout",
     "output_type": "stream",
     "text": [
      "                                                                                                                                                                                                                                                                                                                                "
     ]
    },
    {
     "name": "stderr",
     "output_type": "stream",
     "text": [
      "03:20:03 - cmdstanpy - INFO - CmdStan done processing.\n",
      "03:20:03 - cmdstanpy - INFO - CmdStan start processing\n"
     ]
    },
    {
     "name": "stdout",
     "output_type": "stream",
     "text": [
      "\n"
     ]
    },
    {
     "data": {
      "application/vnd.jupyter.widget-view+json": {
       "model_id": "2b9948fc05cb43f9b86014ca4abbe9e7",
       "version_major": 2,
       "version_minor": 0
      },
      "text/plain": [
       "chain 1 |          | 00:00 Status"
      ]
     },
     "metadata": {},
     "output_type": "display_data"
    },
    {
     "data": {
      "application/vnd.jupyter.widget-view+json": {
       "model_id": "ab52a6d6f79e44c99dbc2c3e69407601",
       "version_major": 2,
       "version_minor": 0
      },
      "text/plain": [
       "chain 2 |          | 00:00 Status"
      ]
     },
     "metadata": {},
     "output_type": "display_data"
    },
    {
     "data": {
      "application/vnd.jupyter.widget-view+json": {
       "model_id": "c61c5b4ca093481085985b5672a6b322",
       "version_major": 2,
       "version_minor": 0
      },
      "text/plain": [
       "chain 3 |          | 00:00 Status"
      ]
     },
     "metadata": {},
     "output_type": "display_data"
    },
    {
     "data": {
      "application/vnd.jupyter.widget-view+json": {
       "model_id": "7e079924a1b54fd4bf5c36df05ef8337",
       "version_major": 2,
       "version_minor": 0
      },
      "text/plain": [
       "chain 4 |          | 00:00 Status"
      ]
     },
     "metadata": {},
     "output_type": "display_data"
    },
    {
     "name": "stdout",
     "output_type": "stream",
     "text": [
      "                                                                                                                                                                                                                                                                                                                                "
     ]
    },
    {
     "name": "stderr",
     "output_type": "stream",
     "text": [
      "03:20:03 - cmdstanpy - INFO - CmdStan done processing.\n",
      "03:20:03 - cmdstanpy - WARNING - Some chains may have failed to converge.\n",
      "\tChain 2 had 1 divergent transitions (0.1%)\n",
      "\tUse function \"diagnose()\" to see further information.\n",
      "03:20:03 - cmdstanpy - INFO - CmdStan start processing\n"
     ]
    },
    {
     "name": "stdout",
     "output_type": "stream",
     "text": [
      "\n"
     ]
    },
    {
     "data": {
      "application/vnd.jupyter.widget-view+json": {
       "model_id": "58f2e76a0c764470bd14d047359d0e49",
       "version_major": 2,
       "version_minor": 0
      },
      "text/plain": [
       "chain 1 |          | 00:00 Status"
      ]
     },
     "metadata": {},
     "output_type": "display_data"
    },
    {
     "data": {
      "application/vnd.jupyter.widget-view+json": {
       "model_id": "f199af6111a44fd6b2ed746c1c8f716c",
       "version_major": 2,
       "version_minor": 0
      },
      "text/plain": [
       "chain 2 |          | 00:00 Status"
      ]
     },
     "metadata": {},
     "output_type": "display_data"
    },
    {
     "data": {
      "application/vnd.jupyter.widget-view+json": {
       "model_id": "a6af69a9de064bf6a31b03ccefd7502b",
       "version_major": 2,
       "version_minor": 0
      },
      "text/plain": [
       "chain 3 |          | 00:00 Status"
      ]
     },
     "metadata": {},
     "output_type": "display_data"
    },
    {
     "data": {
      "application/vnd.jupyter.widget-view+json": {
       "model_id": "d8c32f85bb4e40aaaac64a3f696977b0",
       "version_major": 2,
       "version_minor": 0
      },
      "text/plain": [
       "chain 4 |          | 00:00 Status"
      ]
     },
     "metadata": {},
     "output_type": "display_data"
    },
    {
     "name": "stdout",
     "output_type": "stream",
     "text": [
      "                                                                                                                                                                                                                                                                                                                                "
     ]
    },
    {
     "name": "stderr",
     "output_type": "stream",
     "text": [
      "03:20:04 - cmdstanpy - INFO - CmdStan done processing.\n",
      "03:20:04 - cmdstanpy - WARNING - Some chains may have failed to converge.\n",
      "\tChain 1 had 2 divergent transitions (0.2%)\n",
      "\tUse function \"diagnose()\" to see further information.\n",
      "03:20:04 - cmdstanpy - INFO - CmdStan start processing\n"
     ]
    },
    {
     "name": "stdout",
     "output_type": "stream",
     "text": [
      "\n"
     ]
    },
    {
     "data": {
      "application/vnd.jupyter.widget-view+json": {
       "model_id": "a720049385af44e69734dceae00cbc32",
       "version_major": 2,
       "version_minor": 0
      },
      "text/plain": [
       "chain 1 |          | 00:00 Status"
      ]
     },
     "metadata": {},
     "output_type": "display_data"
    },
    {
     "data": {
      "application/vnd.jupyter.widget-view+json": {
       "model_id": "88728cf6ca044e758dfdaa1a38abfc13",
       "version_major": 2,
       "version_minor": 0
      },
      "text/plain": [
       "chain 2 |          | 00:00 Status"
      ]
     },
     "metadata": {},
     "output_type": "display_data"
    },
    {
     "data": {
      "application/vnd.jupyter.widget-view+json": {
       "model_id": "9bfb70eb18224298b0c3561dde0855b7",
       "version_major": 2,
       "version_minor": 0
      },
      "text/plain": [
       "chain 3 |          | 00:00 Status"
      ]
     },
     "metadata": {},
     "output_type": "display_data"
    },
    {
     "data": {
      "application/vnd.jupyter.widget-view+json": {
       "model_id": "fd7a307eaf2c41e4aa36fb4b6f2c01de",
       "version_major": 2,
       "version_minor": 0
      },
      "text/plain": [
       "chain 4 |          | 00:00 Status"
      ]
     },
     "metadata": {},
     "output_type": "display_data"
    },
    {
     "name": "stdout",
     "output_type": "stream",
     "text": [
      "                                                                                                                                                                                                                                                                                                                                "
     ]
    },
    {
     "name": "stderr",
     "output_type": "stream",
     "text": [
      "03:20:04 - cmdstanpy - INFO - CmdStan done processing.\n",
      "03:20:05 - cmdstanpy - INFO - CmdStan start processing\n"
     ]
    },
    {
     "name": "stdout",
     "output_type": "stream",
     "text": [
      "\n"
     ]
    },
    {
     "data": {
      "application/vnd.jupyter.widget-view+json": {
       "model_id": "d7a0f284a1294fc8ab7d672f00093da2",
       "version_major": 2,
       "version_minor": 0
      },
      "text/plain": [
       "chain 1 |          | 00:00 Status"
      ]
     },
     "metadata": {},
     "output_type": "display_data"
    },
    {
     "data": {
      "application/vnd.jupyter.widget-view+json": {
       "model_id": "c2d996489e594167bf6bf2159d58857c",
       "version_major": 2,
       "version_minor": 0
      },
      "text/plain": [
       "chain 2 |          | 00:00 Status"
      ]
     },
     "metadata": {},
     "output_type": "display_data"
    },
    {
     "data": {
      "application/vnd.jupyter.widget-view+json": {
       "model_id": "dfac4298dfea4b6b99fdcc36b3b90de5",
       "version_major": 2,
       "version_minor": 0
      },
      "text/plain": [
       "chain 3 |          | 00:00 Status"
      ]
     },
     "metadata": {},
     "output_type": "display_data"
    },
    {
     "data": {
      "application/vnd.jupyter.widget-view+json": {
       "model_id": "ef309938f3544103963bde3ee7aa0065",
       "version_major": 2,
       "version_minor": 0
      },
      "text/plain": [
       "chain 4 |          | 00:00 Status"
      ]
     },
     "metadata": {},
     "output_type": "display_data"
    },
    {
     "name": "stdout",
     "output_type": "stream",
     "text": [
      "                                                                                                                                                                                                                                                                                                                                "
     ]
    },
    {
     "name": "stderr",
     "output_type": "stream",
     "text": [
      "03:20:05 - cmdstanpy - INFO - CmdStan done processing.\n",
      "03:20:05 - cmdstanpy - INFO - CmdStan start processing\n"
     ]
    },
    {
     "name": "stdout",
     "output_type": "stream",
     "text": [
      "\n"
     ]
    },
    {
     "data": {
      "application/vnd.jupyter.widget-view+json": {
       "model_id": "67997c9413f846089372158d08f9b701",
       "version_major": 2,
       "version_minor": 0
      },
      "text/plain": [
       "chain 1 |          | 00:00 Status"
      ]
     },
     "metadata": {},
     "output_type": "display_data"
    },
    {
     "data": {
      "application/vnd.jupyter.widget-view+json": {
       "model_id": "620a3967e8ac403094ff2d8c9b6f6638",
       "version_major": 2,
       "version_minor": 0
      },
      "text/plain": [
       "chain 2 |          | 00:00 Status"
      ]
     },
     "metadata": {},
     "output_type": "display_data"
    },
    {
     "data": {
      "application/vnd.jupyter.widget-view+json": {
       "model_id": "4587a7e05ef946238b16657c4f7a05be",
       "version_major": 2,
       "version_minor": 0
      },
      "text/plain": [
       "chain 3 |          | 00:00 Status"
      ]
     },
     "metadata": {},
     "output_type": "display_data"
    },
    {
     "data": {
      "application/vnd.jupyter.widget-view+json": {
       "model_id": "4053f9e3dcde4fe5be354905e29866b2",
       "version_major": 2,
       "version_minor": 0
      },
      "text/plain": [
       "chain 4 |          | 00:00 Status"
      ]
     },
     "metadata": {},
     "output_type": "display_data"
    },
    {
     "name": "stdout",
     "output_type": "stream",
     "text": [
      "                                                                                                                                                                                                                                                                                                                                "
     ]
    },
    {
     "name": "stderr",
     "output_type": "stream",
     "text": [
      "03:20:05 - cmdstanpy - INFO - CmdStan done processing.\n",
      "03:20:05 - cmdstanpy - INFO - CmdStan start processing\n"
     ]
    },
    {
     "name": "stdout",
     "output_type": "stream",
     "text": [
      "\n"
     ]
    },
    {
     "data": {
      "application/vnd.jupyter.widget-view+json": {
       "model_id": "ae30a8429ad940c287665f1bab979952",
       "version_major": 2,
       "version_minor": 0
      },
      "text/plain": [
       "chain 1 |          | 00:00 Status"
      ]
     },
     "metadata": {},
     "output_type": "display_data"
    },
    {
     "data": {
      "application/vnd.jupyter.widget-view+json": {
       "model_id": "da55662d565f4df19fdcb78e78e3deef",
       "version_major": 2,
       "version_minor": 0
      },
      "text/plain": [
       "chain 2 |          | 00:00 Status"
      ]
     },
     "metadata": {},
     "output_type": "display_data"
    },
    {
     "data": {
      "application/vnd.jupyter.widget-view+json": {
       "model_id": "c81cb7edd6b64d6086ef1350cba88ce6",
       "version_major": 2,
       "version_minor": 0
      },
      "text/plain": [
       "chain 3 |          | 00:00 Status"
      ]
     },
     "metadata": {},
     "output_type": "display_data"
    },
    {
     "data": {
      "application/vnd.jupyter.widget-view+json": {
       "model_id": "f470cde08d3d44169ef760a2e1fe7173",
       "version_major": 2,
       "version_minor": 0
      },
      "text/plain": [
       "chain 4 |          | 00:00 Status"
      ]
     },
     "metadata": {},
     "output_type": "display_data"
    },
    {
     "name": "stdout",
     "output_type": "stream",
     "text": [
      "                                                                                                                                                                                                                                                                                                                                "
     ]
    },
    {
     "name": "stderr",
     "output_type": "stream",
     "text": [
      "03:20:06 - cmdstanpy - INFO - CmdStan done processing.\n",
      "03:20:06 - cmdstanpy - INFO - CmdStan start processing\n"
     ]
    },
    {
     "name": "stdout",
     "output_type": "stream",
     "text": [
      "\n"
     ]
    },
    {
     "data": {
      "application/vnd.jupyter.widget-view+json": {
       "model_id": "f49d76eb9e8a4cf5b86755b2a44aaf80",
       "version_major": 2,
       "version_minor": 0
      },
      "text/plain": [
       "chain 1 |          | 00:00 Status"
      ]
     },
     "metadata": {},
     "output_type": "display_data"
    },
    {
     "data": {
      "application/vnd.jupyter.widget-view+json": {
       "model_id": "fe2ed2aee4fe4288b9c57c256a73db8d",
       "version_major": 2,
       "version_minor": 0
      },
      "text/plain": [
       "chain 2 |          | 00:00 Status"
      ]
     },
     "metadata": {},
     "output_type": "display_data"
    },
    {
     "data": {
      "application/vnd.jupyter.widget-view+json": {
       "model_id": "43965e44796d481cba7403b9b5451a8b",
       "version_major": 2,
       "version_minor": 0
      },
      "text/plain": [
       "chain 3 |          | 00:00 Status"
      ]
     },
     "metadata": {},
     "output_type": "display_data"
    },
    {
     "data": {
      "application/vnd.jupyter.widget-view+json": {
       "model_id": "4d24710658b646689a1d5e1cd369cf03",
       "version_major": 2,
       "version_minor": 0
      },
      "text/plain": [
       "chain 4 |          | 00:00 Status"
      ]
     },
     "metadata": {},
     "output_type": "display_data"
    },
    {
     "name": "stdout",
     "output_type": "stream",
     "text": [
      "                                                                                                                                                                                                                                                                                                                                "
     ]
    },
    {
     "name": "stderr",
     "output_type": "stream",
     "text": [
      "03:20:06 - cmdstanpy - INFO - CmdStan done processing.\n",
      "03:20:06 - cmdstanpy - INFO - CmdStan start processing\n"
     ]
    },
    {
     "name": "stdout",
     "output_type": "stream",
     "text": [
      "\n"
     ]
    },
    {
     "data": {
      "application/vnd.jupyter.widget-view+json": {
       "model_id": "753cbc01e8154a1ca0d37ae4dd68e6b5",
       "version_major": 2,
       "version_minor": 0
      },
      "text/plain": [
       "chain 1 |          | 00:00 Status"
      ]
     },
     "metadata": {},
     "output_type": "display_data"
    },
    {
     "data": {
      "application/vnd.jupyter.widget-view+json": {
       "model_id": "38e0a6162bbc4b9dbf9bc23a7d3ded92",
       "version_major": 2,
       "version_minor": 0
      },
      "text/plain": [
       "chain 2 |          | 00:00 Status"
      ]
     },
     "metadata": {},
     "output_type": "display_data"
    },
    {
     "data": {
      "application/vnd.jupyter.widget-view+json": {
       "model_id": "552280aca7dd4f9eb05f3d19645d37db",
       "version_major": 2,
       "version_minor": 0
      },
      "text/plain": [
       "chain 3 |          | 00:00 Status"
      ]
     },
     "metadata": {},
     "output_type": "display_data"
    },
    {
     "data": {
      "application/vnd.jupyter.widget-view+json": {
       "model_id": "f1bea990c2164da494b1622040866822",
       "version_major": 2,
       "version_minor": 0
      },
      "text/plain": [
       "chain 4 |          | 00:00 Status"
      ]
     },
     "metadata": {},
     "output_type": "display_data"
    },
    {
     "name": "stdout",
     "output_type": "stream",
     "text": [
      "                                                                                                                                                                                                                                                                                                                                "
     ]
    },
    {
     "name": "stderr",
     "output_type": "stream",
     "text": [
      "03:20:07 - cmdstanpy - INFO - CmdStan done processing.\n",
      "03:20:07 - cmdstanpy - INFO - CmdStan start processing\n"
     ]
    },
    {
     "name": "stdout",
     "output_type": "stream",
     "text": [
      "\n"
     ]
    },
    {
     "data": {
      "application/vnd.jupyter.widget-view+json": {
       "model_id": "5447ed2a7b78431a8bfe739ff27ac29f",
       "version_major": 2,
       "version_minor": 0
      },
      "text/plain": [
       "chain 1 |          | 00:00 Status"
      ]
     },
     "metadata": {},
     "output_type": "display_data"
    },
    {
     "data": {
      "application/vnd.jupyter.widget-view+json": {
       "model_id": "639a4882640e4a3a982c58265ddcedf4",
       "version_major": 2,
       "version_minor": 0
      },
      "text/plain": [
       "chain 2 |          | 00:00 Status"
      ]
     },
     "metadata": {},
     "output_type": "display_data"
    },
    {
     "data": {
      "application/vnd.jupyter.widget-view+json": {
       "model_id": "77d3db6d2be0408ab60e997b2065bf31",
       "version_major": 2,
       "version_minor": 0
      },
      "text/plain": [
       "chain 3 |          | 00:00 Status"
      ]
     },
     "metadata": {},
     "output_type": "display_data"
    },
    {
     "data": {
      "application/vnd.jupyter.widget-view+json": {
       "model_id": "3b0e75dcf4094f07b715286e98750ff2",
       "version_major": 2,
       "version_minor": 0
      },
      "text/plain": [
       "chain 4 |          | 00:00 Status"
      ]
     },
     "metadata": {},
     "output_type": "display_data"
    },
    {
     "name": "stdout",
     "output_type": "stream",
     "text": [
      "                                                                                                                                                                                                                                                                                                                                "
     ]
    },
    {
     "name": "stderr",
     "output_type": "stream",
     "text": [
      "03:20:07 - cmdstanpy - INFO - CmdStan done processing.\n",
      "03:20:07 - cmdstanpy - WARNING - Some chains may have failed to converge.\n",
      "\tChain 2 had 4 divergent transitions (0.4%)\n",
      "\tUse function \"diagnose()\" to see further information.\n",
      "03:20:07 - cmdstanpy - INFO - CmdStan start processing\n"
     ]
    },
    {
     "name": "stdout",
     "output_type": "stream",
     "text": [
      "\n"
     ]
    },
    {
     "data": {
      "application/vnd.jupyter.widget-view+json": {
       "model_id": "42cfdd687e934928b5cd0af127969e3d",
       "version_major": 2,
       "version_minor": 0
      },
      "text/plain": [
       "chain 1 |          | 00:00 Status"
      ]
     },
     "metadata": {},
     "output_type": "display_data"
    },
    {
     "data": {
      "application/vnd.jupyter.widget-view+json": {
       "model_id": "728f6cb20af445d9a8c44063e98a8ae4",
       "version_major": 2,
       "version_minor": 0
      },
      "text/plain": [
       "chain 2 |          | 00:00 Status"
      ]
     },
     "metadata": {},
     "output_type": "display_data"
    },
    {
     "data": {
      "application/vnd.jupyter.widget-view+json": {
       "model_id": "ac16502a0a5c4e8399a0dc6d8f73817e",
       "version_major": 2,
       "version_minor": 0
      },
      "text/plain": [
       "chain 3 |          | 00:00 Status"
      ]
     },
     "metadata": {},
     "output_type": "display_data"
    },
    {
     "data": {
      "application/vnd.jupyter.widget-view+json": {
       "model_id": "1577bae71c774809b13a46d15d784be0",
       "version_major": 2,
       "version_minor": 0
      },
      "text/plain": [
       "chain 4 |          | 00:00 Status"
      ]
     },
     "metadata": {},
     "output_type": "display_data"
    },
    {
     "name": "stdout",
     "output_type": "stream",
     "text": [
      "                                                                                                                                                                                                                                                                                                                                "
     ]
    },
    {
     "name": "stderr",
     "output_type": "stream",
     "text": [
      "03:20:08 - cmdstanpy - INFO - CmdStan done processing.\n",
      "03:20:08 - cmdstanpy - WARNING - Some chains may have failed to converge.\n",
      "\tChain 1 had 1 divergent transitions (0.1%)\n",
      "\tChain 4 had 8 divergent transitions (0.8%)\n",
      "\tUse function \"diagnose()\" to see further information.\n",
      "03:20:08 - cmdstanpy - INFO - CmdStan start processing\n"
     ]
    },
    {
     "name": "stdout",
     "output_type": "stream",
     "text": [
      "\n"
     ]
    },
    {
     "data": {
      "application/vnd.jupyter.widget-view+json": {
       "model_id": "f16831f05bb641358e25865645b3608c",
       "version_major": 2,
       "version_minor": 0
      },
      "text/plain": [
       "chain 1 |          | 00:00 Status"
      ]
     },
     "metadata": {},
     "output_type": "display_data"
    },
    {
     "data": {
      "application/vnd.jupyter.widget-view+json": {
       "model_id": "8468be97d59543b09913ed77d6ccd16b",
       "version_major": 2,
       "version_minor": 0
      },
      "text/plain": [
       "chain 2 |          | 00:00 Status"
      ]
     },
     "metadata": {},
     "output_type": "display_data"
    },
    {
     "data": {
      "application/vnd.jupyter.widget-view+json": {
       "model_id": "39eb6b592a694def87872ca3a521567b",
       "version_major": 2,
       "version_minor": 0
      },
      "text/plain": [
       "chain 3 |          | 00:00 Status"
      ]
     },
     "metadata": {},
     "output_type": "display_data"
    },
    {
     "data": {
      "application/vnd.jupyter.widget-view+json": {
       "model_id": "e99cb5d1ec7045b0bc0cc643c4703c5f",
       "version_major": 2,
       "version_minor": 0
      },
      "text/plain": [
       "chain 4 |          | 00:00 Status"
      ]
     },
     "metadata": {},
     "output_type": "display_data"
    },
    {
     "name": "stdout",
     "output_type": "stream",
     "text": [
      "                                                                                                                                                                                                                                                                                                                                "
     ]
    },
    {
     "name": "stderr",
     "output_type": "stream",
     "text": [
      "03:20:08 - cmdstanpy - INFO - CmdStan done processing.\n",
      "03:20:08 - cmdstanpy - WARNING - Some chains may have failed to converge.\n",
      "\tChain 2 had 6 divergent transitions (0.6%)\n",
      "\tUse function \"diagnose()\" to see further information.\n",
      "03:20:08 - cmdstanpy - INFO - CmdStan start processing\n"
     ]
    },
    {
     "name": "stdout",
     "output_type": "stream",
     "text": [
      "\n"
     ]
    },
    {
     "data": {
      "application/vnd.jupyter.widget-view+json": {
       "model_id": "61bd2d36851347c2aac4ca9deafc0e4d",
       "version_major": 2,
       "version_minor": 0
      },
      "text/plain": [
       "chain 1 |          | 00:00 Status"
      ]
     },
     "metadata": {},
     "output_type": "display_data"
    },
    {
     "data": {
      "application/vnd.jupyter.widget-view+json": {
       "model_id": "7b1c484784f9457eaa73b1179ef7da19",
       "version_major": 2,
       "version_minor": 0
      },
      "text/plain": [
       "chain 2 |          | 00:00 Status"
      ]
     },
     "metadata": {},
     "output_type": "display_data"
    },
    {
     "data": {
      "application/vnd.jupyter.widget-view+json": {
       "model_id": "2862ad0dd0c941de94f09f7406ead734",
       "version_major": 2,
       "version_minor": 0
      },
      "text/plain": [
       "chain 3 |          | 00:00 Status"
      ]
     },
     "metadata": {},
     "output_type": "display_data"
    },
    {
     "data": {
      "application/vnd.jupyter.widget-view+json": {
       "model_id": "b39e2e4545ac4c8689c87c61144aa63f",
       "version_major": 2,
       "version_minor": 0
      },
      "text/plain": [
       "chain 4 |          | 00:00 Status"
      ]
     },
     "metadata": {},
     "output_type": "display_data"
    },
    {
     "name": "stdout",
     "output_type": "stream",
     "text": [
      "                                                                                                                                                                                                                                                                                                                                "
     ]
    },
    {
     "name": "stderr",
     "output_type": "stream",
     "text": [
      "03:20:09 - cmdstanpy - INFO - CmdStan done processing.\n",
      "03:20:09 - cmdstanpy - INFO - CmdStan start processing\n"
     ]
    },
    {
     "name": "stdout",
     "output_type": "stream",
     "text": [
      "\n"
     ]
    },
    {
     "data": {
      "application/vnd.jupyter.widget-view+json": {
       "model_id": "f549d60897b441e2ac19e77332a67428",
       "version_major": 2,
       "version_minor": 0
      },
      "text/plain": [
       "chain 1 |          | 00:00 Status"
      ]
     },
     "metadata": {},
     "output_type": "display_data"
    },
    {
     "data": {
      "application/vnd.jupyter.widget-view+json": {
       "model_id": "92b9788b84694534a644dc07c0fd0028",
       "version_major": 2,
       "version_minor": 0
      },
      "text/plain": [
       "chain 2 |          | 00:00 Status"
      ]
     },
     "metadata": {},
     "output_type": "display_data"
    },
    {
     "data": {
      "application/vnd.jupyter.widget-view+json": {
       "model_id": "ee28867f2eab4b62afe98dd464537ab0",
       "version_major": 2,
       "version_minor": 0
      },
      "text/plain": [
       "chain 3 |          | 00:00 Status"
      ]
     },
     "metadata": {},
     "output_type": "display_data"
    },
    {
     "data": {
      "application/vnd.jupyter.widget-view+json": {
       "model_id": "5200ededa53f4444bf88801e0a3d7659",
       "version_major": 2,
       "version_minor": 0
      },
      "text/plain": [
       "chain 4 |          | 00:00 Status"
      ]
     },
     "metadata": {},
     "output_type": "display_data"
    },
    {
     "name": "stdout",
     "output_type": "stream",
     "text": [
      "                                                                                                                                                                                                                                                                                                                                "
     ]
    },
    {
     "name": "stderr",
     "output_type": "stream",
     "text": [
      "03:20:09 - cmdstanpy - INFO - CmdStan done processing.\n",
      "03:20:09 - cmdstanpy - WARNING - Some chains may have failed to converge.\n",
      "\tChain 4 had 2 divergent transitions (0.2%)\n",
      "\tUse function \"diagnose()\" to see further information.\n",
      "03:20:09 - cmdstanpy - INFO - CmdStan start processing\n"
     ]
    },
    {
     "name": "stdout",
     "output_type": "stream",
     "text": [
      "\n"
     ]
    },
    {
     "data": {
      "application/vnd.jupyter.widget-view+json": {
       "model_id": "cf937b7ea70b4ade8be07ba8ffc3ae9a",
       "version_major": 2,
       "version_minor": 0
      },
      "text/plain": [
       "chain 1 |          | 00:00 Status"
      ]
     },
     "metadata": {},
     "output_type": "display_data"
    },
    {
     "data": {
      "application/vnd.jupyter.widget-view+json": {
       "model_id": "ddf16ef58b104563b575b45a554b0fff",
       "version_major": 2,
       "version_minor": 0
      },
      "text/plain": [
       "chain 2 |          | 00:00 Status"
      ]
     },
     "metadata": {},
     "output_type": "display_data"
    },
    {
     "data": {
      "application/vnd.jupyter.widget-view+json": {
       "model_id": "ba6563d621ac4b9db40173434b44549a",
       "version_major": 2,
       "version_minor": 0
      },
      "text/plain": [
       "chain 3 |          | 00:00 Status"
      ]
     },
     "metadata": {},
     "output_type": "display_data"
    },
    {
     "data": {
      "application/vnd.jupyter.widget-view+json": {
       "model_id": "87663a265bb148c98f714d104d4a7162",
       "version_major": 2,
       "version_minor": 0
      },
      "text/plain": [
       "chain 4 |          | 00:00 Status"
      ]
     },
     "metadata": {},
     "output_type": "display_data"
    },
    {
     "name": "stdout",
     "output_type": "stream",
     "text": [
      "                                                                                                                                                                                                                                                                                                                                "
     ]
    },
    {
     "name": "stderr",
     "output_type": "stream",
     "text": [
      "03:20:10 - cmdstanpy - INFO - CmdStan done processing.\n",
      "03:20:10 - cmdstanpy - INFO - CmdStan start processing\n"
     ]
    },
    {
     "name": "stdout",
     "output_type": "stream",
     "text": [
      "\n"
     ]
    },
    {
     "data": {
      "application/vnd.jupyter.widget-view+json": {
       "model_id": "624901b563874946add88f80de461eb0",
       "version_major": 2,
       "version_minor": 0
      },
      "text/plain": [
       "chain 1 |          | 00:00 Status"
      ]
     },
     "metadata": {},
     "output_type": "display_data"
    },
    {
     "data": {
      "application/vnd.jupyter.widget-view+json": {
       "model_id": "a4474736030746b99bf037eb0afb5e55",
       "version_major": 2,
       "version_minor": 0
      },
      "text/plain": [
       "chain 2 |          | 00:00 Status"
      ]
     },
     "metadata": {},
     "output_type": "display_data"
    },
    {
     "data": {
      "application/vnd.jupyter.widget-view+json": {
       "model_id": "4791f802a79048b587ff9e8eaf5790c7",
       "version_major": 2,
       "version_minor": 0
      },
      "text/plain": [
       "chain 3 |          | 00:00 Status"
      ]
     },
     "metadata": {},
     "output_type": "display_data"
    },
    {
     "data": {
      "application/vnd.jupyter.widget-view+json": {
       "model_id": "052d11615a11431f9dec15a7e5dea3b2",
       "version_major": 2,
       "version_minor": 0
      },
      "text/plain": [
       "chain 4 |          | 00:00 Status"
      ]
     },
     "metadata": {},
     "output_type": "display_data"
    },
    {
     "name": "stdout",
     "output_type": "stream",
     "text": [
      "                                                                                                                                                                                                                                                                                                                                "
     ]
    },
    {
     "name": "stderr",
     "output_type": "stream",
     "text": [
      "03:20:10 - cmdstanpy - INFO - CmdStan done processing.\n",
      "03:20:10 - cmdstanpy - INFO - CmdStan start processing\n"
     ]
    },
    {
     "name": "stdout",
     "output_type": "stream",
     "text": [
      "\n"
     ]
    },
    {
     "data": {
      "application/vnd.jupyter.widget-view+json": {
       "model_id": "ade98517a73743979ad52275183eabd6",
       "version_major": 2,
       "version_minor": 0
      },
      "text/plain": [
       "chain 1 |          | 00:00 Status"
      ]
     },
     "metadata": {},
     "output_type": "display_data"
    },
    {
     "data": {
      "application/vnd.jupyter.widget-view+json": {
       "model_id": "55e7c2b9b8804498b034712c171de45d",
       "version_major": 2,
       "version_minor": 0
      },
      "text/plain": [
       "chain 2 |          | 00:00 Status"
      ]
     },
     "metadata": {},
     "output_type": "display_data"
    },
    {
     "data": {
      "application/vnd.jupyter.widget-view+json": {
       "model_id": "5a346c984020460cad1b4be35dd9300f",
       "version_major": 2,
       "version_minor": 0
      },
      "text/plain": [
       "chain 3 |          | 00:00 Status"
      ]
     },
     "metadata": {},
     "output_type": "display_data"
    },
    {
     "data": {
      "application/vnd.jupyter.widget-view+json": {
       "model_id": "480f49f8b7564f09a811d6da770545c9",
       "version_major": 2,
       "version_minor": 0
      },
      "text/plain": [
       "chain 4 |          | 00:00 Status"
      ]
     },
     "metadata": {},
     "output_type": "display_data"
    },
    {
     "name": "stdout",
     "output_type": "stream",
     "text": [
      "                                                                                                                                                                                                                                                                                                                                "
     ]
    },
    {
     "name": "stderr",
     "output_type": "stream",
     "text": [
      "03:20:11 - cmdstanpy - INFO - CmdStan done processing.\n",
      "03:20:11 - cmdstanpy - WARNING - Some chains may have failed to converge.\n",
      "\tChain 1 had 3 divergent transitions (0.3%)\n",
      "\tUse function \"diagnose()\" to see further information.\n",
      "03:20:11 - cmdstanpy - INFO - CmdStan start processing\n"
     ]
    },
    {
     "name": "stdout",
     "output_type": "stream",
     "text": [
      "\n"
     ]
    },
    {
     "data": {
      "application/vnd.jupyter.widget-view+json": {
       "model_id": "ace2eab7023843fa914ae757e72d64e7",
       "version_major": 2,
       "version_minor": 0
      },
      "text/plain": [
       "chain 1 |          | 00:00 Status"
      ]
     },
     "metadata": {},
     "output_type": "display_data"
    },
    {
     "data": {
      "application/vnd.jupyter.widget-view+json": {
       "model_id": "7f7d3e93204f44bebd72d525a58cc297",
       "version_major": 2,
       "version_minor": 0
      },
      "text/plain": [
       "chain 2 |          | 00:00 Status"
      ]
     },
     "metadata": {},
     "output_type": "display_data"
    },
    {
     "data": {
      "application/vnd.jupyter.widget-view+json": {
       "model_id": "0871ea81b666499ead628f877b7fe4d2",
       "version_major": 2,
       "version_minor": 0
      },
      "text/plain": [
       "chain 3 |          | 00:00 Status"
      ]
     },
     "metadata": {},
     "output_type": "display_data"
    },
    {
     "data": {
      "application/vnd.jupyter.widget-view+json": {
       "model_id": "178c4f409fc64562adb82c708d5195c6",
       "version_major": 2,
       "version_minor": 0
      },
      "text/plain": [
       "chain 4 |          | 00:00 Status"
      ]
     },
     "metadata": {},
     "output_type": "display_data"
    },
    {
     "name": "stdout",
     "output_type": "stream",
     "text": [
      "                                                                                                                                                                                                                                                                                                                                "
     ]
    },
    {
     "name": "stderr",
     "output_type": "stream",
     "text": [
      "03:20:11 - cmdstanpy - INFO - CmdStan done processing.\n",
      "03:20:11 - cmdstanpy - WARNING - Some chains may have failed to converge.\n",
      "\tChain 2 had 1 divergent transitions (0.1%)\n",
      "\tChain 3 had 1 divergent transitions (0.1%)\n",
      "\tUse function \"diagnose()\" to see further information.\n",
      "03:20:11 - cmdstanpy - INFO - CmdStan start processing\n"
     ]
    },
    {
     "name": "stdout",
     "output_type": "stream",
     "text": [
      "\n"
     ]
    },
    {
     "data": {
      "application/vnd.jupyter.widget-view+json": {
       "model_id": "977f4110eb5a439a876b74f727b3fa14",
       "version_major": 2,
       "version_minor": 0
      },
      "text/plain": [
       "chain 1 |          | 00:00 Status"
      ]
     },
     "metadata": {},
     "output_type": "display_data"
    },
    {
     "data": {
      "application/vnd.jupyter.widget-view+json": {
       "model_id": "dafce8be65d84452a4e6f507ed6628fa",
       "version_major": 2,
       "version_minor": 0
      },
      "text/plain": [
       "chain 2 |          | 00:00 Status"
      ]
     },
     "metadata": {},
     "output_type": "display_data"
    },
    {
     "data": {
      "application/vnd.jupyter.widget-view+json": {
       "model_id": "47889ccb4aaf431e9fae047dbc541091",
       "version_major": 2,
       "version_minor": 0
      },
      "text/plain": [
       "chain 3 |          | 00:00 Status"
      ]
     },
     "metadata": {},
     "output_type": "display_data"
    },
    {
     "data": {
      "application/vnd.jupyter.widget-view+json": {
       "model_id": "de08fbeea2b84ac5b605c75b82281928",
       "version_major": 2,
       "version_minor": 0
      },
      "text/plain": [
       "chain 4 |          | 00:00 Status"
      ]
     },
     "metadata": {},
     "output_type": "display_data"
    },
    {
     "name": "stdout",
     "output_type": "stream",
     "text": [
      "                                                                                                                                                                                                                                                                                                                                "
     ]
    },
    {
     "name": "stderr",
     "output_type": "stream",
     "text": [
      "03:20:12 - cmdstanpy - INFO - CmdStan done processing.\n",
      "03:20:12 - cmdstanpy - WARNING - Non-fatal error during sampling:\n",
      "Exception: normal_lpdf: Scale parameter is 0, but must be positive! (in '/home/oriol/Public/arviz/doc/source/user_guide/wrappers/linreg_model.stan', line 27, column 2 to column 64)\n",
      "\tException: normal_lpdf: Scale parameter is 0, but must be positive! (in '/home/oriol/Public/arviz/doc/source/user_guide/wrappers/linreg_model.stan', line 27, column 2 to column 64)\n",
      "Consider re-running with show_console=True if the above output is unclear!\n",
      "03:20:12 - cmdstanpy - INFO - CmdStan start processing\n"
     ]
    },
    {
     "name": "stdout",
     "output_type": "stream",
     "text": [
      "\n"
     ]
    },
    {
     "data": {
      "application/vnd.jupyter.widget-view+json": {
       "model_id": "2fb681ebddae45779c7a935fd721466f",
       "version_major": 2,
       "version_minor": 0
      },
      "text/plain": [
       "chain 1 |          | 00:00 Status"
      ]
     },
     "metadata": {},
     "output_type": "display_data"
    },
    {
     "data": {
      "application/vnd.jupyter.widget-view+json": {
       "model_id": "62d38f7710444ae3b51c593c781d9565",
       "version_major": 2,
       "version_minor": 0
      },
      "text/plain": [
       "chain 2 |          | 00:00 Status"
      ]
     },
     "metadata": {},
     "output_type": "display_data"
    },
    {
     "data": {
      "application/vnd.jupyter.widget-view+json": {
       "model_id": "33fe9aa6b31c42e381f2589574cb4943",
       "version_major": 2,
       "version_minor": 0
      },
      "text/plain": [
       "chain 3 |          | 00:00 Status"
      ]
     },
     "metadata": {},
     "output_type": "display_data"
    },
    {
     "data": {
      "application/vnd.jupyter.widget-view+json": {
       "model_id": "5514addba07c4835badd4e664e8db9ef",
       "version_major": 2,
       "version_minor": 0
      },
      "text/plain": [
       "chain 4 |          | 00:00 Status"
      ]
     },
     "metadata": {},
     "output_type": "display_data"
    },
    {
     "name": "stdout",
     "output_type": "stream",
     "text": [
      "                                                                                                                                                                                                                                                                                                                                "
     ]
    },
    {
     "name": "stderr",
     "output_type": "stream",
     "text": [
      "03:20:12 - cmdstanpy - INFO - CmdStan done processing.\n",
      "03:20:12 - cmdstanpy - WARNING - Some chains may have failed to converge.\n",
      "\tChain 3 had 2 divergent transitions (0.2%)\n",
      "\tUse function \"diagnose()\" to see further information.\n",
      "03:20:12 - cmdstanpy - INFO - CmdStan start processing\n"
     ]
    },
    {
     "name": "stdout",
     "output_type": "stream",
     "text": [
      "\n"
     ]
    },
    {
     "data": {
      "application/vnd.jupyter.widget-view+json": {
       "model_id": "f2aa1268363a49b7bc2f656d61df7f94",
       "version_major": 2,
       "version_minor": 0
      },
      "text/plain": [
       "chain 1 |          | 00:00 Status"
      ]
     },
     "metadata": {},
     "output_type": "display_data"
    },
    {
     "data": {
      "application/vnd.jupyter.widget-view+json": {
       "model_id": "770b27476699451b94f750aa1225e4c4",
       "version_major": 2,
       "version_minor": 0
      },
      "text/plain": [
       "chain 2 |          | 00:00 Status"
      ]
     },
     "metadata": {},
     "output_type": "display_data"
    },
    {
     "data": {
      "application/vnd.jupyter.widget-view+json": {
       "model_id": "737cfe3c71f041a589dc577de0385f94",
       "version_major": 2,
       "version_minor": 0
      },
      "text/plain": [
       "chain 3 |          | 00:00 Status"
      ]
     },
     "metadata": {},
     "output_type": "display_data"
    },
    {
     "data": {
      "application/vnd.jupyter.widget-view+json": {
       "model_id": "9b06cfd97b3c45bf8569077ef363dad5",
       "version_major": 2,
       "version_minor": 0
      },
      "text/plain": [
       "chain 4 |          | 00:00 Status"
      ]
     },
     "metadata": {},
     "output_type": "display_data"
    },
    {
     "name": "stdout",
     "output_type": "stream",
     "text": [
      "                                                                                                                                                                                                                                                                                                                                "
     ]
    },
    {
     "name": "stderr",
     "output_type": "stream",
     "text": [
      "03:20:13 - cmdstanpy - INFO - CmdStan done processing.\n",
      "03:20:13 - cmdstanpy - INFO - CmdStan start processing\n"
     ]
    },
    {
     "name": "stdout",
     "output_type": "stream",
     "text": [
      "\n"
     ]
    },
    {
     "data": {
      "application/vnd.jupyter.widget-view+json": {
       "model_id": "4c2345fa5c574a6ebda0d3feedc9a540",
       "version_major": 2,
       "version_minor": 0
      },
      "text/plain": [
       "chain 1 |          | 00:00 Status"
      ]
     },
     "metadata": {},
     "output_type": "display_data"
    },
    {
     "data": {
      "application/vnd.jupyter.widget-view+json": {
       "model_id": "9fd8ad21a22c49a18e9a8ae523a5e087",
       "version_major": 2,
       "version_minor": 0
      },
      "text/plain": [
       "chain 2 |          | 00:00 Status"
      ]
     },
     "metadata": {},
     "output_type": "display_data"
    },
    {
     "data": {
      "application/vnd.jupyter.widget-view+json": {
       "model_id": "e2da1365f6104ba59c56631a2700559f",
       "version_major": 2,
       "version_minor": 0
      },
      "text/plain": [
       "chain 3 |          | 00:00 Status"
      ]
     },
     "metadata": {},
     "output_type": "display_data"
    },
    {
     "data": {
      "application/vnd.jupyter.widget-view+json": {
       "model_id": "6e63abc03e9c456daab63b1399c11ea2",
       "version_major": 2,
       "version_minor": 0
      },
      "text/plain": [
       "chain 4 |          | 00:00 Status"
      ]
     },
     "metadata": {},
     "output_type": "display_data"
    },
    {
     "name": "stdout",
     "output_type": "stream",
     "text": [
      "                                                                                                                                                                                                                                                                                                                                "
     ]
    },
    {
     "name": "stderr",
     "output_type": "stream",
     "text": [
      "03:20:13 - cmdstanpy - INFO - CmdStan done processing.\n",
      "03:20:13 - cmdstanpy - INFO - CmdStan start processing\n"
     ]
    },
    {
     "name": "stdout",
     "output_type": "stream",
     "text": [
      "\n"
     ]
    },
    {
     "data": {
      "application/vnd.jupyter.widget-view+json": {
       "model_id": "d28290f924294a0fb7e501f964dd9745",
       "version_major": 2,
       "version_minor": 0
      },
      "text/plain": [
       "chain 1 |          | 00:00 Status"
      ]
     },
     "metadata": {},
     "output_type": "display_data"
    },
    {
     "data": {
      "application/vnd.jupyter.widget-view+json": {
       "model_id": "8411c0b005be41d5ba6180647d4415c3",
       "version_major": 2,
       "version_minor": 0
      },
      "text/plain": [
       "chain 2 |          | 00:00 Status"
      ]
     },
     "metadata": {},
     "output_type": "display_data"
    },
    {
     "data": {
      "application/vnd.jupyter.widget-view+json": {
       "model_id": "ee5048ed2a814e0b968da72fb031078a",
       "version_major": 2,
       "version_minor": 0
      },
      "text/plain": [
       "chain 3 |          | 00:00 Status"
      ]
     },
     "metadata": {},
     "output_type": "display_data"
    },
    {
     "data": {
      "application/vnd.jupyter.widget-view+json": {
       "model_id": "75b41b8c856e4555b57e528abe84c8bb",
       "version_major": 2,
       "version_minor": 0
      },
      "text/plain": [
       "chain 4 |          | 00:00 Status"
      ]
     },
     "metadata": {},
     "output_type": "display_data"
    },
    {
     "name": "stdout",
     "output_type": "stream",
     "text": [
      "                                                                                                                                                                                                                                                                                                                                "
     ]
    },
    {
     "name": "stderr",
     "output_type": "stream",
     "text": [
      "03:20:14 - cmdstanpy - INFO - CmdStan done processing.\n",
      "03:20:14 - cmdstanpy - WARNING - Some chains may have failed to converge.\n",
      "\tChain 3 had 1 divergent transitions (0.1%)\n",
      "\tUse function \"diagnose()\" to see further information.\n",
      "03:20:14 - cmdstanpy - INFO - CmdStan start processing\n"
     ]
    },
    {
     "name": "stdout",
     "output_type": "stream",
     "text": [
      "\n"
     ]
    },
    {
     "data": {
      "application/vnd.jupyter.widget-view+json": {
       "model_id": "a88f745f72c246a19f5bbff282660dcc",
       "version_major": 2,
       "version_minor": 0
      },
      "text/plain": [
       "chain 1 |          | 00:00 Status"
      ]
     },
     "metadata": {},
     "output_type": "display_data"
    },
    {
     "data": {
      "application/vnd.jupyter.widget-view+json": {
       "model_id": "b43a2a7f13cd489d9882e665bb96b337",
       "version_major": 2,
       "version_minor": 0
      },
      "text/plain": [
       "chain 2 |          | 00:00 Status"
      ]
     },
     "metadata": {},
     "output_type": "display_data"
    },
    {
     "data": {
      "application/vnd.jupyter.widget-view+json": {
       "model_id": "1c85d2abcd1240bfa8f4677bc088d35d",
       "version_major": 2,
       "version_minor": 0
      },
      "text/plain": [
       "chain 3 |          | 00:00 Status"
      ]
     },
     "metadata": {},
     "output_type": "display_data"
    },
    {
     "data": {
      "application/vnd.jupyter.widget-view+json": {
       "model_id": "ae3a3def826e4ecfb61faa2f7b2582b7",
       "version_major": 2,
       "version_minor": 0
      },
      "text/plain": [
       "chain 4 |          | 00:00 Status"
      ]
     },
     "metadata": {},
     "output_type": "display_data"
    },
    {
     "name": "stdout",
     "output_type": "stream",
     "text": [
      "                                                                                                                                                                                                                                                                                                                                "
     ]
    },
    {
     "name": "stderr",
     "output_type": "stream",
     "text": [
      "03:20:14 - cmdstanpy - INFO - CmdStan done processing.\n",
      "03:20:14 - cmdstanpy - WARNING - Non-fatal error during sampling:\n",
      "Exception: normal_lpdf: Scale parameter is 0, but must be positive! (in '/home/oriol/Public/arviz/doc/source/user_guide/wrappers/linreg_model.stan', line 27, column 2 to column 64)\n",
      "\tException: normal_lpdf: Scale parameter is 0, but must be positive! (in '/home/oriol/Public/arviz/doc/source/user_guide/wrappers/linreg_model.stan', line 27, column 2 to column 64)\n",
      "\tException: normal_lpdf: Scale parameter is 0, but must be positive! (in '/home/oriol/Public/arviz/doc/source/user_guide/wrappers/linreg_model.stan', line 27, column 2 to column 64)\n",
      "Consider re-running with show_console=True if the above output is unclear!\n",
      "03:20:14 - cmdstanpy - WARNING - Some chains may have failed to converge.\n",
      "\tChain 1 had 1 divergent transitions (0.1%)\n",
      "\tUse function \"diagnose()\" to see further information.\n",
      "03:20:14 - cmdstanpy - INFO - CmdStan start processing\n"
     ]
    },
    {
     "name": "stdout",
     "output_type": "stream",
     "text": [
      "\n"
     ]
    },
    {
     "data": {
      "application/vnd.jupyter.widget-view+json": {
       "model_id": "74224589c32d48e7a99dd45cb0b2bcea",
       "version_major": 2,
       "version_minor": 0
      },
      "text/plain": [
       "chain 1 |          | 00:00 Status"
      ]
     },
     "metadata": {},
     "output_type": "display_data"
    },
    {
     "data": {
      "application/vnd.jupyter.widget-view+json": {
       "model_id": "0c9a4cc7ef37494b80842e491dab8baf",
       "version_major": 2,
       "version_minor": 0
      },
      "text/plain": [
       "chain 2 |          | 00:00 Status"
      ]
     },
     "metadata": {},
     "output_type": "display_data"
    },
    {
     "data": {
      "application/vnd.jupyter.widget-view+json": {
       "model_id": "91bc71a0b56d4f82b1cd29f3f0f4475f",
       "version_major": 2,
       "version_minor": 0
      },
      "text/plain": [
       "chain 3 |          | 00:00 Status"
      ]
     },
     "metadata": {},
     "output_type": "display_data"
    },
    {
     "data": {
      "application/vnd.jupyter.widget-view+json": {
       "model_id": "e63797af2bc247c0ba1ea0533af9488a",
       "version_major": 2,
       "version_minor": 0
      },
      "text/plain": [
       "chain 4 |          | 00:00 Status"
      ]
     },
     "metadata": {},
     "output_type": "display_data"
    },
    {
     "name": "stdout",
     "output_type": "stream",
     "text": [
      "                                                                                                                                                                                                                                                                                                                                "
     ]
    },
    {
     "name": "stderr",
     "output_type": "stream",
     "text": [
      "03:20:15 - cmdstanpy - INFO - CmdStan done processing.\n",
      "03:20:15 - cmdstanpy - WARNING - Some chains may have failed to converge.\n",
      "\tChain 2 had 1 divergent transitions (0.1%)\n",
      "\tUse function \"diagnose()\" to see further information.\n",
      "03:20:15 - cmdstanpy - INFO - CmdStan start processing\n"
     ]
    },
    {
     "name": "stdout",
     "output_type": "stream",
     "text": [
      "\n"
     ]
    },
    {
     "data": {
      "application/vnd.jupyter.widget-view+json": {
       "model_id": "436267837a8f4159aeefd0ebd03d7ffd",
       "version_major": 2,
       "version_minor": 0
      },
      "text/plain": [
       "chain 1 |          | 00:00 Status"
      ]
     },
     "metadata": {},
     "output_type": "display_data"
    },
    {
     "data": {
      "application/vnd.jupyter.widget-view+json": {
       "model_id": "0de765894d0143ddbd6af8b825ea2b33",
       "version_major": 2,
       "version_minor": 0
      },
      "text/plain": [
       "chain 2 |          | 00:00 Status"
      ]
     },
     "metadata": {},
     "output_type": "display_data"
    },
    {
     "data": {
      "application/vnd.jupyter.widget-view+json": {
       "model_id": "cf0f61ee42974c59af79a4a3c249b064",
       "version_major": 2,
       "version_minor": 0
      },
      "text/plain": [
       "chain 3 |          | 00:00 Status"
      ]
     },
     "metadata": {},
     "output_type": "display_data"
    },
    {
     "data": {
      "application/vnd.jupyter.widget-view+json": {
       "model_id": "d8878a665d5040d886b6000183769f00",
       "version_major": 2,
       "version_minor": 0
      },
      "text/plain": [
       "chain 4 |          | 00:00 Status"
      ]
     },
     "metadata": {},
     "output_type": "display_data"
    },
    {
     "name": "stdout",
     "output_type": "stream",
     "text": [
      "                                                                                                                                                                                                                                                                                                                                "
     ]
    },
    {
     "name": "stderr",
     "output_type": "stream",
     "text": [
      "03:20:15 - cmdstanpy - INFO - CmdStan done processing.\n",
      "03:20:15 - cmdstanpy - INFO - CmdStan start processing\n"
     ]
    },
    {
     "name": "stdout",
     "output_type": "stream",
     "text": [
      "\n"
     ]
    },
    {
     "data": {
      "application/vnd.jupyter.widget-view+json": {
       "model_id": "3e9a099a295840f98529f41bb5a95dd9",
       "version_major": 2,
       "version_minor": 0
      },
      "text/plain": [
       "chain 1 |          | 00:00 Status"
      ]
     },
     "metadata": {},
     "output_type": "display_data"
    },
    {
     "data": {
      "application/vnd.jupyter.widget-view+json": {
       "model_id": "c3146e2577ab4e2f89ea141ee6eb6db1",
       "version_major": 2,
       "version_minor": 0
      },
      "text/plain": [
       "chain 2 |          | 00:00 Status"
      ]
     },
     "metadata": {},
     "output_type": "display_data"
    },
    {
     "data": {
      "application/vnd.jupyter.widget-view+json": {
       "model_id": "4f7360ebd78744fc8af6912d93a7c8ad",
       "version_major": 2,
       "version_minor": 0
      },
      "text/plain": [
       "chain 3 |          | 00:00 Status"
      ]
     },
     "metadata": {},
     "output_type": "display_data"
    },
    {
     "data": {
      "application/vnd.jupyter.widget-view+json": {
       "model_id": "7b2c6e6d783d4902bed889a5539bf7a0",
       "version_major": 2,
       "version_minor": 0
      },
      "text/plain": [
       "chain 4 |          | 00:00 Status"
      ]
     },
     "metadata": {},
     "output_type": "display_data"
    },
    {
     "name": "stdout",
     "output_type": "stream",
     "text": [
      "                                                                                                                                                                                                                                                                                                                                "
     ]
    },
    {
     "name": "stderr",
     "output_type": "stream",
     "text": [
      "03:20:16 - cmdstanpy - INFO - CmdStan done processing.\n",
      "03:20:16 - cmdstanpy - WARNING - Some chains may have failed to converge.\n",
      "\tChain 3 had 2 divergent transitions (0.2%)\n",
      "\tChain 4 had 9 divergent transitions (0.9%)\n",
      "\tUse function \"diagnose()\" to see further information.\n",
      "03:20:16 - cmdstanpy - INFO - CmdStan start processing\n"
     ]
    },
    {
     "name": "stdout",
     "output_type": "stream",
     "text": [
      "\n"
     ]
    },
    {
     "data": {
      "application/vnd.jupyter.widget-view+json": {
       "model_id": "c6be3a5fd61b474b83af3dc5def34d55",
       "version_major": 2,
       "version_minor": 0
      },
      "text/plain": [
       "chain 1 |          | 00:00 Status"
      ]
     },
     "metadata": {},
     "output_type": "display_data"
    },
    {
     "data": {
      "application/vnd.jupyter.widget-view+json": {
       "model_id": "d4952326f139456285f42a14831ee3f7",
       "version_major": 2,
       "version_minor": 0
      },
      "text/plain": [
       "chain 2 |          | 00:00 Status"
      ]
     },
     "metadata": {},
     "output_type": "display_data"
    },
    {
     "data": {
      "application/vnd.jupyter.widget-view+json": {
       "model_id": "d10025e44e9d47d7b49d409f9f86d112",
       "version_major": 2,
       "version_minor": 0
      },
      "text/plain": [
       "chain 3 |          | 00:00 Status"
      ]
     },
     "metadata": {},
     "output_type": "display_data"
    },
    {
     "data": {
      "application/vnd.jupyter.widget-view+json": {
       "model_id": "c79da274752f4b93bcd2efce2d9dc53a",
       "version_major": 2,
       "version_minor": 0
      },
      "text/plain": [
       "chain 4 |          | 00:00 Status"
      ]
     },
     "metadata": {},
     "output_type": "display_data"
    },
    {
     "name": "stdout",
     "output_type": "stream",
     "text": [
      "                                                                                                                                                                                                                                                                                                                                "
     ]
    },
    {
     "name": "stderr",
     "output_type": "stream",
     "text": [
      "03:20:16 - cmdstanpy - INFO - CmdStan done processing.\n",
      "03:20:17 - cmdstanpy - INFO - CmdStan start processing\n"
     ]
    },
    {
     "name": "stdout",
     "output_type": "stream",
     "text": [
      "\n"
     ]
    },
    {
     "data": {
      "application/vnd.jupyter.widget-view+json": {
       "model_id": "6eaf340230c54d6d9f1f48755fc94f6c",
       "version_major": 2,
       "version_minor": 0
      },
      "text/plain": [
       "chain 1 |          | 00:00 Status"
      ]
     },
     "metadata": {},
     "output_type": "display_data"
    },
    {
     "data": {
      "application/vnd.jupyter.widget-view+json": {
       "model_id": "fb24e8121dbc438da3d2ac2e7626b795",
       "version_major": 2,
       "version_minor": 0
      },
      "text/plain": [
       "chain 2 |          | 00:00 Status"
      ]
     },
     "metadata": {},
     "output_type": "display_data"
    },
    {
     "data": {
      "application/vnd.jupyter.widget-view+json": {
       "model_id": "7a16956b677940d4a162c2bec837901c",
       "version_major": 2,
       "version_minor": 0
      },
      "text/plain": [
       "chain 3 |          | 00:00 Status"
      ]
     },
     "metadata": {},
     "output_type": "display_data"
    },
    {
     "data": {
      "application/vnd.jupyter.widget-view+json": {
       "model_id": "479d4482bb794b898c03f919a3837532",
       "version_major": 2,
       "version_minor": 0
      },
      "text/plain": [
       "chain 4 |          | 00:00 Status"
      ]
     },
     "metadata": {},
     "output_type": "display_data"
    },
    {
     "name": "stdout",
     "output_type": "stream",
     "text": [
      "                                                                                                                                                                                                                                                                                                                                "
     ]
    },
    {
     "name": "stderr",
     "output_type": "stream",
     "text": [
      "03:20:17 - cmdstanpy - INFO - CmdStan done processing.\n",
      "03:20:17 - cmdstanpy - WARNING - Some chains may have failed to converge.\n",
      "\tChain 1 had 7 divergent transitions (0.7%)\n",
      "\tUse function \"diagnose()\" to see further information.\n",
      "03:20:17 - cmdstanpy - INFO - CmdStan start processing\n"
     ]
    },
    {
     "name": "stdout",
     "output_type": "stream",
     "text": [
      "\n"
     ]
    },
    {
     "data": {
      "application/vnd.jupyter.widget-view+json": {
       "model_id": "8cdb13aa359942a7a3f89c5c928c7954",
       "version_major": 2,
       "version_minor": 0
      },
      "text/plain": [
       "chain 1 |          | 00:00 Status"
      ]
     },
     "metadata": {},
     "output_type": "display_data"
    },
    {
     "data": {
      "application/vnd.jupyter.widget-view+json": {
       "model_id": "900e6733b4b14a67935c20fc394638b8",
       "version_major": 2,
       "version_minor": 0
      },
      "text/plain": [
       "chain 2 |          | 00:00 Status"
      ]
     },
     "metadata": {},
     "output_type": "display_data"
    },
    {
     "data": {
      "application/vnd.jupyter.widget-view+json": {
       "model_id": "86c69e6181ec40a0a495303853c9a9c9",
       "version_major": 2,
       "version_minor": 0
      },
      "text/plain": [
       "chain 3 |          | 00:00 Status"
      ]
     },
     "metadata": {},
     "output_type": "display_data"
    },
    {
     "data": {
      "application/vnd.jupyter.widget-view+json": {
       "model_id": "2e2ecc5832cd4ccb8d318970e7410698",
       "version_major": 2,
       "version_minor": 0
      },
      "text/plain": [
       "chain 4 |          | 00:00 Status"
      ]
     },
     "metadata": {},
     "output_type": "display_data"
    },
    {
     "name": "stdout",
     "output_type": "stream",
     "text": [
      "                                                                                                                                                                                                                                                                                                                                "
     ]
    },
    {
     "name": "stderr",
     "output_type": "stream",
     "text": [
      "03:20:17 - cmdstanpy - INFO - CmdStan done processing.\n",
      "03:20:17 - cmdstanpy - INFO - CmdStan start processing\n"
     ]
    },
    {
     "name": "stdout",
     "output_type": "stream",
     "text": [
      "\n"
     ]
    },
    {
     "data": {
      "application/vnd.jupyter.widget-view+json": {
       "model_id": "cc7bdc6bd2294a2287150e748128f650",
       "version_major": 2,
       "version_minor": 0
      },
      "text/plain": [
       "chain 1 |          | 00:00 Status"
      ]
     },
     "metadata": {},
     "output_type": "display_data"
    },
    {
     "data": {
      "application/vnd.jupyter.widget-view+json": {
       "model_id": "cd316aba90ef4eeca3f01fab42990ff1",
       "version_major": 2,
       "version_minor": 0
      },
      "text/plain": [
       "chain 2 |          | 00:00 Status"
      ]
     },
     "metadata": {},
     "output_type": "display_data"
    },
    {
     "data": {
      "application/vnd.jupyter.widget-view+json": {
       "model_id": "bac7c5b076104c28a55f97eb3e157e2d",
       "version_major": 2,
       "version_minor": 0
      },
      "text/plain": [
       "chain 3 |          | 00:00 Status"
      ]
     },
     "metadata": {},
     "output_type": "display_data"
    },
    {
     "data": {
      "application/vnd.jupyter.widget-view+json": {
       "model_id": "d07605c64e37403c90b8178296fc681a",
       "version_major": 2,
       "version_minor": 0
      },
      "text/plain": [
       "chain 4 |          | 00:00 Status"
      ]
     },
     "metadata": {},
     "output_type": "display_data"
    },
    {
     "name": "stdout",
     "output_type": "stream",
     "text": [
      "                                                                                                                                                                                                                                                                                                                                "
     ]
    },
    {
     "name": "stderr",
     "output_type": "stream",
     "text": [
      "03:20:18 - cmdstanpy - INFO - CmdStan done processing.\n",
      "03:20:18 - cmdstanpy - INFO - CmdStan start processing\n"
     ]
    },
    {
     "name": "stdout",
     "output_type": "stream",
     "text": [
      "\n"
     ]
    },
    {
     "data": {
      "application/vnd.jupyter.widget-view+json": {
       "model_id": "2a2279dd7a4a43798d730e107bb04417",
       "version_major": 2,
       "version_minor": 0
      },
      "text/plain": [
       "chain 1 |          | 00:00 Status"
      ]
     },
     "metadata": {},
     "output_type": "display_data"
    },
    {
     "data": {
      "application/vnd.jupyter.widget-view+json": {
       "model_id": "94108862e3c2435cad5e02e59ab83a8d",
       "version_major": 2,
       "version_minor": 0
      },
      "text/plain": [
       "chain 2 |          | 00:00 Status"
      ]
     },
     "metadata": {},
     "output_type": "display_data"
    },
    {
     "data": {
      "application/vnd.jupyter.widget-view+json": {
       "model_id": "50db90dcc23b4b6e909602e7e7553428",
       "version_major": 2,
       "version_minor": 0
      },
      "text/plain": [
       "chain 3 |          | 00:00 Status"
      ]
     },
     "metadata": {},
     "output_type": "display_data"
    },
    {
     "data": {
      "application/vnd.jupyter.widget-view+json": {
       "model_id": "d239fe5b79e147039abd2b3150c70470",
       "version_major": 2,
       "version_minor": 0
      },
      "text/plain": [
       "chain 4 |          | 00:00 Status"
      ]
     },
     "metadata": {},
     "output_type": "display_data"
    },
    {
     "name": "stdout",
     "output_type": "stream",
     "text": [
      "                                                                                                                                                                                                                                                                                                                                "
     ]
    },
    {
     "name": "stderr",
     "output_type": "stream",
     "text": [
      "03:20:18 - cmdstanpy - INFO - CmdStan done processing.\n",
      "03:20:18 - cmdstanpy - WARNING - Some chains may have failed to converge.\n",
      "\tChain 2 had 4 divergent transitions (0.4%)\n",
      "\tUse function \"diagnose()\" to see further information.\n",
      "03:20:18 - cmdstanpy - INFO - CmdStan start processing\n"
     ]
    },
    {
     "name": "stdout",
     "output_type": "stream",
     "text": [
      "\n"
     ]
    },
    {
     "data": {
      "application/vnd.jupyter.widget-view+json": {
       "model_id": "496fed85fd6a4c3296beb96a283a5614",
       "version_major": 2,
       "version_minor": 0
      },
      "text/plain": [
       "chain 1 |          | 00:00 Status"
      ]
     },
     "metadata": {},
     "output_type": "display_data"
    },
    {
     "data": {
      "application/vnd.jupyter.widget-view+json": {
       "model_id": "8672a98733894351837455222b9b929f",
       "version_major": 2,
       "version_minor": 0
      },
      "text/plain": [
       "chain 2 |          | 00:00 Status"
      ]
     },
     "metadata": {},
     "output_type": "display_data"
    },
    {
     "data": {
      "application/vnd.jupyter.widget-view+json": {
       "model_id": "968aad697ae34f8c95c2c1fa46e909e8",
       "version_major": 2,
       "version_minor": 0
      },
      "text/plain": [
       "chain 3 |          | 00:00 Status"
      ]
     },
     "metadata": {},
     "output_type": "display_data"
    },
    {
     "data": {
      "application/vnd.jupyter.widget-view+json": {
       "model_id": "22bb0a3f1c524f9097ef9148488d5f48",
       "version_major": 2,
       "version_minor": 0
      },
      "text/plain": [
       "chain 4 |          | 00:00 Status"
      ]
     },
     "metadata": {},
     "output_type": "display_data"
    },
    {
     "name": "stdout",
     "output_type": "stream",
     "text": [
      "                                                                                                                                                                                                                                                                                                                                "
     ]
    },
    {
     "name": "stderr",
     "output_type": "stream",
     "text": [
      "03:20:19 - cmdstanpy - INFO - CmdStan done processing.\n",
      "03:20:19 - cmdstanpy - WARNING - Some chains may have failed to converge.\n",
      "\tChain 3 had 23 divergent transitions (2.3%)\n",
      "\tChain 4 had 3 divergent transitions (0.3%)\n",
      "\tUse function \"diagnose()\" to see further information.\n",
      "03:20:19 - cmdstanpy - INFO - CmdStan start processing\n"
     ]
    },
    {
     "name": "stdout",
     "output_type": "stream",
     "text": [
      "\n"
     ]
    },
    {
     "data": {
      "application/vnd.jupyter.widget-view+json": {
       "model_id": "13c428d33c2d411d8a7b0af3a31eea4e",
       "version_major": 2,
       "version_minor": 0
      },
      "text/plain": [
       "chain 1 |          | 00:00 Status"
      ]
     },
     "metadata": {},
     "output_type": "display_data"
    },
    {
     "data": {
      "application/vnd.jupyter.widget-view+json": {
       "model_id": "8f6a4b9f8b9b47149faa666871cc9106",
       "version_major": 2,
       "version_minor": 0
      },
      "text/plain": [
       "chain 2 |          | 00:00 Status"
      ]
     },
     "metadata": {},
     "output_type": "display_data"
    },
    {
     "data": {
      "application/vnd.jupyter.widget-view+json": {
       "model_id": "0ae830208d28461c9d4ed49c50be4d77",
       "version_major": 2,
       "version_minor": 0
      },
      "text/plain": [
       "chain 3 |          | 00:00 Status"
      ]
     },
     "metadata": {},
     "output_type": "display_data"
    },
    {
     "data": {
      "application/vnd.jupyter.widget-view+json": {
       "model_id": "c061118d166a445b8bc1dcd5c59a19b1",
       "version_major": 2,
       "version_minor": 0
      },
      "text/plain": [
       "chain 4 |          | 00:00 Status"
      ]
     },
     "metadata": {},
     "output_type": "display_data"
    },
    {
     "name": "stdout",
     "output_type": "stream",
     "text": [
      "                                                                                                                                                                                                                                                                                                                                "
     ]
    },
    {
     "name": "stderr",
     "output_type": "stream",
     "text": [
      "03:20:19 - cmdstanpy - INFO - CmdStan done processing.\n",
      "03:20:19 - cmdstanpy - WARNING - Some chains may have failed to converge.\n",
      "\tChain 3 had 2 divergent transitions (0.2%)\n",
      "\tUse function \"diagnose()\" to see further information.\n",
      "03:20:19 - cmdstanpy - INFO - CmdStan start processing\n"
     ]
    },
    {
     "name": "stdout",
     "output_type": "stream",
     "text": [
      "\n"
     ]
    },
    {
     "data": {
      "application/vnd.jupyter.widget-view+json": {
       "model_id": "a7fb3ec7fc054e90897f4d209beebd7b",
       "version_major": 2,
       "version_minor": 0
      },
      "text/plain": [
       "chain 1 |          | 00:00 Status"
      ]
     },
     "metadata": {},
     "output_type": "display_data"
    },
    {
     "data": {
      "application/vnd.jupyter.widget-view+json": {
       "model_id": "f64ae02866684d499cc58827c01fe8f2",
       "version_major": 2,
       "version_minor": 0
      },
      "text/plain": [
       "chain 2 |          | 00:00 Status"
      ]
     },
     "metadata": {},
     "output_type": "display_data"
    },
    {
     "data": {
      "application/vnd.jupyter.widget-view+json": {
       "model_id": "a1c8acad78094ad89a7f87f58604116c",
       "version_major": 2,
       "version_minor": 0
      },
      "text/plain": [
       "chain 3 |          | 00:00 Status"
      ]
     },
     "metadata": {},
     "output_type": "display_data"
    },
    {
     "data": {
      "application/vnd.jupyter.widget-view+json": {
       "model_id": "337e113deb434fd19e0d1fe657aa58d6",
       "version_major": 2,
       "version_minor": 0
      },
      "text/plain": [
       "chain 4 |          | 00:00 Status"
      ]
     },
     "metadata": {},
     "output_type": "display_data"
    },
    {
     "name": "stdout",
     "output_type": "stream",
     "text": [
      "                                                                                                                                                                                                                                                                                                                                "
     ]
    },
    {
     "name": "stderr",
     "output_type": "stream",
     "text": [
      "03:20:20 - cmdstanpy - INFO - CmdStan done processing.\n",
      "03:20:20 - cmdstanpy - WARNING - Some chains may have failed to converge.\n",
      "\tChain 1 had 3 divergent transitions (0.3%)\n",
      "\tChain 3 had 1 divergent transitions (0.1%)\n",
      "\tUse function \"diagnose()\" to see further information.\n",
      "03:20:20 - cmdstanpy - INFO - CmdStan start processing\n"
     ]
    },
    {
     "name": "stdout",
     "output_type": "stream",
     "text": [
      "\n"
     ]
    },
    {
     "data": {
      "application/vnd.jupyter.widget-view+json": {
       "model_id": "6347d695d8ad48cb9dc8c8b03844e2e2",
       "version_major": 2,
       "version_minor": 0
      },
      "text/plain": [
       "chain 1 |          | 00:00 Status"
      ]
     },
     "metadata": {},
     "output_type": "display_data"
    },
    {
     "data": {
      "application/vnd.jupyter.widget-view+json": {
       "model_id": "f3e10d5d7fe1473c9e1bdf542a35a9b6",
       "version_major": 2,
       "version_minor": 0
      },
      "text/plain": [
       "chain 2 |          | 00:00 Status"
      ]
     },
     "metadata": {},
     "output_type": "display_data"
    },
    {
     "data": {
      "application/vnd.jupyter.widget-view+json": {
       "model_id": "86da2a1ee98347db8b0935e01eecc214",
       "version_major": 2,
       "version_minor": 0
      },
      "text/plain": [
       "chain 3 |          | 00:00 Status"
      ]
     },
     "metadata": {},
     "output_type": "display_data"
    },
    {
     "data": {
      "application/vnd.jupyter.widget-view+json": {
       "model_id": "563e46cdfde74a76905b269af407e1be",
       "version_major": 2,
       "version_minor": 0
      },
      "text/plain": [
       "chain 4 |          | 00:00 Status"
      ]
     },
     "metadata": {},
     "output_type": "display_data"
    },
    {
     "name": "stdout",
     "output_type": "stream",
     "text": [
      "                                                                                                                                                                                                                                                                                                                                "
     ]
    },
    {
     "name": "stderr",
     "output_type": "stream",
     "text": [
      "03:20:20 - cmdstanpy - INFO - CmdStan done processing.\n",
      "03:20:20 - cmdstanpy - WARNING - Some chains may have failed to converge.\n",
      "\tChain 1 had 1 divergent transitions (0.1%)\n",
      "\tChain 3 had 9 divergent transitions (0.9%)\n",
      "\tUse function \"diagnose()\" to see further information.\n",
      "03:20:20 - cmdstanpy - INFO - CmdStan start processing\n"
     ]
    },
    {
     "name": "stdout",
     "output_type": "stream",
     "text": [
      "\n"
     ]
    },
    {
     "data": {
      "application/vnd.jupyter.widget-view+json": {
       "model_id": "e3f7ede9e0d044f78f1c142daee45c79",
       "version_major": 2,
       "version_minor": 0
      },
      "text/plain": [
       "chain 1 |          | 00:00 Status"
      ]
     },
     "metadata": {},
     "output_type": "display_data"
    },
    {
     "data": {
      "application/vnd.jupyter.widget-view+json": {
       "model_id": "be46671b13514f49b2507c7180471705",
       "version_major": 2,
       "version_minor": 0
      },
      "text/plain": [
       "chain 2 |          | 00:00 Status"
      ]
     },
     "metadata": {},
     "output_type": "display_data"
    },
    {
     "data": {
      "application/vnd.jupyter.widget-view+json": {
       "model_id": "5e14709c3dca42d5bae901997d6d29bf",
       "version_major": 2,
       "version_minor": 0
      },
      "text/plain": [
       "chain 3 |          | 00:00 Status"
      ]
     },
     "metadata": {},
     "output_type": "display_data"
    },
    {
     "data": {
      "application/vnd.jupyter.widget-view+json": {
       "model_id": "afda6c530082414b82cfb705cfb829cc",
       "version_major": 2,
       "version_minor": 0
      },
      "text/plain": [
       "chain 4 |          | 00:00 Status"
      ]
     },
     "metadata": {},
     "output_type": "display_data"
    },
    {
     "name": "stdout",
     "output_type": "stream",
     "text": [
      "                                                                                                                                                                                                                                                                                                                                "
     ]
    },
    {
     "name": "stderr",
     "output_type": "stream",
     "text": [
      "03:20:21 - cmdstanpy - INFO - CmdStan done processing.\n",
      "03:20:21 - cmdstanpy - INFO - CmdStan start processing\n"
     ]
    },
    {
     "name": "stdout",
     "output_type": "stream",
     "text": [
      "\n"
     ]
    },
    {
     "data": {
      "application/vnd.jupyter.widget-view+json": {
       "model_id": "09425a6b7c484258b30e38b1217f3c9c",
       "version_major": 2,
       "version_minor": 0
      },
      "text/plain": [
       "chain 1 |          | 00:00 Status"
      ]
     },
     "metadata": {},
     "output_type": "display_data"
    },
    {
     "data": {
      "application/vnd.jupyter.widget-view+json": {
       "model_id": "a085fed0c1ac4f9d8f4ecd2d1dffad2c",
       "version_major": 2,
       "version_minor": 0
      },
      "text/plain": [
       "chain 2 |          | 00:00 Status"
      ]
     },
     "metadata": {},
     "output_type": "display_data"
    },
    {
     "data": {
      "application/vnd.jupyter.widget-view+json": {
       "model_id": "eef6d788f2cc41b782b27ca2558b12d4",
       "version_major": 2,
       "version_minor": 0
      },
      "text/plain": [
       "chain 3 |          | 00:00 Status"
      ]
     },
     "metadata": {},
     "output_type": "display_data"
    },
    {
     "data": {
      "application/vnd.jupyter.widget-view+json": {
       "model_id": "73a22fd56f6e4d5c81bafd218b3ddd71",
       "version_major": 2,
       "version_minor": 0
      },
      "text/plain": [
       "chain 4 |          | 00:00 Status"
      ]
     },
     "metadata": {},
     "output_type": "display_data"
    },
    {
     "name": "stdout",
     "output_type": "stream",
     "text": [
      "                                                                                                                                                                                                                                                                                                                                "
     ]
    },
    {
     "name": "stderr",
     "output_type": "stream",
     "text": [
      "03:20:21 - cmdstanpy - INFO - CmdStan done processing.\n",
      "03:20:21 - cmdstanpy - INFO - CmdStan start processing\n"
     ]
    },
    {
     "name": "stdout",
     "output_type": "stream",
     "text": [
      "\n"
     ]
    },
    {
     "data": {
      "application/vnd.jupyter.widget-view+json": {
       "model_id": "e9377b852e254b38af9e73f674eb753d",
       "version_major": 2,
       "version_minor": 0
      },
      "text/plain": [
       "chain 1 |          | 00:00 Status"
      ]
     },
     "metadata": {},
     "output_type": "display_data"
    },
    {
     "data": {
      "application/vnd.jupyter.widget-view+json": {
       "model_id": "c67c743f901a4faaac804de78dad9c06",
       "version_major": 2,
       "version_minor": 0
      },
      "text/plain": [
       "chain 2 |          | 00:00 Status"
      ]
     },
     "metadata": {},
     "output_type": "display_data"
    },
    {
     "data": {
      "application/vnd.jupyter.widget-view+json": {
       "model_id": "42fd774097404e19bfd2ee5bb4fd9b9d",
       "version_major": 2,
       "version_minor": 0
      },
      "text/plain": [
       "chain 3 |          | 00:00 Status"
      ]
     },
     "metadata": {},
     "output_type": "display_data"
    },
    {
     "data": {
      "application/vnd.jupyter.widget-view+json": {
       "model_id": "b688264cf01e4d2597f687e607c55c10",
       "version_major": 2,
       "version_minor": 0
      },
      "text/plain": [
       "chain 4 |          | 00:00 Status"
      ]
     },
     "metadata": {},
     "output_type": "display_data"
    },
    {
     "name": "stdout",
     "output_type": "stream",
     "text": [
      "                                                                                                                                                                                                                                                                                                                                "
     ]
    },
    {
     "name": "stderr",
     "output_type": "stream",
     "text": [
      "03:20:22 - cmdstanpy - INFO - CmdStan done processing.\n",
      "03:20:22 - cmdstanpy - WARNING - Some chains may have failed to converge.\n",
      "\tChain 3 had 1 divergent transitions (0.1%)\n",
      "\tUse function \"diagnose()\" to see further information.\n",
      "03:20:22 - cmdstanpy - INFO - CmdStan start processing\n"
     ]
    },
    {
     "name": "stdout",
     "output_type": "stream",
     "text": [
      "\n"
     ]
    },
    {
     "data": {
      "application/vnd.jupyter.widget-view+json": {
       "model_id": "67d53b3c6aaa40c0990f2f813a6085cd",
       "version_major": 2,
       "version_minor": 0
      },
      "text/plain": [
       "chain 1 |          | 00:00 Status"
      ]
     },
     "metadata": {},
     "output_type": "display_data"
    },
    {
     "data": {
      "application/vnd.jupyter.widget-view+json": {
       "model_id": "86f0ebe2a12e4c3aae9c17e3e5aea28f",
       "version_major": 2,
       "version_minor": 0
      },
      "text/plain": [
       "chain 2 |          | 00:00 Status"
      ]
     },
     "metadata": {},
     "output_type": "display_data"
    },
    {
     "data": {
      "application/vnd.jupyter.widget-view+json": {
       "model_id": "1596d8c2eb234fc1ac8b7cf338e8c5ef",
       "version_major": 2,
       "version_minor": 0
      },
      "text/plain": [
       "chain 3 |          | 00:00 Status"
      ]
     },
     "metadata": {},
     "output_type": "display_data"
    },
    {
     "data": {
      "application/vnd.jupyter.widget-view+json": {
       "model_id": "e50600ee36f64d2d96c55c1fd7ac6ecf",
       "version_major": 2,
       "version_minor": 0
      },
      "text/plain": [
       "chain 4 |          | 00:00 Status"
      ]
     },
     "metadata": {},
     "output_type": "display_data"
    },
    {
     "name": "stdout",
     "output_type": "stream",
     "text": [
      "                                                                                                                                                                                                                                                                                                                                "
     ]
    },
    {
     "name": "stderr",
     "output_type": "stream",
     "text": [
      "03:20:22 - cmdstanpy - INFO - CmdStan done processing.\n",
      "03:20:22 - cmdstanpy - WARNING - Some chains may have failed to converge.\n",
      "\tChain 4 had 1 divergent transitions (0.1%)\n",
      "\tUse function \"diagnose()\" to see further information.\n",
      "03:20:22 - cmdstanpy - INFO - CmdStan start processing\n"
     ]
    },
    {
     "name": "stdout",
     "output_type": "stream",
     "text": [
      "\n"
     ]
    },
    {
     "data": {
      "application/vnd.jupyter.widget-view+json": {
       "model_id": "362ecaca2c0841e08398b7fba735f0a0",
       "version_major": 2,
       "version_minor": 0
      },
      "text/plain": [
       "chain 1 |          | 00:00 Status"
      ]
     },
     "metadata": {},
     "output_type": "display_data"
    },
    {
     "data": {
      "application/vnd.jupyter.widget-view+json": {
       "model_id": "0446dfd1a5974e838b34bf2c6bb0f9e2",
       "version_major": 2,
       "version_minor": 0
      },
      "text/plain": [
       "chain 2 |          | 00:00 Status"
      ]
     },
     "metadata": {},
     "output_type": "display_data"
    },
    {
     "data": {
      "application/vnd.jupyter.widget-view+json": {
       "model_id": "514c4232fb3a47c5a13abedb14a7fbd6",
       "version_major": 2,
       "version_minor": 0
      },
      "text/plain": [
       "chain 3 |          | 00:00 Status"
      ]
     },
     "metadata": {},
     "output_type": "display_data"
    },
    {
     "data": {
      "application/vnd.jupyter.widget-view+json": {
       "model_id": "412c056f565f4de2989e44217664f300",
       "version_major": 2,
       "version_minor": 0
      },
      "text/plain": [
       "chain 4 |          | 00:00 Status"
      ]
     },
     "metadata": {},
     "output_type": "display_data"
    },
    {
     "name": "stdout",
     "output_type": "stream",
     "text": [
      "                                                                                                                                                                                                                                                                                                                                "
     ]
    },
    {
     "name": "stderr",
     "output_type": "stream",
     "text": [
      "03:20:23 - cmdstanpy - INFO - CmdStan done processing.\n",
      "03:20:23 - cmdstanpy - INFO - CmdStan start processing\n"
     ]
    },
    {
     "name": "stdout",
     "output_type": "stream",
     "text": [
      "\n"
     ]
    },
    {
     "data": {
      "application/vnd.jupyter.widget-view+json": {
       "model_id": "5d5f2ca0ba3a4f14a128dbaaab884e11",
       "version_major": 2,
       "version_minor": 0
      },
      "text/plain": [
       "chain 1 |          | 00:00 Status"
      ]
     },
     "metadata": {},
     "output_type": "display_data"
    },
    {
     "data": {
      "application/vnd.jupyter.widget-view+json": {
       "model_id": "7f23822cb90c48fc9133e5ab7f55a1b7",
       "version_major": 2,
       "version_minor": 0
      },
      "text/plain": [
       "chain 2 |          | 00:00 Status"
      ]
     },
     "metadata": {},
     "output_type": "display_data"
    },
    {
     "data": {
      "application/vnd.jupyter.widget-view+json": {
       "model_id": "43351627d6cf40e0a12d7d38f9ddef89",
       "version_major": 2,
       "version_minor": 0
      },
      "text/plain": [
       "chain 3 |          | 00:00 Status"
      ]
     },
     "metadata": {},
     "output_type": "display_data"
    },
    {
     "data": {
      "application/vnd.jupyter.widget-view+json": {
       "model_id": "b9800cafefd645d1bc3841f8a71d2fe3",
       "version_major": 2,
       "version_minor": 0
      },
      "text/plain": [
       "chain 4 |          | 00:00 Status"
      ]
     },
     "metadata": {},
     "output_type": "display_data"
    },
    {
     "name": "stdout",
     "output_type": "stream",
     "text": [
      "                                                                                                                                                                                                                                                                                                                                "
     ]
    },
    {
     "name": "stderr",
     "output_type": "stream",
     "text": [
      "03:20:23 - cmdstanpy - INFO - CmdStan done processing.\n",
      "03:20:23 - cmdstanpy - INFO - CmdStan start processing\n"
     ]
    },
    {
     "name": "stdout",
     "output_type": "stream",
     "text": [
      "\n"
     ]
    },
    {
     "data": {
      "application/vnd.jupyter.widget-view+json": {
       "model_id": "6237fc5bca0c460db519df64b0752036",
       "version_major": 2,
       "version_minor": 0
      },
      "text/plain": [
       "chain 1 |          | 00:00 Status"
      ]
     },
     "metadata": {},
     "output_type": "display_data"
    },
    {
     "data": {
      "application/vnd.jupyter.widget-view+json": {
       "model_id": "ff5cdbe2f6ed439cb297f99a248d4832",
       "version_major": 2,
       "version_minor": 0
      },
      "text/plain": [
       "chain 2 |          | 00:00 Status"
      ]
     },
     "metadata": {},
     "output_type": "display_data"
    },
    {
     "data": {
      "application/vnd.jupyter.widget-view+json": {
       "model_id": "523f5f641c7c4dee9115e635b6302ff1",
       "version_major": 2,
       "version_minor": 0
      },
      "text/plain": [
       "chain 3 |          | 00:00 Status"
      ]
     },
     "metadata": {},
     "output_type": "display_data"
    },
    {
     "data": {
      "application/vnd.jupyter.widget-view+json": {
       "model_id": "03b838b9c3044c9ea6f8fa8fa64788c4",
       "version_major": 2,
       "version_minor": 0
      },
      "text/plain": [
       "chain 4 |          | 00:00 Status"
      ]
     },
     "metadata": {},
     "output_type": "display_data"
    },
    {
     "name": "stdout",
     "output_type": "stream",
     "text": [
      "                                                                                                                                                                                                                                                                                                                                "
     ]
    },
    {
     "name": "stderr",
     "output_type": "stream",
     "text": [
      "03:20:24 - cmdstanpy - INFO - CmdStan done processing.\n",
      "03:20:24 - cmdstanpy - WARNING - Some chains may have failed to converge.\n",
      "\tChain 3 had 1 divergent transitions (0.1%)\n",
      "\tUse function \"diagnose()\" to see further information.\n",
      "03:20:24 - cmdstanpy - INFO - CmdStan start processing\n"
     ]
    },
    {
     "name": "stdout",
     "output_type": "stream",
     "text": [
      "\n"
     ]
    },
    {
     "data": {
      "application/vnd.jupyter.widget-view+json": {
       "model_id": "8ccedb4f44e44ba3a5ec98f3d9e0e129",
       "version_major": 2,
       "version_minor": 0
      },
      "text/plain": [
       "chain 1 |          | 00:00 Status"
      ]
     },
     "metadata": {},
     "output_type": "display_data"
    },
    {
     "data": {
      "application/vnd.jupyter.widget-view+json": {
       "model_id": "ebf5aa8f040d43f7a6072c318d05d572",
       "version_major": 2,
       "version_minor": 0
      },
      "text/plain": [
       "chain 2 |          | 00:00 Status"
      ]
     },
     "metadata": {},
     "output_type": "display_data"
    },
    {
     "data": {
      "application/vnd.jupyter.widget-view+json": {
       "model_id": "a1fe383e1970437f86d8c9adbe8acb99",
       "version_major": 2,
       "version_minor": 0
      },
      "text/plain": [
       "chain 3 |          | 00:00 Status"
      ]
     },
     "metadata": {},
     "output_type": "display_data"
    },
    {
     "data": {
      "application/vnd.jupyter.widget-view+json": {
       "model_id": "71cb7e4634394d81877b61df983fd89f",
       "version_major": 2,
       "version_minor": 0
      },
      "text/plain": [
       "chain 4 |          | 00:00 Status"
      ]
     },
     "metadata": {},
     "output_type": "display_data"
    },
    {
     "name": "stdout",
     "output_type": "stream",
     "text": [
      "                                                                                                                                                                                                                                                                                                                                "
     ]
    },
    {
     "name": "stderr",
     "output_type": "stream",
     "text": [
      "03:20:24 - cmdstanpy - INFO - CmdStan done processing.\n",
      "03:20:24 - cmdstanpy - WARNING - Some chains may have failed to converge.\n",
      "\tChain 1 had 4 divergent transitions (0.4%)\n",
      "\tChain 2 had 11 divergent transitions (1.1%)\n",
      "\tChain 4 had 37 divergent transitions (3.7%)\n",
      "\tUse function \"diagnose()\" to see further information.\n",
      "03:20:24 - cmdstanpy - INFO - CmdStan start processing\n"
     ]
    },
    {
     "name": "stdout",
     "output_type": "stream",
     "text": [
      "\n"
     ]
    },
    {
     "data": {
      "application/vnd.jupyter.widget-view+json": {
       "model_id": "0640bdc2b0af4cf5b641b77068f550ca",
       "version_major": 2,
       "version_minor": 0
      },
      "text/plain": [
       "chain 1 |          | 00:00 Status"
      ]
     },
     "metadata": {},
     "output_type": "display_data"
    },
    {
     "data": {
      "application/vnd.jupyter.widget-view+json": {
       "model_id": "849587bd81064fd9834666c022edb796",
       "version_major": 2,
       "version_minor": 0
      },
      "text/plain": [
       "chain 2 |          | 00:00 Status"
      ]
     },
     "metadata": {},
     "output_type": "display_data"
    },
    {
     "data": {
      "application/vnd.jupyter.widget-view+json": {
       "model_id": "acafa14310554f00b5f575754c19927b",
       "version_major": 2,
       "version_minor": 0
      },
      "text/plain": [
       "chain 3 |          | 00:00 Status"
      ]
     },
     "metadata": {},
     "output_type": "display_data"
    },
    {
     "data": {
      "application/vnd.jupyter.widget-view+json": {
       "model_id": "57d5aa2fe4364f98861124b82910b3e6",
       "version_major": 2,
       "version_minor": 0
      },
      "text/plain": [
       "chain 4 |          | 00:00 Status"
      ]
     },
     "metadata": {},
     "output_type": "display_data"
    },
    {
     "name": "stdout",
     "output_type": "stream",
     "text": [
      "                                                                                                                                                                                                                                                                                                                                "
     ]
    },
    {
     "name": "stderr",
     "output_type": "stream",
     "text": [
      "03:20:25 - cmdstanpy - INFO - CmdStan done processing.\n",
      "03:20:25 - cmdstanpy - WARNING - Some chains may have failed to converge.\n",
      "\tChain 4 had 1 divergent transitions (0.1%)\n",
      "\tUse function \"diagnose()\" to see further information.\n",
      "03:20:25 - cmdstanpy - INFO - CmdStan start processing\n"
     ]
    },
    {
     "name": "stdout",
     "output_type": "stream",
     "text": [
      "\n"
     ]
    },
    {
     "data": {
      "application/vnd.jupyter.widget-view+json": {
       "model_id": "e85790c6fc4b4c0e852bdc39d9d669be",
       "version_major": 2,
       "version_minor": 0
      },
      "text/plain": [
       "chain 1 |          | 00:00 Status"
      ]
     },
     "metadata": {},
     "output_type": "display_data"
    },
    {
     "data": {
      "application/vnd.jupyter.widget-view+json": {
       "model_id": "4f9d883e3fff4252a91f4bff546d2fad",
       "version_major": 2,
       "version_minor": 0
      },
      "text/plain": [
       "chain 2 |          | 00:00 Status"
      ]
     },
     "metadata": {},
     "output_type": "display_data"
    },
    {
     "data": {
      "application/vnd.jupyter.widget-view+json": {
       "model_id": "087e5a16d531464fae4a4a6d37dae448",
       "version_major": 2,
       "version_minor": 0
      },
      "text/plain": [
       "chain 3 |          | 00:00 Status"
      ]
     },
     "metadata": {},
     "output_type": "display_data"
    },
    {
     "data": {
      "application/vnd.jupyter.widget-view+json": {
       "model_id": "b66605c00afa4b9fa2dae5a85e9bace9",
       "version_major": 2,
       "version_minor": 0
      },
      "text/plain": [
       "chain 4 |          | 00:00 Status"
      ]
     },
     "metadata": {},
     "output_type": "display_data"
    },
    {
     "name": "stdout",
     "output_type": "stream",
     "text": [
      "                                                                                                                                                                                                                                                                                                                                "
     ]
    },
    {
     "name": "stderr",
     "output_type": "stream",
     "text": [
      "03:20:25 - cmdstanpy - INFO - CmdStan done processing.\n",
      "03:20:25 - cmdstanpy - INFO - CmdStan start processing\n"
     ]
    },
    {
     "name": "stdout",
     "output_type": "stream",
     "text": [
      "\n"
     ]
    },
    {
     "data": {
      "application/vnd.jupyter.widget-view+json": {
       "model_id": "2bce5365db254ad38afcb2d21e32e9dd",
       "version_major": 2,
       "version_minor": 0
      },
      "text/plain": [
       "chain 1 |          | 00:00 Status"
      ]
     },
     "metadata": {},
     "output_type": "display_data"
    },
    {
     "data": {
      "application/vnd.jupyter.widget-view+json": {
       "model_id": "ee896b021ea141d4b71a4cd78faf21c2",
       "version_major": 2,
       "version_minor": 0
      },
      "text/plain": [
       "chain 2 |          | 00:00 Status"
      ]
     },
     "metadata": {},
     "output_type": "display_data"
    },
    {
     "data": {
      "application/vnd.jupyter.widget-view+json": {
       "model_id": "60fc13dcdaf94ca297650ade6b1c2d89",
       "version_major": 2,
       "version_minor": 0
      },
      "text/plain": [
       "chain 3 |          | 00:00 Status"
      ]
     },
     "metadata": {},
     "output_type": "display_data"
    },
    {
     "data": {
      "application/vnd.jupyter.widget-view+json": {
       "model_id": "e5dc3ba5229f48fe9b569439b2e81d8a",
       "version_major": 2,
       "version_minor": 0
      },
      "text/plain": [
       "chain 4 |          | 00:00 Status"
      ]
     },
     "metadata": {},
     "output_type": "display_data"
    },
    {
     "name": "stdout",
     "output_type": "stream",
     "text": [
      "                                                                                                                                                                                                                                                                                                                                "
     ]
    },
    {
     "name": "stderr",
     "output_type": "stream",
     "text": [
      "03:20:26 - cmdstanpy - INFO - CmdStan done processing.\n",
      "03:20:26 - cmdstanpy - WARNING - Non-fatal error during sampling:\n",
      "Exception: normal_lpdf: Scale parameter is 0, but must be positive! (in '/home/oriol/Public/arviz/doc/source/user_guide/wrappers/linreg_model.stan', line 27, column 2 to column 64)\n",
      "\tException: normal_lpdf: Scale parameter is 0, but must be positive! (in '/home/oriol/Public/arviz/doc/source/user_guide/wrappers/linreg_model.stan', line 27, column 2 to column 64)\n",
      "\tException: normal_lpdf: Scale parameter is 0, but must be positive! (in '/home/oriol/Public/arviz/doc/source/user_guide/wrappers/linreg_model.stan', line 27, column 2 to column 64)\n",
      "Consider re-running with show_console=True if the above output is unclear!\n",
      "03:20:26 - cmdstanpy - WARNING - Some chains may have failed to converge.\n",
      "\tChain 1 had 3 divergent transitions (0.3%)\n",
      "\tUse function \"diagnose()\" to see further information.\n",
      "03:20:26 - cmdstanpy - INFO - CmdStan start processing\n"
     ]
    },
    {
     "name": "stdout",
     "output_type": "stream",
     "text": [
      "\n"
     ]
    },
    {
     "data": {
      "application/vnd.jupyter.widget-view+json": {
       "model_id": "b799e76f30674d008530b75cdfbcca97",
       "version_major": 2,
       "version_minor": 0
      },
      "text/plain": [
       "chain 1 |          | 00:00 Status"
      ]
     },
     "metadata": {},
     "output_type": "display_data"
    },
    {
     "data": {
      "application/vnd.jupyter.widget-view+json": {
       "model_id": "8469dd98e3f343bf88714318d824dff4",
       "version_major": 2,
       "version_minor": 0
      },
      "text/plain": [
       "chain 2 |          | 00:00 Status"
      ]
     },
     "metadata": {},
     "output_type": "display_data"
    },
    {
     "data": {
      "application/vnd.jupyter.widget-view+json": {
       "model_id": "a967ad8451f340808e13311db12a654e",
       "version_major": 2,
       "version_minor": 0
      },
      "text/plain": [
       "chain 3 |          | 00:00 Status"
      ]
     },
     "metadata": {},
     "output_type": "display_data"
    },
    {
     "data": {
      "application/vnd.jupyter.widget-view+json": {
       "model_id": "0164c8fedfc942e794f7d04aa0db2cc1",
       "version_major": 2,
       "version_minor": 0
      },
      "text/plain": [
       "chain 4 |          | 00:00 Status"
      ]
     },
     "metadata": {},
     "output_type": "display_data"
    },
    {
     "name": "stdout",
     "output_type": "stream",
     "text": [
      "                                                                                                                                                                                                                                                                                                                                "
     ]
    },
    {
     "name": "stderr",
     "output_type": "stream",
     "text": [
      "03:20:26 - cmdstanpy - INFO - CmdStan done processing.\n",
      "03:20:26 - cmdstanpy - WARNING - Non-fatal error during sampling:\n",
      "Exception: normal_lpdf: Scale parameter is 0, but must be positive! (in '/home/oriol/Public/arviz/doc/source/user_guide/wrappers/linreg_model.stan', line 27, column 2 to column 64)\n",
      "\tException: normal_lpdf: Scale parameter is 0, but must be positive! (in '/home/oriol/Public/arviz/doc/source/user_guide/wrappers/linreg_model.stan', line 27, column 2 to column 64)\n",
      "\tException: normal_lpdf: Scale parameter is 0, but must be positive! (in '/home/oriol/Public/arviz/doc/source/user_guide/wrappers/linreg_model.stan', line 27, column 2 to column 64)\n",
      "\tException: normal_lpdf: Scale parameter is 0, but must be positive! (in '/home/oriol/Public/arviz/doc/source/user_guide/wrappers/linreg_model.stan', line 27, column 2 to column 64)\n",
      "Consider re-running with show_console=True if the above output is unclear!\n",
      "03:20:26 - cmdstanpy - WARNING - Some chains may have failed to converge.\n",
      "\tChain 1 had 2 divergent transitions (0.2%)\n",
      "\tUse function \"diagnose()\" to see further information.\n",
      "03:20:27 - cmdstanpy - INFO - CmdStan start processing\n"
     ]
    },
    {
     "name": "stdout",
     "output_type": "stream",
     "text": [
      "\n"
     ]
    },
    {
     "data": {
      "application/vnd.jupyter.widget-view+json": {
       "model_id": "c7b679c9e15341c69f51764a6da0b689",
       "version_major": 2,
       "version_minor": 0
      },
      "text/plain": [
       "chain 1 |          | 00:00 Status"
      ]
     },
     "metadata": {},
     "output_type": "display_data"
    },
    {
     "data": {
      "application/vnd.jupyter.widget-view+json": {
       "model_id": "a0fda2e1b0954f54838e5b6d5d66ef69",
       "version_major": 2,
       "version_minor": 0
      },
      "text/plain": [
       "chain 2 |          | 00:00 Status"
      ]
     },
     "metadata": {},
     "output_type": "display_data"
    },
    {
     "data": {
      "application/vnd.jupyter.widget-view+json": {
       "model_id": "1075068ff74646929cd035aa7f47147c",
       "version_major": 2,
       "version_minor": 0
      },
      "text/plain": [
       "chain 3 |          | 00:00 Status"
      ]
     },
     "metadata": {},
     "output_type": "display_data"
    },
    {
     "data": {
      "application/vnd.jupyter.widget-view+json": {
       "model_id": "b2b9efd5e63c4f889d0929f9da18da10",
       "version_major": 2,
       "version_minor": 0
      },
      "text/plain": [
       "chain 4 |          | 00:00 Status"
      ]
     },
     "metadata": {},
     "output_type": "display_data"
    },
    {
     "name": "stdout",
     "output_type": "stream",
     "text": [
      "                                                                                                                                                                                                                                                                                                                                "
     ]
    },
    {
     "name": "stderr",
     "output_type": "stream",
     "text": [
      "03:20:27 - cmdstanpy - INFO - CmdStan done processing.\n",
      "03:20:27 - cmdstanpy - WARNING - Some chains may have failed to converge.\n",
      "\tChain 1 had 2 divergent transitions (0.2%)\n",
      "\tChain 4 had 1 divergent transitions (0.1%)\n",
      "\tUse function \"diagnose()\" to see further information.\n",
      "03:20:27 - cmdstanpy - INFO - CmdStan start processing\n"
     ]
    },
    {
     "name": "stdout",
     "output_type": "stream",
     "text": [
      "\n"
     ]
    },
    {
     "data": {
      "application/vnd.jupyter.widget-view+json": {
       "model_id": "19667bc466f24f009db1b1d6279aef0c",
       "version_major": 2,
       "version_minor": 0
      },
      "text/plain": [
       "chain 1 |          | 00:00 Status"
      ]
     },
     "metadata": {},
     "output_type": "display_data"
    },
    {
     "data": {
      "application/vnd.jupyter.widget-view+json": {
       "model_id": "47461feb6dfd4f9bb2eeed262a9481d2",
       "version_major": 2,
       "version_minor": 0
      },
      "text/plain": [
       "chain 2 |          | 00:00 Status"
      ]
     },
     "metadata": {},
     "output_type": "display_data"
    },
    {
     "data": {
      "application/vnd.jupyter.widget-view+json": {
       "model_id": "56a03b5f82674c429141d2233360ec52",
       "version_major": 2,
       "version_minor": 0
      },
      "text/plain": [
       "chain 3 |          | 00:00 Status"
      ]
     },
     "metadata": {},
     "output_type": "display_data"
    },
    {
     "data": {
      "application/vnd.jupyter.widget-view+json": {
       "model_id": "807d1e8e19144870bd0abaeb21a2e0cf",
       "version_major": 2,
       "version_minor": 0
      },
      "text/plain": [
       "chain 4 |          | 00:00 Status"
      ]
     },
     "metadata": {},
     "output_type": "display_data"
    },
    {
     "name": "stdout",
     "output_type": "stream",
     "text": [
      "                                                                                                                                                                                                                                                                                                                                "
     ]
    },
    {
     "name": "stderr",
     "output_type": "stream",
     "text": [
      "03:20:27 - cmdstanpy - INFO - CmdStan done processing.\n",
      "03:20:27 - cmdstanpy - INFO - CmdStan start processing\n"
     ]
    },
    {
     "name": "stdout",
     "output_type": "stream",
     "text": [
      "\n"
     ]
    },
    {
     "data": {
      "application/vnd.jupyter.widget-view+json": {
       "model_id": "01bf89880f064004b0340c3ddedeec41",
       "version_major": 2,
       "version_minor": 0
      },
      "text/plain": [
       "chain 1 |          | 00:00 Status"
      ]
     },
     "metadata": {},
     "output_type": "display_data"
    },
    {
     "data": {
      "application/vnd.jupyter.widget-view+json": {
       "model_id": "e0b56c09d508457293de5e9e7cdfb79f",
       "version_major": 2,
       "version_minor": 0
      },
      "text/plain": [
       "chain 2 |          | 00:00 Status"
      ]
     },
     "metadata": {},
     "output_type": "display_data"
    },
    {
     "data": {
      "application/vnd.jupyter.widget-view+json": {
       "model_id": "24563711797749ee86cd9633369d8e10",
       "version_major": 2,
       "version_minor": 0
      },
      "text/plain": [
       "chain 3 |          | 00:00 Status"
      ]
     },
     "metadata": {},
     "output_type": "display_data"
    },
    {
     "data": {
      "application/vnd.jupyter.widget-view+json": {
       "model_id": "63c951ca29604156bedee7b0bf4bb697",
       "version_major": 2,
       "version_minor": 0
      },
      "text/plain": [
       "chain 4 |          | 00:00 Status"
      ]
     },
     "metadata": {},
     "output_type": "display_data"
    },
    {
     "name": "stdout",
     "output_type": "stream",
     "text": [
      "                                                                                                                                                                                                                                                                                                                                "
     ]
    },
    {
     "name": "stderr",
     "output_type": "stream",
     "text": [
      "03:20:28 - cmdstanpy - INFO - CmdStan done processing.\n",
      "03:20:28 - cmdstanpy - INFO - CmdStan start processing\n"
     ]
    },
    {
     "name": "stdout",
     "output_type": "stream",
     "text": [
      "\n"
     ]
    },
    {
     "data": {
      "application/vnd.jupyter.widget-view+json": {
       "model_id": "d7071f4e3e9a4fd7bf1d1b8d86a445bd",
       "version_major": 2,
       "version_minor": 0
      },
      "text/plain": [
       "chain 1 |          | 00:00 Status"
      ]
     },
     "metadata": {},
     "output_type": "display_data"
    },
    {
     "data": {
      "application/vnd.jupyter.widget-view+json": {
       "model_id": "5e45ae7bdede487ca38a399e9854e66d",
       "version_major": 2,
       "version_minor": 0
      },
      "text/plain": [
       "chain 2 |          | 00:00 Status"
      ]
     },
     "metadata": {},
     "output_type": "display_data"
    },
    {
     "data": {
      "application/vnd.jupyter.widget-view+json": {
       "model_id": "5b500b3262fd40e5b06bdc410664f3c9",
       "version_major": 2,
       "version_minor": 0
      },
      "text/plain": [
       "chain 3 |          | 00:00 Status"
      ]
     },
     "metadata": {},
     "output_type": "display_data"
    },
    {
     "data": {
      "application/vnd.jupyter.widget-view+json": {
       "model_id": "76750bc011444c51aff602acb8065a28",
       "version_major": 2,
       "version_minor": 0
      },
      "text/plain": [
       "chain 4 |          | 00:00 Status"
      ]
     },
     "metadata": {},
     "output_type": "display_data"
    },
    {
     "name": "stdout",
     "output_type": "stream",
     "text": [
      "                                                                                                                                                                                                                                                                                                                                "
     ]
    },
    {
     "name": "stderr",
     "output_type": "stream",
     "text": [
      "03:20:28 - cmdstanpy - INFO - CmdStan done processing.\n",
      "03:20:29 - cmdstanpy - INFO - CmdStan start processing\n"
     ]
    },
    {
     "name": "stdout",
     "output_type": "stream",
     "text": [
      "\n"
     ]
    },
    {
     "data": {
      "application/vnd.jupyter.widget-view+json": {
       "model_id": "e49ab8f4656a424d9ce65e3204cd8d05",
       "version_major": 2,
       "version_minor": 0
      },
      "text/plain": [
       "chain 1 |          | 00:00 Status"
      ]
     },
     "metadata": {},
     "output_type": "display_data"
    },
    {
     "data": {
      "application/vnd.jupyter.widget-view+json": {
       "model_id": "fcadb0993d0b41609e3b22b9cfc575bf",
       "version_major": 2,
       "version_minor": 0
      },
      "text/plain": [
       "chain 2 |          | 00:00 Status"
      ]
     },
     "metadata": {},
     "output_type": "display_data"
    },
    {
     "data": {
      "application/vnd.jupyter.widget-view+json": {
       "model_id": "61cc8892676c42cc8270609ccf61a344",
       "version_major": 2,
       "version_minor": 0
      },
      "text/plain": [
       "chain 3 |          | 00:00 Status"
      ]
     },
     "metadata": {},
     "output_type": "display_data"
    },
    {
     "data": {
      "application/vnd.jupyter.widget-view+json": {
       "model_id": "d803fe432bdd4d92822388112659a11f",
       "version_major": 2,
       "version_minor": 0
      },
      "text/plain": [
       "chain 4 |          | 00:00 Status"
      ]
     },
     "metadata": {},
     "output_type": "display_data"
    },
    {
     "name": "stdout",
     "output_type": "stream",
     "text": [
      "                                                                                                                                                                                                                                                                                                                                "
     ]
    },
    {
     "name": "stderr",
     "output_type": "stream",
     "text": [
      "03:20:29 - cmdstanpy - INFO - CmdStan done processing.\n",
      "03:20:29 - cmdstanpy - INFO - CmdStan start processing\n"
     ]
    },
    {
     "name": "stdout",
     "output_type": "stream",
     "text": [
      "\n"
     ]
    },
    {
     "data": {
      "application/vnd.jupyter.widget-view+json": {
       "model_id": "2cc20e0a022947b5a2388cfd0264139c",
       "version_major": 2,
       "version_minor": 0
      },
      "text/plain": [
       "chain 1 |          | 00:00 Status"
      ]
     },
     "metadata": {},
     "output_type": "display_data"
    },
    {
     "data": {
      "application/vnd.jupyter.widget-view+json": {
       "model_id": "a40a589d155b41efa4a124ccf050e467",
       "version_major": 2,
       "version_minor": 0
      },
      "text/plain": [
       "chain 2 |          | 00:00 Status"
      ]
     },
     "metadata": {},
     "output_type": "display_data"
    },
    {
     "data": {
      "application/vnd.jupyter.widget-view+json": {
       "model_id": "3530fd85025947aba60312426435a00c",
       "version_major": 2,
       "version_minor": 0
      },
      "text/plain": [
       "chain 3 |          | 00:00 Status"
      ]
     },
     "metadata": {},
     "output_type": "display_data"
    },
    {
     "data": {
      "application/vnd.jupyter.widget-view+json": {
       "model_id": "f79061b4aea044abb373e9b058adee13",
       "version_major": 2,
       "version_minor": 0
      },
      "text/plain": [
       "chain 4 |          | 00:00 Status"
      ]
     },
     "metadata": {},
     "output_type": "display_data"
    },
    {
     "name": "stdout",
     "output_type": "stream",
     "text": [
      "                                                                                                                                                                                                                                                                                                                                "
     ]
    },
    {
     "name": "stderr",
     "output_type": "stream",
     "text": [
      "03:20:30 - cmdstanpy - INFO - CmdStan done processing.\n",
      "03:20:30 - cmdstanpy - WARNING - Some chains may have failed to converge.\n",
      "\tChain 3 had 1 divergent transitions (0.1%)\n",
      "\tUse function \"diagnose()\" to see further information.\n",
      "03:20:30 - cmdstanpy - INFO - CmdStan start processing\n"
     ]
    },
    {
     "name": "stdout",
     "output_type": "stream",
     "text": [
      "\n"
     ]
    },
    {
     "data": {
      "application/vnd.jupyter.widget-view+json": {
       "model_id": "1f0abb61bf704c12ab52280d0666234b",
       "version_major": 2,
       "version_minor": 0
      },
      "text/plain": [
       "chain 1 |          | 00:00 Status"
      ]
     },
     "metadata": {},
     "output_type": "display_data"
    },
    {
     "data": {
      "application/vnd.jupyter.widget-view+json": {
       "model_id": "4adef00e90414fbda99212409b12d473",
       "version_major": 2,
       "version_minor": 0
      },
      "text/plain": [
       "chain 2 |          | 00:00 Status"
      ]
     },
     "metadata": {},
     "output_type": "display_data"
    },
    {
     "data": {
      "application/vnd.jupyter.widget-view+json": {
       "model_id": "be98887927a042d2823510c593b69ba7",
       "version_major": 2,
       "version_minor": 0
      },
      "text/plain": [
       "chain 3 |          | 00:00 Status"
      ]
     },
     "metadata": {},
     "output_type": "display_data"
    },
    {
     "data": {
      "application/vnd.jupyter.widget-view+json": {
       "model_id": "4bbb9a0b271a4e0b84483e4fc91905e2",
       "version_major": 2,
       "version_minor": 0
      },
      "text/plain": [
       "chain 4 |          | 00:00 Status"
      ]
     },
     "metadata": {},
     "output_type": "display_data"
    },
    {
     "name": "stdout",
     "output_type": "stream",
     "text": [
      "                                                                                                                                                                                                                                                                                                                                "
     ]
    },
    {
     "name": "stderr",
     "output_type": "stream",
     "text": [
      "03:20:30 - cmdstanpy - INFO - CmdStan done processing.\n",
      "03:20:30 - cmdstanpy - INFO - CmdStan start processing\n"
     ]
    },
    {
     "name": "stdout",
     "output_type": "stream",
     "text": [
      "\n"
     ]
    },
    {
     "data": {
      "application/vnd.jupyter.widget-view+json": {
       "model_id": "7e28cc643e5743ad808c97eb89773972",
       "version_major": 2,
       "version_minor": 0
      },
      "text/plain": [
       "chain 1 |          | 00:00 Status"
      ]
     },
     "metadata": {},
     "output_type": "display_data"
    },
    {
     "data": {
      "application/vnd.jupyter.widget-view+json": {
       "model_id": "8465aae42d6442178924607a19a279a4",
       "version_major": 2,
       "version_minor": 0
      },
      "text/plain": [
       "chain 2 |          | 00:00 Status"
      ]
     },
     "metadata": {},
     "output_type": "display_data"
    },
    {
     "data": {
      "application/vnd.jupyter.widget-view+json": {
       "model_id": "c15100eeec44494f97766cc42ae42a0b",
       "version_major": 2,
       "version_minor": 0
      },
      "text/plain": [
       "chain 3 |          | 00:00 Status"
      ]
     },
     "metadata": {},
     "output_type": "display_data"
    },
    {
     "data": {
      "application/vnd.jupyter.widget-view+json": {
       "model_id": "07f3f04844884845be395797c2b30d35",
       "version_major": 2,
       "version_minor": 0
      },
      "text/plain": [
       "chain 4 |          | 00:00 Status"
      ]
     },
     "metadata": {},
     "output_type": "display_data"
    },
    {
     "name": "stdout",
     "output_type": "stream",
     "text": [
      "                                                                                                                                                                                                                                                                                                                                "
     ]
    },
    {
     "name": "stderr",
     "output_type": "stream",
     "text": [
      "03:20:31 - cmdstanpy - INFO - CmdStan done processing.\n",
      "03:20:31 - cmdstanpy - WARNING - Some chains may have failed to converge.\n",
      "\tChain 4 had 2 divergent transitions (0.2%)\n",
      "\tUse function \"diagnose()\" to see further information.\n",
      "03:20:31 - cmdstanpy - INFO - CmdStan start processing\n"
     ]
    },
    {
     "name": "stdout",
     "output_type": "stream",
     "text": [
      "\n"
     ]
    },
    {
     "data": {
      "application/vnd.jupyter.widget-view+json": {
       "model_id": "c992364ceca644fb8206de2a4ba433a3",
       "version_major": 2,
       "version_minor": 0
      },
      "text/plain": [
       "chain 1 |          | 00:00 Status"
      ]
     },
     "metadata": {},
     "output_type": "display_data"
    },
    {
     "data": {
      "application/vnd.jupyter.widget-view+json": {
       "model_id": "01e3b0e69a114b43aefd0118f5760401",
       "version_major": 2,
       "version_minor": 0
      },
      "text/plain": [
       "chain 2 |          | 00:00 Status"
      ]
     },
     "metadata": {},
     "output_type": "display_data"
    },
    {
     "data": {
      "application/vnd.jupyter.widget-view+json": {
       "model_id": "fb2d00ec1e5a4713bed906341a0a041a",
       "version_major": 2,
       "version_minor": 0
      },
      "text/plain": [
       "chain 3 |          | 00:00 Status"
      ]
     },
     "metadata": {},
     "output_type": "display_data"
    },
    {
     "data": {
      "application/vnd.jupyter.widget-view+json": {
       "model_id": "de0e18375fa94a2c961eb19e878059df",
       "version_major": 2,
       "version_minor": 0
      },
      "text/plain": [
       "chain 4 |          | 00:00 Status"
      ]
     },
     "metadata": {},
     "output_type": "display_data"
    },
    {
     "name": "stdout",
     "output_type": "stream",
     "text": [
      "                                                                                                                                                                                                                                                                                                                                "
     ]
    },
    {
     "name": "stderr",
     "output_type": "stream",
     "text": [
      "03:20:31 - cmdstanpy - INFO - CmdStan done processing.\n",
      "03:20:31 - cmdstanpy - WARNING - Some chains may have failed to converge.\n",
      "\tChain 2 had 1 divergent transitions (0.1%)\n",
      "\tUse function \"diagnose()\" to see further information.\n",
      "03:20:31 - cmdstanpy - INFO - CmdStan start processing\n"
     ]
    },
    {
     "name": "stdout",
     "output_type": "stream",
     "text": [
      "\n"
     ]
    },
    {
     "data": {
      "application/vnd.jupyter.widget-view+json": {
       "model_id": "8e6b2806329541dbba5bd2f2f5bbd03b",
       "version_major": 2,
       "version_minor": 0
      },
      "text/plain": [
       "chain 1 |          | 00:00 Status"
      ]
     },
     "metadata": {},
     "output_type": "display_data"
    },
    {
     "data": {
      "application/vnd.jupyter.widget-view+json": {
       "model_id": "e7643c8fde7b4dd599d91dedf4bbe5ae",
       "version_major": 2,
       "version_minor": 0
      },
      "text/plain": [
       "chain 2 |          | 00:00 Status"
      ]
     },
     "metadata": {},
     "output_type": "display_data"
    },
    {
     "data": {
      "application/vnd.jupyter.widget-view+json": {
       "model_id": "78bedde8198c4354a8cc9ad69218d337",
       "version_major": 2,
       "version_minor": 0
      },
      "text/plain": [
       "chain 3 |          | 00:00 Status"
      ]
     },
     "metadata": {},
     "output_type": "display_data"
    },
    {
     "data": {
      "application/vnd.jupyter.widget-view+json": {
       "model_id": "56aae04ba0b94b19ba972c8caaae0513",
       "version_major": 2,
       "version_minor": 0
      },
      "text/plain": [
       "chain 4 |          | 00:00 Status"
      ]
     },
     "metadata": {},
     "output_type": "display_data"
    },
    {
     "name": "stdout",
     "output_type": "stream",
     "text": [
      "                                                                                                                                                                                                                                                                                                                                "
     ]
    },
    {
     "name": "stderr",
     "output_type": "stream",
     "text": [
      "03:20:32 - cmdstanpy - INFO - CmdStan done processing.\n",
      "03:20:32 - cmdstanpy - WARNING - Some chains may have failed to converge.\n",
      "\tChain 2 had 3 divergent transitions (0.3%)\n",
      "\tUse function \"diagnose()\" to see further information.\n",
      "03:20:32 - cmdstanpy - INFO - CmdStan start processing\n"
     ]
    },
    {
     "name": "stdout",
     "output_type": "stream",
     "text": [
      "\n"
     ]
    },
    {
     "data": {
      "application/vnd.jupyter.widget-view+json": {
       "model_id": "1b59b0b8f6ab4af28f1bed0b562394dc",
       "version_major": 2,
       "version_minor": 0
      },
      "text/plain": [
       "chain 1 |          | 00:00 Status"
      ]
     },
     "metadata": {},
     "output_type": "display_data"
    },
    {
     "data": {
      "application/vnd.jupyter.widget-view+json": {
       "model_id": "17d6a44f1d9f44fa9ed4d2a9339fc14e",
       "version_major": 2,
       "version_minor": 0
      },
      "text/plain": [
       "chain 2 |          | 00:00 Status"
      ]
     },
     "metadata": {},
     "output_type": "display_data"
    },
    {
     "data": {
      "application/vnd.jupyter.widget-view+json": {
       "model_id": "8423bf916eee4b7f8afaad354a86a8a6",
       "version_major": 2,
       "version_minor": 0
      },
      "text/plain": [
       "chain 3 |          | 00:00 Status"
      ]
     },
     "metadata": {},
     "output_type": "display_data"
    },
    {
     "data": {
      "application/vnd.jupyter.widget-view+json": {
       "model_id": "7218da387a0e4d8cb2c4c6d860882583",
       "version_major": 2,
       "version_minor": 0
      },
      "text/plain": [
       "chain 4 |          | 00:00 Status"
      ]
     },
     "metadata": {},
     "output_type": "display_data"
    },
    {
     "name": "stdout",
     "output_type": "stream",
     "text": [
      "                                                                                                                                                                                                                                                                                                                                "
     ]
    },
    {
     "name": "stderr",
     "output_type": "stream",
     "text": [
      "03:20:33 - cmdstanpy - INFO - CmdStan done processing.\n",
      "03:20:33 - cmdstanpy - WARNING - Some chains may have failed to converge.\n",
      "\tChain 3 had 3 divergent transitions (0.3%)\n",
      "\tUse function \"diagnose()\" to see further information.\n",
      "03:20:33 - cmdstanpy - INFO - CmdStan start processing\n"
     ]
    },
    {
     "name": "stdout",
     "output_type": "stream",
     "text": [
      "\n"
     ]
    },
    {
     "data": {
      "application/vnd.jupyter.widget-view+json": {
       "model_id": "5cba010327214c48b67410cb9d0815fd",
       "version_major": 2,
       "version_minor": 0
      },
      "text/plain": [
       "chain 1 |          | 00:00 Status"
      ]
     },
     "metadata": {},
     "output_type": "display_data"
    },
    {
     "data": {
      "application/vnd.jupyter.widget-view+json": {
       "model_id": "e7b8c037586f4e3c8d83ca6f7816a081",
       "version_major": 2,
       "version_minor": 0
      },
      "text/plain": [
       "chain 2 |          | 00:00 Status"
      ]
     },
     "metadata": {},
     "output_type": "display_data"
    },
    {
     "data": {
      "application/vnd.jupyter.widget-view+json": {
       "model_id": "b90afc9e56c141b3b29c01f98c304e86",
       "version_major": 2,
       "version_minor": 0
      },
      "text/plain": [
       "chain 3 |          | 00:00 Status"
      ]
     },
     "metadata": {},
     "output_type": "display_data"
    },
    {
     "data": {
      "application/vnd.jupyter.widget-view+json": {
       "model_id": "19d53a1d895347eaa791ad65bd100777",
       "version_major": 2,
       "version_minor": 0
      },
      "text/plain": [
       "chain 4 |          | 00:00 Status"
      ]
     },
     "metadata": {},
     "output_type": "display_data"
    },
    {
     "name": "stdout",
     "output_type": "stream",
     "text": [
      "                                                                                                                                                                                                                                                                                                                                "
     ]
    },
    {
     "name": "stderr",
     "output_type": "stream",
     "text": [
      "03:20:33 - cmdstanpy - INFO - CmdStan done processing.\n",
      "03:20:33 - cmdstanpy - WARNING - Some chains may have failed to converge.\n",
      "\tChain 1 had 1 divergent transitions (0.1%)\n",
      "\tChain 4 had 4 divergent transitions (0.4%)\n",
      "\tUse function \"diagnose()\" to see further information.\n",
      "03:20:33 - cmdstanpy - INFO - CmdStan start processing\n"
     ]
    },
    {
     "name": "stdout",
     "output_type": "stream",
     "text": [
      "\n"
     ]
    },
    {
     "data": {
      "application/vnd.jupyter.widget-view+json": {
       "model_id": "f4b43ef3fd544f768095c3f711352bf2",
       "version_major": 2,
       "version_minor": 0
      },
      "text/plain": [
       "chain 1 |          | 00:00 Status"
      ]
     },
     "metadata": {},
     "output_type": "display_data"
    },
    {
     "data": {
      "application/vnd.jupyter.widget-view+json": {
       "model_id": "3a54890e8a8a4cbdb8dd16f607d98d9f",
       "version_major": 2,
       "version_minor": 0
      },
      "text/plain": [
       "chain 2 |          | 00:00 Status"
      ]
     },
     "metadata": {},
     "output_type": "display_data"
    },
    {
     "data": {
      "application/vnd.jupyter.widget-view+json": {
       "model_id": "5c8bcfc777784885a9f5b07009c2a86b",
       "version_major": 2,
       "version_minor": 0
      },
      "text/plain": [
       "chain 3 |          | 00:00 Status"
      ]
     },
     "metadata": {},
     "output_type": "display_data"
    },
    {
     "data": {
      "application/vnd.jupyter.widget-view+json": {
       "model_id": "105a4748966e4709acd0e220e5dafab4",
       "version_major": 2,
       "version_minor": 0
      },
      "text/plain": [
       "chain 4 |          | 00:00 Status"
      ]
     },
     "metadata": {},
     "output_type": "display_data"
    },
    {
     "name": "stdout",
     "output_type": "stream",
     "text": [
      "                                                                                                                                                                                                                                                                                                                                "
     ]
    },
    {
     "name": "stderr",
     "output_type": "stream",
     "text": [
      "03:20:34 - cmdstanpy - INFO - CmdStan done processing.\n",
      "03:20:34 - cmdstanpy - WARNING - Some chains may have failed to converge.\n",
      "\tChain 3 had 9 divergent transitions (0.9%)\n",
      "\tUse function \"diagnose()\" to see further information.\n",
      "03:20:34 - cmdstanpy - INFO - CmdStan start processing\n"
     ]
    },
    {
     "name": "stdout",
     "output_type": "stream",
     "text": [
      "\n"
     ]
    },
    {
     "data": {
      "application/vnd.jupyter.widget-view+json": {
       "model_id": "4bc767b6d20f4f4ea1a0ea701fc1de8d",
       "version_major": 2,
       "version_minor": 0
      },
      "text/plain": [
       "chain 1 |          | 00:00 Status"
      ]
     },
     "metadata": {},
     "output_type": "display_data"
    },
    {
     "data": {
      "application/vnd.jupyter.widget-view+json": {
       "model_id": "18b5b9ae96004a6c81c1c7fcba6d471f",
       "version_major": 2,
       "version_minor": 0
      },
      "text/plain": [
       "chain 2 |          | 00:00 Status"
      ]
     },
     "metadata": {},
     "output_type": "display_data"
    },
    {
     "data": {
      "application/vnd.jupyter.widget-view+json": {
       "model_id": "d127dd579b3447beb6779fb0a8ac4e3a",
       "version_major": 2,
       "version_minor": 0
      },
      "text/plain": [
       "chain 3 |          | 00:00 Status"
      ]
     },
     "metadata": {},
     "output_type": "display_data"
    },
    {
     "data": {
      "application/vnd.jupyter.widget-view+json": {
       "model_id": "f7c843408baf42dc9c1a658060df5673",
       "version_major": 2,
       "version_minor": 0
      },
      "text/plain": [
       "chain 4 |          | 00:00 Status"
      ]
     },
     "metadata": {},
     "output_type": "display_data"
    },
    {
     "name": "stdout",
     "output_type": "stream",
     "text": [
      "                                                                                                                                                                                                                                                                                                                                "
     ]
    },
    {
     "name": "stderr",
     "output_type": "stream",
     "text": [
      "03:20:34 - cmdstanpy - INFO - CmdStan done processing.\n",
      "03:20:34 - cmdstanpy - INFO - CmdStan start processing\n"
     ]
    },
    {
     "name": "stdout",
     "output_type": "stream",
     "text": [
      "\n"
     ]
    },
    {
     "data": {
      "application/vnd.jupyter.widget-view+json": {
       "model_id": "41552a26dcc84dacb15e4abc5ee014c8",
       "version_major": 2,
       "version_minor": 0
      },
      "text/plain": [
       "chain 1 |          | 00:00 Status"
      ]
     },
     "metadata": {},
     "output_type": "display_data"
    },
    {
     "data": {
      "application/vnd.jupyter.widget-view+json": {
       "model_id": "ecb33ad36e024795a708c57a26b02aa0",
       "version_major": 2,
       "version_minor": 0
      },
      "text/plain": [
       "chain 2 |          | 00:00 Status"
      ]
     },
     "metadata": {},
     "output_type": "display_data"
    },
    {
     "data": {
      "application/vnd.jupyter.widget-view+json": {
       "model_id": "91d8361bcb794cc280ec030f32a1d9c5",
       "version_major": 2,
       "version_minor": 0
      },
      "text/plain": [
       "chain 3 |          | 00:00 Status"
      ]
     },
     "metadata": {},
     "output_type": "display_data"
    },
    {
     "data": {
      "application/vnd.jupyter.widget-view+json": {
       "model_id": "28060464536847e68e24bcf339b74dd6",
       "version_major": 2,
       "version_minor": 0
      },
      "text/plain": [
       "chain 4 |          | 00:00 Status"
      ]
     },
     "metadata": {},
     "output_type": "display_data"
    },
    {
     "name": "stdout",
     "output_type": "stream",
     "text": [
      "                                                                                                                                                                                                                                                                                                                                "
     ]
    },
    {
     "name": "stderr",
     "output_type": "stream",
     "text": [
      "03:20:34 - cmdstanpy - INFO - CmdStan done processing.\n",
      "03:20:35 - cmdstanpy - INFO - CmdStan start processing\n"
     ]
    },
    {
     "name": "stdout",
     "output_type": "stream",
     "text": [
      "\n"
     ]
    },
    {
     "data": {
      "application/vnd.jupyter.widget-view+json": {
       "model_id": "baae5d412c334a568cf40d3fb8380767",
       "version_major": 2,
       "version_minor": 0
      },
      "text/plain": [
       "chain 1 |          | 00:00 Status"
      ]
     },
     "metadata": {},
     "output_type": "display_data"
    },
    {
     "data": {
      "application/vnd.jupyter.widget-view+json": {
       "model_id": "ec27f8127c6246f9a14f98850ee4ad91",
       "version_major": 2,
       "version_minor": 0
      },
      "text/plain": [
       "chain 2 |          | 00:00 Status"
      ]
     },
     "metadata": {},
     "output_type": "display_data"
    },
    {
     "data": {
      "application/vnd.jupyter.widget-view+json": {
       "model_id": "3af323845fc24a578745e66af73364eb",
       "version_major": 2,
       "version_minor": 0
      },
      "text/plain": [
       "chain 3 |          | 00:00 Status"
      ]
     },
     "metadata": {},
     "output_type": "display_data"
    },
    {
     "data": {
      "application/vnd.jupyter.widget-view+json": {
       "model_id": "83da9d64986b45a8b79607341a43c774",
       "version_major": 2,
       "version_minor": 0
      },
      "text/plain": [
       "chain 4 |          | 00:00 Status"
      ]
     },
     "metadata": {},
     "output_type": "display_data"
    },
    {
     "name": "stdout",
     "output_type": "stream",
     "text": [
      "                                                                                                                                                                                                                                                                                                                                "
     ]
    },
    {
     "name": "stderr",
     "output_type": "stream",
     "text": [
      "03:20:35 - cmdstanpy - INFO - CmdStan done processing.\n",
      "03:20:35 - cmdstanpy - WARNING - Some chains may have failed to converge.\n",
      "\tChain 4 had 3 divergent transitions (0.3%)\n",
      "\tUse function \"diagnose()\" to see further information.\n",
      "03:20:35 - cmdstanpy - INFO - CmdStan start processing\n"
     ]
    },
    {
     "name": "stdout",
     "output_type": "stream",
     "text": [
      "\n"
     ]
    },
    {
     "data": {
      "application/vnd.jupyter.widget-view+json": {
       "model_id": "ae19dbea9f654df2950e75e130a75961",
       "version_major": 2,
       "version_minor": 0
      },
      "text/plain": [
       "chain 1 |          | 00:00 Status"
      ]
     },
     "metadata": {},
     "output_type": "display_data"
    },
    {
     "data": {
      "application/vnd.jupyter.widget-view+json": {
       "model_id": "28b970eea83141f7a5d40ee0248972e0",
       "version_major": 2,
       "version_minor": 0
      },
      "text/plain": [
       "chain 2 |          | 00:00 Status"
      ]
     },
     "metadata": {},
     "output_type": "display_data"
    },
    {
     "data": {
      "application/vnd.jupyter.widget-view+json": {
       "model_id": "b02e4d0168b749c19795cefa5919b44d",
       "version_major": 2,
       "version_minor": 0
      },
      "text/plain": [
       "chain 3 |          | 00:00 Status"
      ]
     },
     "metadata": {},
     "output_type": "display_data"
    },
    {
     "data": {
      "application/vnd.jupyter.widget-view+json": {
       "model_id": "a842df5c57084d6fb18169069c7a3967",
       "version_major": 2,
       "version_minor": 0
      },
      "text/plain": [
       "chain 4 |          | 00:00 Status"
      ]
     },
     "metadata": {},
     "output_type": "display_data"
    },
    {
     "name": "stdout",
     "output_type": "stream",
     "text": [
      "                                                                                                                                                                                                                                                                                                                                "
     ]
    },
    {
     "name": "stderr",
     "output_type": "stream",
     "text": [
      "03:20:35 - cmdstanpy - INFO - CmdStan done processing.\n",
      "03:20:35 - cmdstanpy - WARNING - Some chains may have failed to converge.\n",
      "\tChain 2 had 1 divergent transitions (0.1%)\n",
      "\tUse function \"diagnose()\" to see further information.\n",
      "03:20:36 - cmdstanpy - INFO - CmdStan start processing\n"
     ]
    },
    {
     "name": "stdout",
     "output_type": "stream",
     "text": [
      "\n"
     ]
    },
    {
     "data": {
      "application/vnd.jupyter.widget-view+json": {
       "model_id": "8c121414a8ac4f9488ed5c02b5b325b6",
       "version_major": 2,
       "version_minor": 0
      },
      "text/plain": [
       "chain 1 |          | 00:00 Status"
      ]
     },
     "metadata": {},
     "output_type": "display_data"
    },
    {
     "data": {
      "application/vnd.jupyter.widget-view+json": {
       "model_id": "03eba8cf66244bc6aa5a7cd22866ee92",
       "version_major": 2,
       "version_minor": 0
      },
      "text/plain": [
       "chain 2 |          | 00:00 Status"
      ]
     },
     "metadata": {},
     "output_type": "display_data"
    },
    {
     "data": {
      "application/vnd.jupyter.widget-view+json": {
       "model_id": "60ddf29bb41c40a6875d444d1b2fc613",
       "version_major": 2,
       "version_minor": 0
      },
      "text/plain": [
       "chain 3 |          | 00:00 Status"
      ]
     },
     "metadata": {},
     "output_type": "display_data"
    },
    {
     "data": {
      "application/vnd.jupyter.widget-view+json": {
       "model_id": "51dac118e6ac4405bf78da33f0c9dbd0",
       "version_major": 2,
       "version_minor": 0
      },
      "text/plain": [
       "chain 4 |          | 00:00 Status"
      ]
     },
     "metadata": {},
     "output_type": "display_data"
    },
    {
     "name": "stdout",
     "output_type": "stream",
     "text": [
      "                                                                                                                                                                                                                                                                                                                                "
     ]
    },
    {
     "name": "stderr",
     "output_type": "stream",
     "text": [
      "03:20:36 - cmdstanpy - INFO - CmdStan done processing.\n",
      "03:20:36 - cmdstanpy - INFO - CmdStan start processing\n"
     ]
    },
    {
     "name": "stdout",
     "output_type": "stream",
     "text": [
      "\n"
     ]
    },
    {
     "data": {
      "application/vnd.jupyter.widget-view+json": {
       "model_id": "83115e31a98b4d80a564b37fb641976d",
       "version_major": 2,
       "version_minor": 0
      },
      "text/plain": [
       "chain 1 |          | 00:00 Status"
      ]
     },
     "metadata": {},
     "output_type": "display_data"
    },
    {
     "data": {
      "application/vnd.jupyter.widget-view+json": {
       "model_id": "25031a2129c74c56aa838217bef170b0",
       "version_major": 2,
       "version_minor": 0
      },
      "text/plain": [
       "chain 2 |          | 00:00 Status"
      ]
     },
     "metadata": {},
     "output_type": "display_data"
    },
    {
     "data": {
      "application/vnd.jupyter.widget-view+json": {
       "model_id": "744dc7201f26445caece0c3e9280060c",
       "version_major": 2,
       "version_minor": 0
      },
      "text/plain": [
       "chain 3 |          | 00:00 Status"
      ]
     },
     "metadata": {},
     "output_type": "display_data"
    },
    {
     "data": {
      "application/vnd.jupyter.widget-view+json": {
       "model_id": "4cb0691cfaa0498f8c5cedfcbf972491",
       "version_major": 2,
       "version_minor": 0
      },
      "text/plain": [
       "chain 4 |          | 00:00 Status"
      ]
     },
     "metadata": {},
     "output_type": "display_data"
    },
    {
     "name": "stdout",
     "output_type": "stream",
     "text": [
      "                                                                                                                                                                                                                                                                                                                                "
     ]
    },
    {
     "name": "stderr",
     "output_type": "stream",
     "text": [
      "03:20:36 - cmdstanpy - INFO - CmdStan done processing.\n",
      "03:20:36 - cmdstanpy - WARNING - Non-fatal error during sampling:\n",
      "Exception: normal_lpdf: Scale parameter is 0, but must be positive! (in '/home/oriol/Public/arviz/doc/source/user_guide/wrappers/linreg_model.stan', line 27, column 2 to column 64)\n",
      "\tException: normal_lpdf: Scale parameter is 0, but must be positive! (in '/home/oriol/Public/arviz/doc/source/user_guide/wrappers/linreg_model.stan', line 27, column 2 to column 64)\n",
      "\tException: normal_lpdf: Scale parameter is 0, but must be positive! (in '/home/oriol/Public/arviz/doc/source/user_guide/wrappers/linreg_model.stan', line 27, column 2 to column 64)\n",
      "Consider re-running with show_console=True if the above output is unclear!\n",
      "03:20:36 - cmdstanpy - INFO - CmdStan start processing\n"
     ]
    },
    {
     "name": "stdout",
     "output_type": "stream",
     "text": [
      "\n"
     ]
    },
    {
     "data": {
      "application/vnd.jupyter.widget-view+json": {
       "model_id": "991937300b3749379843d4bc4cb8eb52",
       "version_major": 2,
       "version_minor": 0
      },
      "text/plain": [
       "chain 1 |          | 00:00 Status"
      ]
     },
     "metadata": {},
     "output_type": "display_data"
    },
    {
     "data": {
      "application/vnd.jupyter.widget-view+json": {
       "model_id": "5374fc7634d342758fa99bccee439341",
       "version_major": 2,
       "version_minor": 0
      },
      "text/plain": [
       "chain 2 |          | 00:00 Status"
      ]
     },
     "metadata": {},
     "output_type": "display_data"
    },
    {
     "data": {
      "application/vnd.jupyter.widget-view+json": {
       "model_id": "00be910910d04324b3f0e5c233384deb",
       "version_major": 2,
       "version_minor": 0
      },
      "text/plain": [
       "chain 3 |          | 00:00 Status"
      ]
     },
     "metadata": {},
     "output_type": "display_data"
    },
    {
     "data": {
      "application/vnd.jupyter.widget-view+json": {
       "model_id": "a19427226e21404db7801947d49881d2",
       "version_major": 2,
       "version_minor": 0
      },
      "text/plain": [
       "chain 4 |          | 00:00 Status"
      ]
     },
     "metadata": {},
     "output_type": "display_data"
    },
    {
     "name": "stdout",
     "output_type": "stream",
     "text": [
      "                                                                                                                                                                                                                                                                                                                                "
     ]
    },
    {
     "name": "stderr",
     "output_type": "stream",
     "text": [
      "03:20:37 - cmdstanpy - INFO - CmdStan done processing.\n",
      "03:20:37 - cmdstanpy - WARNING - Non-fatal error during sampling:\n",
      "Exception: normal_lpdf: Scale parameter is 0, but must be positive! (in '/home/oriol/Public/arviz/doc/source/user_guide/wrappers/linreg_model.stan', line 27, column 2 to column 64)\n",
      "\tException: normal_lpdf: Scale parameter is 0, but must be positive! (in '/home/oriol/Public/arviz/doc/source/user_guide/wrappers/linreg_model.stan', line 27, column 2 to column 64)\n",
      "\tException: normal_lpdf: Scale parameter is 0, but must be positive! (in '/home/oriol/Public/arviz/doc/source/user_guide/wrappers/linreg_model.stan', line 27, column 2 to column 64)\n",
      "\tException: normal_lpdf: Scale parameter is 0, but must be positive! (in '/home/oriol/Public/arviz/doc/source/user_guide/wrappers/linreg_model.stan', line 27, column 2 to column 64)\n",
      "Consider re-running with show_console=True if the above output is unclear!\n",
      "03:20:37 - cmdstanpy - INFO - CmdStan start processing\n"
     ]
    },
    {
     "name": "stdout",
     "output_type": "stream",
     "text": [
      "\n"
     ]
    },
    {
     "data": {
      "application/vnd.jupyter.widget-view+json": {
       "model_id": "eda3e6c0d2874de09077338d0d671359",
       "version_major": 2,
       "version_minor": 0
      },
      "text/plain": [
       "chain 1 |          | 00:00 Status"
      ]
     },
     "metadata": {},
     "output_type": "display_data"
    },
    {
     "data": {
      "application/vnd.jupyter.widget-view+json": {
       "model_id": "ddd9144eaa9546819b1a184874864d6b",
       "version_major": 2,
       "version_minor": 0
      },
      "text/plain": [
       "chain 2 |          | 00:00 Status"
      ]
     },
     "metadata": {},
     "output_type": "display_data"
    },
    {
     "data": {
      "application/vnd.jupyter.widget-view+json": {
       "model_id": "f5aa297fb37f49b99edecf047ae5715f",
       "version_major": 2,
       "version_minor": 0
      },
      "text/plain": [
       "chain 3 |          | 00:00 Status"
      ]
     },
     "metadata": {},
     "output_type": "display_data"
    },
    {
     "data": {
      "application/vnd.jupyter.widget-view+json": {
       "model_id": "acac0cec8896425ea5f793773a3de5fa",
       "version_major": 2,
       "version_minor": 0
      },
      "text/plain": [
       "chain 4 |          | 00:00 Status"
      ]
     },
     "metadata": {},
     "output_type": "display_data"
    },
    {
     "name": "stdout",
     "output_type": "stream",
     "text": [
      "                                                                                                                                                                                                                                                                                                                                "
     ]
    },
    {
     "name": "stderr",
     "output_type": "stream",
     "text": [
      "03:20:37 - cmdstanpy - INFO - CmdStan done processing.\n",
      "03:20:37 - cmdstanpy - WARNING - Some chains may have failed to converge.\n",
      "\tChain 2 had 6 divergent transitions (0.6%)\n",
      "\tUse function \"diagnose()\" to see further information.\n",
      "03:20:37 - cmdstanpy - INFO - CmdStan start processing\n"
     ]
    },
    {
     "name": "stdout",
     "output_type": "stream",
     "text": [
      "\n"
     ]
    },
    {
     "data": {
      "application/vnd.jupyter.widget-view+json": {
       "model_id": "34ac257f5f5047b7b783456e3980194c",
       "version_major": 2,
       "version_minor": 0
      },
      "text/plain": [
       "chain 1 |          | 00:00 Status"
      ]
     },
     "metadata": {},
     "output_type": "display_data"
    },
    {
     "data": {
      "application/vnd.jupyter.widget-view+json": {
       "model_id": "a8ccbc4b2d214d3c8417bddad1a4c190",
       "version_major": 2,
       "version_minor": 0
      },
      "text/plain": [
       "chain 2 |          | 00:00 Status"
      ]
     },
     "metadata": {},
     "output_type": "display_data"
    },
    {
     "data": {
      "application/vnd.jupyter.widget-view+json": {
       "model_id": "a94afc33b99e40f292cf309cbc9cf28d",
       "version_major": 2,
       "version_minor": 0
      },
      "text/plain": [
       "chain 3 |          | 00:00 Status"
      ]
     },
     "metadata": {},
     "output_type": "display_data"
    },
    {
     "data": {
      "application/vnd.jupyter.widget-view+json": {
       "model_id": "3ccba59d6a14402b864b91911e4a9f87",
       "version_major": 2,
       "version_minor": 0
      },
      "text/plain": [
       "chain 4 |          | 00:00 Status"
      ]
     },
     "metadata": {},
     "output_type": "display_data"
    },
    {
     "name": "stdout",
     "output_type": "stream",
     "text": [
      "                                                                                                                                                                                                                                                                                                                                "
     ]
    },
    {
     "name": "stderr",
     "output_type": "stream",
     "text": [
      "03:20:38 - cmdstanpy - INFO - CmdStan done processing.\n",
      "03:20:38 - cmdstanpy - INFO - CmdStan start processing\n"
     ]
    },
    {
     "name": "stdout",
     "output_type": "stream",
     "text": [
      "\n"
     ]
    },
    {
     "data": {
      "application/vnd.jupyter.widget-view+json": {
       "model_id": "00db3597125b498cb93f1a298474fe16",
       "version_major": 2,
       "version_minor": 0
      },
      "text/plain": [
       "chain 1 |          | 00:00 Status"
      ]
     },
     "metadata": {},
     "output_type": "display_data"
    },
    {
     "data": {
      "application/vnd.jupyter.widget-view+json": {
       "model_id": "ef221211ceb64c41a8d1424d198df21e",
       "version_major": 2,
       "version_minor": 0
      },
      "text/plain": [
       "chain 2 |          | 00:00 Status"
      ]
     },
     "metadata": {},
     "output_type": "display_data"
    },
    {
     "data": {
      "application/vnd.jupyter.widget-view+json": {
       "model_id": "cd4f1bec35984130b18d0e5e1dd15493",
       "version_major": 2,
       "version_minor": 0
      },
      "text/plain": [
       "chain 3 |          | 00:00 Status"
      ]
     },
     "metadata": {},
     "output_type": "display_data"
    },
    {
     "data": {
      "application/vnd.jupyter.widget-view+json": {
       "model_id": "4a8d5ea3317e4d5d80443a717557ccbe",
       "version_major": 2,
       "version_minor": 0
      },
      "text/plain": [
       "chain 4 |          | 00:00 Status"
      ]
     },
     "metadata": {},
     "output_type": "display_data"
    },
    {
     "name": "stdout",
     "output_type": "stream",
     "text": [
      "                                                                                                                                                                                                                                                                                                                                "
     ]
    },
    {
     "name": "stderr",
     "output_type": "stream",
     "text": [
      "03:20:38 - cmdstanpy - INFO - CmdStan done processing.\n",
      "03:20:38 - cmdstanpy - WARNING - Some chains may have failed to converge.\n",
      "\tChain 3 had 1 divergent transitions (0.1%)\n",
      "\tUse function \"diagnose()\" to see further information.\n",
      "03:20:38 - cmdstanpy - INFO - CmdStan start processing\n"
     ]
    },
    {
     "name": "stdout",
     "output_type": "stream",
     "text": [
      "\n"
     ]
    },
    {
     "data": {
      "application/vnd.jupyter.widget-view+json": {
       "model_id": "aaf9a24d04404269b58da6d7057bb096",
       "version_major": 2,
       "version_minor": 0
      },
      "text/plain": [
       "chain 1 |          | 00:00 Status"
      ]
     },
     "metadata": {},
     "output_type": "display_data"
    },
    {
     "data": {
      "application/vnd.jupyter.widget-view+json": {
       "model_id": "190d96f9802f491699925df96734fffa",
       "version_major": 2,
       "version_minor": 0
      },
      "text/plain": [
       "chain 2 |          | 00:00 Status"
      ]
     },
     "metadata": {},
     "output_type": "display_data"
    },
    {
     "data": {
      "application/vnd.jupyter.widget-view+json": {
       "model_id": "c07fddb368df4135b7584a3acc7b7fba",
       "version_major": 2,
       "version_minor": 0
      },
      "text/plain": [
       "chain 3 |          | 00:00 Status"
      ]
     },
     "metadata": {},
     "output_type": "display_data"
    },
    {
     "data": {
      "application/vnd.jupyter.widget-view+json": {
       "model_id": "cbd15addcc4545baa0e9215da90901d9",
       "version_major": 2,
       "version_minor": 0
      },
      "text/plain": [
       "chain 4 |          | 00:00 Status"
      ]
     },
     "metadata": {},
     "output_type": "display_data"
    },
    {
     "name": "stdout",
     "output_type": "stream",
     "text": [
      "                                                                                                                                                                                                                                                                                                                                "
     ]
    },
    {
     "name": "stderr",
     "output_type": "stream",
     "text": [
      "03:20:39 - cmdstanpy - INFO - CmdStan done processing.\n",
      "03:20:39 - cmdstanpy - WARNING - Non-fatal error during sampling:\n",
      "Exception: normal_lpdf: Scale parameter is 0, but must be positive! (in '/home/oriol/Public/arviz/doc/source/user_guide/wrappers/linreg_model.stan', line 27, column 2 to column 64)\n",
      "\tException: normal_lpdf: Scale parameter is 0, but must be positive! (in '/home/oriol/Public/arviz/doc/source/user_guide/wrappers/linreg_model.stan', line 27, column 2 to column 64)\n",
      "\tException: normal_lpdf: Scale parameter is 0, but must be positive! (in '/home/oriol/Public/arviz/doc/source/user_guide/wrappers/linreg_model.stan', line 27, column 2 to column 64)\n",
      "Consider re-running with show_console=True if the above output is unclear!\n",
      "03:20:39 - cmdstanpy - INFO - CmdStan start processing\n"
     ]
    },
    {
     "name": "stdout",
     "output_type": "stream",
     "text": [
      "\n"
     ]
    },
    {
     "data": {
      "application/vnd.jupyter.widget-view+json": {
       "model_id": "34c916713eca4da49235367e92bac740",
       "version_major": 2,
       "version_minor": 0
      },
      "text/plain": [
       "chain 1 |          | 00:00 Status"
      ]
     },
     "metadata": {},
     "output_type": "display_data"
    },
    {
     "data": {
      "application/vnd.jupyter.widget-view+json": {
       "model_id": "d1c2c69b5f72456db0db55d4daf5f1e7",
       "version_major": 2,
       "version_minor": 0
      },
      "text/plain": [
       "chain 2 |          | 00:00 Status"
      ]
     },
     "metadata": {},
     "output_type": "display_data"
    },
    {
     "data": {
      "application/vnd.jupyter.widget-view+json": {
       "model_id": "df07bda8744f4df7ac9ad9876522ecb1",
       "version_major": 2,
       "version_minor": 0
      },
      "text/plain": [
       "chain 3 |          | 00:00 Status"
      ]
     },
     "metadata": {},
     "output_type": "display_data"
    },
    {
     "data": {
      "application/vnd.jupyter.widget-view+json": {
       "model_id": "9036678cc7084f54b73bde980ddb7468",
       "version_major": 2,
       "version_minor": 0
      },
      "text/plain": [
       "chain 4 |          | 00:00 Status"
      ]
     },
     "metadata": {},
     "output_type": "display_data"
    },
    {
     "name": "stdout",
     "output_type": "stream",
     "text": [
      "                                                                                                                                                                                                                                                                                                                                "
     ]
    },
    {
     "name": "stderr",
     "output_type": "stream",
     "text": [
      "03:20:39 - cmdstanpy - INFO - CmdStan done processing.\n",
      "03:20:39 - cmdstanpy - WARNING - Some chains may have failed to converge.\n",
      "\tChain 3 had 1 divergent transitions (0.1%)\n",
      "\tUse function \"diagnose()\" to see further information.\n",
      "03:20:39 - cmdstanpy - INFO - CmdStan start processing\n"
     ]
    },
    {
     "name": "stdout",
     "output_type": "stream",
     "text": [
      "\n"
     ]
    },
    {
     "data": {
      "application/vnd.jupyter.widget-view+json": {
       "model_id": "44b55c6b80964b86a62056726fc32a57",
       "version_major": 2,
       "version_minor": 0
      },
      "text/plain": [
       "chain 1 |          | 00:00 Status"
      ]
     },
     "metadata": {},
     "output_type": "display_data"
    },
    {
     "data": {
      "application/vnd.jupyter.widget-view+json": {
       "model_id": "1e41a43630494ccb8d24c83e24ba4c8c",
       "version_major": 2,
       "version_minor": 0
      },
      "text/plain": [
       "chain 2 |          | 00:00 Status"
      ]
     },
     "metadata": {},
     "output_type": "display_data"
    },
    {
     "data": {
      "application/vnd.jupyter.widget-view+json": {
       "model_id": "eda437442c664d568b3954b3329b6617",
       "version_major": 2,
       "version_minor": 0
      },
      "text/plain": [
       "chain 3 |          | 00:00 Status"
      ]
     },
     "metadata": {},
     "output_type": "display_data"
    },
    {
     "data": {
      "application/vnd.jupyter.widget-view+json": {
       "model_id": "e5a259cdb7fd4516b49c38ba3a76171b",
       "version_major": 2,
       "version_minor": 0
      },
      "text/plain": [
       "chain 4 |          | 00:00 Status"
      ]
     },
     "metadata": {},
     "output_type": "display_data"
    },
    {
     "name": "stdout",
     "output_type": "stream",
     "text": [
      "                                                                                                                                                                                                                                                                                                                                "
     ]
    },
    {
     "name": "stderr",
     "output_type": "stream",
     "text": [
      "03:20:40 - cmdstanpy - INFO - CmdStan done processing.\n",
      "03:20:40 - cmdstanpy - INFO - CmdStan start processing\n"
     ]
    },
    {
     "name": "stdout",
     "output_type": "stream",
     "text": [
      "\n"
     ]
    },
    {
     "data": {
      "application/vnd.jupyter.widget-view+json": {
       "model_id": "860463424ea2465093edfaf3860e927e",
       "version_major": 2,
       "version_minor": 0
      },
      "text/plain": [
       "chain 1 |          | 00:00 Status"
      ]
     },
     "metadata": {},
     "output_type": "display_data"
    },
    {
     "data": {
      "application/vnd.jupyter.widget-view+json": {
       "model_id": "bf5112fadd234bb1b7fc7942efabe4c3",
       "version_major": 2,
       "version_minor": 0
      },
      "text/plain": [
       "chain 2 |          | 00:00 Status"
      ]
     },
     "metadata": {},
     "output_type": "display_data"
    },
    {
     "data": {
      "application/vnd.jupyter.widget-view+json": {
       "model_id": "6dbe8a0cc36a4b61a949637d66fca1a4",
       "version_major": 2,
       "version_minor": 0
      },
      "text/plain": [
       "chain 3 |          | 00:00 Status"
      ]
     },
     "metadata": {},
     "output_type": "display_data"
    },
    {
     "data": {
      "application/vnd.jupyter.widget-view+json": {
       "model_id": "422aaaf367a34ae4bf63b5fbe5c22345",
       "version_major": 2,
       "version_minor": 0
      },
      "text/plain": [
       "chain 4 |          | 00:00 Status"
      ]
     },
     "metadata": {},
     "output_type": "display_data"
    },
    {
     "name": "stdout",
     "output_type": "stream",
     "text": [
      "                                                                                                                                                                                                                                                                                                                                "
     ]
    },
    {
     "name": "stderr",
     "output_type": "stream",
     "text": [
      "03:20:40 - cmdstanpy - INFO - CmdStan done processing.\n",
      "03:20:41 - cmdstanpy - INFO - CmdStan start processing\n"
     ]
    },
    {
     "name": "stdout",
     "output_type": "stream",
     "text": [
      "\n"
     ]
    },
    {
     "data": {
      "application/vnd.jupyter.widget-view+json": {
       "model_id": "926ba9a3787045d78b418d084c069d07",
       "version_major": 2,
       "version_minor": 0
      },
      "text/plain": [
       "chain 1 |          | 00:00 Status"
      ]
     },
     "metadata": {},
     "output_type": "display_data"
    },
    {
     "data": {
      "application/vnd.jupyter.widget-view+json": {
       "model_id": "8c18a13468274e3e958704e5b5b5835d",
       "version_major": 2,
       "version_minor": 0
      },
      "text/plain": [
       "chain 2 |          | 00:00 Status"
      ]
     },
     "metadata": {},
     "output_type": "display_data"
    },
    {
     "data": {
      "application/vnd.jupyter.widget-view+json": {
       "model_id": "bc1791f3592e41a6be216ef2a5886633",
       "version_major": 2,
       "version_minor": 0
      },
      "text/plain": [
       "chain 3 |          | 00:00 Status"
      ]
     },
     "metadata": {},
     "output_type": "display_data"
    },
    {
     "data": {
      "application/vnd.jupyter.widget-view+json": {
       "model_id": "0012898d1d8e4397b1216098531da087",
       "version_major": 2,
       "version_minor": 0
      },
      "text/plain": [
       "chain 4 |          | 00:00 Status"
      ]
     },
     "metadata": {},
     "output_type": "display_data"
    },
    {
     "name": "stdout",
     "output_type": "stream",
     "text": [
      "                                                                                                                                                                                                                                                                                                                                "
     ]
    },
    {
     "name": "stderr",
     "output_type": "stream",
     "text": [
      "03:20:41 - cmdstanpy - INFO - CmdStan done processing.\n",
      "03:20:41 - cmdstanpy - INFO - CmdStan start processing\n"
     ]
    },
    {
     "name": "stdout",
     "output_type": "stream",
     "text": [
      "\n"
     ]
    },
    {
     "data": {
      "application/vnd.jupyter.widget-view+json": {
       "model_id": "3d07be0b0b534dd3882e2cb7f8774694",
       "version_major": 2,
       "version_minor": 0
      },
      "text/plain": [
       "chain 1 |          | 00:00 Status"
      ]
     },
     "metadata": {},
     "output_type": "display_data"
    },
    {
     "data": {
      "application/vnd.jupyter.widget-view+json": {
       "model_id": "36cbe8ec596145adb42d0ec43030d182",
       "version_major": 2,
       "version_minor": 0
      },
      "text/plain": [
       "chain 2 |          | 00:00 Status"
      ]
     },
     "metadata": {},
     "output_type": "display_data"
    },
    {
     "data": {
      "application/vnd.jupyter.widget-view+json": {
       "model_id": "631e7653be9d4102a9a413a76922f76b",
       "version_major": 2,
       "version_minor": 0
      },
      "text/plain": [
       "chain 3 |          | 00:00 Status"
      ]
     },
     "metadata": {},
     "output_type": "display_data"
    },
    {
     "data": {
      "application/vnd.jupyter.widget-view+json": {
       "model_id": "db8fd81cfd3244568c138b44cb635bb5",
       "version_major": 2,
       "version_minor": 0
      },
      "text/plain": [
       "chain 4 |          | 00:00 Status"
      ]
     },
     "metadata": {},
     "output_type": "display_data"
    },
    {
     "name": "stdout",
     "output_type": "stream",
     "text": [
      "                                                                                                                                                                                                                                                                                                                                "
     ]
    },
    {
     "name": "stderr",
     "output_type": "stream",
     "text": [
      "03:20:41 - cmdstanpy - INFO - CmdStan done processing.\n",
      "03:20:41 - cmdstanpy - WARNING - Some chains may have failed to converge.\n",
      "\tChain 1 had 5 divergent transitions (0.5%)\n",
      "\tUse function \"diagnose()\" to see further information.\n",
      "03:20:42 - cmdstanpy - INFO - CmdStan start processing\n"
     ]
    },
    {
     "name": "stdout",
     "output_type": "stream",
     "text": [
      "\n"
     ]
    },
    {
     "data": {
      "application/vnd.jupyter.widget-view+json": {
       "model_id": "af3778f175474cd7a45492af2cfad34d",
       "version_major": 2,
       "version_minor": 0
      },
      "text/plain": [
       "chain 1 |          | 00:00 Status"
      ]
     },
     "metadata": {},
     "output_type": "display_data"
    },
    {
     "data": {
      "application/vnd.jupyter.widget-view+json": {
       "model_id": "88ae9073058a4c9cb51be0b8886aa4d6",
       "version_major": 2,
       "version_minor": 0
      },
      "text/plain": [
       "chain 2 |          | 00:00 Status"
      ]
     },
     "metadata": {},
     "output_type": "display_data"
    },
    {
     "data": {
      "application/vnd.jupyter.widget-view+json": {
       "model_id": "63cd80371e1843fa83689d03c55ea15b",
       "version_major": 2,
       "version_minor": 0
      },
      "text/plain": [
       "chain 3 |          | 00:00 Status"
      ]
     },
     "metadata": {},
     "output_type": "display_data"
    },
    {
     "data": {
      "application/vnd.jupyter.widget-view+json": {
       "model_id": "add1b33107244faf97ead8f135bcd9e4",
       "version_major": 2,
       "version_minor": 0
      },
      "text/plain": [
       "chain 4 |          | 00:00 Status"
      ]
     },
     "metadata": {},
     "output_type": "display_data"
    },
    {
     "name": "stdout",
     "output_type": "stream",
     "text": [
      "                                                                                                                                                                                                                                                                                                                                "
     ]
    },
    {
     "name": "stderr",
     "output_type": "stream",
     "text": [
      "03:20:42 - cmdstanpy - INFO - CmdStan done processing.\n",
      "03:20:42 - cmdstanpy - INFO - CmdStan start processing\n"
     ]
    },
    {
     "name": "stdout",
     "output_type": "stream",
     "text": [
      "\n"
     ]
    },
    {
     "data": {
      "application/vnd.jupyter.widget-view+json": {
       "model_id": "e2fca9cf1eef4544afb1079b74ea4c98",
       "version_major": 2,
       "version_minor": 0
      },
      "text/plain": [
       "chain 1 |          | 00:00 Status"
      ]
     },
     "metadata": {},
     "output_type": "display_data"
    },
    {
     "data": {
      "application/vnd.jupyter.widget-view+json": {
       "model_id": "cb08dba423cb441799ed3784b0d19db7",
       "version_major": 2,
       "version_minor": 0
      },
      "text/plain": [
       "chain 2 |          | 00:00 Status"
      ]
     },
     "metadata": {},
     "output_type": "display_data"
    },
    {
     "data": {
      "application/vnd.jupyter.widget-view+json": {
       "model_id": "8fcf8fdbf6844119aa41a207b03efe66",
       "version_major": 2,
       "version_minor": 0
      },
      "text/plain": [
       "chain 3 |          | 00:00 Status"
      ]
     },
     "metadata": {},
     "output_type": "display_data"
    },
    {
     "data": {
      "application/vnd.jupyter.widget-view+json": {
       "model_id": "1cd80079677845fa91fc0d820202cea2",
       "version_major": 2,
       "version_minor": 0
      },
      "text/plain": [
       "chain 4 |          | 00:00 Status"
      ]
     },
     "metadata": {},
     "output_type": "display_data"
    },
    {
     "name": "stdout",
     "output_type": "stream",
     "text": [
      "                                                                                                                                                                                                                                                                                                                                "
     ]
    },
    {
     "name": "stderr",
     "output_type": "stream",
     "text": [
      "03:20:42 - cmdstanpy - INFO - CmdStan done processing.\n",
      "03:20:42 - cmdstanpy - WARNING - Some chains may have failed to converge.\n",
      "\tChain 2 had 1 divergent transitions (0.1%)\n",
      "\tUse function \"diagnose()\" to see further information.\n",
      "03:20:43 - cmdstanpy - INFO - CmdStan start processing\n"
     ]
    },
    {
     "name": "stdout",
     "output_type": "stream",
     "text": [
      "\n"
     ]
    },
    {
     "data": {
      "application/vnd.jupyter.widget-view+json": {
       "model_id": "9879a17d9d614cfe807ace1cd21e5f0d",
       "version_major": 2,
       "version_minor": 0
      },
      "text/plain": [
       "chain 1 |          | 00:00 Status"
      ]
     },
     "metadata": {},
     "output_type": "display_data"
    },
    {
     "data": {
      "application/vnd.jupyter.widget-view+json": {
       "model_id": "b0741e1814aa475d8b0fc1e40b2978a4",
       "version_major": 2,
       "version_minor": 0
      },
      "text/plain": [
       "chain 2 |          | 00:00 Status"
      ]
     },
     "metadata": {},
     "output_type": "display_data"
    },
    {
     "data": {
      "application/vnd.jupyter.widget-view+json": {
       "model_id": "a20351ac8f034893aac6cc3d1b183180",
       "version_major": 2,
       "version_minor": 0
      },
      "text/plain": [
       "chain 3 |          | 00:00 Status"
      ]
     },
     "metadata": {},
     "output_type": "display_data"
    },
    {
     "data": {
      "application/vnd.jupyter.widget-view+json": {
       "model_id": "6a9a2c004b674201a92d99e38d41d064",
       "version_major": 2,
       "version_minor": 0
      },
      "text/plain": [
       "chain 4 |          | 00:00 Status"
      ]
     },
     "metadata": {},
     "output_type": "display_data"
    },
    {
     "name": "stdout",
     "output_type": "stream",
     "text": [
      "                                                                                                                                                                                                                                                                                                                                "
     ]
    },
    {
     "name": "stderr",
     "output_type": "stream",
     "text": [
      "03:20:43 - cmdstanpy - INFO - CmdStan done processing.\n",
      "03:20:43 - cmdstanpy - INFO - CmdStan start processing\n"
     ]
    },
    {
     "name": "stdout",
     "output_type": "stream",
     "text": [
      "\n"
     ]
    },
    {
     "data": {
      "application/vnd.jupyter.widget-view+json": {
       "model_id": "efc9354552aa47069b91207f3e97a2c8",
       "version_major": 2,
       "version_minor": 0
      },
      "text/plain": [
       "chain 1 |          | 00:00 Status"
      ]
     },
     "metadata": {},
     "output_type": "display_data"
    },
    {
     "data": {
      "application/vnd.jupyter.widget-view+json": {
       "model_id": "1ac35d2438484c6c8486bd4eb070b01b",
       "version_major": 2,
       "version_minor": 0
      },
      "text/plain": [
       "chain 2 |          | 00:00 Status"
      ]
     },
     "metadata": {},
     "output_type": "display_data"
    },
    {
     "data": {
      "application/vnd.jupyter.widget-view+json": {
       "model_id": "bfe4f6d331964974884b510e5afe14c7",
       "version_major": 2,
       "version_minor": 0
      },
      "text/plain": [
       "chain 3 |          | 00:00 Status"
      ]
     },
     "metadata": {},
     "output_type": "display_data"
    },
    {
     "data": {
      "application/vnd.jupyter.widget-view+json": {
       "model_id": "8b52ef7938e9481e99eba388266b2f50",
       "version_major": 2,
       "version_minor": 0
      },
      "text/plain": [
       "chain 4 |          | 00:00 Status"
      ]
     },
     "metadata": {},
     "output_type": "display_data"
    },
    {
     "name": "stdout",
     "output_type": "stream",
     "text": [
      "                                                                                                                                                                                                                                                                                                                                "
     ]
    },
    {
     "name": "stderr",
     "output_type": "stream",
     "text": [
      "03:20:43 - cmdstanpy - INFO - CmdStan done processing.\n",
      "03:20:44 - cmdstanpy - INFO - CmdStan start processing\n"
     ]
    },
    {
     "name": "stdout",
     "output_type": "stream",
     "text": [
      "\n"
     ]
    },
    {
     "data": {
      "application/vnd.jupyter.widget-view+json": {
       "model_id": "f47bec5390764696b7133575f78ff1b4",
       "version_major": 2,
       "version_minor": 0
      },
      "text/plain": [
       "chain 1 |          | 00:00 Status"
      ]
     },
     "metadata": {},
     "output_type": "display_data"
    },
    {
     "data": {
      "application/vnd.jupyter.widget-view+json": {
       "model_id": "72078de536e14a34acd5ee97fe255727",
       "version_major": 2,
       "version_minor": 0
      },
      "text/plain": [
       "chain 2 |          | 00:00 Status"
      ]
     },
     "metadata": {},
     "output_type": "display_data"
    },
    {
     "data": {
      "application/vnd.jupyter.widget-view+json": {
       "model_id": "fa44d11440c94c4f8abdeb275e3864a7",
       "version_major": 2,
       "version_minor": 0
      },
      "text/plain": [
       "chain 3 |          | 00:00 Status"
      ]
     },
     "metadata": {},
     "output_type": "display_data"
    },
    {
     "data": {
      "application/vnd.jupyter.widget-view+json": {
       "model_id": "4db8139b95954db982308377111ea6b4",
       "version_major": 2,
       "version_minor": 0
      },
      "text/plain": [
       "chain 4 |          | 00:00 Status"
      ]
     },
     "metadata": {},
     "output_type": "display_data"
    },
    {
     "name": "stdout",
     "output_type": "stream",
     "text": [
      "                                                                                                                                                                                                                                                                                                                                "
     ]
    },
    {
     "name": "stderr",
     "output_type": "stream",
     "text": [
      "03:20:44 - cmdstanpy - INFO - CmdStan done processing.\n",
      "03:20:44 - cmdstanpy - WARNING - Some chains may have failed to converge.\n",
      "\tChain 4 had 1 divergent transitions (0.1%)\n",
      "\tUse function \"diagnose()\" to see further information.\n",
      "03:20:44 - cmdstanpy - INFO - CmdStan start processing\n"
     ]
    },
    {
     "name": "stdout",
     "output_type": "stream",
     "text": [
      "\n"
     ]
    },
    {
     "data": {
      "application/vnd.jupyter.widget-view+json": {
       "model_id": "63d6fe01f8f84e2db6ccfa2515dcccd8",
       "version_major": 2,
       "version_minor": 0
      },
      "text/plain": [
       "chain 1 |          | 00:00 Status"
      ]
     },
     "metadata": {},
     "output_type": "display_data"
    },
    {
     "data": {
      "application/vnd.jupyter.widget-view+json": {
       "model_id": "d9bb67ac54c64bd2882810e94dfe55a5",
       "version_major": 2,
       "version_minor": 0
      },
      "text/plain": [
       "chain 2 |          | 00:00 Status"
      ]
     },
     "metadata": {},
     "output_type": "display_data"
    },
    {
     "data": {
      "application/vnd.jupyter.widget-view+json": {
       "model_id": "eb09db5095fb48d0ad52d4719866870f",
       "version_major": 2,
       "version_minor": 0
      },
      "text/plain": [
       "chain 3 |          | 00:00 Status"
      ]
     },
     "metadata": {},
     "output_type": "display_data"
    },
    {
     "data": {
      "application/vnd.jupyter.widget-view+json": {
       "model_id": "77e871c422b6434488193aeb1cd65fb4",
       "version_major": 2,
       "version_minor": 0
      },
      "text/plain": [
       "chain 4 |          | 00:00 Status"
      ]
     },
     "metadata": {},
     "output_type": "display_data"
    },
    {
     "name": "stdout",
     "output_type": "stream",
     "text": [
      "                                                                                                                                                                                                                                                                                                                                "
     ]
    },
    {
     "name": "stderr",
     "output_type": "stream",
     "text": [
      "03:20:44 - cmdstanpy - INFO - CmdStan done processing.\n",
      "03:20:44 - cmdstanpy - WARNING - Some chains may have failed to converge.\n",
      "\tChain 3 had 19 divergent transitions (1.9%)\n",
      "\tChain 4 had 1 divergent transitions (0.1%)\n",
      "\tUse function \"diagnose()\" to see further information.\n",
      "03:20:45 - cmdstanpy - INFO - CmdStan start processing\n"
     ]
    },
    {
     "name": "stdout",
     "output_type": "stream",
     "text": [
      "\n"
     ]
    },
    {
     "data": {
      "application/vnd.jupyter.widget-view+json": {
       "model_id": "68dd7e248405461f8939791da623e193",
       "version_major": 2,
       "version_minor": 0
      },
      "text/plain": [
       "chain 1 |          | 00:00 Status"
      ]
     },
     "metadata": {},
     "output_type": "display_data"
    },
    {
     "data": {
      "application/vnd.jupyter.widget-view+json": {
       "model_id": "83835843dc2649b5a2beb7e55937ebaf",
       "version_major": 2,
       "version_minor": 0
      },
      "text/plain": [
       "chain 2 |          | 00:00 Status"
      ]
     },
     "metadata": {},
     "output_type": "display_data"
    },
    {
     "data": {
      "application/vnd.jupyter.widget-view+json": {
       "model_id": "14625dabf5a343979a601e05deb6dbf6",
       "version_major": 2,
       "version_minor": 0
      },
      "text/plain": [
       "chain 3 |          | 00:00 Status"
      ]
     },
     "metadata": {},
     "output_type": "display_data"
    },
    {
     "data": {
      "application/vnd.jupyter.widget-view+json": {
       "model_id": "3b153e7446ed4e52babc96b588a86d1a",
       "version_major": 2,
       "version_minor": 0
      },
      "text/plain": [
       "chain 4 |          | 00:00 Status"
      ]
     },
     "metadata": {},
     "output_type": "display_data"
    },
    {
     "name": "stdout",
     "output_type": "stream",
     "text": [
      "                                                                                                                                                                                                                                                                                                                                "
     ]
    },
    {
     "name": "stderr",
     "output_type": "stream",
     "text": [
      "03:20:45 - cmdstanpy - INFO - CmdStan done processing.\n",
      "03:20:45 - cmdstanpy - WARNING - Some chains may have failed to converge.\n",
      "\tChain 1 had 3 divergent transitions (0.3%)\n",
      "\tChain 2 had 1 divergent transitions (0.1%)\n",
      "\tChain 3 had 1 divergent transitions (0.1%)\n",
      "\tChain 4 had 1 divergent transitions (0.1%)\n",
      "\tUse function \"diagnose()\" to see further information.\n",
      "03:20:45 - cmdstanpy - INFO - CmdStan start processing\n"
     ]
    },
    {
     "name": "stdout",
     "output_type": "stream",
     "text": [
      "\n"
     ]
    },
    {
     "data": {
      "application/vnd.jupyter.widget-view+json": {
       "model_id": "6a98d132096342f7ac51001a9d78d030",
       "version_major": 2,
       "version_minor": 0
      },
      "text/plain": [
       "chain 1 |          | 00:00 Status"
      ]
     },
     "metadata": {},
     "output_type": "display_data"
    },
    {
     "data": {
      "application/vnd.jupyter.widget-view+json": {
       "model_id": "8376d8c2af764b9f9595c9651bb68b26",
       "version_major": 2,
       "version_minor": 0
      },
      "text/plain": [
       "chain 2 |          | 00:00 Status"
      ]
     },
     "metadata": {},
     "output_type": "display_data"
    },
    {
     "data": {
      "application/vnd.jupyter.widget-view+json": {
       "model_id": "15added58a594d2a8b74c7497fead054",
       "version_major": 2,
       "version_minor": 0
      },
      "text/plain": [
       "chain 3 |          | 00:00 Status"
      ]
     },
     "metadata": {},
     "output_type": "display_data"
    },
    {
     "data": {
      "application/vnd.jupyter.widget-view+json": {
       "model_id": "e0254947981041aabe535fdf9d666bb2",
       "version_major": 2,
       "version_minor": 0
      },
      "text/plain": [
       "chain 4 |          | 00:00 Status"
      ]
     },
     "metadata": {},
     "output_type": "display_data"
    },
    {
     "name": "stdout",
     "output_type": "stream",
     "text": [
      "                                                                                                                                                                                                                                                                                                                                "
     ]
    },
    {
     "name": "stderr",
     "output_type": "stream",
     "text": [
      "03:20:45 - cmdstanpy - INFO - CmdStan done processing.\n"
     ]
    },
    {
     "name": "stdout",
     "output_type": "stream",
     "text": [
      "\n"
     ]
    }
   ],
   "source": [
    "prior_pred = idata_orig.prior_predictive\n",
    "S = prior_pred.dims[\"prior_draw\"]\n",
    "idata_list = []\n",
    "for i in range(S):\n",
    "    data_s = prior_pred.isel(prior_draw=i)\n",
    "    data_dict = {\n",
    "        \"slack_comments\": data_s[\"slack_comments_hat\"].values,\n",
    "        \"github_commits\": data_s[\"github_commits_hat\"].values,\n",
    "        **linreg_base_data,\n",
    "    }\n",
    "    write_stan_json(\"linreg_data.json\", data_dict)\n",
    "    fit = model.sample(data=\"linreg_data.json\")\n",
    "    idata = az.from_cmdstanpy(posterior=fit, **idata_kwargs)\n",
    "    idata_list.append(idata)"
   ]
  },
  {
   "cell_type": "code",
   "execution_count": 9,
   "id": "7c4e6260",
   "metadata": {},
   "outputs": [
    {
     "name": "stderr",
     "output_type": "stream",
     "text": [
      "/home/oriol/Public/arviz/arviz/data/inference_data.py:1427: UserWarning: The group posterior_preditive is not defined in the InferenceData scheme\n",
      "  warnings.warn(\n"
     ]
    }
   ],
   "source": [
    "post = xr.concat((idata.posterior for idata in idata_list), dim=\"prior_draws\")\n",
    "post_pred = xr.concat((idata.posterior_predictive for idata in idata_list), dim=\"prior_draws\")\n",
    "\n",
    "idata_orig.add_groups(posterior=post, posterior_preditive=post_pred)"
   ]
  },
  {
   "cell_type": "code",
   "execution_count": 10,
   "id": "b764516c",
   "metadata": {},
   "outputs": [
    {
     "data": {
      "text/html": [
       "\n",
       "            <div>\n",
       "              <div class='xr-header'>\n",
       "                <div class=\"xr-obj-type\">arviz.InferenceData</div>\n",
       "              </div>\n",
       "              <ul class=\"xr-sections group-sections\">\n",
       "              \n",
       "            <li class = \"xr-section-item\">\n",
       "                  <input id=\"idata_posterioraed2a3eb-9569-4a23-958b-718e33b56768\" class=\"xr-section-summary-in\" type=\"checkbox\">\n",
       "                  <label for=\"idata_posterioraed2a3eb-9569-4a23-958b-718e33b56768\" class = \"xr-section-summary\">posterior</label>\n",
       "                  <div class=\"xr-section-inline-details\"></div>\n",
       "                  <div class=\"xr-section-details\">\n",
       "                      <ul id=\"xr-dataset-coord-list\" class=\"xr-var-list\">\n",
       "                          <div style=\"padding-left:2rem;\"><div><svg style=\"position: absolute; width: 0; height: 0; overflow: hidden\">\n",
       "<defs>\n",
       "<symbol id=\"icon-database\" viewBox=\"0 0 32 32\">\n",
       "<path d=\"M16 0c-8.837 0-16 2.239-16 5v4c0 2.761 7.163 5 16 5s16-2.239 16-5v-4c0-2.761-7.163-5-16-5z\"></path>\n",
       "<path d=\"M16 17c-8.837 0-16-2.239-16-5v6c0 2.761 7.163 5 16 5s16-2.239 16-5v-6c0 2.761-7.163 5-16 5z\"></path>\n",
       "<path d=\"M16 26c-8.837 0-16-2.239-16-5v6c0 2.761 7.163 5 16 5s16-2.239 16-5v-6c0 2.761-7.163 5-16 5z\"></path>\n",
       "</symbol>\n",
       "<symbol id=\"icon-file-text2\" viewBox=\"0 0 32 32\">\n",
       "<path d=\"M28.681 7.159c-0.694-0.947-1.662-2.053-2.724-3.116s-2.169-2.030-3.116-2.724c-1.612-1.182-2.393-1.319-2.841-1.319h-15.5c-1.378 0-2.5 1.121-2.5 2.5v27c0 1.378 1.122 2.5 2.5 2.5h23c1.378 0 2.5-1.122 2.5-2.5v-19.5c0-0.448-0.137-1.23-1.319-2.841zM24.543 5.457c0.959 0.959 1.712 1.825 2.268 2.543h-4.811v-4.811c0.718 0.556 1.584 1.309 2.543 2.268zM28 29.5c0 0.271-0.229 0.5-0.5 0.5h-23c-0.271 0-0.5-0.229-0.5-0.5v-27c0-0.271 0.229-0.5 0.5-0.5 0 0 15.499-0 15.5 0v7c0 0.552 0.448 1 1 1h7v19.5z\"></path>\n",
       "<path d=\"M23 26h-14c-0.552 0-1-0.448-1-1s0.448-1 1-1h14c0.552 0 1 0.448 1 1s-0.448 1-1 1z\"></path>\n",
       "<path d=\"M23 22h-14c-0.552 0-1-0.448-1-1s0.448-1 1-1h14c0.552 0 1 0.448 1 1s-0.448 1-1 1z\"></path>\n",
       "<path d=\"M23 18h-14c-0.552 0-1-0.448-1-1s0.448-1 1-1h14c0.552 0 1 0.448 1 1s-0.448 1-1 1z\"></path>\n",
       "</symbol>\n",
       "</defs>\n",
       "</svg>\n",
       "<style>/* CSS stylesheet for displaying xarray objects in jupyterlab.\n",
       " *\n",
       " */\n",
       "\n",
       ":root {\n",
       "  --xr-font-color0: var(--jp-content-font-color0, rgba(0, 0, 0, 1));\n",
       "  --xr-font-color2: var(--jp-content-font-color2, rgba(0, 0, 0, 0.54));\n",
       "  --xr-font-color3: var(--jp-content-font-color3, rgba(0, 0, 0, 0.38));\n",
       "  --xr-border-color: var(--jp-border-color2, #e0e0e0);\n",
       "  --xr-disabled-color: var(--jp-layout-color3, #bdbdbd);\n",
       "  --xr-background-color: var(--jp-layout-color0, white);\n",
       "  --xr-background-color-row-even: var(--jp-layout-color1, white);\n",
       "  --xr-background-color-row-odd: var(--jp-layout-color2, #eeeeee);\n",
       "}\n",
       "\n",
       "html[theme=dark],\n",
       "body[data-theme=dark],\n",
       "body.vscode-dark {\n",
       "  --xr-font-color0: rgba(255, 255, 255, 1);\n",
       "  --xr-font-color2: rgba(255, 255, 255, 0.54);\n",
       "  --xr-font-color3: rgba(255, 255, 255, 0.38);\n",
       "  --xr-border-color: #1F1F1F;\n",
       "  --xr-disabled-color: #515151;\n",
       "  --xr-background-color: #111111;\n",
       "  --xr-background-color-row-even: #111111;\n",
       "  --xr-background-color-row-odd: #313131;\n",
       "}\n",
       "\n",
       ".xr-wrap {\n",
       "  display: block !important;\n",
       "  min-width: 300px;\n",
       "  max-width: 700px;\n",
       "}\n",
       "\n",
       ".xr-text-repr-fallback {\n",
       "  /* fallback to plain text repr when CSS is not injected (untrusted notebook) */\n",
       "  display: none;\n",
       "}\n",
       "\n",
       ".xr-header {\n",
       "  padding-top: 6px;\n",
       "  padding-bottom: 6px;\n",
       "  margin-bottom: 4px;\n",
       "  border-bottom: solid 1px var(--xr-border-color);\n",
       "}\n",
       "\n",
       ".xr-header > div,\n",
       ".xr-header > ul {\n",
       "  display: inline;\n",
       "  margin-top: 0;\n",
       "  margin-bottom: 0;\n",
       "}\n",
       "\n",
       ".xr-obj-type,\n",
       ".xr-array-name {\n",
       "  margin-left: 2px;\n",
       "  margin-right: 10px;\n",
       "}\n",
       "\n",
       ".xr-obj-type {\n",
       "  color: var(--xr-font-color2);\n",
       "}\n",
       "\n",
       ".xr-sections {\n",
       "  padding-left: 0 !important;\n",
       "  display: grid;\n",
       "  grid-template-columns: 150px auto auto 1fr 20px 20px;\n",
       "}\n",
       "\n",
       ".xr-section-item {\n",
       "  display: contents;\n",
       "}\n",
       "\n",
       ".xr-section-item input {\n",
       "  display: none;\n",
       "}\n",
       "\n",
       ".xr-section-item input + label {\n",
       "  color: var(--xr-disabled-color);\n",
       "}\n",
       "\n",
       ".xr-section-item input:enabled + label {\n",
       "  cursor: pointer;\n",
       "  color: var(--xr-font-color2);\n",
       "}\n",
       "\n",
       ".xr-section-item input:enabled + label:hover {\n",
       "  color: var(--xr-font-color0);\n",
       "}\n",
       "\n",
       ".xr-section-summary {\n",
       "  grid-column: 1;\n",
       "  color: var(--xr-font-color2);\n",
       "  font-weight: 500;\n",
       "}\n",
       "\n",
       ".xr-section-summary > span {\n",
       "  display: inline-block;\n",
       "  padding-left: 0.5em;\n",
       "}\n",
       "\n",
       ".xr-section-summary-in:disabled + label {\n",
       "  color: var(--xr-font-color2);\n",
       "}\n",
       "\n",
       ".xr-section-summary-in + label:before {\n",
       "  display: inline-block;\n",
       "  content: '►';\n",
       "  font-size: 11px;\n",
       "  width: 15px;\n",
       "  text-align: center;\n",
       "}\n",
       "\n",
       ".xr-section-summary-in:disabled + label:before {\n",
       "  color: var(--xr-disabled-color);\n",
       "}\n",
       "\n",
       ".xr-section-summary-in:checked + label:before {\n",
       "  content: '▼';\n",
       "}\n",
       "\n",
       ".xr-section-summary-in:checked + label > span {\n",
       "  display: none;\n",
       "}\n",
       "\n",
       ".xr-section-summary,\n",
       ".xr-section-inline-details {\n",
       "  padding-top: 4px;\n",
       "  padding-bottom: 4px;\n",
       "}\n",
       "\n",
       ".xr-section-inline-details {\n",
       "  grid-column: 2 / -1;\n",
       "}\n",
       "\n",
       ".xr-section-details {\n",
       "  display: none;\n",
       "  grid-column: 1 / -1;\n",
       "  margin-bottom: 5px;\n",
       "}\n",
       "\n",
       ".xr-section-summary-in:checked ~ .xr-section-details {\n",
       "  display: contents;\n",
       "}\n",
       "\n",
       ".xr-array-wrap {\n",
       "  grid-column: 1 / -1;\n",
       "  display: grid;\n",
       "  grid-template-columns: 20px auto;\n",
       "}\n",
       "\n",
       ".xr-array-wrap > label {\n",
       "  grid-column: 1;\n",
       "  vertical-align: top;\n",
       "}\n",
       "\n",
       ".xr-preview {\n",
       "  color: var(--xr-font-color3);\n",
       "}\n",
       "\n",
       ".xr-array-preview,\n",
       ".xr-array-data {\n",
       "  padding: 0 5px !important;\n",
       "  grid-column: 2;\n",
       "}\n",
       "\n",
       ".xr-array-data,\n",
       ".xr-array-in:checked ~ .xr-array-preview {\n",
       "  display: none;\n",
       "}\n",
       "\n",
       ".xr-array-in:checked ~ .xr-array-data,\n",
       ".xr-array-preview {\n",
       "  display: inline-block;\n",
       "}\n",
       "\n",
       ".xr-dim-list {\n",
       "  display: inline-block !important;\n",
       "  list-style: none;\n",
       "  padding: 0 !important;\n",
       "  margin: 0;\n",
       "}\n",
       "\n",
       ".xr-dim-list li {\n",
       "  display: inline-block;\n",
       "  padding: 0;\n",
       "  margin: 0;\n",
       "}\n",
       "\n",
       ".xr-dim-list:before {\n",
       "  content: '(';\n",
       "}\n",
       "\n",
       ".xr-dim-list:after {\n",
       "  content: ')';\n",
       "}\n",
       "\n",
       ".xr-dim-list li:not(:last-child):after {\n",
       "  content: ',';\n",
       "  padding-right: 5px;\n",
       "}\n",
       "\n",
       ".xr-has-index {\n",
       "  font-weight: bold;\n",
       "}\n",
       "\n",
       ".xr-var-list,\n",
       ".xr-var-item {\n",
       "  display: contents;\n",
       "}\n",
       "\n",
       ".xr-var-item > div,\n",
       ".xr-var-item label,\n",
       ".xr-var-item > .xr-var-name span {\n",
       "  background-color: var(--xr-background-color-row-even);\n",
       "  margin-bottom: 0;\n",
       "}\n",
       "\n",
       ".xr-var-item > .xr-var-name:hover span {\n",
       "  padding-right: 5px;\n",
       "}\n",
       "\n",
       ".xr-var-list > li:nth-child(odd) > div,\n",
       ".xr-var-list > li:nth-child(odd) > label,\n",
       ".xr-var-list > li:nth-child(odd) > .xr-var-name span {\n",
       "  background-color: var(--xr-background-color-row-odd);\n",
       "}\n",
       "\n",
       ".xr-var-name {\n",
       "  grid-column: 1;\n",
       "}\n",
       "\n",
       ".xr-var-dims {\n",
       "  grid-column: 2;\n",
       "}\n",
       "\n",
       ".xr-var-dtype {\n",
       "  grid-column: 3;\n",
       "  text-align: right;\n",
       "  color: var(--xr-font-color2);\n",
       "}\n",
       "\n",
       ".xr-var-preview {\n",
       "  grid-column: 4;\n",
       "}\n",
       "\n",
       ".xr-index-preview {\n",
       "  grid-column: 2 / 5;\n",
       "  color: var(--xr-font-color2);\n",
       "}\n",
       "\n",
       ".xr-var-name,\n",
       ".xr-var-dims,\n",
       ".xr-var-dtype,\n",
       ".xr-preview,\n",
       ".xr-attrs dt {\n",
       "  white-space: nowrap;\n",
       "  overflow: hidden;\n",
       "  text-overflow: ellipsis;\n",
       "  padding-right: 10px;\n",
       "}\n",
       "\n",
       ".xr-var-name:hover,\n",
       ".xr-var-dims:hover,\n",
       ".xr-var-dtype:hover,\n",
       ".xr-attrs dt:hover {\n",
       "  overflow: visible;\n",
       "  width: auto;\n",
       "  z-index: 1;\n",
       "}\n",
       "\n",
       ".xr-var-attrs,\n",
       ".xr-var-data,\n",
       ".xr-index-data {\n",
       "  display: none;\n",
       "  background-color: var(--xr-background-color) !important;\n",
       "  padding-bottom: 5px !important;\n",
       "}\n",
       "\n",
       ".xr-var-attrs-in:checked ~ .xr-var-attrs,\n",
       ".xr-var-data-in:checked ~ .xr-var-data,\n",
       ".xr-index-data-in:checked ~ .xr-index-data {\n",
       "  display: block;\n",
       "}\n",
       "\n",
       ".xr-var-data > table {\n",
       "  float: right;\n",
       "}\n",
       "\n",
       ".xr-var-name span,\n",
       ".xr-var-data,\n",
       ".xr-index-name div,\n",
       ".xr-index-data,\n",
       ".xr-attrs {\n",
       "  padding-left: 25px !important;\n",
       "}\n",
       "\n",
       ".xr-attrs,\n",
       ".xr-var-attrs,\n",
       ".xr-var-data,\n",
       ".xr-index-data {\n",
       "  grid-column: 1 / -1;\n",
       "}\n",
       "\n",
       "dl.xr-attrs {\n",
       "  padding: 0;\n",
       "  margin: 0;\n",
       "  display: grid;\n",
       "  grid-template-columns: 125px auto;\n",
       "}\n",
       "\n",
       ".xr-attrs dt,\n",
       ".xr-attrs dd {\n",
       "  padding: 0;\n",
       "  margin: 0;\n",
       "  float: left;\n",
       "  padding-right: 10px;\n",
       "  width: auto;\n",
       "}\n",
       "\n",
       ".xr-attrs dt {\n",
       "  font-weight: normal;\n",
       "  grid-column: 1;\n",
       "}\n",
       "\n",
       ".xr-attrs dt:hover span {\n",
       "  display: inline-block;\n",
       "  background: var(--xr-background-color);\n",
       "  padding-right: 10px;\n",
       "}\n",
       "\n",
       ".xr-attrs dd {\n",
       "  grid-column: 2;\n",
       "  white-space: pre-wrap;\n",
       "  word-break: break-all;\n",
       "}\n",
       "\n",
       ".xr-icon-database,\n",
       ".xr-icon-file-text2,\n",
       ".xr-no-icon {\n",
       "  display: inline-block;\n",
       "  vertical-align: middle;\n",
       "  width: 1em;\n",
       "  height: 1.5em !important;\n",
       "  stroke-width: 0;\n",
       "  stroke: currentColor;\n",
       "  fill: currentColor;\n",
       "}\n",
       "</style><pre class='xr-text-repr-fallback'>&lt;xarray.Dataset&gt;\n",
       "Dimensions:      (chain: 4, draw: 1000, prior_draws: 200)\n",
       "Coordinates:\n",
       "  * chain        (chain) int64 0 1 2 3\n",
       "  * draw         (draw) int64 0 1 2 3 4 5 6 7 ... 993 994 995 996 997 998 999\n",
       "Dimensions without coordinates: prior_draws\n",
       "Data variables:\n",
       "    b0           (prior_draws, chain, draw) float64 -142.3 188.5 ... -84.47\n",
       "    b1           (prior_draws, chain, draw) float64 108.3 100.7 ... 272.0 264.0\n",
       "    log_b_sigma  (prior_draws, chain, draw) float64 6.262 6.204 ... 6.04 5.991\n",
       "    c0           (prior_draws, chain, draw) float64 -5.887 -6.946 ... -21.11\n",
       "    c1           (prior_draws, chain, draw) float64 18.71 18.55 ... -13.56\n",
       "    log_c_sigma  (prior_draws, chain, draw) float64 1.287 1.423 ... 1.255 1.213\n",
       "    b_sigma      (prior_draws, chain, draw) float64 524.5 494.7 ... 420.0 399.8\n",
       "    c_sigma      (prior_draws, chain, draw) float64 3.62 4.15 ... 3.508 3.362\n",
       "Attributes:\n",
       "    created_at:                 2022-11-10T02:19:08.656243\n",
       "    arviz_version:              0.13.0\n",
       "    inference_library:          cmdstanpy\n",
       "    inference_library_version:  1.0.8</pre><div class='xr-wrap' style='display:none'><div class='xr-header'><div class='xr-obj-type'>xarray.Dataset</div></div><ul class='xr-sections'><li class='xr-section-item'><input id='section-5742b18c-281b-4e3e-a3ff-d328151a953d' class='xr-section-summary-in' type='checkbox' disabled ><label for='section-5742b18c-281b-4e3e-a3ff-d328151a953d' class='xr-section-summary'  title='Expand/collapse section'>Dimensions:</label><div class='xr-section-inline-details'><ul class='xr-dim-list'><li><span class='xr-has-index'>chain</span>: 4</li><li><span class='xr-has-index'>draw</span>: 1000</li><li><span>prior_draws</span>: 200</li></ul></div><div class='xr-section-details'></div></li><li class='xr-section-item'><input id='section-6a39faef-7c9c-4720-b901-72131d10b1ce' class='xr-section-summary-in' type='checkbox'  checked><label for='section-6a39faef-7c9c-4720-b901-72131d10b1ce' class='xr-section-summary' >Coordinates: <span>(2)</span></label><div class='xr-section-inline-details'></div><div class='xr-section-details'><ul class='xr-var-list'><li class='xr-var-item'><div class='xr-var-name'><span class='xr-has-index'>chain</span></div><div class='xr-var-dims'>(chain)</div><div class='xr-var-dtype'>int64</div><div class='xr-var-preview xr-preview'>0 1 2 3</div><input id='attrs-f8813e30-8883-4a1c-a7e0-daef3cffab70' class='xr-var-attrs-in' type='checkbox' disabled><label for='attrs-f8813e30-8883-4a1c-a7e0-daef3cffab70' title='Show/Hide attributes'><svg class='icon xr-icon-file-text2'><use xlink:href='#icon-file-text2'></use></svg></label><input id='data-350313e9-2525-4269-9a06-456b9ca93179' class='xr-var-data-in' type='checkbox'><label for='data-350313e9-2525-4269-9a06-456b9ca93179' title='Show/Hide data repr'><svg class='icon xr-icon-database'><use xlink:href='#icon-database'></use></svg></label><div class='xr-var-attrs'><dl class='xr-attrs'></dl></div><div class='xr-var-data'><pre>array([0, 1, 2, 3])</pre></div></li><li class='xr-var-item'><div class='xr-var-name'><span class='xr-has-index'>draw</span></div><div class='xr-var-dims'>(draw)</div><div class='xr-var-dtype'>int64</div><div class='xr-var-preview xr-preview'>0 1 2 3 4 5 ... 995 996 997 998 999</div><input id='attrs-76fffe81-e26c-4905-ac5b-be1ad6788d66' class='xr-var-attrs-in' type='checkbox' disabled><label for='attrs-76fffe81-e26c-4905-ac5b-be1ad6788d66' title='Show/Hide attributes'><svg class='icon xr-icon-file-text2'><use xlink:href='#icon-file-text2'></use></svg></label><input id='data-8dc43c3e-088f-4045-92b5-1b2ad4645ddf' class='xr-var-data-in' type='checkbox'><label for='data-8dc43c3e-088f-4045-92b5-1b2ad4645ddf' title='Show/Hide data repr'><svg class='icon xr-icon-database'><use xlink:href='#icon-database'></use></svg></label><div class='xr-var-attrs'><dl class='xr-attrs'></dl></div><div class='xr-var-data'><pre>array([  0,   1,   2, ..., 997, 998, 999])</pre></div></li></ul></div></li><li class='xr-section-item'><input id='section-b8b3207d-7d29-4045-b4c9-61f08a7a2150' class='xr-section-summary-in' type='checkbox'  checked><label for='section-b8b3207d-7d29-4045-b4c9-61f08a7a2150' class='xr-section-summary' >Data variables: <span>(8)</span></label><div class='xr-section-inline-details'></div><div class='xr-section-details'><ul class='xr-var-list'><li class='xr-var-item'><div class='xr-var-name'><span>b0</span></div><div class='xr-var-dims'>(prior_draws, chain, draw)</div><div class='xr-var-dtype'>float64</div><div class='xr-var-preview xr-preview'>-142.3 188.5 ... -113.8 -84.47</div><input id='attrs-6684315f-030e-4acc-9f63-2446d899668c' class='xr-var-attrs-in' type='checkbox' disabled><label for='attrs-6684315f-030e-4acc-9f63-2446d899668c' title='Show/Hide attributes'><svg class='icon xr-icon-file-text2'><use xlink:href='#icon-file-text2'></use></svg></label><input id='data-06aa6b69-6063-48fe-94c7-1ba2a5c1034c' class='xr-var-data-in' type='checkbox'><label for='data-06aa6b69-6063-48fe-94c7-1ba2a5c1034c' title='Show/Hide data repr'><svg class='icon xr-icon-database'><use xlink:href='#icon-database'></use></svg></label><div class='xr-var-attrs'><dl class='xr-attrs'></dl></div><div class='xr-var-data'><pre>array([[[-142.278  ,  188.533  , -231.387  , ...,  -41.9109 ,\n",
       "         -135.945  , -155.015  ],\n",
       "        [ -96.309  , -124.123  ,  -96.9139 , ...,  126.733  ,\n",
       "          204.651  ,  -11.5804 ],\n",
       "        [  55.1213 , -145.45   ,  -80.1398 , ...,  -77.3211 ,\n",
       "          -35.2667 , -153.349  ],\n",
       "        [-455.788  , -187.085  , -150.642  , ..., -281.579  ,\n",
       "         -347.313  ,   12.7065 ]],\n",
       "\n",
       "       [[ -16.7646 ,  -96.8786 , -171.217  , ...,  -70.5954 ,\n",
       "          115.487  ,  -94.4297 ],\n",
       "        [  17.0774 ,  -48.9373 , -147.071  , ...,  319.571  ,\n",
       "         -113.907  ,    8.29106],\n",
       "        [-130.499  , -213.343  , -211.689  , ...,   33.2514 ,\n",
       "          269.916  ,  252.082  ],\n",
       "        [ -64.8152 ,  132.377  , -286.291  , ..., -507.734  ,\n",
       "         -325.058  , -252.979  ]],\n",
       "\n",
       "       [[-300.539  ,  -57.3839 , -112.68   , ..., -183.16   ,\n",
       "         -304.726  , -369.169  ],\n",
       "...\n",
       "        [-152.655  , -148.137  , -120.409  , ..., -291.963  ,\n",
       "         -289.503  , -258.857  ]],\n",
       "\n",
       "       [[ 401.54   ,  358.156  ,  132.885  , ...,   34.2778 ,\n",
       "         -195.336  ,   31.3443 ],\n",
       "        [ -58.1135 ,   18.9734 ,   60.3881 , ..., -196.817  ,\n",
       "         -434.521  , -255.509  ],\n",
       "        [ -13.5401 ,  -73.2965 , -152.539  , ...,  -83.0269 ,\n",
       "         -273.974  , -288.148  ],\n",
       "        [ -41.5958 ,   22.4335 ,    5.77125, ...,   19.3683 ,\n",
       "         -244.802  , -415.043  ]],\n",
       "\n",
       "       [[  12.8924 , -311.539  ,  102.433  , ...,  201.078  ,\n",
       "          161.727  ,  208.365  ],\n",
       "        [ -57.9    ,  223.676  ,   70.6897 , ...,  186.045  ,\n",
       "          331.145  ,  -94.262  ],\n",
       "        [-182.359  ,  192.178  , -154.915  , ..., -203.789  ,\n",
       "         -120.999  ,   54.0133 ],\n",
       "        [-189.378  ,  -89.4943 , -113.789  , ..., -362.44   ,\n",
       "         -113.85   ,  -84.4708 ]]])</pre></div></li><li class='xr-var-item'><div class='xr-var-name'><span>b1</span></div><div class='xr-var-dims'>(prior_draws, chain, draw)</div><div class='xr-var-dtype'>float64</div><div class='xr-var-preview xr-preview'>108.3 100.7 120.0 ... 272.0 264.0</div><input id='attrs-9929fd2c-a951-47d1-84f4-2852852276fb' class='xr-var-attrs-in' type='checkbox' disabled><label for='attrs-9929fd2c-a951-47d1-84f4-2852852276fb' title='Show/Hide attributes'><svg class='icon xr-icon-file-text2'><use xlink:href='#icon-file-text2'></use></svg></label><input id='data-7637066f-3fb2-40a7-a3b5-16c3cd2ccabc' class='xr-var-data-in' type='checkbox'><label for='data-7637066f-3fb2-40a7-a3b5-16c3cd2ccabc' title='Show/Hide data repr'><svg class='icon xr-icon-database'><use xlink:href='#icon-database'></use></svg></label><div class='xr-var-attrs'><dl class='xr-attrs'></dl></div><div class='xr-var-data'><pre>array([[[ 108.299  ,  100.674  ,  120.016  , ...,  112.663  ,\n",
       "          119.966  ,  128.56   ],\n",
       "        [ 104.798  ,  133.254  ,  146.946  , ...,   80.8135 ,\n",
       "           92.2399 ,   97.3169 ],\n",
       "        [  94.1563 ,  129.962  ,  115.614  , ...,  125.97   ,\n",
       "          114.708  ,  133.963  ],\n",
       "        [ 165.98   ,  125.18   ,  128.429  , ...,  163.524  ,\n",
       "          124.852  ,  120.972  ]],\n",
       "\n",
       "       [[-175.032  , -182.514  , -184.973  , ..., -169.518  ,\n",
       "         -207.263  , -169.459  ],\n",
       "        [-138.771  , -135.077  , -138.321  , ..., -201.386  ,\n",
       "         -188.174  , -207.135  ],\n",
       "        [-147.569  , -167.84   , -148.372  , ..., -181.898  ,\n",
       "         -202.475  , -224.108  ],\n",
       "        [-195.121  , -178.397  , -169.421  , ..., -145.212  ,\n",
       "         -140.47   , -171.167  ]],\n",
       "\n",
       "       [[ -76.3395 ,  -84.2443 , -101.934  , ...,  -80.6753 ,\n",
       "          -72.3105 ,  -81.8078 ],\n",
       "...\n",
       "        [-167.945  , -171.507  , -171.688  , ..., -156.797  ,\n",
       "         -156.533  , -159.324  ]],\n",
       "\n",
       "       [[ -22.07   ,  -26.882  ,  -40.1235 , ...,    6.18369,\n",
       "          -11.0005 ,   14.7409 ],\n",
       "        [ -11.8647 ,    2.03584,  -15.3638 , ...,   28.0396 ,\n",
       "           37.3697 ,   24.8353 ],\n",
       "        [   9.21761,  -26.8381 ,  -20.3006 , ...,  -31.9187 ,\n",
       "           64.411  ,   13.5029 ],\n",
       "        [  -3.62029,  -23.4159 ,  -32.1315 , ...,  -21.7096 ,\n",
       "           17.1172 ,   11.1005 ]],\n",
       "\n",
       "       [[ 261.86   ,  295.448  ,  232.321  , ...,  252.296  ,\n",
       "          241.292  ,  240.612  ],\n",
       "        [ 255.348  ,  236.801  ,  233.717  , ...,  236.387  ,\n",
       "          226.527  ,  268.572  ],\n",
       "        [ 268.429  ,  239.352  ,  261.803  , ...,  288.399  ,\n",
       "          243.726  ,  246.551  ],\n",
       "        [ 266.867  ,  257.476  ,  250.068  , ...,  284.333  ,\n",
       "          272.015  ,  264.046  ]]])</pre></div></li><li class='xr-var-item'><div class='xr-var-name'><span>log_b_sigma</span></div><div class='xr-var-dims'>(prior_draws, chain, draw)</div><div class='xr-var-dtype'>float64</div><div class='xr-var-preview xr-preview'>6.262 6.204 5.853 ... 6.04 5.991</div><input id='attrs-ab571420-b5cf-4ee5-aa28-9cb31c04cd71' class='xr-var-attrs-in' type='checkbox' disabled><label for='attrs-ab571420-b5cf-4ee5-aa28-9cb31c04cd71' title='Show/Hide attributes'><svg class='icon xr-icon-file-text2'><use xlink:href='#icon-file-text2'></use></svg></label><input id='data-e73c3102-ae47-4b4e-842e-a4b68526d7fc' class='xr-var-data-in' type='checkbox'><label for='data-e73c3102-ae47-4b4e-842e-a4b68526d7fc' title='Show/Hide data repr'><svg class='icon xr-icon-database'><use xlink:href='#icon-database'></use></svg></label><div class='xr-var-attrs'><dl class='xr-attrs'></dl></div><div class='xr-var-data'><pre>array([[[6.26249, 6.20402, 5.85272, ..., 5.62605, 5.59725, 5.72526],\n",
       "        [6.24109, 6.16126, 6.14726, ..., 6.22737, 6.22901, 5.94206],\n",
       "        [6.2229 , 5.97451, 6.17631, ..., 5.98013, 6.12473, 5.95335],\n",
       "        [5.76072, 6.08533, 5.73929, ..., 6.04819, 5.75191, 5.85638]],\n",
       "\n",
       "       [[6.15738, 6.0141 , 5.97023, ..., 6.13378, 5.89284, 6.22936],\n",
       "        [6.40772, 6.41336, 6.43381, ..., 6.16385, 6.40473, 6.20924],\n",
       "        [5.91023, 5.70367, 6.13049, ..., 5.91686, 6.17014, 6.29544],\n",
       "        [6.39373, 6.12906, 6.22402, ..., 5.87265, 5.90404, 6.01147]],\n",
       "\n",
       "       [[4.96642, 5.56357, 5.43256, ..., 5.21517, 5.3428 , 4.94589],\n",
       "        [5.68831, 5.64474, 5.37232, ..., 5.44811, 5.89999, 5.80174],\n",
       "        [5.46849, 5.47598, 4.70834, ..., 5.67681, 5.75772, 5.76279],\n",
       "        [5.51199, 5.10274, 6.11237, ..., 5.0715 , 5.37363, 5.55383]],\n",
       "\n",
       "       ...,\n",
       "\n",
       "       [[2.43163, 2.49149, 2.62182, ..., 2.86765, 2.89687, 2.6373 ],\n",
       "        [2.86736, 2.27858, 2.61557, ..., 3.39789, 3.73759, 3.30501],\n",
       "        [3.49661, 3.49661, 2.73756, ..., 3.23737, 3.28388, 3.34713],\n",
       "        [3.67131, 4.68198, 4.99614, ..., 3.10938, 2.95456, 3.12211]],\n",
       "\n",
       "       [[6.18925, 6.18284, 6.40606, ..., 6.17381, 5.96386, 5.82556],\n",
       "        [6.1175 , 6.07293, 6.00418, ..., 6.03455, 5.97269, 6.23019],\n",
       "        [5.8841 , 6.50074, 6.38155, ..., 6.49238, 6.26882, 6.20704],\n",
       "        [6.15657, 6.264  , 6.19531, ..., 6.33234, 6.12662, 6.58885]],\n",
       "\n",
       "       [[6.01801, 5.97277, 5.6222 , ..., 6.79587, 7.1133 , 6.91526],\n",
       "        [6.08468, 5.60512, 5.9661 , ..., 5.92139, 5.90814, 5.79066],\n",
       "        [5.37903, 6.17056, 5.77573, ..., 6.12131, 6.09587, 5.54894],\n",
       "        [5.51677, 5.53427, 5.59172, ..., 6.1019 , 6.04033, 5.99095]]])</pre></div></li><li class='xr-var-item'><div class='xr-var-name'><span>c0</span></div><div class='xr-var-dims'>(prior_draws, chain, draw)</div><div class='xr-var-dtype'>float64</div><div class='xr-var-preview xr-preview'>-5.887 -6.946 ... -19.98 -21.11</div><input id='attrs-6a5eb8ce-902b-45dc-ba93-a61fb24396a5' class='xr-var-attrs-in' type='checkbox' disabled><label for='attrs-6a5eb8ce-902b-45dc-ba93-a61fb24396a5' title='Show/Hide attributes'><svg class='icon xr-icon-file-text2'><use xlink:href='#icon-file-text2'></use></svg></label><input id='data-172acb1b-ca60-4181-8c47-6ea9ad078617' class='xr-var-data-in' type='checkbox'><label for='data-172acb1b-ca60-4181-8c47-6ea9ad078617' title='Show/Hide data repr'><svg class='icon xr-icon-database'><use xlink:href='#icon-database'></use></svg></label><div class='xr-var-attrs'><dl class='xr-attrs'></dl></div><div class='xr-var-data'><pre>array([[[-5.88713e+00, -6.94644e+00, -6.67032e+00, ...,  4.52381e+00,\n",
       "          1.52428e+00, -4.37882e-01],\n",
       "        [-9.42980e+00, -1.21316e+00, -6.01355e+00, ...,  6.94458e-01,\n",
       "         -2.16425e+00, -6.08144e+00],\n",
       "        [ 3.99700e-01, -7.40106e+00, -2.96435e-01, ..., -1.58269e+00,\n",
       "         -1.00205e+01, -1.14702e+01],\n",
       "        [-4.89670e+00, -5.43968e+00, -5.14981e+00, ...,  2.10004e+01,\n",
       "          2.72015e+01,  1.81090e+01]],\n",
       "\n",
       "       [[-4.14834e+00, -4.77030e+00,  6.11781e-02, ..., -9.17890e+00,\n",
       "         -1.55482e+01,  1.36889e+01],\n",
       "        [-4.44366e+00, -6.21682e+00, -7.75116e-01, ..., -3.23835e+00,\n",
       "         -2.22402e+00, -1.37709e+01],\n",
       "        [-2.46214e+01, -1.46659e+01, -9.11561e+00, ..., -1.43627e+01,\n",
       "          7.09549e+00,  6.53153e+00],\n",
       "        [-1.22670e+00,  5.02163e+00, -1.30531e+01, ..., -5.37359e+00,\n",
       "          2.49296e+00,  7.33850e+00]],\n",
       "\n",
       "       [[-4.38288e-01, -3.21527e+00,  1.39213e+01, ..., -4.60731e+00,\n",
       "         -1.13330e+01,  1.06481e+01],\n",
       "...\n",
       "        [-1.66233e+01, -1.78251e+01, -1.45246e+01, ..., -1.24908e+01,\n",
       "         -1.39686e+01, -1.64107e+01]],\n",
       "\n",
       "       [[-6.86073e+00, -4.67301e+00, -5.93968e+00, ..., -1.50425e+01,\n",
       "         -3.96567e+00, -7.22497e+00],\n",
       "        [-4.57708e+00, -8.56405e+00, -4.16172e+00, ..., -9.38212e+00,\n",
       "         -3.68002e+00, -1.10091e+01],\n",
       "        [-9.03904e+00, -8.03896e+00, -8.90496e+00, ..., -3.46245e+00,\n",
       "         -9.89704e+00, -6.15219e+00],\n",
       "        [ 2.26093e+00, -2.93298e+00, -1.88268e+00, ..., -1.40108e+01,\n",
       "         -7.77294e+00, -9.27201e+00]],\n",
       "\n",
       "       [[-1.66012e+01, -2.22657e+01, -1.59005e+01, ..., -1.68733e+01,\n",
       "         -1.64515e+01, -1.65998e+01],\n",
       "        [-1.55204e+01, -2.02578e+01, -1.50366e+01, ..., -1.80553e+01,\n",
       "         -1.74498e+01, -1.53892e+01],\n",
       "        [-1.88519e+01, -1.55302e+01, -1.66971e+01, ..., -1.66493e+01,\n",
       "         -1.59675e+01, -1.92012e+01],\n",
       "        [-1.98179e+01, -2.50659e+01, -2.51515e+01, ..., -2.19960e+01,\n",
       "         -1.99809e+01, -2.11054e+01]]])</pre></div></li><li class='xr-var-item'><div class='xr-var-name'><span>c1</span></div><div class='xr-var-dims'>(prior_draws, chain, draw)</div><div class='xr-var-dtype'>float64</div><div class='xr-var-preview xr-preview'>18.71 18.55 18.33 ... -13.77 -13.56</div><input id='attrs-dbdb7f9b-d058-4cb9-9852-bec7008a5b68' class='xr-var-attrs-in' type='checkbox' disabled><label for='attrs-dbdb7f9b-d058-4cb9-9852-bec7008a5b68' title='Show/Hide attributes'><svg class='icon xr-icon-file-text2'><use xlink:href='#icon-file-text2'></use></svg></label><input id='data-b6ab488d-482a-43e0-b686-142bf2e0351e' class='xr-var-data-in' type='checkbox'><label for='data-b6ab488d-482a-43e0-b686-142bf2e0351e' title='Show/Hide data repr'><svg class='icon xr-icon-database'><use xlink:href='#icon-database'></use></svg></label><div class='xr-var-attrs'><dl class='xr-attrs'></dl></div><div class='xr-var-data'><pre>array([[[ 18.7051 ,  18.5485 ,  18.3305 , ...,  17.4512 ,  17.8173 ,\n",
       "          17.9811 ],\n",
       "        [ 18.2988 ,  18.4304 ,  18.635  , ...,  17.9123 ,  18.1695 ,\n",
       "          18.4331 ],\n",
       "        [ 17.9828 ,  18.6327 ,  18.0069 , ...,  17.9435 ,  18.9849 ,\n",
       "          19.069  ],\n",
       "        [ 18.5168 ,  18.4774 ,  18.4296 , ...,  16.3363 ,  15.9545 ,\n",
       "          16.2496 ]],\n",
       "\n",
       "       [[ -8.73149,  -8.31482,  -8.81344, ...,  -8.35863,  -7.20258,\n",
       "          -9.30278],\n",
       "        [ -8.26766,  -8.11375,  -8.53203, ...,  -8.63319,  -7.99093,\n",
       "          -7.18267],\n",
       "        [ -6.33443,  -7.90767,  -6.91422, ...,  -7.18706,  -9.37669,\n",
       "          -8.89903],\n",
       "        [ -8.02135,  -9.26608,  -6.81936, ...,  -8.1923 ,  -9.01541,\n",
       "          -9.21429]],\n",
       "\n",
       "       [[  5.37369,   6.68759,   4.98121, ...,   6.8284 ,   6.67498,\n",
       "           5.7637 ],\n",
       "...\n",
       "        [ -5.07502,  -4.91136,  -5.3377 , ...,  -5.48035,  -5.33507,\n",
       "          -5.14233]],\n",
       "\n",
       "       [[ -3.20988,  -3.09416,  -3.16076, ...,  -2.09528,  -3.3799 ,\n",
       "          -2.97046],\n",
       "        [ -3.20218,  -3.32493,  -2.77153, ...,  -2.84252,  -3.18904,\n",
       "          -2.33106],\n",
       "        [ -2.72297,  -2.94099,  -2.86338, ...,  -3.32636,  -2.84222,\n",
       "          -3.34453],\n",
       "        [ -4.02715,  -3.48279,  -3.54185, ...,  -2.49083,  -2.91919,\n",
       "          -2.9852 ]],\n",
       "\n",
       "       [[-13.8346 , -13.821  , -14.3247 , ..., -13.9656 , -14.1164 ,\n",
       "         -14.0172 ],\n",
       "        [-14.1074 , -13.7015 , -14.1783 , ..., -13.8912 , -13.8729 ,\n",
       "         -14.0699 ],\n",
       "        [-13.8484 , -14.1925 , -14.0595 , ..., -14.0377 , -14.1239 ,\n",
       "         -13.7654 ],\n",
       "        [-13.6396 , -13.3104 , -13.4218 , ..., -13.5304 , -13.7737 ,\n",
       "         -13.5624 ]]])</pre></div></li><li class='xr-var-item'><div class='xr-var-name'><span>log_c_sigma</span></div><div class='xr-var-dims'>(prior_draws, chain, draw)</div><div class='xr-var-dtype'>float64</div><div class='xr-var-preview xr-preview'>1.287 1.423 1.362 ... 1.255 1.213</div><input id='attrs-62da6488-bc32-437e-b2e8-8d10123d4f03' class='xr-var-attrs-in' type='checkbox' disabled><label for='attrs-62da6488-bc32-437e-b2e8-8d10123d4f03' title='Show/Hide attributes'><svg class='icon xr-icon-file-text2'><use xlink:href='#icon-file-text2'></use></svg></label><input id='data-9c128355-a35c-47df-b534-5c72ec3d08bf' class='xr-var-data-in' type='checkbox'><label for='data-9c128355-a35c-47df-b534-5c72ec3d08bf' title='Show/Hide data repr'><svg class='icon xr-icon-database'><use xlink:href='#icon-database'></use></svg></label><div class='xr-var-attrs'><dl class='xr-attrs'></dl></div><div class='xr-var-data'><pre>array([[[1.28657  , 1.423    , 1.36205  , ..., 1.73345  , 1.74343  ,\n",
       "         1.3685   ],\n",
       "        [1.85255  , 1.38453  , 0.865941 , ..., 1.81744  , 2.07216  ,\n",
       "         1.08779  ],\n",
       "        [2.0255   , 0.842668 , 1.67494  , ..., 1.24298  , 1.32902  ,\n",
       "         1.50208  ],\n",
       "        [1.14405  , 1.1594   , 0.948443 , ..., 3.86933  , 2.69609  ,\n",
       "         2.62506  ]],\n",
       "\n",
       "       [[1.93283  , 1.71149  , 1.62444  , ..., 2.91424  , 3.17214  ,\n",
       "         1.91877  ],\n",
       "        [1.24736  , 1.33513  , 1.35752  , ..., 1.56864  , 2.14437  ,\n",
       "         2.8375   ],\n",
       "        [2.81473  , 2.0825   , 2.25621  , ..., 2.09035  , 1.66883  ,\n",
       "         2.1178   ],\n",
       "        [1.78763  , 2.17698  , 2.1994   , ..., 1.50543  , 1.77662  ,\n",
       "         2.08387  ]],\n",
       "\n",
       "       [[3.35969  , 2.89957  , 2.04504  , ..., 2.43952  , 2.08376  ,\n",
       "         2.44883  ],\n",
       "...\n",
       "        [1.62335  , 0.717921 , 0.565559 , ..., 0.39961  , 0.692683 ,\n",
       "         1.08653  ]],\n",
       "\n",
       "       [[1.43922  , 1.40766  , 1.10317  , ..., 1.46073  , 1.41407  ,\n",
       "         1.52356  ],\n",
       "        [0.756571 , 1.47272  , 2.16344  , ..., 0.788704 , 1.52581  ,\n",
       "         1.50376  ],\n",
       "        [1.94624  , 1.03166  , 0.699448 , ..., 1.03004  , 1.12376  ,\n",
       "         1.62728  ],\n",
       "        [2.14356  , 1.23565  , 1.26858  , ..., 1.8221   , 2.00616  ,\n",
       "         1.72525  ]],\n",
       "\n",
       "       [[1.153    , 1.08341  , 0.91194  , ..., 0.561477 , 0.0974432,\n",
       "         0.46747  ],\n",
       "        [0.654312 , 1.01234  , 0.474782 , ..., 1.29926  , 0.56157  ,\n",
       "         0.576212 ],\n",
       "        [0.265381 , 1.32574  , 0.353497 , ..., 0.405289 , 0.227993 ,\n",
       "         0.83661  ],\n",
       "        [1.76572  , 1.13375  , 1.38712  , ..., 1.09362  , 1.25492  ,\n",
       "         1.21256  ]]])</pre></div></li><li class='xr-var-item'><div class='xr-var-name'><span>b_sigma</span></div><div class='xr-var-dims'>(prior_draws, chain, draw)</div><div class='xr-var-dtype'>float64</div><div class='xr-var-preview xr-preview'>524.5 494.7 348.2 ... 420.0 399.8</div><input id='attrs-f3b9ea2a-155f-4949-83a7-ebd4713fd310' class='xr-var-attrs-in' type='checkbox' disabled><label for='attrs-f3b9ea2a-155f-4949-83a7-ebd4713fd310' title='Show/Hide attributes'><svg class='icon xr-icon-file-text2'><use xlink:href='#icon-file-text2'></use></svg></label><input id='data-78f71cea-7fe7-4a1b-a109-3762efe12a14' class='xr-var-data-in' type='checkbox'><label for='data-78f71cea-7fe7-4a1b-a109-3762efe12a14' title='Show/Hide data repr'><svg class='icon xr-icon-database'><use xlink:href='#icon-database'></use></svg></label><div class='xr-var-attrs'><dl class='xr-attrs'></dl></div><div class='xr-var-data'><pre>array([[[ 524.521  ,  494.736  ,  348.181  , ...,  277.564  ,\n",
       "          269.684  ,  306.512  ],\n",
       "        [ 513.416  ,  474.024  ,  467.434  , ...,  506.422  ,\n",
       "          507.255  ,  380.719  ],\n",
       "        [ 504.165  ,  393.277  ,  481.215  , ...,  395.492  ,\n",
       "          457.019  ,  385.042  ],\n",
       "        [ 317.576  ,  439.365  ,  310.843  , ...,  423.344  ,\n",
       "          314.793  ,  349.456  ]],\n",
       "\n",
       "       [[ 472.192  ,  409.158  ,  391.597  , ...,  461.175  ,\n",
       "          362.433  ,  507.43   ],\n",
       "        [ 606.511  ,  609.942  ,  622.544  , ...,  475.255  ,\n",
       "          604.699  ,  497.323  ],\n",
       "        [ 368.792  ,  299.966  ,  459.66   , ...,  371.246  ,\n",
       "          478.251  ,  542.095  ],\n",
       "        [ 598.081  ,  459.005  ,  504.726  , ...,  355.19   ,\n",
       "          366.516  ,  408.081  ]],\n",
       "\n",
       "       [[ 143.512  ,  260.753  ,  228.735  , ...,  184.043  ,\n",
       "          209.098  ,  140.596  ],\n",
       "...\n",
       "        [  39.3034 ,  107.983  ,  147.841  , ...,   22.4071 ,\n",
       "           19.1932 ,   22.6941 ]],\n",
       "\n",
       "       [[ 487.481  ,  484.366  ,  605.5    , ...,  480.012  ,\n",
       "          389.108  ,  338.852  ],\n",
       "        [ 453.73   ,  433.951  ,  405.117  , ...,  417.611  ,\n",
       "          392.562  ,  507.851  ],\n",
       "        [ 359.278  ,  665.632  ,  590.845  , ...,  660.095  ,\n",
       "          527.853  ,  496.228  ],\n",
       "        [ 471.807  ,  525.314  ,  490.441  , ...,  562.472  ,\n",
       "          457.887  ,  726.945  ]],\n",
       "\n",
       "       [[ 410.762  ,  392.592  ,  276.496  , ...,  894.149  ,\n",
       "         1228.2    , 1007.54   ],\n",
       "        [ 439.079  ,  271.814  ,  389.98   , ...,  372.931  ,\n",
       "          368.022  ,  327.228  ],\n",
       "        [ 216.812  ,  478.453  ,  322.381  , ...,  455.46   ,\n",
       "          444.021  ,  256.966  ],\n",
       "        [ 248.831  ,  253.222  ,  268.198  , ...,  446.704  ,\n",
       "          420.034  ,  399.793  ]]])</pre></div></li><li class='xr-var-item'><div class='xr-var-name'><span>c_sigma</span></div><div class='xr-var-dims'>(prior_draws, chain, draw)</div><div class='xr-var-dtype'>float64</div><div class='xr-var-preview xr-preview'>3.62 4.15 3.904 ... 3.508 3.362</div><input id='attrs-2b095b03-38dc-40ab-bbbe-eee8305e3a89' class='xr-var-attrs-in' type='checkbox' disabled><label for='attrs-2b095b03-38dc-40ab-bbbe-eee8305e3a89' title='Show/Hide attributes'><svg class='icon xr-icon-file-text2'><use xlink:href='#icon-file-text2'></use></svg></label><input id='data-dd2444d5-53ec-4d9c-9910-a014982a4b4b' class='xr-var-data-in' type='checkbox'><label for='data-dd2444d5-53ec-4d9c-9910-a014982a4b4b' title='Show/Hide data repr'><svg class='icon xr-icon-database'><use xlink:href='#icon-database'></use></svg></label><div class='xr-var-attrs'><dl class='xr-attrs'></dl></div><div class='xr-var-data'><pre>array([[[  3.62036,   4.14957,   3.9042 , ...,   5.66012,   5.71694,\n",
       "           3.92944],\n",
       "        [  6.37603,   3.99295,   2.37724, ...,   6.15611,   7.94199,\n",
       "           2.96771],\n",
       "        [  7.57989,   2.32255,   5.3385 , ...,   3.46592,   3.77734,\n",
       "           4.49102],\n",
       "        [  3.13946,   3.18801,   2.58169, ...,  47.9104 ,  14.8217 ,\n",
       "          13.8054 ]],\n",
       "\n",
       "       [[  6.90903,   5.53721,   5.07555, ...,  18.4349 ,  23.8585 ,\n",
       "           6.81257],\n",
       "        [  3.48115,   3.8005 ,   3.88656, ...,   4.80011,   8.53664,\n",
       "          17.073  ],\n",
       "        [ 16.6887 ,   8.02449,   9.54683, ...,   8.08778,   5.30594,\n",
       "           8.31284],\n",
       "        [  5.97526,   8.8196 ,   9.01956, ...,   4.50608,   5.90986,\n",
       "           8.03551]],\n",
       "\n",
       "       [[ 28.7804 ,  18.1664 ,   7.72949, ...,  11.4675 ,   8.03463,\n",
       "          11.5748 ],\n",
       "...\n",
       "        [  5.07004,   2.05017,   1.76043, ...,   1.49124,   1.99907,\n",
       "           2.96396]],\n",
       "\n",
       "       [[  4.21742,   4.08639,   3.0137 , ...,   4.30912,   4.11267,\n",
       "           4.58852],\n",
       "        [  2.13096,   4.36107,   8.70104, ...,   2.20054,   4.59889,\n",
       "           4.49858],\n",
       "        [  7.00233,   2.80573,   2.01264, ...,   2.80119,   3.07639,\n",
       "           5.09003],\n",
       "        [  8.52973,   3.44062,   3.55579, ...,   6.18481,   7.43471,\n",
       "           5.61391]],\n",
       "\n",
       "       [[  3.16769,   2.95475,   2.48915, ...,   1.75326,   1.10235,\n",
       "           1.59595],\n",
       "        [  1.92382,   2.75202,   1.60766, ...,   3.66658,   1.75342,\n",
       "           1.77929],\n",
       "        [  1.30393,   3.76497,   1.42404, ...,   1.49974,   1.25608,\n",
       "           2.30853],\n",
       "        [  5.8458 ,   3.1073 ,   4.00332, ...,   2.98505,   3.50754,\n",
       "           3.36207]]])</pre></div></li></ul></div></li><li class='xr-section-item'><input id='section-fc9439cd-bbe0-4623-8561-f46b9cf87640' class='xr-section-summary-in' type='checkbox'  ><label for='section-fc9439cd-bbe0-4623-8561-f46b9cf87640' class='xr-section-summary' >Indexes: <span>(2)</span></label><div class='xr-section-inline-details'></div><div class='xr-section-details'><ul class='xr-var-list'><li class='xr-var-item'><div class='xr-index-name'><div>chain</div></div><div class='xr-index-preview'>PandasIndex</div><div></div><input id='index-422edc54-073c-4b76-9d67-9c51a595a543' class='xr-index-data-in' type='checkbox'/><label for='index-422edc54-073c-4b76-9d67-9c51a595a543' title='Show/Hide index repr'><svg class='icon xr-icon-database'><use xlink:href='#icon-database'></use></svg></label><div class='xr-index-data'><pre>PandasIndex(Int64Index([0, 1, 2, 3], dtype=&#x27;int64&#x27;, name=&#x27;chain&#x27;))</pre></div></li><li class='xr-var-item'><div class='xr-index-name'><div>draw</div></div><div class='xr-index-preview'>PandasIndex</div><div></div><input id='index-aacf0ced-c8bb-44c6-b738-730df5ee60cc' class='xr-index-data-in' type='checkbox'/><label for='index-aacf0ced-c8bb-44c6-b738-730df5ee60cc' title='Show/Hide index repr'><svg class='icon xr-icon-database'><use xlink:href='#icon-database'></use></svg></label><div class='xr-index-data'><pre>PandasIndex(Int64Index([  0,   1,   2,   3,   4,   5,   6,   7,   8,   9,\n",
       "            ...\n",
       "            990, 991, 992, 993, 994, 995, 996, 997, 998, 999],\n",
       "           dtype=&#x27;int64&#x27;, name=&#x27;draw&#x27;, length=1000))</pre></div></li></ul></div></li><li class='xr-section-item'><input id='section-92290d58-cd6c-4874-b7a7-951fda37f3f1' class='xr-section-summary-in' type='checkbox'  checked><label for='section-92290d58-cd6c-4874-b7a7-951fda37f3f1' class='xr-section-summary' >Attributes: <span>(4)</span></label><div class='xr-section-inline-details'></div><div class='xr-section-details'><dl class='xr-attrs'><dt><span>created_at :</span></dt><dd>2022-11-10T02:19:08.656243</dd><dt><span>arviz_version :</span></dt><dd>0.13.0</dd><dt><span>inference_library :</span></dt><dd>cmdstanpy</dd><dt><span>inference_library_version :</span></dt><dd>1.0.8</dd></dl></div></li></ul></div></div><br></div>\n",
       "                      </ul>\n",
       "                  </div>\n",
       "            </li>\n",
       "            \n",
       "            <li class = \"xr-section-item\">\n",
       "                  <input id=\"idata_prior5f3d2306-bd58-4116-96c8-9f1768a7db8b\" class=\"xr-section-summary-in\" type=\"checkbox\">\n",
       "                  <label for=\"idata_prior5f3d2306-bd58-4116-96c8-9f1768a7db8b\" class = \"xr-section-summary\">prior</label>\n",
       "                  <div class=\"xr-section-inline-details\"></div>\n",
       "                  <div class=\"xr-section-details\">\n",
       "                      <ul id=\"xr-dataset-coord-list\" class=\"xr-var-list\">\n",
       "                          <div style=\"padding-left:2rem;\"><div><svg style=\"position: absolute; width: 0; height: 0; overflow: hidden\">\n",
       "<defs>\n",
       "<symbol id=\"icon-database\" viewBox=\"0 0 32 32\">\n",
       "<path d=\"M16 0c-8.837 0-16 2.239-16 5v4c0 2.761 7.163 5 16 5s16-2.239 16-5v-4c0-2.761-7.163-5-16-5z\"></path>\n",
       "<path d=\"M16 17c-8.837 0-16-2.239-16-5v6c0 2.761 7.163 5 16 5s16-2.239 16-5v-6c0 2.761-7.163 5-16 5z\"></path>\n",
       "<path d=\"M16 26c-8.837 0-16-2.239-16-5v6c0 2.761 7.163 5 16 5s16-2.239 16-5v-6c0 2.761-7.163 5-16 5z\"></path>\n",
       "</symbol>\n",
       "<symbol id=\"icon-file-text2\" viewBox=\"0 0 32 32\">\n",
       "<path d=\"M28.681 7.159c-0.694-0.947-1.662-2.053-2.724-3.116s-2.169-2.030-3.116-2.724c-1.612-1.182-2.393-1.319-2.841-1.319h-15.5c-1.378 0-2.5 1.121-2.5 2.5v27c0 1.378 1.122 2.5 2.5 2.5h23c1.378 0 2.5-1.122 2.5-2.5v-19.5c0-0.448-0.137-1.23-1.319-2.841zM24.543 5.457c0.959 0.959 1.712 1.825 2.268 2.543h-4.811v-4.811c0.718 0.556 1.584 1.309 2.543 2.268zM28 29.5c0 0.271-0.229 0.5-0.5 0.5h-23c-0.271 0-0.5-0.229-0.5-0.5v-27c0-0.271 0.229-0.5 0.5-0.5 0 0 15.499-0 15.5 0v7c0 0.552 0.448 1 1 1h7v19.5z\"></path>\n",
       "<path d=\"M23 26h-14c-0.552 0-1-0.448-1-1s0.448-1 1-1h14c0.552 0 1 0.448 1 1s-0.448 1-1 1z\"></path>\n",
       "<path d=\"M23 22h-14c-0.552 0-1-0.448-1-1s0.448-1 1-1h14c0.552 0 1 0.448 1 1s-0.448 1-1 1z\"></path>\n",
       "<path d=\"M23 18h-14c-0.552 0-1-0.448-1-1s0.448-1 1-1h14c0.552 0 1 0.448 1 1s-0.448 1-1 1z\"></path>\n",
       "</symbol>\n",
       "</defs>\n",
       "</svg>\n",
       "<style>/* CSS stylesheet for displaying xarray objects in jupyterlab.\n",
       " *\n",
       " */\n",
       "\n",
       ":root {\n",
       "  --xr-font-color0: var(--jp-content-font-color0, rgba(0, 0, 0, 1));\n",
       "  --xr-font-color2: var(--jp-content-font-color2, rgba(0, 0, 0, 0.54));\n",
       "  --xr-font-color3: var(--jp-content-font-color3, rgba(0, 0, 0, 0.38));\n",
       "  --xr-border-color: var(--jp-border-color2, #e0e0e0);\n",
       "  --xr-disabled-color: var(--jp-layout-color3, #bdbdbd);\n",
       "  --xr-background-color: var(--jp-layout-color0, white);\n",
       "  --xr-background-color-row-even: var(--jp-layout-color1, white);\n",
       "  --xr-background-color-row-odd: var(--jp-layout-color2, #eeeeee);\n",
       "}\n",
       "\n",
       "html[theme=dark],\n",
       "body[data-theme=dark],\n",
       "body.vscode-dark {\n",
       "  --xr-font-color0: rgba(255, 255, 255, 1);\n",
       "  --xr-font-color2: rgba(255, 255, 255, 0.54);\n",
       "  --xr-font-color3: rgba(255, 255, 255, 0.38);\n",
       "  --xr-border-color: #1F1F1F;\n",
       "  --xr-disabled-color: #515151;\n",
       "  --xr-background-color: #111111;\n",
       "  --xr-background-color-row-even: #111111;\n",
       "  --xr-background-color-row-odd: #313131;\n",
       "}\n",
       "\n",
       ".xr-wrap {\n",
       "  display: block !important;\n",
       "  min-width: 300px;\n",
       "  max-width: 700px;\n",
       "}\n",
       "\n",
       ".xr-text-repr-fallback {\n",
       "  /* fallback to plain text repr when CSS is not injected (untrusted notebook) */\n",
       "  display: none;\n",
       "}\n",
       "\n",
       ".xr-header {\n",
       "  padding-top: 6px;\n",
       "  padding-bottom: 6px;\n",
       "  margin-bottom: 4px;\n",
       "  border-bottom: solid 1px var(--xr-border-color);\n",
       "}\n",
       "\n",
       ".xr-header > div,\n",
       ".xr-header > ul {\n",
       "  display: inline;\n",
       "  margin-top: 0;\n",
       "  margin-bottom: 0;\n",
       "}\n",
       "\n",
       ".xr-obj-type,\n",
       ".xr-array-name {\n",
       "  margin-left: 2px;\n",
       "  margin-right: 10px;\n",
       "}\n",
       "\n",
       ".xr-obj-type {\n",
       "  color: var(--xr-font-color2);\n",
       "}\n",
       "\n",
       ".xr-sections {\n",
       "  padding-left: 0 !important;\n",
       "  display: grid;\n",
       "  grid-template-columns: 150px auto auto 1fr 20px 20px;\n",
       "}\n",
       "\n",
       ".xr-section-item {\n",
       "  display: contents;\n",
       "}\n",
       "\n",
       ".xr-section-item input {\n",
       "  display: none;\n",
       "}\n",
       "\n",
       ".xr-section-item input + label {\n",
       "  color: var(--xr-disabled-color);\n",
       "}\n",
       "\n",
       ".xr-section-item input:enabled + label {\n",
       "  cursor: pointer;\n",
       "  color: var(--xr-font-color2);\n",
       "}\n",
       "\n",
       ".xr-section-item input:enabled + label:hover {\n",
       "  color: var(--xr-font-color0);\n",
       "}\n",
       "\n",
       ".xr-section-summary {\n",
       "  grid-column: 1;\n",
       "  color: var(--xr-font-color2);\n",
       "  font-weight: 500;\n",
       "}\n",
       "\n",
       ".xr-section-summary > span {\n",
       "  display: inline-block;\n",
       "  padding-left: 0.5em;\n",
       "}\n",
       "\n",
       ".xr-section-summary-in:disabled + label {\n",
       "  color: var(--xr-font-color2);\n",
       "}\n",
       "\n",
       ".xr-section-summary-in + label:before {\n",
       "  display: inline-block;\n",
       "  content: '►';\n",
       "  font-size: 11px;\n",
       "  width: 15px;\n",
       "  text-align: center;\n",
       "}\n",
       "\n",
       ".xr-section-summary-in:disabled + label:before {\n",
       "  color: var(--xr-disabled-color);\n",
       "}\n",
       "\n",
       ".xr-section-summary-in:checked + label:before {\n",
       "  content: '▼';\n",
       "}\n",
       "\n",
       ".xr-section-summary-in:checked + label > span {\n",
       "  display: none;\n",
       "}\n",
       "\n",
       ".xr-section-summary,\n",
       ".xr-section-inline-details {\n",
       "  padding-top: 4px;\n",
       "  padding-bottom: 4px;\n",
       "}\n",
       "\n",
       ".xr-section-inline-details {\n",
       "  grid-column: 2 / -1;\n",
       "}\n",
       "\n",
       ".xr-section-details {\n",
       "  display: none;\n",
       "  grid-column: 1 / -1;\n",
       "  margin-bottom: 5px;\n",
       "}\n",
       "\n",
       ".xr-section-summary-in:checked ~ .xr-section-details {\n",
       "  display: contents;\n",
       "}\n",
       "\n",
       ".xr-array-wrap {\n",
       "  grid-column: 1 / -1;\n",
       "  display: grid;\n",
       "  grid-template-columns: 20px auto;\n",
       "}\n",
       "\n",
       ".xr-array-wrap > label {\n",
       "  grid-column: 1;\n",
       "  vertical-align: top;\n",
       "}\n",
       "\n",
       ".xr-preview {\n",
       "  color: var(--xr-font-color3);\n",
       "}\n",
       "\n",
       ".xr-array-preview,\n",
       ".xr-array-data {\n",
       "  padding: 0 5px !important;\n",
       "  grid-column: 2;\n",
       "}\n",
       "\n",
       ".xr-array-data,\n",
       ".xr-array-in:checked ~ .xr-array-preview {\n",
       "  display: none;\n",
       "}\n",
       "\n",
       ".xr-array-in:checked ~ .xr-array-data,\n",
       ".xr-array-preview {\n",
       "  display: inline-block;\n",
       "}\n",
       "\n",
       ".xr-dim-list {\n",
       "  display: inline-block !important;\n",
       "  list-style: none;\n",
       "  padding: 0 !important;\n",
       "  margin: 0;\n",
       "}\n",
       "\n",
       ".xr-dim-list li {\n",
       "  display: inline-block;\n",
       "  padding: 0;\n",
       "  margin: 0;\n",
       "}\n",
       "\n",
       ".xr-dim-list:before {\n",
       "  content: '(';\n",
       "}\n",
       "\n",
       ".xr-dim-list:after {\n",
       "  content: ')';\n",
       "}\n",
       "\n",
       ".xr-dim-list li:not(:last-child):after {\n",
       "  content: ',';\n",
       "  padding-right: 5px;\n",
       "}\n",
       "\n",
       ".xr-has-index {\n",
       "  font-weight: bold;\n",
       "}\n",
       "\n",
       ".xr-var-list,\n",
       ".xr-var-item {\n",
       "  display: contents;\n",
       "}\n",
       "\n",
       ".xr-var-item > div,\n",
       ".xr-var-item label,\n",
       ".xr-var-item > .xr-var-name span {\n",
       "  background-color: var(--xr-background-color-row-even);\n",
       "  margin-bottom: 0;\n",
       "}\n",
       "\n",
       ".xr-var-item > .xr-var-name:hover span {\n",
       "  padding-right: 5px;\n",
       "}\n",
       "\n",
       ".xr-var-list > li:nth-child(odd) > div,\n",
       ".xr-var-list > li:nth-child(odd) > label,\n",
       ".xr-var-list > li:nth-child(odd) > .xr-var-name span {\n",
       "  background-color: var(--xr-background-color-row-odd);\n",
       "}\n",
       "\n",
       ".xr-var-name {\n",
       "  grid-column: 1;\n",
       "}\n",
       "\n",
       ".xr-var-dims {\n",
       "  grid-column: 2;\n",
       "}\n",
       "\n",
       ".xr-var-dtype {\n",
       "  grid-column: 3;\n",
       "  text-align: right;\n",
       "  color: var(--xr-font-color2);\n",
       "}\n",
       "\n",
       ".xr-var-preview {\n",
       "  grid-column: 4;\n",
       "}\n",
       "\n",
       ".xr-index-preview {\n",
       "  grid-column: 2 / 5;\n",
       "  color: var(--xr-font-color2);\n",
       "}\n",
       "\n",
       ".xr-var-name,\n",
       ".xr-var-dims,\n",
       ".xr-var-dtype,\n",
       ".xr-preview,\n",
       ".xr-attrs dt {\n",
       "  white-space: nowrap;\n",
       "  overflow: hidden;\n",
       "  text-overflow: ellipsis;\n",
       "  padding-right: 10px;\n",
       "}\n",
       "\n",
       ".xr-var-name:hover,\n",
       ".xr-var-dims:hover,\n",
       ".xr-var-dtype:hover,\n",
       ".xr-attrs dt:hover {\n",
       "  overflow: visible;\n",
       "  width: auto;\n",
       "  z-index: 1;\n",
       "}\n",
       "\n",
       ".xr-var-attrs,\n",
       ".xr-var-data,\n",
       ".xr-index-data {\n",
       "  display: none;\n",
       "  background-color: var(--xr-background-color) !important;\n",
       "  padding-bottom: 5px !important;\n",
       "}\n",
       "\n",
       ".xr-var-attrs-in:checked ~ .xr-var-attrs,\n",
       ".xr-var-data-in:checked ~ .xr-var-data,\n",
       ".xr-index-data-in:checked ~ .xr-index-data {\n",
       "  display: block;\n",
       "}\n",
       "\n",
       ".xr-var-data > table {\n",
       "  float: right;\n",
       "}\n",
       "\n",
       ".xr-var-name span,\n",
       ".xr-var-data,\n",
       ".xr-index-name div,\n",
       ".xr-index-data,\n",
       ".xr-attrs {\n",
       "  padding-left: 25px !important;\n",
       "}\n",
       "\n",
       ".xr-attrs,\n",
       ".xr-var-attrs,\n",
       ".xr-var-data,\n",
       ".xr-index-data {\n",
       "  grid-column: 1 / -1;\n",
       "}\n",
       "\n",
       "dl.xr-attrs {\n",
       "  padding: 0;\n",
       "  margin: 0;\n",
       "  display: grid;\n",
       "  grid-template-columns: 125px auto;\n",
       "}\n",
       "\n",
       ".xr-attrs dt,\n",
       ".xr-attrs dd {\n",
       "  padding: 0;\n",
       "  margin: 0;\n",
       "  float: left;\n",
       "  padding-right: 10px;\n",
       "  width: auto;\n",
       "}\n",
       "\n",
       ".xr-attrs dt {\n",
       "  font-weight: normal;\n",
       "  grid-column: 1;\n",
       "}\n",
       "\n",
       ".xr-attrs dt:hover span {\n",
       "  display: inline-block;\n",
       "  background: var(--xr-background-color);\n",
       "  padding-right: 10px;\n",
       "}\n",
       "\n",
       ".xr-attrs dd {\n",
       "  grid-column: 2;\n",
       "  white-space: pre-wrap;\n",
       "  word-break: break-all;\n",
       "}\n",
       "\n",
       ".xr-icon-database,\n",
       ".xr-icon-file-text2,\n",
       ".xr-no-icon {\n",
       "  display: inline-block;\n",
       "  vertical-align: middle;\n",
       "  width: 1em;\n",
       "  height: 1.5em !important;\n",
       "  stroke-width: 0;\n",
       "  stroke: currentColor;\n",
       "  fill: currentColor;\n",
       "}\n",
       "</style><pre class='xr-text-repr-fallback'>&lt;xarray.Dataset&gt;\n",
       "Dimensions:      (prior_draw: 200)\n",
       "Coordinates:\n",
       "  * prior_draw   (prior_draw) object MultiIndex\n",
       "  * chain        (prior_draw) int64 0 0 0 0 0 0 0 0 0 0 ... 1 1 1 1 1 1 1 1 1 1\n",
       "  * draw         (prior_draw) int64 0 1 2 3 4 5 6 7 ... 92 93 94 95 96 97 98 99\n",
       "Data variables:\n",
       "    b0           (prior_draw) float64 104.4 -239.1 -249.9 ... 222.8 -46.17\n",
       "    b1           (prior_draw) float64 116.8 -175.4 -71.92 ... -162.4 7.715 274.3\n",
       "    log_b_sigma  (prior_draw) float64 6.163 6.122 5.205 ... 3.633 6.172 6.076\n",
       "    b_sigma      (prior_draw) float64 474.6 455.6 182.3 ... 37.84 479.3 435.3\n",
       "    c0           (prior_draw) float64 -2.87 -6.738 11.82 ... -10.68 -11.76\n",
       "    c1           (prior_draw) float64 18.08 -7.793 4.934 ... -2.836 -14.52\n",
       "    log_c_sigma  (prior_draw) float64 6.163 6.122 5.205 ... 3.633 6.172 6.076\n",
       "    c_sigma      (prior_draw) float64 9.529 6.93 6.605 ... 1.642 4.487 3.449\n",
       "Attributes:\n",
       "    created_at:                 2022-11-10T02:19:07.951878\n",
       "    arviz_version:              0.13.0\n",
       "    inference_library:          cmdstanpy\n",
       "    inference_library_version:  1.0.8</pre><div class='xr-wrap' style='display:none'><div class='xr-header'><div class='xr-obj-type'>xarray.Dataset</div></div><ul class='xr-sections'><li class='xr-section-item'><input id='section-df46c30d-c134-41f9-bbbd-45d01e9af3ad' class='xr-section-summary-in' type='checkbox' disabled ><label for='section-df46c30d-c134-41f9-bbbd-45d01e9af3ad' class='xr-section-summary'  title='Expand/collapse section'>Dimensions:</label><div class='xr-section-inline-details'><ul class='xr-dim-list'><li><span class='xr-has-index'>prior_draw</span>: 200</li></ul></div><div class='xr-section-details'></div></li><li class='xr-section-item'><input id='section-22fe265b-ac2e-42c0-b277-ffebb3a64093' class='xr-section-summary-in' type='checkbox'  checked><label for='section-22fe265b-ac2e-42c0-b277-ffebb3a64093' class='xr-section-summary' >Coordinates: <span>(3)</span></label><div class='xr-section-inline-details'></div><div class='xr-section-details'><ul class='xr-var-list'><li class='xr-var-item'><div class='xr-var-name'><span class='xr-has-index'>prior_draw</span></div><div class='xr-var-dims'>(prior_draw)</div><div class='xr-var-dtype'>object</div><div class='xr-var-preview xr-preview'>MultiIndex</div><input id='attrs-144df061-cd2b-4ade-b963-94032e3a11c7' class='xr-var-attrs-in' type='checkbox' disabled><label for='attrs-144df061-cd2b-4ade-b963-94032e3a11c7' title='Show/Hide attributes'><svg class='icon xr-icon-file-text2'><use xlink:href='#icon-file-text2'></use></svg></label><input id='data-23f4e659-4bb2-47b7-b31f-9320153ba616' class='xr-var-data-in' type='checkbox'><label for='data-23f4e659-4bb2-47b7-b31f-9320153ba616' title='Show/Hide data repr'><svg class='icon xr-icon-database'><use xlink:href='#icon-database'></use></svg></label><div class='xr-var-attrs'><dl class='xr-attrs'></dl></div><div class='xr-var-data'><pre>array([(0, 0), (0, 1), (0, 2), (0, 3), (0, 4), (0, 5), (0, 6), (0, 7), (0, 8),\n",
       "       (0, 9), (0, 10), (0, 11), (0, 12), (0, 13), (0, 14), (0, 15), (0, 16),\n",
       "       (0, 17), (0, 18), (0, 19), (0, 20), (0, 21), (0, 22), (0, 23), (0, 24),\n",
       "       (0, 25), (0, 26), (0, 27), (0, 28), (0, 29), (0, 30), (0, 31), (0, 32),\n",
       "       (0, 33), (0, 34), (0, 35), (0, 36), (0, 37), (0, 38), (0, 39), (0, 40),\n",
       "       (0, 41), (0, 42), (0, 43), (0, 44), (0, 45), (0, 46), (0, 47), (0, 48),\n",
       "       (0, 49), (0, 50), (0, 51), (0, 52), (0, 53), (0, 54), (0, 55), (0, 56),\n",
       "       (0, 57), (0, 58), (0, 59), (0, 60), (0, 61), (0, 62), (0, 63), (0, 64),\n",
       "       (0, 65), (0, 66), (0, 67), (0, 68), (0, 69), (0, 70), (0, 71), (0, 72),\n",
       "       (0, 73), (0, 74), (0, 75), (0, 76), (0, 77), (0, 78), (0, 79), (0, 80),\n",
       "       (0, 81), (0, 82), (0, 83), (0, 84), (0, 85), (0, 86), (0, 87), (0, 88),\n",
       "       (0, 89), (0, 90), (0, 91), (0, 92), (0, 93), (0, 94), (0, 95), (0, 96),\n",
       "       (0, 97), (0, 98), (0, 99), (1, 0), (1, 1), (1, 2), (1, 3), (1, 4),\n",
       "       (1, 5), (1, 6), (1, 7), (1, 8), (1, 9), (1, 10), (1, 11), (1, 12),\n",
       "       (1, 13), (1, 14), (1, 15), (1, 16), (1, 17), (1, 18), (1, 19), (1, 20),\n",
       "       (1, 21), (1, 22), (1, 23), (1, 24), (1, 25), (1, 26), (1, 27), (1, 28),\n",
       "       (1, 29), (1, 30), (1, 31), (1, 32), (1, 33), (1, 34), (1, 35), (1, 36),\n",
       "       (1, 37), (1, 38), (1, 39), (1, 40), (1, 41), (1, 42), (1, 43), (1, 44),\n",
       "       (1, 45), (1, 46), (1, 47), (1, 48), (1, 49), (1, 50), (1, 51), (1, 52),\n",
       "       (1, 53), (1, 54), (1, 55), (1, 56), (1, 57), (1, 58), (1, 59), (1, 60),\n",
       "       (1, 61), (1, 62), (1, 63), (1, 64), (1, 65), (1, 66), (1, 67), (1, 68),\n",
       "       (1, 69), (1, 70), (1, 71), (1, 72), (1, 73), (1, 74), (1, 75), (1, 76),\n",
       "       (1, 77), (1, 78), (1, 79), (1, 80), (1, 81), (1, 82), (1, 83), (1, 84),\n",
       "       (1, 85), (1, 86), (1, 87), (1, 88), (1, 89), (1, 90), (1, 91), (1, 92),\n",
       "       (1, 93), (1, 94), (1, 95), (1, 96), (1, 97), (1, 98), (1, 99)],\n",
       "      dtype=object)</pre></div></li><li class='xr-var-item'><div class='xr-var-name'><span class='xr-has-index'>chain</span></div><div class='xr-var-dims'>(prior_draw)</div><div class='xr-var-dtype'>int64</div><div class='xr-var-preview xr-preview'>0 0 0 0 0 0 0 0 ... 1 1 1 1 1 1 1 1</div><input id='attrs-2b3eba4f-3d53-44ad-8106-99117b908399' class='xr-var-attrs-in' type='checkbox' disabled><label for='attrs-2b3eba4f-3d53-44ad-8106-99117b908399' title='Show/Hide attributes'><svg class='icon xr-icon-file-text2'><use xlink:href='#icon-file-text2'></use></svg></label><input id='data-6069b4fd-3bef-4990-93b2-6e87c1446322' class='xr-var-data-in' type='checkbox'><label for='data-6069b4fd-3bef-4990-93b2-6e87c1446322' title='Show/Hide data repr'><svg class='icon xr-icon-database'><use xlink:href='#icon-database'></use></svg></label><div class='xr-var-attrs'><dl class='xr-attrs'></dl></div><div class='xr-var-data'><pre>array([0, 0, 0, 0, 0, 0, 0, 0, 0, 0, 0, 0, 0, 0, 0, 0, 0, 0, 0, 0, 0, 0, 0, 0,\n",
       "       0, 0, 0, 0, 0, 0, 0, 0, 0, 0, 0, 0, 0, 0, 0, 0, 0, 0, 0, 0, 0, 0, 0, 0,\n",
       "       0, 0, 0, 0, 0, 0, 0, 0, 0, 0, 0, 0, 0, 0, 0, 0, 0, 0, 0, 0, 0, 0, 0, 0,\n",
       "       0, 0, 0, 0, 0, 0, 0, 0, 0, 0, 0, 0, 0, 0, 0, 0, 0, 0, 0, 0, 0, 0, 0, 0,\n",
       "       0, 0, 0, 0, 1, 1, 1, 1, 1, 1, 1, 1, 1, 1, 1, 1, 1, 1, 1, 1, 1, 1, 1, 1,\n",
       "       1, 1, 1, 1, 1, 1, 1, 1, 1, 1, 1, 1, 1, 1, 1, 1, 1, 1, 1, 1, 1, 1, 1, 1,\n",
       "       1, 1, 1, 1, 1, 1, 1, 1, 1, 1, 1, 1, 1, 1, 1, 1, 1, 1, 1, 1, 1, 1, 1, 1,\n",
       "       1, 1, 1, 1, 1, 1, 1, 1, 1, 1, 1, 1, 1, 1, 1, 1, 1, 1, 1, 1, 1, 1, 1, 1,\n",
       "       1, 1, 1, 1, 1, 1, 1, 1])</pre></div></li><li class='xr-var-item'><div class='xr-var-name'><span class='xr-has-index'>draw</span></div><div class='xr-var-dims'>(prior_draw)</div><div class='xr-var-dtype'>int64</div><div class='xr-var-preview xr-preview'>0 1 2 3 4 5 6 ... 94 95 96 97 98 99</div><input id='attrs-f6127741-94b1-4d20-a996-28255661d7db' class='xr-var-attrs-in' type='checkbox' disabled><label for='attrs-f6127741-94b1-4d20-a996-28255661d7db' title='Show/Hide attributes'><svg class='icon xr-icon-file-text2'><use xlink:href='#icon-file-text2'></use></svg></label><input id='data-f24828e1-4bfe-490b-b03e-eed6e1e0ace8' class='xr-var-data-in' type='checkbox'><label for='data-f24828e1-4bfe-490b-b03e-eed6e1e0ace8' title='Show/Hide data repr'><svg class='icon xr-icon-database'><use xlink:href='#icon-database'></use></svg></label><div class='xr-var-attrs'><dl class='xr-attrs'></dl></div><div class='xr-var-data'><pre>array([ 0,  1,  2,  3,  4,  5,  6,  7,  8,  9, 10, 11, 12, 13, 14, 15, 16, 17,\n",
       "       18, 19, 20, 21, 22, 23, 24, 25, 26, 27, 28, 29, 30, 31, 32, 33, 34, 35,\n",
       "       36, 37, 38, 39, 40, 41, 42, 43, 44, 45, 46, 47, 48, 49, 50, 51, 52, 53,\n",
       "       54, 55, 56, 57, 58, 59, 60, 61, 62, 63, 64, 65, 66, 67, 68, 69, 70, 71,\n",
       "       72, 73, 74, 75, 76, 77, 78, 79, 80, 81, 82, 83, 84, 85, 86, 87, 88, 89,\n",
       "       90, 91, 92, 93, 94, 95, 96, 97, 98, 99,  0,  1,  2,  3,  4,  5,  6,  7,\n",
       "        8,  9, 10, 11, 12, 13, 14, 15, 16, 17, 18, 19, 20, 21, 22, 23, 24, 25,\n",
       "       26, 27, 28, 29, 30, 31, 32, 33, 34, 35, 36, 37, 38, 39, 40, 41, 42, 43,\n",
       "       44, 45, 46, 47, 48, 49, 50, 51, 52, 53, 54, 55, 56, 57, 58, 59, 60, 61,\n",
       "       62, 63, 64, 65, 66, 67, 68, 69, 70, 71, 72, 73, 74, 75, 76, 77, 78, 79,\n",
       "       80, 81, 82, 83, 84, 85, 86, 87, 88, 89, 90, 91, 92, 93, 94, 95, 96, 97,\n",
       "       98, 99])</pre></div></li></ul></div></li><li class='xr-section-item'><input id='section-9603ee3e-3f36-4481-a7b9-3c1bc3fc7356' class='xr-section-summary-in' type='checkbox'  checked><label for='section-9603ee3e-3f36-4481-a7b9-3c1bc3fc7356' class='xr-section-summary' >Data variables: <span>(8)</span></label><div class='xr-section-inline-details'></div><div class='xr-section-details'><ul class='xr-var-list'><li class='xr-var-item'><div class='xr-var-name'><span>b0</span></div><div class='xr-var-dims'>(prior_draw)</div><div class='xr-var-dtype'>float64</div><div class='xr-var-preview xr-preview'>104.4 -239.1 ... 222.8 -46.17</div><input id='attrs-c4c81966-64ec-4618-ac0d-99bfee6b04ff' class='xr-var-attrs-in' type='checkbox' disabled><label for='attrs-c4c81966-64ec-4618-ac0d-99bfee6b04ff' title='Show/Hide attributes'><svg class='icon xr-icon-file-text2'><use xlink:href='#icon-file-text2'></use></svg></label><input id='data-85395fdf-3699-4e24-ac2f-219adbd9e2de' class='xr-var-data-in' type='checkbox'><label for='data-85395fdf-3699-4e24-ac2f-219adbd9e2de' title='Show/Hide data repr'><svg class='icon xr-icon-database'><use xlink:href='#icon-database'></use></svg></label><div class='xr-var-attrs'><dl class='xr-attrs'></dl></div><div class='xr-var-data'><pre>array([ 104.449  , -239.142  , -249.938  , -144.776  ,  -89.8059 ,\n",
       "       -198.598  ,  156.338  ,  101.803  , -441.558  ,  111.486  ,\n",
       "         74.15   ,   21.6611 ,   79.0451 , -141.266  , -123.09   ,\n",
       "       -174.545  ,   59.2408 , -271.218  ,  160.854  ,  -63.2174 ,\n",
       "         87.4952 , -116.524  ,  205.681  ,  -99.1218 ,  105.913  ,\n",
       "          1.49544, -186.95   ,  391.206  , -370.174  , -102.948  ,\n",
       "         -8.18319,  160.106  ,  -21.5442 ,  202.143  , -366.861  ,\n",
       "        249.218  , -184.405  , -210.006  ,  266.832  , -339.218  ,\n",
       "        114.392  , -139.995  ,  -16.1775 ,  -19.3943 ,  -37.1429 ,\n",
       "       -179.463  ,   74.8811 , -187.578  , -319.52   ,  107.388  ,\n",
       "       -279.874  , -245.97   ,  139.506  , -303.897  , -131.877  ,\n",
       "         72.0854 , -251.342  ,  226.952  ,  -67.3386 ,   62.921  ,\n",
       "         25.8607 ,  -65.0866 ,  -91.8718 ,  223.802  ,   -2.12068,\n",
       "        153.509  ,   76.8709 , -231.673  , -106.541  , -216.961  ,\n",
       "       -186.602  , -190.432  ,  167.253  ,   17.1411 ,  123.817  ,\n",
       "         84.2162 , -250.461  ,  141.193  , -175.381  ,  -46.1045 ,\n",
       "       -240.113  , -175.436  , -204.257  ,  150.765  ,  194.507  ,\n",
       "        -64.2149 ,  352.416  ,   30.5298 ,   -3.28985,  -98.7423 ,\n",
       "        129.165  , -108.591  ,  -56.0632 , -268.257  ,  139.593  ,\n",
       "         -8.66882,  -89.3812 ,  314.312  , -254.01   ,   76.6701 ,\n",
       "        321.858  ,  178.949  ,   72.6185 , -182.935  ,   -2.2755 ,\n",
       "        -43.1122 ,  -16.4895 ,  -76.4237 ,   89.0712 ,   19.1942 ,\n",
       "        143.09   ,  -73.0453 ,   61.4078 , -102.549  , -346.067  ,\n",
       "         58.8091 ,  -98.0634 , -278.279  ,  -75.7922 , -126.785  ,\n",
       "       -121.564  ,   24.8817 ,   24.6439 ,  364.313  , -148.417  ,\n",
       "        257.082  ,  272.976  ,  -97.1381 , -337.763  ,  166.753  ,\n",
       "        106.669  ,  374.059  ,  -59.4104 ,  301.735  , -288.006  ,\n",
       "        -59.4327 ,  171.586  ,  -13.4728 ,  231.42   ,  -99.5771 ,\n",
       "        -17.2482 , -276.337  ,  -39.6695 ,   44.3198 ,  220.484  ,\n",
       "         30.7576 , -303.504  ,  -73.2369 , -224.188  ,  -48.6494 ,\n",
       "        269.996  ,    3.09807,  -99.9058 , -151.788  , -186.849  ,\n",
       "         79.5116 ,  258.591  , -151.221  ,   26.0092 , -285.73   ,\n",
       "        162.148  ,  -45.8361 , -119.718  ,   26.2347 ,  215.824  ,\n",
       "        132.408  , -210.268  ,   86.3692 ,  339.079  ,  146.766  ,\n",
       "        248.947  , -452.76   ,  451.965  , -215.817  ,  396.73   ,\n",
       "       -179.056  ,   30.7824 ,  -40.8429 ,  -87.7183 ,  125.16   ,\n",
       "        100.91   , -285.742  ,  273.976  ,  310.5    , -107.976  ,\n",
       "        328.889  ,  -83.6901 ,  162.636  , -104.645  ,  -38.5143 ,\n",
       "         95.8604 ,  132.598  ,    2.43422, -174.365  , -100.007  ,\n",
       "        148.652  ,   33.3739 , -227.483  ,  222.762  ,  -46.1711 ])</pre></div></li><li class='xr-var-item'><div class='xr-var-name'><span>b1</span></div><div class='xr-var-dims'>(prior_draw)</div><div class='xr-var-dtype'>float64</div><div class='xr-var-preview xr-preview'>116.8 -175.4 -71.92 ... 7.715 274.3</div><input id='attrs-16f2a450-3fee-4bc9-94d0-01caaab79658' class='xr-var-attrs-in' type='checkbox' disabled><label for='attrs-16f2a450-3fee-4bc9-94d0-01caaab79658' title='Show/Hide attributes'><svg class='icon xr-icon-file-text2'><use xlink:href='#icon-file-text2'></use></svg></label><input id='data-c266e204-03cf-4514-bd60-87b07b2407c6' class='xr-var-data-in' type='checkbox'><label for='data-c266e204-03cf-4514-bd60-87b07b2407c6' title='Show/Hide data repr'><svg class='icon xr-icon-database'><use xlink:href='#icon-database'></use></svg></label><div class='xr-var-attrs'><dl class='xr-attrs'></dl></div><div class='xr-var-data'><pre>array([ 116.759  , -175.384  ,  -71.9195 , -124.143  ,  -51.3987 ,\n",
       "        101.514  ,  110.348  , -467.939  , -134.2    ,  -47.8152 ,\n",
       "        125.952  ,  244.956  ,  116.921  ,  -75.2891 , -286.671  ,\n",
       "        330.11   , -161.676  , -163.099  ,  133.761  ,   36.1317 ,\n",
       "       -112.674  , -106.403  ,   72.7378 ,  -75.5724 ,  137.864  ,\n",
       "       -147.962  , -142.232  ,    6.15631, -158.633  , -234.004  ,\n",
       "        242.013  ,  261.281  ,  -23.9263 , -241.488  , -435.373  ,\n",
       "        -66.5842 ,  425.168  ,  299.099  , -171.677  ,  -11.6946 ,\n",
       "       -262.965  ,  -69.0125 ,   61.2677 ,  102.703  ,  138.577  ,\n",
       "        -50.6765 ,  -53.2775 ,   24.915  ,  -15.1711 ,  293.585  ,\n",
       "         45.8117 ,  117.719  ,  157.232  , -310.307  ,   17.0818 ,\n",
       "        -57.0787 ,   41.9671 ,  -22.7299 ,  -47.654  ,  213.081  ,\n",
       "         50.586  ,   47.8481 ,   63.6697 ,  184.726  ,  -63.6645 ,\n",
       "          1.25006, -293.005  ,   52.5259 , -154.163  ,   66.0363 ,\n",
       "         87.6189 , -260.974  ,   98.2043 ,  247.729  , -226.759  ,\n",
       "        123.545  ,  201.341  ,  -43.9713 , -302.102  ,  183.232  ,\n",
       "        179.294  , -145.134  ,  291.726  ,  -87.964  ,  144.477  ,\n",
       "       -181.749  , -224.132  , -136.288  , -437.564  ,  514.333  ,\n",
       "        307.921  ,  295.067  ,   30.3558 ,  356.971  , -408.375  ,\n",
       "        -52.5685 , -100.166  ,   67.1994 ,   90.4952 , -295.573  ,\n",
       "         51.3869 ,  312.199  ,  109.264  ,   78.2479 , -262.332  ,\n",
       "        169.658  ,  188.424  ,   76.8888 , -164.942  , -410.757  ,\n",
       "       -114.244  ,    3.84821, -146.967  , -138.821  , -167.258  ,\n",
       "        168.493  , -177.436  ,  230.877  ,   -8.97078, -238.346  ,\n",
       "        162.262  ,  350.85   ,   75.3655 ,  202.61   ,  127.281  ,\n",
       "        191.816  , -108.455  ,   54.9355 ,   36.6677 , -100.227  ,\n",
       "        392.99   ,  -27.4376 ,  259.705  ,  -36.5504 ,   44.3605 ,\n",
       "       -265.232  , -156.201  ,  362.368  ,  107.208  ,  235.602  ,\n",
       "       -290.952  ,  199.006  , -283.934  ,   53.1338 , -454.145  ,\n",
       "       -503.83   ,  125.946  , -232.285  ,  -25.6992 , -134.192  ,\n",
       "        -34.3288 ,  213.494  ,  213.892  ,    4.71683, -284.668  ,\n",
       "        122.47   , -265.681  , -414.529  ,  176.057  ,   -1.55652,\n",
       "        -37.9004 , -284.011  ,  -36.9957 , -239.052  ,  -72.852  ,\n",
       "        -12.4258 ,  -72.0827 ,  206.989  , -191.063  ,  155.451  ,\n",
       "         12.6175 ,  -75.7117 ,  198.138  ,  -58.9123 ,   77.4251 ,\n",
       "        -66.4862 ,  -18.0489 , -193.569  , -174.145  ,  133.499  ,\n",
       "       -131.864  ,  172.989  ,   82.3077 ,  139.635  ,   62.5459 ,\n",
       "        -35.8922 ,   72.1321 , -353.567  ,  241.764  ,   78.9056 ,\n",
       "         30.358  , -198.684  ,  -97.3729 , -115.746  , -201.482  ,\n",
       "         93.1769 , -148.259  , -162.441  ,    7.71492,  274.251  ])</pre></div></li><li class='xr-var-item'><div class='xr-var-name'><span>log_b_sigma</span></div><div class='xr-var-dims'>(prior_draw)</div><div class='xr-var-dtype'>float64</div><div class='xr-var-preview xr-preview'>6.163 6.122 5.205 ... 6.172 6.076</div><input id='attrs-bd3aac4f-9098-49ad-99e1-eaeada64ac7f' class='xr-var-attrs-in' type='checkbox' disabled><label for='attrs-bd3aac4f-9098-49ad-99e1-eaeada64ac7f' title='Show/Hide attributes'><svg class='icon xr-icon-file-text2'><use xlink:href='#icon-file-text2'></use></svg></label><input id='data-0c8a2263-6415-4ef0-b229-fdb218663993' class='xr-var-data-in' type='checkbox'><label for='data-0c8a2263-6415-4ef0-b229-fdb218663993' title='Show/Hide data repr'><svg class='icon xr-icon-database'><use xlink:href='#icon-database'></use></svg></label><div class='xr-var-attrs'><dl class='xr-attrs'></dl></div><div class='xr-var-data'><pre>array([6.16251 , 6.12161 , 5.20545 , 5.8796  , 6.26567 , 5.33726 ,\n",
       "       5.24282 , 5.13438 , 5.16088 , 5.9386  , 5.24658 , 3.47914 ,\n",
       "       3.03562 , 6.02971 , 2.8532  , 5.69388 , 5.75087 , 2.84915 ,\n",
       "       5.80047 , 6.53003 , 5.00438 , 1.89495 , 4.87108 , 4.41706 ,\n",
       "       6.42854 , 2.7686  , 4.60929 , 5.41848 , 5.50506 , 4.94148 ,\n",
       "       5.11017 , 6.6244  , 4.53113 , 6.46315 , 6.02305 , 5.71383 ,\n",
       "       6.12964 , 4.47266 , 5.49956 , 5.79206 , 6.54979 , 2.53248 ,\n",
       "       3.61014 , 5.41962 , 5.28777 , 6.16757 , 5.83671 , 6.24525 ,\n",
       "       5.39082 , 5.20708 , 5.86372 , 4.47876 , 5.0659  , 6.04023 ,\n",
       "       3.91866 , 5.92033 , 5.62557 , 5.78511 , 3.40452 , 6.21375 ,\n",
       "       4.30511 , 3.92648 , 6.09879 , 4.5524  , 5.78408 , 3.76853 ,\n",
       "       5.43148 , 5.41359 , 2.78091 , 4.41079 , 1.86954 , 5.66324 ,\n",
       "       6.2329  , 5.46841 , 3.67495 , 6.23385 , 5.5045  , 4.85142 ,\n",
       "       6.14706 , 5.47347 , 5.75973 , 5.05354 , 4.95941 , 6.36908 ,\n",
       "       3.28242 , 5.76423 , 4.95449 , 5.10479 , 5.6215  , 5.7499  ,\n",
       "       4.72753 , 5.23349 , 5.41023 , 5.23    , 4.83928 , 5.58169 ,\n",
       "       3.72294 , 5.99299 , 5.84826 , 5.03937 , 4.45008 , 4.92274 ,\n",
       "       3.30509 , 4.84601 , 5.17564 , 3.98243 , 4.62482 , 6.92221 ,\n",
       "       4.79588 , 4.96637 , 3.67929 , 5.11786 , 6.60128 , 5.54578 ,\n",
       "       5.01658 , 3.13299 , 5.68345 , 5.65232 , 6.15498 , 5.43553 ,\n",
       "       4.24305 , 5.41658 , 6.1183  , 4.43988 , 6.56755 , 6.25642 ,\n",
       "       6.51932 , 1.69729 , 6.15151 , 3.24294 , 5.12654 , 5.69878 ,\n",
       "       5.75253 , 5.93718 , 2.75091 , 5.67534 , 5.22332 , 3.48751 ,\n",
       "       6.79855 , 2.76541 , 3.37934 , 5.37119 , 6.27095 , 3.70289 ,\n",
       "       4.99368 , 5.02296 , 6.2549  , 5.27709 , 5.33685 , 2.26325 ,\n",
       "       5.75192 , 4.81084 , 5.09811 , 4.12775 , 5.61867 , 3.64285 ,\n",
       "       3.89675 , 5.68378 , 4.9121  , 6.58444 , 5.69464 , 6.2367  ,\n",
       "       4.72322 , 5.70953 , 2.8124  , 5.83538 , 5.38811 , 5.78379 ,\n",
       "       6.26469 , 5.10635 , 5.0366  , 5.21441 , 5.21616 , 4.90264 ,\n",
       "       6.245   , 5.73561 , 5.72917 , 4.30807 , 4.72199 , 5.49091 ,\n",
       "       5.72939 , 4.76031 , 5.97445 , 6.13811 , 5.97652 , 6.11403 ,\n",
       "       6.39789 , 2.95088 , 5.01029 , 6.98165 , 5.9732  , 5.71602 ,\n",
       "       5.71279 , 5.60497 , 6.07331 , 4.93575 , 0.532915, 3.63324 ,\n",
       "       6.17229 , 6.076   ])</pre></div></li><li class='xr-var-item'><div class='xr-var-name'><span>b_sigma</span></div><div class='xr-var-dims'>(prior_draw)</div><div class='xr-var-dtype'>float64</div><div class='xr-var-preview xr-preview'>474.6 455.6 182.3 ... 479.3 435.3</div><input id='attrs-99105543-ecba-40c5-bef8-8205c66fa24c' class='xr-var-attrs-in' type='checkbox' disabled><label for='attrs-99105543-ecba-40c5-bef8-8205c66fa24c' title='Show/Hide attributes'><svg class='icon xr-icon-file-text2'><use xlink:href='#icon-file-text2'></use></svg></label><input id='data-d1f15b51-6350-4ebb-8d51-a52cd66ae744' class='xr-var-data-in' type='checkbox'><label for='data-d1f15b51-6350-4ebb-8d51-a52cd66ae744' title='Show/Hide data repr'><svg class='icon xr-icon-database'><use xlink:href='#icon-database'></use></svg></label><div class='xr-var-attrs'><dl class='xr-attrs'></dl></div><div class='xr-var-data'><pre>array([ 474.616  ,  455.6    ,  182.263  ,  357.665  ,  526.195  ,\n",
       "        207.942  ,  189.202  ,  169.759  ,  174.318  ,  379.402  ,\n",
       "        189.915  ,   32.4319 ,   20.8139 ,  415.593  ,   17.3432 ,\n",
       "        297.044  ,  314.464  ,   17.2731 ,  330.453  ,  685.417  ,\n",
       "        149.065  ,    6.65222,  130.462  ,   82.8524 ,  619.271  ,\n",
       "         15.9363 ,  100.413  ,  225.537  ,  245.934  ,  139.978  ,\n",
       "        165.698  ,  753.248  ,   92.863  ,  641.075  ,  412.836  ,\n",
       "        303.03   ,  459.27   ,   87.5897 ,  244.584  ,  327.688  ,\n",
       "        699.098  ,   12.5846 ,   36.9714 ,  225.793  ,  197.902  ,\n",
       "        477.025  ,  342.651  ,  515.557  ,  219.383  ,  182.56   ,\n",
       "        352.031  ,   88.1252 ,  158.523  ,  419.99   ,   50.3329 ,\n",
       "        372.535  ,  277.43   ,  325.417  ,   30.0997 ,  499.573  ,\n",
       "         74.077  ,   50.7279 ,  445.319  ,   94.8597 ,  325.081  ,\n",
       "         43.3164 ,  228.488  ,  224.436  ,   16.1337 ,   82.3341 ,\n",
       "          6.48531,  288.08   ,  509.232  ,  237.083  ,   39.4468 ,\n",
       "        509.716  ,  245.796  ,  127.922  ,  467.342  ,  238.286  ,\n",
       "        317.261  ,  156.576  ,  142.51   ,  583.519  ,   26.6401 ,\n",
       "        318.692  ,  141.81   ,  164.81   ,  276.303  ,  314.159  ,\n",
       "        113.016  ,  187.447  ,  223.682  ,  186.794  ,  126.379  ,\n",
       "        265.52   ,   41.3857 ,  400.611  ,  346.629  ,  154.372  ,\n",
       "         85.6334 ,  137.378  ,   27.2511 ,  127.232  ,  176.909  ,\n",
       "         53.6471 ,  101.984  , 1014.56   ,  121.01   ,  143.505  ,\n",
       "         39.6181 ,  166.977  ,  736.038  ,  256.156  ,  150.894  ,\n",
       "         22.9424 ,  293.962  ,  284.951  ,  471.058  ,  229.414  ,\n",
       "         69.6197 ,  225.107  ,  454.091  ,   84.7648 ,  711.623  ,\n",
       "        521.349  ,  678.117  ,    5.45912,  469.427  ,   25.609  ,\n",
       "        168.434  ,  298.503  ,  314.986  ,  378.865  ,   15.6569 ,\n",
       "        291.586  ,  185.55   ,   32.7045 ,  896.544  ,   15.8855 ,\n",
       "         29.3513 ,  215.118  ,  528.981  ,   40.5642 ,  147.478  ,\n",
       "        151.861  ,  520.559  ,  195.799  ,  207.857  ,    9.61425,\n",
       "        314.795  ,  122.834  ,  163.713  ,   62.0384 ,  275.523  ,\n",
       "         38.2007 ,   49.2419 ,  294.059  ,  135.925  ,  723.749  ,\n",
       "        297.27   ,  511.168  ,  112.53   ,  301.73   ,   16.6498 ,\n",
       "        342.194  ,  218.79   ,  324.989  ,  525.678  ,  165.066  ,\n",
       "        153.946  ,  183.904  ,  184.226  ,  134.644  ,  515.43   ,\n",
       "        309.701  ,  307.714  ,   74.2972 ,  112.392  ,  242.477  ,\n",
       "        307.783  ,  116.782  ,  393.254  ,  463.179  ,  394.068  ,\n",
       "        452.157  ,  600.577  ,   19.1228 ,  149.948  , 1076.69   ,\n",
       "        392.761  ,  303.693  ,  302.714  ,  271.773  ,  434.116  ,\n",
       "        139.178  ,    1.70389,   37.8351 ,  479.281  ,  435.285  ])</pre></div></li><li class='xr-var-item'><div class='xr-var-name'><span>c0</span></div><div class='xr-var-dims'>(prior_draw)</div><div class='xr-var-dtype'>float64</div><div class='xr-var-preview xr-preview'>-2.87 -6.738 ... -10.68 -11.76</div><input id='attrs-1f380781-4ba1-44c9-9c1b-713956973c6d' class='xr-var-attrs-in' type='checkbox' disabled><label for='attrs-1f380781-4ba1-44c9-9c1b-713956973c6d' title='Show/Hide attributes'><svg class='icon xr-icon-file-text2'><use xlink:href='#icon-file-text2'></use></svg></label><input id='data-37447105-6472-4265-a8c3-09faf85a73ed' class='xr-var-data-in' type='checkbox'><label for='data-37447105-6472-4265-a8c3-09faf85a73ed' title='Show/Hide data repr'><svg class='icon xr-icon-database'><use xlink:href='#icon-database'></use></svg></label><div class='xr-var-attrs'><dl class='xr-attrs'></dl></div><div class='xr-var-data'><pre>array([-2.86982e+00, -6.73762e+00,  1.18233e+01, -1.03202e+01,\n",
       "       -1.20621e+01,  1.11536e+01,  1.74200e+00, -7.80785e+00,\n",
       "        1.35291e+00, -1.39262e+00, -8.57964e+00, -8.95690e+00,\n",
       "       -7.93322e+00, -6.04166e+00, -1.26309e+01, -5.77417e+00,\n",
       "        1.01696e-01,  1.50923e+00, -3.99392e+00,  2.48940e+00,\n",
       "       -3.10468e+00, -1.01008e+01, -1.33609e+01, -2.72499e+00,\n",
       "       -9.36190e+00,  9.56670e+00,  2.59573e+00, -8.76528e+00,\n",
       "       -3.23591e+00, -3.34711e+00, -6.57663e+00, -2.06917e+01,\n",
       "        2.50867e+00,  2.97168e+00,  7.72401e+00, -1.08840e+01,\n",
       "       -5.36809e-01,  2.10290e+01, -2.97654e+01,  8.36104e+00,\n",
       "       -7.14505e+00,  6.78773e-01,  9.80485e+00,  3.36503e+00,\n",
       "        1.53329e+01, -1.09632e+00, -5.52977e+00, -2.18281e+00,\n",
       "        1.66469e+01, -1.11022e+00,  9.29691e-01, -1.29710e+01,\n",
       "       -9.25044e+00, -6.99874e+00,  4.36621e+00, -8.26687e+00,\n",
       "       -4.76029e+00, -3.77857e-01, -6.98972e+00, -1.90945e+00,\n",
       "       -1.40794e+01, -6.92018e+00,  4.11015e+00,  5.24599e+00,\n",
       "        7.03980e-01, -2.31568e+01, -2.36494e-01, -3.75510e+00,\n",
       "        2.31900e+01, -2.92470e+00, -1.35105e+01, -4.31753e+00,\n",
       "        6.36357e+00, -7.82484e+00, -1.35355e+00,  1.23205e+01,\n",
       "        1.35916e+01,  1.45189e+01, -2.64095e+01,  9.21846e+00,\n",
       "...\n",
       "       -1.08868e+01, -1.92116e+01, -1.28598e+01, -1.65702e+00,\n",
       "        2.38459e-02,  7.82087e+00,  5.85071e+00, -6.43666e-03,\n",
       "       -8.44666e+00, -2.99060e+00, -3.10729e+00, -1.04922e+01,\n",
       "        1.49767e+01, -7.51247e+00, -1.48040e+01,  1.79288e+01,\n",
       "        1.06943e+01, -1.34517e+01,  4.16292e+00,  1.62740e+00,\n",
       "       -9.34714e+00,  3.98839e+00, -4.33158e+00,  1.13027e+01,\n",
       "       -1.32588e+01, -7.02131e+00,  3.32868e-01,  9.49147e+00,\n",
       "        1.97599e+00,  2.12128e+00,  3.80616e+00, -4.90187e+00,\n",
       "        8.92739e+00,  6.13083e+00, -3.47353e+00,  7.15935e+00,\n",
       "        1.31161e+01,  7.10430e+00,  6.22464e+00,  1.49260e+01,\n",
       "        6.83693e-01, -3.73448e+00,  2.00412e+00, -3.06533e+00,\n",
       "       -2.30787e+00,  2.17685e+00, -8.68039e+00,  1.01125e+01,\n",
       "        4.41749e-01,  5.83485e+00, -9.50461e+00,  1.35829e+01,\n",
       "       -7.45943e+00, -2.45711e-01, -9.11961e+00, -6.09380e+00,\n",
       "       -6.58782e+00,  4.58646e+00,  7.27186e+00,  1.85116e+01,\n",
       "       -2.41044e+00,  5.95049e+00,  1.56834e+01,  1.44726e+01,\n",
       "       -8.10354e+00, -6.64681e+00, -1.24200e+01,  6.83161e+00,\n",
       "       -2.43400e+00, -1.91517e-01, -1.07254e+01, -1.39389e+01,\n",
       "        3.26602e+00,  4.62550e+00, -4.57258e+00,  1.81353e+00,\n",
       "       -7.58042e+00, -1.70688e+01, -1.06760e+01, -1.17645e+01])</pre></div></li><li class='xr-var-item'><div class='xr-var-name'><span>c1</span></div><div class='xr-var-dims'>(prior_draw)</div><div class='xr-var-dtype'>float64</div><div class='xr-var-preview xr-preview'>18.08 -7.793 ... -2.836 -14.52</div><input id='attrs-9229897f-4400-4ab6-88d4-c8a6d9ac1f11' class='xr-var-attrs-in' type='checkbox' disabled><label for='attrs-9229897f-4400-4ab6-88d4-c8a6d9ac1f11' title='Show/Hide attributes'><svg class='icon xr-icon-file-text2'><use xlink:href='#icon-file-text2'></use></svg></label><input id='data-39e635f8-ba40-4a52-a6ca-730eb3b835f5' class='xr-var-data-in' type='checkbox'><label for='data-39e635f8-ba40-4a52-a6ca-730eb3b835f5' title='Show/Hide data repr'><svg class='icon xr-icon-database'><use xlink:href='#icon-database'></use></svg></label><div class='xr-var-attrs'><dl class='xr-attrs'></dl></div><div class='xr-var-data'><pre>array([ 1.80815e+01, -7.79264e+00,  4.93357e+00, -8.19465e+00,\n",
       "        3.93600e+00, -4.05704e+00,  1.59454e+01, -1.11462e+01,\n",
       "        6.06004e+00,  1.02061e+01,  1.49947e+01, -8.29452e+00,\n",
       "        1.49342e+01, -1.87562e+00,  1.06651e+01, -5.11231e+00,\n",
       "        5.23043e+00,  6.05463e+00, -1.66146e+01, -3.72400e+00,\n",
       "        9.27794e+00, -5.71812e+00, -7.97794e+00,  5.94147e+00,\n",
       "       -1.10405e+01, -1.09599e+01, -1.04437e+01,  3.32002e+00,\n",
       "        1.42266e+00, -4.47356e+00, -3.04880e+00,  1.02942e+01,\n",
       "       -8.12296e+00,  2.72898e+00, -9.46484e+00,  2.45047e+00,\n",
       "       -1.48931e+01,  2.40556e+00, -5.31203e+00,  8.70149e+00,\n",
       "       -3.68394e-01,  1.13041e+01, -1.07951e+01, -7.19627e+00,\n",
       "       -2.05994e+00,  1.03326e+00, -9.35907e+00,  7.10402e+00,\n",
       "        1.48369e-01, -4.81407e+00,  5.61344e+00,  4.79851e+00,\n",
       "       -9.49947e+00,  1.92452e+00,  1.89929e+01, -4.29927e+00,\n",
       "        8.82422e-01, -6.55964e+00, -1.21525e+01, -4.02163e+00,\n",
       "       -5.02692e+00, -1.51993e+01, -5.15327e-01, -8.03561e+00,\n",
       "       -1.46803e+00, -2.52926e+00,  6.54330e+00,  1.12049e+00,\n",
       "       -7.71612e+00, -7.08548e+00, -2.02311e+00, -4.42284e+00,\n",
       "        9.89155e+00,  1.02074e+01, -8.39847e+00, -1.80829e+00,\n",
       "        6.78553e+00,  1.59982e+01,  9.75544e+00,  1.57144e+01,\n",
       "...\n",
       "       -9.13576e+00,  1.39074e+01,  1.78250e+01, -2.81273e+00,\n",
       "        1.37311e+01,  5.18012e+00, -1.49257e+01,  4.97799e+00,\n",
       "       -9.77885e+00,  6.55012e+00, -1.04542e+00,  1.22516e+01,\n",
       "        1.13123e+00,  1.08700e+01,  5.86363e+00,  3.08827e-01,\n",
       "        7.07039e+00,  5.91936e+00, -4.42523e+00,  2.20919e+00,\n",
       "        1.71331e+01,  5.81059e+00,  1.62571e+01,  1.38658e+01,\n",
       "       -1.02486e+01, -1.92817e-01, -6.00110e+00, -6.98205e+00,\n",
       "       -3.87288e+00, -1.03571e+01,  1.29879e+01,  2.96532e+01,\n",
       "        6.65592e+00,  3.78494e+01,  7.98422e+00,  1.60609e+01,\n",
       "       -1.58437e+00, -1.16671e+01,  7.78558e+00,  4.37705e+00,\n",
       "        5.74923e+00,  8.89234e+00, -1.16192e+01, -3.97066e+00,\n",
       "       -1.25609e+01,  2.39883e+01, -1.03632e+01, -7.01773e-01,\n",
       "       -8.93678e+00,  6.82820e+00,  4.62032e-01,  1.17817e+01,\n",
       "       -2.27283e+00, -2.35009e-01, -4.86749e+00,  5.88353e+00,\n",
       "        1.95303e+01, -2.09480e+00, -5.55451e-01, -1.46922e+00,\n",
       "       -2.93894e+00,  2.22874e+01, -9.22129e-01, -6.30883e-01,\n",
       "       -8.83074e+00, -1.72443e+01, -6.98475e+00, -1.13127e-01,\n",
       "       -1.46276e+00,  5.06499e+00, -2.10553e-01,  2.34206e+00,\n",
       "       -1.16593e+01,  4.08613e+00,  1.69493e+01, -7.64093e+00,\n",
       "       -4.82644e+00, -5.09576e+00, -2.83636e+00, -1.45234e+01])</pre></div></li><li class='xr-var-item'><div class='xr-var-name'><span>log_c_sigma</span></div><div class='xr-var-dims'>(prior_draw)</div><div class='xr-var-dtype'>float64</div><div class='xr-var-preview xr-preview'>6.163 6.122 5.205 ... 6.172 6.076</div><input id='attrs-adf049f0-537e-4569-bf74-cbc61fcc2196' class='xr-var-attrs-in' type='checkbox' disabled><label for='attrs-adf049f0-537e-4569-bf74-cbc61fcc2196' title='Show/Hide attributes'><svg class='icon xr-icon-file-text2'><use xlink:href='#icon-file-text2'></use></svg></label><input id='data-7c264fa9-f57b-4452-bb2b-445d8efd18ee' class='xr-var-data-in' type='checkbox'><label for='data-7c264fa9-f57b-4452-bb2b-445d8efd18ee' title='Show/Hide data repr'><svg class='icon xr-icon-database'><use xlink:href='#icon-database'></use></svg></label><div class='xr-var-attrs'><dl class='xr-attrs'></dl></div><div class='xr-var-data'><pre>array([6.16251 , 6.12161 , 5.20545 , 5.8796  , 6.26567 , 5.33726 ,\n",
       "       5.24282 , 5.13438 , 5.16088 , 5.9386  , 5.24658 , 3.47914 ,\n",
       "       3.03562 , 6.02971 , 2.8532  , 5.69388 , 5.75087 , 2.84915 ,\n",
       "       5.80047 , 6.53003 , 5.00438 , 1.89495 , 4.87108 , 4.41706 ,\n",
       "       6.42854 , 2.7686  , 4.60929 , 5.41848 , 5.50506 , 4.94148 ,\n",
       "       5.11017 , 6.6244  , 4.53113 , 6.46315 , 6.02305 , 5.71383 ,\n",
       "       6.12964 , 4.47266 , 5.49956 , 5.79206 , 6.54979 , 2.53248 ,\n",
       "       3.61014 , 5.41962 , 5.28777 , 6.16757 , 5.83671 , 6.24525 ,\n",
       "       5.39082 , 5.20708 , 5.86372 , 4.47876 , 5.0659  , 6.04023 ,\n",
       "       3.91866 , 5.92033 , 5.62557 , 5.78511 , 3.40452 , 6.21375 ,\n",
       "       4.30511 , 3.92648 , 6.09879 , 4.5524  , 5.78408 , 3.76853 ,\n",
       "       5.43148 , 5.41359 , 2.78091 , 4.41079 , 1.86954 , 5.66324 ,\n",
       "       6.2329  , 5.46841 , 3.67495 , 6.23385 , 5.5045  , 4.85142 ,\n",
       "       6.14706 , 5.47347 , 5.75973 , 5.05354 , 4.95941 , 6.36908 ,\n",
       "       3.28242 , 5.76423 , 4.95449 , 5.10479 , 5.6215  , 5.7499  ,\n",
       "       4.72753 , 5.23349 , 5.41023 , 5.23    , 4.83928 , 5.58169 ,\n",
       "       3.72294 , 5.99299 , 5.84826 , 5.03937 , 4.45008 , 4.92274 ,\n",
       "       3.30509 , 4.84601 , 5.17564 , 3.98243 , 4.62482 , 6.92221 ,\n",
       "       4.79588 , 4.96637 , 3.67929 , 5.11786 , 6.60128 , 5.54578 ,\n",
       "       5.01658 , 3.13299 , 5.68345 , 5.65232 , 6.15498 , 5.43553 ,\n",
       "       4.24305 , 5.41658 , 6.1183  , 4.43988 , 6.56755 , 6.25642 ,\n",
       "       6.51932 , 1.69729 , 6.15151 , 3.24294 , 5.12654 , 5.69878 ,\n",
       "       5.75253 , 5.93718 , 2.75091 , 5.67534 , 5.22332 , 3.48751 ,\n",
       "       6.79855 , 2.76541 , 3.37934 , 5.37119 , 6.27095 , 3.70289 ,\n",
       "       4.99368 , 5.02296 , 6.2549  , 5.27709 , 5.33685 , 2.26325 ,\n",
       "       5.75192 , 4.81084 , 5.09811 , 4.12775 , 5.61867 , 3.64285 ,\n",
       "       3.89675 , 5.68378 , 4.9121  , 6.58444 , 5.69464 , 6.2367  ,\n",
       "       4.72322 , 5.70953 , 2.8124  , 5.83538 , 5.38811 , 5.78379 ,\n",
       "       6.26469 , 5.10635 , 5.0366  , 5.21441 , 5.21616 , 4.90264 ,\n",
       "       6.245   , 5.73561 , 5.72917 , 4.30807 , 4.72199 , 5.49091 ,\n",
       "       5.72939 , 4.76031 , 5.97445 , 6.13811 , 5.97652 , 6.11403 ,\n",
       "       6.39789 , 2.95088 , 5.01029 , 6.98165 , 5.9732  , 5.71602 ,\n",
       "       5.71279 , 5.60497 , 6.07331 , 4.93575 , 0.532915, 3.63324 ,\n",
       "       6.17229 , 6.076   ])</pre></div></li><li class='xr-var-item'><div class='xr-var-name'><span>c_sigma</span></div><div class='xr-var-dims'>(prior_draw)</div><div class='xr-var-dtype'>float64</div><div class='xr-var-preview xr-preview'>9.529 6.93 6.605 ... 4.487 3.449</div><input id='attrs-5839bd10-8c77-44bd-94a8-5b22d8552183' class='xr-var-attrs-in' type='checkbox' disabled><label for='attrs-5839bd10-8c77-44bd-94a8-5b22d8552183' title='Show/Hide attributes'><svg class='icon xr-icon-file-text2'><use xlink:href='#icon-file-text2'></use></svg></label><input id='data-bf732fa3-61dd-4624-ad3a-95607313f969' class='xr-var-data-in' type='checkbox'><label for='data-bf732fa3-61dd-4624-ad3a-95607313f969' title='Show/Hide data repr'><svg class='icon xr-icon-database'><use xlink:href='#icon-database'></use></svg></label><div class='xr-var-attrs'><dl class='xr-attrs'></dl></div><div class='xr-var-data'><pre>array([ 9.52949  ,  6.92951  ,  6.60464  ,  6.88718  ,  1.87808  ,\n",
       "        1.88457  ,  4.08385  ,  1.44933  ,  5.30695  ,  4.52967  ,\n",
       "        5.1369   , 14.9229   ,  2.17264  ,  0.976826 ,  0.793682 ,\n",
       "       10.0448   ,  0.221712 ,  0.121729 ,  9.00733  ,  9.63749  ,\n",
       "        2.82963  ,  0.458064 ,  5.86039  ,  3.04048  ,  4.7421   ,\n",
       "        9.20891  ,  3.22314  ,  2.65801  ,  5.86612  ,  3.03369  ,\n",
       "        5.07705  ,  9.69499  ,  4.95405  ,  2.91012  , 10.3506   ,\n",
       "        3.00394  ,  5.72022  ,  1.66405  ,  2.86318  ,  2.30465  ,\n",
       "        1.04943  ,  1.80411  , 13.1043   ,  5.6526   ,  4.81401  ,\n",
       "       13.651    ,  4.87461  ,  5.34477  ,  2.23183  ,  2.49836  ,\n",
       "        1.77469  ,  4.10041  ,  7.00341  ,  0.859978 ,  8.57468  ,\n",
       "        0.721304 ,  6.68709  ,  6.0728   ,  8.01753  ,  7.10898  ,\n",
       "        4.80778  ,  2.01489  ,  0.808263 ,  3.02824  ,  2.9792   ,\n",
       "        1.00385  ,  8.9432   , 11.4585   , 13.8773   ,  4.58094  ,\n",
       "        3.9001   ,  1.00052  ,  3.96944  ,  3.51149  ,  5.44945  ,\n",
       "        1.53568  ,  4.6268   ,  0.975423 ,  2.65038  ,  5.12435  ,\n",
       "       16.5699   ,  4.95492  ,  2.6296   ,  1.44789  ,  2.29885  ,\n",
       "        2.61922  ,  3.95757  ,  4.99786  ,  4.07704  , 13.2452   ,\n",
       "        0.312586 ,  3.48216  ,  2.82387  ,  0.562404 ,  1.82925  ,\n",
       "        2.97877  ,  6.09416  ,  6.76599  ,  0.694401 ,  5.16078  ,\n",
       "       14.7983   ,  7.72295  ,  3.97078  ,  1.58115  ,  4.01462  ,\n",
       "        5.16475  ,  3.18727  ,  7.64583  ,  6.02249  ,  9.54477  ,\n",
       "        9.63399  ,  1.05945  ,  1.38548  ,  2.1334   ,  2.7744   ,\n",
       "        0.70883  ,  6.56587  ,  2.00303  ,  3.69617  ,  2.64454  ,\n",
       "        7.38238  ,  1.87952  , 13.1818   ,  3.06999  ,  1.15772  ,\n",
       "        3.67939  , 11.174    ,  7.27686  ,  2.15482  ,  4.48106  ,\n",
       "        4.17847  ,  0.894056 ,  6.12749  ,  4.80776  ,  5.6482   ,\n",
       "        5.72576  ,  0.300222 ,  9.5026   ,  3.90216  ,  2.92819  ,\n",
       "        0.264353 ,  6.20492  ,  1.88904  ,  5.61037  ,  2.78774  ,\n",
       "        9.58191  ,  7.0631   ,  3.95884  ,  1.06754  ,  7.67813  ,\n",
       "        1.24179  ,  5.70288  ,  0.664476 ,  7.84565  ,  1.66456  ,\n",
       "        2.23931  ,  0.327708 ,  7.93989  ,  0.0701354,  6.4479   ,\n",
       "        4.53389  ,  1.01361  ,  3.31398  ,  4.66004  ,  4.90806  ,\n",
       "        1.78528  ,  4.92218  ,  3.43281  ,  2.91524  ,  0.502811 ,\n",
       "        1.17953  , 14.3377   ,  3.51344  ,  2.69551  ,  1.83364  ,\n",
       "        1.13439  ,  8.79837  ,  5.41502  ,  5.24677  ,  5.89344  ,\n",
       "        7.36751  ,  2.74006  ,  2.79786  ,  0.141662 ,  6.30983  ,\n",
       "       10.269    ,  3.68222  ,  4.82643  ,  0.799354 ,  5.40018  ,\n",
       "        2.2161   ,  4.42327  ,  2.48687  ,  4.39932  ,  3.35688  ,\n",
       "        1.77231  ,  6.29745  ,  1.64217  ,  4.48668  ,  3.44945  ])</pre></div></li></ul></div></li><li class='xr-section-item'><input id='section-ace82640-bdb2-4285-a5f0-577247380860' class='xr-section-summary-in' type='checkbox'  ><label for='section-ace82640-bdb2-4285-a5f0-577247380860' class='xr-section-summary' >Indexes: <span>(1)</span></label><div class='xr-section-inline-details'></div><div class='xr-section-details'><ul class='xr-var-list'><li class='xr-var-item'><div class='xr-index-name'><div>prior_draw<br>chain<br>draw</div></div><div class='xr-index-preview'>PandasMultiIndex</div><div></div><input id='index-ce38e809-c277-48b3-af89-a2b80a82366b' class='xr-index-data-in' type='checkbox'/><label for='index-ce38e809-c277-48b3-af89-a2b80a82366b' title='Show/Hide index repr'><svg class='icon xr-icon-database'><use xlink:href='#icon-database'></use></svg></label><div class='xr-index-data'><pre>PandasIndex(MultiIndex([(0,  0),\n",
       "            (0,  1),\n",
       "            (0,  2),\n",
       "            (0,  3),\n",
       "            (0,  4),\n",
       "            (0,  5),\n",
       "            (0,  6),\n",
       "            (0,  7),\n",
       "            (0,  8),\n",
       "            (0,  9),\n",
       "            ...\n",
       "            (1, 90),\n",
       "            (1, 91),\n",
       "            (1, 92),\n",
       "            (1, 93),\n",
       "            (1, 94),\n",
       "            (1, 95),\n",
       "            (1, 96),\n",
       "            (1, 97),\n",
       "            (1, 98),\n",
       "            (1, 99)],\n",
       "           name=&#x27;prior_draw&#x27;, length=200))</pre></div></li></ul></div></li><li class='xr-section-item'><input id='section-dd34ce14-b6f7-4b4d-a9af-a7f04d0924d6' class='xr-section-summary-in' type='checkbox'  checked><label for='section-dd34ce14-b6f7-4b4d-a9af-a7f04d0924d6' class='xr-section-summary' >Attributes: <span>(4)</span></label><div class='xr-section-inline-details'></div><div class='xr-section-details'><dl class='xr-attrs'><dt><span>created_at :</span></dt><dd>2022-11-10T02:19:07.951878</dd><dt><span>arviz_version :</span></dt><dd>0.13.0</dd><dt><span>inference_library :</span></dt><dd>cmdstanpy</dd><dt><span>inference_library_version :</span></dt><dd>1.0.8</dd></dl></div></li></ul></div></div><br></div>\n",
       "                      </ul>\n",
       "                  </div>\n",
       "            </li>\n",
       "            \n",
       "            <li class = \"xr-section-item\">\n",
       "                  <input id=\"idata_prior_predictivefd0de77b-9255-4e8a-ac46-b8f13466dec9\" class=\"xr-section-summary-in\" type=\"checkbox\">\n",
       "                  <label for=\"idata_prior_predictivefd0de77b-9255-4e8a-ac46-b8f13466dec9\" class = \"xr-section-summary\">prior_predictive</label>\n",
       "                  <div class=\"xr-section-inline-details\"></div>\n",
       "                  <div class=\"xr-section-details\">\n",
       "                      <ul id=\"xr-dataset-coord-list\" class=\"xr-var-list\">\n",
       "                          <div style=\"padding-left:2rem;\"><div><svg style=\"position: absolute; width: 0; height: 0; overflow: hidden\">\n",
       "<defs>\n",
       "<symbol id=\"icon-database\" viewBox=\"0 0 32 32\">\n",
       "<path d=\"M16 0c-8.837 0-16 2.239-16 5v4c0 2.761 7.163 5 16 5s16-2.239 16-5v-4c0-2.761-7.163-5-16-5z\"></path>\n",
       "<path d=\"M16 17c-8.837 0-16-2.239-16-5v6c0 2.761 7.163 5 16 5s16-2.239 16-5v-6c0 2.761-7.163 5-16 5z\"></path>\n",
       "<path d=\"M16 26c-8.837 0-16-2.239-16-5v6c0 2.761 7.163 5 16 5s16-2.239 16-5v-6c0 2.761-7.163 5-16 5z\"></path>\n",
       "</symbol>\n",
       "<symbol id=\"icon-file-text2\" viewBox=\"0 0 32 32\">\n",
       "<path d=\"M28.681 7.159c-0.694-0.947-1.662-2.053-2.724-3.116s-2.169-2.030-3.116-2.724c-1.612-1.182-2.393-1.319-2.841-1.319h-15.5c-1.378 0-2.5 1.121-2.5 2.5v27c0 1.378 1.122 2.5 2.5 2.5h23c1.378 0 2.5-1.122 2.5-2.5v-19.5c0-0.448-0.137-1.23-1.319-2.841zM24.543 5.457c0.959 0.959 1.712 1.825 2.268 2.543h-4.811v-4.811c0.718 0.556 1.584 1.309 2.543 2.268zM28 29.5c0 0.271-0.229 0.5-0.5 0.5h-23c-0.271 0-0.5-0.229-0.5-0.5v-27c0-0.271 0.229-0.5 0.5-0.5 0 0 15.499-0 15.5 0v7c0 0.552 0.448 1 1 1h7v19.5z\"></path>\n",
       "<path d=\"M23 26h-14c-0.552 0-1-0.448-1-1s0.448-1 1-1h14c0.552 0 1 0.448 1 1s-0.448 1-1 1z\"></path>\n",
       "<path d=\"M23 22h-14c-0.552 0-1-0.448-1-1s0.448-1 1-1h14c0.552 0 1 0.448 1 1s-0.448 1-1 1z\"></path>\n",
       "<path d=\"M23 18h-14c-0.552 0-1-0.448-1-1s0.448-1 1-1h14c0.552 0 1 0.448 1 1s-0.448 1-1 1z\"></path>\n",
       "</symbol>\n",
       "</defs>\n",
       "</svg>\n",
       "<style>/* CSS stylesheet for displaying xarray objects in jupyterlab.\n",
       " *\n",
       " */\n",
       "\n",
       ":root {\n",
       "  --xr-font-color0: var(--jp-content-font-color0, rgba(0, 0, 0, 1));\n",
       "  --xr-font-color2: var(--jp-content-font-color2, rgba(0, 0, 0, 0.54));\n",
       "  --xr-font-color3: var(--jp-content-font-color3, rgba(0, 0, 0, 0.38));\n",
       "  --xr-border-color: var(--jp-border-color2, #e0e0e0);\n",
       "  --xr-disabled-color: var(--jp-layout-color3, #bdbdbd);\n",
       "  --xr-background-color: var(--jp-layout-color0, white);\n",
       "  --xr-background-color-row-even: var(--jp-layout-color1, white);\n",
       "  --xr-background-color-row-odd: var(--jp-layout-color2, #eeeeee);\n",
       "}\n",
       "\n",
       "html[theme=dark],\n",
       "body[data-theme=dark],\n",
       "body.vscode-dark {\n",
       "  --xr-font-color0: rgba(255, 255, 255, 1);\n",
       "  --xr-font-color2: rgba(255, 255, 255, 0.54);\n",
       "  --xr-font-color3: rgba(255, 255, 255, 0.38);\n",
       "  --xr-border-color: #1F1F1F;\n",
       "  --xr-disabled-color: #515151;\n",
       "  --xr-background-color: #111111;\n",
       "  --xr-background-color-row-even: #111111;\n",
       "  --xr-background-color-row-odd: #313131;\n",
       "}\n",
       "\n",
       ".xr-wrap {\n",
       "  display: block !important;\n",
       "  min-width: 300px;\n",
       "  max-width: 700px;\n",
       "}\n",
       "\n",
       ".xr-text-repr-fallback {\n",
       "  /* fallback to plain text repr when CSS is not injected (untrusted notebook) */\n",
       "  display: none;\n",
       "}\n",
       "\n",
       ".xr-header {\n",
       "  padding-top: 6px;\n",
       "  padding-bottom: 6px;\n",
       "  margin-bottom: 4px;\n",
       "  border-bottom: solid 1px var(--xr-border-color);\n",
       "}\n",
       "\n",
       ".xr-header > div,\n",
       ".xr-header > ul {\n",
       "  display: inline;\n",
       "  margin-top: 0;\n",
       "  margin-bottom: 0;\n",
       "}\n",
       "\n",
       ".xr-obj-type,\n",
       ".xr-array-name {\n",
       "  margin-left: 2px;\n",
       "  margin-right: 10px;\n",
       "}\n",
       "\n",
       ".xr-obj-type {\n",
       "  color: var(--xr-font-color2);\n",
       "}\n",
       "\n",
       ".xr-sections {\n",
       "  padding-left: 0 !important;\n",
       "  display: grid;\n",
       "  grid-template-columns: 150px auto auto 1fr 20px 20px;\n",
       "}\n",
       "\n",
       ".xr-section-item {\n",
       "  display: contents;\n",
       "}\n",
       "\n",
       ".xr-section-item input {\n",
       "  display: none;\n",
       "}\n",
       "\n",
       ".xr-section-item input + label {\n",
       "  color: var(--xr-disabled-color);\n",
       "}\n",
       "\n",
       ".xr-section-item input:enabled + label {\n",
       "  cursor: pointer;\n",
       "  color: var(--xr-font-color2);\n",
       "}\n",
       "\n",
       ".xr-section-item input:enabled + label:hover {\n",
       "  color: var(--xr-font-color0);\n",
       "}\n",
       "\n",
       ".xr-section-summary {\n",
       "  grid-column: 1;\n",
       "  color: var(--xr-font-color2);\n",
       "  font-weight: 500;\n",
       "}\n",
       "\n",
       ".xr-section-summary > span {\n",
       "  display: inline-block;\n",
       "  padding-left: 0.5em;\n",
       "}\n",
       "\n",
       ".xr-section-summary-in:disabled + label {\n",
       "  color: var(--xr-font-color2);\n",
       "}\n",
       "\n",
       ".xr-section-summary-in + label:before {\n",
       "  display: inline-block;\n",
       "  content: '►';\n",
       "  font-size: 11px;\n",
       "  width: 15px;\n",
       "  text-align: center;\n",
       "}\n",
       "\n",
       ".xr-section-summary-in:disabled + label:before {\n",
       "  color: var(--xr-disabled-color);\n",
       "}\n",
       "\n",
       ".xr-section-summary-in:checked + label:before {\n",
       "  content: '▼';\n",
       "}\n",
       "\n",
       ".xr-section-summary-in:checked + label > span {\n",
       "  display: none;\n",
       "}\n",
       "\n",
       ".xr-section-summary,\n",
       ".xr-section-inline-details {\n",
       "  padding-top: 4px;\n",
       "  padding-bottom: 4px;\n",
       "}\n",
       "\n",
       ".xr-section-inline-details {\n",
       "  grid-column: 2 / -1;\n",
       "}\n",
       "\n",
       ".xr-section-details {\n",
       "  display: none;\n",
       "  grid-column: 1 / -1;\n",
       "  margin-bottom: 5px;\n",
       "}\n",
       "\n",
       ".xr-section-summary-in:checked ~ .xr-section-details {\n",
       "  display: contents;\n",
       "}\n",
       "\n",
       ".xr-array-wrap {\n",
       "  grid-column: 1 / -1;\n",
       "  display: grid;\n",
       "  grid-template-columns: 20px auto;\n",
       "}\n",
       "\n",
       ".xr-array-wrap > label {\n",
       "  grid-column: 1;\n",
       "  vertical-align: top;\n",
       "}\n",
       "\n",
       ".xr-preview {\n",
       "  color: var(--xr-font-color3);\n",
       "}\n",
       "\n",
       ".xr-array-preview,\n",
       ".xr-array-data {\n",
       "  padding: 0 5px !important;\n",
       "  grid-column: 2;\n",
       "}\n",
       "\n",
       ".xr-array-data,\n",
       ".xr-array-in:checked ~ .xr-array-preview {\n",
       "  display: none;\n",
       "}\n",
       "\n",
       ".xr-array-in:checked ~ .xr-array-data,\n",
       ".xr-array-preview {\n",
       "  display: inline-block;\n",
       "}\n",
       "\n",
       ".xr-dim-list {\n",
       "  display: inline-block !important;\n",
       "  list-style: none;\n",
       "  padding: 0 !important;\n",
       "  margin: 0;\n",
       "}\n",
       "\n",
       ".xr-dim-list li {\n",
       "  display: inline-block;\n",
       "  padding: 0;\n",
       "  margin: 0;\n",
       "}\n",
       "\n",
       ".xr-dim-list:before {\n",
       "  content: '(';\n",
       "}\n",
       "\n",
       ".xr-dim-list:after {\n",
       "  content: ')';\n",
       "}\n",
       "\n",
       ".xr-dim-list li:not(:last-child):after {\n",
       "  content: ',';\n",
       "  padding-right: 5px;\n",
       "}\n",
       "\n",
       ".xr-has-index {\n",
       "  font-weight: bold;\n",
       "}\n",
       "\n",
       ".xr-var-list,\n",
       ".xr-var-item {\n",
       "  display: contents;\n",
       "}\n",
       "\n",
       ".xr-var-item > div,\n",
       ".xr-var-item label,\n",
       ".xr-var-item > .xr-var-name span {\n",
       "  background-color: var(--xr-background-color-row-even);\n",
       "  margin-bottom: 0;\n",
       "}\n",
       "\n",
       ".xr-var-item > .xr-var-name:hover span {\n",
       "  padding-right: 5px;\n",
       "}\n",
       "\n",
       ".xr-var-list > li:nth-child(odd) > div,\n",
       ".xr-var-list > li:nth-child(odd) > label,\n",
       ".xr-var-list > li:nth-child(odd) > .xr-var-name span {\n",
       "  background-color: var(--xr-background-color-row-odd);\n",
       "}\n",
       "\n",
       ".xr-var-name {\n",
       "  grid-column: 1;\n",
       "}\n",
       "\n",
       ".xr-var-dims {\n",
       "  grid-column: 2;\n",
       "}\n",
       "\n",
       ".xr-var-dtype {\n",
       "  grid-column: 3;\n",
       "  text-align: right;\n",
       "  color: var(--xr-font-color2);\n",
       "}\n",
       "\n",
       ".xr-var-preview {\n",
       "  grid-column: 4;\n",
       "}\n",
       "\n",
       ".xr-index-preview {\n",
       "  grid-column: 2 / 5;\n",
       "  color: var(--xr-font-color2);\n",
       "}\n",
       "\n",
       ".xr-var-name,\n",
       ".xr-var-dims,\n",
       ".xr-var-dtype,\n",
       ".xr-preview,\n",
       ".xr-attrs dt {\n",
       "  white-space: nowrap;\n",
       "  overflow: hidden;\n",
       "  text-overflow: ellipsis;\n",
       "  padding-right: 10px;\n",
       "}\n",
       "\n",
       ".xr-var-name:hover,\n",
       ".xr-var-dims:hover,\n",
       ".xr-var-dtype:hover,\n",
       ".xr-attrs dt:hover {\n",
       "  overflow: visible;\n",
       "  width: auto;\n",
       "  z-index: 1;\n",
       "}\n",
       "\n",
       ".xr-var-attrs,\n",
       ".xr-var-data,\n",
       ".xr-index-data {\n",
       "  display: none;\n",
       "  background-color: var(--xr-background-color) !important;\n",
       "  padding-bottom: 5px !important;\n",
       "}\n",
       "\n",
       ".xr-var-attrs-in:checked ~ .xr-var-attrs,\n",
       ".xr-var-data-in:checked ~ .xr-var-data,\n",
       ".xr-index-data-in:checked ~ .xr-index-data {\n",
       "  display: block;\n",
       "}\n",
       "\n",
       ".xr-var-data > table {\n",
       "  float: right;\n",
       "}\n",
       "\n",
       ".xr-var-name span,\n",
       ".xr-var-data,\n",
       ".xr-index-name div,\n",
       ".xr-index-data,\n",
       ".xr-attrs {\n",
       "  padding-left: 25px !important;\n",
       "}\n",
       "\n",
       ".xr-attrs,\n",
       ".xr-var-attrs,\n",
       ".xr-var-data,\n",
       ".xr-index-data {\n",
       "  grid-column: 1 / -1;\n",
       "}\n",
       "\n",
       "dl.xr-attrs {\n",
       "  padding: 0;\n",
       "  margin: 0;\n",
       "  display: grid;\n",
       "  grid-template-columns: 125px auto;\n",
       "}\n",
       "\n",
       ".xr-attrs dt,\n",
       ".xr-attrs dd {\n",
       "  padding: 0;\n",
       "  margin: 0;\n",
       "  float: left;\n",
       "  padding-right: 10px;\n",
       "  width: auto;\n",
       "}\n",
       "\n",
       ".xr-attrs dt {\n",
       "  font-weight: normal;\n",
       "  grid-column: 1;\n",
       "}\n",
       "\n",
       ".xr-attrs dt:hover span {\n",
       "  display: inline-block;\n",
       "  background: var(--xr-background-color);\n",
       "  padding-right: 10px;\n",
       "}\n",
       "\n",
       ".xr-attrs dd {\n",
       "  grid-column: 2;\n",
       "  white-space: pre-wrap;\n",
       "  word-break: break-all;\n",
       "}\n",
       "\n",
       ".xr-icon-database,\n",
       ".xr-icon-file-text2,\n",
       ".xr-no-icon {\n",
       "  display: inline-block;\n",
       "  vertical-align: middle;\n",
       "  width: 1em;\n",
       "  height: 1.5em !important;\n",
       "  stroke-width: 0;\n",
       "  stroke: currentColor;\n",
       "  fill: currentColor;\n",
       "}\n",
       "</style><pre class='xr-text-repr-fallback'>&lt;xarray.Dataset&gt;\n",
       "Dimensions:             (developer: 5, prior_draw: 200)\n",
       "Coordinates:\n",
       "  * developer           (developer) object &#x27;Alice&#x27; &#x27;Bob&#x27; ... &#x27;Danielle&#x27; &#x27;Erika&#x27;\n",
       "  * prior_draw          (prior_draw) object MultiIndex\n",
       "  * chain               (prior_draw) int64 0 0 0 0 0 0 0 0 0 ... 1 1 1 1 1 1 1 1\n",
       "  * draw                (prior_draw) int64 0 1 2 3 4 5 6 ... 94 95 96 97 98 99\n",
       "Data variables:\n",
       "    slack_comments_hat  (developer, prior_draw) float64 701.6 ... 4.755e+03\n",
       "    github_commits_hat  (developer, prior_draw) float64 82.57 -39.29 ... -270.4\n",
       "Attributes:\n",
       "    created_at:                 2022-11-10T02:19:07.963278\n",
       "    arviz_version:              0.13.0\n",
       "    inference_library:          cmdstanpy\n",
       "    inference_library_version:  1.0.8</pre><div class='xr-wrap' style='display:none'><div class='xr-header'><div class='xr-obj-type'>xarray.Dataset</div></div><ul class='xr-sections'><li class='xr-section-item'><input id='section-afcb51e2-d3d7-43c5-aaa6-be9ab32a34b0' class='xr-section-summary-in' type='checkbox' disabled ><label for='section-afcb51e2-d3d7-43c5-aaa6-be9ab32a34b0' class='xr-section-summary'  title='Expand/collapse section'>Dimensions:</label><div class='xr-section-inline-details'><ul class='xr-dim-list'><li><span class='xr-has-index'>developer</span>: 5</li><li><span class='xr-has-index'>prior_draw</span>: 200</li></ul></div><div class='xr-section-details'></div></li><li class='xr-section-item'><input id='section-872cffea-9695-47f7-bba4-f550bf15f780' class='xr-section-summary-in' type='checkbox'  checked><label for='section-872cffea-9695-47f7-bba4-f550bf15f780' class='xr-section-summary' >Coordinates: <span>(4)</span></label><div class='xr-section-inline-details'></div><div class='xr-section-details'><ul class='xr-var-list'><li class='xr-var-item'><div class='xr-var-name'><span class='xr-has-index'>developer</span></div><div class='xr-var-dims'>(developer)</div><div class='xr-var-dtype'>object</div><div class='xr-var-preview xr-preview'>&#x27;Alice&#x27; &#x27;Bob&#x27; ... &#x27;Erika&#x27;</div><input id='attrs-5ee52472-e038-446c-bed0-2913af8ff710' class='xr-var-attrs-in' type='checkbox' disabled><label for='attrs-5ee52472-e038-446c-bed0-2913af8ff710' title='Show/Hide attributes'><svg class='icon xr-icon-file-text2'><use xlink:href='#icon-file-text2'></use></svg></label><input id='data-0657b284-6f16-4094-8852-8d550c0dd888' class='xr-var-data-in' type='checkbox'><label for='data-0657b284-6f16-4094-8852-8d550c0dd888' title='Show/Hide data repr'><svg class='icon xr-icon-database'><use xlink:href='#icon-database'></use></svg></label><div class='xr-var-attrs'><dl class='xr-attrs'></dl></div><div class='xr-var-data'><pre>array([&#x27;Alice&#x27;, &#x27;Bob&#x27;, &#x27;Cole&#x27;, &#x27;Danielle&#x27;, &#x27;Erika&#x27;], dtype=object)</pre></div></li><li class='xr-var-item'><div class='xr-var-name'><span class='xr-has-index'>prior_draw</span></div><div class='xr-var-dims'>(prior_draw)</div><div class='xr-var-dtype'>object</div><div class='xr-var-preview xr-preview'>MultiIndex</div><input id='attrs-f1c63d40-3e89-47a6-9afa-68c66c44390a' class='xr-var-attrs-in' type='checkbox' disabled><label for='attrs-f1c63d40-3e89-47a6-9afa-68c66c44390a' title='Show/Hide attributes'><svg class='icon xr-icon-file-text2'><use xlink:href='#icon-file-text2'></use></svg></label><input id='data-ec75c2ed-c630-43a2-ad05-4dab201d0967' class='xr-var-data-in' type='checkbox'><label for='data-ec75c2ed-c630-43a2-ad05-4dab201d0967' title='Show/Hide data repr'><svg class='icon xr-icon-database'><use xlink:href='#icon-database'></use></svg></label><div class='xr-var-attrs'><dl class='xr-attrs'></dl></div><div class='xr-var-data'><pre>array([(0, 0), (0, 1), (0, 2), (0, 3), (0, 4), (0, 5), (0, 6), (0, 7), (0, 8),\n",
       "       (0, 9), (0, 10), (0, 11), (0, 12), (0, 13), (0, 14), (0, 15), (0, 16),\n",
       "       (0, 17), (0, 18), (0, 19), (0, 20), (0, 21), (0, 22), (0, 23), (0, 24),\n",
       "       (0, 25), (0, 26), (0, 27), (0, 28), (0, 29), (0, 30), (0, 31), (0, 32),\n",
       "       (0, 33), (0, 34), (0, 35), (0, 36), (0, 37), (0, 38), (0, 39), (0, 40),\n",
       "       (0, 41), (0, 42), (0, 43), (0, 44), (0, 45), (0, 46), (0, 47), (0, 48),\n",
       "       (0, 49), (0, 50), (0, 51), (0, 52), (0, 53), (0, 54), (0, 55), (0, 56),\n",
       "       (0, 57), (0, 58), (0, 59), (0, 60), (0, 61), (0, 62), (0, 63), (0, 64),\n",
       "       (0, 65), (0, 66), (0, 67), (0, 68), (0, 69), (0, 70), (0, 71), (0, 72),\n",
       "       (0, 73), (0, 74), (0, 75), (0, 76), (0, 77), (0, 78), (0, 79), (0, 80),\n",
       "       (0, 81), (0, 82), (0, 83), (0, 84), (0, 85), (0, 86), (0, 87), (0, 88),\n",
       "       (0, 89), (0, 90), (0, 91), (0, 92), (0, 93), (0, 94), (0, 95), (0, 96),\n",
       "       (0, 97), (0, 98), (0, 99), (1, 0), (1, 1), (1, 2), (1, 3), (1, 4),\n",
       "       (1, 5), (1, 6), (1, 7), (1, 8), (1, 9), (1, 10), (1, 11), (1, 12),\n",
       "       (1, 13), (1, 14), (1, 15), (1, 16), (1, 17), (1, 18), (1, 19), (1, 20),\n",
       "       (1, 21), (1, 22), (1, 23), (1, 24), (1, 25), (1, 26), (1, 27), (1, 28),\n",
       "       (1, 29), (1, 30), (1, 31), (1, 32), (1, 33), (1, 34), (1, 35), (1, 36),\n",
       "       (1, 37), (1, 38), (1, 39), (1, 40), (1, 41), (1, 42), (1, 43), (1, 44),\n",
       "       (1, 45), (1, 46), (1, 47), (1, 48), (1, 49), (1, 50), (1, 51), (1, 52),\n",
       "       (1, 53), (1, 54), (1, 55), (1, 56), (1, 57), (1, 58), (1, 59), (1, 60),\n",
       "       (1, 61), (1, 62), (1, 63), (1, 64), (1, 65), (1, 66), (1, 67), (1, 68),\n",
       "       (1, 69), (1, 70), (1, 71), (1, 72), (1, 73), (1, 74), (1, 75), (1, 76),\n",
       "       (1, 77), (1, 78), (1, 79), (1, 80), (1, 81), (1, 82), (1, 83), (1, 84),\n",
       "       (1, 85), (1, 86), (1, 87), (1, 88), (1, 89), (1, 90), (1, 91), (1, 92),\n",
       "       (1, 93), (1, 94), (1, 95), (1, 96), (1, 97), (1, 98), (1, 99)],\n",
       "      dtype=object)</pre></div></li><li class='xr-var-item'><div class='xr-var-name'><span class='xr-has-index'>chain</span></div><div class='xr-var-dims'>(prior_draw)</div><div class='xr-var-dtype'>int64</div><div class='xr-var-preview xr-preview'>0 0 0 0 0 0 0 0 ... 1 1 1 1 1 1 1 1</div><input id='attrs-59c8b7f8-42fc-4f9f-8041-34ace87c2973' class='xr-var-attrs-in' type='checkbox' disabled><label for='attrs-59c8b7f8-42fc-4f9f-8041-34ace87c2973' title='Show/Hide attributes'><svg class='icon xr-icon-file-text2'><use xlink:href='#icon-file-text2'></use></svg></label><input id='data-1eccd72f-3d47-4805-8ab6-bce6c192f9cd' class='xr-var-data-in' type='checkbox'><label for='data-1eccd72f-3d47-4805-8ab6-bce6c192f9cd' title='Show/Hide data repr'><svg class='icon xr-icon-database'><use xlink:href='#icon-database'></use></svg></label><div class='xr-var-attrs'><dl class='xr-attrs'></dl></div><div class='xr-var-data'><pre>array([0, 0, 0, 0, 0, 0, 0, 0, 0, 0, 0, 0, 0, 0, 0, 0, 0, 0, 0, 0, 0, 0, 0, 0,\n",
       "       0, 0, 0, 0, 0, 0, 0, 0, 0, 0, 0, 0, 0, 0, 0, 0, 0, 0, 0, 0, 0, 0, 0, 0,\n",
       "       0, 0, 0, 0, 0, 0, 0, 0, 0, 0, 0, 0, 0, 0, 0, 0, 0, 0, 0, 0, 0, 0, 0, 0,\n",
       "       0, 0, 0, 0, 0, 0, 0, 0, 0, 0, 0, 0, 0, 0, 0, 0, 0, 0, 0, 0, 0, 0, 0, 0,\n",
       "       0, 0, 0, 0, 1, 1, 1, 1, 1, 1, 1, 1, 1, 1, 1, 1, 1, 1, 1, 1, 1, 1, 1, 1,\n",
       "       1, 1, 1, 1, 1, 1, 1, 1, 1, 1, 1, 1, 1, 1, 1, 1, 1, 1, 1, 1, 1, 1, 1, 1,\n",
       "       1, 1, 1, 1, 1, 1, 1, 1, 1, 1, 1, 1, 1, 1, 1, 1, 1, 1, 1, 1, 1, 1, 1, 1,\n",
       "       1, 1, 1, 1, 1, 1, 1, 1, 1, 1, 1, 1, 1, 1, 1, 1, 1, 1, 1, 1, 1, 1, 1, 1,\n",
       "       1, 1, 1, 1, 1, 1, 1, 1])</pre></div></li><li class='xr-var-item'><div class='xr-var-name'><span class='xr-has-index'>draw</span></div><div class='xr-var-dims'>(prior_draw)</div><div class='xr-var-dtype'>int64</div><div class='xr-var-preview xr-preview'>0 1 2 3 4 5 6 ... 94 95 96 97 98 99</div><input id='attrs-4b3c2dd2-5cff-4fdc-9f0d-7f86a419df12' class='xr-var-attrs-in' type='checkbox' disabled><label for='attrs-4b3c2dd2-5cff-4fdc-9f0d-7f86a419df12' title='Show/Hide attributes'><svg class='icon xr-icon-file-text2'><use xlink:href='#icon-file-text2'></use></svg></label><input id='data-06ecb336-4503-4af1-a574-8dacfe30f564' class='xr-var-data-in' type='checkbox'><label for='data-06ecb336-4503-4af1-a574-8dacfe30f564' title='Show/Hide data repr'><svg class='icon xr-icon-database'><use xlink:href='#icon-database'></use></svg></label><div class='xr-var-attrs'><dl class='xr-attrs'></dl></div><div class='xr-var-data'><pre>array([ 0,  1,  2,  3,  4,  5,  6,  7,  8,  9, 10, 11, 12, 13, 14, 15, 16, 17,\n",
       "       18, 19, 20, 21, 22, 23, 24, 25, 26, 27, 28, 29, 30, 31, 32, 33, 34, 35,\n",
       "       36, 37, 38, 39, 40, 41, 42, 43, 44, 45, 46, 47, 48, 49, 50, 51, 52, 53,\n",
       "       54, 55, 56, 57, 58, 59, 60, 61, 62, 63, 64, 65, 66, 67, 68, 69, 70, 71,\n",
       "       72, 73, 74, 75, 76, 77, 78, 79, 80, 81, 82, 83, 84, 85, 86, 87, 88, 89,\n",
       "       90, 91, 92, 93, 94, 95, 96, 97, 98, 99,  0,  1,  2,  3,  4,  5,  6,  7,\n",
       "        8,  9, 10, 11, 12, 13, 14, 15, 16, 17, 18, 19, 20, 21, 22, 23, 24, 25,\n",
       "       26, 27, 28, 29, 30, 31, 32, 33, 34, 35, 36, 37, 38, 39, 40, 41, 42, 43,\n",
       "       44, 45, 46, 47, 48, 49, 50, 51, 52, 53, 54, 55, 56, 57, 58, 59, 60, 61,\n",
       "       62, 63, 64, 65, 66, 67, 68, 69, 70, 71, 72, 73, 74, 75, 76, 77, 78, 79,\n",
       "       80, 81, 82, 83, 84, 85, 86, 87, 88, 89, 90, 91, 92, 93, 94, 95, 96, 97,\n",
       "       98, 99])</pre></div></li></ul></div></li><li class='xr-section-item'><input id='section-d953bf5d-4839-4858-b0a9-839a51126077' class='xr-section-summary-in' type='checkbox'  checked><label for='section-d953bf5d-4839-4858-b0a9-839a51126077' class='xr-section-summary' >Data variables: <span>(2)</span></label><div class='xr-section-inline-details'></div><div class='xr-section-details'><ul class='xr-var-list'><li class='xr-var-item'><div class='xr-var-name'><span>slack_comments_hat</span></div><div class='xr-var-dims'>(developer, prior_draw)</div><div class='xr-var-dtype'>float64</div><div class='xr-var-preview xr-preview'>701.6 -1.71e+03 ... 278.3 4.755e+03</div><input id='attrs-c6bc9a56-c749-49c3-8195-853bf1a5ba43' class='xr-var-attrs-in' type='checkbox' disabled><label for='attrs-c6bc9a56-c749-49c3-8195-853bf1a5ba43' title='Show/Hide attributes'><svg class='icon xr-icon-file-text2'><use xlink:href='#icon-file-text2'></use></svg></label><input id='data-5bcdf4d8-0037-49ba-8a88-80ff042240a2' class='xr-var-data-in' type='checkbox'><label for='data-5bcdf4d8-0037-49ba-8a88-80ff042240a2' title='Show/Hide data repr'><svg class='icon xr-icon-database'><use xlink:href='#icon-database'></use></svg></label><div class='xr-var-attrs'><dl class='xr-attrs'></dl></div><div class='xr-var-data'><pre>array([[ 7.01635e+02, -1.71015e+03, -7.46569e+02, -4.75820e+02,\n",
       "        -9.70344e+02,  2.75622e+02,  7.48176e+02, -1.93081e+03,\n",
       "        -9.03209e+02,  1.21503e+02,  8.06802e+02,  1.18798e+03,\n",
       "         6.13121e+02, -5.04051e+02, -1.41135e+03,  1.23777e+03,\n",
       "        -3.13568e+01, -1.02363e+03,  1.16850e+03,  9.45851e+02,\n",
       "        -4.11883e+02, -6.03147e+02,  6.18558e+02, -4.51823e+02,\n",
       "         6.40562e+02, -6.78520e+02, -8.31949e+02,  4.12803e+02,\n",
       "        -1.19898e+03, -1.06694e+03,  1.12120e+03,  2.37494e+03,\n",
       "        -1.06157e+02, -9.49454e+02, -2.95483e+03, -6.87644e+01,\n",
       "         9.05534e+02,  1.23511e+03, -7.44337e+02, -9.20171e+02,\n",
       "        -5.27698e+02, -4.63435e+02,  2.68999e+02,  6.31111e+02,\n",
       "         5.24441e+02,  4.19679e+00, -2.09532e+02, -4.80293e+01,\n",
       "        -3.53783e+02,  1.46597e+03,  1.38868e+02,  2.28999e+02,\n",
       "         8.80858e+02, -1.98248e+03, -5.40983e+00, -2.70231e+02,\n",
       "        -5.15153e+02,  5.71568e+02, -2.96654e+02,  6.52206e+01,\n",
       "         2.38107e+02,  1.26462e+02,  8.24363e+02,  9.20888e+02,\n",
       "        -1.50495e+02,  1.98798e+02, -7.74605e+02, -1.49594e+02,\n",
       "        -8.05360e+02, -2.96565e+00,  2.11889e+02, -1.95526e+03,\n",
       "         8.42636e+02,  1.48352e+03, -9.25890e+02,  6.94723e+02,\n",
       "         7.03014e+02, -4.89636e+01, -1.37193e+03,  3.85384e+02,\n",
       "...\n",
       "         2.81017e+03,  6.48229e+03,  1.87692e+03,  3.84253e+03,\n",
       "         1.35220e+03,  3.39848e+03, -7.35452e+02,  8.99312e+02,\n",
       "         5.69943e+02, -1.60696e+03,  7.11493e+03,  3.08565e+02,\n",
       "         4.36992e+03, -4.51010e+02,  4.93667e+02, -4.92458e+03,\n",
       "        -2.63299e+03,  6.48931e+03,  1.30432e+03,  4.17090e+03,\n",
       "        -5.29319e+03,  3.70678e+03, -4.93416e+03,  9.97230e+02,\n",
       "        -8.04396e+03, -9.03846e+03,  2.24420e+03, -4.23989e+03,\n",
       "        -7.87408e+02, -2.47597e+03, -2.15519e+02,  3.85781e+03,\n",
       "         3.45968e+03, -1.44633e+02, -5.87800e+03,  2.38952e+03,\n",
       "        -4.48326e+03, -7.20604e+03,  3.15643e+03,  8.75025e+02,\n",
       "        -5.91197e+02, -4.99378e+03, -8.25026e+02, -3.88282e+03,\n",
       "        -1.10449e+03, -1.32122e+02, -1.78410e+03,  4.20796e+03,\n",
       "        -3.87119e+03,  3.10392e+03,  3.40599e+02, -1.87587e+03,\n",
       "         3.86961e+03, -1.41653e+03,  1.34985e+03, -1.44692e+03,\n",
       "         4.21309e+02, -3.61131e+03, -3.16072e+03,  2.39139e+03,\n",
       "        -2.45680e+03,  2.83553e+03,  1.73646e+03,  2.82875e+03,\n",
       "         1.20681e+03, -6.84534e+01,  4.17452e+01, -6.22357e+03,\n",
       "         4.12570e+03,  7.93060e+02,  4.18629e+00, -3.58677e+03,\n",
       "        -1.60933e+03, -2.13523e+03, -3.75807e+03,  1.97718e+03,\n",
       "        -2.63607e+03, -3.10590e+03,  2.78268e+02,  4.75451e+03]])</pre></div></li><li class='xr-var-item'><div class='xr-var-name'><span>github_commits_hat</span></div><div class='xr-var-dims'>(developer, prior_draw)</div><div class='xr-var-dtype'>float64</div><div class='xr-var-preview xr-preview'>82.57 -39.29 ... -63.32 -270.4</div><input id='attrs-e061b8ff-bb07-44ae-be11-fa6b66cad7f9' class='xr-var-attrs-in' type='checkbox' disabled><label for='attrs-e061b8ff-bb07-44ae-be11-fa6b66cad7f9' title='Show/Hide attributes'><svg class='icon xr-icon-file-text2'><use xlink:href='#icon-file-text2'></use></svg></label><input id='data-45603728-163b-4f48-94ba-773e63785a85' class='xr-var-data-in' type='checkbox'><label for='data-45603728-163b-4f48-94ba-773e63785a85' title='Show/Hide data repr'><svg class='icon xr-icon-database'><use xlink:href='#icon-database'></use></svg></label><div class='xr-var-attrs'><dl class='xr-attrs'></dl></div><div class='xr-var-data'><pre>array([[ 8.25695e+01, -3.92913e+01,  1.00773e+01, -4.44562e+01,\n",
       "         7.58158e+00, -8.11464e+00,  7.37081e+01, -5.72467e+01,\n",
       "         2.56323e+01,  4.57231e+01,  5.83738e+01, -5.03532e+01,\n",
       "         6.04268e+01, -1.48036e+01,  3.55997e+01, -3.22851e+01,\n",
       "         2.37702e+01,  2.90624e+01, -8.88786e+01, -1.63060e+01,\n",
       "         3.74905e+01, -3.52113e+01, -4.47423e+01,  2.21732e+01,\n",
       "        -6.28020e+01, -3.68073e+01, -4.24768e+01,  7.06124e+00,\n",
       "         8.38063e+00, -2.67877e+01, -2.15220e+01,  3.29233e+01,\n",
       "        -4.00096e+01,  1.08829e+01, -3.00923e+01,  1.90398e-01,\n",
       "        -7.06085e+01,  3.00012e+01, -5.36419e+01,  4.45719e+01,\n",
       "        -1.08354e+01,  5.39344e+01, -4.33978e+01, -4.16413e+01,\n",
       "        -1.18388e-02,  3.14357e+00, -4.85542e+01,  3.27790e+01,\n",
       "         2.13703e+01, -2.21075e+01,  2.61564e+01,  1.02869e+01,\n",
       "        -5.20052e+01,  2.09780e+00,  8.30661e+01, -2.80479e+01,\n",
       "         7.67271e+00, -3.19963e+01, -5.20148e+01, -1.95383e+01,\n",
       "        -4.12209e+01, -7.39397e+01,  2.34290e+00, -3.26835e+01,\n",
       "        -5.89732e+00, -3.54093e+01,  3.38878e+01, -9.15137e+00,\n",
       "        -1.32597e+01, -2.99856e+01, -3.22435e+01, -2.34254e+01,\n",
       "         5.31293e+01,  3.77257e+01, -4.77884e+01,  4.69359e+00,\n",
       "         4.41820e+01,  8.58957e+01,  1.70320e+01,  8.08340e+01,\n",
       "...\n",
       "        -1.72110e+02,  2.32140e+02,  2.98143e+02, -4.59528e+01,\n",
       "         2.46246e+02,  1.08290e+02, -2.48056e+02,  1.05902e+02,\n",
       "        -1.82878e+02,  1.14478e+02, -2.38707e+01,  2.09251e+02,\n",
       "         3.56337e+01,  1.81686e+02,  9.38758e+01,  1.79392e+01,\n",
       "         1.37728e+02,  9.46345e+01, -7.44769e+01,  4.26616e+01,\n",
       "         2.98954e+02,  1.07828e+02,  2.88079e+02,  2.52551e+02,\n",
       "        -1.97154e+02, -1.53620e+01, -1.08125e+02, -1.17013e+02,\n",
       "        -6.93480e+01, -1.89030e+02,  2.38371e+02,  5.25148e+02,\n",
       "         1.27658e+02,  6.81473e+02,  1.37807e+02,  2.93876e+02,\n",
       "        -1.53361e+01, -1.86821e+02,  1.46288e+02,  9.56346e+01,\n",
       "         1.02542e+02,  1.56525e+02, -2.09157e+02, -7.18501e+01,\n",
       "        -2.31262e+02,  4.34460e+02, -1.96055e+02, -5.14229e+00,\n",
       "        -1.53026e+02,  1.28617e+02, -1.51460e+00,  2.40610e+02,\n",
       "        -4.57542e+01, -6.55952e+00, -9.47417e+01,  9.90240e+01,\n",
       "         3.42897e+02, -3.89837e+01,  1.56344e+00, -1.57353e+01,\n",
       "        -4.91605e+01,  4.06864e+02,  1.34723e-01,  2.98563e+00,\n",
       "        -1.68782e+02, -3.38462e+02, -1.36884e+02,  6.33912e+00,\n",
       "        -2.95171e+01,  8.39892e+01, -1.60082e+01,  2.25701e+01,\n",
       "        -2.06323e+02,  7.20501e+01,  3.06984e+02, -1.34986e+02,\n",
       "        -9.06172e+01, -1.10477e+02, -6.33216e+01, -2.70435e+02]])</pre></div></li></ul></div></li><li class='xr-section-item'><input id='section-c70eee45-f3ea-4307-9888-aff70a56e965' class='xr-section-summary-in' type='checkbox'  ><label for='section-c70eee45-f3ea-4307-9888-aff70a56e965' class='xr-section-summary' >Indexes: <span>(2)</span></label><div class='xr-section-inline-details'></div><div class='xr-section-details'><ul class='xr-var-list'><li class='xr-var-item'><div class='xr-index-name'><div>developer</div></div><div class='xr-index-preview'>PandasIndex</div><div></div><input id='index-1c703089-2ff8-44fd-a349-b782ce27c9c1' class='xr-index-data-in' type='checkbox'/><label for='index-1c703089-2ff8-44fd-a349-b782ce27c9c1' title='Show/Hide index repr'><svg class='icon xr-icon-database'><use xlink:href='#icon-database'></use></svg></label><div class='xr-index-data'><pre>PandasIndex(Index([&#x27;Alice&#x27;, &#x27;Bob&#x27;, &#x27;Cole&#x27;, &#x27;Danielle&#x27;, &#x27;Erika&#x27;], dtype=&#x27;object&#x27;, name=&#x27;developer&#x27;))</pre></div></li><li class='xr-var-item'><div class='xr-index-name'><div>prior_draw<br>chain<br>draw</div></div><div class='xr-index-preview'>PandasMultiIndex</div><div></div><input id='index-e4cd7894-5e16-4cd2-9a47-0498389dd024' class='xr-index-data-in' type='checkbox'/><label for='index-e4cd7894-5e16-4cd2-9a47-0498389dd024' title='Show/Hide index repr'><svg class='icon xr-icon-database'><use xlink:href='#icon-database'></use></svg></label><div class='xr-index-data'><pre>PandasIndex(MultiIndex([(0,  0),\n",
       "            (0,  1),\n",
       "            (0,  2),\n",
       "            (0,  3),\n",
       "            (0,  4),\n",
       "            (0,  5),\n",
       "            (0,  6),\n",
       "            (0,  7),\n",
       "            (0,  8),\n",
       "            (0,  9),\n",
       "            ...\n",
       "            (1, 90),\n",
       "            (1, 91),\n",
       "            (1, 92),\n",
       "            (1, 93),\n",
       "            (1, 94),\n",
       "            (1, 95),\n",
       "            (1, 96),\n",
       "            (1, 97),\n",
       "            (1, 98),\n",
       "            (1, 99)],\n",
       "           name=&#x27;prior_draw&#x27;, length=200))</pre></div></li></ul></div></li><li class='xr-section-item'><input id='section-01eec619-7cfc-452d-86b1-4cf9bd4e231f' class='xr-section-summary-in' type='checkbox'  checked><label for='section-01eec619-7cfc-452d-86b1-4cf9bd4e231f' class='xr-section-summary' >Attributes: <span>(4)</span></label><div class='xr-section-inline-details'></div><div class='xr-section-details'><dl class='xr-attrs'><dt><span>created_at :</span></dt><dd>2022-11-10T02:19:07.963278</dd><dt><span>arviz_version :</span></dt><dd>0.13.0</dd><dt><span>inference_library :</span></dt><dd>cmdstanpy</dd><dt><span>inference_library_version :</span></dt><dd>1.0.8</dd></dl></div></li></ul></div></div><br></div>\n",
       "                      </ul>\n",
       "                  </div>\n",
       "            </li>\n",
       "            \n",
       "            <li class = \"xr-section-item\">\n",
       "                  <input id=\"idata_sample_stats_prior41e3bfa4-d965-45df-b3d7-c9373ad09a09\" class=\"xr-section-summary-in\" type=\"checkbox\">\n",
       "                  <label for=\"idata_sample_stats_prior41e3bfa4-d965-45df-b3d7-c9373ad09a09\" class = \"xr-section-summary\">sample_stats_prior</label>\n",
       "                  <div class=\"xr-section-inline-details\"></div>\n",
       "                  <div class=\"xr-section-details\">\n",
       "                      <ul id=\"xr-dataset-coord-list\" class=\"xr-var-list\">\n",
       "                          <div style=\"padding-left:2rem;\"><div><svg style=\"position: absolute; width: 0; height: 0; overflow: hidden\">\n",
       "<defs>\n",
       "<symbol id=\"icon-database\" viewBox=\"0 0 32 32\">\n",
       "<path d=\"M16 0c-8.837 0-16 2.239-16 5v4c0 2.761 7.163 5 16 5s16-2.239 16-5v-4c0-2.761-7.163-5-16-5z\"></path>\n",
       "<path d=\"M16 17c-8.837 0-16-2.239-16-5v6c0 2.761 7.163 5 16 5s16-2.239 16-5v-6c0 2.761-7.163 5-16 5z\"></path>\n",
       "<path d=\"M16 26c-8.837 0-16-2.239-16-5v6c0 2.761 7.163 5 16 5s16-2.239 16-5v-6c0 2.761-7.163 5-16 5z\"></path>\n",
       "</symbol>\n",
       "<symbol id=\"icon-file-text2\" viewBox=\"0 0 32 32\">\n",
       "<path d=\"M28.681 7.159c-0.694-0.947-1.662-2.053-2.724-3.116s-2.169-2.030-3.116-2.724c-1.612-1.182-2.393-1.319-2.841-1.319h-15.5c-1.378 0-2.5 1.121-2.5 2.5v27c0 1.378 1.122 2.5 2.5 2.5h23c1.378 0 2.5-1.122 2.5-2.5v-19.5c0-0.448-0.137-1.23-1.319-2.841zM24.543 5.457c0.959 0.959 1.712 1.825 2.268 2.543h-4.811v-4.811c0.718 0.556 1.584 1.309 2.543 2.268zM28 29.5c0 0.271-0.229 0.5-0.5 0.5h-23c-0.271 0-0.5-0.229-0.5-0.5v-27c0-0.271 0.229-0.5 0.5-0.5 0 0 15.499-0 15.5 0v7c0 0.552 0.448 1 1 1h7v19.5z\"></path>\n",
       "<path d=\"M23 26h-14c-0.552 0-1-0.448-1-1s0.448-1 1-1h14c0.552 0 1 0.448 1 1s-0.448 1-1 1z\"></path>\n",
       "<path d=\"M23 22h-14c-0.552 0-1-0.448-1-1s0.448-1 1-1h14c0.552 0 1 0.448 1 1s-0.448 1-1 1z\"></path>\n",
       "<path d=\"M23 18h-14c-0.552 0-1-0.448-1-1s0.448-1 1-1h14c0.552 0 1 0.448 1 1s-0.448 1-1 1z\"></path>\n",
       "</symbol>\n",
       "</defs>\n",
       "</svg>\n",
       "<style>/* CSS stylesheet for displaying xarray objects in jupyterlab.\n",
       " *\n",
       " */\n",
       "\n",
       ":root {\n",
       "  --xr-font-color0: var(--jp-content-font-color0, rgba(0, 0, 0, 1));\n",
       "  --xr-font-color2: var(--jp-content-font-color2, rgba(0, 0, 0, 0.54));\n",
       "  --xr-font-color3: var(--jp-content-font-color3, rgba(0, 0, 0, 0.38));\n",
       "  --xr-border-color: var(--jp-border-color2, #e0e0e0);\n",
       "  --xr-disabled-color: var(--jp-layout-color3, #bdbdbd);\n",
       "  --xr-background-color: var(--jp-layout-color0, white);\n",
       "  --xr-background-color-row-even: var(--jp-layout-color1, white);\n",
       "  --xr-background-color-row-odd: var(--jp-layout-color2, #eeeeee);\n",
       "}\n",
       "\n",
       "html[theme=dark],\n",
       "body[data-theme=dark],\n",
       "body.vscode-dark {\n",
       "  --xr-font-color0: rgba(255, 255, 255, 1);\n",
       "  --xr-font-color2: rgba(255, 255, 255, 0.54);\n",
       "  --xr-font-color3: rgba(255, 255, 255, 0.38);\n",
       "  --xr-border-color: #1F1F1F;\n",
       "  --xr-disabled-color: #515151;\n",
       "  --xr-background-color: #111111;\n",
       "  --xr-background-color-row-even: #111111;\n",
       "  --xr-background-color-row-odd: #313131;\n",
       "}\n",
       "\n",
       ".xr-wrap {\n",
       "  display: block !important;\n",
       "  min-width: 300px;\n",
       "  max-width: 700px;\n",
       "}\n",
       "\n",
       ".xr-text-repr-fallback {\n",
       "  /* fallback to plain text repr when CSS is not injected (untrusted notebook) */\n",
       "  display: none;\n",
       "}\n",
       "\n",
       ".xr-header {\n",
       "  padding-top: 6px;\n",
       "  padding-bottom: 6px;\n",
       "  margin-bottom: 4px;\n",
       "  border-bottom: solid 1px var(--xr-border-color);\n",
       "}\n",
       "\n",
       ".xr-header > div,\n",
       ".xr-header > ul {\n",
       "  display: inline;\n",
       "  margin-top: 0;\n",
       "  margin-bottom: 0;\n",
       "}\n",
       "\n",
       ".xr-obj-type,\n",
       ".xr-array-name {\n",
       "  margin-left: 2px;\n",
       "  margin-right: 10px;\n",
       "}\n",
       "\n",
       ".xr-obj-type {\n",
       "  color: var(--xr-font-color2);\n",
       "}\n",
       "\n",
       ".xr-sections {\n",
       "  padding-left: 0 !important;\n",
       "  display: grid;\n",
       "  grid-template-columns: 150px auto auto 1fr 20px 20px;\n",
       "}\n",
       "\n",
       ".xr-section-item {\n",
       "  display: contents;\n",
       "}\n",
       "\n",
       ".xr-section-item input {\n",
       "  display: none;\n",
       "}\n",
       "\n",
       ".xr-section-item input + label {\n",
       "  color: var(--xr-disabled-color);\n",
       "}\n",
       "\n",
       ".xr-section-item input:enabled + label {\n",
       "  cursor: pointer;\n",
       "  color: var(--xr-font-color2);\n",
       "}\n",
       "\n",
       ".xr-section-item input:enabled + label:hover {\n",
       "  color: var(--xr-font-color0);\n",
       "}\n",
       "\n",
       ".xr-section-summary {\n",
       "  grid-column: 1;\n",
       "  color: var(--xr-font-color2);\n",
       "  font-weight: 500;\n",
       "}\n",
       "\n",
       ".xr-section-summary > span {\n",
       "  display: inline-block;\n",
       "  padding-left: 0.5em;\n",
       "}\n",
       "\n",
       ".xr-section-summary-in:disabled + label {\n",
       "  color: var(--xr-font-color2);\n",
       "}\n",
       "\n",
       ".xr-section-summary-in + label:before {\n",
       "  display: inline-block;\n",
       "  content: '►';\n",
       "  font-size: 11px;\n",
       "  width: 15px;\n",
       "  text-align: center;\n",
       "}\n",
       "\n",
       ".xr-section-summary-in:disabled + label:before {\n",
       "  color: var(--xr-disabled-color);\n",
       "}\n",
       "\n",
       ".xr-section-summary-in:checked + label:before {\n",
       "  content: '▼';\n",
       "}\n",
       "\n",
       ".xr-section-summary-in:checked + label > span {\n",
       "  display: none;\n",
       "}\n",
       "\n",
       ".xr-section-summary,\n",
       ".xr-section-inline-details {\n",
       "  padding-top: 4px;\n",
       "  padding-bottom: 4px;\n",
       "}\n",
       "\n",
       ".xr-section-inline-details {\n",
       "  grid-column: 2 / -1;\n",
       "}\n",
       "\n",
       ".xr-section-details {\n",
       "  display: none;\n",
       "  grid-column: 1 / -1;\n",
       "  margin-bottom: 5px;\n",
       "}\n",
       "\n",
       ".xr-section-summary-in:checked ~ .xr-section-details {\n",
       "  display: contents;\n",
       "}\n",
       "\n",
       ".xr-array-wrap {\n",
       "  grid-column: 1 / -1;\n",
       "  display: grid;\n",
       "  grid-template-columns: 20px auto;\n",
       "}\n",
       "\n",
       ".xr-array-wrap > label {\n",
       "  grid-column: 1;\n",
       "  vertical-align: top;\n",
       "}\n",
       "\n",
       ".xr-preview {\n",
       "  color: var(--xr-font-color3);\n",
       "}\n",
       "\n",
       ".xr-array-preview,\n",
       ".xr-array-data {\n",
       "  padding: 0 5px !important;\n",
       "  grid-column: 2;\n",
       "}\n",
       "\n",
       ".xr-array-data,\n",
       ".xr-array-in:checked ~ .xr-array-preview {\n",
       "  display: none;\n",
       "}\n",
       "\n",
       ".xr-array-in:checked ~ .xr-array-data,\n",
       ".xr-array-preview {\n",
       "  display: inline-block;\n",
       "}\n",
       "\n",
       ".xr-dim-list {\n",
       "  display: inline-block !important;\n",
       "  list-style: none;\n",
       "  padding: 0 !important;\n",
       "  margin: 0;\n",
       "}\n",
       "\n",
       ".xr-dim-list li {\n",
       "  display: inline-block;\n",
       "  padding: 0;\n",
       "  margin: 0;\n",
       "}\n",
       "\n",
       ".xr-dim-list:before {\n",
       "  content: '(';\n",
       "}\n",
       "\n",
       ".xr-dim-list:after {\n",
       "  content: ')';\n",
       "}\n",
       "\n",
       ".xr-dim-list li:not(:last-child):after {\n",
       "  content: ',';\n",
       "  padding-right: 5px;\n",
       "}\n",
       "\n",
       ".xr-has-index {\n",
       "  font-weight: bold;\n",
       "}\n",
       "\n",
       ".xr-var-list,\n",
       ".xr-var-item {\n",
       "  display: contents;\n",
       "}\n",
       "\n",
       ".xr-var-item > div,\n",
       ".xr-var-item label,\n",
       ".xr-var-item > .xr-var-name span {\n",
       "  background-color: var(--xr-background-color-row-even);\n",
       "  margin-bottom: 0;\n",
       "}\n",
       "\n",
       ".xr-var-item > .xr-var-name:hover span {\n",
       "  padding-right: 5px;\n",
       "}\n",
       "\n",
       ".xr-var-list > li:nth-child(odd) > div,\n",
       ".xr-var-list > li:nth-child(odd) > label,\n",
       ".xr-var-list > li:nth-child(odd) > .xr-var-name span {\n",
       "  background-color: var(--xr-background-color-row-odd);\n",
       "}\n",
       "\n",
       ".xr-var-name {\n",
       "  grid-column: 1;\n",
       "}\n",
       "\n",
       ".xr-var-dims {\n",
       "  grid-column: 2;\n",
       "}\n",
       "\n",
       ".xr-var-dtype {\n",
       "  grid-column: 3;\n",
       "  text-align: right;\n",
       "  color: var(--xr-font-color2);\n",
       "}\n",
       "\n",
       ".xr-var-preview {\n",
       "  grid-column: 4;\n",
       "}\n",
       "\n",
       ".xr-index-preview {\n",
       "  grid-column: 2 / 5;\n",
       "  color: var(--xr-font-color2);\n",
       "}\n",
       "\n",
       ".xr-var-name,\n",
       ".xr-var-dims,\n",
       ".xr-var-dtype,\n",
       ".xr-preview,\n",
       ".xr-attrs dt {\n",
       "  white-space: nowrap;\n",
       "  overflow: hidden;\n",
       "  text-overflow: ellipsis;\n",
       "  padding-right: 10px;\n",
       "}\n",
       "\n",
       ".xr-var-name:hover,\n",
       ".xr-var-dims:hover,\n",
       ".xr-var-dtype:hover,\n",
       ".xr-attrs dt:hover {\n",
       "  overflow: visible;\n",
       "  width: auto;\n",
       "  z-index: 1;\n",
       "}\n",
       "\n",
       ".xr-var-attrs,\n",
       ".xr-var-data,\n",
       ".xr-index-data {\n",
       "  display: none;\n",
       "  background-color: var(--xr-background-color) !important;\n",
       "  padding-bottom: 5px !important;\n",
       "}\n",
       "\n",
       ".xr-var-attrs-in:checked ~ .xr-var-attrs,\n",
       ".xr-var-data-in:checked ~ .xr-var-data,\n",
       ".xr-index-data-in:checked ~ .xr-index-data {\n",
       "  display: block;\n",
       "}\n",
       "\n",
       ".xr-var-data > table {\n",
       "  float: right;\n",
       "}\n",
       "\n",
       ".xr-var-name span,\n",
       ".xr-var-data,\n",
       ".xr-index-name div,\n",
       ".xr-index-data,\n",
       ".xr-attrs {\n",
       "  padding-left: 25px !important;\n",
       "}\n",
       "\n",
       ".xr-attrs,\n",
       ".xr-var-attrs,\n",
       ".xr-var-data,\n",
       ".xr-index-data {\n",
       "  grid-column: 1 / -1;\n",
       "}\n",
       "\n",
       "dl.xr-attrs {\n",
       "  padding: 0;\n",
       "  margin: 0;\n",
       "  display: grid;\n",
       "  grid-template-columns: 125px auto;\n",
       "}\n",
       "\n",
       ".xr-attrs dt,\n",
       ".xr-attrs dd {\n",
       "  padding: 0;\n",
       "  margin: 0;\n",
       "  float: left;\n",
       "  padding-right: 10px;\n",
       "  width: auto;\n",
       "}\n",
       "\n",
       ".xr-attrs dt {\n",
       "  font-weight: normal;\n",
       "  grid-column: 1;\n",
       "}\n",
       "\n",
       ".xr-attrs dt:hover span {\n",
       "  display: inline-block;\n",
       "  background: var(--xr-background-color);\n",
       "  padding-right: 10px;\n",
       "}\n",
       "\n",
       ".xr-attrs dd {\n",
       "  grid-column: 2;\n",
       "  white-space: pre-wrap;\n",
       "  word-break: break-all;\n",
       "}\n",
       "\n",
       ".xr-icon-database,\n",
       ".xr-icon-file-text2,\n",
       ".xr-no-icon {\n",
       "  display: inline-block;\n",
       "  vertical-align: middle;\n",
       "  width: 1em;\n",
       "  height: 1.5em !important;\n",
       "  stroke-width: 0;\n",
       "  stroke: currentColor;\n",
       "  fill: currentColor;\n",
       "}\n",
       "</style><pre class='xr-text-repr-fallback'>&lt;xarray.Dataset&gt;\n",
       "Dimensions:          (prior_draw: 200)\n",
       "Coordinates:\n",
       "  * prior_draw       (prior_draw) object MultiIndex\n",
       "  * chain            (prior_draw) int64 0 0 0 0 0 0 0 0 0 ... 1 1 1 1 1 1 1 1 1\n",
       "  * draw             (prior_draw) int64 0 1 2 3 4 5 6 7 ... 93 94 95 96 97 98 99\n",
       "Data variables:\n",
       "    lp               (prior_draw) float64 0.0 0.0 0.0 0.0 ... 0.0 0.0 0.0 0.0\n",
       "    acceptance_rate  (prior_draw) float64 0.0 0.0 0.0 0.0 ... 0.0 0.0 0.0 0.0\n",
       "Attributes:\n",
       "    created_at:                 2022-11-10T02:19:07.958479\n",
       "    arviz_version:              0.13.0\n",
       "    inference_library:          cmdstanpy\n",
       "    inference_library_version:  1.0.8</pre><div class='xr-wrap' style='display:none'><div class='xr-header'><div class='xr-obj-type'>xarray.Dataset</div></div><ul class='xr-sections'><li class='xr-section-item'><input id='section-7f4bb76f-bec4-4204-bc23-3acb3249ee89' class='xr-section-summary-in' type='checkbox' disabled ><label for='section-7f4bb76f-bec4-4204-bc23-3acb3249ee89' class='xr-section-summary'  title='Expand/collapse section'>Dimensions:</label><div class='xr-section-inline-details'><ul class='xr-dim-list'><li><span class='xr-has-index'>prior_draw</span>: 200</li></ul></div><div class='xr-section-details'></div></li><li class='xr-section-item'><input id='section-112d5657-52fd-4b61-94c9-58425fc69717' class='xr-section-summary-in' type='checkbox'  checked><label for='section-112d5657-52fd-4b61-94c9-58425fc69717' class='xr-section-summary' >Coordinates: <span>(3)</span></label><div class='xr-section-inline-details'></div><div class='xr-section-details'><ul class='xr-var-list'><li class='xr-var-item'><div class='xr-var-name'><span class='xr-has-index'>prior_draw</span></div><div class='xr-var-dims'>(prior_draw)</div><div class='xr-var-dtype'>object</div><div class='xr-var-preview xr-preview'>MultiIndex</div><input id='attrs-b82e86f3-fff1-400b-88b5-fc99be8886b8' class='xr-var-attrs-in' type='checkbox' disabled><label for='attrs-b82e86f3-fff1-400b-88b5-fc99be8886b8' title='Show/Hide attributes'><svg class='icon xr-icon-file-text2'><use xlink:href='#icon-file-text2'></use></svg></label><input id='data-4bad6996-a6eb-44ef-847d-a787d924ad84' class='xr-var-data-in' type='checkbox'><label for='data-4bad6996-a6eb-44ef-847d-a787d924ad84' title='Show/Hide data repr'><svg class='icon xr-icon-database'><use xlink:href='#icon-database'></use></svg></label><div class='xr-var-attrs'><dl class='xr-attrs'></dl></div><div class='xr-var-data'><pre>array([(0, 0), (0, 1), (0, 2), (0, 3), (0, 4), (0, 5), (0, 6), (0, 7), (0, 8),\n",
       "       (0, 9), (0, 10), (0, 11), (0, 12), (0, 13), (0, 14), (0, 15), (0, 16),\n",
       "       (0, 17), (0, 18), (0, 19), (0, 20), (0, 21), (0, 22), (0, 23), (0, 24),\n",
       "       (0, 25), (0, 26), (0, 27), (0, 28), (0, 29), (0, 30), (0, 31), (0, 32),\n",
       "       (0, 33), (0, 34), (0, 35), (0, 36), (0, 37), (0, 38), (0, 39), (0, 40),\n",
       "       (0, 41), (0, 42), (0, 43), (0, 44), (0, 45), (0, 46), (0, 47), (0, 48),\n",
       "       (0, 49), (0, 50), (0, 51), (0, 52), (0, 53), (0, 54), (0, 55), (0, 56),\n",
       "       (0, 57), (0, 58), (0, 59), (0, 60), (0, 61), (0, 62), (0, 63), (0, 64),\n",
       "       (0, 65), (0, 66), (0, 67), (0, 68), (0, 69), (0, 70), (0, 71), (0, 72),\n",
       "       (0, 73), (0, 74), (0, 75), (0, 76), (0, 77), (0, 78), (0, 79), (0, 80),\n",
       "       (0, 81), (0, 82), (0, 83), (0, 84), (0, 85), (0, 86), (0, 87), (0, 88),\n",
       "       (0, 89), (0, 90), (0, 91), (0, 92), (0, 93), (0, 94), (0, 95), (0, 96),\n",
       "       (0, 97), (0, 98), (0, 99), (1, 0), (1, 1), (1, 2), (1, 3), (1, 4),\n",
       "       (1, 5), (1, 6), (1, 7), (1, 8), (1, 9), (1, 10), (1, 11), (1, 12),\n",
       "       (1, 13), (1, 14), (1, 15), (1, 16), (1, 17), (1, 18), (1, 19), (1, 20),\n",
       "       (1, 21), (1, 22), (1, 23), (1, 24), (1, 25), (1, 26), (1, 27), (1, 28),\n",
       "       (1, 29), (1, 30), (1, 31), (1, 32), (1, 33), (1, 34), (1, 35), (1, 36),\n",
       "       (1, 37), (1, 38), (1, 39), (1, 40), (1, 41), (1, 42), (1, 43), (1, 44),\n",
       "       (1, 45), (1, 46), (1, 47), (1, 48), (1, 49), (1, 50), (1, 51), (1, 52),\n",
       "       (1, 53), (1, 54), (1, 55), (1, 56), (1, 57), (1, 58), (1, 59), (1, 60),\n",
       "       (1, 61), (1, 62), (1, 63), (1, 64), (1, 65), (1, 66), (1, 67), (1, 68),\n",
       "       (1, 69), (1, 70), (1, 71), (1, 72), (1, 73), (1, 74), (1, 75), (1, 76),\n",
       "       (1, 77), (1, 78), (1, 79), (1, 80), (1, 81), (1, 82), (1, 83), (1, 84),\n",
       "       (1, 85), (1, 86), (1, 87), (1, 88), (1, 89), (1, 90), (1, 91), (1, 92),\n",
       "       (1, 93), (1, 94), (1, 95), (1, 96), (1, 97), (1, 98), (1, 99)],\n",
       "      dtype=object)</pre></div></li><li class='xr-var-item'><div class='xr-var-name'><span class='xr-has-index'>chain</span></div><div class='xr-var-dims'>(prior_draw)</div><div class='xr-var-dtype'>int64</div><div class='xr-var-preview xr-preview'>0 0 0 0 0 0 0 0 ... 1 1 1 1 1 1 1 1</div><input id='attrs-4e1e8b62-2503-49cb-a273-02fc8bc87ad3' class='xr-var-attrs-in' type='checkbox' disabled><label for='attrs-4e1e8b62-2503-49cb-a273-02fc8bc87ad3' title='Show/Hide attributes'><svg class='icon xr-icon-file-text2'><use xlink:href='#icon-file-text2'></use></svg></label><input id='data-347547dd-5e72-4840-b1e1-5749b82773b6' class='xr-var-data-in' type='checkbox'><label for='data-347547dd-5e72-4840-b1e1-5749b82773b6' title='Show/Hide data repr'><svg class='icon xr-icon-database'><use xlink:href='#icon-database'></use></svg></label><div class='xr-var-attrs'><dl class='xr-attrs'></dl></div><div class='xr-var-data'><pre>array([0, 0, 0, 0, 0, 0, 0, 0, 0, 0, 0, 0, 0, 0, 0, 0, 0, 0, 0, 0, 0, 0, 0, 0,\n",
       "       0, 0, 0, 0, 0, 0, 0, 0, 0, 0, 0, 0, 0, 0, 0, 0, 0, 0, 0, 0, 0, 0, 0, 0,\n",
       "       0, 0, 0, 0, 0, 0, 0, 0, 0, 0, 0, 0, 0, 0, 0, 0, 0, 0, 0, 0, 0, 0, 0, 0,\n",
       "       0, 0, 0, 0, 0, 0, 0, 0, 0, 0, 0, 0, 0, 0, 0, 0, 0, 0, 0, 0, 0, 0, 0, 0,\n",
       "       0, 0, 0, 0, 1, 1, 1, 1, 1, 1, 1, 1, 1, 1, 1, 1, 1, 1, 1, 1, 1, 1, 1, 1,\n",
       "       1, 1, 1, 1, 1, 1, 1, 1, 1, 1, 1, 1, 1, 1, 1, 1, 1, 1, 1, 1, 1, 1, 1, 1,\n",
       "       1, 1, 1, 1, 1, 1, 1, 1, 1, 1, 1, 1, 1, 1, 1, 1, 1, 1, 1, 1, 1, 1, 1, 1,\n",
       "       1, 1, 1, 1, 1, 1, 1, 1, 1, 1, 1, 1, 1, 1, 1, 1, 1, 1, 1, 1, 1, 1, 1, 1,\n",
       "       1, 1, 1, 1, 1, 1, 1, 1])</pre></div></li><li class='xr-var-item'><div class='xr-var-name'><span class='xr-has-index'>draw</span></div><div class='xr-var-dims'>(prior_draw)</div><div class='xr-var-dtype'>int64</div><div class='xr-var-preview xr-preview'>0 1 2 3 4 5 6 ... 94 95 96 97 98 99</div><input id='attrs-11ccc2b4-c4f3-4303-9461-7ebcee899e34' class='xr-var-attrs-in' type='checkbox' disabled><label for='attrs-11ccc2b4-c4f3-4303-9461-7ebcee899e34' title='Show/Hide attributes'><svg class='icon xr-icon-file-text2'><use xlink:href='#icon-file-text2'></use></svg></label><input id='data-1d9270c2-62c6-4c92-a161-ea122c46ed02' class='xr-var-data-in' type='checkbox'><label for='data-1d9270c2-62c6-4c92-a161-ea122c46ed02' title='Show/Hide data repr'><svg class='icon xr-icon-database'><use xlink:href='#icon-database'></use></svg></label><div class='xr-var-attrs'><dl class='xr-attrs'></dl></div><div class='xr-var-data'><pre>array([ 0,  1,  2,  3,  4,  5,  6,  7,  8,  9, 10, 11, 12, 13, 14, 15, 16, 17,\n",
       "       18, 19, 20, 21, 22, 23, 24, 25, 26, 27, 28, 29, 30, 31, 32, 33, 34, 35,\n",
       "       36, 37, 38, 39, 40, 41, 42, 43, 44, 45, 46, 47, 48, 49, 50, 51, 52, 53,\n",
       "       54, 55, 56, 57, 58, 59, 60, 61, 62, 63, 64, 65, 66, 67, 68, 69, 70, 71,\n",
       "       72, 73, 74, 75, 76, 77, 78, 79, 80, 81, 82, 83, 84, 85, 86, 87, 88, 89,\n",
       "       90, 91, 92, 93, 94, 95, 96, 97, 98, 99,  0,  1,  2,  3,  4,  5,  6,  7,\n",
       "        8,  9, 10, 11, 12, 13, 14, 15, 16, 17, 18, 19, 20, 21, 22, 23, 24, 25,\n",
       "       26, 27, 28, 29, 30, 31, 32, 33, 34, 35, 36, 37, 38, 39, 40, 41, 42, 43,\n",
       "       44, 45, 46, 47, 48, 49, 50, 51, 52, 53, 54, 55, 56, 57, 58, 59, 60, 61,\n",
       "       62, 63, 64, 65, 66, 67, 68, 69, 70, 71, 72, 73, 74, 75, 76, 77, 78, 79,\n",
       "       80, 81, 82, 83, 84, 85, 86, 87, 88, 89, 90, 91, 92, 93, 94, 95, 96, 97,\n",
       "       98, 99])</pre></div></li></ul></div></li><li class='xr-section-item'><input id='section-3818db1c-a58e-4128-bb2c-afdefa52f1ea' class='xr-section-summary-in' type='checkbox'  checked><label for='section-3818db1c-a58e-4128-bb2c-afdefa52f1ea' class='xr-section-summary' >Data variables: <span>(2)</span></label><div class='xr-section-inline-details'></div><div class='xr-section-details'><ul class='xr-var-list'><li class='xr-var-item'><div class='xr-var-name'><span>lp</span></div><div class='xr-var-dims'>(prior_draw)</div><div class='xr-var-dtype'>float64</div><div class='xr-var-preview xr-preview'>0.0 0.0 0.0 0.0 ... 0.0 0.0 0.0 0.0</div><input id='attrs-20d98697-084c-4e57-9dec-ad8bada7b72a' class='xr-var-attrs-in' type='checkbox' disabled><label for='attrs-20d98697-084c-4e57-9dec-ad8bada7b72a' title='Show/Hide attributes'><svg class='icon xr-icon-file-text2'><use xlink:href='#icon-file-text2'></use></svg></label><input id='data-e2f65aea-85b6-4c5c-80c9-1daa6f2f7fc8' class='xr-var-data-in' type='checkbox'><label for='data-e2f65aea-85b6-4c5c-80c9-1daa6f2f7fc8' title='Show/Hide data repr'><svg class='icon xr-icon-database'><use xlink:href='#icon-database'></use></svg></label><div class='xr-var-attrs'><dl class='xr-attrs'></dl></div><div class='xr-var-data'><pre>array([0., 0., 0., 0., 0., 0., 0., 0., 0., 0., 0., 0., 0., 0., 0., 0., 0.,\n",
       "       0., 0., 0., 0., 0., 0., 0., 0., 0., 0., 0., 0., 0., 0., 0., 0., 0.,\n",
       "       0., 0., 0., 0., 0., 0., 0., 0., 0., 0., 0., 0., 0., 0., 0., 0., 0.,\n",
       "       0., 0., 0., 0., 0., 0., 0., 0., 0., 0., 0., 0., 0., 0., 0., 0., 0.,\n",
       "       0., 0., 0., 0., 0., 0., 0., 0., 0., 0., 0., 0., 0., 0., 0., 0., 0.,\n",
       "       0., 0., 0., 0., 0., 0., 0., 0., 0., 0., 0., 0., 0., 0., 0., 0., 0.,\n",
       "       0., 0., 0., 0., 0., 0., 0., 0., 0., 0., 0., 0., 0., 0., 0., 0., 0.,\n",
       "       0., 0., 0., 0., 0., 0., 0., 0., 0., 0., 0., 0., 0., 0., 0., 0., 0.,\n",
       "       0., 0., 0., 0., 0., 0., 0., 0., 0., 0., 0., 0., 0., 0., 0., 0., 0.,\n",
       "       0., 0., 0., 0., 0., 0., 0., 0., 0., 0., 0., 0., 0., 0., 0., 0., 0.,\n",
       "       0., 0., 0., 0., 0., 0., 0., 0., 0., 0., 0., 0., 0., 0., 0., 0., 0.,\n",
       "       0., 0., 0., 0., 0., 0., 0., 0., 0., 0., 0., 0., 0.])</pre></div></li><li class='xr-var-item'><div class='xr-var-name'><span>acceptance_rate</span></div><div class='xr-var-dims'>(prior_draw)</div><div class='xr-var-dtype'>float64</div><div class='xr-var-preview xr-preview'>0.0 0.0 0.0 0.0 ... 0.0 0.0 0.0 0.0</div><input id='attrs-3329671a-6716-476a-a234-dddc8588f1e7' class='xr-var-attrs-in' type='checkbox' disabled><label for='attrs-3329671a-6716-476a-a234-dddc8588f1e7' title='Show/Hide attributes'><svg class='icon xr-icon-file-text2'><use xlink:href='#icon-file-text2'></use></svg></label><input id='data-70fe89f2-e813-492c-8a75-cc52aacf5fda' class='xr-var-data-in' type='checkbox'><label for='data-70fe89f2-e813-492c-8a75-cc52aacf5fda' title='Show/Hide data repr'><svg class='icon xr-icon-database'><use xlink:href='#icon-database'></use></svg></label><div class='xr-var-attrs'><dl class='xr-attrs'></dl></div><div class='xr-var-data'><pre>array([0., 0., 0., 0., 0., 0., 0., 0., 0., 0., 0., 0., 0., 0., 0., 0., 0.,\n",
       "       0., 0., 0., 0., 0., 0., 0., 0., 0., 0., 0., 0., 0., 0., 0., 0., 0.,\n",
       "       0., 0., 0., 0., 0., 0., 0., 0., 0., 0., 0., 0., 0., 0., 0., 0., 0.,\n",
       "       0., 0., 0., 0., 0., 0., 0., 0., 0., 0., 0., 0., 0., 0., 0., 0., 0.,\n",
       "       0., 0., 0., 0., 0., 0., 0., 0., 0., 0., 0., 0., 0., 0., 0., 0., 0.,\n",
       "       0., 0., 0., 0., 0., 0., 0., 0., 0., 0., 0., 0., 0., 0., 0., 0., 0.,\n",
       "       0., 0., 0., 0., 0., 0., 0., 0., 0., 0., 0., 0., 0., 0., 0., 0., 0.,\n",
       "       0., 0., 0., 0., 0., 0., 0., 0., 0., 0., 0., 0., 0., 0., 0., 0., 0.,\n",
       "       0., 0., 0., 0., 0., 0., 0., 0., 0., 0., 0., 0., 0., 0., 0., 0., 0.,\n",
       "       0., 0., 0., 0., 0., 0., 0., 0., 0., 0., 0., 0., 0., 0., 0., 0., 0.,\n",
       "       0., 0., 0., 0., 0., 0., 0., 0., 0., 0., 0., 0., 0., 0., 0., 0., 0.,\n",
       "       0., 0., 0., 0., 0., 0., 0., 0., 0., 0., 0., 0., 0.])</pre></div></li></ul></div></li><li class='xr-section-item'><input id='section-bf979dba-d398-4742-a419-76a147747b91' class='xr-section-summary-in' type='checkbox'  ><label for='section-bf979dba-d398-4742-a419-76a147747b91' class='xr-section-summary' >Indexes: <span>(1)</span></label><div class='xr-section-inline-details'></div><div class='xr-section-details'><ul class='xr-var-list'><li class='xr-var-item'><div class='xr-index-name'><div>prior_draw<br>chain<br>draw</div></div><div class='xr-index-preview'>PandasMultiIndex</div><div></div><input id='index-59cee495-7554-4f7f-a4a0-a5bd6a746ef9' class='xr-index-data-in' type='checkbox'/><label for='index-59cee495-7554-4f7f-a4a0-a5bd6a746ef9' title='Show/Hide index repr'><svg class='icon xr-icon-database'><use xlink:href='#icon-database'></use></svg></label><div class='xr-index-data'><pre>PandasIndex(MultiIndex([(0,  0),\n",
       "            (0,  1),\n",
       "            (0,  2),\n",
       "            (0,  3),\n",
       "            (0,  4),\n",
       "            (0,  5),\n",
       "            (0,  6),\n",
       "            (0,  7),\n",
       "            (0,  8),\n",
       "            (0,  9),\n",
       "            ...\n",
       "            (1, 90),\n",
       "            (1, 91),\n",
       "            (1, 92),\n",
       "            (1, 93),\n",
       "            (1, 94),\n",
       "            (1, 95),\n",
       "            (1, 96),\n",
       "            (1, 97),\n",
       "            (1, 98),\n",
       "            (1, 99)],\n",
       "           name=&#x27;prior_draw&#x27;, length=200))</pre></div></li></ul></div></li><li class='xr-section-item'><input id='section-1ed7dc98-dfbd-4876-bddd-6be9314ed8c1' class='xr-section-summary-in' type='checkbox'  checked><label for='section-1ed7dc98-dfbd-4876-bddd-6be9314ed8c1' class='xr-section-summary' >Attributes: <span>(4)</span></label><div class='xr-section-inline-details'></div><div class='xr-section-details'><dl class='xr-attrs'><dt><span>created_at :</span></dt><dd>2022-11-10T02:19:07.958479</dd><dt><span>arviz_version :</span></dt><dd>0.13.0</dd><dt><span>inference_library :</span></dt><dd>cmdstanpy</dd><dt><span>inference_library_version :</span></dt><dd>1.0.8</dd></dl></div></li></ul></div></div><br></div>\n",
       "                      </ul>\n",
       "                  </div>\n",
       "            </li>\n",
       "            \n",
       "            <li class = \"xr-section-item\">\n",
       "                  <input id=\"idata_posterior_preditivedb9ffe43-4eda-4671-a90c-541defa375d0\" class=\"xr-section-summary-in\" type=\"checkbox\">\n",
       "                  <label for=\"idata_posterior_preditivedb9ffe43-4eda-4671-a90c-541defa375d0\" class = \"xr-section-summary\">posterior_preditive</label>\n",
       "                  <div class=\"xr-section-inline-details\"></div>\n",
       "                  <div class=\"xr-section-details\">\n",
       "                      <ul id=\"xr-dataset-coord-list\" class=\"xr-var-list\">\n",
       "                          <div style=\"padding-left:2rem;\"><div><svg style=\"position: absolute; width: 0; height: 0; overflow: hidden\">\n",
       "<defs>\n",
       "<symbol id=\"icon-database\" viewBox=\"0 0 32 32\">\n",
       "<path d=\"M16 0c-8.837 0-16 2.239-16 5v4c0 2.761 7.163 5 16 5s16-2.239 16-5v-4c0-2.761-7.163-5-16-5z\"></path>\n",
       "<path d=\"M16 17c-8.837 0-16-2.239-16-5v6c0 2.761 7.163 5 16 5s16-2.239 16-5v-6c0 2.761-7.163 5-16 5z\"></path>\n",
       "<path d=\"M16 26c-8.837 0-16-2.239-16-5v6c0 2.761 7.163 5 16 5s16-2.239 16-5v-6c0 2.761-7.163 5-16 5z\"></path>\n",
       "</symbol>\n",
       "<symbol id=\"icon-file-text2\" viewBox=\"0 0 32 32\">\n",
       "<path d=\"M28.681 7.159c-0.694-0.947-1.662-2.053-2.724-3.116s-2.169-2.030-3.116-2.724c-1.612-1.182-2.393-1.319-2.841-1.319h-15.5c-1.378 0-2.5 1.121-2.5 2.5v27c0 1.378 1.122 2.5 2.5 2.5h23c1.378 0 2.5-1.122 2.5-2.5v-19.5c0-0.448-0.137-1.23-1.319-2.841zM24.543 5.457c0.959 0.959 1.712 1.825 2.268 2.543h-4.811v-4.811c0.718 0.556 1.584 1.309 2.543 2.268zM28 29.5c0 0.271-0.229 0.5-0.5 0.5h-23c-0.271 0-0.5-0.229-0.5-0.5v-27c0-0.271 0.229-0.5 0.5-0.5 0 0 15.499-0 15.5 0v7c0 0.552 0.448 1 1 1h7v19.5z\"></path>\n",
       "<path d=\"M23 26h-14c-0.552 0-1-0.448-1-1s0.448-1 1-1h14c0.552 0 1 0.448 1 1s-0.448 1-1 1z\"></path>\n",
       "<path d=\"M23 22h-14c-0.552 0-1-0.448-1-1s0.448-1 1-1h14c0.552 0 1 0.448 1 1s-0.448 1-1 1z\"></path>\n",
       "<path d=\"M23 18h-14c-0.552 0-1-0.448-1-1s0.448-1 1-1h14c0.552 0 1 0.448 1 1s-0.448 1-1 1z\"></path>\n",
       "</symbol>\n",
       "</defs>\n",
       "</svg>\n",
       "<style>/* CSS stylesheet for displaying xarray objects in jupyterlab.\n",
       " *\n",
       " */\n",
       "\n",
       ":root {\n",
       "  --xr-font-color0: var(--jp-content-font-color0, rgba(0, 0, 0, 1));\n",
       "  --xr-font-color2: var(--jp-content-font-color2, rgba(0, 0, 0, 0.54));\n",
       "  --xr-font-color3: var(--jp-content-font-color3, rgba(0, 0, 0, 0.38));\n",
       "  --xr-border-color: var(--jp-border-color2, #e0e0e0);\n",
       "  --xr-disabled-color: var(--jp-layout-color3, #bdbdbd);\n",
       "  --xr-background-color: var(--jp-layout-color0, white);\n",
       "  --xr-background-color-row-even: var(--jp-layout-color1, white);\n",
       "  --xr-background-color-row-odd: var(--jp-layout-color2, #eeeeee);\n",
       "}\n",
       "\n",
       "html[theme=dark],\n",
       "body[data-theme=dark],\n",
       "body.vscode-dark {\n",
       "  --xr-font-color0: rgba(255, 255, 255, 1);\n",
       "  --xr-font-color2: rgba(255, 255, 255, 0.54);\n",
       "  --xr-font-color3: rgba(255, 255, 255, 0.38);\n",
       "  --xr-border-color: #1F1F1F;\n",
       "  --xr-disabled-color: #515151;\n",
       "  --xr-background-color: #111111;\n",
       "  --xr-background-color-row-even: #111111;\n",
       "  --xr-background-color-row-odd: #313131;\n",
       "}\n",
       "\n",
       ".xr-wrap {\n",
       "  display: block !important;\n",
       "  min-width: 300px;\n",
       "  max-width: 700px;\n",
       "}\n",
       "\n",
       ".xr-text-repr-fallback {\n",
       "  /* fallback to plain text repr when CSS is not injected (untrusted notebook) */\n",
       "  display: none;\n",
       "}\n",
       "\n",
       ".xr-header {\n",
       "  padding-top: 6px;\n",
       "  padding-bottom: 6px;\n",
       "  margin-bottom: 4px;\n",
       "  border-bottom: solid 1px var(--xr-border-color);\n",
       "}\n",
       "\n",
       ".xr-header > div,\n",
       ".xr-header > ul {\n",
       "  display: inline;\n",
       "  margin-top: 0;\n",
       "  margin-bottom: 0;\n",
       "}\n",
       "\n",
       ".xr-obj-type,\n",
       ".xr-array-name {\n",
       "  margin-left: 2px;\n",
       "  margin-right: 10px;\n",
       "}\n",
       "\n",
       ".xr-obj-type {\n",
       "  color: var(--xr-font-color2);\n",
       "}\n",
       "\n",
       ".xr-sections {\n",
       "  padding-left: 0 !important;\n",
       "  display: grid;\n",
       "  grid-template-columns: 150px auto auto 1fr 20px 20px;\n",
       "}\n",
       "\n",
       ".xr-section-item {\n",
       "  display: contents;\n",
       "}\n",
       "\n",
       ".xr-section-item input {\n",
       "  display: none;\n",
       "}\n",
       "\n",
       ".xr-section-item input + label {\n",
       "  color: var(--xr-disabled-color);\n",
       "}\n",
       "\n",
       ".xr-section-item input:enabled + label {\n",
       "  cursor: pointer;\n",
       "  color: var(--xr-font-color2);\n",
       "}\n",
       "\n",
       ".xr-section-item input:enabled + label:hover {\n",
       "  color: var(--xr-font-color0);\n",
       "}\n",
       "\n",
       ".xr-section-summary {\n",
       "  grid-column: 1;\n",
       "  color: var(--xr-font-color2);\n",
       "  font-weight: 500;\n",
       "}\n",
       "\n",
       ".xr-section-summary > span {\n",
       "  display: inline-block;\n",
       "  padding-left: 0.5em;\n",
       "}\n",
       "\n",
       ".xr-section-summary-in:disabled + label {\n",
       "  color: var(--xr-font-color2);\n",
       "}\n",
       "\n",
       ".xr-section-summary-in + label:before {\n",
       "  display: inline-block;\n",
       "  content: '►';\n",
       "  font-size: 11px;\n",
       "  width: 15px;\n",
       "  text-align: center;\n",
       "}\n",
       "\n",
       ".xr-section-summary-in:disabled + label:before {\n",
       "  color: var(--xr-disabled-color);\n",
       "}\n",
       "\n",
       ".xr-section-summary-in:checked + label:before {\n",
       "  content: '▼';\n",
       "}\n",
       "\n",
       ".xr-section-summary-in:checked + label > span {\n",
       "  display: none;\n",
       "}\n",
       "\n",
       ".xr-section-summary,\n",
       ".xr-section-inline-details {\n",
       "  padding-top: 4px;\n",
       "  padding-bottom: 4px;\n",
       "}\n",
       "\n",
       ".xr-section-inline-details {\n",
       "  grid-column: 2 / -1;\n",
       "}\n",
       "\n",
       ".xr-section-details {\n",
       "  display: none;\n",
       "  grid-column: 1 / -1;\n",
       "  margin-bottom: 5px;\n",
       "}\n",
       "\n",
       ".xr-section-summary-in:checked ~ .xr-section-details {\n",
       "  display: contents;\n",
       "}\n",
       "\n",
       ".xr-array-wrap {\n",
       "  grid-column: 1 / -1;\n",
       "  display: grid;\n",
       "  grid-template-columns: 20px auto;\n",
       "}\n",
       "\n",
       ".xr-array-wrap > label {\n",
       "  grid-column: 1;\n",
       "  vertical-align: top;\n",
       "}\n",
       "\n",
       ".xr-preview {\n",
       "  color: var(--xr-font-color3);\n",
       "}\n",
       "\n",
       ".xr-array-preview,\n",
       ".xr-array-data {\n",
       "  padding: 0 5px !important;\n",
       "  grid-column: 2;\n",
       "}\n",
       "\n",
       ".xr-array-data,\n",
       ".xr-array-in:checked ~ .xr-array-preview {\n",
       "  display: none;\n",
       "}\n",
       "\n",
       ".xr-array-in:checked ~ .xr-array-data,\n",
       ".xr-array-preview {\n",
       "  display: inline-block;\n",
       "}\n",
       "\n",
       ".xr-dim-list {\n",
       "  display: inline-block !important;\n",
       "  list-style: none;\n",
       "  padding: 0 !important;\n",
       "  margin: 0;\n",
       "}\n",
       "\n",
       ".xr-dim-list li {\n",
       "  display: inline-block;\n",
       "  padding: 0;\n",
       "  margin: 0;\n",
       "}\n",
       "\n",
       ".xr-dim-list:before {\n",
       "  content: '(';\n",
       "}\n",
       "\n",
       ".xr-dim-list:after {\n",
       "  content: ')';\n",
       "}\n",
       "\n",
       ".xr-dim-list li:not(:last-child):after {\n",
       "  content: ',';\n",
       "  padding-right: 5px;\n",
       "}\n",
       "\n",
       ".xr-has-index {\n",
       "  font-weight: bold;\n",
       "}\n",
       "\n",
       ".xr-var-list,\n",
       ".xr-var-item {\n",
       "  display: contents;\n",
       "}\n",
       "\n",
       ".xr-var-item > div,\n",
       ".xr-var-item label,\n",
       ".xr-var-item > .xr-var-name span {\n",
       "  background-color: var(--xr-background-color-row-even);\n",
       "  margin-bottom: 0;\n",
       "}\n",
       "\n",
       ".xr-var-item > .xr-var-name:hover span {\n",
       "  padding-right: 5px;\n",
       "}\n",
       "\n",
       ".xr-var-list > li:nth-child(odd) > div,\n",
       ".xr-var-list > li:nth-child(odd) > label,\n",
       ".xr-var-list > li:nth-child(odd) > .xr-var-name span {\n",
       "  background-color: var(--xr-background-color-row-odd);\n",
       "}\n",
       "\n",
       ".xr-var-name {\n",
       "  grid-column: 1;\n",
       "}\n",
       "\n",
       ".xr-var-dims {\n",
       "  grid-column: 2;\n",
       "}\n",
       "\n",
       ".xr-var-dtype {\n",
       "  grid-column: 3;\n",
       "  text-align: right;\n",
       "  color: var(--xr-font-color2);\n",
       "}\n",
       "\n",
       ".xr-var-preview {\n",
       "  grid-column: 4;\n",
       "}\n",
       "\n",
       ".xr-index-preview {\n",
       "  grid-column: 2 / 5;\n",
       "  color: var(--xr-font-color2);\n",
       "}\n",
       "\n",
       ".xr-var-name,\n",
       ".xr-var-dims,\n",
       ".xr-var-dtype,\n",
       ".xr-preview,\n",
       ".xr-attrs dt {\n",
       "  white-space: nowrap;\n",
       "  overflow: hidden;\n",
       "  text-overflow: ellipsis;\n",
       "  padding-right: 10px;\n",
       "}\n",
       "\n",
       ".xr-var-name:hover,\n",
       ".xr-var-dims:hover,\n",
       ".xr-var-dtype:hover,\n",
       ".xr-attrs dt:hover {\n",
       "  overflow: visible;\n",
       "  width: auto;\n",
       "  z-index: 1;\n",
       "}\n",
       "\n",
       ".xr-var-attrs,\n",
       ".xr-var-data,\n",
       ".xr-index-data {\n",
       "  display: none;\n",
       "  background-color: var(--xr-background-color) !important;\n",
       "  padding-bottom: 5px !important;\n",
       "}\n",
       "\n",
       ".xr-var-attrs-in:checked ~ .xr-var-attrs,\n",
       ".xr-var-data-in:checked ~ .xr-var-data,\n",
       ".xr-index-data-in:checked ~ .xr-index-data {\n",
       "  display: block;\n",
       "}\n",
       "\n",
       ".xr-var-data > table {\n",
       "  float: right;\n",
       "}\n",
       "\n",
       ".xr-var-name span,\n",
       ".xr-var-data,\n",
       ".xr-index-name div,\n",
       ".xr-index-data,\n",
       ".xr-attrs {\n",
       "  padding-left: 25px !important;\n",
       "}\n",
       "\n",
       ".xr-attrs,\n",
       ".xr-var-attrs,\n",
       ".xr-var-data,\n",
       ".xr-index-data {\n",
       "  grid-column: 1 / -1;\n",
       "}\n",
       "\n",
       "dl.xr-attrs {\n",
       "  padding: 0;\n",
       "  margin: 0;\n",
       "  display: grid;\n",
       "  grid-template-columns: 125px auto;\n",
       "}\n",
       "\n",
       ".xr-attrs dt,\n",
       ".xr-attrs dd {\n",
       "  padding: 0;\n",
       "  margin: 0;\n",
       "  float: left;\n",
       "  padding-right: 10px;\n",
       "  width: auto;\n",
       "}\n",
       "\n",
       ".xr-attrs dt {\n",
       "  font-weight: normal;\n",
       "  grid-column: 1;\n",
       "}\n",
       "\n",
       ".xr-attrs dt:hover span {\n",
       "  display: inline-block;\n",
       "  background: var(--xr-background-color);\n",
       "  padding-right: 10px;\n",
       "}\n",
       "\n",
       ".xr-attrs dd {\n",
       "  grid-column: 2;\n",
       "  white-space: pre-wrap;\n",
       "  word-break: break-all;\n",
       "}\n",
       "\n",
       ".xr-icon-database,\n",
       ".xr-icon-file-text2,\n",
       ".xr-no-icon {\n",
       "  display: inline-block;\n",
       "  vertical-align: middle;\n",
       "  width: 1em;\n",
       "  height: 1.5em !important;\n",
       "  stroke-width: 0;\n",
       "  stroke: currentColor;\n",
       "  fill: currentColor;\n",
       "}\n",
       "</style><pre class='xr-text-repr-fallback'>&lt;xarray.Dataset&gt;\n",
       "Dimensions:             (chain: 4, draw: 1000, developer: 5, prior_draws: 200)\n",
       "Coordinates:\n",
       "  * chain               (chain) int64 0 1 2 3\n",
       "  * draw                (draw) int64 0 1 2 3 4 5 6 ... 994 995 996 997 998 999\n",
       "  * developer           (developer) object &#x27;Alice&#x27; &#x27;Bob&#x27; ... &#x27;Danielle&#x27; &#x27;Erika&#x27;\n",
       "Dimensions without coordinates: prior_draws\n",
       "Data variables:\n",
       "    slack_comments_hat  (prior_draws, chain, draw, developer) float64 -60.35 ...\n",
       "    github_commits_hat  (prior_draws, chain, draw, developer) float64 73.82 ....\n",
       "Attributes:\n",
       "    created_at:                 2022-11-10T02:19:08.671296\n",
       "    arviz_version:              0.13.0\n",
       "    inference_library:          cmdstanpy\n",
       "    inference_library_version:  1.0.8</pre><div class='xr-wrap' style='display:none'><div class='xr-header'><div class='xr-obj-type'>xarray.Dataset</div></div><ul class='xr-sections'><li class='xr-section-item'><input id='section-53d5c3a6-aea8-4879-845d-1a75c5d3da40' class='xr-section-summary-in' type='checkbox' disabled ><label for='section-53d5c3a6-aea8-4879-845d-1a75c5d3da40' class='xr-section-summary'  title='Expand/collapse section'>Dimensions:</label><div class='xr-section-inline-details'><ul class='xr-dim-list'><li><span class='xr-has-index'>chain</span>: 4</li><li><span class='xr-has-index'>draw</span>: 1000</li><li><span class='xr-has-index'>developer</span>: 5</li><li><span>prior_draws</span>: 200</li></ul></div><div class='xr-section-details'></div></li><li class='xr-section-item'><input id='section-8a4f9e09-9e3d-46cf-8875-2bd1b3b9aeef' class='xr-section-summary-in' type='checkbox'  checked><label for='section-8a4f9e09-9e3d-46cf-8875-2bd1b3b9aeef' class='xr-section-summary' >Coordinates: <span>(3)</span></label><div class='xr-section-inline-details'></div><div class='xr-section-details'><ul class='xr-var-list'><li class='xr-var-item'><div class='xr-var-name'><span class='xr-has-index'>chain</span></div><div class='xr-var-dims'>(chain)</div><div class='xr-var-dtype'>int64</div><div class='xr-var-preview xr-preview'>0 1 2 3</div><input id='attrs-d152f6ab-61c4-47ff-a5a7-d2500ab54049' class='xr-var-attrs-in' type='checkbox' disabled><label for='attrs-d152f6ab-61c4-47ff-a5a7-d2500ab54049' title='Show/Hide attributes'><svg class='icon xr-icon-file-text2'><use xlink:href='#icon-file-text2'></use></svg></label><input id='data-021b4c26-ad8b-4cff-9043-4ba522d2e0c4' class='xr-var-data-in' type='checkbox'><label for='data-021b4c26-ad8b-4cff-9043-4ba522d2e0c4' title='Show/Hide data repr'><svg class='icon xr-icon-database'><use xlink:href='#icon-database'></use></svg></label><div class='xr-var-attrs'><dl class='xr-attrs'></dl></div><div class='xr-var-data'><pre>array([0, 1, 2, 3])</pre></div></li><li class='xr-var-item'><div class='xr-var-name'><span class='xr-has-index'>draw</span></div><div class='xr-var-dims'>(draw)</div><div class='xr-var-dtype'>int64</div><div class='xr-var-preview xr-preview'>0 1 2 3 4 5 ... 995 996 997 998 999</div><input id='attrs-abdbd5eb-4a91-456f-9d92-538d4b3c4df6' class='xr-var-attrs-in' type='checkbox' disabled><label for='attrs-abdbd5eb-4a91-456f-9d92-538d4b3c4df6' title='Show/Hide attributes'><svg class='icon xr-icon-file-text2'><use xlink:href='#icon-file-text2'></use></svg></label><input id='data-ceea456e-8858-4e6c-b959-aa3570383351' class='xr-var-data-in' type='checkbox'><label for='data-ceea456e-8858-4e6c-b959-aa3570383351' title='Show/Hide data repr'><svg class='icon xr-icon-database'><use xlink:href='#icon-database'></use></svg></label><div class='xr-var-attrs'><dl class='xr-attrs'></dl></div><div class='xr-var-data'><pre>array([  0,   1,   2, ..., 997, 998, 999])</pre></div></li><li class='xr-var-item'><div class='xr-var-name'><span class='xr-has-index'>developer</span></div><div class='xr-var-dims'>(developer)</div><div class='xr-var-dtype'>object</div><div class='xr-var-preview xr-preview'>&#x27;Alice&#x27; &#x27;Bob&#x27; ... &#x27;Erika&#x27;</div><input id='attrs-8e075cf1-4982-43df-aa4e-0a2a2b0b2b22' class='xr-var-attrs-in' type='checkbox' disabled><label for='attrs-8e075cf1-4982-43df-aa4e-0a2a2b0b2b22' title='Show/Hide attributes'><svg class='icon xr-icon-file-text2'><use xlink:href='#icon-file-text2'></use></svg></label><input id='data-a83c9fcd-b06c-4ff8-b47d-ec9d418aeb20' class='xr-var-data-in' type='checkbox'><label for='data-a83c9fcd-b06c-4ff8-b47d-ec9d418aeb20' title='Show/Hide data repr'><svg class='icon xr-icon-database'><use xlink:href='#icon-database'></use></svg></label><div class='xr-var-attrs'><dl class='xr-attrs'></dl></div><div class='xr-var-data'><pre>array([&#x27;Alice&#x27;, &#x27;Bob&#x27;, &#x27;Cole&#x27;, &#x27;Danielle&#x27;, &#x27;Erika&#x27;], dtype=object)</pre></div></li></ul></div></li><li class='xr-section-item'><input id='section-87288a56-10ca-4ea0-9ebd-d2ace582082e' class='xr-section-summary-in' type='checkbox'  checked><label for='section-87288a56-10ca-4ea0-9ebd-d2ace582082e' class='xr-section-summary' >Data variables: <span>(2)</span></label><div class='xr-section-inline-details'></div><div class='xr-section-details'><ul class='xr-var-list'><li class='xr-var-item'><div class='xr-var-name'><span>slack_comments_hat</span></div><div class='xr-var-dims'>(prior_draws, chain, draw, developer)</div><div class='xr-var-dtype'>float64</div><div class='xr-var-preview xr-preview'>-60.35 610.8 ... 4.696e+03</div><input id='attrs-73b98a9a-e479-472b-b062-79ec10a05096' class='xr-var-attrs-in' type='checkbox' disabled><label for='attrs-73b98a9a-e479-472b-b062-79ec10a05096' title='Show/Hide attributes'><svg class='icon xr-icon-file-text2'><use xlink:href='#icon-file-text2'></use></svg></label><input id='data-bd5a050e-0d25-47d2-b591-d6a9b1db5829' class='xr-var-data-in' type='checkbox'><label for='data-bd5a050e-0d25-47d2-b591-d6a9b1db5829' title='Show/Hide data repr'><svg class='icon xr-icon-database'><use xlink:href='#icon-database'></use></svg></label><div class='xr-var-attrs'><dl class='xr-attrs'></dl></div><div class='xr-var-data'><pre>array([[[[  -60.3487,   610.844 ,   791.666 ,  1064.94  ,  1494.43  ],\n",
       "         [  220.394 ,  1354.65  ,  1757.22  ,  1894.55  ,  2002.4   ],\n",
       "         [  308.254 ,  -550.124 ,  1160.76  ,   696.612 ,  2183.5   ],\n",
       "         ...,\n",
       "         [  428.907 ,   758.856 ,   160.924 ,  1425.71  ,  1597.49  ],\n",
       "         [  388.22  ,   742.059 ,   874.397 ,   730.73  ,  1816.27  ],\n",
       "         [  458.88  ,   472.87  ,   816.037 ,  1451.7   ,  2106.76  ]],\n",
       "\n",
       "        [[   31.6002,  -431.157 ,   663.935 ,  1194.36  ,  2212.94  ],\n",
       "         [  -86.6706,   320.052 ,  1057.31  ,  1535.56  ,  2344.83  ],\n",
       "         [  972.039 ,  1389.7   ,   987.759 ,  1710.12  ,  3420.86  ],\n",
       "         ...,\n",
       "         [  969.343 ,  -261.401 ,   697.361 ,  1748.12  ,  1859.78  ],\n",
       "         [  393.046 ,   342.183 ,   723.053 ,  1334.57  ,  1128.89  ],\n",
       "         [  374.655 ,   582.141 ,   195.205 ,  1183.46  ,  1842.96  ]],\n",
       "\n",
       "        [[ -180.795 ,   729.693 ,   800.35  ,   597.325 ,  1624.16  ],\n",
       "         [  743.379 ,     7.5383,   448.197 ,  1417.84  ,  2040.69  ],\n",
       "         [  532.265 ,   528.311 ,   886.392 ,  1379.32  ,  2350.11  ],\n",
       "         ...,\n",
       "...\n",
       "         ...,\n",
       "         [ 1123.77  ,  1111.94  ,  1901.03  ,  3068.75  ,  5104.68  ],\n",
       "         [ 1241.83  ,  1030.84  ,  2185.53  ,  2748.85  ,  4789.84  ],\n",
       "         [  906.913 ,  1469.44  ,  1572.12  ,  3238.88  ,  5025.41  ]],\n",
       "\n",
       "        [[  922.664 ,  1128.62  ,  1210.5   ,  3286.73  ,  4730.64  ],\n",
       "         [ 1197.2   ,  1014.32  ,  1962.21  ,  3059.37  ,  4975.36  ],\n",
       "         [ 1095.18  ,  1552.96  ,  1132.89  ,  3801.51  ,  4588.25  ],\n",
       "         ...,\n",
       "         [  667.148 ,  1318.96  ,  1659.38  ,  3355.42  ,  5585.66  ],\n",
       "         [  936.168 ,   570.927 ,  1495.93  ,  3238.06  ,  5007.96  ],\n",
       "         [ 1462.49  ,  1545.07  ,  1452.03  ,  3405.95  ,  4502.18  ]],\n",
       "\n",
       "        [[  805.235 ,  1433.03  ,  1606.62  ,  3381.67  ,  4211.89  ],\n",
       "         [  802.196 ,  1479.56  ,  1791.98  ,  3155.3   ,  4826.76  ],\n",
       "         [  786.436 ,  1445.68  ,  1696.9   ,  2887.    ,  4300.01  ],\n",
       "         ...,\n",
       "         [  797.77  ,  1980.67  ,  1199.09  ,  3063.1   ,  3161.69  ],\n",
       "         [  828.843 ,  1511.36  ,  2210.12  ,  2427.44  ,  5059.22  ],\n",
       "         [  574.942 ,  1120.24  ,  1290.18  ,  2784.67  ,  4696.36  ]]]])</pre></div></li><li class='xr-var-item'><div class='xr-var-name'><span>github_commits_hat</span></div><div class='xr-var-dims'>(prior_draws, chain, draw, developer)</div><div class='xr-var-dtype'>float64</div><div class='xr-var-preview xr-preview'>73.82 105.2 122.8 ... -174.3 -258.3</div><input id='attrs-9298fc3b-d902-4cfb-810a-bf7b157d7c22' class='xr-var-attrs-in' type='checkbox' disabled><label for='attrs-9298fc3b-d902-4cfb-810a-bf7b157d7c22' title='Show/Hide attributes'><svg class='icon xr-icon-file-text2'><use xlink:href='#icon-file-text2'></use></svg></label><input id='data-5792e6e8-5900-4550-aafd-5db462ff01a0' class='xr-var-data-in' type='checkbox'><label for='data-5792e6e8-5900-4550-aafd-5db462ff01a0' title='Show/Hide data repr'><svg class='icon xr-icon-database'><use xlink:href='#icon-database'></use></svg></label><div class='xr-var-attrs'><dl class='xr-attrs'></dl></div><div class='xr-var-data'><pre>array([[[[  73.8178 ,  105.24   ,  122.777  ,  218.924  ,  330.795  ],\n",
       "         [  76.8356 ,  105.683  ,  131.608  ,  210.573  ,  320.811  ],\n",
       "         [  71.5952 ,  102.632  ,  121.437  ,  208.778  ,  328.052  ],\n",
       "         ...,\n",
       "         [  89.7069 ,  101.669  ,  126.958  ,  214.438  ,  316.627  ],\n",
       "         [  80.4976 ,  102.819  ,  125.439  ,  204.479  ,  314.069  ],\n",
       "         [  79.0304 ,  109.9    ,  119.546  ,  216.355  ,  321.979  ]],\n",
       "\n",
       "        [[  67.7062 ,  106.269  ,  109.762  ,  199.565  ,  324.83   ],\n",
       "         [  82.9667 ,  114.768  ,  133.64   ,  218.559  ,  328.018  ],\n",
       "         [  77.6006 ,  106.506  ,  124.697  ,  216.694  ,  326.292  ],\n",
       "         ...,\n",
       "         [  75.6168 ,  111.012  ,  129.761  ,  210.165  ,  334.401  ],\n",
       "         [  79.7821 ,  101.505  ,  121.998  ,  219.1    ,  317.93   ],\n",
       "         [  79.1265 ,  104.441  ,  117.547  ,  217.683  ,  326.956  ]],\n",
       "\n",
       "        [[  87.7817 ,  105.051  ,  134.792  ,  198.819  ,  332.432  ],\n",
       "         [  72.5092 ,  108.719  ,  123.119  ,  214.852  ,  326.04   ],\n",
       "         [  90.028  ,  102.386  ,  120.242  ,  215.638  ,  318.677  ],\n",
       "         ...,\n",
       "...\n",
       "         ...,\n",
       "         [ -83.016  , -102.623  , -109.096  , -180.135  , -264.653  ],\n",
       "         [ -81.2569 , -100.653  , -115.308  , -182.089  , -266.915  ],\n",
       "         [ -80.1    , -100.904  , -111.594  , -182.674  , -263.276  ]],\n",
       "\n",
       "        [[ -79.6248 , -100.195  , -115.084  , -184.683  , -267.687  ],\n",
       "         [ -81.9385 , -100.795  , -117.32   , -188.007  , -275.621  ],\n",
       "         [ -78.6134 , -101.354  , -115.099  , -187.538  , -269.755  ],\n",
       "         ...,\n",
       "         [ -80.7023 ,  -99.2986 , -115.677  , -184.738  , -267.317  ],\n",
       "         [ -77.7737 , -100.751  , -113.757  , -185.602  , -270.116  ],\n",
       "         [ -82.0463 , -102.955  , -109.686  , -186.188  , -267.583  ]],\n",
       "\n",
       "        [[ -82.9715 , -103.789  , -109.04   , -186.212  , -270.432  ],\n",
       "         [ -84.4488 , -107.735  , -116.042  , -185.237  , -265.953  ],\n",
       "         [ -91.3508 , -111.153  , -111.829  , -182.694  , -266.083  ],\n",
       "         ...,\n",
       "         [ -87.2117 , -104.88   , -118.385  , -184.606  , -264.812  ],\n",
       "         [ -83.2302 , -104.586  , -117.204  , -173.601  , -267.205  ],\n",
       "         [ -79.1192 , -105.489  , -119.071  , -174.256  , -258.264  ]]]])</pre></div></li></ul></div></li><li class='xr-section-item'><input id='section-f9a25514-a27d-482f-8dbf-b5c8a166c493' class='xr-section-summary-in' type='checkbox'  ><label for='section-f9a25514-a27d-482f-8dbf-b5c8a166c493' class='xr-section-summary' >Indexes: <span>(3)</span></label><div class='xr-section-inline-details'></div><div class='xr-section-details'><ul class='xr-var-list'><li class='xr-var-item'><div class='xr-index-name'><div>chain</div></div><div class='xr-index-preview'>PandasIndex</div><div></div><input id='index-b340663a-3bc8-435d-8941-ec746462d18b' class='xr-index-data-in' type='checkbox'/><label for='index-b340663a-3bc8-435d-8941-ec746462d18b' title='Show/Hide index repr'><svg class='icon xr-icon-database'><use xlink:href='#icon-database'></use></svg></label><div class='xr-index-data'><pre>PandasIndex(Int64Index([0, 1, 2, 3], dtype=&#x27;int64&#x27;, name=&#x27;chain&#x27;))</pre></div></li><li class='xr-var-item'><div class='xr-index-name'><div>draw</div></div><div class='xr-index-preview'>PandasIndex</div><div></div><input id='index-a055e1b8-b396-4c7a-9141-f23be00ad45d' class='xr-index-data-in' type='checkbox'/><label for='index-a055e1b8-b396-4c7a-9141-f23be00ad45d' title='Show/Hide index repr'><svg class='icon xr-icon-database'><use xlink:href='#icon-database'></use></svg></label><div class='xr-index-data'><pre>PandasIndex(Int64Index([  0,   1,   2,   3,   4,   5,   6,   7,   8,   9,\n",
       "            ...\n",
       "            990, 991, 992, 993, 994, 995, 996, 997, 998, 999],\n",
       "           dtype=&#x27;int64&#x27;, name=&#x27;draw&#x27;, length=1000))</pre></div></li><li class='xr-var-item'><div class='xr-index-name'><div>developer</div></div><div class='xr-index-preview'>PandasIndex</div><div></div><input id='index-b17e570c-ef8b-468c-8f05-8e031faa27f8' class='xr-index-data-in' type='checkbox'/><label for='index-b17e570c-ef8b-468c-8f05-8e031faa27f8' title='Show/Hide index repr'><svg class='icon xr-icon-database'><use xlink:href='#icon-database'></use></svg></label><div class='xr-index-data'><pre>PandasIndex(Index([&#x27;Alice&#x27;, &#x27;Bob&#x27;, &#x27;Cole&#x27;, &#x27;Danielle&#x27;, &#x27;Erika&#x27;], dtype=&#x27;object&#x27;, name=&#x27;developer&#x27;))</pre></div></li></ul></div></li><li class='xr-section-item'><input id='section-9e0f15da-fa98-41b8-ad98-4889232e2311' class='xr-section-summary-in' type='checkbox'  checked><label for='section-9e0f15da-fa98-41b8-ad98-4889232e2311' class='xr-section-summary' >Attributes: <span>(4)</span></label><div class='xr-section-inline-details'></div><div class='xr-section-details'><dl class='xr-attrs'><dt><span>created_at :</span></dt><dd>2022-11-10T02:19:08.671296</dd><dt><span>arviz_version :</span></dt><dd>0.13.0</dd><dt><span>inference_library :</span></dt><dd>cmdstanpy</dd><dt><span>inference_library_version :</span></dt><dd>1.0.8</dd></dl></div></li></ul></div></div><br></div>\n",
       "                      </ul>\n",
       "                  </div>\n",
       "            </li>\n",
       "            \n",
       "              </ul>\n",
       "            </div>\n",
       "            <style> /* CSS stylesheet for displaying InferenceData objects in jupyterlab.\n",
       " *\n",
       " */\n",
       "\n",
       ":root {\n",
       "  --xr-font-color0: var(--jp-content-font-color0, rgba(0, 0, 0, 1));\n",
       "  --xr-font-color2: var(--jp-content-font-color2, rgba(0, 0, 0, 0.54));\n",
       "  --xr-font-color3: var(--jp-content-font-color3, rgba(0, 0, 0, 0.38));\n",
       "  --xr-border-color: var(--jp-border-color2, #e0e0e0);\n",
       "  --xr-disabled-color: var(--jp-layout-color3, #bdbdbd);\n",
       "  --xr-background-color: var(--jp-layout-color0, white);\n",
       "  --xr-background-color-row-even: var(--jp-layout-color1, white);\n",
       "  --xr-background-color-row-odd: var(--jp-layout-color2, #eeeeee);\n",
       "}\n",
       "\n",
       "html[theme=dark],\n",
       "body.vscode-dark {\n",
       "  --xr-font-color0: rgba(255, 255, 255, 1);\n",
       "  --xr-font-color2: rgba(255, 255, 255, 0.54);\n",
       "  --xr-font-color3: rgba(255, 255, 255, 0.38);\n",
       "  --xr-border-color: #1F1F1F;\n",
       "  --xr-disabled-color: #515151;\n",
       "  --xr-background-color: #111111;\n",
       "  --xr-background-color-row-even: #111111;\n",
       "  --xr-background-color-row-odd: #313131;\n",
       "}\n",
       "\n",
       ".xr-wrap {\n",
       "  display: block;\n",
       "  min-width: 300px;\n",
       "  max-width: 700px;\n",
       "}\n",
       "\n",
       ".xr-text-repr-fallback {\n",
       "  /* fallback to plain text repr when CSS is not injected (untrusted notebook) */\n",
       "  display: none;\n",
       "}\n",
       "\n",
       ".xr-header {\n",
       "  padding-top: 6px;\n",
       "  padding-bottom: 6px;\n",
       "  margin-bottom: 4px;\n",
       "  border-bottom: solid 1px var(--xr-border-color);\n",
       "}\n",
       "\n",
       ".xr-header > div,\n",
       ".xr-header > ul {\n",
       "  display: inline;\n",
       "  margin-top: 0;\n",
       "  margin-bottom: 0;\n",
       "}\n",
       "\n",
       ".xr-obj-type,\n",
       ".xr-array-name {\n",
       "  margin-left: 2px;\n",
       "  margin-right: 10px;\n",
       "}\n",
       "\n",
       ".xr-obj-type {\n",
       "  color: var(--xr-font-color2);\n",
       "}\n",
       "\n",
       ".xr-sections {\n",
       "  padding-left: 0 !important;\n",
       "  display: grid;\n",
       "  grid-template-columns: 150px auto auto 1fr 20px 20px;\n",
       "}\n",
       "\n",
       ".xr-sections.group-sections {\n",
       "  grid-template-columns: auto;\n",
       "}\n",
       "\n",
       ".xr-section-item {\n",
       "  display: contents;\n",
       "}\n",
       "\n",
       ".xr-section-item input {\n",
       "  display: none;\n",
       "}\n",
       "\n",
       ".xr-section-item input + label {\n",
       "  color: var(--xr-disabled-color);\n",
       "}\n",
       "\n",
       ".xr-section-item input:enabled + label {\n",
       "  cursor: pointer;\n",
       "  color: var(--xr-font-color2);\n",
       "}\n",
       "\n",
       ".xr-section-item input:enabled + label:hover {\n",
       "  color: var(--xr-font-color0);\n",
       "}\n",
       "\n",
       ".xr-section-summary {\n",
       "  grid-column: 1;\n",
       "  color: var(--xr-font-color2);\n",
       "  font-weight: 500;\n",
       "}\n",
       "\n",
       ".xr-section-summary > span {\n",
       "  display: inline-block;\n",
       "  padding-left: 0.5em;\n",
       "}\n",
       "\n",
       ".xr-section-summary-in:disabled + label {\n",
       "  color: var(--xr-font-color2);\n",
       "}\n",
       "\n",
       ".xr-section-summary-in + label:before {\n",
       "  display: inline-block;\n",
       "  content: '►';\n",
       "  font-size: 11px;\n",
       "  width: 15px;\n",
       "  text-align: center;\n",
       "}\n",
       "\n",
       ".xr-section-summary-in:disabled + label:before {\n",
       "  color: var(--xr-disabled-color);\n",
       "}\n",
       "\n",
       ".xr-section-summary-in:checked + label:before {\n",
       "  content: '▼';\n",
       "}\n",
       "\n",
       ".xr-section-summary-in:checked + label > span {\n",
       "  display: none;\n",
       "}\n",
       "\n",
       ".xr-section-summary,\n",
       ".xr-section-inline-details {\n",
       "  padding-top: 4px;\n",
       "  padding-bottom: 4px;\n",
       "}\n",
       "\n",
       ".xr-section-inline-details {\n",
       "  grid-column: 2 / -1;\n",
       "}\n",
       "\n",
       ".xr-section-details {\n",
       "  display: none;\n",
       "  grid-column: 1 / -1;\n",
       "  margin-bottom: 5px;\n",
       "}\n",
       "\n",
       ".xr-section-summary-in:checked ~ .xr-section-details {\n",
       "  display: contents;\n",
       "}\n",
       "\n",
       ".xr-array-wrap {\n",
       "  grid-column: 1 / -1;\n",
       "  display: grid;\n",
       "  grid-template-columns: 20px auto;\n",
       "}\n",
       "\n",
       ".xr-array-wrap > label {\n",
       "  grid-column: 1;\n",
       "  vertical-align: top;\n",
       "}\n",
       "\n",
       ".xr-preview {\n",
       "  color: var(--xr-font-color3);\n",
       "}\n",
       "\n",
       ".xr-array-preview,\n",
       ".xr-array-data {\n",
       "  padding: 0 5px !important;\n",
       "  grid-column: 2;\n",
       "}\n",
       "\n",
       ".xr-array-data,\n",
       ".xr-array-in:checked ~ .xr-array-preview {\n",
       "  display: none;\n",
       "}\n",
       "\n",
       ".xr-array-in:checked ~ .xr-array-data,\n",
       ".xr-array-preview {\n",
       "  display: inline-block;\n",
       "}\n",
       "\n",
       ".xr-dim-list {\n",
       "  display: inline-block !important;\n",
       "  list-style: none;\n",
       "  padding: 0 !important;\n",
       "  margin: 0;\n",
       "}\n",
       "\n",
       ".xr-dim-list li {\n",
       "  display: inline-block;\n",
       "  padding: 0;\n",
       "  margin: 0;\n",
       "}\n",
       "\n",
       ".xr-dim-list:before {\n",
       "  content: '(';\n",
       "}\n",
       "\n",
       ".xr-dim-list:after {\n",
       "  content: ')';\n",
       "}\n",
       "\n",
       ".xr-dim-list li:not(:last-child):after {\n",
       "  content: ',';\n",
       "  padding-right: 5px;\n",
       "}\n",
       "\n",
       ".xr-has-index {\n",
       "  font-weight: bold;\n",
       "}\n",
       "\n",
       ".xr-var-list,\n",
       ".xr-var-item {\n",
       "  display: contents;\n",
       "}\n",
       "\n",
       ".xr-var-item > div,\n",
       ".xr-var-item label,\n",
       ".xr-var-item > .xr-var-name span {\n",
       "  background-color: var(--xr-background-color-row-even);\n",
       "  margin-bottom: 0;\n",
       "}\n",
       "\n",
       ".xr-var-item > .xr-var-name:hover span {\n",
       "  padding-right: 5px;\n",
       "}\n",
       "\n",
       ".xr-var-list > li:nth-child(odd) > div,\n",
       ".xr-var-list > li:nth-child(odd) > label,\n",
       ".xr-var-list > li:nth-child(odd) > .xr-var-name span {\n",
       "  background-color: var(--xr-background-color-row-odd);\n",
       "}\n",
       "\n",
       ".xr-var-name {\n",
       "  grid-column: 1;\n",
       "}\n",
       "\n",
       ".xr-var-dims {\n",
       "  grid-column: 2;\n",
       "}\n",
       "\n",
       ".xr-var-dtype {\n",
       "  grid-column: 3;\n",
       "  text-align: right;\n",
       "  color: var(--xr-font-color2);\n",
       "}\n",
       "\n",
       ".xr-var-preview {\n",
       "  grid-column: 4;\n",
       "}\n",
       "\n",
       ".xr-var-name,\n",
       ".xr-var-dims,\n",
       ".xr-var-dtype,\n",
       ".xr-preview,\n",
       ".xr-attrs dt {\n",
       "  white-space: nowrap;\n",
       "  overflow: hidden;\n",
       "  text-overflow: ellipsis;\n",
       "  padding-right: 10px;\n",
       "}\n",
       "\n",
       ".xr-var-name:hover,\n",
       ".xr-var-dims:hover,\n",
       ".xr-var-dtype:hover,\n",
       ".xr-attrs dt:hover {\n",
       "  overflow: visible;\n",
       "  width: auto;\n",
       "  z-index: 1;\n",
       "}\n",
       "\n",
       ".xr-var-attrs,\n",
       ".xr-var-data {\n",
       "  display: none;\n",
       "  background-color: var(--xr-background-color) !important;\n",
       "  padding-bottom: 5px !important;\n",
       "}\n",
       "\n",
       ".xr-var-attrs-in:checked ~ .xr-var-attrs,\n",
       ".xr-var-data-in:checked ~ .xr-var-data {\n",
       "  display: block;\n",
       "}\n",
       "\n",
       ".xr-var-data > table {\n",
       "  float: right;\n",
       "}\n",
       "\n",
       ".xr-var-name span,\n",
       ".xr-var-data,\n",
       ".xr-attrs {\n",
       "  padding-left: 25px !important;\n",
       "}\n",
       "\n",
       ".xr-attrs,\n",
       ".xr-var-attrs,\n",
       ".xr-var-data {\n",
       "  grid-column: 1 / -1;\n",
       "}\n",
       "\n",
       "dl.xr-attrs {\n",
       "  padding: 0;\n",
       "  margin: 0;\n",
       "  display: grid;\n",
       "  grid-template-columns: 125px auto;\n",
       "}\n",
       "\n",
       ".xr-attrs dt, dd {\n",
       "  padding: 0;\n",
       "  margin: 0;\n",
       "  float: left;\n",
       "  padding-right: 10px;\n",
       "  width: auto;\n",
       "}\n",
       "\n",
       ".xr-attrs dt {\n",
       "  font-weight: normal;\n",
       "  grid-column: 1;\n",
       "}\n",
       "\n",
       ".xr-attrs dt:hover span {\n",
       "  display: inline-block;\n",
       "  background: var(--xr-background-color);\n",
       "  padding-right: 10px;\n",
       "}\n",
       "\n",
       ".xr-attrs dd {\n",
       "  grid-column: 2;\n",
       "  white-space: pre-wrap;\n",
       "  word-break: break-all;\n",
       "}\n",
       "\n",
       ".xr-icon-database,\n",
       ".xr-icon-file-text2 {\n",
       "  display: inline-block;\n",
       "  vertical-align: middle;\n",
       "  width: 1em;\n",
       "  height: 1.5em !important;\n",
       "  stroke-width: 0;\n",
       "  stroke: currentColor;\n",
       "  fill: currentColor;\n",
       "}\n",
       ".xr-wrap{width:700px!important;} </style>"
      ],
      "text/plain": [
       "Inference data with groups:\n",
       "\t> posterior\n",
       "\t> prior\n",
       "\t> prior_predictive\n",
       "\t> sample_stats_prior\n",
       "\t> posterior_preditive"
      ]
     },
     "execution_count": 10,
     "metadata": {},
     "output_type": "execute_result"
    }
   ],
   "source": [
    "idata_orig"
   ]
  },
  {
   "cell_type": "markdown",
   "id": "57204fc0",
   "metadata": {},
   "source": [
    "The prior sampling code is wrong because it doesn't take the positive constraint into account, so to get things working quickly I removed the constraint in the data block. I think it is good enough for the proof of concept here. "
   ]
  },
  {
   "cell_type": "code",
   "execution_count": null,
   "id": "dd368ee1",
   "metadata": {},
   "outputs": [],
   "source": []
  }
 ],
 "metadata": {
  "kernelspec": {
   "display_name": "Python 3 (ipykernel)",
   "language": "python",
   "name": "python3"
  },
  "language_info": {
   "codemirror_mode": {
    "name": "ipython",
    "version": 3
   },
   "file_extension": ".py",
   "mimetype": "text/x-python",
   "name": "python",
   "nbconvert_exporter": "python",
   "pygments_lexer": "ipython3",
   "version": "3.9.10"
  }
 },
 "nbformat": 4,
 "nbformat_minor": 5
}
