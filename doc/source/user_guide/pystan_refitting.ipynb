{
 "cells": [
  {
   "cell_type": "markdown",
   "metadata": {},
   "source": [
    "(pystan_refitting)=\n",
    "# Refitting PyStan models with ArviZ\n",
    "\n",
    "ArviZ is backend agnostic and therefore does not sample directly. In order to take advantage of algorithms that require refitting models several times, ArviZ uses {class}`~arviz.SamplingWrapper` to convert the API of the sampling backend to a common set of functions. Hence, functions like Leave Future Out Cross Validation can be used in ArviZ independently of the sampling backend used."
   ]
  },
  {
   "cell_type": "markdown",
   "metadata": {},
   "source": [
    "Below there is one example of `SamplingWrapper` usage for PyStan exteding {class}`arviz.PyStanSamplingWrapper` which already implements some default methods targetted to PyStan.\n",
    "\n",
    "Before starting, it is important to note that PyStan cannot call the C++ functions it uses. Therefore, the **code** of the model must be slightly modified in order to be compatible with the cross validation refitting functions."
   ]
  },
  {
   "cell_type": "code",
   "execution_count": 1,
   "metadata": {},
   "outputs": [],
   "source": [
    "import arviz as az\n",
    "import pystan\n",
    "import numpy as np\n",
    "import matplotlib.pyplot as plt"
   ]
  },
  {
   "cell_type": "markdown",
   "metadata": {},
   "source": [
    "For the example we will use a linear regression."
   ]
  },
  {
   "cell_type": "code",
   "execution_count": 2,
   "metadata": {},
   "outputs": [],
   "source": [
    "np.random.seed(26)\n",
    "\n",
    "xdata = np.linspace(0, 50, 100)\n",
    "b0, b1, sigma = -2, 1, 3\n",
    "ydata = np.random.normal(loc=b1 * xdata + b0, scale=sigma)"
   ]
  },
  {
   "cell_type": "code",
   "execution_count": 3,
   "metadata": {},
   "outputs": [
    {
     "data": {
      "text/plain": [
       "[<matplotlib.lines.Line2D at 0x1258dee10>]"
      ]
     },
     "execution_count": 3,
     "metadata": {},
     "output_type": "execute_result"
    },
    {
     "data": {
      "image/png": "[encoded data removed]",
      "text/plain": [
       "<Figure size 432x288 with 1 Axes>"
      ]
     },
     "metadata": {
      "needs_background": "light"
     },
     "output_type": "display_data"
    }
   ],
   "source": [
    "plt.plot(xdata, ydata)"
   ]
  },
  {
   "cell_type": "markdown",
   "metadata": {},
   "source": [
    "Now we will write the Stan code, keeping in mind that it must be able to compute the pointwise log likelihood on excluded data, that is, data which is not used to fit the model. Thus, the backbone of the code must look like:\n",
    "\n",
    "```\n",
    "data {\n",
    "    data_for_fitting\n",
    "    excluded_data\n",
    "    ...\n",
    "}\n",
    "model {\n",
    "    // fit against data_for_fitting\n",
    "   ...\n",
    "}\n",
    "generated quantities {\n",
    "    ....\n",
    "    log_lik for data_for_fitting\n",
    "    log_lik_excluded for excluded_data\n",
    "}\n",
    "```"
   ]
  },
  {
   "cell_type": "code",
   "execution_count": 4,
   "metadata": {},
   "outputs": [],
   "source": [
    "refit_lr_code = \"\"\"\n",
    "data {\n",
    "  // Define data for fitting\n",
    "  int<lower=0> N;\n",
    "  vector[N] x;\n",
    "  vector[N] y;\n",
    "  // Define excluded data. It will not be used when fitting.\n",
    "  int<lower=0> N_ex;\n",
    "  vector[N_ex] x_ex;\n",
    "  vector[N_ex] y_ex;\n",
    "}\n",
    "\n",
    "parameters {\n",
    "  real b0;\n",
    "  real b1;\n",
    "  real<lower=0> sigma_e;\n",
    "}\n",
    "\n",
    "model {\n",
    "  b0 ~ normal(0, 10);\n",
    "  b1 ~ normal(0, 10);\n",
    "  sigma_e ~ normal(0, 10);\n",
    "  for (i in 1:N) {\n",
    "    y[i] ~ normal(b0 + b1 * x[i], sigma_e);  // use only data for fitting\n",
    "  }\n",
    "  \n",
    "}\n",
    "\n",
    "generated quantities {\n",
    "    vector[N] log_lik;\n",
    "    vector[N_ex] log_lik_ex;\n",
    "    vector[N] y_hat;\n",
    "    \n",
    "    for (i in 1:N) {\n",
    "        // calculate log likelihood and posterior predictive, there are \n",
    "        // no restrictions on adding more generated quantities\n",
    "        log_lik[i] = normal_lpdf(y[i] | b0 + b1 * x[i], sigma_e);\n",
    "        y_hat[i] = normal_rng(b0 + b1 * x[i], sigma_e);\n",
    "    }\n",
    "    for (j in 1:N_ex) {\n",
    "        // calculate the log likelihood of the exluded data given data_for_fitting\n",
    "        log_lik_ex[j] = normal_lpdf(y_ex[j] | b0 + b1 * x_ex[j], sigma_e);\n",
    "    }\n",
    "}\n",
    "\"\"\""
   ]
  },
  {
   "cell_type": "code",
   "execution_count": 5,
   "metadata": {},
   "outputs": [
    {
     "name": "stderr",
     "output_type": "stream",
     "text": [
      "INFO:pystan:COMPILING THE C++ CODE FOR MODEL anon_model_4275bea8cf61cb4b45f01fa01c73d194 NOW.\n"
     ]
    }
   ],
   "source": [
    "sm = pystan.StanModel(model_code=refit_lr_code)"
   ]
  },
  {
   "cell_type": "code",
   "execution_count": 6,
   "metadata": {},
   "outputs": [],
   "source": [
    "data_dict = {\n",
    "    \"N\": len(ydata),\n",
    "    \"y\": ydata,\n",
    "    \"x\": xdata,\n",
    "    # No excluded data in initial fit\n",
    "    \"N_ex\": 0,\n",
    "    \"x_ex\": [],\n",
    "    \"y_ex\": [],\n",
    "}\n",
    "sample_kwargs = {\"iter\": 1000, \"chains\": 4}\n",
    "fit = sm.sampling(data=data_dict, **sample_kwargs)"
   ]
  },
  {
   "cell_type": "markdown",
   "metadata": {},
   "source": [
    "We have defined a dictionary `sample_kwargs` that will be passed to the `SamplingWrapper` in order to make sure that all\n",
    "refits use the same sampler parameters. We follow the same pattern with `az.from_pystan`."
   ]
  },
  {
   "cell_type": "code",
   "execution_count": 7,
   "metadata": {},
   "outputs": [],
   "source": [
    "dims = {\"y\": [\"time\"], \"x\": [\"time\"], \"log_likelihood\": [\"time\"], \"y_hat\": [\"time\"]}\n",
    "idata_kwargs = {\n",
    "    \"posterior_predictive\": [\"y_hat\"],\n",
    "    \"observed_data\": \"y\",\n",
    "    \"constant_data\": \"x\",\n",
    "    \"log_likelihood\": [\"log_lik\", \"log_lik_ex\"],\n",
    "    \"dims\": dims,\n",
    "}\n",
    "idata = az.from_pystan(posterior=fit, **idata_kwargs)"
   ]
  },
  {
   "cell_type": "markdown",
   "metadata": {},
   "source": [
    "We will create a subclass of {class}`~arviz.PyStanSamplingWrapper`. Therefore, instead of having to implement all functions required by {func}`~arviz.reloo` we only have to implement `sel_observations`. As explained in its docs, it takes one argument which are the indices of the data to be excluded and returns `modified_observed_data` which is passed as `data` to `sampling` function of PyStan model and `excluded_observed_data` which is used to retrieve the log likelihood of the excluded data (as passing the excluded data would make no sense)."
   ]
  },
  {
   "cell_type": "code",
   "execution_count": 8,
   "metadata": {},
   "outputs": [],
   "source": [
    "class LinearRegressionWrapper(az.PyStanSamplingWrapper):\n",
    "    def sel_observations(self, idx):\n",
    "        xdata = self.idata_orig.constant_data.x.values\n",
    "        ydata = self.idata_orig.observed_data.y.values\n",
    "        mask = np.full_like(xdata, True, dtype=bool)\n",
    "        mask[idx] = False\n",
    "        N_obs = len(mask)\n",
    "        N_ex = np.sum(~mask)\n",
    "        observations = {\n",
    "            \"N\": N_obs - N_ex,\n",
    "            \"x\": xdata[mask],\n",
    "            \"y\": ydata[mask],\n",
    "            \"N_ex\": N_ex,\n",
    "            \"x_ex\": xdata[~mask],\n",
    "            \"y_ex\": ydata[~mask],\n",
    "        }\n",
    "        return observations, \"log_lik_ex\""
   ]
  },
  {
   "cell_type": "code",
   "execution_count": 9,
   "metadata": {},
   "outputs": [
    {
     "data": {
      "text/plain": [
       "Computed from 2000 by 100 log-likelihood matrix\n",
       "\n",
       "         Estimate       SE\n",
       "elpd_loo  -250.66     7.17\n",
       "p_loo        2.85        -\n",
       "------\n",
       "\n",
       "Pareto k diagnostic values:\n",
       "                         Count   Pct.\n",
       "(-Inf, 0.5]   (good)      100  100.0%\n",
       " (0.5, 0.7]   (ok)          0    0.0%\n",
       "   (0.7, 1]   (bad)         0    0.0%\n",
       "   (1, Inf)   (very bad)    0    0.0%\n",
       "\n",
       "\n",
       "The scale is now log by default. Use 'scale' argument or 'stats.ic_scale' rcParam if\n",
       "you rely on a specific value.\n",
       "A higher log-score (or a lower deviance) indicates a model with better predictive\n",
       "accuracy."
      ]
     },
     "execution_count": 9,
     "metadata": {},
     "output_type": "execute_result"
    }
   ],
   "source": [
    "loo_orig = az.loo(idata, pointwise=True)\n",
    "loo_orig"
   ]
  },
  {
   "cell_type": "markdown",
   "metadata": {},
   "source": [
    "In this case, the Leave-One-Out Cross Validation (LOO-CV) approximation using Pareto Smoothed Importance Sampling (PSIS) works for all observations, so we will use modify `loo_orig` in order to make {func}`~arviz.reloo` believe that PSIS failed for some observations. This will also serve as a validation of our wrapper, as the PSIS LOO-CV already returned the correct value."
   ]
  },
  {
   "cell_type": "code",
   "execution_count": 10,
   "metadata": {},
   "outputs": [],
   "source": [
    "loo_orig.pareto_k[[13, 42, 56, 73]] = np.array([0.8, 1.2, 2.6, 0.9])"
   ]
  },
  {
   "cell_type": "markdown",
   "metadata": {},
   "source": [
    "We initialize our sampling wrapper"
   ]
  },
  {
   "cell_type": "code",
   "execution_count": 11,
   "metadata": {},
   "outputs": [],
   "source": [
    "pystan_wrapper = LinearRegressionWrapper(\n",
    "    sm, idata_orig=idata, sample_kwargs=sample_kwargs, idata_kwargs=idata_kwargs\n",
    ")"
   ]
  },
  {
   "cell_type": "markdown",
   "metadata": {},
   "source": [
    "And eventually, we can use this wrapper to call `az.reloo`, and compare the results with the PSIS LOO-CV results."
   ]
  },
  {
   "cell_type": "code",
   "execution_count": 12,
   "metadata": {},
   "outputs": [
    {
     "name": "stderr",
     "output_type": "stream",
     "text": [
      "/Users/percy/anaconda3/envs/arviz/lib/python3.6/site-packages/arviz/stats/stats_refitting.py:98: UserWarning: reloo is an experimental and untested feature\n",
      "  warnings.warn(\"reloo is an experimental and untested feature\", UserWarning)\n",
      "arviz.stats.stats_refitting - INFO - Refitting model excluding observation 13\n",
      "INFO:arviz.stats.stats_refitting:Refitting model excluding observation 13\n",
      "arviz.stats.stats_refitting - INFO - Refitting model excluding observation 42\n",
      "INFO:arviz.stats.stats_refitting:Refitting model excluding observation 42\n",
      "arviz.stats.stats_refitting - INFO - Refitting model excluding observation 56\n",
      "INFO:arviz.stats.stats_refitting:Refitting model excluding observation 56\n",
      "arviz.stats.stats_refitting - INFO - Refitting model excluding observation 73\n",
      "INFO:arviz.stats.stats_refitting:Refitting model excluding observation 73\n"
     ]
    }
   ],
   "source": [
    "loo_relooed = az.reloo(pystan_wrapper, loo_orig=loo_orig)"
   ]
  },
  {
   "cell_type": "code",
   "execution_count": 13,
   "metadata": {},
   "outputs": [
    {
     "data": {
      "text/plain": [
       "Computed from 2000 by 100 log-likelihood matrix\n",
       "\n",
       "         Estimate       SE\n",
       "elpd_loo  -250.67     7.17\n",
       "p_loo        2.86        -\n",
       "------\n",
       "\n",
       "Pareto k diagnostic values:\n",
       "                         Count   Pct.\n",
       "(-Inf, 0.5]   (good)      100  100.0%\n",
       " (0.5, 0.7]   (ok)          0    0.0%\n",
       "   (0.7, 1]   (bad)         0    0.0%\n",
       "   (1, Inf)   (very bad)    0    0.0%\n",
       "\n",
       "\n",
       "The scale is now log by default. Use 'scale' argument or 'stats.ic_scale' rcParam if\n",
       "you rely on a specific value.\n",
       "A higher log-score (or a lower deviance) indicates a model with better predictive\n",
       "accuracy."
      ]
     },
     "execution_count": 13,
     "metadata": {},
     "output_type": "execute_result"
    }
   ],
   "source": [
    "loo_relooed"
   ]
  },
  {
   "cell_type": "code",
   "execution_count": 14,
   "metadata": {},
   "outputs": [
    {
     "data": {
      "text/plain": [
       "Computed from 2000 by 100 log-likelihood matrix\n",
       "\n",
       "         Estimate       SE\n",
       "elpd_loo  -250.66     7.17\n",
       "p_loo        2.85        -\n",
       "------\n",
       "\n",
       "Pareto k diagnostic values:\n",
       "                         Count   Pct.\n",
       "(-Inf, 0.5]   (good)       96   96.0%\n",
       " (0.5, 0.7]   (ok)          0    0.0%\n",
       "   (0.7, 1]   (bad)         2    2.0%\n",
       "   (1, Inf)   (very bad)    2    2.0%\n",
       "\n",
       "\n",
       "The scale is now log by default. Use 'scale' argument or 'stats.ic_scale' rcParam if\n",
       "you rely on a specific value.\n",
       "A higher log-score (or a lower deviance) indicates a model with better predictive\n",
       "accuracy."
      ]
     },
     "execution_count": 14,
     "metadata": {},
     "output_type": "execute_result"
    }
   ],
   "source": [
    "loo_orig"
   ]
  }
 ],
 "metadata": {
  "kernelspec": {
   "display_name": "Python 3",
   "language": "python",
   "name": "python3"
  },
  "language_info": {
   "codemirror_mode": {
    "name": "ipython",
    "version": 3
   },
   "file_extension": ".py",
   "mimetype": "text/x-python",
   "name": "python",
   "nbconvert_exporter": "python",
   "pygments_lexer": "ipython3",
   "version": "3.8.5"
  }
 },
 "nbformat": 4,
 "nbformat_minor": 2
}
