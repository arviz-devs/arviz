{
 "cells": [
  {
   "cell_type": "markdown",
   "metadata": {},
   "source": [
    "# Example of `InferenceData` schema in PyStan\n",
    "The description of the `InferenceData` structure can be found in [GitHub](https://github.com/arviz-devs/arviz/blob/master/schema.md)."
   ]
  },
  {
   "cell_type": "code",
   "execution_count": 1,
   "metadata": {},
   "outputs": [],
   "source": [
    "import arviz as az\n",
    "import pystan\n",
    "import pandas as pd\n",
    "import numpy as np\n",
    "import xarray\n",
    "# xarray.set_options(display_style=\"html\");"
   ]
  },
  {
   "cell_type": "code",
   "execution_count": 2,
   "metadata": {},
   "outputs": [
    {
     "data": {
      "text/html": [
       "<div>\n",
       "<style scoped>\n",
       "    .dataframe tbody tr th:only-of-type {\n",
       "        vertical-align: middle;\n",
       "    }\n",
       "\n",
       "    .dataframe tbody tr th {\n",
       "        vertical-align: top;\n",
       "    }\n",
       "\n",
       "    .dataframe thead th {\n",
       "        text-align: right;\n",
       "    }\n",
       "</style>\n",
       "<table border=\"1\" class=\"dataframe\">\n",
       "  <thead>\n",
       "    <tr style=\"text-align: right;\">\n",
       "      <th></th>\n",
       "      <th>comments</th>\n",
       "      <th>time</th>\n",
       "    </tr>\n",
       "  </thead>\n",
       "  <tbody>\n",
       "    <tr>\n",
       "      <th>Alice</th>\n",
       "      <td>7500</td>\n",
       "      <td>4.5</td>\n",
       "    </tr>\n",
       "    <tr>\n",
       "      <th>Bob</th>\n",
       "      <td>10100</td>\n",
       "      <td>6.0</td>\n",
       "    </tr>\n",
       "    <tr>\n",
       "      <th>Cole</th>\n",
       "      <td>18600</td>\n",
       "      <td>7.0</td>\n",
       "    </tr>\n",
       "    <tr>\n",
       "      <th>Danielle</th>\n",
       "      <td>25200</td>\n",
       "      <td>12.0</td>\n",
       "    </tr>\n",
       "    <tr>\n",
       "      <th>Erika</th>\n",
       "      <td>27500</td>\n",
       "      <td>18.0</td>\n",
       "    </tr>\n",
       "  </tbody>\n",
       "</table>\n",
       "</div>"
      ],
      "text/plain": [
       "          comments  time\n",
       "Alice         7500   4.5\n",
       "Bob          10100   6.0\n",
       "Cole         18600   7.0\n",
       "Danielle     25200  12.0\n",
       "Erika        27500  18.0"
      ]
     },
     "execution_count": 2,
     "metadata": {},
     "output_type": "execute_result"
    }
   ],
   "source": [
    "#read data\n",
    "data = pd.read_csv(\"linear_regression_data.csv\", index_col=0)\n",
    "time_since_joined = data.time.values\n",
    "slack_comments = data.comments.values\n",
    "names = data.index.values\n",
    "N = len(names)\n",
    "data"
   ]
  },
  {
   "cell_type": "code",
   "execution_count": 3,
   "metadata": {},
   "outputs": [
    {
     "name": "stderr",
     "output_type": "stream",
     "text": [
      "INFO:pystan:COMPILING THE C++ CODE FOR MODEL anon_model_b2d530337b2d60d5322cb10cbc01e530 NOW.\n"
     ]
    }
   ],
   "source": [
    "linreg_prior_code = \"\"\"\n",
    "data {\n",
    "  int<lower=0> N;\n",
    "  real time_since_joined[N];\n",
    "}\n",
    "\n",
    "generated quantities {\n",
    "    real b0;\n",
    "    real b1;\n",
    "    real log_sigma;\n",
    "    real<lower=0> sigma;\n",
    "    vector[N] slack_comments_hat;\n",
    "    \n",
    "    b0 = normal_rng(0,10);\n",
    "    b1 = normal_rng(0,10);\n",
    "    sigma = abs(normal_rng(0,30));\n",
    "    log_sigma = log(sigma);\n",
    "    for (i in 1:N) {\n",
    "        slack_comments_hat[i] = normal_rng(b0 + b1 * time_since_joined[i], sigma);\n",
    "    }\n",
    "}\n",
    "\"\"\"\n",
    "sm_prior = pystan.StanModel(model_code=linreg_prior_code)"
   ]
  },
  {
   "cell_type": "code",
   "execution_count": 4,
   "metadata": {},
   "outputs": [],
   "source": [
    "linreg_prior_data_dict = {\"N\": N, \"time_since_joined\": time_since_joined}\n",
    "prior = sm_prior.sampling(data=linreg_prior_data_dict, iter=150, chains=1, algorithm='Fixed_param', warmup=0)"
   ]
  },
  {
   "cell_type": "code",
   "execution_count": 5,
   "metadata": {},
   "outputs": [
    {
     "name": "stderr",
     "output_type": "stream",
     "text": [
      "INFO:pystan:COMPILING THE C++ CODE FOR MODEL anon_model_13939a7ccc2875c5ec3f9d016bdf59f1 NOW.\n"
     ]
    }
   ],
   "source": [
    "linreg_code = \"\"\"\n",
    "data {\n",
    "  int<lower=0> N;\n",
    "  real time_since_joined[N];\n",
    "  real slack_comments[N];\n",
    "}\n",
    "\n",
    "parameters {\n",
    "  real b0;\n",
    "  real b1;\n",
    "  real log_sigma;\n",
    "}\n",
    "\n",
    "transformed parameters {\n",
    "  real<lower=0> sigma;\n",
    "  sigma = exp(log_sigma);\n",
    "}\n",
    "\n",
    "model {\n",
    "  b0 ~ normal(0,10);\n",
    "  b1 ~ normal(0,10);\n",
    "  sigma ~ normal(0,30);\n",
    "  for (i in 1:N) {\n",
    "    slack_comments[i] ~ normal(b0 + b1 * time_since_joined[i], sigma);\n",
    "  }\n",
    "  \n",
    "}\n",
    "\n",
    "generated quantities {\n",
    "    vector[N] log_lik;\n",
    "    vector[N] slack_comments_hat;\n",
    "    for (i in 1:N) {\n",
    "        log_lik[i] = normal_lpdf(slack_comments[i] | b0 + b1 * time_since_joined[i], sigma);\n",
    "        slack_comments_hat[i] = normal_rng(b0 + b1 * time_since_joined[i], sigma);\n",
    "    }\n",
    "}\n",
    "\"\"\"\n",
    "sm = pystan.StanModel(model_code=linreg_code)"
   ]
  },
  {
   "cell_type": "code",
   "execution_count": 6,
   "metadata": {},
   "outputs": [
    {
     "name": "stderr",
     "output_type": "stream",
     "text": [
      "WARNING:pystan:262 of 400 iterations saturated the maximum tree depth of 10 (65.5 %)\n",
      "WARNING:pystan:Run again with max_treedepth larger than 10 to avoid saturation\n"
     ]
    }
   ],
   "source": [
    "linreg_data_dict = {\"N\": N, \"slack_comments\": slack_comments, \"time_since_joined\": time_since_joined}\n",
    "posterior = sm.sampling(data=linreg_data_dict, iter=200, chains=4)"
   ]
  },
  {
   "cell_type": "code",
   "execution_count": 7,
   "metadata": {},
   "outputs": [],
   "source": [
    "idata_stan = az.from_pystan(\n",
    "    posterior=posterior,\n",
    "    prior=prior,\n",
    "    posterior_predictive=\"slack_comments_hat\",\n",
    "    prior_predictive=\"slack_comments_hat\",\n",
    "    observed_data=[\"slack_comments\"],\n",
    "    constant_data=[\"time_since_joined\"],\n",
    "    log_likelihood=\"log_lik\",\n",
    "    coords={\"developer\": names},\n",
    "    dims={\n",
    "        \"slack_comments\": [\"developer\"],\n",
    "        \"log_lik\": [\"developer\"],\n",
    "        \"slack_comments_hat\": [\"developer\"],\n",
    "        \"time_since_joined\": [\"developer\"],\n",
    "    }\n",
    ")"
   ]
  },
  {
   "cell_type": "code",
   "execution_count": 8,
   "metadata": {},
   "outputs": [
    {
     "data": {
      "text/plain": [
       "Inference data with groups:\n",
       "\t> posterior\n",
       "\t> sample_stats\n",
       "\t> posterior_predictive\n",
       "\t> prior\n",
       "\t> sample_stats_prior\n",
       "\t> prior_predictive\n",
       "\t> observed_data\n",
       "\t> constant_data"
      ]
     },
     "execution_count": 8,
     "metadata": {},
     "output_type": "execute_result"
    }
   ],
   "source": [
    "idata_stan"
   ]
  },
  {
   "cell_type": "markdown",
   "metadata": {},
   "source": [
    "In this example, each variable has as dimension a combination of the following 3: `chain`, `draw` and `developer`. Moreover, each dimension has specific coordinate values. In the case of `chain` and `draw` it is an integer identifier starting at `0`; in the case of `developer` dimension, its coordinate values are the following strings: `[\"Alice\", \"Bob\", \"Cole\", \"Danielle\", \"Erika\"]`."
   ]
  },
  {
   "cell_type": "code",
   "execution_count": 9,
   "metadata": {},
   "outputs": [
    {
     "data": {
      "text/html": [
       "<pre>&lt;xarray.Dataset&gt;\n",
       "Dimensions:    (chain: 4, draw: 100)\n",
       "Coordinates:\n",
       "  * chain      (chain) int64 0 1 2 3\n",
       "  * draw       (draw) int64 0 1 2 3 4 5 6 7 8 9 ... 91 92 93 94 95 96 97 98 99\n",
       "Data variables:\n",
       "    b0         (chain, draw) float64 -4.608 -1.423 -4.129 ... 4.576 -0.443 5.092\n",
       "    b1         (chain, draw) float64 77.9 73.76 70.86 ... 76.75 81.73 72.28\n",
       "    log_sigma  (chain, draw) float64 7.029 7.007 7.017 ... 7.026 7.025 7.003\n",
       "    sigma      (chain, draw) float64 1.129e+03 1.104e+03 ... 1.125e+03 1.1e+03\n",
       "Attributes:\n",
       "    created_at:                 2019-11-14T23:28:01.343823\n",
       "    inference_library:          pystan\n",
       "    inference_library_version:  2.19.1.1</pre>"
      ],
      "text/plain": [
       "<xarray.Dataset>\n",
       "Dimensions:    (chain: 4, draw: 100)\n",
       "Coordinates:\n",
       "  * chain      (chain) int64 0 1 2 3\n",
       "  * draw       (draw) int64 0 1 2 3 4 5 6 7 8 9 ... 91 92 93 94 95 96 97 98 99\n",
       "Data variables:\n",
       "    b0         (chain, draw) float64 -4.608 -1.423 -4.129 ... 4.576 -0.443 5.092\n",
       "    b1         (chain, draw) float64 77.9 73.76 70.86 ... 76.75 81.73 72.28\n",
       "    log_sigma  (chain, draw) float64 7.029 7.007 7.017 ... 7.026 7.025 7.003\n",
       "    sigma      (chain, draw) float64 1.129e+03 1.104e+03 ... 1.125e+03 1.1e+03\n",
       "Attributes:\n",
       "    created_at:                 2019-11-14T23:28:01.343823\n",
       "    inference_library:          pystan\n",
       "    inference_library_version:  2.19.1.1"
      ]
     },
     "execution_count": 9,
     "metadata": {},
     "output_type": "execute_result"
    }
   ],
   "source": [
    "idata_stan.posterior"
   ]
  },
  {
   "cell_type": "code",
   "execution_count": 10,
   "metadata": {},
   "outputs": [
    {
     "data": {
      "text/html": [
       "<pre>&lt;xarray.Dataset&gt;\n",
       "Dimensions:         (chain: 4, developer: 5, draw: 100)\n",
       "Coordinates:\n",
       "  * chain           (chain) int64 0 1 2 3\n",
       "  * draw            (draw) int64 0 1 2 3 4 5 6 7 8 ... 92 93 94 95 96 97 98 99\n",
       "  * developer       (developer) object &#x27;Alice&#x27; &#x27;Bob&#x27; &#x27;Cole&#x27; &#x27;Danielle&#x27; &#x27;Erika&#x27;\n",
       "Data variables:\n",
       "    accept_stat     (chain, draw) float64 0.9028 0.8348 0.9991 ... 0.9895 0.9044\n",
       "    stepsize        (chain, draw) float64 0.01667 0.01667 ... 0.01547 0.01547\n",
       "    treedepth       (chain, draw) int64 10 10 9 10 10 10 10 ... 10 10 10 2 10 10\n",
       "    n_leapfrog      (chain, draw) int64 1023 1023 883 1023 ... 1023 3 1023 1023\n",
       "    diverging       (chain, draw) bool False False False ... False False False\n",
       "    energy          (chain, draw) float64 1.46e+03 1.458e+03 ... 1.458e+03\n",
       "    log_likelihood  (chain, draw, developer) float64 -28.03 -44.39 ... -291.6\n",
       "    lp              (chain, draw) float64 -1.456e+03 -1.456e+03 ... -1.457e+03\n",
       "Attributes:\n",
       "    created_at:                 2019-11-14T23:28:01.353126\n",
       "    inference_library:          pystan\n",
       "    inference_library_version:  2.19.1.1</pre>"
      ],
      "text/plain": [
       "<xarray.Dataset>\n",
       "Dimensions:         (chain: 4, developer: 5, draw: 100)\n",
       "Coordinates:\n",
       "  * chain           (chain) int64 0 1 2 3\n",
       "  * draw            (draw) int64 0 1 2 3 4 5 6 7 8 ... 92 93 94 95 96 97 98 99\n",
       "  * developer       (developer) object 'Alice' 'Bob' 'Cole' 'Danielle' 'Erika'\n",
       "Data variables:\n",
       "    accept_stat     (chain, draw) float64 0.9028 0.8348 0.9991 ... 0.9895 0.9044\n",
       "    stepsize        (chain, draw) float64 0.01667 0.01667 ... 0.01547 0.01547\n",
       "    treedepth       (chain, draw) int64 10 10 9 10 10 10 10 ... 10 10 10 2 10 10\n",
       "    n_leapfrog      (chain, draw) int64 1023 1023 883 1023 ... 1023 3 1023 1023\n",
       "    diverging       (chain, draw) bool False False False ... False False False\n",
       "    energy          (chain, draw) float64 1.46e+03 1.458e+03 ... 1.458e+03\n",
       "    log_likelihood  (chain, draw, developer) float64 -28.03 -44.39 ... -291.6\n",
       "    lp              (chain, draw) float64 -1.456e+03 -1.456e+03 ... -1.457e+03\n",
       "Attributes:\n",
       "    created_at:                 2019-11-14T23:28:01.353126\n",
       "    inference_library:          pystan\n",
       "    inference_library_version:  2.19.1.1"
      ]
     },
     "execution_count": 10,
     "metadata": {},
     "output_type": "execute_result"
    }
   ],
   "source": [
    "idata_stan.sample_stats"
   ]
  },
  {
   "cell_type": "code",
   "execution_count": 11,
   "metadata": {},
   "outputs": [
    {
     "data": {
      "text/html": [
       "<pre>&lt;xarray.Dataset&gt;\n",
       "Dimensions:             (chain: 4, developer: 5, draw: 100)\n",
       "Coordinates:\n",
       "  * chain               (chain) int64 0 1 2 3\n",
       "  * draw                (draw) int64 0 1 2 3 4 5 6 7 ... 92 93 94 95 96 97 98 99\n",
       "  * developer           (developer) object &#x27;Alice&#x27; &#x27;Bob&#x27; ... &#x27;Danielle&#x27; &#x27;Erika&#x27;\n",
       "Data variables:\n",
       "    slack_comments_hat  (chain, draw, developer) float64 -1.232e+03 ... 539.4\n",
       "Attributes:\n",
       "    created_at:                 2019-11-14T23:28:01.358833\n",
       "    inference_library:          pystan\n",
       "    inference_library_version:  2.19.1.1</pre>"
      ],
      "text/plain": [
       "<xarray.Dataset>\n",
       "Dimensions:             (chain: 4, developer: 5, draw: 100)\n",
       "Coordinates:\n",
       "  * chain               (chain) int64 0 1 2 3\n",
       "  * draw                (draw) int64 0 1 2 3 4 5 6 7 ... 92 93 94 95 96 97 98 99\n",
       "  * developer           (developer) object 'Alice' 'Bob' ... 'Danielle' 'Erika'\n",
       "Data variables:\n",
       "    slack_comments_hat  (chain, draw, developer) float64 -1.232e+03 ... 539.4\n",
       "Attributes:\n",
       "    created_at:                 2019-11-14T23:28:01.358833\n",
       "    inference_library:          pystan\n",
       "    inference_library_version:  2.19.1.1"
      ]
     },
     "execution_count": 11,
     "metadata": {},
     "output_type": "execute_result"
    }
   ],
   "source": [
    "idata_stan.posterior_predictive"
   ]
  },
  {
   "cell_type": "code",
   "execution_count": 12,
   "metadata": {},
   "outputs": [
    {
     "data": {
      "text/html": [
       "<pre>&lt;xarray.Dataset&gt;\n",
       "Dimensions:         (developer: 5)\n",
       "Coordinates:\n",
       "  * developer       (developer) object &#x27;Alice&#x27; &#x27;Bob&#x27; &#x27;Cole&#x27; &#x27;Danielle&#x27; &#x27;Erika&#x27;\n",
       "Data variables:\n",
       "    slack_comments  (developer) int64 7500 10100 18600 25200 27500\n",
       "Attributes:\n",
       "    created_at:                 2019-11-14T23:28:01.335241\n",
       "    inference_library:          pystan\n",
       "    inference_library_version:  2.19.1.1</pre>"
      ],
      "text/plain": [
       "<xarray.Dataset>\n",
       "Dimensions:         (developer: 5)\n",
       "Coordinates:\n",
       "  * developer       (developer) object 'Alice' 'Bob' 'Cole' 'Danielle' 'Erika'\n",
       "Data variables:\n",
       "    slack_comments  (developer) int64 7500 10100 18600 25200 27500\n",
       "Attributes:\n",
       "    created_at:                 2019-11-14T23:28:01.335241\n",
       "    inference_library:          pystan\n",
       "    inference_library_version:  2.19.1.1"
      ]
     },
     "execution_count": 12,
     "metadata": {},
     "output_type": "execute_result"
    }
   ],
   "source": [
    "idata_stan.observed_data"
   ]
  },
  {
   "cell_type": "code",
   "execution_count": 13,
   "metadata": {},
   "outputs": [
    {
     "data": {
      "text/html": [
       "<pre>&lt;xarray.Dataset&gt;\n",
       "Dimensions:            (developer: 5)\n",
       "Coordinates:\n",
       "  * developer          (developer) object &#x27;Alice&#x27; &#x27;Bob&#x27; ... &#x27;Danielle&#x27; &#x27;Erika&#x27;\n",
       "Data variables:\n",
       "    time_since_joined  (developer) float64 4.5 6.0 7.0 12.0 18.0\n",
       "Attributes:\n",
       "    created_at:                 2019-11-14T23:28:01.339140\n",
       "    inference_library:          pystan\n",
       "    inference_library_version:  2.19.1.1</pre>"
      ],
      "text/plain": [
       "<xarray.Dataset>\n",
       "Dimensions:            (developer: 5)\n",
       "Coordinates:\n",
       "  * developer          (developer) object 'Alice' 'Bob' ... 'Danielle' 'Erika'\n",
       "Data variables:\n",
       "    time_since_joined  (developer) float64 4.5 6.0 7.0 12.0 18.0\n",
       "Attributes:\n",
       "    created_at:                 2019-11-14T23:28:01.339140\n",
       "    inference_library:          pystan\n",
       "    inference_library_version:  2.19.1.1"
      ]
     },
     "execution_count": 13,
     "metadata": {},
     "output_type": "execute_result"
    }
   ],
   "source": [
    "idata_stan.constant_data"
   ]
  },
  {
   "cell_type": "code",
   "execution_count": 14,
   "metadata": {},
   "outputs": [
    {
     "data": {
      "text/html": [
       "<pre>&lt;xarray.Dataset&gt;\n",
       "Dimensions:    (chain: 1, draw: 150)\n",
       "Coordinates:\n",
       "  * chain      (chain) int64 0\n",
       "  * draw       (draw) int64 0 1 2 3 4 5 6 7 ... 142 143 144 145 146 147 148 149\n",
       "Data variables:\n",
       "    b0         (chain, draw) float64 15.08 -0.5347 5.759 ... 6.636 16.74 10.35\n",
       "    b1         (chain, draw) float64 0.7568 -6.876 -9.222 ... 16.71 5.283 4.06\n",
       "    log_sigma  (chain, draw) float64 2.337 2.949 2.045 ... 2.123 3.229 2.64\n",
       "    sigma      (chain, draw) float64 10.35 19.09 7.733 ... 8.36 25.27 14.01\n",
       "Attributes:\n",
       "    created_at:                 2019-11-14T23:28:01.361860\n",
       "    inference_library:          pystan\n",
       "    inference_library_version:  2.19.1.1</pre>"
      ],
      "text/plain": [
       "<xarray.Dataset>\n",
       "Dimensions:    (chain: 1, draw: 150)\n",
       "Coordinates:\n",
       "  * chain      (chain) int64 0\n",
       "  * draw       (draw) int64 0 1 2 3 4 5 6 7 ... 142 143 144 145 146 147 148 149\n",
       "Data variables:\n",
       "    b0         (chain, draw) float64 15.08 -0.5347 5.759 ... 6.636 16.74 10.35\n",
       "    b1         (chain, draw) float64 0.7568 -6.876 -9.222 ... 16.71 5.283 4.06\n",
       "    log_sigma  (chain, draw) float64 2.337 2.949 2.045 ... 2.123 3.229 2.64\n",
       "    sigma      (chain, draw) float64 10.35 19.09 7.733 ... 8.36 25.27 14.01\n",
       "Attributes:\n",
       "    created_at:                 2019-11-14T23:28:01.361860\n",
       "    inference_library:          pystan\n",
       "    inference_library_version:  2.19.1.1"
      ]
     },
     "execution_count": 14,
     "metadata": {},
     "output_type": "execute_result"
    }
   ],
   "source": [
    "idata_stan.prior"
   ]
  },
  {
   "cell_type": "code",
   "execution_count": 15,
   "metadata": {},
   "outputs": [
    {
     "data": {
      "text/html": [
       "<pre>&lt;xarray.Dataset&gt;\n",
       "Dimensions:      (chain: 1, draw: 150)\n",
       "Coordinates:\n",
       "  * chain        (chain) int64 0\n",
       "  * draw         (draw) int64 0 1 2 3 4 5 6 7 ... 143 144 145 146 147 148 149\n",
       "Data variables:\n",
       "    accept_stat  (chain, draw) float64 0.0 0.0 0.0 0.0 0.0 ... 0.0 0.0 0.0 0.0\n",
       "    lp           (chain, draw) float64 0.0 0.0 0.0 0.0 0.0 ... 0.0 0.0 0.0 0.0\n",
       "Attributes:\n",
       "    created_at:                 2019-11-14T23:28:01.365743\n",
       "    inference_library:          pystan\n",
       "    inference_library_version:  2.19.1.1</pre>"
      ],
      "text/plain": [
       "<xarray.Dataset>\n",
       "Dimensions:      (chain: 1, draw: 150)\n",
       "Coordinates:\n",
       "  * chain        (chain) int64 0\n",
       "  * draw         (draw) int64 0 1 2 3 4 5 6 7 ... 143 144 145 146 147 148 149\n",
       "Data variables:\n",
       "    accept_stat  (chain, draw) float64 0.0 0.0 0.0 0.0 0.0 ... 0.0 0.0 0.0 0.0\n",
       "    lp           (chain, draw) float64 0.0 0.0 0.0 0.0 0.0 ... 0.0 0.0 0.0 0.0\n",
       "Attributes:\n",
       "    created_at:                 2019-11-14T23:28:01.365743\n",
       "    inference_library:          pystan\n",
       "    inference_library_version:  2.19.1.1"
      ]
     },
     "execution_count": 15,
     "metadata": {},
     "output_type": "execute_result"
    }
   ],
   "source": [
    "idata_stan.sample_stats_prior"
   ]
  },
  {
   "cell_type": "code",
   "execution_count": 16,
   "metadata": {},
   "outputs": [
    {
     "data": {
      "text/html": [
       "<pre>&lt;xarray.Dataset&gt;\n",
       "Dimensions:             (chain: 1, developer: 5, draw: 150)\n",
       "Coordinates:\n",
       "  * chain               (chain) int64 0\n",
       "  * draw                (draw) int64 0 1 2 3 4 5 6 ... 144 145 146 147 148 149\n",
       "  * developer           (developer) object &#x27;Alice&#x27; &#x27;Bob&#x27; ... &#x27;Danielle&#x27; &#x27;Erika&#x27;\n",
       "Data variables:\n",
       "    slack_comments_hat  (chain, draw, developer) float64 21.06 30.87 ... 76.26\n",
       "Attributes:\n",
       "    created_at:                 2019-11-14T23:28:01.369135\n",
       "    inference_library:          pystan\n",
       "    inference_library_version:  2.19.1.1</pre>"
      ],
      "text/plain": [
       "<xarray.Dataset>\n",
       "Dimensions:             (chain: 1, developer: 5, draw: 150)\n",
       "Coordinates:\n",
       "  * chain               (chain) int64 0\n",
       "  * draw                (draw) int64 0 1 2 3 4 5 6 ... 144 145 146 147 148 149\n",
       "  * developer           (developer) object 'Alice' 'Bob' ... 'Danielle' 'Erika'\n",
       "Data variables:\n",
       "    slack_comments_hat  (chain, draw, developer) float64 21.06 30.87 ... 76.26\n",
       "Attributes:\n",
       "    created_at:                 2019-11-14T23:28:01.369135\n",
       "    inference_library:          pystan\n",
       "    inference_library_version:  2.19.1.1"
      ]
     },
     "execution_count": 16,
     "metadata": {},
     "output_type": "execute_result"
    }
   ],
   "source": [
    "idata_stan.prior_predictive"
   ]
  },
  {
   "cell_type": "code",
   "execution_count": null,
   "metadata": {},
   "outputs": [],
   "source": []
  }
 ],
 "metadata": {
  "kernelspec": {
   "display_name": "Python 3",
   "language": "python",
   "name": "python3"
  },
  "language_info": {
   "codemirror_mode": {
    "name": "ipython",
    "version": 3
   },
   "file_extension": ".py",
   "mimetype": "text/x-python",
   "name": "python",
   "nbconvert_exporter": "python",
   "pygments_lexer": "ipython3",
   "version": "3.6.8"
  }
 },
 "nbformat": 4,
 "nbformat_minor": 2
}
