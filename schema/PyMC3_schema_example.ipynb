{
 "cells": [
  {
   "cell_type": "markdown",
   "metadata": {},
   "source": [
    "# Example of `InferenceData` schema in PyMC3\n",
    "The description of the `InferenceData` structure can be found in [GitHub](https://github.com/arviz-devs/arviz/blob/master/schema.md)."
   ]
  },
  {
   "cell_type": "code",
   "execution_count": 1,
   "metadata": {},
   "outputs": [],
   "source": [
    "import arviz as az\n",
    "import pymc3 as pm\n",
    "import pandas as pd\n",
    "import numpy as np\n",
    "import xarray\n",
    "# xarray.set_options(display_style=\"html\");"
   ]
  },
  {
   "cell_type": "code",
   "execution_count": 2,
   "metadata": {},
   "outputs": [
    {
     "data": {
      "text/html": [
       "<div>\n",
       "<style scoped>\n",
       "    .dataframe tbody tr th:only-of-type {\n",
       "        vertical-align: middle;\n",
       "    }\n",
       "\n",
       "    .dataframe tbody tr th {\n",
       "        vertical-align: top;\n",
       "    }\n",
       "\n",
       "    .dataframe thead th {\n",
       "        text-align: right;\n",
       "    }\n",
       "</style>\n",
       "<table border=\"1\" class=\"dataframe\">\n",
       "  <thead>\n",
       "    <tr style=\"text-align: right;\">\n",
       "      <th></th>\n",
       "      <th>comments</th>\n",
       "      <th>time</th>\n",
       "    </tr>\n",
       "  </thead>\n",
       "  <tbody>\n",
       "    <tr>\n",
       "      <th>Alice</th>\n",
       "      <td>7500</td>\n",
       "      <td>4.5</td>\n",
       "    </tr>\n",
       "    <tr>\n",
       "      <th>Bob</th>\n",
       "      <td>10100</td>\n",
       "      <td>6.0</td>\n",
       "    </tr>\n",
       "    <tr>\n",
       "      <th>Cole</th>\n",
       "      <td>18600</td>\n",
       "      <td>7.0</td>\n",
       "    </tr>\n",
       "    <tr>\n",
       "      <th>Danielle</th>\n",
       "      <td>25200</td>\n",
       "      <td>12.0</td>\n",
       "    </tr>\n",
       "    <tr>\n",
       "      <th>Erika</th>\n",
       "      <td>27500</td>\n",
       "      <td>18.0</td>\n",
       "    </tr>\n",
       "  </tbody>\n",
       "</table>\n",
       "</div>"
      ],
      "text/plain": [
       "          comments  time\n",
       "Alice         7500   4.5\n",
       "Bob          10100   6.0\n",
       "Cole         18600   7.0\n",
       "Danielle     25200  12.0\n",
       "Erika        27500  18.0"
      ]
     },
     "execution_count": 2,
     "metadata": {},
     "output_type": "execute_result"
    }
   ],
   "source": [
    "#read data\n",
    "data = pd.read_csv(\"linear_regression_data.csv\", index_col=0)\n",
    "time = data.time.values\n",
    "slack_comments = data.comments.values\n",
    "names = data.index.values\n",
    "N = len(names)\n",
    "data"
   ]
  },
  {
   "cell_type": "code",
   "execution_count": 3,
   "metadata": {},
   "outputs": [
    {
     "name": "stderr",
     "output_type": "stream",
     "text": [
      "Only 200 samples in chain.\n",
      "Auto-assigning NUTS sampler...\n",
      "Initializing NUTS using jitter+adapt_diag...\n",
      "Multiprocess sampling (4 chains in 4 jobs)\n",
      "NUTS: [b1, b0, sigma]\n",
      "Sampling 4 chains, 0 divergences: 100%|██████████| 2800/2800 [00:03<00:00, 834.18draws/s] \n",
      "The acceptance probability does not match the target. It is 0.9387873794290098, but should be close to 0.8. Try to increase the number of tuning steps.\n",
      "The acceptance probability does not match the target. It is 0.8838650901566877, but should be close to 0.8. Try to increase the number of tuning steps.\n",
      "The acceptance probability does not match the target. It is 0.8858350677206992, but should be close to 0.8. Try to increase the number of tuning steps.\n",
      "The acceptance probability does not match the target. It is 0.9086067598818758, but should be close to 0.8. Try to increase the number of tuning steps.\n",
      "100%|██████████| 800/800 [00:00<00:00, 1336.19it/s]\n"
     ]
    }
   ],
   "source": [
    "with pm.Model() as model:\n",
    "    time_since_joined = pm.Data(\"time_since_joined\", time)\n",
    "    \n",
    "    sigma = pm.HalfNormal('sigma', sd=30)\n",
    "    b0 = pm.Normal(\"b0\", mu=0, sd=10)\n",
    "    b1 = pm.Normal(\"b1\", mu=0, sd=10)\n",
    "    \n",
    "    pm.Normal(\"slack_comments\", mu=b0 + b1 * time_since_joined, sigma=sigma, observed=slack_comments)\n",
    "    \n",
    "    trace = pm.sample(200, chains=4)\n",
    "    posterior_predictive = pm.sample_posterior_predictive(trace)\n",
    "    prior = pm.sample_prior_predictive(150)"
   ]
  },
  {
   "cell_type": "code",
   "execution_count": 4,
   "metadata": {},
   "outputs": [],
   "source": [
    "idata_pymc3 = az.from_pymc3(\n",
    "    trace,\n",
    "    prior=prior,\n",
    "    posterior_predictive=posterior_predictive,\n",
    "    coords={\"developer\": names},\n",
    "    dims={\n",
    "        \"slack_comments\": [\"developer\"],\n",
    "        \"log_likelihood\": [\"developer\"],\n",
    "        \"time_since_joined\": [\"developer\"],\n",
    "    }\n",
    ")"
   ]
  },
  {
   "cell_type": "code",
   "execution_count": 5,
   "metadata": {},
   "outputs": [
    {
     "data": {
      "text/plain": [
       "Inference data with groups:\n",
       "\t> posterior\n",
       "\t> sample_stats\n",
       "\t> posterior_predictive\n",
       "\t> prior\n",
       "\t> observed_data\n",
       "\t> constant_data"
      ]
     },
     "execution_count": 5,
     "metadata": {},
     "output_type": "execute_result"
    }
   ],
   "source": [
    "idata_pymc3"
   ]
  },
  {
   "cell_type": "markdown",
   "metadata": {},
   "source": [
    "In this example, each variable has as dimension a combination of the following 3: `chain`, `draw` and `developer`. Moreover, each dimension has specific coordinate values. In the case of `chain` and `draw` it is an integer identifier starting at `0`; in the case of `developer` dimension, its coordinate values are the following strings: `[\"Alice\", \"Bob\", \"Cole\", \"Danielle\", \"Erika\"]`."
   ]
  },
  {
   "cell_type": "code",
   "execution_count": 6,
   "metadata": {},
   "outputs": [
    {
     "data": {
      "text/html": [
       "<pre>&lt;xarray.Dataset&gt;\n",
       "Dimensions:  (chain: 4, draw: 200)\n",
       "Coordinates:\n",
       "  * chain    (chain) int64 0 1 2 3\n",
       "  * draw     (draw) int64 0 1 2 3 4 5 6 7 8 ... 192 193 194 195 196 197 198 199\n",
       "Data variables:\n",
       "    b0       (chain, draw) float64 -3.075 18.94 17.4 15.94 ... -2.506 25.35 27.1\n",
       "    b1       (chain, draw) float64 95.89 64.52 64.21 67.26 ... 92.3 72.77 71.42\n",
       "    sigma    (chain, draw) float64 1.116e+03 1.14e+03 ... 1.113e+03 1.117e+03\n",
       "Attributes:\n",
       "    created_at:                 2019-11-14T23:26:56.083499\n",
       "    inference_library:          pymc3\n",
       "    inference_library_version:  3.7</pre>"
      ],
      "text/plain": [
       "<xarray.Dataset>\n",
       "Dimensions:  (chain: 4, draw: 200)\n",
       "Coordinates:\n",
       "  * chain    (chain) int64 0 1 2 3\n",
       "  * draw     (draw) int64 0 1 2 3 4 5 6 7 8 ... 192 193 194 195 196 197 198 199\n",
       "Data variables:\n",
       "    b0       (chain, draw) float64 -3.075 18.94 17.4 15.94 ... -2.506 25.35 27.1\n",
       "    b1       (chain, draw) float64 95.89 64.52 64.21 67.26 ... 92.3 72.77 71.42\n",
       "    sigma    (chain, draw) float64 1.116e+03 1.14e+03 ... 1.113e+03 1.117e+03\n",
       "Attributes:\n",
       "    created_at:                 2019-11-14T23:26:56.083499\n",
       "    inference_library:          pymc3\n",
       "    inference_library_version:  3.7"
      ]
     },
     "execution_count": 6,
     "metadata": {},
     "output_type": "execute_result"
    }
   ],
   "source": [
    "idata_pymc3.posterior"
   ]
  },
  {
   "cell_type": "code",
   "execution_count": 7,
   "metadata": {},
   "outputs": [
    {
     "data": {
      "text/html": [
       "<pre>&lt;xarray.Dataset&gt;\n",
       "Dimensions:           (chain: 4, developer: 5, draw: 200)\n",
       "Coordinates:\n",
       "  * chain             (chain) int64 0 1 2 3\n",
       "  * draw              (draw) int64 0 1 2 3 4 5 6 ... 193 194 195 196 197 198 199\n",
       "  * developer         (developer) object &#x27;Alice&#x27; &#x27;Bob&#x27; &#x27;Cole&#x27; &#x27;Danielle&#x27; &#x27;Erika&#x27;\n",
       "Data variables:\n",
       "    energy            (chain, draw) float64 1.468e+03 1.468e+03 ... 1.466e+03\n",
       "    tune              (chain, draw) bool True False False ... False False False\n",
       "    step_size         (chain, draw) float64 0.8691 0.8691 ... 0.9082 0.9082\n",
       "    step_size_bar     (chain, draw) float64 0.6369 0.6369 ... 0.9218 0.9218\n",
       "    tree_size         (chain, draw) float64 3.0 7.0 1.0 3.0 ... 3.0 7.0 3.0 1.0\n",
       "    diverging         (chain, draw) bool False False False ... False False False\n",
       "    depth             (chain, draw) int64 2 3 1 2 2 2 2 3 3 ... 2 2 2 2 2 3 2 1\n",
       "    energy_error      (chain, draw) float64 0.06014 -0.00658 ... 0.06489\n",
       "    lp                (chain, draw) float64 -1.465e+03 -1.466e+03 ... -1.465e+03\n",
       "    mean_tree_accept  (chain, draw) float64 0.6886 0.9033 1.0 ... 0.9597 0.9372\n",
       "    max_energy_error  (chain, draw) float64 0.7113 0.2662 ... -0.2534 0.06489\n",
       "    log_likelihood    (chain, draw, developer) float64 -28.0 -44.36 ... -282.5\n",
       "Attributes:\n",
       "    created_at:                 2019-11-14T23:26:56.170685\n",
       "    inference_library:          pymc3\n",
       "    inference_library_version:  3.7</pre>"
      ],
      "text/plain": [
       "<xarray.Dataset>\n",
       "Dimensions:           (chain: 4, developer: 5, draw: 200)\n",
       "Coordinates:\n",
       "  * chain             (chain) int64 0 1 2 3\n",
       "  * draw              (draw) int64 0 1 2 3 4 5 6 ... 193 194 195 196 197 198 199\n",
       "  * developer         (developer) object 'Alice' 'Bob' 'Cole' 'Danielle' 'Erika'\n",
       "Data variables:\n",
       "    energy            (chain, draw) float64 1.468e+03 1.468e+03 ... 1.466e+03\n",
       "    tune              (chain, draw) bool True False False ... False False False\n",
       "    step_size         (chain, draw) float64 0.8691 0.8691 ... 0.9082 0.9082\n",
       "    step_size_bar     (chain, draw) float64 0.6369 0.6369 ... 0.9218 0.9218\n",
       "    tree_size         (chain, draw) float64 3.0 7.0 1.0 3.0 ... 3.0 7.0 3.0 1.0\n",
       "    diverging         (chain, draw) bool False False False ... False False False\n",
       "    depth             (chain, draw) int64 2 3 1 2 2 2 2 3 3 ... 2 2 2 2 2 3 2 1\n",
       "    energy_error      (chain, draw) float64 0.06014 -0.00658 ... 0.06489\n",
       "    lp                (chain, draw) float64 -1.465e+03 -1.466e+03 ... -1.465e+03\n",
       "    mean_tree_accept  (chain, draw) float64 0.6886 0.9033 1.0 ... 0.9597 0.9372\n",
       "    max_energy_error  (chain, draw) float64 0.7113 0.2662 ... -0.2534 0.06489\n",
       "    log_likelihood    (chain, draw, developer) float64 -28.0 -44.36 ... -282.5\n",
       "Attributes:\n",
       "    created_at:                 2019-11-14T23:26:56.170685\n",
       "    inference_library:          pymc3\n",
       "    inference_library_version:  3.7"
      ]
     },
     "execution_count": 7,
     "metadata": {},
     "output_type": "execute_result"
    }
   ],
   "source": [
    "idata_pymc3.sample_stats"
   ]
  },
  {
   "cell_type": "code",
   "execution_count": 8,
   "metadata": {},
   "outputs": [
    {
     "data": {
      "text/html": [
       "<pre>&lt;xarray.Dataset&gt;\n",
       "Dimensions:         (chain: 4, developer: 5, draw: 200)\n",
       "Coordinates:\n",
       "  * chain           (chain) int64 0 1 2 3\n",
       "  * draw            (draw) int64 0 1 2 3 4 5 6 7 ... 193 194 195 196 197 198 199\n",
       "  * developer       (developer) object &#x27;Alice&#x27; &#x27;Bob&#x27; &#x27;Cole&#x27; &#x27;Danielle&#x27; &#x27;Erika&#x27;\n",
       "Data variables:\n",
       "    slack_comments  (chain, draw, developer) float64 87.73 ... -1.204e+03\n",
       "Attributes:\n",
       "    created_at:                 2019-11-14T23:26:56.173735\n",
       "    inference_library:          pymc3\n",
       "    inference_library_version:  3.7</pre>"
      ],
      "text/plain": [
       "<xarray.Dataset>\n",
       "Dimensions:         (chain: 4, developer: 5, draw: 200)\n",
       "Coordinates:\n",
       "  * chain           (chain) int64 0 1 2 3\n",
       "  * draw            (draw) int64 0 1 2 3 4 5 6 7 ... 193 194 195 196 197 198 199\n",
       "  * developer       (developer) object 'Alice' 'Bob' 'Cole' 'Danielle' 'Erika'\n",
       "Data variables:\n",
       "    slack_comments  (chain, draw, developer) float64 87.73 ... -1.204e+03\n",
       "Attributes:\n",
       "    created_at:                 2019-11-14T23:26:56.173735\n",
       "    inference_library:          pymc3\n",
       "    inference_library_version:  3.7"
      ]
     },
     "execution_count": 8,
     "metadata": {},
     "output_type": "execute_result"
    }
   ],
   "source": [
    "idata_pymc3.posterior_predictive"
   ]
  },
  {
   "cell_type": "code",
   "execution_count": 9,
   "metadata": {},
   "outputs": [
    {
     "data": {
      "text/html": [
       "<pre>&lt;xarray.Dataset&gt;\n",
       "Dimensions:         (developer: 5)\n",
       "Coordinates:\n",
       "  * developer       (developer) object &#x27;Alice&#x27; &#x27;Bob&#x27; &#x27;Cole&#x27; &#x27;Danielle&#x27; &#x27;Erika&#x27;\n",
       "Data variables:\n",
       "    slack_comments  (developer) float64 7.5e+03 1.01e+04 ... 2.52e+04 2.75e+04\n",
       "Attributes:\n",
       "    created_at:                 2019-11-14T23:26:56.177099\n",
       "    inference_library:          pymc3\n",
       "    inference_library_version:  3.7</pre>"
      ],
      "text/plain": [
       "<xarray.Dataset>\n",
       "Dimensions:         (developer: 5)\n",
       "Coordinates:\n",
       "  * developer       (developer) object 'Alice' 'Bob' 'Cole' 'Danielle' 'Erika'\n",
       "Data variables:\n",
       "    slack_comments  (developer) float64 7.5e+03 1.01e+04 ... 2.52e+04 2.75e+04\n",
       "Attributes:\n",
       "    created_at:                 2019-11-14T23:26:56.177099\n",
       "    inference_library:          pymc3\n",
       "    inference_library_version:  3.7"
      ]
     },
     "execution_count": 9,
     "metadata": {},
     "output_type": "execute_result"
    }
   ],
   "source": [
    "idata_pymc3.observed_data"
   ]
  },
  {
   "cell_type": "code",
   "execution_count": 10,
   "metadata": {},
   "outputs": [
    {
     "data": {
      "text/html": [
       "<pre>&lt;xarray.Dataset&gt;\n",
       "Dimensions:            (developer: 5)\n",
       "Coordinates:\n",
       "  * developer          (developer) object &#x27;Alice&#x27; &#x27;Bob&#x27; ... &#x27;Danielle&#x27; &#x27;Erika&#x27;\n",
       "Data variables:\n",
       "    time_since_joined  (developer) float64 4.5 6.0 7.0 12.0 18.0\n",
       "Attributes:\n",
       "    created_at:                 2019-11-14T23:26:56.177781\n",
       "    inference_library:          pymc3\n",
       "    inference_library_version:  3.7</pre>"
      ],
      "text/plain": [
       "<xarray.Dataset>\n",
       "Dimensions:            (developer: 5)\n",
       "Coordinates:\n",
       "  * developer          (developer) object 'Alice' 'Bob' ... 'Danielle' 'Erika'\n",
       "Data variables:\n",
       "    time_since_joined  (developer) float64 4.5 6.0 7.0 12.0 18.0\n",
       "Attributes:\n",
       "    created_at:                 2019-11-14T23:26:56.177781\n",
       "    inference_library:          pymc3\n",
       "    inference_library_version:  3.7"
      ]
     },
     "execution_count": 10,
     "metadata": {},
     "output_type": "execute_result"
    }
   ],
   "source": [
    "idata_pymc3.constant_data"
   ]
  },
  {
   "cell_type": "code",
   "execution_count": 11,
   "metadata": {},
   "outputs": [
    {
     "data": {
      "text/html": [
       "<pre>&lt;xarray.Dataset&gt;\n",
       "Dimensions:         (chain: 1, developer: 5, draw: 150)\n",
       "Coordinates:\n",
       "  * chain           (chain) int64 0\n",
       "  * draw            (draw) int64 0 1 2 3 4 5 6 7 ... 143 144 145 146 147 148 149\n",
       "  * developer       (developer) object &#x27;Alice&#x27; &#x27;Bob&#x27; &#x27;Cole&#x27; &#x27;Danielle&#x27; &#x27;Erika&#x27;\n",
       "Data variables:\n",
       "    b1              (chain, draw) float64 0.7413 -5.262 -13.12 ... 14.67 -17.09\n",
       "    sigma           (chain, draw) float64 9.342 2.451 34.68 ... 3.495 13.73\n",
       "    sigma_log__     (chain, draw) float64 2.235 0.8964 3.546 ... 1.251 2.619\n",
       "    b0              (chain, draw) float64 -12.77 -0.09907 6.602 ... 1.464 -11.77\n",
       "    slack_comments  (chain, draw, developer) float64 -22.21 -6.414 ... -318.9\n",
       "Attributes:\n",
       "    created_at:                 2019-11-14T23:26:56.175309\n",
       "    inference_library:          pymc3\n",
       "    inference_library_version:  3.7</pre>"
      ],
      "text/plain": [
       "<xarray.Dataset>\n",
       "Dimensions:         (chain: 1, developer: 5, draw: 150)\n",
       "Coordinates:\n",
       "  * chain           (chain) int64 0\n",
       "  * draw            (draw) int64 0 1 2 3 4 5 6 7 ... 143 144 145 146 147 148 149\n",
       "  * developer       (developer) object 'Alice' 'Bob' 'Cole' 'Danielle' 'Erika'\n",
       "Data variables:\n",
       "    b1              (chain, draw) float64 0.7413 -5.262 -13.12 ... 14.67 -17.09\n",
       "    sigma           (chain, draw) float64 9.342 2.451 34.68 ... 3.495 13.73\n",
       "    sigma_log__     (chain, draw) float64 2.235 0.8964 3.546 ... 1.251 2.619\n",
       "    b0              (chain, draw) float64 -12.77 -0.09907 6.602 ... 1.464 -11.77\n",
       "    slack_comments  (chain, draw, developer) float64 -22.21 -6.414 ... -318.9\n",
       "Attributes:\n",
       "    created_at:                 2019-11-14T23:26:56.175309\n",
       "    inference_library:          pymc3\n",
       "    inference_library_version:  3.7"
      ]
     },
     "execution_count": 11,
     "metadata": {},
     "output_type": "execute_result"
    }
   ],
   "source": [
    "idata_pymc3.prior"
   ]
  },
  {
   "cell_type": "code",
   "execution_count": null,
   "metadata": {},
   "outputs": [],
   "source": []
  }
 ],
 "metadata": {
  "kernelspec": {
   "display_name": "Python 3",
   "language": "python",
   "name": "python3"
  },
  "language_info": {
   "codemirror_mode": {
    "name": "ipython",
    "version": 3
   },
   "file_extension": ".py",
   "mimetype": "text/x-python",
   "name": "python",
   "nbconvert_exporter": "python",
   "pygments_lexer": "ipython3",
   "version": "3.6.8"
  }
 },
 "nbformat": 4,
 "nbformat_minor": 2
}
