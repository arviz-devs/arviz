{
 "cells": [
  {
   "cell_type": "code",
   "execution_count": 1,
   "metadata": {},
   "outputs": [],
   "source": [
    "# Loading libraries\n",
    "import arviz as az\n",
    "import pymc as pm\n",
    "import pytensor.tensor as pt\n",
    "import pandas as pd\n",
    "import numpy as np"
   ]
  },
  {
   "cell_type": "code",
   "execution_count": 2,
   "metadata": {},
   "outputs": [],
   "source": [
    "# Reading the data\n",
    "df = pd.read_csv('../rugby/rugby.csv')"
   ]
  },
  {
   "cell_type": "code",
   "execution_count": 3,
   "metadata": {},
   "outputs": [],
   "source": [
    "observed_home_goals = df.home_score.values\n",
    "observed_away_goals = df.away_score.values\n",
    "\n",
    "home_team = df.i_home.values\n",
    "away_team = df.i_away.values\n",
    "\n",
    "num_teams = len(df.i_home.drop_duplicates())\n",
    "num_games = len(home_team)\n",
    "\n",
    "teams = np.array(['Wales', 'France', 'Ireland', 'Scotland', 'Italy', 'England'])\n",
    "matches = [f\"{home} {away}\" for home, away in zip(df.home_team, df.away_team)]"
   ]
  },
  {
   "cell_type": "code",
   "execution_count": 4,
   "metadata": {},
   "outputs": [],
   "source": [
    "# building the model\n",
    "coords = {\n",
    "    \"team\": teams,\n",
    "    \"match\": matches,\n",
    "    \"field\": [\"home\", \"away\"],\n",
    "}\n",
    "with pm.Model(coords=coords) as model:\n",
    "    # global model parameters\n",
    "    sd_att = pm.HalfNormal('sd_att', sigma=2)\n",
    "    sd_def = pm.HalfNormal('sd_def', sigma=2)\n",
    "    sd_att_field = pm.HalfNormal('sd_att_field', sigma=2)\n",
    "    sd_def_field = pm.HalfNormal('sd_def_field', sigma=2)\n",
    "    intercept = pm.Normal('intercept', mu=3, sigma=1, dims=\"field\")\n",
    "    \n",
    "    # team-specific model parameters\n",
    "    atts_team = pm.Normal(\"atts_team\", mu=0, sigma=1, dims=\"team\") * sd_att\n",
    "    defs_team = pm.Normal(\"defs_team\", mu=0, sigma=1, dims=\"team\") * sd_def\n",
    "\n",
    "    # team-field specific parameters\n",
    "    atts = pm.Normal(\"atts\", mu=0, sigma=1, dims=(\"field\", \"team\")) * sd_att_field + atts_team\n",
    "    defs = pm.Normal(\"defs\", mu=0, sigma=1, dims=(\"field\", \"team\")) * sd_def_field + defs_team\n",
    " \n",
    "    #atts_star = pm.Deterministic('atts_star', atts - pt.mean(atts), dims=(\"field\", \"team\"))\n",
    "    #defs_star = pm.Deterministic('defs_star', defs - pt.mean(defs), dims=(\"field\", \"team\"))\n",
    "    atts_star = atts - pt.mean(atts, axis=0)\n",
    "    defs_star = defs - pt.mean(defs, axis=0)\n",
    "    home_theta = pt.exp(intercept[0] + atts_star[0, home_team] + defs_star[1, away_team])\n",
    "    away_theta = pt.exp(intercept[1] + atts_star[1, away_team] + defs_star[0, home_team])\n",
    "    \n",
    "    # likelihood of observed data\n",
    "    pm.Poisson('home_points', mu=home_theta, observed=observed_home_goals, dims=\"match\")\n",
    "    pm.Poisson('away_points', mu=away_theta, observed=observed_away_goals, dims=\"match\")"
   ]
  },
  {
   "cell_type": "code",
   "execution_count": 5,
   "metadata": {},
   "outputs": [
    {
     "name": "stderr",
     "output_type": "stream",
     "text": [
      "Sampling: [atts, atts_team, away_points, defs, defs_team, home_points, intercept, sd_att, sd_att_field, sd_def, sd_def_field]\n",
      "Auto-assigning NUTS sampler...\n",
      "Initializing NUTS using jitter+adapt_diag...\n",
      "Multiprocess sampling (4 chains in 4 jobs)\n",
      "NUTS: [sd_att, sd_def, sd_att_field, sd_def_field, intercept, atts_team, defs_team, atts, defs]\n"
     ]
    },
    {
     "data": {
      "text/html": [
       "\n",
       "<style>\n",
       "    /* Turns off some styling */\n",
       "    progress {\n",
       "        /* gets rid of default border in Firefox and Opera. */\n",
       "        border: none;\n",
       "        /* Needs to be in here for Safari polyfill so background images work as expected. */\n",
       "        background-size: auto;\n",
       "    }\n",
       "    progress:not([value]), progress:not([value])::-webkit-progress-bar {\n",
       "        background: repeating-linear-gradient(45deg, #7e7e7e, #7e7e7e 10px, #5c5c5c 10px, #5c5c5c 20px);\n",
       "    }\n",
       "    .progress-bar-interrupted, .progress-bar-interrupted::-webkit-progress-bar {\n",
       "        background: #F44336;\n",
       "    }\n",
       "</style>\n"
      ],
      "text/plain": [
       "<IPython.core.display.HTML object>"
      ]
     },
     "metadata": {},
     "output_type": "display_data"
    },
    {
     "data": {
      "text/html": [
       "\n",
       "    <div>\n",
       "      <progress value='6000' class='' max='6000' style='width:300px; height:20px; vertical-align: middle;'></progress>\n",
       "      100.00% [6000/6000 00:21&lt;00:00 Sampling 4 chains, 0 divergences]\n",
       "    </div>\n",
       "    "
      ],
      "text/plain": [
       "<IPython.core.display.HTML object>"
      ]
     },
     "metadata": {},
     "output_type": "display_data"
    },
    {
     "name": "stderr",
     "output_type": "stream",
     "text": [
      "Sampling 4 chains for 1_000 tune and 500 draw iterations (4_000 + 2_000 draws total) took 21 seconds.\n",
      "/home/oriol/bin/miniforge3/envs/general/lib/python3.11/site-packages/arviz/data/inference_data.py:1533: UserWarning: The group log_prior is not defined in the InferenceData scheme\n",
      "  warnings.warn(\n",
      "/home/oriol/bin/miniforge3/envs/general/lib/python3.11/site-packages/arviz/data/inference_data.py:1533: UserWarning: The group log_prior is not defined in the InferenceData scheme\n",
      "  warnings.warn(\n",
      "/home/oriol/bin/miniforge3/envs/general/lib/python3.11/site-packages/arviz/data/inference_data.py:1642: UserWarning: log_prior group is not defined in the InferenceData scheme\n",
      "  warnings.warn(\n",
      "Sampling: [away_points, home_points]\n"
     ]
    },
    {
     "data": {
      "text/html": [
       "\n",
       "<style>\n",
       "    /* Turns off some styling */\n",
       "    progress {\n",
       "        /* gets rid of default border in Firefox and Opera. */\n",
       "        border: none;\n",
       "        /* Needs to be in here for Safari polyfill so background images work as expected. */\n",
       "        background-size: auto;\n",
       "    }\n",
       "    progress:not([value]), progress:not([value])::-webkit-progress-bar {\n",
       "        background: repeating-linear-gradient(45deg, #7e7e7e, #7e7e7e 10px, #5c5c5c 10px, #5c5c5c 20px);\n",
       "    }\n",
       "    .progress-bar-interrupted, .progress-bar-interrupted::-webkit-progress-bar {\n",
       "        background: #F44336;\n",
       "    }\n",
       "</style>\n"
      ],
      "text/plain": [
       "<IPython.core.display.HTML object>"
      ]
     },
     "metadata": {},
     "output_type": "display_data"
    },
    {
     "data": {
      "text/html": [
       "\n",
       "    <div>\n",
       "      <progress value='2000' class='' max='2000' style='width:300px; height:20px; vertical-align: middle;'></progress>\n",
       "      100.00% [2000/2000 00:00&lt;00:00]\n",
       "    </div>\n",
       "    "
      ],
      "text/plain": [
       "<IPython.core.display.HTML object>"
      ]
     },
     "metadata": {},
     "output_type": "display_data"
    }
   ],
   "source": [
    "with model:\n",
    "    idata = pm.sample_prior_predictive()\n",
    "    idata.extend(\n",
    "        pm.sample(\n",
    "            500,\n",
    "            tune=1000,\n",
    "            target_accept=0.9,\n",
    "            random_seed=11,\n",
    "            idata_kwargs={\"log_likelihood\": True, \"log_prior\": True}\n",
    "        )\n",
    "    )\n",
    "    pm.sample_posterior_predictive(idata, extend_inferencedata=True)"
   ]
  },
  {
   "cell_type": "code",
   "execution_count": 7,
   "metadata": {},
   "outputs": [
    {
     "data": {
      "text/plain": [
       "'rugby_field.nc'"
      ]
     },
     "execution_count": 7,
     "metadata": {},
     "output_type": "execute_result"
    }
   ],
   "source": [
    "# Storing the model to .nc format\n",
    "idata.to_netcdf('rugby_field.nc')"
   ]
  },
  {
   "cell_type": "code",
   "execution_count": null,
   "metadata": {},
   "outputs": [],
   "source": []
  }
 ],
 "metadata": {
  "kernelspec": {
   "display_name": "Python 3 (ipykernel)",
   "language": "python",
   "name": "python3"
  },
  "language_info": {
   "codemirror_mode": {
    "name": "ipython",
    "version": 3
   },
   "file_extension": ".py",
   "mimetype": "text/x-python",
   "name": "python",
   "nbconvert_exporter": "python",
   "pygments_lexer": "ipython3",
   "version": "3.11.7"
  }
 },
 "nbformat": 4,
 "nbformat_minor": 4
}
